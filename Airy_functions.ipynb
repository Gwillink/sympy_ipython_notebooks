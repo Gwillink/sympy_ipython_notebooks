{
 "metadata": {
  "name": "SYM_Airy"
 },
 "nbformat": 3,
 "nbformat_minor": 0,
 "worksheets": [
  {
   "cells": [
    {
     "cell_type": "code",
     "collapsed": false,
     "input": "%load_ext sympyprt",
     "language": "python",
     "metadata": {},
     "outputs": [],
     "prompt_number": 1
    },
    {
     "cell_type": "code",
     "collapsed": false,
     "input": "from sympy import *",
     "language": "python",
     "metadata": {},
     "outputs": [],
     "prompt_number": 2
    },
    {
     "cell_type": "code",
     "collapsed": false,
     "input": "x = Symbol(\"x\", real=True)\ny = Symbol(\"y\", real=True)",
     "language": "python",
     "metadata": {},
     "outputs": [],
     "prompt_number": 55
    },
    {
     "cell_type": "code",
     "collapsed": false,
     "input": "# diff",
     "language": "python",
     "metadata": {},
     "outputs": [],
     "prompt_number": 99
    },
    {
     "cell_type": "code",
     "collapsed": false,
     "input": "airyai(x)",
     "language": "python",
     "metadata": {},
     "outputs": [
      {
       "output_type": "pyout",
       "png": "[encoded data removed]",
       "prompt_number": 4,
       "text": "airyai(x)"
      }
     ],
     "prompt_number": 4
    },
    {
     "cell_type": "code",
     "collapsed": false,
     "input": "diff(_, x)",
     "language": "python",
     "metadata": {},
     "outputs": [
      {
       "output_type": "pyout",
       "png": "[encoded data removed]",
       "prompt_number": 5,
       "text": "airyaiprime(x)"
      }
     ],
     "prompt_number": 5
    },
    {
     "cell_type": "code",
     "collapsed": false,
     "input": "diff(_, x)",
     "language": "python",
     "metadata": {},
     "outputs": [
      {
       "output_type": "pyout",
       "png": "[encoded data removed]",
       "prompt_number": 6,
       "text": "x\u22c5airyai(x)"
      }
     ],
     "prompt_number": 6
    },
    {
     "cell_type": "code",
     "collapsed": false,
     "input": "airybi(x)",
     "language": "python",
     "metadata": {},
     "outputs": [
      {
       "output_type": "pyout",
       "png": "[encoded data removed]",
       "prompt_number": 8,
       "text": "airybi(x)"
      }
     ],
     "prompt_number": 8
    },
    {
     "cell_type": "code",
     "collapsed": false,
     "input": "diff(_, x)",
     "language": "python",
     "metadata": {},
     "outputs": [
      {
       "output_type": "pyout",
       "png": "[encoded data removed]",
       "prompt_number": 9,
       "text": "airybiprime(x)"
      }
     ],
     "prompt_number": 9
    },
    {
     "cell_type": "code",
     "collapsed": false,
     "input": "diff(_, x)",
     "language": "python",
     "metadata": {},
     "outputs": [
      {
       "output_type": "pyout",
       "png": "[encoded data removed]",
       "prompt_number": 10,
       "text": "x\u22c5airybi(x)"
      }
     ],
     "prompt_number": 10
    },
    {
     "cell_type": "code",
     "collapsed": false,
     "input": "airyaiprime(x)",
     "language": "python",
     "metadata": {},
     "outputs": [
      {
       "output_type": "pyout",
       "png": "[encoded data removed]",
       "prompt_number": 11,
       "text": "airyaiprime(x)"
      }
     ],
     "prompt_number": 11
    },
    {
     "cell_type": "code",
     "collapsed": false,
     "input": "diff(_, x)",
     "language": "python",
     "metadata": {},
     "outputs": [
      {
       "output_type": "pyout",
       "png": "[encoded data removed]",
       "prompt_number": 12,
       "text": "x\u22c5airyai(x)"
      }
     ],
     "prompt_number": 12
    },
    {
     "cell_type": "code",
     "collapsed": false,
     "input": "airybiprime(x)",
     "language": "python",
     "metadata": {},
     "outputs": [
      {
       "output_type": "pyout",
       "png": "[encoded data removed]",
       "prompt_number": 13,
       "text": "airybiprime(x)"
      }
     ],
     "prompt_number": 13
    },
    {
     "cell_type": "code",
     "collapsed": false,
     "input": "diff(_, x)",
     "language": "python",
     "metadata": {},
     "outputs": [
      {
       "output_type": "pyout",
       "png": "[encoded data removed]",
       "prompt_number": 14,
       "text": "x\u22c5airybi(x)"
      }
     ],
     "prompt_number": 14
    },
    {
     "cell_type": "code",
     "collapsed": false,
     "input": "# Specific values",
     "language": "python",
     "metadata": {},
     "outputs": [],
     "prompt_number": 16
    },
    {
     "cell_type": "code",
     "collapsed": false,
     "input": "airyai(0)",
     "language": "python",
     "metadata": {},
     "outputs": [
      {
       "output_type": "pyout",
       "png": "[encoded data removed]",
       "prompt_number": 17,
       "text": "\n 3 ___  \n \u2572\u2571 3   \n\u2500\u2500\u2500\u2500\u2500\u2500\u2500\u2500\n3\u22c5\u0393(2/3)"
      }
     ],
     "prompt_number": 17
    },
    {
     "cell_type": "code",
     "collapsed": false,
     "input": "airybi(0)",
     "language": "python",
     "metadata": {},
     "outputs": [
      {
       "output_type": "pyout",
       "png": "[encoded data removed]",
       "prompt_number": 18,
       "text": "\n   5/6  \n  3     \n\u2500\u2500\u2500\u2500\u2500\u2500\u2500\u2500\n3\u22c5\u0393(2/3)"
      }
     ],
     "prompt_number": 18
    },
    {
     "cell_type": "code",
     "collapsed": false,
     "input": "airyaiprime(0)",
     "language": "python",
     "metadata": {},
     "outputs": [
      {
       "output_type": "pyout",
       "png": "[encoded data removed]",
       "prompt_number": 19,
       "text": "\n   2/3  \n -3     \n\u2500\u2500\u2500\u2500\u2500\u2500\u2500\u2500\n3\u22c5\u0393(1/3)"
      }
     ],
     "prompt_number": 19
    },
    {
     "cell_type": "code",
     "collapsed": false,
     "input": "airybiprime(0)",
     "language": "python",
     "metadata": {},
     "outputs": [
      {
       "output_type": "pyout",
       "png": "[encoded data removed]",
       "prompt_number": 20,
       "text": "\n6 ___ \n\u2572\u2571 3  \n\u2500\u2500\u2500\u2500\u2500\u2500\n\u0393(1/3)"
      }
     ],
     "prompt_number": 20
    },
    {
     "cell_type": "code",
     "collapsed": false,
     "input": "# Definition via hyper",
     "language": "python",
     "metadata": {},
     "outputs": [],
     "prompt_number": 21
    },
    {
     "cell_type": "code",
     "collapsed": false,
     "input": "airyai(x).rewrite(hyper)",
     "language": "python",
     "metadata": {},
     "outputs": [
      {
       "output_type": "pyout",
       "png": "[encoded data removed]",
       "prompt_number": 22,
       "text": "\n              \u239b    \u2502  3\u239e              \u239b    \u2502  3\u239e\n   2/3    \u250c\u2500  \u239c    \u2502 x \u239f   3 ___  \u250c\u2500  \u239c    \u2502 x \u239f\n  3   \u22c5x\u22c5 \u251c\u2500  \u239c    \u2502 \u2500\u2500\u239f   \u2572\u2571 3 \u22c5 \u251c\u2500  \u239c    \u2502 \u2500\u2500\u239f\n         0\u2575 1 \u239d4/3 \u2502 9 \u23a0         0\u2575 1 \u239d2/3 \u2502 9 \u23a0\n- \u2500\u2500\u2500\u2500\u2500\u2500\u2500\u2500\u2500\u2500\u2500\u2500\u2500\u2500\u2500\u2500\u2500\u2500\u2500\u2500\u2500\u2500 + \u2500\u2500\u2500\u2500\u2500\u2500\u2500\u2500\u2500\u2500\u2500\u2500\u2500\u2500\u2500\u2500\u2500\u2500\u2500\u2500\u2500\n         3\u22c5\u0393(1/3)                 3\u22c5\u0393(2/3)      "
      }
     ],
     "prompt_number": 22
    },
    {
     "cell_type": "code",
     "collapsed": false,
     "input": "hyperexpand(_)",
     "language": "python",
     "metadata": {},
     "outputs": [
      {
       "output_type": "pyout",
       "png": "[encoded data removed]",
       "prompt_number": 23,
       "text": "\n             \u239b         3/2\u239e                \u239b        3/2\u239e       \n  ___        \u239c      2\u22c5x   \u239f     ___        \u239c     2\u22c5x   \u239f       \n\u2572\u2571 x \u22c5besseli\u239c-1/3, \u2500\u2500\u2500\u2500\u2500\u2500\u239f   \u2572\u2571 x \u22c5besseli\u239c1/3, \u2500\u2500\u2500\u2500\u2500\u2500\u239f\u22c5\u0393(4/3)\n             \u239d        3   \u23a0                \u239d       3   \u23a0       \n\u2500\u2500\u2500\u2500\u2500\u2500\u2500\u2500\u2500\u2500\u2500\u2500\u2500\u2500\u2500\u2500\u2500\u2500\u2500\u2500\u2500\u2500\u2500\u2500\u2500\u2500\u2500 - \u2500\u2500\u2500\u2500\u2500\u2500\u2500\u2500\u2500\u2500\u2500\u2500\u2500\u2500\u2500\u2500\u2500\u2500\u2500\u2500\u2500\u2500\u2500\u2500\u2500\u2500\u2500\u2500\u2500\u2500\u2500\u2500\u2500\n             3                              \u0393(1/3)             "
      }
     ],
     "prompt_number": 23
    },
    {
     "cell_type": "code",
     "collapsed": false,
     "input": "airybi(x).rewrite(hyper)",
     "language": "python",
     "metadata": {},
     "outputs": [
      {
       "output_type": "pyout",
       "png": "[encoded data removed]",
       "prompt_number": 28,
       "text": "\n             \u239b    \u2502  3\u239e             \u239b    \u2502  3\u239e\n6 ___    \u250c\u2500  \u239c    \u2502 x \u239f    5/6  \u250c\u2500  \u239c    \u2502 x \u239f\n\u2572\u2571 3 \u22c5x\u22c5 \u251c\u2500  \u239c    \u2502 \u2500\u2500\u239f   3   \u22c5 \u251c\u2500  \u239c    \u2502 \u2500\u2500\u239f\n        0\u2575 1 \u239d4/3 \u2502 9 \u23a0        0\u2575 1 \u239d2/3 \u2502 9 \u23a0\n\u2500\u2500\u2500\u2500\u2500\u2500\u2500\u2500\u2500\u2500\u2500\u2500\u2500\u2500\u2500\u2500\u2500\u2500\u2500\u2500\u2500\u2500\u2500 + \u2500\u2500\u2500\u2500\u2500\u2500\u2500\u2500\u2500\u2500\u2500\u2500\u2500\u2500\u2500\u2500\u2500\u2500\u2500\u2500\n         \u0393(1/3)                 3\u22c5\u0393(2/3)      "
      }
     ],
     "prompt_number": 28
    },
    {
     "cell_type": "code",
     "collapsed": false,
     "input": "hyperexpand(_)",
     "language": "python",
     "metadata": {},
     "outputs": [
      {
       "output_type": "pyout",
       "png": "[encoded data removed]",
       "prompt_number": 29,
       "text": "\n                   \u239b         3/2\u239e                      \u239b        3/2\u239e       \n  ___   ___        \u239c      2\u22c5x   \u239f     ___   ___        \u239c     2\u22c5x   \u239f       \n\u2572\u2571 3 \u22c5\u2572\u2571 x \u22c5besseli\u239c-1/3, \u2500\u2500\u2500\u2500\u2500\u2500\u239f   \u2572\u2571 3 \u22c5\u2572\u2571 x \u22c5besseli\u239c1/3, \u2500\u2500\u2500\u2500\u2500\u2500\u239f\u22c5\u0393(4/3)\n                   \u239d        3   \u23a0                      \u239d       3   \u23a0       \n\u2500\u2500\u2500\u2500\u2500\u2500\u2500\u2500\u2500\u2500\u2500\u2500\u2500\u2500\u2500\u2500\u2500\u2500\u2500\u2500\u2500\u2500\u2500\u2500\u2500\u2500\u2500\u2500\u2500\u2500\u2500\u2500\u2500 + \u2500\u2500\u2500\u2500\u2500\u2500\u2500\u2500\u2500\u2500\u2500\u2500\u2500\u2500\u2500\u2500\u2500\u2500\u2500\u2500\u2500\u2500\u2500\u2500\u2500\u2500\u2500\u2500\u2500\u2500\u2500\u2500\u2500\u2500\u2500\u2500\u2500\u2500\u2500\n                3                                    \u0393(1/3)                "
      }
     ],
     "prompt_number": 29
    },
    {
     "cell_type": "code",
     "collapsed": false,
     "input": "airyaiprime(x).rewrite(hyper)",
     "language": "python",
     "metadata": {},
     "outputs": [
      {
       "output_type": "pyout",
       "png": "[encoded data removed]",
       "prompt_number": 30,
       "text": "\n              \u239b    \u2502  3\u239e             \u239b    \u2502  3\u239e\n3 ___  2  \u250c\u2500  \u239c    \u2502 x \u239f    2/3  \u250c\u2500  \u239c    \u2502 x \u239f\n\u2572\u2571 3 \u22c5x \u22c5 \u251c\u2500  \u239c    \u2502 \u2500\u2500\u239f   3   \u22c5 \u251c\u2500  \u239c    \u2502 \u2500\u2500\u239f\n         0\u2575 1 \u239d5/3 \u2502 9 \u23a0        0\u2575 1 \u239d1/3 \u2502 9 \u23a0\n\u2500\u2500\u2500\u2500\u2500\u2500\u2500\u2500\u2500\u2500\u2500\u2500\u2500\u2500\u2500\u2500\u2500\u2500\u2500\u2500\u2500\u2500\u2500\u2500 - \u2500\u2500\u2500\u2500\u2500\u2500\u2500\u2500\u2500\u2500\u2500\u2500\u2500\u2500\u2500\u2500\u2500\u2500\u2500\u2500\n        6\u22c5\u0393(2/3)                 3\u22c5\u0393(1/3)      "
      }
     ],
     "prompt_number": 30
    },
    {
     "cell_type": "code",
     "collapsed": false,
     "input": "hyperexpand(_)",
     "language": "python",
     "metadata": {},
     "outputs": [
      {
       "output_type": "pyout",
       "png": "[encoded data removed]",
       "prompt_number": 31,
       "text": "\n           \u239b         3/2\u239e            \u239b        3/2\u239e       \n           \u239c      2\u22c5x   \u239f            \u239c     2\u22c5x   \u239f       \n  x\u22c5besseli\u239c-2/3, \u2500\u2500\u2500\u2500\u2500\u2500\u239f   x\u22c5besseli\u239c2/3, \u2500\u2500\u2500\u2500\u2500\u2500\u239f\u22c5\u0393(5/3)\n           \u239d        3   \u23a0            \u239d       3   \u23a0       \n- \u2500\u2500\u2500\u2500\u2500\u2500\u2500\u2500\u2500\u2500\u2500\u2500\u2500\u2500\u2500\u2500\u2500\u2500\u2500\u2500\u2500\u2500\u2500 + \u2500\u2500\u2500\u2500\u2500\u2500\u2500\u2500\u2500\u2500\u2500\u2500\u2500\u2500\u2500\u2500\u2500\u2500\u2500\u2500\u2500\u2500\u2500\u2500\u2500\u2500\u2500\u2500\u2500\n             3                         2\u22c5\u0393(2/3)          "
      }
     ],
     "prompt_number": 31
    },
    {
     "cell_type": "code",
     "collapsed": false,
     "input": "airybi(x).rewrite(hyper)",
     "language": "python",
     "metadata": {},
     "outputs": [
      {
       "output_type": "pyout",
       "png": "[encoded data removed]",
       "prompt_number": 32,
       "text": "\n             \u239b    \u2502  3\u239e             \u239b    \u2502  3\u239e\n6 ___    \u250c\u2500  \u239c    \u2502 x \u239f    5/6  \u250c\u2500  \u239c    \u2502 x \u239f\n\u2572\u2571 3 \u22c5x\u22c5 \u251c\u2500  \u239c    \u2502 \u2500\u2500\u239f   3   \u22c5 \u251c\u2500  \u239c    \u2502 \u2500\u2500\u239f\n        0\u2575 1 \u239d4/3 \u2502 9 \u23a0        0\u2575 1 \u239d2/3 \u2502 9 \u23a0\n\u2500\u2500\u2500\u2500\u2500\u2500\u2500\u2500\u2500\u2500\u2500\u2500\u2500\u2500\u2500\u2500\u2500\u2500\u2500\u2500\u2500\u2500\u2500 + \u2500\u2500\u2500\u2500\u2500\u2500\u2500\u2500\u2500\u2500\u2500\u2500\u2500\u2500\u2500\u2500\u2500\u2500\u2500\u2500\n         \u0393(1/3)                 3\u22c5\u0393(2/3)      "
      }
     ],
     "prompt_number": 32
    },
    {
     "cell_type": "code",
     "collapsed": false,
     "input": "hyperexpand(_)",
     "language": "python",
     "metadata": {},
     "outputs": [
      {
       "output_type": "pyout",
       "png": "[encoded data removed]",
       "prompt_number": 33,
       "text": "\n                   \u239b         3/2\u239e                      \u239b        3/2\u239e       \n  ___   ___        \u239c      2\u22c5x   \u239f     ___   ___        \u239c     2\u22c5x   \u239f       \n\u2572\u2571 3 \u22c5\u2572\u2571 x \u22c5besseli\u239c-1/3, \u2500\u2500\u2500\u2500\u2500\u2500\u239f   \u2572\u2571 3 \u22c5\u2572\u2571 x \u22c5besseli\u239c1/3, \u2500\u2500\u2500\u2500\u2500\u2500\u239f\u22c5\u0393(4/3)\n                   \u239d        3   \u23a0                      \u239d       3   \u23a0       \n\u2500\u2500\u2500\u2500\u2500\u2500\u2500\u2500\u2500\u2500\u2500\u2500\u2500\u2500\u2500\u2500\u2500\u2500\u2500\u2500\u2500\u2500\u2500\u2500\u2500\u2500\u2500\u2500\u2500\u2500\u2500\u2500\u2500 + \u2500\u2500\u2500\u2500\u2500\u2500\u2500\u2500\u2500\u2500\u2500\u2500\u2500\u2500\u2500\u2500\u2500\u2500\u2500\u2500\u2500\u2500\u2500\u2500\u2500\u2500\u2500\u2500\u2500\u2500\u2500\u2500\u2500\u2500\u2500\u2500\u2500\u2500\u2500\n                3                                    \u0393(1/3)                "
      }
     ],
     "prompt_number": 33
    },
    {
     "cell_type": "code",
     "collapsed": false,
     "input": "airyai(x).rewrite(meijerg)",
     "language": "python",
     "metadata": {},
     "outputs": [
      {
       "output_type": "pyout",
       "png": "[encoded data removed]",
       "prompt_number": 98,
       "text": "airyai(x)"
      }
     ],
     "prompt_number": 98
    },
    {
     "cell_type": "code",
     "collapsed": false,
     "input": "# Symmetries",
     "language": "python",
     "metadata": {},
     "outputs": [],
     "prompt_number": 36
    },
    {
     "cell_type": "code",
     "collapsed": false,
     "input": "z = Symbol(\"z\", complex=True)",
     "language": "python",
     "metadata": {},
     "outputs": [],
     "prompt_number": 37
    },
    {
     "cell_type": "code",
     "collapsed": false,
     "input": "conjugate(airyai(z))",
     "language": "python",
     "metadata": {},
     "outputs": [
      {
       "output_type": "pyout",
       "png": "[encoded data removed]",
       "prompt_number": 41,
       "text": "\n      \u239b_\u239e\nairyai\u239dz\u23a0"
      }
     ],
     "prompt_number": 41
    },
    {
     "cell_type": "code",
     "collapsed": false,
     "input": "conjugate(airybi(z))",
     "language": "python",
     "metadata": {},
     "outputs": [
      {
       "output_type": "pyout",
       "png": "[encoded data removed]",
       "prompt_number": 40,
       "text": "\n      \u239b_\u239e\nairybi\u239dz\u23a0"
      }
     ],
     "prompt_number": 40
    },
    {
     "cell_type": "code",
     "collapsed": false,
     "input": "conjugate(airyaiprime(z))",
     "language": "python",
     "metadata": {},
     "outputs": [
      {
       "output_type": "pyout",
       "png": "[encoded data removed]",
       "prompt_number": 43,
       "text": "\n           \u239b_\u239e\nairyaiprime\u239dz\u23a0"
      }
     ],
     "prompt_number": 43
    },
    {
     "cell_type": "code",
     "collapsed": false,
     "input": "conjugate(airybiprime(z))",
     "language": "python",
     "metadata": {},
     "outputs": [
      {
       "output_type": "pyout",
       "png": "[encoded data removed]",
       "prompt_number": 42,
       "text": "\n           \u239b_\u239e\nairybiprime\u239dz\u23a0"
      }
     ],
     "prompt_number": 42
    },
    {
     "cell_type": "code",
     "collapsed": false,
     "input": "# Series",
     "language": "python",
     "metadata": {},
     "outputs": [],
     "prompt_number": 45
    },
    {
     "cell_type": "code",
     "collapsed": false,
     "input": "series(airyai(x), x)",
     "language": "python",
     "metadata": {},
     "outputs": [
      {
       "output_type": "pyout",
       "png": "[encoded data removed]",
       "prompt_number": 47,
       "text": "\n 5/6          6 ___             5/6  3          6 ___  4               \n3   \u22c5\u0393(1/3)   \u2572\u2571 3 \u22c5x\u22c5\u0393(2/3)   3   \u22c5x \u22c5\u0393(4/3)   \u2572\u2571 3 \u22c5x \u22c5\u0393(5/3)    \u239b 6\u239e\n\u2500\u2500\u2500\u2500\u2500\u2500\u2500\u2500\u2500\u2500\u2500 - \u2500\u2500\u2500\u2500\u2500\u2500\u2500\u2500\u2500\u2500\u2500\u2500\u2500\u2500 + \u2500\u2500\u2500\u2500\u2500\u2500\u2500\u2500\u2500\u2500\u2500\u2500\u2500\u2500 - \u2500\u2500\u2500\u2500\u2500\u2500\u2500\u2500\u2500\u2500\u2500\u2500\u2500\u2500\u2500 + O\u239dx \u23a0\n    6\u22c5\u03c0            2\u22c5\u03c0              12\u22c5\u03c0              16\u22c5\u03c0             "
      }
     ],
     "prompt_number": 47
    },
    {
     "cell_type": "code",
     "collapsed": false,
     "input": "series(airybi(x), x)",
     "language": "python",
     "metadata": {},
     "outputs": [
      {
       "output_type": "pyout",
       "png": "[encoded data removed]",
       "prompt_number": 48,
       "text": "\n3 ___           2/3            3 ___  3           2/3  4               \n\u2572\u2571 3 \u22c5\u0393(1/3)   3   \u22c5x\u22c5\u0393(2/3)   \u2572\u2571 3 \u22c5x \u22c5\u0393(4/3)   3   \u22c5x \u22c5\u0393(5/3)    \u239b 6\u239e\n\u2500\u2500\u2500\u2500\u2500\u2500\u2500\u2500\u2500\u2500\u2500\u2500 + \u2500\u2500\u2500\u2500\u2500\u2500\u2500\u2500\u2500\u2500\u2500\u2500\u2500 + \u2500\u2500\u2500\u2500\u2500\u2500\u2500\u2500\u2500\u2500\u2500\u2500\u2500\u2500\u2500 + \u2500\u2500\u2500\u2500\u2500\u2500\u2500\u2500\u2500\u2500\u2500\u2500\u2500\u2500 + O\u239dx \u23a0\n    2\u22c5\u03c0             2\u22c5\u03c0              4\u22c5\u03c0              16\u22c5\u03c0             "
      }
     ],
     "prompt_number": 48
    },
    {
     "cell_type": "code",
     "collapsed": false,
     "input": "series(airyaiprime(x), x)",
     "language": "python",
     "metadata": {},
     "outputs": [
      {
       "output_type": "pyout",
       "png": "[encoded data removed]",
       "prompt_number": 50,
       "text": "\n     2/3     3 ___  2    2/3  3     3 ___  5        \n    3        \u2572\u2571 3 \u22c5x    3   \u22c5x      \u2572\u2571 3 \u22c5x     \u239b 6\u239e\n- \u2500\u2500\u2500\u2500\u2500\u2500\u2500\u2500 + \u2500\u2500\u2500\u2500\u2500\u2500\u2500\u2500 - \u2500\u2500\u2500\u2500\u2500\u2500\u2500\u2500 + \u2500\u2500\u2500\u2500\u2500\u2500\u2500\u2500\u2500 + O\u239dx \u23a0\n  3\u22c5\u0393(1/3)   6\u22c5\u0393(2/3)   9\u22c5\u0393(1/3)   90\u22c5\u0393(2/3)        "
      }
     ],
     "prompt_number": 50
    },
    {
     "cell_type": "code",
     "collapsed": false,
     "input": "series(airybiprime(x), x)",
     "language": "python",
     "metadata": {},
     "outputs": [
      {
       "output_type": "pyout",
       "png": "[encoded data removed]",
       "prompt_number": 49,
       "text": "\n6 ___     5/6  2    6 ___  3     5/6  5         \n\u2572\u2571 3     3   \u22c5x     \u2572\u2571 3 \u22c5x     3   \u22c5x      \u239b 6\u239e\n\u2500\u2500\u2500\u2500\u2500\u2500 + \u2500\u2500\u2500\u2500\u2500\u2500\u2500\u2500 + \u2500\u2500\u2500\u2500\u2500\u2500\u2500\u2500 + \u2500\u2500\u2500\u2500\u2500\u2500\u2500\u2500\u2500 + O\u239dx \u23a0\n\u0393(1/3)   6\u22c5\u0393(2/3)   3\u22c5\u0393(1/3)   90\u22c5\u0393(2/3)        "
      }
     ],
     "prompt_number": 49
    },
    {
     "cell_type": "code",
     "collapsed": false,
     "input": "_.evalf()",
     "language": "python",
     "metadata": {},
     "outputs": [
      {
       "output_type": "pyout",
       "png": "[encoded data removed]",
       "prompt_number": 51,
       "text": "\n                                        2                       3             \n-0.258819403792807 + 0.177514026943909\u22c5x  - 0.0862731345976023\u22c5x  + 0.01183426\n\n          5    \u239b 6\u239e\n84629272\u22c5x  + O\u239dx \u23a0"
      }
     ],
     "prompt_number": 51
    },
    {
     "cell_type": "code",
     "collapsed": false,
     "input": "# Integrals",
     "language": "python",
     "metadata": {},
     "outputs": [],
     "prompt_number": 52
    },
    {
     "cell_type": "code",
     "collapsed": false,
     "input": "airyai(x).rewrite(Integral)",
     "language": "python",
     "metadata": {},
     "outputs": [
      {
       "output_type": "pyout",
       "png": "[encoded data removed]",
       "prompt_number": 54,
       "text": "airyai(x)"
      }
     ],
     "prompt_number": 54
    },
    {
     "cell_type": "code",
     "collapsed": false,
     "input": "# Complex expansion",
     "language": "python",
     "metadata": {},
     "outputs": [],
     "prompt_number": 56
    },
    {
     "cell_type": "code",
     "collapsed": false,
     "input": "re(airyai(x+I*y))",
     "language": "python",
     "metadata": {},
     "outputs": [
      {
       "output_type": "pyout",
       "png": "[encoded data removed]",
       "prompt_number": 74,
       "text": "\n      \u239b    \u2148\u22c5x\u22c5\u2502y\u2502\u239e         \u239b    \u2148\u22c5x\u22c5\u2502y\u2502\u239e\nairyai\u239cx - \u2500\u2500\u2500\u2500\u2500\u2500\u2500\u239f   airyai\u239cx + \u2500\u2500\u2500\u2500\u2500\u2500\u2500\u239f\n      \u239d      \u2502x\u2502  \u23a0         \u239d      \u2502x\u2502  \u23a0\n\u2500\u2500\u2500\u2500\u2500\u2500\u2500\u2500\u2500\u2500\u2500\u2500\u2500\u2500\u2500\u2500\u2500\u2500\u2500 + \u2500\u2500\u2500\u2500\u2500\u2500\u2500\u2500\u2500\u2500\u2500\u2500\u2500\u2500\u2500\u2500\u2500\u2500\u2500\n         2                     2         "
      }
     ],
     "prompt_number": 74
    },
    {
     "cell_type": "code",
     "collapsed": false,
     "input": "im(airyai(x+I*y))",
     "language": "python",
     "metadata": {},
     "outputs": [
      {
       "output_type": "pyout",
       "png": "[encoded data removed]",
       "prompt_number": 75,
       "text": "\n    \u239b      \u239b    \u2148\u22c5x\u22c5\u2502y\u2502\u239e         \u239b    \u2148\u22c5x\u22c5\u2502y\u2502\u239e\u239e    \n\u2148\u22c5x\u22c5\u239cairyai\u239cx - \u2500\u2500\u2500\u2500\u2500\u2500\u2500\u239f - airyai\u239cx + \u2500\u2500\u2500\u2500\u2500\u2500\u2500\u239f\u239f\u22c5\u2502y\u2502\n    \u239d      \u239d      \u2502x\u2502  \u23a0         \u239d      \u2502x\u2502  \u23a0\u23a0    \n\u2500\u2500\u2500\u2500\u2500\u2500\u2500\u2500\u2500\u2500\u2500\u2500\u2500\u2500\u2500\u2500\u2500\u2500\u2500\u2500\u2500\u2500\u2500\u2500\u2500\u2500\u2500\u2500\u2500\u2500\u2500\u2500\u2500\u2500\u2500\u2500\u2500\u2500\u2500\u2500\u2500\u2500\u2500\u2500\u2500\u2500\u2500\u2500\u2500\u2500\u2500\n                      2\u22c5y\u22c5\u2502x\u2502                      "
      }
     ],
     "prompt_number": 75
    },
    {
     "cell_type": "code",
     "collapsed": false,
     "input": "re(airybi(x+I*y))",
     "language": "python",
     "metadata": {},
     "outputs": [
      {
       "output_type": "pyout",
       "png": "[encoded data removed]",
       "prompt_number": 76,
       "text": "\n      \u239b    \u2148\u22c5x\u22c5\u2502y\u2502\u239e         \u239b    \u2148\u22c5x\u22c5\u2502y\u2502\u239e\nairybi\u239cx - \u2500\u2500\u2500\u2500\u2500\u2500\u2500\u239f   airybi\u239cx + \u2500\u2500\u2500\u2500\u2500\u2500\u2500\u239f\n      \u239d      \u2502x\u2502  \u23a0         \u239d      \u2502x\u2502  \u23a0\n\u2500\u2500\u2500\u2500\u2500\u2500\u2500\u2500\u2500\u2500\u2500\u2500\u2500\u2500\u2500\u2500\u2500\u2500\u2500 + \u2500\u2500\u2500\u2500\u2500\u2500\u2500\u2500\u2500\u2500\u2500\u2500\u2500\u2500\u2500\u2500\u2500\u2500\u2500\n         2                     2         "
      }
     ],
     "prompt_number": 76
    },
    {
     "cell_type": "code",
     "collapsed": false,
     "input": "im(airybi(x+I*y))",
     "language": "python",
     "metadata": {},
     "outputs": [
      {
       "output_type": "pyout",
       "png": "[encoded data removed]",
       "prompt_number": 77,
       "text": "\n    \u239b      \u239b    \u2148\u22c5x\u22c5\u2502y\u2502\u239e         \u239b    \u2148\u22c5x\u22c5\u2502y\u2502\u239e\u239e    \n\u2148\u22c5x\u22c5\u239cairybi\u239cx - \u2500\u2500\u2500\u2500\u2500\u2500\u2500\u239f - airybi\u239cx + \u2500\u2500\u2500\u2500\u2500\u2500\u2500\u239f\u239f\u22c5\u2502y\u2502\n    \u239d      \u239d      \u2502x\u2502  \u23a0         \u239d      \u2502x\u2502  \u23a0\u23a0    \n\u2500\u2500\u2500\u2500\u2500\u2500\u2500\u2500\u2500\u2500\u2500\u2500\u2500\u2500\u2500\u2500\u2500\u2500\u2500\u2500\u2500\u2500\u2500\u2500\u2500\u2500\u2500\u2500\u2500\u2500\u2500\u2500\u2500\u2500\u2500\u2500\u2500\u2500\u2500\u2500\u2500\u2500\u2500\u2500\u2500\u2500\u2500\u2500\u2500\u2500\u2500\n                      2\u22c5y\u22c5\u2502x\u2502                      "
      }
     ],
     "prompt_number": 77
    },
    {
     "cell_type": "code",
     "collapsed": false,
     "input": "re(airyaiprime(x+I*y))",
     "language": "python",
     "metadata": {},
     "outputs": [
      {
       "output_type": "pyout",
       "png": "[encoded data removed]",
       "prompt_number": 78,
       "text": "\n           \u239b    \u2148\u22c5x\u22c5\u2502y\u2502\u239e              \u239b    \u2148\u22c5x\u22c5\u2502y\u2502\u239e\nairyaiprime\u239cx - \u2500\u2500\u2500\u2500\u2500\u2500\u2500\u239f   airyaiprime\u239cx + \u2500\u2500\u2500\u2500\u2500\u2500\u2500\u239f\n           \u239d      \u2502x\u2502  \u23a0              \u239d      \u2502x\u2502  \u23a0\n\u2500\u2500\u2500\u2500\u2500\u2500\u2500\u2500\u2500\u2500\u2500\u2500\u2500\u2500\u2500\u2500\u2500\u2500\u2500\u2500\u2500\u2500\u2500\u2500 + \u2500\u2500\u2500\u2500\u2500\u2500\u2500\u2500\u2500\u2500\u2500\u2500\u2500\u2500\u2500\u2500\u2500\u2500\u2500\u2500\u2500\u2500\u2500\u2500\n           2                          2            "
      }
     ],
     "prompt_number": 78
    },
    {
     "cell_type": "code",
     "collapsed": false,
     "input": "im(airyaiprime(x+I*y))",
     "language": "python",
     "metadata": {},
     "outputs": [
      {
       "output_type": "pyout",
       "png": "[encoded data removed]",
       "prompt_number": 79,
       "text": "\n    \u239b           \u239b    \u2148\u22c5x\u22c5\u2502y\u2502\u239e              \u239b    \u2148\u22c5x\u22c5\u2502y\u2502\u239e\u239e    \n\u2148\u22c5x\u22c5\u239cairyaiprime\u239cx - \u2500\u2500\u2500\u2500\u2500\u2500\u2500\u239f - airyaiprime\u239cx + \u2500\u2500\u2500\u2500\u2500\u2500\u2500\u239f\u239f\u22c5\u2502y\u2502\n    \u239d           \u239d      \u2502x\u2502  \u23a0              \u239d      \u2502x\u2502  \u23a0\u23a0    \n\u2500\u2500\u2500\u2500\u2500\u2500\u2500\u2500\u2500\u2500\u2500\u2500\u2500\u2500\u2500\u2500\u2500\u2500\u2500\u2500\u2500\u2500\u2500\u2500\u2500\u2500\u2500\u2500\u2500\u2500\u2500\u2500\u2500\u2500\u2500\u2500\u2500\u2500\u2500\u2500\u2500\u2500\u2500\u2500\u2500\u2500\u2500\u2500\u2500\u2500\u2500\u2500\u2500\u2500\u2500\u2500\u2500\u2500\u2500\u2500\u2500\n                           2\u22c5y\u22c5\u2502x\u2502                           "
      }
     ],
     "prompt_number": 79
    },
    {
     "cell_type": "code",
     "collapsed": false,
     "input": "re(airybiprime(x+I*y))",
     "language": "python",
     "metadata": {},
     "outputs": [
      {
       "output_type": "pyout",
       "png": "[encoded data removed]",
       "prompt_number": 80,
       "text": "\n           \u239b    \u2148\u22c5x\u22c5\u2502y\u2502\u239e              \u239b    \u2148\u22c5x\u22c5\u2502y\u2502\u239e\nairybiprime\u239cx - \u2500\u2500\u2500\u2500\u2500\u2500\u2500\u239f   airybiprime\u239cx + \u2500\u2500\u2500\u2500\u2500\u2500\u2500\u239f\n           \u239d      \u2502x\u2502  \u23a0              \u239d      \u2502x\u2502  \u23a0\n\u2500\u2500\u2500\u2500\u2500\u2500\u2500\u2500\u2500\u2500\u2500\u2500\u2500\u2500\u2500\u2500\u2500\u2500\u2500\u2500\u2500\u2500\u2500\u2500 + \u2500\u2500\u2500\u2500\u2500\u2500\u2500\u2500\u2500\u2500\u2500\u2500\u2500\u2500\u2500\u2500\u2500\u2500\u2500\u2500\u2500\u2500\u2500\u2500\n           2                          2            "
      }
     ],
     "prompt_number": 80
    },
    {
     "cell_type": "code",
     "collapsed": false,
     "input": "im(airyaiprime(x+I*y))",
     "language": "python",
     "metadata": {},
     "outputs": [
      {
       "output_type": "pyout",
       "png": "[encoded data removed]",
       "prompt_number": 81,
       "text": "\n    \u239b           \u239b    \u2148\u22c5x\u22c5\u2502y\u2502\u239e              \u239b    \u2148\u22c5x\u22c5\u2502y\u2502\u239e\u239e    \n\u2148\u22c5x\u22c5\u239cairyaiprime\u239cx - \u2500\u2500\u2500\u2500\u2500\u2500\u2500\u239f - airyaiprime\u239cx + \u2500\u2500\u2500\u2500\u2500\u2500\u2500\u239f\u239f\u22c5\u2502y\u2502\n    \u239d           \u239d      \u2502x\u2502  \u23a0              \u239d      \u2502x\u2502  \u23a0\u23a0    \n\u2500\u2500\u2500\u2500\u2500\u2500\u2500\u2500\u2500\u2500\u2500\u2500\u2500\u2500\u2500\u2500\u2500\u2500\u2500\u2500\u2500\u2500\u2500\u2500\u2500\u2500\u2500\u2500\u2500\u2500\u2500\u2500\u2500\u2500\u2500\u2500\u2500\u2500\u2500\u2500\u2500\u2500\u2500\u2500\u2500\u2500\u2500\u2500\u2500\u2500\u2500\u2500\u2500\u2500\u2500\u2500\u2500\u2500\u2500\u2500\u2500\n                           2\u22c5y\u22c5\u2502x\u2502                           "
      }
     ],
     "prompt_number": 81
    },
    {
     "cell_type": "code",
     "collapsed": false,
     "input": "# Some integrals",
     "language": "python",
     "metadata": {},
     "outputs": [],
     "prompt_number": 89
    },
    {
     "cell_type": "code",
     "collapsed": false,
     "input": "integrate(x*airyai(x),x)",
     "language": "python",
     "metadata": {},
     "outputs": [
      {
       "output_type": "pyout",
       "png": "[encoded data removed]",
       "prompt_number": 90,
       "text": "airyaiprime(x)"
      }
     ],
     "prompt_number": 90
    },
    {
     "cell_type": "code",
     "collapsed": false,
     "input": "integrate(x**2*airyai(x),x)",
     "language": "python",
     "metadata": {},
     "outputs": [
      {
       "output_type": "pyout",
       "png": "[encoded data removed]",
       "prompt_number": 88,
       "text": "x\u22c5airyaiprime(x) - airyai(x)"
      }
     ],
     "prompt_number": 88
    },
    {
     "cell_type": "code",
     "collapsed": false,
     "input": "integrate(sqrt(x)*airyai(x),x)",
     "language": "python",
     "metadata": {},
     "outputs": [
      {
       "output_type": "pyout",
       "png": "[encoded data removed]",
       "prompt_number": 91,
       "text": "\n\u2320                   \n\u23ae   ___             \n\u23ae \u2572\u2571 x \u22c5airyai(x) dx\n\u2321                   "
      }
     ],
     "prompt_number": 91
    },
    {
     "cell_type": "code",
     "collapsed": false,
     "input": "a = Symbol(\"a\")",
     "language": "python",
     "metadata": {},
     "outputs": [],
     "prompt_number": 92
    },
    {
     "cell_type": "code",
     "collapsed": false,
     "input": "integrate(airyai(a*x)**2,x)",
     "language": "python",
     "metadata": {},
     "outputs": [
      {
       "output_type": "pyout",
       "png": "[encoded data removed]",
       "prompt_number": 94,
       "text": "\n                            2     \n        2        airyaiprime (a\u22c5x)\nx\u22c5airyai (a\u22c5x) - \u2500\u2500\u2500\u2500\u2500\u2500\u2500\u2500\u2500\u2500\u2500\u2500\u2500\u2500\u2500\u2500\u2500\n                         a        "
      }
     ],
     "prompt_number": 94
    },
    {
     "cell_type": "code",
     "collapsed": false,
     "input": "integrate(1/airyai(a*x)**2,x)",
     "language": "python",
     "metadata": {},
     "outputs": [
      {
       "output_type": "pyout",
       "png": "[encoded data removed]",
       "prompt_number": 95,
       "text": "\n\u2320                \n\u23ae      1         \n\u23ae \u2500\u2500\u2500\u2500\u2500\u2500\u2500\u2500\u2500\u2500\u2500\u2500 dx\n\u23ae       2        \n\u23ae airyai (a\u22c5x)   \n\u2321                "
      }
     ],
     "prompt_number": 95
    },
    {
     "cell_type": "code",
     "collapsed": false,
     "input": "# Transforms",
     "language": "python",
     "metadata": {},
     "outputs": [],
     "prompt_number": 96
    },
    {
     "cell_type": "code",
     "collapsed": false,
     "input": "fourier_transform(airyai(x), x,y)",
     "language": "python",
     "metadata": {},
     "outputs": [
      {
       "output_type": "pyout",
       "png": "[encoded data removed]",
       "prompt_number": 97,
       "text": "FourierTransform(airyai(x), x, y)"
      }
     ],
     "prompt_number": 97
    },
    {
     "cell_type": "code",
     "collapsed": false,
     "input": "",
     "language": "python",
     "metadata": {},
     "outputs": []
    }
   ],
   "metadata": {}
  }
 ]
}