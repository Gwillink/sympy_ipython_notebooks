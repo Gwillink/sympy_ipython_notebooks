{
 "metadata": {
  "name": "Basis_3F3"
 },
 "nbformat": 3,
 "nbformat_minor": 0,
 "worksheets": [
  {
   "cells": [
    {
     "cell_type": "code",
     "collapsed": false,
     "input": "%load_ext sympyprt",
     "language": "python",
     "metadata": {},
     "outputs": [],
     "prompt_number": 1
    },
    {
     "cell_type": "code",
     "collapsed": false,
     "input": "from sympy import *",
     "language": "python",
     "metadata": {},
     "outputs": [],
     "prompt_number": 2
    },
    {
     "cell_type": "code",
     "collapsed": false,
     "input": "z = Symbol(\"z\")",
     "language": "python",
     "metadata": {},
     "outputs": [],
     "prompt_number": 3
    },
    {
     "cell_type": "code",
     "collapsed": false,
     "input": "a = Symbol(\"a\")",
     "language": "python",
     "metadata": {},
     "outputs": [],
     "prompt_number": 4
    },
    {
     "cell_type": "code",
     "collapsed": false,
     "input": "",
     "language": "python",
     "metadata": {},
     "outputs": [],
     "prompt_number": 4
    },
    {
     "cell_type": "code",
     "collapsed": false,
     "input": "B0 = (a/(z*(a-1)**2)) * (1 - (-z)**(1-a) * (gamma(a) - uppergamma(a,-z)) - (a-1) * (EulerGamma + uppergamma(0,-z) + log(-z)) - exp(z))",
     "language": "python",
     "metadata": {},
     "outputs": [],
     "prompt_number": 5
    },
    {
     "cell_type": "code",
     "collapsed": false,
     "input": "expand(B0)",
     "language": "python",
     "metadata": {},
     "outputs": [
      {
       "output_type": "pyout",
       "png": "[encoded data removed]",
       "prompt_number": 6,
       "text": "\n      2                  2                           2             -a         \n     a \u22c5log(-z)         a \u22c5E\u2081(-z)        EulerGamma\u22c5a      a\u22c5z\u22c5(-z)  \u22c5\u0393(a)    \n- \u2500\u2500\u2500\u2500\u2500\u2500\u2500\u2500\u2500\u2500\u2500\u2500\u2500\u2500\u2500\u2500 - \u2500\u2500\u2500\u2500\u2500\u2500\u2500\u2500\u2500\u2500\u2500\u2500\u2500\u2500\u2500\u2500 - \u2500\u2500\u2500\u2500\u2500\u2500\u2500\u2500\u2500\u2500\u2500\u2500\u2500\u2500\u2500\u2500 + \u2500\u2500\u2500\u2500\u2500\u2500\u2500\u2500\u2500\u2500\u2500\u2500\u2500\u2500\u2500\u2500 - \n   2                  2                  2                  2                 \n  a \u22c5z - 2\u22c5a\u22c5z + z   a \u22c5z - 2\u22c5a\u22c5z + z   a \u22c5z - 2\u22c5a\u22c5z + z   a \u22c5z - 2\u22c5a\u22c5z + z   \n\n        -a                     z                                              \na\u22c5z\u22c5(-z)  \u22c5\u0393(a, -z)         a\u22c5\u212f             a\u22c5log(-z)           a\u22c5E\u2081(-z)      \n\u2500\u2500\u2500\u2500\u2500\u2500\u2500\u2500\u2500\u2500\u2500\u2500\u2500\u2500\u2500\u2500\u2500\u2500\u2500 - \u2500\u2500\u2500\u2500\u2500\u2500\u2500\u2500\u2500\u2500\u2500\u2500\u2500\u2500\u2500\u2500 + \u2500\u2500\u2500\u2500\u2500\u2500\u2500\u2500\u2500\u2500\u2500\u2500\u2500\u2500\u2500\u2500 + \u2500\u2500\u2500\u2500\u2500\u2500\u2500\u2500\u2500\u2500\u2500\u2500\u2500\u2500\u2500\u2500 +\n   2                   2                  2                  2                \n  a \u22c5z - 2\u22c5a\u22c5z + z    a \u22c5z - 2\u22c5a\u22c5z + z   a \u22c5z - 2\u22c5a\u22c5z + z   a \u22c5z - 2\u22c5a\u22c5z + z  \n\n                                    \n   EulerGamma\u22c5a            a        \n \u2500\u2500\u2500\u2500\u2500\u2500\u2500\u2500\u2500\u2500\u2500\u2500\u2500\u2500\u2500\u2500 + \u2500\u2500\u2500\u2500\u2500\u2500\u2500\u2500\u2500\u2500\u2500\u2500\u2500\u2500\u2500\u2500\n  2                  2              \n a \u22c5z - 2\u22c5a\u22c5z + z   a \u22c5z - 2\u22c5a\u22c5z + z"
      }
     ],
     "prompt_number": 6
    },
    {
     "cell_type": "code",
     "collapsed": false,
     "input": "pf = a / (a**2*z - 2*a*z + z)\npf",
     "language": "python",
     "metadata": {},
     "outputs": [
      {
       "output_type": "pyout",
       "png": "[encoded data removed]",
       "prompt_number": 7,
       "text": "\n       a        \n\u2500\u2500\u2500\u2500\u2500\u2500\u2500\u2500\u2500\u2500\u2500\u2500\u2500\u2500\u2500\u2500\n 2              \na \u22c5z - 2\u22c5a\u22c5z + z"
      }
     ],
     "prompt_number": 7
    },
    {
     "cell_type": "code",
     "collapsed": false,
     "input": "expand(B0 / pf)",
     "language": "python",
     "metadata": {},
     "outputs": [
      {
       "output_type": "pyout",
       "png": "[encoded data removed]",
       "prompt_number": 8,
       "text": "\n                                             -a              -a             z \n-a\u22c5log(-z) - a\u22c5E\u2081(-z) - EulerGamma\u22c5a + z\u22c5(-z)  \u22c5\u0393(a) - z\u22c5(-z)  \u22c5\u0393(a, -z) - \u212f  \n\n                                   \n+ log(-z) + E\u2081(-z) + EulerGamma + 1"
      }
     ],
     "prompt_number": 8
    },
    {
     "cell_type": "code",
     "collapsed": false,
     "input": "",
     "language": "python",
     "metadata": {},
     "outputs": [],
     "prompt_number": 8
    },
    {
     "cell_type": "code",
     "collapsed": false,
     "input": "B1 = z*diff(B0, z)",
     "language": "python",
     "metadata": {},
     "outputs": [],
     "prompt_number": 9
    },
    {
     "cell_type": "code",
     "collapsed": false,
     "input": "simplify(B1/pf)",
     "language": "python",
     "metadata": {},
     "outputs": [
      {
       "output_type": "pyout",
       "png": "[encoded data removed]",
       "prompt_number": 10,
       "text": "\n    -a \u239b                     a  z         a                 a                a\n(-z)  \u22c5\u239da\u22c5z\u22c5\u0393(a, -z) + a\u22c5(-z) \u22c5\u212f  + a\u22c5(-z) \u22c5log(-z) + a\u22c5(-z) \u22c5E\u2081(-z) - a\u22c5(-z) \n\n                    a                    a               a                    \n + EulerGamma\u22c5a\u22c5(-z)  - z\u22c5\u0393(a + 1) - (-z) \u22c5log(-z) - (-z) \u22c5E\u2081(-z) - EulerGamma\n\n     a\u239e\n\u22c5(-z) \u23a0"
      }
     ],
     "prompt_number": 10
    },
    {
     "cell_type": "code",
     "collapsed": false,
     "input": "expand(_)",
     "language": "python",
     "metadata": {},
     "outputs": [
      {
       "output_type": "pyout",
       "png": "[encoded data removed]",
       "prompt_number": 11,
       "text": "\n        -a               z                                                   -\na\u22c5z\u22c5(-z)  \u22c5\u0393(a, -z) + a\u22c5\u212f  + a\u22c5log(-z) + a\u22c5E\u2081(-z) - a + EulerGamma\u22c5a - z\u22c5(-z) \n\na                                         \n \u22c5\u0393(a + 1) - log(-z) - E\u2081(-z) - EulerGamma"
      }
     ],
     "prompt_number": 11
    },
    {
     "cell_type": "code",
     "collapsed": false,
     "input": "expand_func(_)",
     "language": "python",
     "metadata": {},
     "outputs": [
      {
       "output_type": "pyout",
       "png": "[encoded data removed]",
       "prompt_number": 12,
       "text": "\n          -a                -a               z                                \n- a\u22c5z\u22c5(-z)  \u22c5\u0393(a) + a\u22c5z\u22c5(-z)  \u22c5\u0393(a, -z) + a\u22c5\u212f  + a\u22c5log(-z) + a\u22c5E\u2081(-z) - a + Eu\n\n                                          \nlerGamma\u22c5a - log(-z) - E\u2081(-z) - EulerGamma"
      }
     ],
     "prompt_number": 12
    },
    {
     "cell_type": "code",
     "collapsed": false,
     "input": "",
     "language": "python",
     "metadata": {},
     "outputs": [],
     "prompt_number": 12
    },
    {
     "cell_type": "code",
     "collapsed": false,
     "input": "B2 = z*diff(B1, z)",
     "language": "python",
     "metadata": {},
     "outputs": [],
     "prompt_number": 13
    },
    {
     "cell_type": "code",
     "collapsed": false,
     "input": "simplify(B2/pf)",
     "language": "python",
     "metadata": {},
     "outputs": [
      {
       "output_type": "pyout",
       "png": "[encoded data removed]",
       "prompt_number": 14,
       "text": "\n    -a \u239b   2                                     a  z         a               \n(-z)  \u22c5\u239d- a \u22c5z\u22c5\u0393(a, -z) + a\u22c5z\u22c5\u0393(a + 1) - 2\u22c5a\u22c5(-z) \u22c5\u212f  - a\u22c5(-z) \u22c5log(-z) - a\u22c5(-\n\n  a                           a           a       a  z       a               a\nz) \u22c5E\u2081(-z) - EulerGamma\u22c5a\u22c5(-z)  + 2\u22c5a\u22c5(-z)  + (-z) \u22c5\u212f  + (-z) \u22c5log(-z) + (-z) \n\n              a                  a\u239e\n\u22c5E\u2081(-z) - (-z)  + EulerGamma\u22c5(-z) \u23a0"
      }
     ],
     "prompt_number": 14
    },
    {
     "cell_type": "code",
     "collapsed": false,
     "input": "expand(_)",
     "language": "python",
     "metadata": {},
     "outputs": [
      {
       "output_type": "pyout",
       "png": "[encoded data removed]",
       "prompt_number": 15,
       "text": "\n   2       -a                    -a                 z                         \n- a \u22c5z\u22c5(-z)  \u22c5\u0393(a, -z) + a\u22c5z\u22c5(-z)  \u22c5\u0393(a + 1) - 2\u22c5a\u22c5\u212f  - a\u22c5log(-z) - a\u22c5E\u2081(-z) -\n\n                       z                                    \n EulerGamma\u22c5a + 2\u22c5a + \u212f  + log(-z) + E\u2081(-z) - 1 + EulerGamma"
      }
     ],
     "prompt_number": 15
    },
    {
     "cell_type": "code",
     "collapsed": false,
     "input": "expand_func(_)",
     "language": "python",
     "metadata": {},
     "outputs": [
      {
       "output_type": "pyout",
       "png": "[encoded data removed]",
       "prompt_number": 16,
       "text": "\n 2       -a         2       -a                 z                              \na \u22c5z\u22c5(-z)  \u22c5\u0393(a) - a \u22c5z\u22c5(-z)  \u22c5\u0393(a, -z) - 2\u22c5a\u22c5\u212f  - a\u22c5log(-z) - a\u22c5E\u2081(-z) - Eule\n\n                  z                                    \nrGamma\u22c5a + 2\u22c5a + \u212f  + log(-z) + E\u2081(-z) - 1 + EulerGamma"
      }
     ],
     "prompt_number": 16
    },
    {
     "cell_type": "code",
     "collapsed": false,
     "input": "",
     "language": "python",
     "metadata": {},
     "outputs": [],
     "prompt_number": 16
    },
    {
     "cell_type": "code",
     "collapsed": false,
     "input": "B3 = z*diff(B2, z)",
     "language": "python",
     "metadata": {},
     "outputs": [],
     "prompt_number": 17
    },
    {
     "cell_type": "code",
     "collapsed": false,
     "input": "simplify(B3 / pf)",
     "language": "python",
     "metadata": {},
     "outputs": [
      {
       "output_type": "pyout",
       "png": "[encoded data removed]",
       "prompt_number": 18,
       "text": "\n    -a \u239b 3               2       a  z    2                        a  z        \n(-z)  \u22c5\u239da \u22c5z\u22c5\u0393(a, -z) + a \u22c5z\u22c5(-z) \u22c5\u212f  - a \u22c5z\u22c5\u0393(a + 1) - 2\u22c5a\u22c5z\u22c5(-z) \u22c5\u212f  + 3\u22c5a\u22c5(\n\n   a  z         a                 a                  a                    a   \n-z) \u22c5\u212f  + a\u22c5(-z) \u22c5log(-z) + a\u22c5(-z) \u22c5E\u2081(-z) - 3\u22c5a\u22c5(-z)  + EulerGamma\u22c5a\u22c5(-z)  + \n\n      a  z         a  z       a               a                         a     \nz\u22c5(-z) \u22c5\u212f  - 2\u22c5(-z) \u22c5\u212f  - (-z) \u22c5log(-z) - (-z) \u22c5E\u2081(-z) - EulerGamma\u22c5(-z)  + 2\u22c5\n\n    a\u239e\n(-z) \u23a0"
      }
     ],
     "prompt_number": 18
    },
    {
     "cell_type": "code",
     "collapsed": false,
     "input": "expand(_)",
     "language": "python",
     "metadata": {},
     "outputs": [
      {
       "output_type": "pyout",
       "png": "[encoded data removed]",
       "prompt_number": 19,
       "text": "\n 3       -a             2    z    2       -a                   z        z     \na \u22c5z\u22c5(-z)  \u22c5\u0393(a, -z) + a \u22c5z\u22c5\u212f  - a \u22c5z\u22c5(-z)  \u22c5\u0393(a + 1) - 2\u22c5a\u22c5z\u22c5\u212f  + 3\u22c5a\u22c5\u212f  + a\u22c5\n\n                                             z      z                         \nlog(-z) + a\u22c5E\u2081(-z) - 3\u22c5a + EulerGamma\u22c5a + z\u22c5\u212f  - 2\u22c5\u212f  - log(-z) - E\u2081(-z) - Eul\n\n           \nerGamma + 2"
      }
     ],
     "prompt_number": 19
    },
    {
     "cell_type": "code",
     "collapsed": false,
     "input": "expand_func(_)",
     "language": "python",
     "metadata": {},
     "outputs": [
      {
       "output_type": "pyout",
       "png": "[encoded data removed]",
       "prompt_number": 20,
       "text": "\n   3       -a         3       -a             2    z          z        z       \n- a \u22c5z\u22c5(-z)  \u22c5\u0393(a) + a \u22c5z\u22c5(-z)  \u22c5\u0393(a, -z) + a \u22c5z\u22c5\u212f  - 2\u22c5a\u22c5z\u22c5\u212f  + 3\u22c5a\u22c5\u212f  + a\u22c5lo\n\n                                           z      z                           \ng(-z) + a\u22c5E\u2081(-z) - 3\u22c5a + EulerGamma\u22c5a + z\u22c5\u212f  - 2\u22c5\u212f  - log(-z) - E\u2081(-z) - Euler\n\n         \nGamma + 2"
      }
     ],
     "prompt_number": 20
    },
    {
     "cell_type": "code",
     "collapsed": false,
     "input": "",
     "language": "python",
     "metadata": {},
     "outputs": [],
     "prompt_number": 20
    },
    {
     "cell_type": "code",
     "collapsed": false,
     "input": "B4 = z*diff(B3, z)",
     "language": "python",
     "metadata": {},
     "outputs": [],
     "prompt_number": 21
    },
    {
     "cell_type": "code",
     "collapsed": false,
     "input": "simplify(B4 / pf)",
     "language": "python",
     "metadata": {},
     "outputs": [
      {
       "output_type": "pyout",
       "png": "[encoded data removed]",
       "prompt_number": 22,
       "text": "\n    -a \u239b   4               3       a  z    3               2  2     a  z      \n(-z)  \u22c5\u239d- a \u22c5z\u22c5\u0393(a, -z) - a \u22c5z\u22c5(-z) \u22c5\u212f  + a \u22c5z\u22c5\u0393(a + 1) + a \u22c5z \u22c5(-z) \u22c5\u212f  - 2\u22c5a\n\n  2     a  z             a  z           a  z         a                 a      \n\u22c5z \u22c5(-z) \u22c5\u212f  + 3\u22c5a\u22c5z\u22c5(-z) \u22c5\u212f  - 4\u22c5a\u22c5(-z) \u22c5\u212f  - a\u22c5(-z) \u22c5log(-z) - a\u22c5(-z) \u22c5E\u2081(-z\n\n                     a           a    2     a  z           a  z         a  z  \n) - EulerGamma\u22c5a\u22c5(-z)  + 4\u22c5a\u22c5(-z)  + z \u22c5(-z) \u22c5\u212f  - 2\u22c5z\u22c5(-z) \u22c5\u212f  + 3\u22c5(-z) \u22c5\u212f  +\n\n     a               a                a                  a\u239e\n (-z) \u22c5log(-z) + (-z) \u22c5E\u2081(-z) - 3\u22c5(-z)  + EulerGamma\u22c5(-z) \u23a0"
      }
     ],
     "prompt_number": 22
    },
    {
     "cell_type": "code",
     "collapsed": false,
     "input": "expand(_)",
     "language": "python",
     "metadata": {},
     "outputs": [
      {
       "output_type": "pyout",
       "png": "[encoded data removed]",
       "prompt_number": 23,
       "text": "\n   4       -a             3    z    3       -a             2  2  z        2  z\n- a \u22c5z\u22c5(-z)  \u22c5\u0393(a, -z) - a \u22c5z\u22c5\u212f  + a \u22c5z\u22c5(-z)  \u22c5\u0393(a + 1) + a \u22c5z \u22c5\u212f  - 2\u22c5a\u22c5z \u22c5\u212f \n\n          z        z                                                2  z      \n + 3\u22c5a\u22c5z\u22c5\u212f  - 4\u22c5a\u22c5\u212f  - a\u22c5log(-z) - a\u22c5E\u2081(-z) - EulerGamma\u22c5a + 4\u22c5a + z \u22c5\u212f  - 2\u22c5z\n\n  z      z                                    \n\u22c5\u212f  + 3\u22c5\u212f  + log(-z) + E\u2081(-z) - 3 + EulerGamma"
      }
     ],
     "prompt_number": 23
    },
    {
     "cell_type": "code",
     "collapsed": false,
     "input": "expand_func(_)",
     "language": "python",
     "metadata": {},
     "outputs": [
      {
       "output_type": "pyout",
       "png": "[encoded data removed]",
       "prompt_number": 24,
       "text": "\n 4       -a         4       -a             3    z    2  2  z        2  z      \na \u22c5z\u22c5(-z)  \u22c5\u0393(a) - a \u22c5z\u22c5(-z)  \u22c5\u0393(a, -z) - a \u22c5z\u22c5\u212f  + a \u22c5z \u22c5\u212f  - 2\u22c5a\u22c5z \u22c5\u212f  + 3\u22c5a\n\n    z        z                                                2  z        z   \n\u22c5z\u22c5\u212f  - 4\u22c5a\u22c5\u212f  - a\u22c5log(-z) - a\u22c5E\u2081(-z) - EulerGamma\u22c5a + 4\u22c5a + z \u22c5\u212f  - 2\u22c5z\u22c5\u212f  + \n\n   z                                    \n3\u22c5\u212f  + log(-z) + E\u2081(-z) - 3 + EulerGamma"
      }
     ],
     "prompt_number": 24
    },
    {
     "cell_type": "code",
     "collapsed": false,
     "input": "",
     "language": "python",
     "metadata": {},
     "outputs": [],
     "prompt_number": 24
    },
    {
     "cell_type": "code",
     "collapsed": false,
     "input": "B5 = z*diff(B4, z)",
     "language": "python",
     "metadata": {},
     "outputs": [],
     "prompt_number": 58
    },
    {
     "cell_type": "code",
     "collapsed": false,
     "input": "# Basis elemens",
     "language": "python",
     "metadata": {},
     "outputs": [],
     "prompt_number": 25
    },
    {
     "cell_type": "code",
     "collapsed": false,
     "input": "b0 = simplify(z*diff(pf*log(-z), z) / pf)\nb0",
     "language": "python",
     "metadata": {},
     "outputs": [
      {
       "output_type": "pyout",
       "png": "[encoded data removed]",
       "prompt_number": 26,
       "text": "-log(-z) + 1"
      }
     ],
     "prompt_number": 26
    },
    {
     "cell_type": "code",
     "collapsed": false,
     "input": "",
     "language": "python",
     "metadata": {},
     "outputs": [],
     "prompt_number": 26
    },
    {
     "cell_type": "code",
     "collapsed": false,
     "input": "b1 = simplify(z*diff(pf*E1(-z), z) / pf)\nb1",
     "language": "python",
     "metadata": {},
     "outputs": [
      {
       "output_type": "pyout",
       "png": "[encoded data removed]",
       "prompt_number": 27,
       "text": "\n   z         \n- \u212f  - E\u2081(-z)"
      }
     ],
     "prompt_number": 27
    },
    {
     "cell_type": "code",
     "collapsed": false,
     "input": "",
     "language": "python",
     "metadata": {},
     "outputs": [],
     "prompt_number": 27
    },
    {
     "cell_type": "code",
     "collapsed": false,
     "input": "b2 = simplify(z*diff(pf*EulerGamma, z) / pf)\nb2",
     "language": "python",
     "metadata": {},
     "outputs": [
      {
       "output_type": "pyout",
       "png": "[encoded data removed]",
       "prompt_number": 28,
       "text": "-EulerGamma"
      }
     ],
     "prompt_number": 28
    },
    {
     "cell_type": "code",
     "collapsed": false,
     "input": "",
     "language": "python",
     "metadata": {},
     "outputs": [],
     "prompt_number": 28
    },
    {
     "cell_type": "code",
     "collapsed": false,
     "input": "b3 = expand(expand_func(simplify(z*diff(pf*( z*(-z)**(-a)*gamma(a) - z*(-z)**(-a)*uppergamma(a, -z) ), z) / pf)))\nb3",
     "language": "python",
     "metadata": {},
     "outputs": [
      {
       "output_type": "pyout",
       "png": "[encoded data removed]",
       "prompt_number": 29,
       "text": "\n          -a                -a               z\n- a\u22c5z\u22c5(-z)  \u22c5\u0393(a) + a\u22c5z\u22c5(-z)  \u22c5\u0393(a, -z) + z\u22c5\u212f "
      }
     ],
     "prompt_number": 29
    },
    {
     "cell_type": "code",
     "collapsed": false,
     "input": "",
     "language": "python",
     "metadata": {},
     "outputs": [],
     "prompt_number": 29
    },
    {
     "cell_type": "code",
     "collapsed": false,
     "input": "b4 = simplify(z*diff(pf*exp(z), z) / pf)\nb4",
     "language": "python",
     "metadata": {},
     "outputs": [
      {
       "output_type": "pyout",
       "png": "[encoded data removed]",
       "prompt_number": 30,
       "text": "\n         z\n(z - 1)\u22c5\u212f "
      }
     ],
     "prompt_number": 30
    },
    {
     "cell_type": "code",
     "collapsed": false,
     "input": "",
     "language": "python",
     "metadata": {},
     "outputs": [],
     "prompt_number": 30
    },
    {
     "cell_type": "code",
     "collapsed": false,
     "input": "b5 = simplify(z*diff(pf*1, z) / pf)\nb5",
     "language": "python",
     "metadata": {},
     "outputs": [
      {
       "output_type": "pyout",
       "png": "[encoded data removed]",
       "prompt_number": 31,
       "text": "-1"
      }
     ],
     "prompt_number": 31
    },
    {
     "cell_type": "code",
     "collapsed": false,
     "input": "",
     "language": "python",
     "metadata": {},
     "outputs": [],
     "prompt_number": 31
    },
    {
     "cell_type": "code",
     "collapsed": false,
     "input": "# \"Initial value\"",
     "language": "python",
     "metadata": {},
     "outputs": [],
     "prompt_number": 32
    },
    {
     "cell_type": "code",
     "collapsed": false,
     "input": "Bb = Matrix([log(-z),\n             E1(-z),\n             EulerGamma,\n             z*(-z)**(-a)*gamma(a) - z*(-z)**(-a)*uppergamma(a, -z),\n             exp(z),\n             1])\n\nBb",
     "language": "python",
     "metadata": {},
     "outputs": [
      {
       "output_type": "pyout",
       "prompt_number": 33,
       "text": "\n\u23a1             log(-z)             \u23a4\n\u23a2                                 \u23a5\n\u23a2             E\u2081(-z)              \u23a5\n\u23a2                                 \u23a5\n\u23a2           EulerGamma            \u23a5\n\u23a2                                 \u23a5\n\u23a2      -a              -a         \u23a5\n\u23a2z\u22c5(-z)  \u22c5\u0393(a) - z\u22c5(-z)  \u22c5\u0393(a, -z)\u23a5\n\u23a2                                 \u23a5\n\u23a2                z                \u23a5\n\u23a2               \u212f                 \u23a5\n\u23a2                                 \u23a5\n\u23a3                1                \u23a6"
      }
     ],
     "prompt_number": 33
    },
    {
     "cell_type": "code",
     "collapsed": false,
     "input": "B = simplify(pf*Bb)\nB",
     "language": "python",
     "metadata": {},
     "outputs": [
      {
       "output_type": "pyout",
       "prompt_number": 34,
       "text": "\n\u23a1        a\u22c5log(-z)         \u23a4\n\u23a2     \u2500\u2500\u2500\u2500\u2500\u2500\u2500\u2500\u2500\u2500\u2500\u2500\u2500\u2500\u2500\u2500     \u23a5\n\u23a2       \u239b 2          \u239e     \u23a5\n\u23a2     z\u22c5\u239da  - 2\u22c5a + 1\u23a0     \u23a5\n\u23a2                          \u23a5\n\u23a2         a\u22c5E\u2081(-z)         \u23a5\n\u23a2     \u2500\u2500\u2500\u2500\u2500\u2500\u2500\u2500\u2500\u2500\u2500\u2500\u2500\u2500\u2500\u2500     \u23a5\n\u23a2       \u239b 2          \u239e     \u23a5\n\u23a2     z\u22c5\u239da  - 2\u22c5a + 1\u23a0     \u23a5\n\u23a2                          \u23a5\n\u23a2       EulerGamma\u22c5a       \u23a5\n\u23a2     \u2500\u2500\u2500\u2500\u2500\u2500\u2500\u2500\u2500\u2500\u2500\u2500\u2500\u2500\u2500\u2500     \u23a5\n\u23a2       \u239b 2          \u239e     \u23a5\n\u23a2     z\u22c5\u239da  - 2\u22c5a + 1\u23a0     \u23a5\n\u23a2                          \u23a5\n\u23a2      -a                  \u23a5\n\u23a2a\u22c5(-z)  \u22c5(\u0393(a) - \u0393(a, -z))\u23a5\n\u23a2\u2500\u2500\u2500\u2500\u2500\u2500\u2500\u2500\u2500\u2500\u2500\u2500\u2500\u2500\u2500\u2500\u2500\u2500\u2500\u2500\u2500\u2500\u2500\u2500\u2500\u2500\u23a5\n\u23a2                2         \u23a5\n\u23a2         (a - 1)          \u23a5\n\u23a2                          \u23a5\n\u23a2              z           \u23a5\n\u23a2           a\u22c5\u212f            \u23a5\n\u23a2     \u2500\u2500\u2500\u2500\u2500\u2500\u2500\u2500\u2500\u2500\u2500\u2500\u2500\u2500\u2500\u2500     \u23a5\n\u23a2       \u239b 2          \u239e     \u23a5\n\u23a2     z\u22c5\u239da  - 2\u22c5a + 1\u23a0     \u23a5\n\u23a2                          \u23a5\n\u23a2            a             \u23a5\n\u23a2     \u2500\u2500\u2500\u2500\u2500\u2500\u2500\u2500\u2500\u2500\u2500\u2500\u2500\u2500\u2500\u2500     \u23a5\n\u23a2       \u239b 2          \u239e     \u23a5\n\u23a3     z\u22c5\u239da  - 2\u22c5a + 1\u23a0     \u23a6"
      }
     ],
     "prompt_number": 34
    },
    {
     "cell_type": "code",
     "collapsed": false,
     "input": "C = Matrix([[1-a],[1-a],[1-a],[1],[-1],[1]])\nC",
     "language": "python",
     "metadata": {},
     "outputs": [
      {
       "output_type": "pyout",
       "prompt_number": 35,
       "text": "\n\u23a1-a + 1\u23a4\n\u23a2      \u23a5\n\u23a2-a + 1\u23a5\n\u23a2      \u23a5\n\u23a2-a + 1\u23a5\n\u23a2      \u23a5\n\u23a2  1   \u23a5\n\u23a2      \u23a5\n\u23a2  -1  \u23a5\n\u23a2      \u23a5\n\u23a3  1   \u23a6"
      }
     ],
     "prompt_number": 35
    },
    {
     "cell_type": "code",
     "collapsed": false,
     "input": "(transpose(C)*B)[0,0]",
     "language": "python",
     "metadata": {},
     "outputs": [
      {
       "output_type": "pyout",
       "png": "[encoded data removed]",
       "prompt_number": 36,
       "text": "\n      -a                                                                      \na\u22c5(-z)  \u22c5(\u0393(a) - \u0393(a, -z))   a\u22c5(-a + 1)\u22c5log(-z)   a\u22c5(-a + 1)\u22c5E\u2081(-z)   EulerGam\n\u2500\u2500\u2500\u2500\u2500\u2500\u2500\u2500\u2500\u2500\u2500\u2500\u2500\u2500\u2500\u2500\u2500\u2500\u2500\u2500\u2500\u2500\u2500\u2500\u2500\u2500 + \u2500\u2500\u2500\u2500\u2500\u2500\u2500\u2500\u2500\u2500\u2500\u2500\u2500\u2500\u2500\u2500\u2500\u2500 + \u2500\u2500\u2500\u2500\u2500\u2500\u2500\u2500\u2500\u2500\u2500\u2500\u2500\u2500\u2500\u2500\u2500 + \u2500\u2500\u2500\u2500\u2500\u2500\u2500\u2500\n                2               \u239b 2          \u239e       \u239b 2          \u239e        \u239b 2\n         (a - 1)              z\u22c5\u239da  - 2\u22c5a + 1\u23a0     z\u22c5\u239da  - 2\u22c5a + 1\u23a0      z\u22c5\u239da \n\n                         z                         \nma\u22c5a\u22c5(-a + 1)         a\u22c5\u212f                 a        \n\u2500\u2500\u2500\u2500\u2500\u2500\u2500\u2500\u2500\u2500\u2500\u2500\u2500 - \u2500\u2500\u2500\u2500\u2500\u2500\u2500\u2500\u2500\u2500\u2500\u2500\u2500\u2500\u2500\u2500 + \u2500\u2500\u2500\u2500\u2500\u2500\u2500\u2500\u2500\u2500\u2500\u2500\u2500\u2500\u2500\u2500\n          \u239e       \u239b 2          \u239e     \u239b 2          \u239e\n - 2\u22c5a + 1\u23a0     z\u22c5\u239da  - 2\u22c5a + 1\u23a0   z\u22c5\u239da  - 2\u22c5a + 1\u23a0"
      }
     ],
     "prompt_number": 36
    },
    {
     "cell_type": "code",
     "collapsed": false,
     "input": "simplify(_ - B0)",
     "language": "python",
     "metadata": {},
     "outputs": [
      {
       "output_type": "pyout",
       "png": "[encoded data removed]",
       "prompt_number": 37,
       "text": "0"
      }
     ],
     "prompt_number": 37
    },
    {
     "cell_type": "code",
     "collapsed": false,
     "input": "",
     "language": "python",
     "metadata": {},
     "outputs": [],
     "prompt_number": 37
    },
    {
     "cell_type": "code",
     "collapsed": false,
     "input": "# Derivatives of basis elements",
     "language": "python",
     "metadata": {},
     "outputs": [],
     "prompt_number": 38
    },
    {
     "cell_type": "code",
     "collapsed": false,
     "input": "M = Matrix([[-1,0,0,0,0,1],\n            [0,-1,0,0,-1,0],\n            [0,0,-1,0,0,0],\n            [0,0,0,-a,z,0],\n            [0,0,0,0,z-1,0],\n            [0,0,0,0,0,-1]])\nM",
     "language": "python",
     "metadata": {},
     "outputs": [
      {
       "output_type": "pyout",
       "prompt_number": 39,
       "text": "\n\u23a1-1  0   0   0     0    1 \u23a4\n\u23a2                         \u23a5\n\u23a20   -1  0   0    -1    0 \u23a5\n\u23a2                         \u23a5\n\u23a20   0   -1  0     0    0 \u23a5\n\u23a2                         \u23a5\n\u23a20   0   0   -a    z    0 \u23a5\n\u23a2                         \u23a5\n\u23a20   0   0   0   z - 1  0 \u23a5\n\u23a2                         \u23a5\n\u23a30   0   0   0     0    -1\u23a6"
      }
     ],
     "prompt_number": 39
    },
    {
     "cell_type": "code",
     "collapsed": false,
     "input": "",
     "language": "python",
     "metadata": {},
     "outputs": [],
     "prompt_number": 39
    },
    {
     "cell_type": "code",
     "collapsed": false,
     "input": "e0 = Matrix([1,0,0,0,0,0])\ne1 = Matrix([0,1,0,0,0,0])\ne2 = Matrix([0,0,1,0,0,0])\ne3 = Matrix([0,0,0,1,0,0])\ne4 = Matrix([0,0,0,0,1,0])\ne5 = Matrix([0,0,0,0,0,1])",
     "language": "python",
     "metadata": {},
     "outputs": [],
     "prompt_number": 40
    },
    {
     "cell_type": "code",
     "collapsed": false,
     "input": "simplify((transpose(e0) * (M*B))[0,0] - pf*b0)",
     "language": "python",
     "metadata": {},
     "outputs": [
      {
       "output_type": "pyout",
       "png": "[encoded data removed]",
       "prompt_number": 41,
       "text": "0"
      }
     ],
     "prompt_number": 41
    },
    {
     "cell_type": "code",
     "collapsed": false,
     "input": "simplify((transpose(e1) * (M*B))[0,0] - pf*b1)",
     "language": "python",
     "metadata": {},
     "outputs": [
      {
       "output_type": "pyout",
       "png": "[encoded data removed]",
       "prompt_number": 42,
       "text": "0"
      }
     ],
     "prompt_number": 42
    },
    {
     "cell_type": "code",
     "collapsed": false,
     "input": "simplify((transpose(e2) * (M*B))[0,0] - pf*b2)",
     "language": "python",
     "metadata": {},
     "outputs": [
      {
       "output_type": "pyout",
       "png": "[encoded data removed]",
       "prompt_number": 43,
       "text": "0"
      }
     ],
     "prompt_number": 43
    },
    {
     "cell_type": "code",
     "collapsed": false,
     "input": "simplify((transpose(e3) * (M*B))[0,0] - pf*b3)",
     "language": "python",
     "metadata": {},
     "outputs": [
      {
       "output_type": "pyout",
       "png": "[encoded data removed]",
       "prompt_number": 44,
       "text": "0"
      }
     ],
     "prompt_number": 44
    },
    {
     "cell_type": "code",
     "collapsed": false,
     "input": "simplify((transpose(e4) * (M*B))[0,0] - pf*b4)",
     "language": "python",
     "metadata": {},
     "outputs": [
      {
       "output_type": "pyout",
       "png": "[encoded data removed]",
       "prompt_number": 45,
       "text": "0"
      }
     ],
     "prompt_number": 45
    },
    {
     "cell_type": "code",
     "collapsed": false,
     "input": "simplify((transpose(e5) * (M*B))[0,0] - pf*b5)",
     "language": "python",
     "metadata": {},
     "outputs": [
      {
       "output_type": "pyout",
       "png": "[encoded data removed]",
       "prompt_number": 46,
       "text": "0"
      }
     ],
     "prompt_number": 46
    },
    {
     "cell_type": "code",
     "collapsed": false,
     "input": "",
     "language": "python",
     "metadata": {},
     "outputs": [],
     "prompt_number": 46
    },
    {
     "cell_type": "code",
     "collapsed": false,
     "input": "simplify(expand_func(simplify((transpose(C)* M**0 * B)[0,0] - B0)))",
     "language": "python",
     "metadata": {},
     "outputs": [
      {
       "output_type": "pyout",
       "png": "[encoded data removed]",
       "prompt_number": 59,
       "text": "0"
      }
     ],
     "prompt_number": 59
    },
    {
     "cell_type": "code",
     "collapsed": false,
     "input": "simplify(expand_func(simplify((transpose(C)* M**1 *B)[0,0] - B1)))",
     "language": "python",
     "metadata": {},
     "outputs": [
      {
       "output_type": "pyout",
       "png": "[encoded data removed]",
       "prompt_number": 60,
       "text": "0"
      }
     ],
     "prompt_number": 60
    },
    {
     "cell_type": "code",
     "collapsed": false,
     "input": "simplify(expand_func(simplify((transpose(C)* M**2 *B)[0,0] - B2)))",
     "language": "python",
     "metadata": {},
     "outputs": [
      {
       "output_type": "pyout",
       "png": "[encoded data removed]",
       "prompt_number": 61,
       "text": "0"
      }
     ],
     "prompt_number": 61
    },
    {
     "cell_type": "code",
     "collapsed": false,
     "input": "simplify(expand_func(simplify((transpose(C)* M**3 *B)[0,0] - B3)))",
     "language": "python",
     "metadata": {},
     "outputs": [
      {
       "output_type": "pyout",
       "png": "[encoded data removed]",
       "prompt_number": 62,
       "text": "0"
      }
     ],
     "prompt_number": 62
    },
    {
     "cell_type": "code",
     "collapsed": false,
     "input": "simplify(expand_func(simplify((transpose(C)* M**4 *B)[0,0] - B4)))",
     "language": "python",
     "metadata": {},
     "outputs": [
      {
       "output_type": "pyout",
       "png": "[encoded data removed]",
       "prompt_number": 63,
       "text": "\n    z\n-a\u22c5\u212f "
      }
     ],
     "prompt_number": 63
    },
    {
     "cell_type": "code",
     "collapsed": false,
     "input": "# Huh ??",
     "language": "python",
     "metadata": {},
     "outputs": [],
     "prompt_number": 64
    },
    {
     "cell_type": "code",
     "collapsed": false,
     "input": "simplify(expand_func(simplify((transpose(C)* M**5 *B)[0,0] - B5)))",
     "language": "python",
     "metadata": {},
     "outputs": [
      {
       "output_type": "pyout",
       "png": "[encoded data removed]",
       "prompt_number": 65,
       "text": "\n                 z\na\u22c5(a - 3\u22c5z + 3)\u22c5\u212f "
      }
     ],
     "prompt_number": 65
    },
    {
     "cell_type": "code",
     "collapsed": false,
     "input": "",
     "language": "python",
     "metadata": {},
     "outputs": []
    }
   ],
   "metadata": {}
  }
 ]
}