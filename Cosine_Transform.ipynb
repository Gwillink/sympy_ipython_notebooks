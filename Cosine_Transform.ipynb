{
 "metadata": {
  "name": "Cosine_Transform"
 },
 "name": "Cosine_Transform",
 "nbformat": 3,
 "worksheets": [
  {
   "cells": [
    {
     "cell_type": "code",
     "collapsed": true,
     "input": "%load_ext sympyprt",
     "language": "python",
     "outputs": [],
     "prompt_number": 113
    },
    {
     "cell_type": "code",
     "collapsed": true,
     "input": "from sympy import *",
     "language": "python",
     "outputs": [],
     "prompt_number": 114
    },
    {
     "cell_type": "markdown",
     "source": "Examples of cosine transformations. We use the definition\n$$\n\\mathcal{COS}_t \\left[f(t)\\right]\\left(w\\right) := \\frac{\\sqrt{2}}{\\sqrt{\\pi}} \\int_0^{\\infty} f(t) \\cos(t \\cdot w) \\mathrm{d}t\n$$"
    },
    {
     "cell_type": "code",
     "collapsed": true,
     "input": "t = Symbol(\"t\")\nw = Symbol(\"w\")",
     "language": "python",
     "outputs": [],
     "prompt_number": 115
    },
    {
     "cell_type": "code",
     "collapsed": true,
     "input": "n = Symbol(\"n\", integer=True)",
     "language": "python",
     "outputs": [],
     "prompt_number": 116
    },
    {
     "cell_type": "code",
     "collapsed": false,
     "input": "a = Symbol(\"a\")\nb = Symbol(\"b\")",
     "language": "python",
     "outputs": [],
     "prompt_number": 117
    },
    {
     "cell_type": "markdown",
     "source": "The following examples are taken from 'Bronstein', 6th edition, page 1103ff"
    },
    {
     "cell_type": "markdown",
     "source": "1"
    },
    {
     "cell_type": "code",
     "collapsed": false,
     "input": "Piecewise((1, And(0<=t, t<=a)), (0, t>a))",
     "language": "python",
     "outputs": [
      {
       "output_type": "pyout",
       "png": "[encoded data removed]",
       "prompt_number": 118,
       "text": "\n\u23a71  for t \u2264 a \u2227 t \u2265 0\n\u23a8                    \n\u23a90      for t > a    "
      }
     ],
     "prompt_number": 118
    },
    {
     "cell_type": "code",
     "collapsed": false,
     "input": "#cosine_transform(_, t, w)\n# No piecewise :-/",
     "language": "python",
     "outputs": [],
     "prompt_number": 119
    },
    {
     "cell_type": "markdown",
     "source": "4"
    },
    {
     "cell_type": "code",
     "collapsed": false,
     "input": "1/sqrt(t)",
     "language": "python",
     "outputs": [
      {
       "output_type": "pyout",
       "png": "[encoded data removed]",
       "prompt_number": 120,
       "text": "\n  1  \n\u2500\u2500\u2500\u2500\u2500\n  ___\n\u2572\u2571 t "
      }
     ],
     "prompt_number": 120
    },
    {
     "cell_type": "code",
     "collapsed": false,
     "input": "cosine_transform(_, t, w)",
     "language": "python",
     "outputs": [
      {
       "output_type": "pyout",
       "png": "[encoded data removed]",
       "prompt_number": 121,
       "text": "\n  1  \n\u2500\u2500\u2500\u2500\u2500\n  ___\n\u2572\u2571 w "
      }
     ],
     "prompt_number": 121
    },
    {
     "cell_type": "code",
     "collapsed": false,
     "input": "inverse_cosine_transform(_, w, t)",
     "language": "python",
     "outputs": [
      {
       "output_type": "pyout",
       "png": "[encoded data removed]",
       "prompt_number": 122,
       "text": "\n  1  \n\u2500\u2500\u2500\u2500\u2500\n  ___\n\u2572\u2571 t "
      }
     ],
     "prompt_number": 122
    },
    {
     "cell_type": "markdown",
     "source": "7"
    },
    {
     "cell_type": "code",
     "collapsed": false,
     "input": "1/(a+t)",
     "language": "python",
     "outputs": [
      {
       "output_type": "pyout",
       "png": "[encoded data removed]",
       "prompt_number": 123,
       "text": "\n  1  \n\u2500\u2500\u2500\u2500\u2500\na + t"
      }
     ],
     "prompt_number": 123
    },
    {
     "cell_type": "code",
     "collapsed": false,
     "input": "cosine_transform(_, t, w)",
     "language": "python",
     "outputs": [
      {
       "output_type": "pyout",
       "png": "[encoded data removed]",
       "prompt_number": 124,
       "text": "\n              \u239b               \u2502  2  2\u239e\n  ___ \u256d\u2500\u256e3, 2 \u239c 1/2, 0        \u2502 a \u22c5w \u239f\n\u2572\u2571 2 \u22c5\u2502\u2576\u2510     \u239c               \u2502 \u2500\u2500\u2500\u2500\u2500\u239f\n      \u2570\u2500\u256f2, 4 \u239d1/2, 0, 0  1/2 \u2502   4  \u23a0\n\u2500\u2500\u2500\u2500\u2500\u2500\u2500\u2500\u2500\u2500\u2500\u2500\u2500\u2500\u2500\u2500\u2500\u2500\u2500\u2500\u2500\u2500\u2500\u2500\u2500\u2500\u2500\u2500\u2500\u2500\u2500\u2500\u2500\u2500\u2500\u2500\u2500\u2500\n                 2\u22c5\u03c0                  "
      }
     ],
     "prompt_number": 124
    },
    {
     "cell_type": "code",
     "collapsed": false,
     "input": "hyperexpand(_)",
     "language": "python",
     "outputs": [
      {
       "output_type": "pyout",
       "png": "[encoded data removed]",
       "prompt_number": 125,
       "text": "\n              \u239b               \u2502  2  2\u239e\n  ___ \u256d\u2500\u256e3, 2 \u239c 1/2, 0        \u2502 a \u22c5w \u239f\n\u2572\u2571 2 \u22c5\u2502\u2576\u2510     \u239c               \u2502 \u2500\u2500\u2500\u2500\u2500\u239f\n      \u2570\u2500\u256f2, 4 \u239d1/2, 0, 0  1/2 \u2502   4  \u23a0\n\u2500\u2500\u2500\u2500\u2500\u2500\u2500\u2500\u2500\u2500\u2500\u2500\u2500\u2500\u2500\u2500\u2500\u2500\u2500\u2500\u2500\u2500\u2500\u2500\u2500\u2500\u2500\u2500\u2500\u2500\u2500\u2500\u2500\u2500\u2500\u2500\u2500\u2500\n                 2\u22c5\u03c0                  "
      }
     ],
     "prompt_number": 125
    },
    {
     "cell_type": "code",
     "collapsed": false,
     "input": "inverse_cosine_transform(_, w, t)",
     "language": "python",
     "outputs": [
      {
       "output_type": "pyout",
       "png": "[encoded data removed]",
       "prompt_number": 126,
       "text": "\n  1  \n\u2500\u2500\u2500\u2500\u2500\na + t"
      }
     ],
     "prompt_number": 126
    },
    {
     "cell_type": "markdown",
     "source": "8"
    },
    {
     "cell_type": "code",
     "collapsed": false,
     "input": "1/(a-t)",
     "language": "python",
     "outputs": [
      {
       "output_type": "pyout",
       "png": "[encoded data removed]",
       "prompt_number": 127,
       "text": "\n  1  \n\u2500\u2500\u2500\u2500\u2500\na - t"
      }
     ],
     "prompt_number": 127
    },
    {
     "cell_type": "code",
     "collapsed": false,
     "input": "cosine_transform(_, t, w)",
     "language": "python",
     "outputs": [
      {
       "output_type": "pyout",
       "png": "[encoded data removed]",
       "prompt_number": 128,
       "text": "\n               \u239b               \u2502  2  2  -2\u22c5\u2148\u22c5\u03c0\u239e\n   ___ \u256d\u2500\u256e3, 2 \u239c 1/2, 0        \u2502 a \u22c5w \u22c5\u212f      \u239f\n-\u2572\u2571 2 \u22c5\u2502\u2576\u2510     \u239c               \u2502 \u2500\u2500\u2500\u2500\u2500\u2500\u2500\u2500\u2500\u2500\u2500\u2500\u2500\u239f\n       \u2570\u2500\u256f2, 4 \u239d1/2, 0, 0  1/2 \u2502       4      \u23a0\n\u2500\u2500\u2500\u2500\u2500\u2500\u2500\u2500\u2500\u2500\u2500\u2500\u2500\u2500\u2500\u2500\u2500\u2500\u2500\u2500\u2500\u2500\u2500\u2500\u2500\u2500\u2500\u2500\u2500\u2500\u2500\u2500\u2500\u2500\u2500\u2500\u2500\u2500\u2500\u2500\u2500\u2500\u2500\u2500\u2500\u2500\u2500\n                      2\u22c5\u03c0                      "
      }
     ],
     "prompt_number": 128
    },
    {
     "cell_type": "code",
     "collapsed": false,
     "input": "hyperexpand(_)",
     "language": "python",
     "outputs": [
      {
       "output_type": "pyout",
       "png": "[encoded data removed]",
       "prompt_number": 129,
       "text": "\n               \u239b               \u2502  2  2  -2\u22c5\u2148\u22c5\u03c0\u239e\n   ___ \u256d\u2500\u256e3, 2 \u239c 1/2, 0        \u2502 a \u22c5w \u22c5\u212f      \u239f\n-\u2572\u2571 2 \u22c5\u2502\u2576\u2510     \u239c               \u2502 \u2500\u2500\u2500\u2500\u2500\u2500\u2500\u2500\u2500\u2500\u2500\u2500\u2500\u239f\n       \u2570\u2500\u256f2, 4 \u239d1/2, 0, 0  1/2 \u2502       4      \u23a0\n\u2500\u2500\u2500\u2500\u2500\u2500\u2500\u2500\u2500\u2500\u2500\u2500\u2500\u2500\u2500\u2500\u2500\u2500\u2500\u2500\u2500\u2500\u2500\u2500\u2500\u2500\u2500\u2500\u2500\u2500\u2500\u2500\u2500\u2500\u2500\u2500\u2500\u2500\u2500\u2500\u2500\u2500\u2500\u2500\u2500\u2500\u2500\n                      2\u22c5\u03c0                      "
      }
     ],
     "prompt_number": 129
    },
    {
     "cell_type": "code",
     "collapsed": false,
     "input": "inverse_cosine_transform(_, w, t)",
     "language": "python",
     "outputs": [
      {
       "output_type": "pyout",
       "png": "[encoded data removed]",
       "prompt_number": 130,
       "text": "\n  1  \n\u2500\u2500\u2500\u2500\u2500\na - t"
      }
     ],
     "prompt_number": 130
    },
    {
     "cell_type": "markdown",
     "source": "9"
    },
    {
     "cell_type": "code",
     "collapsed": false,
     "input": "1/(a**2+t**2)",
     "language": "python",
     "outputs": [
      {
       "output_type": "pyout",
       "png": "[encoded data removed]",
       "prompt_number": 131,
       "text": "\n   1   \n\u2500\u2500\u2500\u2500\u2500\u2500\u2500\n 2    2\na  + t "
      }
     ],
     "prompt_number": 131
    },
    {
     "cell_type": "code",
     "collapsed": false,
     "input": "cosine_transform(_, t, w)",
     "language": "python",
     "outputs": [
      {
       "output_type": "pyout",
       "png": "[encoded data removed]",
       "prompt_number": 132,
       "text": "\n  ___   ___                         \n\u2572\u2571 2 \u22c5\u2572\u2571 \u03c0 \u22c5(-sinh(a\u22c5w) + cosh(a\u22c5w))\n\u2500\u2500\u2500\u2500\u2500\u2500\u2500\u2500\u2500\u2500\u2500\u2500\u2500\u2500\u2500\u2500\u2500\u2500\u2500\u2500\u2500\u2500\u2500\u2500\u2500\u2500\u2500\u2500\u2500\u2500\u2500\u2500\u2500\u2500\u2500\u2500\n                2\u22c5a                 "
      }
     ],
     "prompt_number": 132
    },
    {
     "cell_type": "code",
     "collapsed": false,
     "input": "simplify(_)",
     "language": "python",
     "outputs": [
      {
       "output_type": "pyout",
       "png": "[encoded data removed]",
       "prompt_number": 133,
       "text": "\n  ___   ___                         \n\u2572\u2571 2 \u22c5\u2572\u2571 \u03c0 \u22c5(-sinh(a\u22c5w) + cosh(a\u22c5w))\n\u2500\u2500\u2500\u2500\u2500\u2500\u2500\u2500\u2500\u2500\u2500\u2500\u2500\u2500\u2500\u2500\u2500\u2500\u2500\u2500\u2500\u2500\u2500\u2500\u2500\u2500\u2500\u2500\u2500\u2500\u2500\u2500\u2500\u2500\u2500\u2500\n                2\u22c5a                 "
      }
     ],
     "prompt_number": 133
    },
    {
     "cell_type": "code",
     "collapsed": false,
     "input": "inverse_cosine_transform(_, w, t)",
     "language": "python",
     "outputs": [
      {
       "output_type": "pyout",
       "png": "[encoded data removed]",
       "prompt_number": 134,
       "text": "\na\u22c5cos(\u221e\u22c5t)\u22c5sinh(\u221e\u22c5a) - a\u22c5cos(\u221e\u22c5t)\u22c5cosh(\u221e\u22c5a) + a - t\u22c5sin(\u221e\u22c5t)\u22c5sinh(\u221e\u22c5a) + t\u22c5sin\n\u2500\u2500\u2500\u2500\u2500\u2500\u2500\u2500\u2500\u2500\u2500\u2500\u2500\u2500\u2500\u2500\u2500\u2500\u2500\u2500\u2500\u2500\u2500\u2500\u2500\u2500\u2500\u2500\u2500\u2500\u2500\u2500\u2500\u2500\u2500\u2500\u2500\u2500\u2500\u2500\u2500\u2500\u2500\u2500\u2500\u2500\u2500\u2500\u2500\u2500\u2500\u2500\u2500\u2500\u2500\u2500\u2500\u2500\u2500\u2500\u2500\u2500\u2500\u2500\u2500\u2500\u2500\u2500\u2500\u2500\u2500\u2500\u2500\u2500\u2500\u2500\u2500\u2500\n                                           \u239b 2    2\u239e                          \n                                         a\u22c5\u239da  + t \u23a0                          \n\n(\u221e\u22c5t)\u22c5cosh(\u221e\u22c5a)\n\u2500\u2500\u2500\u2500\u2500\u2500\u2500\u2500\u2500\u2500\u2500\u2500\u2500\u2500\u2500\n               \n               "
      }
     ],
     "prompt_number": 134
    },
    {
     "cell_type": "markdown",
     "source": "10"
    },
    {
     "cell_type": "code",
     "collapsed": false,
     "input": "1/(a**2-t**2)",
     "language": "python",
     "outputs": [
      {
       "output_type": "pyout",
       "png": "[encoded data removed]",
       "prompt_number": 135,
       "text": "\n   1   \n\u2500\u2500\u2500\u2500\u2500\u2500\u2500\n 2    2\na  - t "
      }
     ],
     "prompt_number": 135
    },
    {
     "cell_type": "code",
     "collapsed": false,
     "input": "cosine_transform(_, t, w)",
     "language": "python",
     "outputs": [
      {
       "output_type": "pyout",
       "png": "[encoded data removed]",
       "prompt_number": 136,
       "text": "\n  ___   ___                        \n\u2572\u2571 2 \u22c5\u2572\u2571 \u03c0 \u22c5(sin(a\u22c5w) - \u2148\u22c5cos(a\u22c5w))\n\u2500\u2500\u2500\u2500\u2500\u2500\u2500\u2500\u2500\u2500\u2500\u2500\u2500\u2500\u2500\u2500\u2500\u2500\u2500\u2500\u2500\u2500\u2500\u2500\u2500\u2500\u2500\u2500\u2500\u2500\u2500\u2500\u2500\u2500\u2500\n                2\u22c5a                "
      }
     ],
     "prompt_number": 136
    },
    {
     "cell_type": "code",
     "collapsed": false,
     "input": "inverse_cosine_transform(_, w, t)",
     "language": "python",
     "outputs": [
      {
       "output_type": "pyout",
       "png": "[encoded data removed]",
       "prompt_number": 137,
       "text": "\n\u2148\u22c5a\u22c5sin(\u221e\u22c5a)\u22c5cos(\u221e\u22c5t) + a\u22c5cos(\u221e\u22c5a)\u22c5cos(\u221e\u22c5t) - a + t\u22c5sin(\u221e\u22c5a)\u22c5sin(\u221e\u22c5t) - \u2148\u22c5t\u22c5si\n\u2500\u2500\u2500\u2500\u2500\u2500\u2500\u2500\u2500\u2500\u2500\u2500\u2500\u2500\u2500\u2500\u2500\u2500\u2500\u2500\u2500\u2500\u2500\u2500\u2500\u2500\u2500\u2500\u2500\u2500\u2500\u2500\u2500\u2500\u2500\u2500\u2500\u2500\u2500\u2500\u2500\u2500\u2500\u2500\u2500\u2500\u2500\u2500\u2500\u2500\u2500\u2500\u2500\u2500\u2500\u2500\u2500\u2500\u2500\u2500\u2500\u2500\u2500\u2500\u2500\u2500\u2500\u2500\u2500\u2500\u2500\u2500\u2500\u2500\u2500\u2500\u2500\u2500\n                                          \u239b   2    2\u239e                         \n                                        a\u22c5\u239d- a  + t \u23a0                         \n\nn(\u221e\u22c5t)\u22c5cos(\u221e\u22c5a)\n\u2500\u2500\u2500\u2500\u2500\u2500\u2500\u2500\u2500\u2500\u2500\u2500\u2500\u2500\u2500\n               \n               "
      }
     ],
     "prompt_number": 137
    },
    {
     "cell_type": "markdown",
     "source": "11"
    },
    {
     "cell_type": "code",
     "collapsed": false,
     "input": "b/(b**2+(a-t)**2) + b/(b**2+(a+t)**2)",
     "language": "python",
     "outputs": [
      {
       "output_type": "pyout",
       "png": "[encoded data removed]",
       "prompt_number": 138,
       "text": "\n      b               b      \n\u2500\u2500\u2500\u2500\u2500\u2500\u2500\u2500\u2500\u2500\u2500\u2500\u2500 + \u2500\u2500\u2500\u2500\u2500\u2500\u2500\u2500\u2500\u2500\u2500\u2500\u2500\n 2          2    2          2\nb  + (a + t)    b  + (a - t) "
      }
     ],
     "prompt_number": 138
    },
    {
     "cell_type": "code",
     "collapsed": false,
     "input": "#cosine_transform(_, t, w)",
     "language": "python",
     "outputs": [],
     "prompt_number": 139
    },
    {
     "cell_type": "markdown",
     "source": "12"
    },
    {
     "cell_type": "code",
     "collapsed": false,
     "input": "(a+t)/(b**2+(a+t)**2) + (a-t)/(b**2+(a-t)**2)",
     "language": "python",
     "outputs": [
      {
       "output_type": "pyout",
       "png": "[encoded data removed]",
       "prompt_number": 140,
       "text": "\n    a - t           a + t    \n\u2500\u2500\u2500\u2500\u2500\u2500\u2500\u2500\u2500\u2500\u2500\u2500\u2500 + \u2500\u2500\u2500\u2500\u2500\u2500\u2500\u2500\u2500\u2500\u2500\u2500\u2500\n 2          2    2          2\nb  + (a - t)    b  + (a + t) "
      }
     ],
     "prompt_number": 140
    },
    {
     "cell_type": "code",
     "collapsed": false,
     "input": "#cosine_transform(_, t, w)",
     "language": "python",
     "outputs": [],
     "prompt_number": 141
    },
    {
     "cell_type": "markdown",
     "source": "13"
    },
    {
     "cell_type": "code",
     "collapsed": false,
     "input": "1/sqrt(a**2+t**2)",
     "language": "python",
     "outputs": [
      {
       "output_type": "pyout",
       "png": "[encoded data removed]",
       "prompt_number": 142,
       "text": "\n     1      \n\u2500\u2500\u2500\u2500\u2500\u2500\u2500\u2500\u2500\u2500\u2500\u2500\n   _________\n  \u2571  2    2 \n\u2572\u2571  a  + t  "
      }
     ],
     "prompt_number": 142
    },
    {
     "cell_type": "code",
     "collapsed": false,
     "input": "cosine_transform(_, t, w)",
     "language": "python",
     "outputs": [
      {
       "output_type": "pyout",
       "png": "[encoded data removed]",
       "prompt_number": 143,
       "text": "\n              \u239b          \u2502  2  2\u239e\n  ___ \u256d\u2500\u256e2, 1 \u239c1/2       \u2502 a \u22c5w \u239f\n\u2572\u2571 2 \u22c5\u2502\u2576\u2510     \u239c          \u2502 \u2500\u2500\u2500\u2500\u2500\u239f\n      \u2570\u2500\u256f1, 3 \u239d0, 0  1/2 \u2502   4  \u23a0\n\u2500\u2500\u2500\u2500\u2500\u2500\u2500\u2500\u2500\u2500\u2500\u2500\u2500\u2500\u2500\u2500\u2500\u2500\u2500\u2500\u2500\u2500\u2500\u2500\u2500\u2500\u2500\u2500\u2500\u2500\u2500\u2500\u2500\n                 ___             \n             2\u22c5\u2572\u2571 \u03c0              "
      }
     ],
     "prompt_number": 143
    },
    {
     "cell_type": "code",
     "collapsed": false,
     "input": "hyperexpand(_)",
     "language": "python",
     "outputs": [
      {
       "output_type": "pyout",
       "png": "[encoded data removed]",
       "prompt_number": 144,
       "text": "\n              \u239b          \u2502  2  2\u239e\n  ___ \u256d\u2500\u256e2, 1 \u239c1/2       \u2502 a \u22c5w \u239f\n\u2572\u2571 2 \u22c5\u2502\u2576\u2510     \u239c          \u2502 \u2500\u2500\u2500\u2500\u2500\u239f\n      \u2570\u2500\u256f1, 3 \u239d0, 0  1/2 \u2502   4  \u23a0\n\u2500\u2500\u2500\u2500\u2500\u2500\u2500\u2500\u2500\u2500\u2500\u2500\u2500\u2500\u2500\u2500\u2500\u2500\u2500\u2500\u2500\u2500\u2500\u2500\u2500\u2500\u2500\u2500\u2500\u2500\u2500\u2500\u2500\n                 ___             \n             2\u22c5\u2572\u2571 \u03c0              "
      }
     ],
     "prompt_number": 144
    },
    {
     "cell_type": "code",
     "collapsed": false,
     "input": "inverse_cosine_transform(_, w, t)",
     "language": "python",
     "outputs": [
      {
       "output_type": "pyout",
       "png": "[encoded data removed]",
       "prompt_number": 145,
       "text": "\n       1        \n\u2500\u2500\u2500\u2500\u2500\u2500\u2500\u2500\u2500\u2500\u2500\u2500\u2500\u2500\u2500\u2500\n        ________\n       \u2571  2     \n      \u2571  a      \nt\u22c5   \u2571   \u2500\u2500 + 1 \n    \u2571     2     \n  \u2572\u2571     t      "
      }
     ],
     "prompt_number": 145
    },
    {
     "cell_type": "markdown",
     "source": "15"
    },
    {
     "cell_type": "code",
     "collapsed": false,
     "input": "t**(-a)",
     "language": "python",
     "outputs": [
      {
       "output_type": "pyout",
       "png": "[encoded data removed]",
       "prompt_number": 146,
       "text": "\n -a\nt  "
      }
     ],
     "prompt_number": 146
    },
    {
     "cell_type": "code",
     "collapsed": false,
     "input": "cosine_transform(_, t, w)",
     "language": "python",
     "outputs": [
      {
       "output_type": "pyout",
       "png": "[encoded data removed]",
       "prompt_number": 147,
       "text": "\n -a + 1/2  a - 1  \u239b  a   1\u239e\n2        \u22c5w     \u22c5\u0393\u239c- \u2500 + \u2500\u239f\n                  \u239d  2   2\u23a0\n\u2500\u2500\u2500\u2500\u2500\u2500\u2500\u2500\u2500\u2500\u2500\u2500\u2500\u2500\u2500\u2500\u2500\u2500\u2500\u2500\u2500\u2500\u2500\u2500\u2500\u2500\u2500\n             \u239ba\u239e           \n            \u0393\u239c\u2500\u239f           \n             \u239d2\u23a0           "
      }
     ],
     "prompt_number": 147
    },
    {
     "cell_type": "code",
     "collapsed": false,
     "input": "inverse_cosine_transform(_, w, t)",
     "language": "python",
     "outputs": [
      {
       "output_type": "pyout",
       "png": "[encoded data removed]",
       "prompt_number": 148,
       "text": "\n -a\nt  "
      }
     ],
     "prompt_number": 148
    },
    {
     "cell_type": "markdown",
     "source": "16"
    },
    {
     "cell_type": "code",
     "collapsed": false,
     "input": "exp(-a*t)",
     "language": "python",
     "outputs": [
      {
       "output_type": "pyout",
       "png": "[encoded data removed]",
       "prompt_number": 149,
       "text": "\n -a\u22c5t\n\u212f    "
      }
     ],
     "prompt_number": 149
    },
    {
     "cell_type": "code",
     "collapsed": false,
     "input": "cosine_transform(_, t, w)",
     "language": "python",
     "outputs": [
      {
       "output_type": "pyout",
       "png": "[encoded data removed]",
       "prompt_number": 150,
       "text": "\n      ___      \n    \u2572\u2571 2 \u22c5a    \n\u2500\u2500\u2500\u2500\u2500\u2500\u2500\u2500\u2500\u2500\u2500\u2500\u2500\u2500\u2500\n  ___ \u239b 2    2\u239e\n\u2572\u2571 \u03c0 \u22c5\u239da  + w \u23a0"
      }
     ],
     "prompt_number": 150
    },
    {
     "cell_type": "code",
     "collapsed": false,
     "input": "inverse_cosine_transform(_, w, t)",
     "language": "python",
     "outputs": [
      {
       "output_type": "pyout",
       "png": "[encoded data removed]",
       "prompt_number": 151,
       "text": "-sinh(a\u22c5t) + cosh(a\u22c5t)"
      }
     ],
     "prompt_number": 151
    },
    {
     "cell_type": "markdown",
     "source": "17"
    },
    {
     "cell_type": "code",
     "collapsed": false,
     "input": "(exp(-b*t)-exp(-a*t))/t",
     "language": "python",
     "outputs": [
      {
       "output_type": "pyout",
       "png": "[encoded data removed]",
       "prompt_number": 152,
       "text": "\n -b\u22c5t    -a\u22c5t\n\u212f     - \u212f    \n\u2500\u2500\u2500\u2500\u2500\u2500\u2500\u2500\u2500\u2500\u2500\u2500\u2500\n      t      "
      }
     ],
     "prompt_number": 152
    },
    {
     "cell_type": "code",
     "collapsed": false,
     "input": "cosine_transform(_, t, w)",
     "language": "python",
     "outputs": [
      {
       "output_type": "pyout",
       "png": "[encoded data removed]",
       "prompt_number": 153,
       "text": "\n                 \u239b -a\u22c5t      \u239e                  \u239b -b\u22c5t      \u239e\n                 \u239c\u212f          \u239f                  \u239c\u212f          \u239f\n- CosineTransform\u239c\u2500\u2500\u2500\u2500\u2500, t, w\u239f + CosineTransform\u239c\u2500\u2500\u2500\u2500\u2500, t, w\u239f\n                 \u239d  t        \u23a0                  \u239d  t        \u23a0"
      }
     ],
     "prompt_number": 153
    },
    {
     "cell_type": "code",
     "collapsed": false,
     "input": "#inverse_cosine_transform(_, w, t)",
     "language": "python",
     "outputs": [],
     "prompt_number": 154
    },
    {
     "cell_type": "markdown",
     "source": "18"
    },
    {
     "cell_type": "code",
     "collapsed": false,
     "input": "sqrt(t)*exp(-a*t)",
     "language": "python",
     "outputs": [
      {
       "output_type": "pyout",
       "png": "[encoded data removed]",
       "prompt_number": 155,
       "text": "\n  ___  -a\u22c5t\n\u2572\u2571 t \u22c5\u212f    "
      }
     ],
     "prompt_number": 155
    },
    {
     "cell_type": "code",
     "collapsed": false,
     "input": "cosine_transform(_, t, w)",
     "language": "python",
     "outputs": [
      {
       "output_type": "pyout",
       "png": "[encoded data removed]",
       "prompt_number": 156,
       "text": "\n         \u239b      \u239bw\u239e\u239e\n         \u239c3\u22c5atan\u239c\u2500\u239f\u239f\n  ___    \u239c      \u239da\u23a0\u239f\n\u2572\u2571 2 \u22c5cos\u239c\u2500\u2500\u2500\u2500\u2500\u2500\u2500\u2500\u2500\u239f\n         \u239d    2    \u23a0\n\u2500\u2500\u2500\u2500\u2500\u2500\u2500\u2500\u2500\u2500\u2500\u2500\u2500\u2500\u2500\u2500\u2500\u2500\u2500\u2500\n                3/4 \n        \u239b     2\u239e    \n    3/2 \u239c    w \u239f    \n 2\u22c5a   \u22c5\u239c1 + \u2500\u2500\u239f    \n        \u239c     2\u239f    \n        \u239d    a \u23a0    "
      }
     ],
     "prompt_number": 156
    },
    {
     "cell_type": "code",
     "collapsed": false,
     "input": "simplify(_)",
     "language": "python",
     "outputs": [
      {
       "output_type": "pyout",
       "png": "[encoded data removed]",
       "prompt_number": 157,
       "text": "\n         \u239b      \u239bw\u239e\u239e\n         \u239c3\u22c5atan\u239c\u2500\u239f\u239f\n  ___    \u239c      \u239da\u23a0\u239f\n\u2572\u2571 2 \u22c5cos\u239c\u2500\u2500\u2500\u2500\u2500\u2500\u2500\u2500\u2500\u239f\n         \u239d    2    \u23a0\n\u2500\u2500\u2500\u2500\u2500\u2500\u2500\u2500\u2500\u2500\u2500\u2500\u2500\u2500\u2500\u2500\u2500\u2500\u2500\u2500\n                3/4 \n        \u239b     2\u239e    \n    3/2 \u239c    w \u239f    \n 2\u22c5a   \u22c5\u239c1 + \u2500\u2500\u239f    \n        \u239c     2\u239f    \n        \u239d    a \u23a0    "
      }
     ],
     "prompt_number": 157
    },
    {
     "cell_type": "code",
     "collapsed": false,
     "input": "#inverse_cosine_transform(_, w, t)",
     "language": "python",
     "outputs": [],
     "prompt_number": 158
    },
    {
     "cell_type": "markdown",
     "source": "19"
    },
    {
     "cell_type": "code",
     "collapsed": false,
     "input": "exp(-a*t)/sqrt(t)",
     "language": "python",
     "outputs": [
      {
       "output_type": "pyout",
       "png": "[encoded data removed]",
       "prompt_number": 159,
       "text": "\n -a\u22c5t\n\u212f    \n\u2500\u2500\u2500\u2500\u2500\n  ___\n\u2572\u2571 t "
      }
     ],
     "prompt_number": 159
    },
    {
     "cell_type": "code",
     "collapsed": false,
     "input": "cosine_transform(_, t, w)",
     "language": "python",
     "outputs": [
      {
       "output_type": "pyout",
       "png": "[encoded data removed]",
       "prompt_number": 160,
       "text": "\n          \u239b    \u239bw\u239e\u239e \n          \u239catan\u239c\u2500\u239f\u239f \n   ___    \u239c    \u239da\u23a0\u239f \n \u2572\u2571 2 \u22c5cos\u239c\u2500\u2500\u2500\u2500\u2500\u2500\u2500\u239f \n          \u239d   2   \u23a0 \n\u2500\u2500\u2500\u2500\u2500\u2500\u2500\u2500\u2500\u2500\u2500\u2500\u2500\u2500\u2500\u2500\u2500\u2500\u2500\u2500\n            ________\n           \u2571      2 \n  ___     \u2571      w  \n\u2572\u2571 a \u22c5   \u2571   1 + \u2500\u2500 \n      4 \u2571         2 \n      \u2572\u2571         a  "
      }
     ],
     "prompt_number": 160
    },
    {
     "cell_type": "code",
     "collapsed": false,
     "input": "#inverse_cosine_transform(_, w, t)",
     "language": "python",
     "outputs": [],
     "prompt_number": 161
    },
    {
     "cell_type": "markdown",
     "source": "20"
    },
    {
     "cell_type": "code",
     "collapsed": false,
     "input": "t**n*exp(-a*t)",
     "language": "python",
     "outputs": [
      {
       "output_type": "pyout",
       "png": "[encoded data removed]",
       "prompt_number": 162,
       "text": "\n n  -a\u22c5t\nt \u22c5\u212f    "
      }
     ],
     "prompt_number": 162
    },
    {
     "cell_type": "code",
     "collapsed": false,
     "input": "cosine_transform(_, t, w)",
     "language": "python",
     "outputs": [
      {
       "output_type": "pyout",
       "png": "[encoded data removed]",
       "prompt_number": 163,
       "text": "\n                        n   1                                  \n                      - \u2500 - \u2500                                  \n                        2   2                                  \n              \u239b     2\u239e                                         \n  ___  -n - 1 \u239c    w \u239f           \u239b      \u239bw\u239e       \u239bw\u239e\u239e         \n\u2572\u2571 2 \u22c5a      \u22c5\u239c1 + \u2500\u2500\u239f       \u22c5cos\u239cn\u22c5atan\u239c\u2500\u239f + atan\u239c\u2500\u239f\u239f\u22c5\u0393(n + 1)\n              \u239c     2\u239f           \u239d      \u239da\u23a0       \u239da\u23a0\u23a0         \n              \u239d    a \u23a0                                         \n\u2500\u2500\u2500\u2500\u2500\u2500\u2500\u2500\u2500\u2500\u2500\u2500\u2500\u2500\u2500\u2500\u2500\u2500\u2500\u2500\u2500\u2500\u2500\u2500\u2500\u2500\u2500\u2500\u2500\u2500\u2500\u2500\u2500\u2500\u2500\u2500\u2500\u2500\u2500\u2500\u2500\u2500\u2500\u2500\u2500\u2500\u2500\u2500\u2500\u2500\u2500\u2500\u2500\u2500\u2500\u2500\u2500\u2500\u2500\u2500\u2500\u2500\u2500\n                               ___                             \n                             \u2572\u2571 \u03c0                              "
      }
     ],
     "prompt_number": 163
    },
    {
     "cell_type": "markdown",
     "source": "21"
    },
    {
     "cell_type": "code",
     "collapsed": false,
     "input": "t**(n-1)*exp(-a*t)",
     "language": "python",
     "outputs": [
      {
       "output_type": "pyout",
       "png": "[encoded data removed]",
       "prompt_number": 164,
       "text": "\n n - 1  -a\u22c5t\nt     \u22c5\u212f    "
      }
     ],
     "prompt_number": 164
    },
    {
     "cell_type": "code",
     "collapsed": false,
     "input": "cosine_transform(_, t, w)",
     "language": "python",
     "outputs": [
      {
       "output_type": "pyout",
       "png": "[encoded data removed]",
       "prompt_number": 165,
       "text": "\n                  -n                    \n                  \u2500\u2500                    \n                  2                     \n          \u239b     2\u239e                      \n  ___  -n \u239c    w \u239f      \u239b      \u239bw\u239e\u239e     \n\u2572\u2571 2 \u22c5a  \u22c5\u239c1 + \u2500\u2500\u239f  \u22c5cos\u239cn\u22c5atan\u239c\u2500\u239f\u239f\u22c5\u0393(n)\n          \u239c     2\u239f      \u239d      \u239da\u23a0\u23a0     \n          \u239d    a \u23a0                      \n\u2500\u2500\u2500\u2500\u2500\u2500\u2500\u2500\u2500\u2500\u2500\u2500\u2500\u2500\u2500\u2500\u2500\u2500\u2500\u2500\u2500\u2500\u2500\u2500\u2500\u2500\u2500\u2500\u2500\u2500\u2500\u2500\u2500\u2500\u2500\u2500\u2500\u2500\u2500\u2500\n                   ___                  \n                 \u2572\u2571 \u03c0                   "
      }
     ],
     "prompt_number": 165
    },
    {
     "cell_type": "code",
     "collapsed": false,
     "input": "#inverse_cosine_transform(_, w, t)",
     "language": "python",
     "outputs": [],
     "prompt_number": 166
    },
    {
     "cell_type": "markdown",
     "source": "22"
    },
    {
     "cell_type": "code",
     "collapsed": false,
     "input": "1/t*(S(1)/2-1/t+1/(exp(t)-1))",
     "language": "python",
     "outputs": [
      {
       "output_type": "pyout",
       "png": "[encoded data removed]",
       "prompt_number": 167,
       "text": "\n1     1      1\n\u2500 + \u2500\u2500\u2500\u2500\u2500\u2500 - \u2500\n2    t       t\n    \u212f  - 1    \n\u2500\u2500\u2500\u2500\u2500\u2500\u2500\u2500\u2500\u2500\u2500\u2500\u2500\u2500\n      t       "
      }
     ],
     "prompt_number": 167
    },
    {
     "cell_type": "code",
     "collapsed": false,
     "input": "#cosine_transform(_, t, w)",
     "language": "python",
     "outputs": [],
     "prompt_number": 168
    },
    {
     "cell_type": "markdown",
     "source": "23"
    },
    {
     "cell_type": "code",
     "collapsed": false,
     "input": "exp(-a*t**2)",
     "language": "python",
     "outputs": [
      {
       "output_type": "pyout",
       "png": "[encoded data removed]",
       "prompt_number": 169,
       "text": "\n     2\n -a\u22c5t \n\u212f     "
      }
     ],
     "prompt_number": 169
    },
    {
     "cell_type": "code",
     "collapsed": false,
     "input": "cosine_transform(_, t, w)",
     "language": "python",
     "outputs": [
      {
       "output_type": "pyout",
       "png": "[encoded data removed]",
       "prompt_number": 170,
       "text": "\n         2\n       -w \n       \u2500\u2500\u2500\n  ___  4\u22c5a\n\u2572\u2571 2 \u22c5\u212f   \n\u2500\u2500\u2500\u2500\u2500\u2500\u2500\u2500\u2500\u2500\n     ___  \n 2\u22c5\u2572\u2571 a   "
      }
     ],
     "prompt_number": 170
    },
    {
     "cell_type": "code",
     "collapsed": false,
     "input": "inverse_cosine_transform(_, w, t)",
     "language": "python",
     "outputs": [
      {
       "output_type": "pyout",
       "png": "[encoded data removed]",
       "prompt_number": 171,
       "text": "\n     2\n -a\u22c5t \n\u212f     "
      }
     ],
     "prompt_number": 171
    },
    {
     "cell_type": "markdown",
     "source": "24"
    },
    {
     "cell_type": "code",
     "collapsed": false,
     "input": "t**(-S(1)/2)*exp(-a/t)",
     "language": "python",
     "outputs": [
      {
       "output_type": "pyout",
       "png": "[encoded data removed]",
       "prompt_number": 172,
       "text": "\n  -a \n  \u2500\u2500 \n  t  \n \u212f   \n\u2500\u2500\u2500\u2500\u2500\n  ___\n\u2572\u2571 t "
      }
     ],
     "prompt_number": 172
    },
    {
     "cell_type": "code",
     "collapsed": false,
     "input": "cosine_transform(_, t, w)",
     "language": "python",
     "outputs": [
      {
       "output_type": "pyout",
       "png": "[encoded data removed]",
       "prompt_number": 173,
       "text": "\n         \u239b                         \u239b               \u2148\u22c5\u03c0\u239e                       \n         \u239c                         \u239c               \u2500\u2500\u2500\u239f                       \n     7/8 \u239c      ___ 4 ___ 4 ___    \u239c    ___   ___   4 \u239f            4 ____ 4 __\n-(-1)   \u22c5\u239d- 2\u22c5\u2572\u2571 2 \u22c5\u2572\u2571 a \u22c5\u2572\u2571 w \u22c5sin\u239d2\u22c5\u2572\u2571 a \u22c5\u2572\u2571 w \u22c5\u212f   \u23a0\u22c5\u0393(3/4) + 2\u22c5\u2572\u2571 -1 \u22c5\u2572\u2571 a\n\u2500\u2500\u2500\u2500\u2500\u2500\u2500\u2500\u2500\u2500\u2500\u2500\u2500\u2500\u2500\u2500\u2500\u2500\u2500\u2500\u2500\u2500\u2500\u2500\u2500\u2500\u2500\u2500\u2500\u2500\u2500\u2500\u2500\u2500\u2500\u2500\u2500\u2500\u2500\u2500\u2500\u2500\u2500\u2500\u2500\u2500\u2500\u2500\u2500\u2500\u2500\u2500\u2500\u2500\u2500\u2500\u2500\u2500\u2500\u2500\u2500\u2500\u2500\u2500\u2500\u2500\u2500\u2500\u2500\u2500\u2500\u2500\u2500\u2500\u2500\u2500\u2500\u2500\n                                                                              \n                                                                              \n                                                                              \n\n           \u239b               \u2148\u22c5\u03c0\u239e                                  \u239b            \n           \u239c               \u2500\u2500\u2500\u239f                                  \u239c            \n_ 4 ___    \u239c    ___   ___   4 \u239f              ___ 4 ___ 4 ___     \u239c    ___   __\n \u22c5\u2572\u2571 w \u22c5cos\u239d2\u22c5\u2572\u2571 a \u22c5\u2572\u2571 w \u22c5\u212f   \u23a0\u22c5\u0393(3/4) - 2\u22c5\u2572\u2571 2 \u22c5\u2572\u2571 a \u22c5\u2572\u2571 w \u22c5sinh\u239d2\u22c5\u2572\u2571 a \u22c5\u2572\u2571 w\n\u2500\u2500\u2500\u2500\u2500\u2500\u2500\u2500\u2500\u2500\u2500\u2500\u2500\u2500\u2500\u2500\u2500\u2500\u2500\u2500\u2500\u2500\u2500\u2500\u2500\u2500\u2500\u2500\u2500\u2500\u2500\u2500\u2500\u2500\u2500\u2500\u2500\u2500\u2500\u2500\u2500\u2500\u2500\u2500\u2500\u2500\u2500\u2500\u2500\u2500\u2500\u2500\u2500\u2500\u2500\u2500\u2500\u2500\u2500\u2500\u2500\u2500\u2500\u2500\u2500\u2500\u2500\u2500\u2500\u2500\u2500\u2500\u2500\u2500\u2500\u2500\u2500\u2500\n                                                                            __\n                                                                     ___   \u2571  \n                                                                 4\u22c5\u2572\u2571 w \u22c5\u2572\u2571  \u2572\n\n   \u2148\u22c5\u03c0\u239e                                   \u239b               \u2148\u22c5\u03c0\u239e                \n   \u2500\u2500\u2500\u239f                                   \u239c               \u2500\u2500\u2500\u239f                \n_   4 \u239f            4 ____ 4 ___ 4 ___     \u239c    ___   ___   4 \u239f          8 ____\n \u22c5\u212f   \u23a0\u22c5\u0393(3/4) + 2\u22c5\u2572\u2571 -1 \u22c5\u2572\u2571 a \u22c5\u2572\u2571 w \u22c5cosh\u239d2\u22c5\u2572\u2571 a \u22c5\u2572\u2571 w \u22c5\u212f   \u23a0\u22c5\u0393(3/4) - \u2572\u2571 -1 \n\u2500\u2500\u2500\u2500\u2500\u2500\u2500\u2500\u2500\u2500\u2500\u2500\u2500\u2500\u2500\u2500\u2500\u2500\u2500\u2500\u2500\u2500\u2500\u2500\u2500\u2500\u2500\u2500\u2500\u2500\u2500\u2500\u2500\u2500\u2500\u2500\u2500\u2500\u2500\u2500\u2500\u2500\u2500\u2500\u2500\u2500\u2500\u2500\u2500\u2500\u2500\u2500\u2500\u2500\u2500\u2500\u2500\u2500\u2500\u2500\u2500\u2500\u2500\u2500\u2500\u2500\u2500\u2500\u2500\u2500\u2500\u2500\u2500\u2500\u2500\u2500\u2500\u2500\n___________                                                                   \n ___   ___                                                                    \n\u2571 a \u22c5\u2572\u2571 w  \u22c5\u0393(3/4)                                                            \n\n                                                                  \u2148\u22c5\u03c0        \u239e\n    _____________                                                 \u2500\u2500\u2500        \u239f\n   \u2571   ___   ___     \u239b  ___   ___   ___\u239e     \u239b  ___   ___   ___\u239e   8         \u239f\n\u22c5\u2572\u2571  \u2572\u2571 a \u22c5\u2572\u2571 w  \u22c5sin\u239d\u2572\u2571 2 \u22c5\u2572\u2571 a \u22c5\u2572\u2571 w \u23a0\u22c5sinh\u239d\u2572\u2571 2 \u22c5\u2572\u2571 a \u22c5\u2572\u2571 w \u23a0\u22c5\u212f   \u22c5\u0393(-1/4)\u23a0\n\u2500\u2500\u2500\u2500\u2500\u2500\u2500\u2500\u2500\u2500\u2500\u2500\u2500\u2500\u2500\u2500\u2500\u2500\u2500\u2500\u2500\u2500\u2500\u2500\u2500\u2500\u2500\u2500\u2500\u2500\u2500\u2500\u2500\u2500\u2500\u2500\u2500\u2500\u2500\u2500\u2500\u2500\u2500\u2500\u2500\u2500\u2500\u2500\u2500\u2500\u2500\u2500\u2500\u2500\u2500\u2500\u2500\u2500\u2500\u2500\u2500\u2500\u2500\u2500\u2500\u2500\u2500\u2500\u2500\u2500\u2500\u2500\u2500\u2500\u2500\u2500\u2500\u2500\n                                                                              \n                                                                              \n                                                                              \n\n  -\u2148\u22c5\u03c0\n  \u2500\u2500\u2500\u2500\n   8  \n\u22c5\u212f    \n\u2500\u2500\u2500\u2500\u2500\u2500\n      \n      \n      "
      }
     ],
     "prompt_number": 173
    },
    {
     "cell_type": "code",
     "collapsed": false,
     "input": "simplify(_)",
     "language": "python",
     "outputs": [
      {
       "output_type": "pyout",
       "png": "[encoded data removed]",
       "prompt_number": 174,
       "text": "\n                               \u239b               \u2148\u22c5\u03c0\u239e                           \n                               \u239c               \u2500\u2500\u2500\u239f                           \n      7/8   ___ 4 ___ 4 ___    \u239c    ___   ___   4 \u239f            8 ____ 4 ___ 4 \n2\u22c5(-1)   \u22c5\u2572\u2571 2 \u22c5\u2572\u2571 a \u22c5\u2572\u2571 w \u22c5sin\u239d2\u22c5\u2572\u2571 a \u22c5\u2572\u2571 w \u22c5\u212f   \u23a0\u22c5\u0393(3/4) + 2\u22c5\u2572\u2571 -1 \u22c5\u2572\u2571 a \u22c5\u2572\u2571\n\u2500\u2500\u2500\u2500\u2500\u2500\u2500\u2500\u2500\u2500\u2500\u2500\u2500\u2500\u2500\u2500\u2500\u2500\u2500\u2500\u2500\u2500\u2500\u2500\u2500\u2500\u2500\u2500\u2500\u2500\u2500\u2500\u2500\u2500\u2500\u2500\u2500\u2500\u2500\u2500\u2500\u2500\u2500\u2500\u2500\u2500\u2500\u2500\u2500\u2500\u2500\u2500\u2500\u2500\u2500\u2500\u2500\u2500\u2500\u2500\u2500\u2500\u2500\u2500\u2500\u2500\u2500\u2500\u2500\u2500\u2500\u2500\u2500\u2500\u2500\u2500\u2500\u2500\n                                                                              \n                                                                              \n                                                                              \n\n       \u239b               \u2148\u22c5\u03c0\u239e                                          \u239b        \n       \u239c               \u2500\u2500\u2500\u239f                                          \u239c        \n___    \u239c    ___   ___   4 \u239f                7/8   ___ 4 ___ 4 ___     \u239c    ___ \n w \u22c5cos\u239d2\u22c5\u2572\u2571 a \u22c5\u2572\u2571 w \u22c5\u212f   \u23a0\u22c5\u0393(3/4) + 2\u22c5(-1)   \u22c5\u2572\u2571 2 \u22c5\u2572\u2571 a \u22c5\u2572\u2571 w \u22c5sinh\u239d2\u22c5\u2572\u2571 a \u22c5\n\u2500\u2500\u2500\u2500\u2500\u2500\u2500\u2500\u2500\u2500\u2500\u2500\u2500\u2500\u2500\u2500\u2500\u2500\u2500\u2500\u2500\u2500\u2500\u2500\u2500\u2500\u2500\u2500\u2500\u2500\u2500\u2500\u2500\u2500\u2500\u2500\u2500\u2500\u2500\u2500\u2500\u2500\u2500\u2500\u2500\u2500\u2500\u2500\u2500\u2500\u2500\u2500\u2500\u2500\u2500\u2500\u2500\u2500\u2500\u2500\u2500\u2500\u2500\u2500\u2500\u2500\u2500\u2500\u2500\u2500\u2500\u2500\u2500\u2500\u2500\u2500\u2500\u2500\n                                                                       _______\n                                                                ___   \u2571   ___ \n                                                            4\u22c5\u2572\u2571 w \u22c5\u2572\u2571  \u2572\u2571 a \u22c5\n\n       \u2148\u22c5\u03c0\u239e                                   \u239b               \u2148\u22c5\u03c0\u239e            \n       \u2500\u2500\u2500\u239f                                   \u239c               \u2500\u2500\u2500\u239f            \n  ___   4 \u239f            8 ____ 4 ___ 4 ___     \u239c    ___   ___   4 \u239f            \n\u2572\u2571 w \u22c5\u212f   \u23a0\u22c5\u0393(3/4) + 2\u22c5\u2572\u2571 -1 \u22c5\u2572\u2571 a \u22c5\u2572\u2571 w \u22c5cosh\u239d2\u22c5\u2572\u2571 a \u22c5\u2572\u2571 w \u22c5\u212f   \u23a0\u22c5\u0393(3/4) - \u2572\u2571\n\u2500\u2500\u2500\u2500\u2500\u2500\u2500\u2500\u2500\u2500\u2500\u2500\u2500\u2500\u2500\u2500\u2500\u2500\u2500\u2500\u2500\u2500\u2500\u2500\u2500\u2500\u2500\u2500\u2500\u2500\u2500\u2500\u2500\u2500\u2500\u2500\u2500\u2500\u2500\u2500\u2500\u2500\u2500\u2500\u2500\u2500\u2500\u2500\u2500\u2500\u2500\u2500\u2500\u2500\u2500\u2500\u2500\u2500\u2500\u2500\u2500\u2500\u2500\u2500\u2500\u2500\u2500\u2500\u2500\u2500\u2500\u2500\u2500\u2500\u2500\u2500\u2500\u2500\n______                                                                        \n  ___                                                                         \n\u2572\u2571 w  \u22c5\u0393(3/4)                                                                 \n\n                                                               \u2148\u22c5\u03c0        \n _____________                                                 \u2500\u2500\u2500        \n\u2571   ___   ___     \u239b  ___   ___   ___\u239e     \u239b  ___   ___   ___\u239e   8         \n  \u2572\u2571 a \u22c5\u2572\u2571 w  \u22c5sin\u239d\u2572\u2571 2 \u22c5\u2572\u2571 a \u22c5\u2572\u2571 w \u23a0\u22c5sinh\u239d\u2572\u2571 2 \u22c5\u2572\u2571 a \u22c5\u2572\u2571 w \u23a0\u22c5\u212f   \u22c5\u0393(-1/4)\n\u2500\u2500\u2500\u2500\u2500\u2500\u2500\u2500\u2500\u2500\u2500\u2500\u2500\u2500\u2500\u2500\u2500\u2500\u2500\u2500\u2500\u2500\u2500\u2500\u2500\u2500\u2500\u2500\u2500\u2500\u2500\u2500\u2500\u2500\u2500\u2500\u2500\u2500\u2500\u2500\u2500\u2500\u2500\u2500\u2500\u2500\u2500\u2500\u2500\u2500\u2500\u2500\u2500\u2500\u2500\u2500\u2500\u2500\u2500\u2500\u2500\u2500\u2500\u2500\u2500\u2500\u2500\u2500\u2500\u2500\u2500\u2500\u2500\u2500\n                                                                          \n                                                                          \n                                                                          "
      }
     ],
     "prompt_number": 174
    },
    {
     "cell_type": "markdown",
     "source": "25"
    },
    {
     "cell_type": "code",
     "collapsed": false,
     "input": "t**(-S(3)/2)*exp(-a/t)",
     "language": "python",
     "outputs": [
      {
       "output_type": "pyout",
       "png": "[encoded data removed]",
       "prompt_number": 175,
       "text": "\n -a \n \u2500\u2500 \n t  \n\u212f   \n\u2500\u2500\u2500\u2500\n 3/2\nt   "
      }
     ],
     "prompt_number": 175
    },
    {
     "cell_type": "code",
     "collapsed": false,
     "input": "cosine_transform(_, t, w)",
     "language": "python",
     "outputs": [
      {
       "output_type": "pyout",
       "png": "[encoded data removed]",
       "prompt_number": 176,
       "text": "\n      \u239b            \u239b        \u239b       \u239b                    \u2148\u22c5\u03c0\u239e          \u239b      \n      \u239c            \u239c        \u239c       \u239c                    \u2500\u2500\u2500\u239f          \u239c      \n      \u239c            \u239c    ___ \u239c       \u239c         ___   ___   4 \u239f          \u239c      \n      \u239c    ___     \u239c3\u22c5\u2572\u2571 \u03c0 \u22c5\u239dbesseli\u239d5/2, 2\u22c5\u2572\u2571 a \u22c5\u2572\u2571 w \u22c5\u212f   \u23a0 + besselj\u239d5/2, 2\n      \u239c  \u2572\u2571 \u03c0 \u22c5a\u22c5w\u22c5\u239c\u2500\u2500\u2500\u2500\u2500\u2500\u2500\u2500\u2500\u2500\u2500\u2500\u2500\u2500\u2500\u2500\u2500\u2500\u2500\u2500\u2500\u2500\u2500\u2500\u2500\u2500\u2500\u2500\u2500\u2500\u2500\u2500\u2500\u2500\u2500\u2500\u2500\u2500\u2500\u2500\u2500\u2500\u2500\u2500\u2500\u2500\u2500\u2500\u2500\u2500\u2500\u2500\u2500\u2500\u2500\u2500\u2500\u2500\n      \u239c            \u239c                                        5/4  5/4          \n  ___ \u239c            \u239d                                     8\u22c5a   \u22c5w             \n\u2572\u2571 w \u22c5\u239c- \u2500\u2500\u2500\u2500\u2500\u2500\u2500\u2500\u2500\u2500\u2500\u2500\u2500\u2500\u2500\u2500\u2500\u2500\u2500\u2500\u2500\u2500\u2500\u2500\u2500\u2500\u2500\u2500\u2500\u2500\u2500\u2500\u2500\u2500\u2500\u2500\u2500\u2500\u2500\u2500\u2500\u2500\u2500\u2500\u2500\u2500\u2500\u2500\u2500\u2500\u2500\u2500\u2500\u2500\u2500\u2500\u2500\u2500\u2500\u2500\u2500\u2500\u2500\u2500\u2500\u2500\u2500\u2500\u2500\n      \u239c                                                                       \n      \u239d                                                                       \n\u2500\u2500\u2500\u2500\u2500\u2500\u2500\u2500\u2500\u2500\u2500\u2500\u2500\u2500\u2500\u2500\u2500\u2500\u2500\u2500\u2500\u2500\u2500\u2500\u2500\u2500\u2500\u2500\u2500\u2500\u2500\u2500\u2500\u2500\u2500\u2500\u2500\u2500\u2500\u2500\u2500\u2500\u2500\u2500\u2500\u2500\u2500\u2500\u2500\u2500\u2500\u2500\u2500\u2500\u2500\u2500\u2500\u2500\u2500\u2500\u2500\u2500\u2500\u2500\u2500\u2500\u2500\u2500\u2500\u2500\u2500\u2500\u2500\u2500\u2500\u2500\u2500\u2500\n                                                                              \n                                                                              \n\n              \u2148\u22c5\u03c0\u239e\u239e  -5\u22c5\u2148\u22c5\u03c0           \u239b       \u239b                    \u2148\u22c5\u03c0\u239e       \n              \u2500\u2500\u2500\u239f\u239f  \u2500\u2500\u2500\u2500\u2500\u2500           \u239c       \u239c                    \u2500\u2500\u2500\u239f       \n   ___   ___   4 \u239f\u239f    8          ___ \u239c       \u239c         ___   ___   4 \u239f       \n\u22c5\u2572\u2571 a \u22c5\u2572\u2571 w \u22c5\u212f   \u23a0\u23a0\u22c5\u212f         9\u22c5\u2572\u2571 \u03c0 \u22c5\u239dbesseli\u239d3/2, 2\u22c5\u2572\u2571 a \u22c5\u2572\u2571 w \u22c5\u212f   \u23a0 - bess\n\u2500\u2500\u2500\u2500\u2500\u2500\u2500\u2500\u2500\u2500\u2500\u2500\u2500\u2500\u2500\u2500\u2500\u2500\u2500\u2500\u2500\u2500\u2500\u2500\u2500\u2500\u2500 + \u2500\u2500\u2500\u2500\u2500\u2500\u2500\u2500\u2500\u2500\u2500\u2500\u2500\u2500\u2500\u2500\u2500\u2500\u2500\u2500\u2500\u2500\u2500\u2500\u2500\u2500\u2500\u2500\u2500\u2500\u2500\u2500\u2500\u2500\u2500\u2500\u2500\u2500\u2500\u2500\u2500\u2500\u2500\u2500\u2500\u2500\u2500\u2500\n                                                                       7/4  7/\n                                                                   16\u22c5a   \u22c5w  \n\u2500\u2500\u2500\u2500\u2500\u2500\u2500\u2500\u2500\u2500\u2500\u2500\u2500\u2500\u2500\u2500\u2500\u2500\u2500\u2500\u2500\u2500\u2500\u2500\u2500\u2500\u2500\u2500\u2500\u2500\u2500\u2500\u2500\u2500\u2500\u2500\u2500\u2500\u2500\u2500\u2500\u2500\u2500\u2500\u2500\u2500\u2500\u2500\u2500\u2500\u2500\u2500\u2500\u2500\u2500\u2500\u2500\u2500\u2500\u2500\u2500\u2500\u2500\u2500\u2500\u2500\u2500\u2500\u2500\u2500\u2500\u2500\u2500\u2500\u2500\u2500\u2500\u2500\n                        4\u22c5\u0393(5/4)                                              \n                                                                              \n\u2500\u2500\u2500\u2500\u2500\u2500\u2500\u2500\u2500\u2500\u2500\u2500\u2500\u2500\u2500\u2500\u2500\u2500\u2500\u2500\u2500\u2500\u2500\u2500\u2500\u2500\u2500\u2500\u2500\u2500\u2500\u2500\u2500\u2500\u2500\u2500\u2500\u2500\u2500\u2500\u2500\u2500\u2500\u2500\u2500\u2500\u2500\u2500\u2500\u2500\u2500\u2500\u2500\u2500\u2500\u2500\u2500\u2500\u2500\u2500\u2500\u2500\u2500\u2500\u2500\u2500\u2500\u2500\u2500\u2500\u2500\u2500\u2500\u2500\u2500\u2500\u2500\u2500\n                                                                              \n                                                                              \n\n   \u239b                    \u2148\u22c5\u03c0\u239e\u239e  -7\u22c5\u2148\u22c5\u03c0\u239e                                        \n   \u239c                    \u2500\u2500\u2500\u239f\u239f  \u2500\u2500\u2500\u2500\u2500\u2500\u239f                                        \n   \u239c         ___   ___   4 \u239f\u239f    8   \u239f                                        \nelj\u239d3/2, 2\u22c5\u2572\u2571 a \u22c5\u2572\u2571 w \u22c5\u212f   \u23a0\u23a0\u22c5\u212f      \u239f           \u239b       \u239b                    \n\u2500\u2500\u2500\u2500\u2500\u2500\u2500\u2500\u2500\u2500\u2500\u2500\u2500\u2500\u2500\u2500\u2500\u2500\u2500\u2500\u2500\u2500\u2500\u2500\u2500\u2500\u2500\u2500\u2500\u2500\u2500\u2500\u2500\u2500\u2500\u2500\u2500\u239f\u22c5\u0393(-3/4)   \u239c       \u239c                    \n4                                    \u239f           \u239c       \u239c          ___   ___ \n                                     \u23a0           \u239dbesseli\u239d-1/2, 2\u22c5\u2572\u2571 a \u22c5\u2572\u2571 w \u22c5\n\u2500\u2500\u2500\u2500\u2500\u2500\u2500\u2500\u2500\u2500\u2500\u2500\u2500\u2500\u2500\u2500\u2500\u2500\u2500\u2500\u2500\u2500\u2500\u2500\u2500\u2500\u2500\u2500\u2500\u2500\u2500\u2500\u2500\u2500\u2500\u2500\u2500\u2500\u2500\u2500\u2500\u2500\u2500\u2500\u2500\u2500 + \u2500\u2500\u2500\u2500\u2500\u2500\u2500\u2500\u2500\u2500\u2500\u2500\u2500\u2500\u2500\u2500\u2500\u2500\u2500\u2500\u2500\u2500\u2500\u2500\u2500\u2500\u2500\u2500\u2500\n                                                                              \n                                                                              \n\u2500\u2500\u2500\u2500\u2500\u2500\u2500\u2500\u2500\u2500\u2500\u2500\u2500\u2500\u2500\u2500\u2500\u2500\u2500\u2500\u2500\u2500\u2500\u2500\u2500\u2500\u2500\u2500\u2500\u2500\u2500\u2500\u2500\u2500\u2500\u2500\u2500\u2500\u2500\u2500\u2500\u2500\u2500\u2500\u2500\u2500\u2500\u2500\u2500\u2500\u2500\u2500\u2500\u2500\u2500\u2500\u2500\u2500\u2500\u2500\u2500\u2500\u2500\u2500\u2500\u2500\u2500\u2500\u2500\u2500\u2500\u2500\u2500\u2500\u2500\u2500\u2500\u2500\n                                   ___                                        \n                                 \u2572\u2571 \u03c0                                         \n\n                                                                              \n                                                                  \u239b       \u239b   \n                                                                  \u239c       \u239c   \n \u2148\u22c5\u03c0\u239e          \u239b                     \u2148\u22c5\u03c0\u239e\u239e  \u2148\u22c5\u03c0                   \u239c       \u239c   \n \u2500\u2500\u2500\u239f          \u239c                     \u2500\u2500\u2500\u239f\u239f  \u2500\u2500\u2500                   \u239cbesseli\u239d1/2\n  4 \u239f          \u239c          ___   ___   4 \u239f\u239f   8                  \u03c0\u22c5\u239c\u2500\u2500\u2500\u2500\u2500\u2500\u2500\u2500\u2500\u2500\u2500\n\u212f   \u23a0 + besselj\u239d-1/2, 2\u22c5\u2572\u2571 a \u22c5\u2572\u2571 w \u22c5\u212f   \u23a0\u23a0\u22c5\u212f   \u22c5\u0393(1/4)\u22c5\u0393(3/4)     \u239d           \n\u2500\u2500\u2500\u2500\u2500\u2500\u2500\u2500\u2500\u2500\u2500\u2500\u2500\u2500\u2500\u2500\u2500\u2500\u2500\u2500\u2500\u2500\u2500\u2500\u2500\u2500\u2500\u2500\u2500\u2500\u2500\u2500\u2500\u2500\u2500\u2500\u2500\u2500\u2500\u2500\u2500\u2500\u2500\u2500\u2500\u2500\u2500\u2500\u2500\u2500\u2500\u2500\u2500\u2500\u2500\u2500\u2500\u2500\u2500\u2500\u2500 + \u2500\u2500\u2500\u2500\u2500\u2500\u2500\u2500\u2500\u2500\u2500\u2500\u2500\u2500\n           4 ___ 4 ___                                                        \n         2\u22c5\u2572\u2571 a \u22c5\u2572\u2571 w                                                         \n\u2500\u2500\u2500\u2500\u2500\u2500\u2500\u2500\u2500\u2500\u2500\u2500\u2500\u2500\u2500\u2500\u2500\u2500\u2500\u2500\u2500\u2500\u2500\u2500\u2500\u2500\u2500\u2500\u2500\u2500\u2500\u2500\u2500\u2500\u2500\u2500\u2500\u2500\u2500\u2500\u2500\u2500\u2500\u2500\u2500\u2500\u2500\u2500\u2500\u2500\u2500\u2500\u2500\u2500\u2500\u2500\u2500\u2500\u2500\u2500\u2500\u2500\u2500\u2500\u2500\u2500\u2500\u2500\u2500\u2500\u2500\u2500\u2500\u2500\u2500\u2500\u2500\u2500\n                                                                              \n                                                                              \n\n                                                                       \u239e\n                 \u2148\u22c5\u03c0\u239e          \u239b                    \u2148\u22c5\u03c0\u239e\u239e              \u239f\n                 \u2500\u2500\u2500\u239f          \u239c                    \u2500\u2500\u2500\u239f\u239f  -\u2148\u22c5\u03c0        \u239f\n      ___   ___   4 \u239f          \u239c         ___   ___   4 \u239f\u239f  \u2500\u2500\u2500\u2500        \u239f\n, 2\u22c5\u2572\u2571 a \u22c5\u2572\u2571 w \u22c5\u212f   \u23a0   besselj\u239d1/2, 2\u22c5\u2572\u2571 a \u22c5\u2572\u2571 w \u22c5\u212f   \u23a0\u239f   8          \u239f\n\u2500\u2500\u2500\u2500\u2500\u2500\u2500\u2500\u2500\u2500\u2500\u2500\u2500\u2500\u2500\u2500\u2500\u2500\u2500\u2500\u2500 + \u2500\u2500\u2500\u2500\u2500\u2500\u2500\u2500\u2500\u2500\u2500\u2500\u2500\u2500\u2500\u2500\u2500\u2500\u2500\u2500\u2500\u2500\u2500\u2500\u2500\u2500\u2500\u2500\u2500\u2500\u2500\u2500\u239f\u22c5\u212f    \u22c5\u0393(-1/4)\u239f\n    4                                  4                \u23a0              \u239f\n\u2500\u2500\u2500\u2500\u2500\u2500\u2500\u2500\u2500\u2500\u2500\u2500\u2500\u2500\u2500\u2500\u2500\u2500\u2500\u2500\u2500\u2500\u2500\u2500\u2500\u2500\u2500\u2500\u2500\u2500\u2500\u2500\u2500\u2500\u2500\u2500\u2500\u2500\u2500\u2500\u2500\u2500\u2500\u2500\u2500\u2500\u2500\u2500\u2500\u2500\u2500\u2500\u2500\u2500\u2500\u2500\u2500\u2500\u2500\u2500\u2500\u2500\u2500\u2500\u2500\u2500\u2500\u2500\u2500\u2500\u2500\u239f\n                     4 ___ 4 ___                                       \u239f\n                   2\u22c5\u2572\u2571 a \u22c5\u2572\u2571 w \u22c5\u0393(3/4)                                \u23a0\n\u2500\u2500\u2500\u2500\u2500\u2500\u2500\u2500\u2500\u2500\u2500\u2500\u2500\u2500\u2500\u2500\u2500\u2500\u2500\u2500\u2500\u2500\u2500\u2500\u2500\u2500\u2500\u2500\u2500\u2500\u2500\u2500\u2500\u2500\u2500\u2500\u2500\u2500\u2500\u2500\u2500\u2500\u2500\u2500\u2500\u2500\u2500\u2500\u2500\u2500\u2500\u2500\u2500\u2500\u2500\u2500\u2500\u2500\u2500\u2500\u2500\u2500\u2500\u2500\u2500\u2500\u2500\u2500\u2500\u2500\u2500\u2500\n                                                                        \n                                                                        "
      }
     ],
     "prompt_number": 176
    },
    {
     "cell_type": "code",
     "collapsed": false,
     "input": "simplify(_)",
     "language": "python",
     "outputs": [
      {
       "output_type": "pyout",
       "png": "[encoded data removed]",
       "prompt_number": 177,
       "text": "\n      \u239b            \u239b        \u239b       \u239b                    \u2148\u22c5\u03c0\u239e          \u239b      \n      \u239c            \u239c        \u239c       \u239c                    \u2500\u2500\u2500\u239f          \u239c      \n      \u239c            \u239c    ___ \u239c       \u239c         ___   ___   4 \u239f          \u239c      \n      \u239c    ___     \u239c3\u22c5\u2572\u2571 \u03c0 \u22c5\u239dbesseli\u239d5/2, 2\u22c5\u2572\u2571 a \u22c5\u2572\u2571 w \u22c5\u212f   \u23a0 + besselj\u239d5/2, 2\n      \u239c  \u2572\u2571 \u03c0 \u22c5a\u22c5w\u22c5\u239c\u2500\u2500\u2500\u2500\u2500\u2500\u2500\u2500\u2500\u2500\u2500\u2500\u2500\u2500\u2500\u2500\u2500\u2500\u2500\u2500\u2500\u2500\u2500\u2500\u2500\u2500\u2500\u2500\u2500\u2500\u2500\u2500\u2500\u2500\u2500\u2500\u2500\u2500\u2500\u2500\u2500\u2500\u2500\u2500\u2500\u2500\u2500\u2500\u2500\u2500\u2500\u2500\u2500\u2500\u2500\u2500\u2500\u2500\n      \u239c            \u239c                                        5/4  5/4          \n  ___ \u239c            \u239d                                     8\u22c5a   \u22c5w             \n\u2572\u2571 w \u22c5\u239c- \u2500\u2500\u2500\u2500\u2500\u2500\u2500\u2500\u2500\u2500\u2500\u2500\u2500\u2500\u2500\u2500\u2500\u2500\u2500\u2500\u2500\u2500\u2500\u2500\u2500\u2500\u2500\u2500\u2500\u2500\u2500\u2500\u2500\u2500\u2500\u2500\u2500\u2500\u2500\u2500\u2500\u2500\u2500\u2500\u2500\u2500\u2500\u2500\u2500\u2500\u2500\u2500\u2500\u2500\u2500\u2500\u2500\u2500\u2500\u2500\u2500\u2500\u2500\u2500\u2500\u2500\u2500\u2500\u2500\n      \u239c                                                                       \n      \u239d                                                                       \n\u2500\u2500\u2500\u2500\u2500\u2500\u2500\u2500\u2500\u2500\u2500\u2500\u2500\u2500\u2500\u2500\u2500\u2500\u2500\u2500\u2500\u2500\u2500\u2500\u2500\u2500\u2500\u2500\u2500\u2500\u2500\u2500\u2500\u2500\u2500\u2500\u2500\u2500\u2500\u2500\u2500\u2500\u2500\u2500\u2500\u2500\u2500\u2500\u2500\u2500\u2500\u2500\u2500\u2500\u2500\u2500\u2500\u2500\u2500\u2500\u2500\u2500\u2500\u2500\u2500\u2500\u2500\u2500\u2500\u2500\u2500\u2500\u2500\u2500\u2500\u2500\u2500\u2500\n                                                                              \n                                                                              \n\n              \u2148\u22c5\u03c0\u239e\u239e  -5\u22c5\u2148\u22c5\u03c0           \u239b       \u239b                    \u2148\u22c5\u03c0\u239e       \n              \u2500\u2500\u2500\u239f\u239f  \u2500\u2500\u2500\u2500\u2500\u2500           \u239c       \u239c                    \u2500\u2500\u2500\u239f       \n   ___   ___   4 \u239f\u239f    8          ___ \u239c       \u239c         ___   ___   4 \u239f       \n\u22c5\u2572\u2571 a \u22c5\u2572\u2571 w \u22c5\u212f   \u23a0\u23a0\u22c5\u212f         9\u22c5\u2572\u2571 \u03c0 \u22c5\u239dbesseli\u239d3/2, 2\u22c5\u2572\u2571 a \u22c5\u2572\u2571 w \u22c5\u212f   \u23a0 - bess\n\u2500\u2500\u2500\u2500\u2500\u2500\u2500\u2500\u2500\u2500\u2500\u2500\u2500\u2500\u2500\u2500\u2500\u2500\u2500\u2500\u2500\u2500\u2500\u2500\u2500\u2500\u2500 + \u2500\u2500\u2500\u2500\u2500\u2500\u2500\u2500\u2500\u2500\u2500\u2500\u2500\u2500\u2500\u2500\u2500\u2500\u2500\u2500\u2500\u2500\u2500\u2500\u2500\u2500\u2500\u2500\u2500\u2500\u2500\u2500\u2500\u2500\u2500\u2500\u2500\u2500\u2500\u2500\u2500\u2500\u2500\u2500\u2500\u2500\u2500\u2500\n                                                                       7/4  7/\n                                                                   16\u22c5a   \u22c5w  \n\u2500\u2500\u2500\u2500\u2500\u2500\u2500\u2500\u2500\u2500\u2500\u2500\u2500\u2500\u2500\u2500\u2500\u2500\u2500\u2500\u2500\u2500\u2500\u2500\u2500\u2500\u2500\u2500\u2500\u2500\u2500\u2500\u2500\u2500\u2500\u2500\u2500\u2500\u2500\u2500\u2500\u2500\u2500\u2500\u2500\u2500\u2500\u2500\u2500\u2500\u2500\u2500\u2500\u2500\u2500\u2500\u2500\u2500\u2500\u2500\u2500\u2500\u2500\u2500\u2500\u2500\u2500\u2500\u2500\u2500\u2500\u2500\u2500\u2500\u2500\u2500\u2500\u2500\n                        4\u22c5\u0393(5/4)                                              \n                                                                              \n\u2500\u2500\u2500\u2500\u2500\u2500\u2500\u2500\u2500\u2500\u2500\u2500\u2500\u2500\u2500\u2500\u2500\u2500\u2500\u2500\u2500\u2500\u2500\u2500\u2500\u2500\u2500\u2500\u2500\u2500\u2500\u2500\u2500\u2500\u2500\u2500\u2500\u2500\u2500\u2500\u2500\u2500\u2500\u2500\u2500\u2500\u2500\u2500\u2500\u2500\u2500\u2500\u2500\u2500\u2500\u2500\u2500\u2500\u2500\u2500\u2500\u2500\u2500\u2500\u2500\u2500\u2500\u2500\u2500\u2500\u2500\u2500\u2500\u2500\u2500\u2500\u2500\u2500\n                                                                              \n                                                                              \n\n   \u239b                    \u2148\u22c5\u03c0\u239e\u239e  -7\u22c5\u2148\u22c5\u03c0\u239e                                        \n   \u239c                    \u2500\u2500\u2500\u239f\u239f  \u2500\u2500\u2500\u2500\u2500\u2500\u239f                                        \n   \u239c         ___   ___   4 \u239f\u239f    8   \u239f                                        \nelj\u239d3/2, 2\u22c5\u2572\u2571 a \u22c5\u2572\u2571 w \u22c5\u212f   \u23a0\u23a0\u22c5\u212f      \u239f           \u239b       \u239b                    \n\u2500\u2500\u2500\u2500\u2500\u2500\u2500\u2500\u2500\u2500\u2500\u2500\u2500\u2500\u2500\u2500\u2500\u2500\u2500\u2500\u2500\u2500\u2500\u2500\u2500\u2500\u2500\u2500\u2500\u2500\u2500\u2500\u2500\u2500\u2500\u2500\u2500\u239f\u22c5\u0393(-3/4)   \u239c       \u239c                    \n4                                    \u239f           \u239c       \u239c          ___   ___ \n                                     \u23a0           \u239dbesseli\u239d-1/2, 2\u22c5\u2572\u2571 a \u22c5\u2572\u2571 w \u22c5\n\u2500\u2500\u2500\u2500\u2500\u2500\u2500\u2500\u2500\u2500\u2500\u2500\u2500\u2500\u2500\u2500\u2500\u2500\u2500\u2500\u2500\u2500\u2500\u2500\u2500\u2500\u2500\u2500\u2500\u2500\u2500\u2500\u2500\u2500\u2500\u2500\u2500\u2500\u2500\u2500\u2500\u2500\u2500\u2500\u2500\u2500 + \u2500\u2500\u2500\u2500\u2500\u2500\u2500\u2500\u2500\u2500\u2500\u2500\u2500\u2500\u2500\u2500\u2500\u2500\u2500\u2500\u2500\u2500\u2500\u2500\u2500\u2500\u2500\u2500\u2500\n                                                                              \n                                                                              \n\u2500\u2500\u2500\u2500\u2500\u2500\u2500\u2500\u2500\u2500\u2500\u2500\u2500\u2500\u2500\u2500\u2500\u2500\u2500\u2500\u2500\u2500\u2500\u2500\u2500\u2500\u2500\u2500\u2500\u2500\u2500\u2500\u2500\u2500\u2500\u2500\u2500\u2500\u2500\u2500\u2500\u2500\u2500\u2500\u2500\u2500\u2500\u2500\u2500\u2500\u2500\u2500\u2500\u2500\u2500\u2500\u2500\u2500\u2500\u2500\u2500\u2500\u2500\u2500\u2500\u2500\u2500\u2500\u2500\u2500\u2500\u2500\u2500\u2500\u2500\u2500\u2500\u2500\n                                   ___                                        \n                                 \u2572\u2571 \u03c0                                         \n\n                                                                              \n                                                                  \u239b       \u239b   \n                                                                  \u239c       \u239c   \n \u2148\u22c5\u03c0\u239e          \u239b                     \u2148\u22c5\u03c0\u239e\u239e  \u2148\u22c5\u03c0                   \u239c       \u239c   \n \u2500\u2500\u2500\u239f          \u239c                     \u2500\u2500\u2500\u239f\u239f  \u2500\u2500\u2500                   \u239cbesseli\u239d1/2\n  4 \u239f          \u239c          ___   ___   4 \u239f\u239f   8                  \u03c0\u22c5\u239c\u2500\u2500\u2500\u2500\u2500\u2500\u2500\u2500\u2500\u2500\u2500\n\u212f   \u23a0 + besselj\u239d-1/2, 2\u22c5\u2572\u2571 a \u22c5\u2572\u2571 w \u22c5\u212f   \u23a0\u23a0\u22c5\u212f   \u22c5\u0393(1/4)\u22c5\u0393(3/4)     \u239d           \n\u2500\u2500\u2500\u2500\u2500\u2500\u2500\u2500\u2500\u2500\u2500\u2500\u2500\u2500\u2500\u2500\u2500\u2500\u2500\u2500\u2500\u2500\u2500\u2500\u2500\u2500\u2500\u2500\u2500\u2500\u2500\u2500\u2500\u2500\u2500\u2500\u2500\u2500\u2500\u2500\u2500\u2500\u2500\u2500\u2500\u2500\u2500\u2500\u2500\u2500\u2500\u2500\u2500\u2500\u2500\u2500\u2500\u2500\u2500\u2500\u2500 + \u2500\u2500\u2500\u2500\u2500\u2500\u2500\u2500\u2500\u2500\u2500\u2500\u2500\u2500\n           4 ___ 4 ___                                                        \n         2\u22c5\u2572\u2571 a \u22c5\u2572\u2571 w                                                         \n\u2500\u2500\u2500\u2500\u2500\u2500\u2500\u2500\u2500\u2500\u2500\u2500\u2500\u2500\u2500\u2500\u2500\u2500\u2500\u2500\u2500\u2500\u2500\u2500\u2500\u2500\u2500\u2500\u2500\u2500\u2500\u2500\u2500\u2500\u2500\u2500\u2500\u2500\u2500\u2500\u2500\u2500\u2500\u2500\u2500\u2500\u2500\u2500\u2500\u2500\u2500\u2500\u2500\u2500\u2500\u2500\u2500\u2500\u2500\u2500\u2500\u2500\u2500\u2500\u2500\u2500\u2500\u2500\u2500\u2500\u2500\u2500\u2500\u2500\u2500\u2500\u2500\u2500\n                                                                              \n                                                                              \n\n                                                                       \u239e\n                 \u2148\u22c5\u03c0\u239e          \u239b                    \u2148\u22c5\u03c0\u239e\u239e              \u239f\n                 \u2500\u2500\u2500\u239f          \u239c                    \u2500\u2500\u2500\u239f\u239f  -\u2148\u22c5\u03c0        \u239f\n      ___   ___   4 \u239f          \u239c         ___   ___   4 \u239f\u239f  \u2500\u2500\u2500\u2500        \u239f\n, 2\u22c5\u2572\u2571 a \u22c5\u2572\u2571 w \u22c5\u212f   \u23a0   besselj\u239d1/2, 2\u22c5\u2572\u2571 a \u22c5\u2572\u2571 w \u22c5\u212f   \u23a0\u239f   8          \u239f\n\u2500\u2500\u2500\u2500\u2500\u2500\u2500\u2500\u2500\u2500\u2500\u2500\u2500\u2500\u2500\u2500\u2500\u2500\u2500\u2500\u2500 + \u2500\u2500\u2500\u2500\u2500\u2500\u2500\u2500\u2500\u2500\u2500\u2500\u2500\u2500\u2500\u2500\u2500\u2500\u2500\u2500\u2500\u2500\u2500\u2500\u2500\u2500\u2500\u2500\u2500\u2500\u2500\u2500\u239f\u22c5\u212f    \u22c5\u0393(-1/4)\u239f\n    4                                  4                \u23a0              \u239f\n\u2500\u2500\u2500\u2500\u2500\u2500\u2500\u2500\u2500\u2500\u2500\u2500\u2500\u2500\u2500\u2500\u2500\u2500\u2500\u2500\u2500\u2500\u2500\u2500\u2500\u2500\u2500\u2500\u2500\u2500\u2500\u2500\u2500\u2500\u2500\u2500\u2500\u2500\u2500\u2500\u2500\u2500\u2500\u2500\u2500\u2500\u2500\u2500\u2500\u2500\u2500\u2500\u2500\u2500\u2500\u2500\u2500\u2500\u2500\u2500\u2500\u2500\u2500\u2500\u2500\u2500\u2500\u2500\u2500\u2500\u2500\u239f\n                     4 ___ 4 ___                                       \u239f\n                   2\u22c5\u2572\u2571 a \u22c5\u2572\u2571 w \u22c5\u0393(3/4)                                \u23a0\n\u2500\u2500\u2500\u2500\u2500\u2500\u2500\u2500\u2500\u2500\u2500\u2500\u2500\u2500\u2500\u2500\u2500\u2500\u2500\u2500\u2500\u2500\u2500\u2500\u2500\u2500\u2500\u2500\u2500\u2500\u2500\u2500\u2500\u2500\u2500\u2500\u2500\u2500\u2500\u2500\u2500\u2500\u2500\u2500\u2500\u2500\u2500\u2500\u2500\u2500\u2500\u2500\u2500\u2500\u2500\u2500\u2500\u2500\u2500\u2500\u2500\u2500\u2500\u2500\u2500\u2500\u2500\u2500\u2500\u2500\u2500\u2500\n                                                                        \n                                                                        "
      }
     ],
     "prompt_number": 177
    },
    {
     "cell_type": "code",
     "collapsed": false,
     "input": "besselsimp(_)",
     "language": "python",
     "outputs": [
      {
       "output_type": "pyout",
       "png": "[encoded data removed]",
       "prompt_number": 178,
       "text": "\n      \u239b            \u239b        \u239b     \u239b               \u2148\u22c5\u03c0\u239e  -\u2148\u22c5\u03c0       \u239b          \n      \u239c            \u239c        \u239c     \u239c               \u2500\u2500\u2500\u239f  \u2500\u2500\u2500\u2500       \u239c          \n      \u239c            \u239c        \u239c     \u239c    ___   ___   4 \u239f   8         \u239c    ___   \n      \u239c            \u239c    ___ \u239c  sin\u239d2\u22c5\u2572\u2571 a \u22c5\u2572\u2571 w \u22c5\u212f   \u23a0\u22c5\u212f       sinh\u239d2\u22c5\u2572\u2571 a \u22c5\u2572\u2571\n      \u239c            \u239c3\u22c5\u2572\u2571 \u03c0 \u22c5\u239c- \u2500\u2500\u2500\u2500\u2500\u2500\u2500\u2500\u2500\u2500\u2500\u2500\u2500\u2500\u2500\u2500\u2500\u2500\u2500\u2500\u2500\u2500\u2500\u2500\u2500\u2500\u2500\u2500\u2500 + \u2500\u2500\u2500\u2500\u2500\u2500\u2500\u2500\u2500\u2500\u2500\u2500\u2500\u2500\u2500\n      \u239c            \u239c        \u239c               _____________                   __\n      \u239c            \u239c        \u239c        ___   \u2571   ___   ___             ___   \u2571  \n      \u239c    ___     \u239c        \u239d      \u2572\u2571 \u03c0 \u22c5\u2572\u2571  \u2572\u2571 a \u22c5\u2572\u2571 w            \u2572\u2571 \u03c0 \u22c5\u2572\u2571  \u2572\n      \u239c  \u2572\u2571 \u03c0 \u22c5a\u22c5w\u22c5\u239c\u2500\u2500\u2500\u2500\u2500\u2500\u2500\u2500\u2500\u2500\u2500\u2500\u2500\u2500\u2500\u2500\u2500\u2500\u2500\u2500\u2500\u2500\u2500\u2500\u2500\u2500\u2500\u2500\u2500\u2500\u2500\u2500\u2500\u2500\u2500\u2500\u2500\u2500\u2500\u2500\u2500\u2500\u2500\u2500\u2500\u2500\u2500\u2500\u2500\u2500\u2500\u2500\u2500\u2500\u2500\u2500\u2500\u2500\n      \u239c            \u239c                                                          \n  ___ \u239c            \u239d                                                          \n\u2572\u2571 w \u22c5\u239c- \u2500\u2500\u2500\u2500\u2500\u2500\u2500\u2500\u2500\u2500\u2500\u2500\u2500\u2500\u2500\u2500\u2500\u2500\u2500\u2500\u2500\u2500\u2500\u2500\u2500\u2500\u2500\u2500\u2500\u2500\u2500\u2500\u2500\u2500\u2500\u2500\u2500\u2500\u2500\u2500\u2500\u2500\u2500\u2500\u2500\u2500\u2500\u2500\u2500\u2500\u2500\u2500\u2500\u2500\u2500\u2500\u2500\u2500\u2500\u2500\u2500\u2500\u2500\u2500\u2500\u2500\u2500\u2500\u2500\n      \u239c                                                                       \n      \u239d                                                                       \n\u2500\u2500\u2500\u2500\u2500\u2500\u2500\u2500\u2500\u2500\u2500\u2500\u2500\u2500\u2500\u2500\u2500\u2500\u2500\u2500\u2500\u2500\u2500\u2500\u2500\u2500\u2500\u2500\u2500\u2500\u2500\u2500\u2500\u2500\u2500\u2500\u2500\u2500\u2500\u2500\u2500\u2500\u2500\u2500\u2500\u2500\u2500\u2500\u2500\u2500\u2500\u2500\u2500\u2500\u2500\u2500\u2500\u2500\u2500\u2500\u2500\u2500\u2500\u2500\u2500\u2500\u2500\u2500\u2500\u2500\u2500\u2500\u2500\u2500\u2500\u2500\u2500\u2500\n                                                                              \n                                                                              \n\n     \u2148\u22c5\u03c0\u239e  -\u2148\u22c5\u03c0        \u239b               \u2148\u22c5\u03c0\u239e  -3\u22c5\u2148\u22c5\u03c0         \u239b               \u2148\u22c5\n     \u2500\u2500\u2500\u239f  \u2500\u2500\u2500\u2500        \u239c               \u2500\u2500\u2500\u239f  \u2500\u2500\u2500\u2500\u2500\u2500         \u239c               \u2500\u2500\n___   4 \u239f   8          \u239c    ___   ___   4 \u239f    8            \u239c    ___   ___   4\n w \u22c5\u212f   \u23a0\u22c5\u212f       3\u22c5cos\u239d2\u22c5\u2572\u2571 a \u22c5\u2572\u2571 w \u22c5\u212f   \u23a0\u22c5\u212f         3\u22c5cosh\u239d2\u22c5\u2572\u2571 a \u22c5\u2572\u2571 w \u22c5\u212f  \n\u2500\u2500\u2500\u2500\u2500\u2500\u2500\u2500\u2500\u2500\u2500\u2500\u2500\u2500\u2500 - \u2500\u2500\u2500\u2500\u2500\u2500\u2500\u2500\u2500\u2500\u2500\u2500\u2500\u2500\u2500\u2500\u2500\u2500\u2500\u2500\u2500\u2500\u2500\u2500\u2500\u2500\u2500\u2500\u2500\u2500\u2500\u2500\u2500 - \u2500\u2500\u2500\u2500\u2500\u2500\u2500\u2500\u2500\u2500\u2500\u2500\u2500\u2500\u2500\u2500\u2500\u2500\u2500\u2500\u2500\u2500\u2500\u2500\n___________                                 3/2                               \n ___   ___                 ___ \u239b  ___   ___\u239e                   ___ \u239b  ___   __\n\u2571 a \u22c5\u2572\u2571 w              2\u22c5\u2572\u2571 \u03c0 \u22c5\u239d\u2572\u2571 a \u22c5\u2572\u2571 w \u23a0               2\u22c5\u2572\u2571 \u03c0 \u22c5\u239d\u2572\u2571 a \u22c5\u2572\u2571 w\n\u2500\u2500\u2500\u2500\u2500\u2500\u2500\u2500\u2500\u2500\u2500\u2500\u2500\u2500\u2500\u2500\u2500\u2500\u2500\u2500\u2500\u2500\u2500\u2500\u2500\u2500\u2500\u2500\u2500\u2500\u2500\u2500\u2500\u2500\u2500\u2500\u2500\u2500\u2500\u2500\u2500\u2500\u2500\u2500\u2500\u2500\u2500\u2500\u2500\u2500\u2500\u2500\u2500\u2500\u2500\u2500\u2500\u2500\u2500\u2500\u2500\u2500\u2500\u2500\u2500\u2500\u2500\u2500\u2500\u2500\u2500\u2500\u2500\u2500\u2500\u2500\u2500\u2500\n                                                     5/4  5/4                 \n                                                  8\u22c5a   \u22c5w                    \n\u2500\u2500\u2500\u2500\u2500\u2500\u2500\u2500\u2500\u2500\u2500\u2500\u2500\u2500\u2500\u2500\u2500\u2500\u2500\u2500\u2500\u2500\u2500\u2500\u2500\u2500\u2500\u2500\u2500\u2500\u2500\u2500\u2500\u2500\u2500\u2500\u2500\u2500\u2500\u2500\u2500\u2500\u2500\u2500\u2500\u2500\u2500\u2500\u2500\u2500\u2500\u2500\u2500\u2500\u2500\u2500\u2500\u2500\u2500\u2500\u2500\u2500\u2500\u2500\u2500\u2500\u2500\u2500\u2500\u2500\u2500\u2500\u2500\u2500\u2500\u2500\u2500\u2500\n                                                                              \n                                                                              \n\u2500\u2500\u2500\u2500\u2500\u2500\u2500\u2500\u2500\u2500\u2500\u2500\u2500\u2500\u2500\u2500\u2500\u2500\u2500\u2500\u2500\u2500\u2500\u2500\u2500\u2500\u2500\u2500\u2500\u2500\u2500\u2500\u2500\u2500\u2500\u2500\u2500\u2500\u2500\u2500\u2500\u2500\u2500\u2500\u2500\u2500\u2500\u2500\u2500\u2500\u2500\u2500\u2500\u2500\u2500\u2500\u2500\u2500\u2500\u2500\u2500\u2500\u2500\u2500\u2500\u2500\u2500\u2500\u2500\u2500\u2500\u2500\u2500\u2500\u2500\u2500\u2500\u2500\n                                                                              \n                                                                              \n\n\u03c0\u239e  -3\u22c5\u2148\u22c5\u03c0        \u239b               \u2148\u22c5\u03c0\u239e  -5\u22c5\u2148\u22c5\u03c0         \u239b               \u2148\u22c5\u03c0\u239e  -\n\u2500\u239f  \u2500\u2500\u2500\u2500\u2500\u2500        \u239c               \u2500\u2500\u2500\u239f  \u2500\u2500\u2500\u2500\u2500\u2500         \u239c               \u2500\u2500\u2500\u239f  \u2500\n \u239f    8           \u239c    ___   ___   4 \u239f    8            \u239c    ___   ___   4 \u239f   \n \u23a0\u22c5\u212f         3\u22c5sin\u239d2\u22c5\u2572\u2571 a \u22c5\u2572\u2571 w \u22c5\u212f   \u23a0\u22c5\u212f         3\u22c5sinh\u239d2\u22c5\u2572\u2571 a \u22c5\u2572\u2571 w \u22c5\u212f   \u23a0\u22c5\u212f \n\u2500\u2500\u2500\u2500\u2500\u2500\u2500\u2500\u2500\u2500 + \u2500\u2500\u2500\u2500\u2500\u2500\u2500\u2500\u2500\u2500\u2500\u2500\u2500\u2500\u2500\u2500\u2500\u2500\u2500\u2500\u2500\u2500\u2500\u2500\u2500\u2500\u2500\u2500\u2500\u2500\u2500\u2500\u2500 + \u2500\u2500\u2500\u2500\u2500\u2500\u2500\u2500\u2500\u2500\u2500\u2500\u2500\u2500\u2500\u2500\u2500\u2500\u2500\u2500\u2500\u2500\u2500\u2500\u2500\u2500\u2500\u2500\u2500\n  3/2                                  5/2                                 5/2\n_\u239e                    ___ \u239b  ___   ___\u239e                   ___ \u239b  ___   ___\u239e   \n \u23a0                4\u22c5\u2572\u2571 \u03c0 \u22c5\u239d\u2572\u2571 a \u22c5\u2572\u2571 w \u23a0               4\u22c5\u2572\u2571 \u03c0 \u22c5\u239d\u2572\u2571 a \u22c5\u2572\u2571 w \u23a0   \n\u2500\u2500\u2500\u2500\u2500\u2500\u2500\u2500\u2500\u2500\u2500\u2500\u2500\u2500\u2500\u2500\u2500\u2500\u2500\u2500\u2500\u2500\u2500\u2500\u2500\u2500\u2500\u2500\u2500\u2500\u2500\u2500\u2500\u2500\u2500\u2500\u2500\u2500\u2500\u2500\u2500\u2500\u2500\u2500\u2500\u2500\u2500\u2500\u2500\u2500\u2500\u2500\u2500\u2500\u2500\u2500\u2500\u2500\u2500\u2500\u2500\u2500\u2500\u2500\u2500\u2500\u2500\u2500\u2500\u2500\u2500\u2500\u2500\u2500\u2500\u2500\u2500\u2500\n                                                                              \n                                                                              \n\u2500\u2500\u2500\u2500\u2500\u2500\u2500\u2500\u2500\u2500\u2500\u2500\u2500\u2500\u2500\u2500\u2500\u2500\u2500\u2500\u2500\u2500\u2500\u2500\u2500\u2500\u2500\u2500\u2500\u2500\u2500\u2500\u2500\u2500\u2500\u2500\u2500\u2500\u2500\u2500\u2500\u2500\u2500\u2500\u2500\u2500\u2500\u2500\u2500\u2500\u2500\u2500\u2500\u2500\u2500\u2500\u2500\u2500\u2500\u2500\u2500\u2500\u2500\u2500\u2500\u2500\u2500\u2500\u2500\u2500\u2500\u2500\u2500\u2500\u2500\u2500\u2500\u2500\n                                                 4\u22c5\u0393(5/4)                     \n                                                                              \n\u2500\u2500\u2500\u2500\u2500\u2500\u2500\u2500\u2500\u2500\u2500\u2500\u2500\u2500\u2500\u2500\u2500\u2500\u2500\u2500\u2500\u2500\u2500\u2500\u2500\u2500\u2500\u2500\u2500\u2500\u2500\u2500\u2500\u2500\u2500\u2500\u2500\u2500\u2500\u2500\u2500\u2500\u2500\u2500\u2500\u2500\u2500\u2500\u2500\u2500\u2500\u2500\u2500\u2500\u2500\u2500\u2500\u2500\u2500\u2500\u2500\u2500\u2500\u2500\u2500\u2500\u2500\u2500\u2500\u2500\u2500\u2500\u2500\u2500\u2500\u2500\u2500\u2500\n                                                                              \n                                                                              \n\n5\u22c5\u2148\u22c5\u03c0\u239e                   \u239b   \u239b               \u2148\u22c5\u03c0\u239e  -\u2148\u22c5\u03c0       \u239b               \n\u2500\u2500\u2500\u2500\u2500\u239f  -5\u22c5\u2148\u22c5\u03c0           \u239c   \u239c               \u2500\u2500\u2500\u239f  \u2500\u2500\u2500\u2500       \u239c               \n 8   \u239f  \u2500\u2500\u2500\u2500\u2500\u2500           \u239c   \u239c    ___   ___   4 \u239f   8         \u239c    ___   ___  \n     \u239f    8          ___ \u239ccos\u239d2\u22c5\u2572\u2571 a \u22c5\u2572\u2571 w \u22c5\u212f   \u23a0\u22c5\u212f       cosh\u239d2\u22c5\u2572\u2571 a \u22c5\u2572\u2571 w \u22c5\u212f\n\u2500\u2500\u2500\u2500\u2500\u239f\u22c5\u212f         9\u22c5\u2572\u2571 \u03c0 \u22c5\u239c\u2500\u2500\u2500\u2500\u2500\u2500\u2500\u2500\u2500\u2500\u2500\u2500\u2500\u2500\u2500\u2500\u2500\u2500\u2500\u2500\u2500\u2500\u2500\u2500\u2500\u2500\u2500\u2500\u2500 + \u2500\u2500\u2500\u2500\u2500\u2500\u2500\u2500\u2500\u2500\u2500\u2500\u2500\u2500\u2500\u2500\u2500\u2500\u2500\u2500\n     \u239f                   \u239c             _____________                   _______\n     \u239f                   \u239c      ___   \u2571   ___   ___             ___   \u2571   ___ \n     \u23a0                   \u239d    \u2572\u2571 \u03c0 \u22c5\u2572\u2571  \u2572\u2571 a \u22c5\u2572\u2571 w            \u2572\u2571 \u03c0 \u22c5\u2572\u2571  \u2572\u2571 a \u22c5\n\u2500\u2500\u2500\u2500\u2500\u2500\u2500\u2500\u2500\u2500\u2500\u2500\u2500\u2500 + \u2500\u2500\u2500\u2500\u2500\u2500\u2500\u2500\u2500\u2500\u2500\u2500\u2500\u2500\u2500\u2500\u2500\u2500\u2500\u2500\u2500\u2500\u2500\u2500\u2500\u2500\u2500\u2500\u2500\u2500\u2500\u2500\u2500\u2500\u2500\u2500\u2500\u2500\u2500\u2500\u2500\u2500\u2500\u2500\u2500\u2500\u2500\u2500\u2500\u2500\u2500\u2500\u2500\u2500\u2500\u2500\u2500\u2500\u2500\u2500\u2500\n                                                                              \n                                                                              \n\u2500\u2500\u2500\u2500\u2500\u2500\u2500\u2500\u2500\u2500\u2500\u2500\u2500\u2500\u2500\u2500\u2500\u2500\u2500\u2500\u2500\u2500\u2500\u2500\u2500\u2500\u2500\u2500\u2500\u2500\u2500\u2500\u2500\u2500\u2500\u2500\u2500\u2500\u2500\u2500\u2500\u2500\u2500\u2500\u2500\u2500\u2500\u2500\u2500\u2500\u2500\u2500\u2500\u2500\u2500\u2500\u2500\u2500\u2500\u2500\u2500\u2500\u2500\u2500\u2500\u2500\u2500\u2500\u2500\u2500\u2500\u2500\u2500\u2500\u2500\u2500\u2500\u2500\n                                                                              \n                                                                              \n\u2500\u2500\u2500\u2500\u2500\u2500\u2500\u2500\u2500\u2500\u2500\u2500\u2500\u2500\u2500\u2500\u2500\u2500\u2500\u2500\u2500\u2500\u2500\u2500\u2500\u2500\u2500\u2500\u2500\u2500\u2500\u2500\u2500\u2500\u2500\u2500\u2500\u2500\u2500\u2500\u2500\u2500\u2500\u2500\u2500\u2500\u2500\u2500\u2500\u2500\u2500\u2500\u2500\u2500\u2500\u2500\u2500\u2500\u2500\u2500\u2500\u2500\u2500\u2500\u2500\u2500\u2500\u2500\u2500\u2500\u2500\u2500\u2500\u2500\u2500\u2500\u2500\u2500\n                                                       ___                    \n                                                     \u2572\u2571 \u03c0                     \n\n\u2148\u22c5\u03c0\u239e  -\u2148\u22c5\u03c0      \u239b               \u2148\u22c5\u03c0\u239e  -3\u22c5\u2148\u22c5\u03c0       \u239b               \u2148\u22c5\u03c0\u239e  -3\u22c5\u2148\u22c5\n\u2500\u2500\u2500\u239f  \u2500\u2500\u2500\u2500      \u239c               \u2500\u2500\u2500\u239f  \u2500\u2500\u2500\u2500\u2500\u2500       \u239c               \u2500\u2500\u2500\u239f  \u2500\u2500\u2500\u2500\u2500\n 4 \u239f   8        \u239c    ___   ___   4 \u239f    8          \u239c    ___   ___   4 \u239f    8  \n   \u23a0\u22c5\u212f       sin\u239d2\u22c5\u2572\u2571 a \u22c5\u2572\u2571 w \u22c5\u212f   \u23a0\u22c5\u212f         sinh\u239d2\u22c5\u2572\u2571 a \u22c5\u2572\u2571 w \u22c5\u212f   \u23a0\u22c5\u212f     \n\u2500\u2500\u2500\u2500\u2500\u2500\u2500\u2500\u2500\u2500 - \u2500\u2500\u2500\u2500\u2500\u2500\u2500\u2500\u2500\u2500\u2500\u2500\u2500\u2500\u2500\u2500\u2500\u2500\u2500\u2500\u2500\u2500\u2500\u2500\u2500\u2500\u2500\u2500\u2500\u2500\u2500 - \u2500\u2500\u2500\u2500\u2500\u2500\u2500\u2500\u2500\u2500\u2500\u2500\u2500\u2500\u2500\u2500\u2500\u2500\u2500\u2500\u2500\u2500\u2500\u2500\u2500\u2500\u2500\u2500\u2500\u2500\u2500\n______                                3/2                               3/2   \n  ___                ___ \u239b  ___   ___\u239e                 ___ \u239b  ___   ___\u239e      \n\u2572\u2571 w             2\u22c5\u2572\u2571 \u03c0 \u22c5\u239d\u2572\u2571 a \u22c5\u2572\u2571 w \u23a0             2\u22c5\u2572\u2571 \u03c0 \u22c5\u239d\u2572\u2571 a \u22c5\u2572\u2571 w \u23a0      \n\u2500\u2500\u2500\u2500\u2500\u2500\u2500\u2500\u2500\u2500\u2500\u2500\u2500\u2500\u2500\u2500\u2500\u2500\u2500\u2500\u2500\u2500\u2500\u2500\u2500\u2500\u2500\u2500\u2500\u2500\u2500\u2500\u2500\u2500\u2500\u2500\u2500\u2500\u2500\u2500\u2500\u2500\u2500\u2500\u2500\u2500\u2500\u2500\u2500\u2500\u2500\u2500\u2500\u2500\u2500\u2500\u2500\u2500\u2500\u2500\u2500\u2500\u2500\u2500\u2500\u2500\u2500\u2500\u2500\u2500\u2500\u2500\u2500\u2500\u2500\u2500\u2500\u2500\n            7/4  7/4                                                          \n        16\u22c5a   \u22c5w                                                             \n\u2500\u2500\u2500\u2500\u2500\u2500\u2500\u2500\u2500\u2500\u2500\u2500\u2500\u2500\u2500\u2500\u2500\u2500\u2500\u2500\u2500\u2500\u2500\u2500\u2500\u2500\u2500\u2500\u2500\u2500\u2500\u2500\u2500\u2500\u2500\u2500\u2500\u2500\u2500\u2500\u2500\u2500\u2500\u2500\u2500\u2500\u2500\u2500\u2500\u2500\u2500\u2500\u2500\u2500\u2500\u2500\u2500\u2500\u2500\u2500\u2500\u2500\u2500\u2500\u2500\u2500\u2500\u2500\u2500\u2500\u2500\u2500\u2500\u2500\u2500\u2500\u2500\u2500\n                                                                              \n                                                                              \n\u2500\u2500\u2500\u2500\u2500\u2500\u2500\u2500\u2500\u2500\u2500\u2500\u2500\u2500\u2500\u2500\u2500\u2500\u2500\u2500\u2500\u2500\u2500\u2500\u2500\u2500\u2500\u2500\u2500\u2500\u2500\u2500\u2500\u2500\u2500\u2500\u2500\u2500\u2500\u2500\u2500\u2500\u2500\u2500\u2500\u2500\u2500\u2500\u2500\u2500\u2500\u2500\u2500\u2500\u2500\u2500\u2500\u2500\u2500\u2500\u2500\u2500\u2500\u2500\u2500\u2500\u2500\u2500\u2500\u2500\u2500\u2500\u2500\u2500\u2500\u2500\u2500\u2500\n                                                                              \n                                                                              \n\n\u03c0\u239e        \u239e                                                                   \n\u2500\u239f  -7\u22c5\u2148\u22c5\u03c0\u239f                                                                   \n \u239f  \u2500\u2500\u2500\u2500\u2500\u2500\u239f                                                                   \n \u239f    8   \u239f             \u239b   \u239b               \u2148\u22c5\u03c0\u239e  -\u2148\u22c5\u03c0       \u239b               \u2148\n\u2500\u239f\u22c5\u212f      \u239f             \u239c   \u239c               \u2500\u2500\u2500\u239f  \u2500\u2500\u2500\u2500       \u239c               \u2500\n \u239f        \u239f             \u239c   \u239c    ___   ___   4 \u239f   8         \u239c    ___   ___   \n \u239f        \u239f             \u239csin\u239d2\u22c5\u2572\u2571 a \u22c5\u2572\u2571 w \u22c5\u212f   \u23a0\u22c5\u212f       sinh\u239d2\u22c5\u2572\u2571 a \u22c5\u2572\u2571 w \u22c5\u212f \n \u23a0        \u239f           \u03c0\u22c5\u239c\u2500\u2500\u2500\u2500\u2500\u2500\u2500\u2500\u2500\u2500\u2500\u2500\u2500\u2500\u2500\u2500\u2500\u2500\u2500\u2500\u2500\u2500\u2500\u2500\u2500\u2500\u2500\u2500\u2500 + \u2500\u2500\u2500\u2500\u2500\u2500\u2500\u2500\u2500\u2500\u2500\u2500\u2500\u2500\u2500\u2500\u2500\u2500\u2500\u2500\u2500\n\u2500\u2500\u2500\u2500\u2500\u2500\u2500\u2500\u2500\u2500\u239f\u22c5\u0393(-3/4)     \u239c              _____________                   _______\n          \u239f             \u239c       ___   \u2571   ___   ___             ___   \u2571   ___ \n          \u23a0             \u239d   4\u22c5\u2572\u2571 \u03c0 \u22c5\u2572\u2571  \u2572\u2571 a \u22c5\u2572\u2571 w          4\u22c5\u2572\u2571 \u03c0 \u22c5\u2572\u2571  \u2572\u2571 a \u22c5\n\u2500\u2500\u2500\u2500\u2500\u2500\u2500\u2500\u2500\u2500\u2500\u2500\u2500\u2500\u2500\u2500\u2500\u2500\u2500 + \u2500\u2500\u2500\u2500\u2500\u2500\u2500\u2500\u2500\u2500\u2500\u2500\u2500\u2500\u2500\u2500\u2500\u2500\u2500\u2500\u2500\u2500\u2500\u2500\u2500\u2500\u2500\u2500\u2500\u2500\u2500\u2500\u2500\u2500\u2500\u2500\u2500\u2500\u2500\u2500\u2500\u2500\u2500\u2500\u2500\u2500\u2500\u2500\u2500\u2500\u2500\u2500\u2500\u2500\u2500\u2500\n                                                      4 ___ 4 ___             \n                                                    2\u22c5\u2572\u2571 a \u22c5\u2572\u2571 w \u22c5\u0393(3/4)      \n\u2500\u2500\u2500\u2500\u2500\u2500\u2500\u2500\u2500\u2500\u2500\u2500\u2500\u2500\u2500\u2500\u2500\u2500\u2500\u2500\u2500\u2500\u2500\u2500\u2500\u2500\u2500\u2500\u2500\u2500\u2500\u2500\u2500\u2500\u2500\u2500\u2500\u2500\u2500\u2500\u2500\u2500\u2500\u2500\u2500\u2500\u2500\u2500\u2500\u2500\u2500\u2500\u2500\u2500\u2500\u2500\u2500\u2500\u2500\u2500\u2500\u2500\u2500\u2500\u2500\u2500\u2500\u2500\u2500\u2500\u2500\u2500\u2500\u2500\u2500\u2500\u2500\u2500\n                                                                              \n                                                                              \n\n                                                                              \n                                                                              \n                                                                              \n\u22c5\u03c0\u239e  -\u2148\u22c5\u03c0\u239e                 \u239b   \u239b               \u2148\u22c5\u03c0\u239e  -\u2148\u22c5\u03c0       \u239b             \n\u2500\u2500\u239f  \u2500\u2500\u2500\u2500\u239f  -\u2148\u22c5\u03c0           \u239c   \u239c               \u2500\u2500\u2500\u239f  \u2500\u2500\u2500\u2500       \u239c             \n4 \u239f   8  \u239f  \u2500\u2500\u2500\u2500           \u239c   \u239c    ___   ___   4 \u239f   8         \u239c    ___   ___\n  \u23a0\u22c5\u212f    \u239f   8             \u239ccos\u239d2\u22c5\u2572\u2571 a \u22c5\u2572\u2571 w \u22c5\u212f   \u23a0\u22c5\u212f       cosh\u239d2\u22c5\u2572\u2571 a \u22c5\u2572\u2571 w \n\u2500\u2500\u2500\u2500\u2500\u2500\u2500\u2500\u2500\u239f\u22c5\u212f    \u22c5\u0393(-1/4)   \u239c\u2500\u2500\u2500\u2500\u2500\u2500\u2500\u2500\u2500\u2500\u2500\u2500\u2500\u2500\u2500\u2500\u2500\u2500\u2500\u2500\u2500\u2500\u2500\u2500\u2500\u2500\u2500\u2500\u2500 + \u2500\u2500\u2500\u2500\u2500\u2500\u2500\u2500\u2500\u2500\u2500\u2500\u2500\u2500\u2500\u2500\u2500\u2500\n______   \u239f                 \u239c             _____________                   _____\n  ___    \u239f                 \u239c      ___   \u2571   ___   ___             ___   \u2571   __\n\u2572\u2571 w     \u23a0                 \u239d    \u2572\u2571 \u03c0 \u22c5\u2572\u2571  \u2572\u2571 a \u22c5\u2572\u2571 w            \u2572\u2571 \u03c0 \u22c5\u2572\u2571  \u2572\u2571 a\n\u2500\u2500\u2500\u2500\u2500\u2500\u2500\u2500\u2500\u2500\u2500\u2500\u2500\u2500\u2500\u2500\u2500\u2500\u2500\u2500\u2500\u2500\u2500\u2500 + \u2500\u2500\u2500\u2500\u2500\u2500\u2500\u2500\u2500\u2500\u2500\u2500\u2500\u2500\u2500\u2500\u2500\u2500\u2500\u2500\u2500\u2500\u2500\u2500\u2500\u2500\u2500\u2500\u2500\u2500\u2500\u2500\u2500\u2500\u2500\u2500\u2500\u2500\u2500\u2500\u2500\u2500\u2500\u2500\u2500\u2500\u2500\u2500\u2500\u2500\u2500\n                                                                4 ___ 4 ___   \n                                                              2\u22c5\u2572\u2571 a \u22c5\u2572\u2571 w    \n\u2500\u2500\u2500\u2500\u2500\u2500\u2500\u2500\u2500\u2500\u2500\u2500\u2500\u2500\u2500\u2500\u2500\u2500\u2500\u2500\u2500\u2500\u2500\u2500\u2500\u2500\u2500\u2500\u2500\u2500\u2500\u2500\u2500\u2500\u2500\u2500\u2500\u2500\u2500\u2500\u2500\u2500\u2500\u2500\u2500\u2500\u2500\u2500\u2500\u2500\u2500\u2500\u2500\u2500\u2500\u2500\u2500\u2500\u2500\u2500\u2500\u2500\u2500\u2500\u2500\u2500\u2500\u2500\u2500\u2500\u2500\u2500\u2500\u2500\u2500\u2500\u2500\u2500\n                                                                              \n                                                                              \n\n                                \u239e\n                                \u239f\n                                \u239f\n  \u2148\u22c5\u03c0\u239e  -\u2148\u22c5\u03c0\u239e                   \u239f\n  \u2500\u2500\u2500\u239f  \u2500\u2500\u2500\u2500\u239f  \u2148\u22c5\u03c0              \u239f\n   4 \u239f   8  \u239f  \u2500\u2500\u2500              \u239f\n\u22c5\u212f   \u23a0\u22c5\u212f    \u239f   8               \u239f\n\u2500\u2500\u2500\u2500\u2500\u2500\u2500\u2500\u2500\u2500\u2500\u2500\u239f\u22c5\u212f   \u22c5\u0393(1/4)\u22c5\u0393(3/4)\u239f\n________    \u239f                   \u239f\n_   ___     \u239f                   \u239f\n \u22c5\u2572\u2571 w      \u23a0                   \u239f\n\u2500\u2500\u2500\u2500\u2500\u2500\u2500\u2500\u2500\u2500\u2500\u2500\u2500\u2500\u2500\u2500\u2500\u2500\u2500\u2500\u2500\u2500\u2500\u2500\u2500\u2500\u2500\u2500\u2500\u2500\u2500\u2500\u239f\n                                \u239f\n                                \u23a0\n\u2500\u2500\u2500\u2500\u2500\u2500\u2500\u2500\u2500\u2500\u2500\u2500\u2500\u2500\u2500\u2500\u2500\u2500\u2500\u2500\u2500\u2500\u2500\u2500\u2500\u2500\u2500\u2500\u2500\u2500\u2500\u2500\u2500\n                                 \n                                 "
      }
     ],
     "prompt_number": 178
    },
    {
     "cell_type": "code",
     "collapsed": false,
     "input": "simplify(_)",
     "language": "python",
     "outputs": [
      {
       "output_type": "pyout",
       "png": "[encoded data removed]",
       "prompt_number": 179,
       "text": "\n                \u239b                       \u239b               \u2148\u22c5\u03c0\u239e                  \n                \u239c                       \u239c               \u2500\u2500\u2500\u239f                  \n  ___  5/4  7/4 \u239c      3/4   ___        \u239c    ___   ___   4 \u239f     4 ____   ___ \n\u2572\u2571 2 \u22c5a   \u22c5w   \u22c5\u239d4\u22c5(-1)   \u22c5\u2572\u2571 2 \u22c5a\u22c5w\u22c5sin\u239d2\u22c5\u2572\u2571 a \u22c5\u2572\u2571 w \u22c5\u212f   \u23a0 + 4\u22c5\u2572\u2571 -1 \u22c5\u2572\u2571 2 \u22c5\n\u2500\u2500\u2500\u2500\u2500\u2500\u2500\u2500\u2500\u2500\u2500\u2500\u2500\u2500\u2500\u2500\u2500\u2500\u2500\u2500\u2500\u2500\u2500\u2500\u2500\u2500\u2500\u2500\u2500\u2500\u2500\u2500\u2500\u2500\u2500\u2500\u2500\u2500\u2500\u2500\u2500\u2500\u2500\u2500\u2500\u2500\u2500\u2500\u2500\u2500\u2500\u2500\u2500\u2500\u2500\u2500\u2500\u2500\u2500\u2500\u2500\u2500\u2500\u2500\u2500\u2500\u2500\u2500\u2500\u2500\u2500\u2500\u2500\u2500\u2500\u2500\u2500\u2500\n                                                                              \n                                                                              \n                                                                              \n\n       \u239b               \u2148\u22c5\u03c0\u239e            \u239b               \u2148\u22c5\u03c0\u239e                   \n       \u239c               \u2500\u2500\u2500\u239f            \u239c               \u2500\u2500\u2500\u239f                   \n       \u239c    ___   ___   4 \u239f            \u239c    ___   ___   4 \u239f     4 ____   ___  \na\u22c5w\u22c5sin\u239d2\u22c5\u2572\u2571 a \u22c5\u2572\u2571 w \u22c5\u212f   \u23a0 + 8\u22c5a\u22c5w\u22c5cos\u239d2\u22c5\u2572\u2571 a \u22c5\u2572\u2571 w \u22c5\u212f   \u23a0 - 4\u22c5\u2572\u2571 -1 \u22c5\u2572\u2571 2 \u22c5a\n\u2500\u2500\u2500\u2500\u2500\u2500\u2500\u2500\u2500\u2500\u2500\u2500\u2500\u2500\u2500\u2500\u2500\u2500\u2500\u2500\u2500\u2500\u2500\u2500\u2500\u2500\u2500\u2500\u2500\u2500\u2500\u2500\u2500\u2500\u2500\u2500\u2500\u2500\u2500\u2500\u2500\u2500\u2500\u2500\u2500\u2500\u2500\u2500\u2500\u2500\u2500\u2500\u2500\u2500\u2500\u2500\u2500\u2500\u2500\u2500\u2500\u2500\u2500\u2500\u2500\u2500\u2500\u2500\u2500\u2500\u2500\u2500\u2500\u2500\u2500\u2500\u2500\u2500\n                                                            11/2              \n                                               \u239b  ___   ___\u239e                  \n                                            16\u22c5\u239d\u2572\u2571 a \u22c5\u2572\u2571 w \u23a0                  \n\n       \u239b               \u2148\u22c5\u03c0\u239e                           \u239b               \u2148\u22c5\u03c0\u239e    \n       \u239c               \u2500\u2500\u2500\u239f                           \u239c               \u2500\u2500\u2500\u239f    \n       \u239c    ___   ___   4 \u239f         3/4   ___         \u239c    ___   ___   4 \u239f    \n\u22c5w\u22c5sinh\u239d2\u22c5\u2572\u2571 a \u22c5\u2572\u2571 w \u22c5\u212f   \u23a0 + 4\u22c5(-1)   \u22c5\u2572\u2571 2 \u22c5a\u22c5w\u22c5sinh\u239d2\u22c5\u2572\u2571 a \u22c5\u2572\u2571 w \u22c5\u212f   \u23a0 + 8\n\u2500\u2500\u2500\u2500\u2500\u2500\u2500\u2500\u2500\u2500\u2500\u2500\u2500\u2500\u2500\u2500\u2500\u2500\u2500\u2500\u2500\u2500\u2500\u2500\u2500\u2500\u2500\u2500\u2500\u2500\u2500\u2500\u2500\u2500\u2500\u2500\u2500\u2500\u2500\u2500\u2500\u2500\u2500\u2500\u2500\u2500\u2500\u2500\u2500\u2500\u2500\u2500\u2500\u2500\u2500\u2500\u2500\u2500\u2500\u2500\u2500\u2500\u2500\u2500\u2500\u2500\u2500\u2500\u2500\u2500\u2500\u2500\u2500\u2500\u2500\u2500\u2500\u2500\n                                                                              \n                                                                              \n                                                                              \n\n         \u239b               \u2148\u22c5\u03c0\u239e\u239e\n         \u239c               \u2500\u2500\u2500\u239f\u239f\n         \u239c    ___   ___   4 \u239f\u239f\n\u22c5a\u22c5w\u22c5cosh\u239d2\u22c5\u2572\u2571 a \u22c5\u2572\u2571 w \u22c5\u212f   \u23a0\u23a0\n\u2500\u2500\u2500\u2500\u2500\u2500\u2500\u2500\u2500\u2500\u2500\u2500\u2500\u2500\u2500\u2500\u2500\u2500\u2500\u2500\u2500\u2500\u2500\u2500\u2500\u2500\u2500\u2500\u2500\u2500\n                              \n                              \n                              "
      }
     ],
     "prompt_number": 179
    },
    {
     "cell_type": "markdown",
     "source": "27"
    },
    {
     "cell_type": "code",
     "collapsed": false,
     "input": "log(t)/sqrt(t)",
     "language": "python",
     "outputs": [
      {
       "output_type": "pyout",
       "png": "[encoded data removed]",
       "prompt_number": 180,
       "text": "\nlog(t)\n\u2500\u2500\u2500\u2500\u2500\u2500\n  ___ \n\u2572\u2571 t  "
      }
     ],
     "prompt_number": 180
    },
    {
     "cell_type": "code",
     "collapsed": false,
     "input": "cosine_transform(_, t, w)",
     "language": "python",
     "outputs": [
      {
       "output_type": "pyout",
       "png": "[encoded data removed]",
       "prompt_number": 181,
       "text": "\n                                                                       \u239b      \n                                               ___   ___        2  \u250c\u2500  \u239c   1/4\n                                             \u2572\u2571 2 \u22c5\u2572\u2571 w \u22c5\u0393(-1/4) \u22c5 \u251c\u2500  \u239c      \n                     \u239b              \u2502   2\u239e                        2\u2575 3 \u239d1/2, 5\n    ___       2  \u250c\u2500  \u239c   1/4, 1/4   \u2502 -w \u239f   \u2500\u2500\u2500\u2500\u2500\u2500\u2500\u2500\u2500\u2500\u2500\u2500\u2500\u2500\u2500\u2500\u2500\u2500\u2500\u2500\u2500\u2500\u2500\u2500\u2500\u2500\u2500\u2500\u2500\u2500\u2500\u2500\u2500\n  \u2572\u2571 2 \u22c5\u0393(1/4) \u22c5 \u251c\u2500  \u239c              \u2502 \u2500\u2500\u2500\u239f                       ___       2  \n                2\u2575 3 \u239d1/2, 5/4, 5/4 \u2502  4 \u23a0                   4\u22c5\u2572\u2571 \u03c0 \u22c5\u0393(3/4)   \n- \u2500\u2500\u2500\u2500\u2500\u2500\u2500\u2500\u2500\u2500\u2500\u2500\u2500\u2500\u2500\u2500\u2500\u2500\u2500\u2500\u2500\u2500\u2500\u2500\u2500\u2500\u2500\u2500\u2500\u2500\u2500\u2500\u2500\u2500\u2500\u2500\u2500\u2500\u2500\u2500 + \u2500\u2500\u2500\u2500\u2500\u2500\u2500\u2500\u2500\u2500\u2500\u2500\u2500\u2500\u2500\u2500\u2500\u2500\u2500\u2500\u2500\u2500\u2500\u2500\u2500\u2500\u2500\u2500\u2500\u2500\u2500\u2500\u2500\n                  ___       2                                                 \n              4\u22c5\u2572\u2571 \u03c0 \u22c5\u0393(5/4)                                                  \n\n        \u2502   2\u239e      \u239b 2\u239e                            \n, 1/4   \u2502 -w \u239f      \u239cw \u239f                            \n        \u2502 \u2500\u2500\u2500\u239f   log\u239c\u2500\u2500\u239f                            \n/4, 5/4 \u2502  4 \u23a0      \u239d4 \u23a0              \u03c0             \n\u2500\u2500\u2500\u2500\u2500\u2500\u2500\u2500\u2500\u2500\u2500\u2500\u2500\u2500 - \u2500\u2500\u2500\u2500\u2500\u2500\u2500 - 3\u22c5log(2) - \u2500 - EulerGamma\n                    2                 2             \n                                                    \n\u2500\u2500\u2500\u2500\u2500\u2500\u2500\u2500\u2500\u2500\u2500\u2500\u2500\u2500\u2500\u2500\u2500\u2500\u2500\u2500\u2500\u2500\u2500\u2500\u2500\u2500\u2500\u2500\u2500\u2500\u2500\u2500\u2500\u2500\u2500\u2500\u2500\u2500\u2500\u2500\u2500\u2500\u2500\u2500\u2500\u2500\u2500\u2500\u2500\u2500\u2500\u2500\n         ___                                        \n       \u2572\u2571 w                                         "
      }
     ],
     "prompt_number": 181
    },
    {
     "cell_type": "code",
     "collapsed": false,
     "input": "hyperexpand(_)",
     "language": "python",
     "outputs": [
      {
       "output_type": "pyout",
       "png": "[encoded data removed]",
       "prompt_number": 182,
       "text": "\n                                                                       \u239b      \n                                               ___   ___        2  \u250c\u2500  \u239c   1/4\n                                             \u2572\u2571 2 \u22c5\u2572\u2571 w \u22c5\u0393(-1/4) \u22c5 \u251c\u2500  \u239c      \n                     \u239b              \u2502   2\u239e                        2\u2575 3 \u239d1/2, 5\n    ___       2  \u250c\u2500  \u239c   1/4, 1/4   \u2502 -w \u239f   \u2500\u2500\u2500\u2500\u2500\u2500\u2500\u2500\u2500\u2500\u2500\u2500\u2500\u2500\u2500\u2500\u2500\u2500\u2500\u2500\u2500\u2500\u2500\u2500\u2500\u2500\u2500\u2500\u2500\u2500\u2500\u2500\u2500\n  \u2572\u2571 2 \u22c5\u0393(1/4) \u22c5 \u251c\u2500  \u239c              \u2502 \u2500\u2500\u2500\u239f                       ___       2  \n                2\u2575 3 \u239d1/2, 5/4, 5/4 \u2502  4 \u23a0                   4\u22c5\u2572\u2571 \u03c0 \u22c5\u0393(3/4)   \n- \u2500\u2500\u2500\u2500\u2500\u2500\u2500\u2500\u2500\u2500\u2500\u2500\u2500\u2500\u2500\u2500\u2500\u2500\u2500\u2500\u2500\u2500\u2500\u2500\u2500\u2500\u2500\u2500\u2500\u2500\u2500\u2500\u2500\u2500\u2500\u2500\u2500\u2500\u2500\u2500 + \u2500\u2500\u2500\u2500\u2500\u2500\u2500\u2500\u2500\u2500\u2500\u2500\u2500\u2500\u2500\u2500\u2500\u2500\u2500\u2500\u2500\u2500\u2500\u2500\u2500\u2500\u2500\u2500\u2500\u2500\u2500\u2500\u2500\n                  ___       2                                                 \n              4\u22c5\u2572\u2571 \u03c0 \u22c5\u0393(5/4)                                                  \n\n        \u2502   2\u239e      \u239b 2\u239e                            \n, 1/4   \u2502 -w \u239f      \u239cw \u239f                            \n        \u2502 \u2500\u2500\u2500\u239f   log\u239c\u2500\u2500\u239f                            \n/4, 5/4 \u2502  4 \u23a0      \u239d4 \u23a0              \u03c0             \n\u2500\u2500\u2500\u2500\u2500\u2500\u2500\u2500\u2500\u2500\u2500\u2500\u2500\u2500 - \u2500\u2500\u2500\u2500\u2500\u2500\u2500 - 3\u22c5log(2) - \u2500 - EulerGamma\n                    2                 2             \n                                                    \n\u2500\u2500\u2500\u2500\u2500\u2500\u2500\u2500\u2500\u2500\u2500\u2500\u2500\u2500\u2500\u2500\u2500\u2500\u2500\u2500\u2500\u2500\u2500\u2500\u2500\u2500\u2500\u2500\u2500\u2500\u2500\u2500\u2500\u2500\u2500\u2500\u2500\u2500\u2500\u2500\u2500\u2500\u2500\u2500\u2500\u2500\u2500\u2500\u2500\u2500\u2500\u2500\n         ___                                        \n       \u2572\u2571 w                                         "
      }
     ],
     "prompt_number": 182
    },
    {
     "cell_type": "code",
     "collapsed": false,
     "input": "expand(_)",
     "language": "python",
     "outputs": [
      {
       "output_type": "pyout",
       "png": "[encoded data removed]",
       "prompt_number": 183,
       "text": "\n                     \u239b              \u2502   2\u239e                       \u239b            \n    ___       2  \u250c\u2500  \u239c   1/4, 1/4   \u2502 -w \u239f     ___        2  \u250c\u2500  \u239c   1/4, 1/4 \n  \u2572\u2571 2 \u22c5\u0393(1/4) \u22c5 \u251c\u2500  \u239c              \u2502 \u2500\u2500\u2500\u239f   \u2572\u2571 2 \u22c5\u0393(-1/4) \u22c5 \u251c\u2500  \u239c            \n                2\u2575 3 \u239d1/2, 5/4, 5/4 \u2502  4 \u23a0                  2\u2575 3 \u239d1/2, 5/4, 5/\n- \u2500\u2500\u2500\u2500\u2500\u2500\u2500\u2500\u2500\u2500\u2500\u2500\u2500\u2500\u2500\u2500\u2500\u2500\u2500\u2500\u2500\u2500\u2500\u2500\u2500\u2500\u2500\u2500\u2500\u2500\u2500\u2500\u2500\u2500\u2500\u2500\u2500\u2500\u2500\u2500 + \u2500\u2500\u2500\u2500\u2500\u2500\u2500\u2500\u2500\u2500\u2500\u2500\u2500\u2500\u2500\u2500\u2500\u2500\u2500\u2500\u2500\u2500\u2500\u2500\u2500\u2500\u2500\u2500\u2500\u2500\u2500\u2500\u2500\n                  ___       2                                 ___       2     \n              4\u22c5\u2572\u2571 \u03c0 \u22c5\u0393(5/4)                              4\u22c5\u2572\u2571 \u03c0 \u22c5\u0393(3/4)      \n\n  \u2502   2\u239e                                            \n  \u2502 -w \u239f                                            \n  \u2502 \u2500\u2500\u2500\u239f      \u239b 2\u239e                                  \n4 \u2502  4 \u23a0   log\u239dw \u23a0      \u03c0      2\u22c5log(2)   EulerGamma\n\u2500\u2500\u2500\u2500\u2500\u2500\u2500\u2500 - \u2500\u2500\u2500\u2500\u2500\u2500\u2500 - \u2500\u2500\u2500\u2500\u2500\u2500\u2500 - \u2500\u2500\u2500\u2500\u2500\u2500\u2500\u2500 - \u2500\u2500\u2500\u2500\u2500\u2500\u2500\u2500\u2500\u2500\n               ___       ___      ___         ___   \n           2\u22c5\u2572\u2571 w    2\u22c5\u2572\u2571 w     \u2572\u2571 w        \u2572\u2571 w    "
      }
     ],
     "prompt_number": 183
    },
    {
     "cell_type": "code",
     "collapsed": false,
     "input": "simplify(_)",
     "language": "python",
     "outputs": [
      {
       "output_type": "pyout",
       "png": "[encoded data removed]",
       "prompt_number": 184,
       "text": "\n \u239b                                    \u239b              \u2502   2\u239e                   \n \u239c    ___   ___        2       2  \u250c\u2500  \u239c   1/4, 1/4   \u2502 -w \u239f     ___   ___     \n-\u239c- \u2572\u2571 2 \u22c5\u2572\u2571 w \u22c5\u0393(-1/4) \u22c5\u0393(5/4) \u22c5 \u251c\u2500  \u239c              \u2502 \u2500\u2500\u2500\u239f + \u2572\u2571 2 \u22c5\u2572\u2571 w \u22c5\u0393(1/\n \u239d                               2\u2575 3 \u239d1/2, 5/4, 5/4 \u2502  4 \u23a0                   \n\u2500\u2500\u2500\u2500\u2500\u2500\u2500\u2500\u2500\u2500\u2500\u2500\u2500\u2500\u2500\u2500\u2500\u2500\u2500\u2500\u2500\u2500\u2500\u2500\u2500\u2500\u2500\u2500\u2500\u2500\u2500\u2500\u2500\u2500\u2500\u2500\u2500\u2500\u2500\u2500\u2500\u2500\u2500\u2500\u2500\u2500\u2500\u2500\u2500\u2500\u2500\u2500\u2500\u2500\u2500\u2500\u2500\u2500\u2500\u2500\u2500\u2500\u2500\u2500\u2500\u2500\u2500\u2500\u2500\u2500\u2500\u2500\u2500\u2500\u2500\u2500\u2500\u2500\n                                                                              \n                                                                              \n\n                 \u239b              \u2502   2\u239e                                        \n  2       2  \u250c\u2500  \u239c   1/4, 1/4   \u2502 -w \u239f       ___    \u239b 2\u239e       2       2      \n4) \u22c5\u0393(3/4) \u22c5 \u251c\u2500  \u239c              \u2502 \u2500\u2500\u2500\u239f + 2\u22c5\u2572\u2571 \u03c0 \u22c5log\u239dw \u23a0\u22c5\u0393(3/4) \u22c5\u0393(5/4)  + 4\u22c5E\n            2\u2575 3 \u239d1/2, 5/4, 5/4 \u2502  4 \u23a0                                        \n\u2500\u2500\u2500\u2500\u2500\u2500\u2500\u2500\u2500\u2500\u2500\u2500\u2500\u2500\u2500\u2500\u2500\u2500\u2500\u2500\u2500\u2500\u2500\u2500\u2500\u2500\u2500\u2500\u2500\u2500\u2500\u2500\u2500\u2500\u2500\u2500\u2500\u2500\u2500\u2500\u2500\u2500\u2500\u2500\u2500\u2500\u2500\u2500\u2500\u2500\u2500\u2500\u2500\u2500\u2500\u2500\u2500\u2500\u2500\u2500\u2500\u2500\u2500\u2500\u2500\u2500\u2500\u2500\u2500\u2500\u2500\u2500\u2500\u2500\u2500\u2500\u2500\u2500\n                                  ___   ___       2       2                   \n                              4\u22c5\u2572\u2571 \u03c0 \u22c5\u2572\u2571 w \u22c5\u0393(3/4) \u22c5\u0393(5/4)                    \n\n                                                                              \n            ___       2       2       ___              2       2      3/2     \nulerGamma\u22c5\u2572\u2571 \u03c0 \u22c5\u0393(3/4) \u22c5\u0393(5/4)  + 8\u22c5\u2572\u2571 \u03c0 \u22c5log(2)\u22c5\u0393(3/4) \u22c5\u0393(5/4)  + 2\u22c5\u03c0   \u22c5\u0393(3/\n                                                                              \n\u2500\u2500\u2500\u2500\u2500\u2500\u2500\u2500\u2500\u2500\u2500\u2500\u2500\u2500\u2500\u2500\u2500\u2500\u2500\u2500\u2500\u2500\u2500\u2500\u2500\u2500\u2500\u2500\u2500\u2500\u2500\u2500\u2500\u2500\u2500\u2500\u2500\u2500\u2500\u2500\u2500\u2500\u2500\u2500\u2500\u2500\u2500\u2500\u2500\u2500\u2500\u2500\u2500\u2500\u2500\u2500\u2500\u2500\u2500\u2500\u2500\u2500\u2500\u2500\u2500\u2500\u2500\u2500\u2500\u2500\u2500\u2500\u2500\u2500\u2500\u2500\u2500\u2500\n                                                                              \n                                                                              \n\n           \u239e\n  2       2\u239f\n4) \u22c5\u0393(5/4) \u239f\n           \u23a0\n\u2500\u2500\u2500\u2500\u2500\u2500\u2500\u2500\u2500\u2500\u2500\u2500\n            \n            "
      }
     ],
     "prompt_number": 184
    },
    {
     "cell_type": "code",
     "collapsed": false,
     "input": "combsimp(_)",
     "language": "python",
     "outputs": [
      {
       "output_type": "pyout",
       "png": "[encoded data removed]",
       "prompt_number": 185,
       "text": "\n \u239b   \u239b 2\u239e                              \u239e\n-\u239dlog\u239dw \u23a0 + 2\u22c5EulerGamma + 4\u22c5log(2) + \u03c0\u23a0\n\u2500\u2500\u2500\u2500\u2500\u2500\u2500\u2500\u2500\u2500\u2500\u2500\u2500\u2500\u2500\u2500\u2500\u2500\u2500\u2500\u2500\u2500\u2500\u2500\u2500\u2500\u2500\u2500\u2500\u2500\u2500\u2500\u2500\u2500\u2500\u2500\u2500\u2500\u2500\u2500\n                    ___                 \n                2\u22c5\u2572\u2571 w                  "
      }
     ],
     "prompt_number": 185
    },
    {
     "cell_type": "code",
     "collapsed": false,
     "input": "inverse_cosine_transform(_, w, t)",
     "language": "python",
     "outputs": [
      {
       "output_type": "pyout",
       "png": "[encoded data removed]",
       "prompt_number": 186,
       "text": "\n \u239b                                   \u239b              \u2502   2\u239e                    \n \u239c    ___   ___       2       2  \u250c\u2500  \u239c   1/4, 1/4   \u2502 -t \u239f     ___   ___      \n-\u239c- \u2572\u2571 2 \u22c5\u2572\u2571 t \u22c5\u0393(1/4) \u22c5\u0393(3/4) \u22c5 \u251c\u2500  \u239c              \u2502 \u2500\u2500\u2500\u239f + \u2572\u2571 2 \u22c5\u2572\u2571 t \u22c5\u0393(-1/\n \u239d                              2\u2575 3 \u239d1/2, 5/4, 5/4 \u2502  4 \u23a0                    \n\u2500\u2500\u2500\u2500\u2500\u2500\u2500\u2500\u2500\u2500\u2500\u2500\u2500\u2500\u2500\u2500\u2500\u2500\u2500\u2500\u2500\u2500\u2500\u2500\u2500\u2500\u2500\u2500\u2500\u2500\u2500\u2500\u2500\u2500\u2500\u2500\u2500\u2500\u2500\u2500\u2500\u2500\u2500\u2500\u2500\u2500\u2500\u2500\u2500\u2500\u2500\u2500\u2500\u2500\u2500\u2500\u2500\u2500\u2500\u2500\u2500\u2500\u2500\u2500\u2500\u2500\u2500\u2500\u2500\u2500\u2500\u2500\u2500\u2500\u2500\u2500\u2500\u2500\n                                                                 ___   ___    \n                                                             4\u22c5\u2572\u2571 \u03c0 \u22c5\u2572\u2571 t \u22c5\u0393(3\n\n                 \u239b              \u2502   2\u239e                                  \u239e\n  2       2  \u250c\u2500  \u239c   1/4, 1/4   \u2502 -t \u239f       ___    \u239b 2\u239e       2       2\u239f\n4) \u22c5\u0393(5/4) \u22c5 \u251c\u2500  \u239c              \u2502 \u2500\u2500\u2500\u239f - 2\u22c5\u2572\u2571 \u03c0 \u22c5log\u239dt \u23a0\u22c5\u0393(3/4) \u22c5\u0393(5/4) \u239f\n            2\u2575 3 \u239d1/2, 5/4, 5/4 \u2502  4 \u23a0                                  \u23a0\n\u2500\u2500\u2500\u2500\u2500\u2500\u2500\u2500\u2500\u2500\u2500\u2500\u2500\u2500\u2500\u2500\u2500\u2500\u2500\u2500\u2500\u2500\u2500\u2500\u2500\u2500\u2500\u2500\u2500\u2500\u2500\u2500\u2500\u2500\u2500\u2500\u2500\u2500\u2500\u2500\u2500\u2500\u2500\u2500\u2500\u2500\u2500\u2500\u2500\u2500\u2500\u2500\u2500\u2500\u2500\u2500\u2500\u2500\u2500\u2500\u2500\u2500\u2500\u2500\u2500\u2500\u2500\u2500\u2500\u2500\u2500\u2500\u2500\n   2       2                                                             \n/4) \u22c5\u0393(5/4)                                                              "
      }
     ],
     "prompt_number": 186
    },
    {
     "cell_type": "code",
     "collapsed": false,
     "input": "expand(_)",
     "language": "python",
     "outputs": [
      {
       "output_type": "pyout",
       "png": "[encoded data removed]",
       "prompt_number": 187,
       "text": "\n                      \u239b              \u2502   2\u239e                      \u239b            \n    ___        2  \u250c\u2500  \u239c   1/4, 1/4   \u2502 -t \u239f     ___       2  \u250c\u2500  \u239c   1/4, 1/4 \n  \u2572\u2571 2 \u22c5\u0393(-1/4) \u22c5 \u251c\u2500  \u239c              \u2502 \u2500\u2500\u2500\u239f   \u2572\u2571 2 \u22c5\u0393(1/4) \u22c5 \u251c\u2500  \u239c            \n                 2\u2575 3 \u239d1/2, 5/4, 5/4 \u2502  4 \u23a0                 2\u2575 3 \u239d1/2, 5/4, 5/\n- \u2500\u2500\u2500\u2500\u2500\u2500\u2500\u2500\u2500\u2500\u2500\u2500\u2500\u2500\u2500\u2500\u2500\u2500\u2500\u2500\u2500\u2500\u2500\u2500\u2500\u2500\u2500\u2500\u2500\u2500\u2500\u2500\u2500\u2500\u2500\u2500\u2500\u2500\u2500\u2500\u2500 + \u2500\u2500\u2500\u2500\u2500\u2500\u2500\u2500\u2500\u2500\u2500\u2500\u2500\u2500\u2500\u2500\u2500\u2500\u2500\u2500\u2500\u2500\u2500\u2500\u2500\u2500\u2500\u2500\u2500\u2500\u2500\u2500\n                   ___       2                                ___       2     \n               4\u22c5\u2572\u2571 \u03c0 \u22c5\u0393(3/4)                             4\u22c5\u2572\u2571 \u03c0 \u22c5\u0393(5/4)      \n\n  \u2502   2\u239e          \n  \u2502 -t \u239f          \n  \u2502 \u2500\u2500\u2500\u239f      \u239b 2\u239e\n4 \u2502  4 \u23a0   log\u239dt \u23a0\n\u2500\u2500\u2500\u2500\u2500\u2500\u2500\u2500 + \u2500\u2500\u2500\u2500\u2500\u2500\u2500\n               ___\n           2\u22c5\u2572\u2571 t "
      }
     ],
     "prompt_number": 187
    },
    {
     "cell_type": "code",
     "collapsed": false,
     "input": "combsimp(_)",
     "language": "python",
     "outputs": [
      {
       "output_type": "pyout",
       "png": "[encoded data removed]",
       "prompt_number": 188,
       "text": "\n \u239b                                   \u239b              \u2502   2\u239e                    \n \u239c    ___   ___       2       2  \u250c\u2500  \u239c   1/4, 1/4   \u2502 -t \u239f     ___   ___      \n-\u239c- \u2572\u2571 2 \u22c5\u2572\u2571 t \u22c5\u0393(1/4) \u22c5\u0393(3/4) \u22c5 \u251c\u2500  \u239c              \u2502 \u2500\u2500\u2500\u239f + \u2572\u2571 2 \u22c5\u2572\u2571 t \u22c5\u0393(-1/\n \u239d                              2\u2575 3 \u239d1/2, 5/4, 5/4 \u2502  4 \u23a0                    \n\u2500\u2500\u2500\u2500\u2500\u2500\u2500\u2500\u2500\u2500\u2500\u2500\u2500\u2500\u2500\u2500\u2500\u2500\u2500\u2500\u2500\u2500\u2500\u2500\u2500\u2500\u2500\u2500\u2500\u2500\u2500\u2500\u2500\u2500\u2500\u2500\u2500\u2500\u2500\u2500\u2500\u2500\u2500\u2500\u2500\u2500\u2500\u2500\u2500\u2500\u2500\u2500\u2500\u2500\u2500\u2500\u2500\u2500\u2500\u2500\u2500\u2500\u2500\u2500\u2500\u2500\u2500\u2500\u2500\u2500\u2500\u2500\u2500\u2500\u2500\u2500\u2500\u2500\n                                                                 ___   ___    \n                                                             4\u22c5\u2572\u2571 \u03c0 \u22c5\u2572\u2571 t \u22c5\u0393(3\n\n                 \u239b              \u2502   2\u239e                                  \u239e\n  2       2  \u250c\u2500  \u239c   1/4, 1/4   \u2502 -t \u239f       ___    \u239b 2\u239e       2       2\u239f\n4) \u22c5\u0393(5/4) \u22c5 \u251c\u2500  \u239c              \u2502 \u2500\u2500\u2500\u239f - 2\u22c5\u2572\u2571 \u03c0 \u22c5log\u239dt \u23a0\u22c5\u0393(3/4) \u22c5\u0393(5/4) \u239f\n            2\u2575 3 \u239d1/2, 5/4, 5/4 \u2502  4 \u23a0                                  \u23a0\n\u2500\u2500\u2500\u2500\u2500\u2500\u2500\u2500\u2500\u2500\u2500\u2500\u2500\u2500\u2500\u2500\u2500\u2500\u2500\u2500\u2500\u2500\u2500\u2500\u2500\u2500\u2500\u2500\u2500\u2500\u2500\u2500\u2500\u2500\u2500\u2500\u2500\u2500\u2500\u2500\u2500\u2500\u2500\u2500\u2500\u2500\u2500\u2500\u2500\u2500\u2500\u2500\u2500\u2500\u2500\u2500\u2500\u2500\u2500\u2500\u2500\u2500\u2500\u2500\u2500\u2500\u2500\u2500\u2500\u2500\u2500\u2500\u2500\n   2       2                                                             \n/4) \u22c5\u0393(5/4)                                                              "
      }
     ],
     "prompt_number": 188
    },
    {
     "cell_type": "code",
     "collapsed": false,
     "input": "combsimp(_)",
     "language": "python",
     "outputs": [
      {
       "output_type": "pyout",
       "png": "[encoded data removed]",
       "prompt_number": 189,
       "text": "\n   \u239b 2\u239e\nlog\u239dt \u23a0\n\u2500\u2500\u2500\u2500\u2500\u2500\u2500\n    ___\n2\u22c5\u2572\u2571 t "
      }
     ],
     "prompt_number": 189
    },
    {
     "cell_type": "markdown",
     "source": "28"
    },
    {
     "cell_type": "code",
     "collapsed": false,
     "input": "1/(t**2-a**2)*log(t/a)",
     "language": "python",
     "outputs": [
      {
       "output_type": "pyout",
       "png": "[encoded data removed]",
       "prompt_number": 190,
       "text": "\n     \u239bt\u239e \n  log\u239c\u2500\u239f \n     \u239da\u23a0 \n\u2500\u2500\u2500\u2500\u2500\u2500\u2500\u2500\u2500\n   2    2\n- a  + t "
      }
     ],
     "prompt_number": 190
    },
    {
     "cell_type": "code",
     "collapsed": false,
     "input": "#cosine_transform(_, t, w)",
     "language": "python",
     "outputs": [],
     "prompt_number": 191
    },
    {
     "cell_type": "markdown",
     "source": "29"
    },
    {
     "cell_type": "code",
     "collapsed": false,
     "input": "1/(t**2-a**2)*log(b*t)",
     "language": "python",
     "outputs": [
      {
       "output_type": "pyout",
       "png": "[encoded data removed]",
       "prompt_number": 192,
       "text": "\n log(b\u22c5t)\n\u2500\u2500\u2500\u2500\u2500\u2500\u2500\u2500\u2500\n   2    2\n- a  + t "
      }
     ],
     "prompt_number": 192
    },
    {
     "cell_type": "code",
     "collapsed": false,
     "input": "#cosine_transform(_, t, w)",
     "language": "python",
     "outputs": [],
     "prompt_number": 193
    },
    {
     "cell_type": "markdown",
     "source": "30"
    },
    {
     "cell_type": "code",
     "collapsed": false,
     "input": "1/t*log(1+t)",
     "language": "python",
     "outputs": [
      {
       "output_type": "pyout",
       "png": "[encoded data removed]",
       "prompt_number": 194,
       "text": "\nlog(t + 1)\n\u2500\u2500\u2500\u2500\u2500\u2500\u2500\u2500\u2500\u2500\n    t     "
      }
     ],
     "prompt_number": 194
    },
    {
     "cell_type": "code",
     "collapsed": false,
     "input": "#cosine_transform(_, t, w)",
     "language": "python",
     "outputs": [],
     "prompt_number": 195
    },
    {
     "cell_type": "markdown",
     "source": "31"
    },
    {
     "cell_type": "code",
     "collapsed": false,
     "input": "log(Abs((a+t)/(b-t)))",
     "language": "python",
     "outputs": [
      {
       "output_type": "pyout",
       "png": "[encoded data removed]",
       "prompt_number": 196,
       "text": "\n   \u239b\u2502a + t\u2502\u239e\nlog\u239c\u2502\u2500\u2500\u2500\u2500\u2500\u2502\u239f\n   \u239d\u2502b - t\u2502\u23a0"
      }
     ],
     "prompt_number": 196
    },
    {
     "cell_type": "code",
     "collapsed": false,
     "input": "#cosine_transform(_, t, w)",
     "language": "python",
     "outputs": [],
     "prompt_number": 197
    },
    {
     "cell_type": "markdown",
     "source": "32"
    },
    {
     "cell_type": "code",
     "collapsed": false,
     "input": "exp(-a*t)*log(t)",
     "language": "python",
     "outputs": [
      {
       "output_type": "pyout",
       "png": "[encoded data removed]",
       "prompt_number": 198,
       "text": "\n -a\u22c5t       \n\u212f    \u22c5log(t)"
      }
     ],
     "prompt_number": 198
    },
    {
     "cell_type": "code",
     "collapsed": false,
     "input": "#cosine_transform(_, t, w)\n# Python exception!",
     "language": "python",
     "outputs": [],
     "prompt_number": 199
    },
    {
     "cell_type": "markdown",
     "source": "33"
    },
    {
     "cell_type": "code",
     "collapsed": false,
     "input": "log((a**2+t**2)/(b**2+t**2))",
     "language": "python",
     "outputs": [
      {
       "output_type": "pyout",
       "png": "[encoded data removed]",
       "prompt_number": 200,
       "text": "\n   \u239b 2    2\u239e\n   \u239ca  + t \u239f\nlog\u239c\u2500\u2500\u2500\u2500\u2500\u2500\u2500\u239f\n   \u239c 2    2\u239f\n   \u239db  + t \u23a0"
      }
     ],
     "prompt_number": 200
    },
    {
     "cell_type": "code",
     "collapsed": false,
     "input": "#cosine_transform(_, t, w)",
     "language": "python",
     "outputs": [],
     "prompt_number": 201
    },
    {
     "cell_type": "markdown",
     "source": "34"
    },
    {
     "cell_type": "code",
     "collapsed": false,
     "input": "log(Abs((a**2+t**2)/(b**2-t**2)))",
     "language": "python",
     "outputs": [
      {
       "output_type": "pyout",
       "png": "[encoded data removed]",
       "prompt_number": 202,
       "text": "\n   \u239b\u2502 2    2\u2502\u239e\n   \u239c\u2502a  + t \u2502\u239f\nlog\u239c\u2502\u2500\u2500\u2500\u2500\u2500\u2500\u2500\u2502\u239f\n   \u239c\u2502 2    2\u2502\u239f\n   \u239d\u2502b  - t \u2502\u23a0"
      }
     ],
     "prompt_number": 202
    },
    {
     "cell_type": "code",
     "collapsed": false,
     "input": "#cosine_transform(_, t, w)",
     "language": "python",
     "outputs": [],
     "prompt_number": 203
    },
    {
     "cell_type": "markdown",
     "source": "35"
    },
    {
     "cell_type": "code",
     "collapsed": false,
     "input": "1/t*log((a+t)/(a-t))**2",
     "language": "python",
     "outputs": [
      {
       "output_type": "pyout",
       "png": "[encoded data removed]",
       "prompt_number": 204,
       "text": "\n   2       \n    \u239ba + t\u239e\nlog \u239c\u2500\u2500\u2500\u2500\u2500\u239f\n    \u239da - t\u23a0\n\u2500\u2500\u2500\u2500\u2500\u2500\u2500\u2500\u2500\u2500\u2500\n     t     "
      }
     ],
     "prompt_number": 204
    },
    {
     "cell_type": "code",
     "collapsed": false,
     "input": "#cosine_transform(_, t, w)",
     "language": "python",
     "outputs": [],
     "prompt_number": 205
    },
    {
     "cell_type": "markdown",
     "source": "36"
    },
    {
     "cell_type": "code",
     "collapsed": false,
     "input": "log(a**2+t**2)/sqrt(a**2+t**2)",
     "language": "python",
     "outputs": [
      {
       "output_type": "pyout",
       "png": "[encoded data removed]",
       "prompt_number": 206,
       "text": "\n   \u239b 2    2\u239e\nlog\u239da  + t \u23a0\n\u2500\u2500\u2500\u2500\u2500\u2500\u2500\u2500\u2500\u2500\u2500\u2500\n   _________\n  \u2571  2    2 \n\u2572\u2571  a  + t  "
      }
     ],
     "prompt_number": 206
    },
    {
     "cell_type": "code",
     "collapsed": false,
     "input": "#cosine_transform(_, t, w)",
     "language": "python",
     "outputs": [],
     "prompt_number": 207
    },
    {
     "cell_type": "markdown",
     "source": "37"
    },
    {
     "cell_type": "code",
     "collapsed": false,
     "input": "log(1+a**2/t**2)",
     "language": "python",
     "outputs": [
      {
       "output_type": "pyout",
       "png": "[encoded data removed]",
       "prompt_number": 208,
       "text": "\n   \u239b 2    \u239e\n   \u239ca     \u239f\nlog\u239c\u2500\u2500 + 1\u239f\n   \u239c 2    \u239f\n   \u239dt     \u23a0"
      }
     ],
     "prompt_number": 208
    },
    {
     "cell_type": "code",
     "collapsed": false,
     "input": "#cosine_transform(_, t, w)",
     "language": "python",
     "outputs": [],
     "prompt_number": 209
    },
    {
     "cell_type": "markdown",
     "source": "38"
    },
    {
     "cell_type": "code",
     "collapsed": false,
     "input": "log(Abs(1-a**2/t**2))",
     "language": "python",
     "outputs": [
      {
       "output_type": "pyout",
       "png": "[encoded data removed]",
       "prompt_number": 210,
       "text": "\n   \u239b\u2502   2    \u2502\u239e\n   \u239c\u2502  a     \u2502\u239f\nlog\u239c\u2502- \u2500\u2500 + 1\u2502\u239f\n   \u239c\u2502   2    \u2502\u239f\n   \u239d\u2502  t     \u2502\u23a0"
      }
     ],
     "prompt_number": 210
    },
    {
     "cell_type": "code",
     "collapsed": false,
     "input": "#cosine_transform(_, t, w)",
     "language": "python",
     "outputs": [],
     "prompt_number": 211
    },
    {
     "cell_type": "markdown",
     "source": "39"
    },
    {
     "cell_type": "code",
     "collapsed": false,
     "input": "sin(a*t)/t",
     "language": "python",
     "outputs": [
      {
       "output_type": "pyout",
       "png": "[encoded data removed]",
       "prompt_number": 212,
       "text": "\nsin(a\u22c5t)\n\u2500\u2500\u2500\u2500\u2500\u2500\u2500\u2500\n   t    "
      }
     ],
     "prompt_number": 212
    },
    {
     "cell_type": "code",
     "collapsed": false,
     "input": "cosine_transform(_, t, w)",
     "language": "python",
     "outputs": [
      {
       "output_type": "pyout",
       "png": "[encoded data removed]",
       "prompt_number": 213,
       "text": "\n\u23a7                                                        \u2502 2\u2502    \n\u23aa                                                        \u2502a \u2502    \n\u23aa                        0                           for \u2502\u2500\u2500\u2502 < 1\n\u23aa                                                        \u2502 2\u2502    \n\u23aa                                                        \u2502w \u2502    \n\u23aa                                                                \n\u23aa                     ___   ___                          \u2502 2\u2502    \n\u23aa                   \u2572\u2571 2 \u22c5\u2572\u2571 \u03c0                           \u2502w \u2502    \n\u23aa                   \u2500\u2500\u2500\u2500\u2500\u2500\u2500\u2500\u2500\u2500\u2500                      for \u2502\u2500\u2500\u2502 < 1\n\u23aa                        2                               \u2502 2\u2502    \n\u23aa                                                        \u2502a \u2502    \n\u23aa                                                                \n\u23aa            \u23a7                             \u2502 2\u2502                  \n\u23aa  ___   ___ \u23aa                             \u2502a \u2502                  \n\u23aa\u2572\u2571 2 \u22c5\u2572\u2571 \u03c0 \u22c5\u23aa           0             for \u2502\u2500\u2500\u2502 < 1              \n\u23a8            \u23aa                             \u2502 2\u2502                  \n\u23aa            \u23aa                             \u2502w \u2502                  \n\u23aa            \u23aa                                                   \n\u23aa            \u23aa                             \u2502 2\u2502                  \n\u23aa            \u23aa                             \u2502w \u2502                  \n\u23aa            \u23a8           1             for \u2502\u2500\u2500\u2502 < 1              \n\u23aa            \u23aa                             \u2502 2\u2502                  \n\u23aa            \u23aa                             \u2502a \u2502                  \n\u23aa            \u23aa                                                   \n\u23aa            \u23aa        \u239b         \u2502  2\u239e                            \n\u23aa            \u23aa\u256d\u2500\u256e1, 1 \u239c 1   1/2 \u2502 a \u239f                            \n\u23aa            \u23aa\u2502\u2576\u2510     \u239c         \u2502 \u2500\u2500\u239f   otherwise                \n\u23aa            \u23aa\u2570\u2500\u256f2, 2 \u239c1/2   0  \u2502  2\u239f                            \n\u23aa            \u23a9        \u239d         \u2502 w \u23a0                            \n\u23aa\u2500\u2500\u2500\u2500\u2500\u2500\u2500\u2500\u2500\u2500\u2500\u2500\u2500\u2500\u2500\u2500\u2500\u2500\u2500\u2500\u2500\u2500\u2500\u2500\u2500\u2500\u2500\u2500\u2500\u2500\u2500\u2500\u2500\u2500\u2500\u2500\u2500\u2500\u2500\u2500\u2500\u2500\u2500\u2500\u2500\u2500\u2500\u2500\u2500\u2500   otherwise  \n\u23a9                        2                                       "
      }
     ],
     "prompt_number": 213
    },
    {
     "cell_type": "code",
     "collapsed": false,
     "input": "inverse_cosine_transform(sqrt(2)*sqrt(pi)/2, w, t)",
     "language": "python",
     "outputs": [
      {
       "output_type": "pyout",
       "png": "[encoded data removed]",
       "prompt_number": 214,
       "text": "\nsin(\u221e\u22c5t)\n\u2500\u2500\u2500\u2500\u2500\u2500\u2500\u2500\n   t    "
      }
     ],
     "prompt_number": 214
    },
    {
     "cell_type": "markdown",
     "source": "40"
    },
    {
     "cell_type": "code",
     "collapsed": false,
     "input": "t*sin(a*t)/(t**2+b**2)",
     "language": "python",
     "outputs": [
      {
       "output_type": "pyout",
       "png": "[encoded data removed]",
       "prompt_number": 215,
       "text": "\nt\u22c5sin(a\u22c5t)\n\u2500\u2500\u2500\u2500\u2500\u2500\u2500\u2500\u2500\u2500\n  2    2  \n b  + t   "
      }
     ],
     "prompt_number": 215
    },
    {
     "cell_type": "code",
     "collapsed": false,
     "input": "#cosine_transform(_, t, w)",
     "language": "python",
     "outputs": [],
     "prompt_number": 216
    },
    {
     "cell_type": "markdown",
     "source": "41"
    },
    {
     "cell_type": "code",
     "collapsed": false,
     "input": "sin(a*t)/(t*(t**2+b**2))",
     "language": "python",
     "outputs": [
      {
       "output_type": "pyout",
       "png": "[encoded data removed]",
       "prompt_number": 217,
       "text": "\n  sin(a\u22c5t) \n\u2500\u2500\u2500\u2500\u2500\u2500\u2500\u2500\u2500\u2500\u2500\n  \u239b 2    2\u239e\nt\u22c5\u239db  + t \u23a0"
      }
     ],
     "prompt_number": 217
    },
    {
     "cell_type": "code",
     "collapsed": false,
     "input": "#cosine_transform(_, t, w)",
     "language": "python",
     "outputs": [],
     "prompt_number": 218
    },
    {
     "cell_type": "markdown",
     "source": "42"
    },
    {
     "cell_type": "code",
     "collapsed": false,
     "input": "exp(-b*t)*sin(a*t)",
     "language": "python",
     "outputs": [
      {
       "output_type": "pyout",
       "png": "[encoded data removed]",
       "prompt_number": 219,
       "text": "\n -b\u22c5t         \n\u212f    \u22c5sin(a\u22c5t)"
      }
     ],
     "prompt_number": 219
    },
    {
     "cell_type": "code",
     "collapsed": false,
     "input": "#cosine_transform(_, t, w)\n# Python exception!",
     "language": "python",
     "outputs": [],
     "prompt_number": 220
    },
    {
     "cell_type": "markdown",
     "source": "43"
    },
    {
     "cell_type": "code",
     "collapsed": false,
     "input": "exp(-t)*sin(t)/t",
     "language": "python",
     "outputs": [
      {
       "output_type": "pyout",
       "png": "[encoded data removed]",
       "prompt_number": 221,
       "text": "\n -t       \n\u212f  \u22c5sin(t)\n\u2500\u2500\u2500\u2500\u2500\u2500\u2500\u2500\u2500\u2500\n    t     "
      }
     ],
     "prompt_number": 221
    },
    {
     "cell_type": "code",
     "collapsed": false,
     "input": "#cosine_transform(_, t, w)\n# Python exception!",
     "language": "python",
     "outputs": [],
     "prompt_number": 222
    },
    {
     "cell_type": "markdown",
     "source": "44"
    },
    {
     "cell_type": "code",
     "collapsed": false,
     "input": "sin(a*t)**2/t",
     "language": "python",
     "outputs": [
      {
       "output_type": "pyout",
       "png": "[encoded data removed]",
       "prompt_number": 223,
       "text": "\n   2     \nsin (a\u22c5t)\n\u2500\u2500\u2500\u2500\u2500\u2500\u2500\u2500\u2500\n    t    "
      }
     ],
     "prompt_number": 223
    },
    {
     "cell_type": "code",
     "collapsed": false,
     "input": "#cosine_transform(_, t, w)",
     "language": "python",
     "outputs": [],
     "prompt_number": 224
    },
    {
     "cell_type": "markdown",
     "source": "45"
    },
    {
     "cell_type": "code",
     "collapsed": false,
     "input": "sin(a*t)*sin(b*t)/t",
     "language": "python",
     "outputs": [
      {
       "output_type": "pyout",
       "png": "[encoded data removed]",
       "prompt_number": 225,
       "text": "\nsin(a\u22c5t)\u22c5sin(b\u22c5t)\n\u2500\u2500\u2500\u2500\u2500\u2500\u2500\u2500\u2500\u2500\u2500\u2500\u2500\u2500\u2500\u2500\u2500\n        t        "
      }
     ],
     "prompt_number": 225
    },
    {
     "cell_type": "code",
     "collapsed": false,
     "input": "#cosine_transform(_, t, w)",
     "language": "python",
     "outputs": [],
     "prompt_number": 226
    },
    {
     "cell_type": "markdown",
     "source": "46"
    },
    {
     "cell_type": "code",
     "collapsed": false,
     "input": "sin(a*t)**2/t**2",
     "language": "python",
     "outputs": [
      {
       "output_type": "pyout",
       "png": "[encoded data removed]",
       "prompt_number": 227,
       "text": "\n   2     \nsin (a\u22c5t)\n\u2500\u2500\u2500\u2500\u2500\u2500\u2500\u2500\u2500\n     2   \n    t    "
      }
     ],
     "prompt_number": 227
    },
    {
     "cell_type": "code",
     "collapsed": false,
     "input": "cosine_transform(_, t, w)",
     "language": "python",
     "outputs": [
      {
       "output_type": "pyout",
       "png": "[encoded data removed]",
       "prompt_number": 228,
       "text": "\n               \u239b   2           \u239e\n               \u239csin (a\u22c5t)      \u239f\nCosineTransform\u239c\u2500\u2500\u2500\u2500\u2500\u2500\u2500\u2500\u2500, t, w\u239f\n               \u239c     2         \u239f\n               \u239d    t          \u23a0"
      }
     ],
     "prompt_number": 228
    },
    {
     "cell_type": "markdown",
     "source": "47"
    },
    {
     "cell_type": "code",
     "collapsed": false,
     "input": "sin(a*t)**3/t**2",
     "language": "python",
     "outputs": [
      {
       "output_type": "pyout",
       "png": "[encoded data removed]",
       "prompt_number": 229,
       "text": "\n   3     \nsin (a\u22c5t)\n\u2500\u2500\u2500\u2500\u2500\u2500\u2500\u2500\u2500\n     2   \n    t    "
      }
     ],
     "prompt_number": 229
    },
    {
     "cell_type": "code",
     "collapsed": false,
     "input": "#cosine_transform(_, t, w)",
     "language": "python",
     "outputs": [],
     "prompt_number": 230
    },
    {
     "cell_type": "markdown",
     "source": "48"
    },
    {
     "cell_type": "code",
     "collapsed": false,
     "input": "sin(a*t)**3/t**3",
     "language": "python",
     "outputs": [
      {
       "output_type": "pyout",
       "png": "[encoded data removed]",
       "prompt_number": 231,
       "text": "\n   3     \nsin (a\u22c5t)\n\u2500\u2500\u2500\u2500\u2500\u2500\u2500\u2500\u2500\n     3   \n    t    "
      }
     ],
     "prompt_number": 231
    },
    {
     "cell_type": "code",
     "collapsed": false,
     "input": "#cosine_transform(_, t, w)",
     "language": "python",
     "outputs": [],
     "prompt_number": 232
    },
    {
     "cell_type": "markdown",
     "source": "49"
    },
    {
     "cell_type": "code",
     "collapsed": false,
     "input": "(1-cos(a*t))/t",
     "language": "python",
     "outputs": [
      {
       "output_type": "pyout",
       "png": "[encoded data removed]",
       "prompt_number": 233,
       "text": "\n-cos(a\u22c5t) + 1\n\u2500\u2500\u2500\u2500\u2500\u2500\u2500\u2500\u2500\u2500\u2500\u2500\u2500\n      t      "
      }
     ],
     "prompt_number": 233
    },
    {
     "cell_type": "code",
     "collapsed": false,
     "input": "cosine_transform(_, t, w)",
     "language": "python",
     "outputs": [
      {
       "output_type": "pyout",
       "png": "[encoded data removed]",
       "prompt_number": 234,
       "text": "\n               \u239b1      \u239e                  \u239bcos(a\u22c5t)      \u239e\nCosineTransform\u239c\u2500, t, w\u239f - CosineTransform\u239c\u2500\u2500\u2500\u2500\u2500\u2500\u2500\u2500, t, w\u239f\n               \u239dt      \u23a0                  \u239d   t          \u23a0"
      }
     ],
     "prompt_number": 234
    },
    {
     "cell_type": "markdown",
     "source": "50"
    },
    {
     "cell_type": "code",
     "collapsed": false,
     "input": "(1-cos(a*t))/t**2",
     "language": "python",
     "outputs": [
      {
       "output_type": "pyout",
       "png": "[encoded data removed]",
       "prompt_number": 235,
       "text": "\n-cos(a\u22c5t) + 1\n\u2500\u2500\u2500\u2500\u2500\u2500\u2500\u2500\u2500\u2500\u2500\u2500\u2500\n       2     \n      t      "
      }
     ],
     "prompt_number": 235
    },
    {
     "cell_type": "code",
     "collapsed": false,
     "input": "cosine_transform(_, t, w)",
     "language": "python",
     "outputs": [
      {
       "output_type": "pyout",
       "png": "[encoded data removed]",
       "prompt_number": 236,
       "text": "\n               \u239b1       \u239e                  \u239bcos(a\u22c5t)      \u239e\nCosineTransform\u239c\u2500\u2500, t, w\u239f - CosineTransform\u239c\u2500\u2500\u2500\u2500\u2500\u2500\u2500\u2500, t, w\u239f\n               \u239c 2      \u239f                  \u239c    2         \u239f\n               \u239dt       \u23a0                  \u239d   t          \u23a0"
      }
     ],
     "prompt_number": 236
    },
    {
     "cell_type": "markdown",
     "source": "51"
    },
    {
     "cell_type": "code",
     "collapsed": false,
     "input": "cos(a*t)/(b**2+t**2)",
     "language": "python",
     "outputs": [
      {
       "output_type": "pyout",
       "png": "[encoded data removed]",
       "prompt_number": 237,
       "text": "\ncos(a\u22c5t)\n\u2500\u2500\u2500\u2500\u2500\u2500\u2500\u2500\n 2    2 \nb  + t  "
      }
     ],
     "prompt_number": 237
    },
    {
     "cell_type": "code",
     "collapsed": false,
     "input": "cosine_transform(_, t, w)",
     "language": "python",
     "outputs": [
      {
       "output_type": "pyout",
       "png": "[encoded data removed]",
       "prompt_number": 238,
       "text": "\n               \u239bcos(a\u22c5t)      \u239e\nCosineTransform\u239c\u2500\u2500\u2500\u2500\u2500\u2500\u2500\u2500, t, w\u239f\n               \u239c 2    2       \u239f\n               \u239db  + t        \u23a0"
      }
     ],
     "prompt_number": 238
    },
    {
     "cell_type": "markdown",
     "source": "52"
    },
    {
     "cell_type": "code",
     "collapsed": false,
     "input": "exp(-b*t)*cos(a*t)",
     "language": "python",
     "outputs": [
      {
       "output_type": "pyout",
       "png": "[encoded data removed]",
       "prompt_number": 239,
       "text": "\n -b\u22c5t         \n\u212f    \u22c5cos(a\u22c5t)"
      }
     ],
     "prompt_number": 239
    },
    {
     "cell_type": "code",
     "collapsed": false,
     "input": "#cosine_transform(_, t, w)\n# Python exception!",
     "language": "python",
     "outputs": [],
     "prompt_number": 240
    },
    {
     "cell_type": "markdown",
     "source": "53"
    },
    {
     "cell_type": "code",
     "collapsed": false,
     "input": "exp(-b*t**2)*cos(a*t)",
     "language": "python",
     "outputs": [
      {
       "output_type": "pyout",
       "png": "[encoded data removed]",
       "prompt_number": 241,
       "text": "\n     2         \n -b\u22c5t          \n\u212f     \u22c5cos(a\u22c5t)"
      }
     ],
     "prompt_number": 241
    },
    {
     "cell_type": "code",
     "collapsed": false,
     "input": "#cosine_transform(_, t, w)",
     "language": "python",
     "outputs": [],
     "prompt_number": 242
    },
    {
     "cell_type": "markdown",
     "source": "54"
    },
    {
     "cell_type": "code",
     "collapsed": false,
     "input": "t/(b**2+t**2)*tan(a*t)",
     "language": "python",
     "outputs": [
      {
       "output_type": "pyout",
       "png": "[encoded data removed]",
       "prompt_number": 243,
       "text": "\nt\u22c5tan(a\u22c5t)\n\u2500\u2500\u2500\u2500\u2500\u2500\u2500\u2500\u2500\u2500\n  2    2  \n b  + t   "
      }
     ],
     "prompt_number": 243
    },
    {
     "cell_type": "code",
     "collapsed": false,
     "input": "#cosine_transform(_, t, w)",
     "language": "python",
     "outputs": [],
     "prompt_number": 244
    },
    {
     "cell_type": "markdown",
     "source": "55"
    },
    {
     "cell_type": "code",
     "collapsed": false,
     "input": "t/(b**2+t**2)*cot(a*t)",
     "language": "python",
     "outputs": [
      {
       "output_type": "pyout",
       "png": "[encoded data removed]",
       "prompt_number": 245,
       "text": "\nt\u22c5cot(a\u22c5t)\n\u2500\u2500\u2500\u2500\u2500\u2500\u2500\u2500\u2500\u2500\n  2    2  \n b  + t   "
      }
     ],
     "prompt_number": 245
    },
    {
     "cell_type": "code",
     "collapsed": false,
     "input": "#cosine_transform(_, t, w)",
     "language": "python",
     "outputs": [],
     "prompt_number": 246
    },
    {
     "cell_type": "markdown",
     "source": "56"
    },
    {
     "cell_type": "code",
     "collapsed": false,
     "input": "sin(a*t**2)",
     "language": "python",
     "outputs": [
      {
       "output_type": "pyout",
       "png": "[encoded data removed]",
       "prompt_number": 247,
       "text": "\n   \u239b   2\u239e\nsin\u239da\u22c5t \u23a0"
      }
     ],
     "prompt_number": 247
    },
    {
     "cell_type": "code",
     "collapsed": false,
     "input": "cosine_transform(_, t, w)",
     "language": "python",
     "outputs": [
      {
       "output_type": "pyout",
       "png": "[encoded data removed]",
       "prompt_number": 248,
       "text": "\n               \u239b   \u239b   2\u239e      \u239e\nCosineTransform\u239dsin\u239da\u22c5t \u23a0, t, w\u23a0"
      }
     ],
     "prompt_number": 248
    },
    {
     "cell_type": "markdown",
     "source": "57"
    },
    {
     "cell_type": "code",
     "collapsed": false,
     "input": "sin(a*(1-t**2))",
     "language": "python",
     "outputs": [
      {
       "output_type": "pyout",
       "png": "[encoded data removed]",
       "prompt_number": 249,
       "text": "\n   \u239b  \u239b   2    \u239e\u239e\nsin\u239da\u22c5\u239d- t  + 1\u23a0\u23a0"
      }
     ],
     "prompt_number": 249
    },
    {
     "cell_type": "code",
     "collapsed": false,
     "input": "cosine_transform(_, t, w)",
     "language": "python",
     "outputs": [
      {
       "output_type": "pyout",
       "png": "[encoded data removed]",
       "prompt_number": 250,
       "text": "\n                \u239b   \u239b   2    \u239e      \u239e\n-CosineTransform\u239dsin\u239da\u22c5t  - a\u23a0, t, w\u23a0"
      }
     ],
     "prompt_number": 250
    },
    {
     "cell_type": "markdown",
     "source": "58"
    },
    {
     "cell_type": "code",
     "collapsed": false,
     "input": "sin(a*t**2)/t**2",
     "language": "python",
     "outputs": [
      {
       "output_type": "pyout",
       "png": "[encoded data removed]",
       "prompt_number": 251,
       "text": "\n   \u239b   2\u239e\nsin\u239da\u22c5t \u23a0\n\u2500\u2500\u2500\u2500\u2500\u2500\u2500\u2500\u2500\n     2   \n    t    "
      }
     ],
     "prompt_number": 251
    },
    {
     "cell_type": "code",
     "collapsed": false,
     "input": "cosine_transform(_, t, w)",
     "language": "python",
     "outputs": [
      {
       "output_type": "pyout",
       "png": "[encoded data removed]",
       "prompt_number": 252,
       "text": "\n               \u239b   \u239b   2\u239e      \u239e\n               \u239csin\u239da\u22c5t \u23a0      \u239f\nCosineTransform\u239c\u2500\u2500\u2500\u2500\u2500\u2500\u2500\u2500\u2500, t, w\u239f\n               \u239c     2         \u239f\n               \u239d    t          \u23a0"
      }
     ],
     "prompt_number": 252
    },
    {
     "cell_type": "markdown",
     "source": "59"
    },
    {
     "cell_type": "code",
     "collapsed": false,
     "input": "sin(a*t**2)/t",
     "language": "python",
     "outputs": [
      {
       "output_type": "pyout",
       "png": "[encoded data removed]",
       "prompt_number": 253,
       "text": "\n   \u239b   2\u239e\nsin\u239da\u22c5t \u23a0\n\u2500\u2500\u2500\u2500\u2500\u2500\u2500\u2500\u2500\n    t    "
      }
     ],
     "prompt_number": 253
    },
    {
     "cell_type": "code",
     "collapsed": false,
     "input": "cosine_transform(_, t, w)",
     "language": "python",
     "outputs": [
      {
       "output_type": "pyout",
       "png": "[encoded data removed]",
       "prompt_number": 254,
       "text": "\n               \u239b   \u239b   2\u239e      \u239e\n               \u239csin\u239da\u22c5t \u23a0      \u239f\nCosineTransform\u239c\u2500\u2500\u2500\u2500\u2500\u2500\u2500\u2500\u2500, t, w\u239f\n               \u239d    t          \u23a0"
      }
     ],
     "prompt_number": 254
    },
    {
     "cell_type": "markdown",
     "source": "60"
    },
    {
     "cell_type": "code",
     "collapsed": false,
     "input": "exp(-a*t**2)*sin(b*t**2)",
     "language": "python",
     "outputs": [
      {
       "output_type": "pyout",
       "png": "[encoded data removed]",
       "prompt_number": 255,
       "text": "\n     2          \n -a\u22c5t     \u239b   2\u239e\n\u212f     \u22c5sin\u239db\u22c5t \u23a0"
      }
     ],
     "prompt_number": 255
    },
    {
     "cell_type": "code",
     "collapsed": false,
     "input": "#cosine_transform(_, t, w)\n# Python exception",
     "language": "python",
     "outputs": [],
     "prompt_number": 256
    },
    {
     "cell_type": "markdown",
     "source": "61"
    },
    {
     "cell_type": "code",
     "collapsed": false,
     "input": "cos(a*t**2)",
     "language": "python",
     "outputs": [
      {
       "output_type": "pyout",
       "png": "[encoded data removed]",
       "prompt_number": 257,
       "text": "\n   \u239b   2\u239e\ncos\u239da\u22c5t \u23a0"
      }
     ],
     "prompt_number": 257
    },
    {
     "cell_type": "code",
     "collapsed": false,
     "input": "cosine_transform(_, t, w)",
     "language": "python",
     "outputs": [
      {
       "output_type": "pyout",
       "png": "[encoded data removed]",
       "prompt_number": 258,
       "text": "\n               \u239b   \u239b   2\u239e      \u239e\nCosineTransform\u239dcos\u239da\u22c5t \u23a0, t, w\u23a0"
      }
     ],
     "prompt_number": 258
    },
    {
     "cell_type": "markdown",
     "source": "62"
    },
    {
     "cell_type": "code",
     "collapsed": false,
     "input": "cos(a*(1-t**2))",
     "language": "python",
     "outputs": [
      {
       "output_type": "pyout",
       "png": "[encoded data removed]",
       "prompt_number": 259,
       "text": "\n   \u239b  \u239b   2    \u239e\u239e\ncos\u239da\u22c5\u239d- t  + 1\u23a0\u23a0"
      }
     ],
     "prompt_number": 259
    },
    {
     "cell_type": "code",
     "collapsed": false,
     "input": "cosine_transform(_, t, w)",
     "language": "python",
     "outputs": [
      {
       "output_type": "pyout",
       "png": "[encoded data removed]",
       "prompt_number": 260,
       "text": "\n               \u239b   \u239b   2    \u239e      \u239e\nCosineTransform\u239dcos\u239da\u22c5t  - a\u23a0, t, w\u23a0"
      }
     ],
     "prompt_number": 260
    },
    {
     "cell_type": "markdown",
     "source": "63"
    },
    {
     "cell_type": "code",
     "collapsed": false,
     "input": "exp(-a*t**2)*cos(b*t**2)",
     "language": "python",
     "outputs": [
      {
       "output_type": "pyout",
       "png": "[encoded data removed]",
       "prompt_number": 261,
       "text": "\n     2          \n -a\u22c5t     \u239b   2\u239e\n\u212f     \u22c5cos\u239db\u22c5t \u23a0"
      }
     ],
     "prompt_number": 261
    },
    {
     "cell_type": "code",
     "collapsed": false,
     "input": "#cosine_transform(_, t, w)\n# Python exception",
     "language": "python",
     "outputs": [],
     "prompt_number": 262
    },
    {
     "cell_type": "markdown",
     "source": "64"
    },
    {
     "cell_type": "code",
     "collapsed": false,
     "input": "1/t*sin(a/t)",
     "language": "python",
     "outputs": [
      {
       "output_type": "pyout",
       "png": "[encoded data removed]",
       "prompt_number": 263,
       "text": "\n   \u239ba\u239e\nsin\u239c\u2500\u239f\n   \u239dt\u23a0\n\u2500\u2500\u2500\u2500\u2500\u2500\n  t   "
      }
     ],
     "prompt_number": 263
    },
    {
     "cell_type": "code",
     "collapsed": false,
     "input": "cosine_transform(_, t, w)",
     "language": "python",
     "outputs": [
      {
       "output_type": "pyout",
       "png": "[encoded data removed]",
       "prompt_number": 264,
       "text": "\n            \u239b      \u239b       \u239b       ___   ___\u239e          \u239b       ___   ___\u239e     \n            \u239c      \u239cbesseli\u239d2, 2\u22c5\u2572\u2571 a \u22c5\u2572\u2571 w \u23a0 + besselj\u239d2, 2\u22c5\u2572\u2571 a \u22c5\u2572\u2571 w \u23a0   be\n            \u239c  a\u22c5w\u22c5\u239c\u2500\u2500\u2500\u2500\u2500\u2500\u2500\u2500\u2500\u2500\u2500\u2500\u2500\u2500\u2500\u2500\u2500\u2500\u2500\u2500\u2500\u2500\u2500\u2500\u2500\u2500\u2500\u2500\u2500\u2500\u2500\u2500\u2500\u2500\u2500\u2500\u2500\u2500\u2500\u2500\u2500\u2500\u2500\u2500\u2500\u2500\u2500\u2500\u2500\u2500\u2500\u2500\u2500 + \u2500\u2500\n            \u239c      \u239c                        2\u22c5a\u22c5w                             \n  ___   ___ \u239c      \u239d                                                          \n\u2572\u2571 2 \u22c5\u2572\u2571 \u03c0 \u22c5\u239c- \u2500\u2500\u2500\u2500\u2500\u2500\u2500\u2500\u2500\u2500\u2500\u2500\u2500\u2500\u2500\u2500\u2500\u2500\u2500\u2500\u2500\u2500\u2500\u2500\u2500\u2500\u2500\u2500\u2500\u2500\u2500\u2500\u2500\u2500\u2500\u2500\u2500\u2500\u2500\u2500\u2500\u2500\u2500\u2500\u2500\u2500\u2500\u2500\u2500\u2500\u2500\u2500\u2500\u2500\u2500\u2500\u2500\u2500\u2500\u2500\u2500\u2500\u2500\n            \u239d                                                           2     \n\n     \u239b       ___   ___\u239e          \u239b       ___   ___\u239e\u239e                          \nsseli\u239d1, 2\u22c5\u2572\u2571 a \u22c5\u2572\u2571 w \u23a0 - besselj\u239d1, 2\u22c5\u2572\u2571 a \u22c5\u2572\u2571 w \u23a0\u239f                          \n\u2500\u2500\u2500\u2500\u2500\u2500\u2500\u2500\u2500\u2500\u2500\u2500\u2500\u2500\u2500\u2500\u2500\u2500\u2500\u2500\u2500\u2500\u2500\u2500\u2500\u2500\u2500\u2500\u2500\u2500\u2500\u2500\u2500\u2500\u2500\u2500\u2500\u2500\u2500\u2500\u2500\u2500\u2500\u2500\u2500\u2500\u2500\u2500\u2500\u2500\u2500\u239f                          \n                      3/2  3/2                     \u239f          \u239b       ___   __\n                   2\u22c5a   \u22c5w                        \u23a0   besseli\u239d0, 2\u22c5\u2572\u2571 a \u22c5\u2572\u2571 w\n\u2500\u2500\u2500\u2500\u2500\u2500\u2500\u2500\u2500\u2500\u2500\u2500\u2500\u2500\u2500\u2500\u2500\u2500\u2500\u2500\u2500\u2500\u2500\u2500\u2500\u2500\u2500\u2500\u2500\u2500\u2500\u2500\u2500\u2500\u2500\u2500\u2500\u2500\u2500\u2500\u2500\u2500\u2500\u2500\u2500\u2500\u2500\u2500\u2500\u2500\u2500\u2500 + \u2500\u2500\u2500\u2500\u2500\u2500\u2500\u2500\u2500\u2500\u2500\u2500\u2500\u2500\u2500\u2500\u2500\u2500\u2500\u2500\u2500\u2500\u2500\n                                                                   4          \n\n                              \u239e\n                              \u239f\n                              \u239f\n_\u239e          \u239b       ___   ___\u239e\u239f\n \u23a0   besselj\u239d0, 2\u22c5\u2572\u2571 a \u22c5\u2572\u2571 w \u23a0\u239f\n\u2500\u2500 + \u2500\u2500\u2500\u2500\u2500\u2500\u2500\u2500\u2500\u2500\u2500\u2500\u2500\u2500\u2500\u2500\u2500\u2500\u2500\u2500\u2500\u2500\u2500\u2500\u2500\u239f\n                 4            \u23a0"
      }
     ],
     "prompt_number": 264
    },
    {
     "cell_type": "code",
     "collapsed": false,
     "input": "simplify(_)",
     "language": "python",
     "outputs": [
      {
       "output_type": "pyout",
       "png": "[encoded data removed]",
       "prompt_number": 265,
       "text": "\n            \u239b      \u239b       \u239b       ___   ___\u239e          \u239b       ___   ___\u239e     \n            \u239c      \u239cbesseli\u239d2, 2\u22c5\u2572\u2571 a \u22c5\u2572\u2571 w \u23a0 + besselj\u239d2, 2\u22c5\u2572\u2571 a \u22c5\u2572\u2571 w \u23a0   be\n            \u239c  a\u22c5w\u22c5\u239c\u2500\u2500\u2500\u2500\u2500\u2500\u2500\u2500\u2500\u2500\u2500\u2500\u2500\u2500\u2500\u2500\u2500\u2500\u2500\u2500\u2500\u2500\u2500\u2500\u2500\u2500\u2500\u2500\u2500\u2500\u2500\u2500\u2500\u2500\u2500\u2500\u2500\u2500\u2500\u2500\u2500\u2500\u2500\u2500\u2500\u2500\u2500\u2500\u2500\u2500\u2500\u2500\u2500 + \u2500\u2500\n            \u239c      \u239c                        2\u22c5a\u22c5w                             \n  ___   ___ \u239c      \u239d                                                          \n\u2572\u2571 2 \u22c5\u2572\u2571 \u03c0 \u22c5\u239c- \u2500\u2500\u2500\u2500\u2500\u2500\u2500\u2500\u2500\u2500\u2500\u2500\u2500\u2500\u2500\u2500\u2500\u2500\u2500\u2500\u2500\u2500\u2500\u2500\u2500\u2500\u2500\u2500\u2500\u2500\u2500\u2500\u2500\u2500\u2500\u2500\u2500\u2500\u2500\u2500\u2500\u2500\u2500\u2500\u2500\u2500\u2500\u2500\u2500\u2500\u2500\u2500\u2500\u2500\u2500\u2500\u2500\u2500\u2500\u2500\u2500\u2500\u2500\n            \u239d                                                           2     \n\n     \u239b       ___   ___\u239e          \u239b       ___   ___\u239e\u239e                          \nsseli\u239d1, 2\u22c5\u2572\u2571 a \u22c5\u2572\u2571 w \u23a0 - besselj\u239d1, 2\u22c5\u2572\u2571 a \u22c5\u2572\u2571 w \u23a0\u239f                          \n\u2500\u2500\u2500\u2500\u2500\u2500\u2500\u2500\u2500\u2500\u2500\u2500\u2500\u2500\u2500\u2500\u2500\u2500\u2500\u2500\u2500\u2500\u2500\u2500\u2500\u2500\u2500\u2500\u2500\u2500\u2500\u2500\u2500\u2500\u2500\u2500\u2500\u2500\u2500\u2500\u2500\u2500\u2500\u2500\u2500\u2500\u2500\u2500\u2500\u2500\u2500\u239f                          \n                      3/2  3/2                     \u239f          \u239b       ___   __\n                   2\u22c5a   \u22c5w                        \u23a0   besseli\u239d0, 2\u22c5\u2572\u2571 a \u22c5\u2572\u2571 w\n\u2500\u2500\u2500\u2500\u2500\u2500\u2500\u2500\u2500\u2500\u2500\u2500\u2500\u2500\u2500\u2500\u2500\u2500\u2500\u2500\u2500\u2500\u2500\u2500\u2500\u2500\u2500\u2500\u2500\u2500\u2500\u2500\u2500\u2500\u2500\u2500\u2500\u2500\u2500\u2500\u2500\u2500\u2500\u2500\u2500\u2500\u2500\u2500\u2500\u2500\u2500\u2500 + \u2500\u2500\u2500\u2500\u2500\u2500\u2500\u2500\u2500\u2500\u2500\u2500\u2500\u2500\u2500\u2500\u2500\u2500\u2500\u2500\u2500\u2500\u2500\n                                                                   4          \n\n                              \u239e\n                              \u239f\n                              \u239f\n_\u239e          \u239b       ___   ___\u239e\u239f\n \u23a0   besselj\u239d0, 2\u22c5\u2572\u2571 a \u22c5\u2572\u2571 w \u23a0\u239f\n\u2500\u2500 + \u2500\u2500\u2500\u2500\u2500\u2500\u2500\u2500\u2500\u2500\u2500\u2500\u2500\u2500\u2500\u2500\u2500\u2500\u2500\u2500\u2500\u2500\u2500\u2500\u2500\u239f\n                 4            \u23a0"
      }
     ],
     "prompt_number": 265
    },
    {
     "cell_type": "code",
     "collapsed": false,
     "input": "expand(_)",
     "language": "python",
     "outputs": [
      {
       "output_type": "pyout",
       "png": "[encoded data removed]",
       "prompt_number": 266,
       "text": "\n  ___   ___        \u239b       ___   ___\u239e     ___   ___        \u239b       ___   ___\u239e \n\u2572\u2571 2 \u22c5\u2572\u2571 \u03c0 \u22c5besseli\u239d0, 2\u22c5\u2572\u2571 a \u22c5\u2572\u2571 w \u23a0   \u2572\u2571 2 \u22c5\u2572\u2571 \u03c0 \u22c5besseli\u239d2, 2\u22c5\u2572\u2571 a \u22c5\u2572\u2571 w \u23a0 \n\u2500\u2500\u2500\u2500\u2500\u2500\u2500\u2500\u2500\u2500\u2500\u2500\u2500\u2500\u2500\u2500\u2500\u2500\u2500\u2500\u2500\u2500\u2500\u2500\u2500\u2500\u2500\u2500\u2500\u2500\u2500\u2500\u2500\u2500\u2500\u2500\u2500 - \u2500\u2500\u2500\u2500\u2500\u2500\u2500\u2500\u2500\u2500\u2500\u2500\u2500\u2500\u2500\u2500\u2500\u2500\u2500\u2500\u2500\u2500\u2500\u2500\u2500\u2500\u2500\u2500\u2500\u2500\u2500\u2500\u2500\u2500\u2500\u2500\u2500 \n                  4                                       4                   \n                                                                              \n\n    ___   ___        \u239b       ___   ___\u239e     ___   ___        \u239b       ___   ___\n  \u2572\u2571 2 \u22c5\u2572\u2571 \u03c0 \u22c5besselj\u239d0, 2\u22c5\u2572\u2571 a \u22c5\u2572\u2571 w \u23a0   \u2572\u2571 2 \u22c5\u2572\u2571 \u03c0 \u22c5besselj\u239d2, 2\u22c5\u2572\u2571 a \u22c5\u2572\u2571 w \n+ \u2500\u2500\u2500\u2500\u2500\u2500\u2500\u2500\u2500\u2500\u2500\u2500\u2500\u2500\u2500\u2500\u2500\u2500\u2500\u2500\u2500\u2500\u2500\u2500\u2500\u2500\u2500\u2500\u2500\u2500\u2500\u2500\u2500\u2500\u2500\u2500\u2500 - \u2500\u2500\u2500\u2500\u2500\u2500\u2500\u2500\u2500\u2500\u2500\u2500\u2500\u2500\u2500\u2500\u2500\u2500\u2500\u2500\u2500\u2500\u2500\u2500\u2500\u2500\u2500\u2500\u2500\u2500\u2500\u2500\u2500\u2500\u2500\u2500\n                    4                                       4                 \n                                                                              \n\n\u239e     ___   ___        \u239b       ___   ___\u239e     ___   ___        \u239b       ___   _\n\u23a0   \u2572\u2571 2 \u22c5\u2572\u2571 \u03c0 \u22c5besseli\u239d1, 2\u22c5\u2572\u2571 a \u22c5\u2572\u2571 w \u23a0   \u2572\u2571 2 \u22c5\u2572\u2571 \u03c0 \u22c5besselj\u239d1, 2\u22c5\u2572\u2571 a \u22c5\u2572\u2571 \n\u2500 - \u2500\u2500\u2500\u2500\u2500\u2500\u2500\u2500\u2500\u2500\u2500\u2500\u2500\u2500\u2500\u2500\u2500\u2500\u2500\u2500\u2500\u2500\u2500\u2500\u2500\u2500\u2500\u2500\u2500\u2500\u2500\u2500\u2500\u2500\u2500\u2500\u2500 + \u2500\u2500\u2500\u2500\u2500\u2500\u2500\u2500\u2500\u2500\u2500\u2500\u2500\u2500\u2500\u2500\u2500\u2500\u2500\u2500\u2500\u2500\u2500\u2500\u2500\u2500\u2500\u2500\u2500\u2500\u2500\u2500\u2500\u2500\n                    ___   ___                               ___   ___         \n                4\u22c5\u2572\u2571 a \u22c5\u2572\u2571 w                            4\u22c5\u2572\u2571 a \u22c5\u2572\u2571 w          \n\n__\u239e\nw \u23a0\n\u2500\u2500\u2500\n   \n   "
      }
     ],
     "prompt_number": 266
    },
    {
     "cell_type": "code",
     "collapsed": false,
     "input": "#inverse_cosine_transform(_, w, t)",
     "language": "python",
     "outputs": [],
     "prompt_number": 267
    },
    {
     "cell_type": "markdown",
     "source": "65"
    },
    {
     "cell_type": "code",
     "collapsed": false,
     "input": "1/sqrt(t)*sin(a/t)",
     "language": "python",
     "outputs": [
      {
       "output_type": "pyout",
       "png": "[encoded data removed]",
       "prompt_number": 268,
       "text": "\n   \u239ba\u239e\nsin\u239c\u2500\u239f\n   \u239dt\u23a0\n\u2500\u2500\u2500\u2500\u2500\u2500\n  ___ \n\u2572\u2571 t  "
      }
     ],
     "prompt_number": 268
    },
    {
     "cell_type": "code",
     "collapsed": false,
     "input": "cosine_transform(_, t, w)",
     "language": "python",
     "outputs": [
      {
       "output_type": "pyout",
       "png": "[encoded data removed]",
       "prompt_number": 269,
       "text": "\n         \u239b                                       \u2148\u22c5\u03c0                          \n         \u239c                                       \u2500\u2500\u2500                          \n     3/4 \u239c4 ____ 4 ___ 4 ___    \u239b    ___   ___\u239e   4                  4 ____ 4 \n-(-1)   \u22c5\u239d\u2572\u2571 -1 \u22c5\u2572\u2571 a \u22c5\u2572\u2571 w \u22c5sin\u239d2\u22c5\u2572\u2571 a \u22c5\u2572\u2571 w \u23a0\u22c5\u212f   \u22c5\u0393(1/4)\u22c5\u0393(3/4) + \u2572\u2571 -1 \u22c5\u2572\u2571\n\u2500\u2500\u2500\u2500\u2500\u2500\u2500\u2500\u2500\u2500\u2500\u2500\u2500\u2500\u2500\u2500\u2500\u2500\u2500\u2500\u2500\u2500\u2500\u2500\u2500\u2500\u2500\u2500\u2500\u2500\u2500\u2500\u2500\u2500\u2500\u2500\u2500\u2500\u2500\u2500\u2500\u2500\u2500\u2500\u2500\u2500\u2500\u2500\u2500\u2500\u2500\u2500\u2500\u2500\u2500\u2500\u2500\u2500\u2500\u2500\u2500\u2500\u2500\u2500\u2500\u2500\u2500\u2500\u2500\u2500\u2500\u2500\u2500\u2500\u2500\u2500\u2500\u2500\n                                                                              \n                                                                              \n                                                                              \n\n                               \u2148\u22c5\u03c0                                       \u239b    \n                               \u2500\u2500\u2500                      _____________    \u239c    \n___ 4 ___     \u239b    ___   ___\u239e   4                      \u2571   ___   ___     \u239c  __\n a \u22c5\u2572\u2571 w \u22c5sinh\u239d2\u22c5\u2572\u2571 a \u22c5\u2572\u2571 w \u23a0\u22c5\u212f   \u22c5\u0393(1/4)\u22c5\u0393(3/4) + 2\u22c5\u2572\u2571  \u2572\u2571 a \u22c5\u2572\u2571 w  \u22c5sin\u239d\u2572\u2571 2\n\u2500\u2500\u2500\u2500\u2500\u2500\u2500\u2500\u2500\u2500\u2500\u2500\u2500\u2500\u2500\u2500\u2500\u2500\u2500\u2500\u2500\u2500\u2500\u2500\u2500\u2500\u2500\u2500\u2500\u2500\u2500\u2500\u2500\u2500\u2500\u2500\u2500\u2500\u2500\u2500\u2500\u2500\u2500\u2500\u2500\u2500\u2500\u2500\u2500\u2500\u2500\u2500\u2500\u2500\u2500\u2500\u2500\u2500\u2500\u2500\u2500\u2500\u2500\u2500\u2500\u2500\u2500\u2500\u2500\u2500\u2500\u2500\u2500\u2500\u2500\u2500\u2500\u2500\n                           _____________                                      \n                    ___   \u2571   ___   ___                                       \n                8\u22c5\u2572\u2571 w \u22c5\u2572\u2571  \u2572\u2571 a \u22c5\u2572\u2571 w  \u22c5\u0393(3/4)\u22c5\u0393(5/4)                        \n\n               \u2148\u22c5\u03c0\u239e     \u239b                   \u2148\u22c5\u03c0\u239e               \u239e  -\u2148\u22c5\u03c0\n               \u2500\u2500\u2500\u239f     \u239c                   \u2500\u2500\u2500\u239f               \u239f  \u2500\u2500\u2500\u2500\n_   ___   ___   4 \u239f     \u239c  ___   ___   ___   4 \u239f               \u239f   4  \n \u22c5\u2572\u2571 a \u22c5\u2572\u2571 w \u22c5\u212f   \u23a0\u22c5sinh\u239d\u2572\u2571 2 \u22c5\u2572\u2571 a \u22c5\u2572\u2571 w \u22c5\u212f   \u23a0\u22c5\u0393(-1/4)\u22c5\u0393(5/4)\u23a0\u22c5\u212f    \n\u2500\u2500\u2500\u2500\u2500\u2500\u2500\u2500\u2500\u2500\u2500\u2500\u2500\u2500\u2500\u2500\u2500\u2500\u2500\u2500\u2500\u2500\u2500\u2500\u2500\u2500\u2500\u2500\u2500\u2500\u2500\u2500\u2500\u2500\u2500\u2500\u2500\u2500\u2500\u2500\u2500\u2500\u2500\u2500\u2500\u2500\u2500\u2500\u2500\u2500\u2500\u2500\u2500\u2500\u2500\u2500\u2500\u2500\u2500\u2500\u2500\u2500\u2500\u2500\u2500\u2500\u2500\u2500\u2500\u2500\n                                                                      \n                                                                      \n                                                                      "
      }
     ],
     "prompt_number": 269
    },
    {
     "cell_type": "code",
     "collapsed": false,
     "input": "simplify(_)",
     "language": "python",
     "outputs": [
      {
       "output_type": "pyout",
       "png": "[encoded data removed]",
       "prompt_number": 270,
       "text": "\n                                \u2148\u22c5\u03c0                                    \u2148\u22c5\u03c0    \n                                \u2500\u2500\u2500                                    \u2500\u2500\u2500    \n4 ___ 4 ___    \u239b    ___   ___\u239e   4    4 ___ 4 ___     \u239b    ___   ___\u239e   4     \n\u2572\u2571 a \u22c5\u2572\u2571 w \u22c5sin\u239d2\u22c5\u2572\u2571 a \u22c5\u2572\u2571 w \u23a0\u22c5\u212f    + \u2572\u2571 a \u22c5\u2572\u2571 w \u22c5sinh\u239d2\u22c5\u2572\u2571 a \u22c5\u2572\u2571 w \u23a0\u22c5\u212f    + 2\n\u2500\u2500\u2500\u2500\u2500\u2500\u2500\u2500\u2500\u2500\u2500\u2500\u2500\u2500\u2500\u2500\u2500\u2500\u2500\u2500\u2500\u2500\u2500\u2500\u2500\u2500\u2500\u2500\u2500\u2500\u2500\u2500\u2500\u2500\u2500\u2500\u2500\u2500\u2500\u2500\u2500\u2500\u2500\u2500\u2500\u2500\u2500\u2500\u2500\u2500\u2500\u2500\u2500\u2500\u2500\u2500\u2500\u2500\u2500\u2500\u2500\u2500\u2500\u2500\u2500\u2500\u2500\u2500\u2500\u2500\u2500\u2500\u2500\u2500\u2500\u2500\u2500\u2500\n                                                                              \n                                                                        ___   \n                                                                    2\u22c5\u2572\u2571 w \u22c5\u2572\u2571\n\n                             \u239b                   \u2148\u22c5\u03c0\u239e     \u239b                   \n            _____________    \u239c                   \u2500\u2500\u2500\u239f     \u239c                   \n     3/4   \u2571   ___   ___     \u239c  ___   ___   ___   4 \u239f     \u239c  ___   ___   ___  \n\u22c5(-1)   \u22c5\u2572\u2571  \u2572\u2571 a \u22c5\u2572\u2571 w  \u22c5sin\u239d\u2572\u2571 2 \u22c5\u2572\u2571 a \u22c5\u2572\u2571 w \u22c5\u212f   \u23a0\u22c5sinh\u239d\u2572\u2571 2 \u22c5\u2572\u2571 a \u22c5\u2572\u2571 w \u22c5\u212f\n\u2500\u2500\u2500\u2500\u2500\u2500\u2500\u2500\u2500\u2500\u2500\u2500\u2500\u2500\u2500\u2500\u2500\u2500\u2500\u2500\u2500\u2500\u2500\u2500\u2500\u2500\u2500\u2500\u2500\u2500\u2500\u2500\u2500\u2500\u2500\u2500\u2500\u2500\u2500\u2500\u2500\u2500\u2500\u2500\u2500\u2500\u2500\u2500\u2500\u2500\u2500\u2500\u2500\u2500\u2500\u2500\u2500\u2500\u2500\u2500\u2500\u2500\u2500\u2500\u2500\u2500\u2500\u2500\u2500\u2500\u2500\u2500\u2500\u2500\u2500\u2500\u2500\u2500\n _____________                                                                \n\u2571   ___   ___                                                                 \n  \u2572\u2571 a \u22c5\u2572\u2571 w                                                                  \n\n\u2148\u22c5\u03c0\u239e\n\u2500\u2500\u2500\u239f\n 4 \u239f\n   \u23a0\n\u2500\u2500\u2500\u2500\n    \n    \n    "
      }
     ],
     "prompt_number": 270
    },
    {
     "cell_type": "markdown",
     "source": "66"
    },
    {
     "cell_type": "code",
     "collapsed": false,
     "input": "(1/sqrt(t))**3*sin(a/t)",
     "language": "python",
     "outputs": [
      {
       "output_type": "pyout",
       "png": "[encoded data removed]",
       "prompt_number": 271,
       "text": "\n   \u239ba\u239e\nsin\u239c\u2500\u239f\n   \u239dt\u23a0\n\u2500\u2500\u2500\u2500\u2500\u2500\n  3/2 \n t    "
      }
     ],
     "prompt_number": 271
    },
    {
     "cell_type": "code",
     "collapsed": false,
     "input": "cosine_transform(_, t, w)",
     "language": "python",
     "outputs": [
      {
       "output_type": "pyout",
       "png": "[encoded data removed]",
       "prompt_number": 272,
       "text": "\n4 ___ \u239b       \u239b    ___   ___\u239e                 \u239b    ___   ___\u239e                \u239b\n\u2572\u2571 w \u22c5\u239d- 3\u22c5sin\u239d2\u22c5\u2572\u2571 a \u22c5\u2572\u2571 w \u23a0\u22c5\u0393(-3/4) + 16\u22c5cos\u239d2\u22c5\u2572\u2571 a \u22c5\u2572\u2571 w \u23a0\u22c5\u0393(5/4) + 3\u22c5sinh\u239d\n\u2500\u2500\u2500\u2500\u2500\u2500\u2500\u2500\u2500\u2500\u2500\u2500\u2500\u2500\u2500\u2500\u2500\u2500\u2500\u2500\u2500\u2500\u2500\u2500\u2500\u2500\u2500\u2500\u2500\u2500\u2500\u2500\u2500\u2500\u2500\u2500\u2500\u2500\u2500\u2500\u2500\u2500\u2500\u2500\u2500\u2500\u2500\u2500\u2500\u2500\u2500\u2500\u2500\u2500\u2500\u2500\u2500\u2500\u2500\u2500\u2500\u2500\u2500\u2500\u2500\u2500\u2500\u2500\u2500\u2500\u2500\u2500\u2500\u2500\u2500\u2500\u2500\u2500\n                                                               _____________  \n                                                      4 ___   \u2571   ___   ___   \n                                                   32\u22c5\u2572\u2571 a \u22c5\u2572\u2571  \u2572\u2571 a \u22c5\u2572\u2571 w  \u22c5\u0393\n\n    ___   ___\u239e                  \u239b    ___   ___\u239e       \u239e\n2\u22c5\u2572\u2571 a \u22c5\u2572\u2571 w \u23a0\u22c5\u0393(-3/4) + 16\u22c5cosh\u239d2\u22c5\u2572\u2571 a \u22c5\u2572\u2571 w \u23a0\u22c5\u0393(5/4)\u23a0\n\u2500\u2500\u2500\u2500\u2500\u2500\u2500\u2500\u2500\u2500\u2500\u2500\u2500\u2500\u2500\u2500\u2500\u2500\u2500\u2500\u2500\u2500\u2500\u2500\u2500\u2500\u2500\u2500\u2500\u2500\u2500\u2500\u2500\u2500\u2500\u2500\u2500\u2500\u2500\u2500\u2500\u2500\u2500\u2500\u2500\u2500\u2500\u2500\u2500\u2500\u2500\u2500\u2500\u2500\u2500\n                                                       \n                                                       \n(5/4)                                                  "
      }
     ],
     "prompt_number": 272
    },
    {
     "cell_type": "code",
     "collapsed": false,
     "input": "simplify(_)",
     "language": "python",
     "outputs": [
      {
       "output_type": "pyout",
       "png": "[encoded data removed]",
       "prompt_number": 273,
       "text": "\n4 ___ \u239b       \u239b    ___   ___\u239e                 \u239b    ___   ___\u239e                \u239b\n\u2572\u2571 w \u22c5\u239d- 3\u22c5sin\u239d2\u22c5\u2572\u2571 a \u22c5\u2572\u2571 w \u23a0\u22c5\u0393(-3/4) + 16\u22c5cos\u239d2\u22c5\u2572\u2571 a \u22c5\u2572\u2571 w \u23a0\u22c5\u0393(5/4) + 3\u22c5sinh\u239d\n\u2500\u2500\u2500\u2500\u2500\u2500\u2500\u2500\u2500\u2500\u2500\u2500\u2500\u2500\u2500\u2500\u2500\u2500\u2500\u2500\u2500\u2500\u2500\u2500\u2500\u2500\u2500\u2500\u2500\u2500\u2500\u2500\u2500\u2500\u2500\u2500\u2500\u2500\u2500\u2500\u2500\u2500\u2500\u2500\u2500\u2500\u2500\u2500\u2500\u2500\u2500\u2500\u2500\u2500\u2500\u2500\u2500\u2500\u2500\u2500\u2500\u2500\u2500\u2500\u2500\u2500\u2500\u2500\u2500\u2500\u2500\u2500\u2500\u2500\u2500\u2500\u2500\u2500\n                                                               _____________  \n                                                      4 ___   \u2571   ___   ___   \n                                                   32\u22c5\u2572\u2571 a \u22c5\u2572\u2571  \u2572\u2571 a \u22c5\u2572\u2571 w  \u22c5\u0393\n\n    ___   ___\u239e                  \u239b    ___   ___\u239e       \u239e\n2\u22c5\u2572\u2571 a \u22c5\u2572\u2571 w \u23a0\u22c5\u0393(-3/4) + 16\u22c5cosh\u239d2\u22c5\u2572\u2571 a \u22c5\u2572\u2571 w \u23a0\u22c5\u0393(5/4)\u23a0\n\u2500\u2500\u2500\u2500\u2500\u2500\u2500\u2500\u2500\u2500\u2500\u2500\u2500\u2500\u2500\u2500\u2500\u2500\u2500\u2500\u2500\u2500\u2500\u2500\u2500\u2500\u2500\u2500\u2500\u2500\u2500\u2500\u2500\u2500\u2500\u2500\u2500\u2500\u2500\u2500\u2500\u2500\u2500\u2500\u2500\u2500\u2500\u2500\u2500\u2500\u2500\u2500\u2500\u2500\u2500\n                                                       \n                                                       \n(5/4)                                                  "
      }
     ],
     "prompt_number": 273
    },
    {
     "cell_type": "code",
     "collapsed": false,
     "input": "combsimp(_)",
     "language": "python",
     "outputs": [
      {
       "output_type": "pyout",
       "png": "[encoded data removed]",
       "prompt_number": 274,
       "text": "\n4 ___ \u239b       \u239b    ___   ___\u239e                 \u239b    ___   ___\u239e                \u239b\n\u2572\u2571 w \u22c5\u239d- 3\u22c5sin\u239d2\u22c5\u2572\u2571 a \u22c5\u2572\u2571 w \u23a0\u22c5\u0393(-3/4) + 16\u22c5cos\u239d2\u22c5\u2572\u2571 a \u22c5\u2572\u2571 w \u23a0\u22c5\u0393(5/4) + 3\u22c5sinh\u239d\n\u2500\u2500\u2500\u2500\u2500\u2500\u2500\u2500\u2500\u2500\u2500\u2500\u2500\u2500\u2500\u2500\u2500\u2500\u2500\u2500\u2500\u2500\u2500\u2500\u2500\u2500\u2500\u2500\u2500\u2500\u2500\u2500\u2500\u2500\u2500\u2500\u2500\u2500\u2500\u2500\u2500\u2500\u2500\u2500\u2500\u2500\u2500\u2500\u2500\u2500\u2500\u2500\u2500\u2500\u2500\u2500\u2500\u2500\u2500\u2500\u2500\u2500\u2500\u2500\u2500\u2500\u2500\u2500\u2500\u2500\u2500\u2500\u2500\u2500\u2500\u2500\u2500\u2500\n                                                               _____________  \n                                                      4 ___   \u2571   ___   ___   \n                                                   32\u22c5\u2572\u2571 a \u22c5\u2572\u2571  \u2572\u2571 a \u22c5\u2572\u2571 w  \u22c5\u0393\n\n    ___   ___\u239e                  \u239b    ___   ___\u239e       \u239e\n2\u22c5\u2572\u2571 a \u22c5\u2572\u2571 w \u23a0\u22c5\u0393(-3/4) + 16\u22c5cosh\u239d2\u22c5\u2572\u2571 a \u22c5\u2572\u2571 w \u23a0\u22c5\u0393(5/4)\u23a0\n\u2500\u2500\u2500\u2500\u2500\u2500\u2500\u2500\u2500\u2500\u2500\u2500\u2500\u2500\u2500\u2500\u2500\u2500\u2500\u2500\u2500\u2500\u2500\u2500\u2500\u2500\u2500\u2500\u2500\u2500\u2500\u2500\u2500\u2500\u2500\u2500\u2500\u2500\u2500\u2500\u2500\u2500\u2500\u2500\u2500\u2500\u2500\u2500\u2500\u2500\u2500\u2500\u2500\u2500\u2500\n                                                       \n                                                       \n(5/4)                                                  "
      }
     ],
     "prompt_number": 274
    },
    {
     "cell_type": "code",
     "collapsed": false,
     "input": "expand(_)",
     "language": "python",
     "outputs": [
      {
       "output_type": "pyout",
       "png": "[encoded data removed]",
       "prompt_number": 275,
       "text": "\n    4 ___    \u239b    ___   ___\u239e           4 ___    \u239b    ___   ___\u239e     4 ___     \n  3\u22c5\u2572\u2571 w \u22c5sin\u239d2\u22c5\u2572\u2571 a \u22c5\u2572\u2571 w \u23a0\u22c5\u0393(-3/4)   \u2572\u2571 w \u22c5cos\u239d2\u22c5\u2572\u2571 a \u22c5\u2572\u2571 w \u23a0   3\u22c5\u2572\u2571 w \u22c5sinh\n- \u2500\u2500\u2500\u2500\u2500\u2500\u2500\u2500\u2500\u2500\u2500\u2500\u2500\u2500\u2500\u2500\u2500\u2500\u2500\u2500\u2500\u2500\u2500\u2500\u2500\u2500\u2500\u2500\u2500\u2500\u2500\u2500\u2500\u2500 + \u2500\u2500\u2500\u2500\u2500\u2500\u2500\u2500\u2500\u2500\u2500\u2500\u2500\u2500\u2500\u2500\u2500\u2500\u2500\u2500\u2500\u2500\u2500\u2500 + \u2500\u2500\u2500\u2500\u2500\u2500\u2500\u2500\u2500\u2500\u2500\u2500\n               _____________                      _____________               \n      4 ___   \u2571   ___   ___              4 ___   \u2571   ___   ___         4 ___  \n   32\u22c5\u2572\u2571 a \u22c5\u2572\u2571  \u2572\u2571 a \u22c5\u2572\u2571 w  \u22c5\u0393(5/4)    2\u22c5\u2572\u2571 a \u22c5\u2572\u2571  \u2572\u2571 a \u22c5\u2572\u2571 w       32\u22c5\u2572\u2571 a \u22c5\u2572\n\n\u239b    ___   ___\u239e           4 ___     \u239b    ___   ___\u239e\n\u239d2\u22c5\u2572\u2571 a \u22c5\u2572\u2571 w \u23a0\u22c5\u0393(-3/4)   \u2572\u2571 w \u22c5cosh\u239d2\u22c5\u2572\u2571 a \u22c5\u2572\u2571 w \u23a0\n\u2500\u2500\u2500\u2500\u2500\u2500\u2500\u2500\u2500\u2500\u2500\u2500\u2500\u2500\u2500\u2500\u2500\u2500\u2500\u2500\u2500\u2500\u2500 + \u2500\u2500\u2500\u2500\u2500\u2500\u2500\u2500\u2500\u2500\u2500\u2500\u2500\u2500\u2500\u2500\u2500\u2500\u2500\u2500\u2500\u2500\u2500\u2500\u2500\n  _____________                       _____________\n \u2571   ___   ___               4 ___   \u2571   ___   ___ \n\u2571  \u2572\u2571 a \u22c5\u2572\u2571 w  \u22c5\u0393(5/4)     2\u22c5\u2572\u2571 a \u22c5\u2572\u2571  \u2572\u2571 a \u22c5\u2572\u2571 w  "
      }
     ],
     "prompt_number": 275
    },
    {
     "cell_type": "code",
     "collapsed": false,
     "input": "#inverse_cosine_transform(_, w, t)",
     "language": "python",
     "outputs": [],
     "prompt_number": 276
    },
    {
     "cell_type": "markdown",
     "source": "67"
    },
    {
     "cell_type": "code",
     "collapsed": false,
     "input": "1/sqrt(t)*cos(a/t)",
     "language": "python",
     "outputs": [
      {
       "output_type": "pyout",
       "png": "[encoded data removed]",
       "prompt_number": 277,
       "text": "\n   \u239ba\u239e\ncos\u239c\u2500\u239f\n   \u239dt\u23a0\n\u2500\u2500\u2500\u2500\u2500\u2500\n  ___ \n\u2572\u2571 t  "
      }
     ],
     "prompt_number": 277
    },
    {
     "cell_type": "code",
     "collapsed": false,
     "input": "cosine_transform(_, t, w)",
     "language": "python",
     "outputs": [
      {
       "output_type": "pyout",
       "png": "[encoded data removed]",
       "prompt_number": 278,
       "text": "\n4 ___ \u239b   \u239b    ___   ___\u239e                \u239b    ___   ___\u239e              \u239b    ___\n\u2572\u2571 a \u22c5\u239dsin\u239d2\u22c5\u2572\u2571 a \u22c5\u2572\u2571 w \u23a0\u22c5\u0393(-1/4) + 4\u22c5cos\u239d2\u22c5\u2572\u2571 a \u22c5\u2572\u2571 w \u23a0\u22c5\u0393(3/4) + sinh\u239d2\u22c5\u2572\u2571 a \n\u2500\u2500\u2500\u2500\u2500\u2500\u2500\u2500\u2500\u2500\u2500\u2500\u2500\u2500\u2500\u2500\u2500\u2500\u2500\u2500\u2500\u2500\u2500\u2500\u2500\u2500\u2500\u2500\u2500\u2500\u2500\u2500\u2500\u2500\u2500\u2500\u2500\u2500\u2500\u2500\u2500\u2500\u2500\u2500\u2500\u2500\u2500\u2500\u2500\u2500\u2500\u2500\u2500\u2500\u2500\u2500\u2500\u2500\u2500\u2500\u2500\u2500\u2500\u2500\u2500\u2500\u2500\u2500\u2500\u2500\u2500\u2500\u2500\u2500\u2500\u2500\u2500\u2500\n                                                          _____________       \n                                                 4 ___   \u2571   ___   ___        \n                                               8\u22c5\u2572\u2571 w \u22c5\u2572\u2571  \u2572\u2571 a \u22c5\u2572\u2571 w  \u22c5\u0393(3/4)\n\n   ___\u239e                 \u239b    ___   ___\u239e       \u239e\n\u22c5\u2572\u2571 w \u23a0\u22c5\u0393(-1/4) + 4\u22c5cosh\u239d2\u22c5\u2572\u2571 a \u22c5\u2572\u2571 w \u23a0\u22c5\u0393(3/4)\u23a0\n\u2500\u2500\u2500\u2500\u2500\u2500\u2500\u2500\u2500\u2500\u2500\u2500\u2500\u2500\u2500\u2500\u2500\u2500\u2500\u2500\u2500\u2500\u2500\u2500\u2500\u2500\u2500\u2500\u2500\u2500\u2500\u2500\u2500\u2500\u2500\u2500\u2500\u2500\u2500\u2500\u2500\u2500\u2500\u2500\u2500\u2500\u2500\n                                               \n                                               \n                                               "
      }
     ],
     "prompt_number": 278
    },
    {
     "cell_type": "code",
     "collapsed": false,
     "input": "simplify(_)",
     "language": "python",
     "outputs": [
      {
       "output_type": "pyout",
       "png": "[encoded data removed]",
       "prompt_number": 279,
       "text": "\n4 ___ \u239b   \u239b    ___   ___\u239e                \u239b    ___   ___\u239e              \u239b    ___\n\u2572\u2571 a \u22c5\u239dsin\u239d2\u22c5\u2572\u2571 a \u22c5\u2572\u2571 w \u23a0\u22c5\u0393(-1/4) + 4\u22c5cos\u239d2\u22c5\u2572\u2571 a \u22c5\u2572\u2571 w \u23a0\u22c5\u0393(3/4) + sinh\u239d2\u22c5\u2572\u2571 a \n\u2500\u2500\u2500\u2500\u2500\u2500\u2500\u2500\u2500\u2500\u2500\u2500\u2500\u2500\u2500\u2500\u2500\u2500\u2500\u2500\u2500\u2500\u2500\u2500\u2500\u2500\u2500\u2500\u2500\u2500\u2500\u2500\u2500\u2500\u2500\u2500\u2500\u2500\u2500\u2500\u2500\u2500\u2500\u2500\u2500\u2500\u2500\u2500\u2500\u2500\u2500\u2500\u2500\u2500\u2500\u2500\u2500\u2500\u2500\u2500\u2500\u2500\u2500\u2500\u2500\u2500\u2500\u2500\u2500\u2500\u2500\u2500\u2500\u2500\u2500\u2500\u2500\u2500\n                                                          _____________       \n                                                 4 ___   \u2571   ___   ___        \n                                               8\u22c5\u2572\u2571 w \u22c5\u2572\u2571  \u2572\u2571 a \u22c5\u2572\u2571 w  \u22c5\u0393(3/4)\n\n   ___\u239e                 \u239b    ___   ___\u239e       \u239e\n\u22c5\u2572\u2571 w \u23a0\u22c5\u0393(-1/4) + 4\u22c5cosh\u239d2\u22c5\u2572\u2571 a \u22c5\u2572\u2571 w \u23a0\u22c5\u0393(3/4)\u23a0\n\u2500\u2500\u2500\u2500\u2500\u2500\u2500\u2500\u2500\u2500\u2500\u2500\u2500\u2500\u2500\u2500\u2500\u2500\u2500\u2500\u2500\u2500\u2500\u2500\u2500\u2500\u2500\u2500\u2500\u2500\u2500\u2500\u2500\u2500\u2500\u2500\u2500\u2500\u2500\u2500\u2500\u2500\u2500\u2500\u2500\u2500\u2500\n                                               \n                                               \n                                               "
      }
     ],
     "prompt_number": 279
    },
    {
     "cell_type": "code",
     "collapsed": false,
     "input": "expand(_)",
     "language": "python",
     "outputs": [
      {
       "output_type": "pyout",
       "png": "[encoded data removed]",
       "prompt_number": 280,
       "text": "\n4 ___    \u239b    ___   ___\u239e           4 ___    \u239b    ___   ___\u239e   4 ___     \u239b    _\n\u2572\u2571 a \u22c5sin\u239d2\u22c5\u2572\u2571 a \u22c5\u2572\u2571 w \u23a0\u22c5\u0393(-1/4)   \u2572\u2571 a \u22c5cos\u239d2\u22c5\u2572\u2571 a \u22c5\u2572\u2571 w \u23a0   \u2572\u2571 a \u22c5sinh\u239d2\u22c5\u2572\u2571 \n\u2500\u2500\u2500\u2500\u2500\u2500\u2500\u2500\u2500\u2500\u2500\u2500\u2500\u2500\u2500\u2500\u2500\u2500\u2500\u2500\u2500\u2500\u2500\u2500\u2500\u2500\u2500\u2500\u2500\u2500\u2500\u2500 + \u2500\u2500\u2500\u2500\u2500\u2500\u2500\u2500\u2500\u2500\u2500\u2500\u2500\u2500\u2500\u2500\u2500\u2500\u2500\u2500\u2500\u2500\u2500\u2500 + \u2500\u2500\u2500\u2500\u2500\u2500\u2500\u2500\u2500\u2500\u2500\u2500\u2500\u2500\u2500\u2500\n           _____________                      _____________               ____\n  4 ___   \u2571   ___   ___              4 ___   \u2571   ___   ___       4 ___   \u2571   _\n8\u22c5\u2572\u2571 w \u22c5\u2572\u2571  \u2572\u2571 a \u22c5\u2572\u2571 w  \u22c5\u0393(3/4)    2\u22c5\u2572\u2571 w \u22c5\u2572\u2571  \u2572\u2571 a \u22c5\u2572\u2571 w      8\u22c5\u2572\u2571 w \u22c5\u2572\u2571  \u2572\u2571 \n\n__   ___\u239e           4 ___     \u239b    ___   ___\u239e\na \u22c5\u2572\u2571 w \u23a0\u22c5\u0393(-1/4)   \u2572\u2571 a \u22c5cosh\u239d2\u22c5\u2572\u2571 a \u22c5\u2572\u2571 w \u23a0\n\u2500\u2500\u2500\u2500\u2500\u2500\u2500\u2500\u2500\u2500\u2500\u2500\u2500\u2500\u2500\u2500\u2500 + \u2500\u2500\u2500\u2500\u2500\u2500\u2500\u2500\u2500\u2500\u2500\u2500\u2500\u2500\u2500\u2500\u2500\u2500\u2500\u2500\u2500\u2500\u2500\u2500\u2500\n_________                       _____________\n__   ___               4 ___   \u2571   ___   ___ \na \u22c5\u2572\u2571 w  \u22c5\u0393(3/4)     2\u22c5\u2572\u2571 w \u22c5\u2572\u2571  \u2572\u2571 a \u22c5\u2572\u2571 w  "
      }
     ],
     "prompt_number": 280
    },
    {
     "cell_type": "code",
     "collapsed": false,
     "input": "combsimp(_)",
     "language": "python",
     "outputs": [
      {
       "output_type": "pyout",
       "png": "[encoded data removed]",
       "prompt_number": 281,
       "text": "\n4 ___ \u239b   \u239b    ___   ___\u239e                \u239b    ___   ___\u239e              \u239b    ___\n\u2572\u2571 a \u22c5\u239dsin\u239d2\u22c5\u2572\u2571 a \u22c5\u2572\u2571 w \u23a0\u22c5\u0393(-1/4) + 4\u22c5cos\u239d2\u22c5\u2572\u2571 a \u22c5\u2572\u2571 w \u23a0\u22c5\u0393(3/4) + sinh\u239d2\u22c5\u2572\u2571 a \n\u2500\u2500\u2500\u2500\u2500\u2500\u2500\u2500\u2500\u2500\u2500\u2500\u2500\u2500\u2500\u2500\u2500\u2500\u2500\u2500\u2500\u2500\u2500\u2500\u2500\u2500\u2500\u2500\u2500\u2500\u2500\u2500\u2500\u2500\u2500\u2500\u2500\u2500\u2500\u2500\u2500\u2500\u2500\u2500\u2500\u2500\u2500\u2500\u2500\u2500\u2500\u2500\u2500\u2500\u2500\u2500\u2500\u2500\u2500\u2500\u2500\u2500\u2500\u2500\u2500\u2500\u2500\u2500\u2500\u2500\u2500\u2500\u2500\u2500\u2500\u2500\u2500\u2500\n                                                          _____________       \n                                                 4 ___   \u2571   ___   ___        \n                                               8\u22c5\u2572\u2571 w \u22c5\u2572\u2571  \u2572\u2571 a \u22c5\u2572\u2571 w  \u22c5\u0393(3/4)\n\n   ___\u239e                 \u239b    ___   ___\u239e       \u239e\n\u22c5\u2572\u2571 w \u23a0\u22c5\u0393(-1/4) + 4\u22c5cosh\u239d2\u22c5\u2572\u2571 a \u22c5\u2572\u2571 w \u23a0\u22c5\u0393(3/4)\u23a0\n\u2500\u2500\u2500\u2500\u2500\u2500\u2500\u2500\u2500\u2500\u2500\u2500\u2500\u2500\u2500\u2500\u2500\u2500\u2500\u2500\u2500\u2500\u2500\u2500\u2500\u2500\u2500\u2500\u2500\u2500\u2500\u2500\u2500\u2500\u2500\u2500\u2500\u2500\u2500\u2500\u2500\u2500\u2500\u2500\u2500\u2500\u2500\n                                               \n                                               \n                                               "
      }
     ],
     "prompt_number": 281
    },
    {
     "cell_type": "code",
     "collapsed": false,
     "input": "#inverse_cosine_transform(_, w, t)",
     "language": "python",
     "outputs": [],
     "prompt_number": 282
    },
    {
     "cell_type": "markdown",
     "source": "68"
    },
    {
     "cell_type": "code",
     "collapsed": false,
     "input": "(1/sqrt(t))**3*cos(a/t)",
     "language": "python",
     "outputs": [
      {
       "output_type": "pyout",
       "png": "[encoded data removed]",
       "prompt_number": 283,
       "text": "\n   \u239ba\u239e\ncos\u239c\u2500\u239f\n   \u239dt\u23a0\n\u2500\u2500\u2500\u2500\u2500\u2500\n  3/2 \n t    "
      }
     ],
     "prompt_number": 283
    },
    {
     "cell_type": "code",
     "collapsed": false,
     "input": "cosine_transform(_, t, w)",
     "language": "python",
     "outputs": [
      {
       "output_type": "pyout",
       "png": "[encoded data removed]",
       "prompt_number": 284,
       "text": "\n4 ___ \u239b   \u239b    ___   ___\u239e                \u239b    ___   ___\u239e              \u239b    ___\n\u2572\u2571 w \u22c5\u239dsin\u239d2\u22c5\u2572\u2571 a \u22c5\u2572\u2571 w \u23a0\u22c5\u0393(-1/4) + 4\u22c5cos\u239d2\u22c5\u2572\u2571 a \u22c5\u2572\u2571 w \u23a0\u22c5\u0393(3/4) + sinh\u239d2\u22c5\u2572\u2571 a \n\u2500\u2500\u2500\u2500\u2500\u2500\u2500\u2500\u2500\u2500\u2500\u2500\u2500\u2500\u2500\u2500\u2500\u2500\u2500\u2500\u2500\u2500\u2500\u2500\u2500\u2500\u2500\u2500\u2500\u2500\u2500\u2500\u2500\u2500\u2500\u2500\u2500\u2500\u2500\u2500\u2500\u2500\u2500\u2500\u2500\u2500\u2500\u2500\u2500\u2500\u2500\u2500\u2500\u2500\u2500\u2500\u2500\u2500\u2500\u2500\u2500\u2500\u2500\u2500\u2500\u2500\u2500\u2500\u2500\u2500\u2500\u2500\u2500\u2500\u2500\u2500\u2500\u2500\n                                                          _____________       \n                                                 4 ___   \u2571   ___   ___        \n                                               8\u22c5\u2572\u2571 a \u22c5\u2572\u2571  \u2572\u2571 a \u22c5\u2572\u2571 w  \u22c5\u0393(3/4)\n\n   ___\u239e                 \u239b    ___   ___\u239e       \u239e\n\u22c5\u2572\u2571 w \u23a0\u22c5\u0393(-1/4) + 4\u22c5cosh\u239d2\u22c5\u2572\u2571 a \u22c5\u2572\u2571 w \u23a0\u22c5\u0393(3/4)\u23a0\n\u2500\u2500\u2500\u2500\u2500\u2500\u2500\u2500\u2500\u2500\u2500\u2500\u2500\u2500\u2500\u2500\u2500\u2500\u2500\u2500\u2500\u2500\u2500\u2500\u2500\u2500\u2500\u2500\u2500\u2500\u2500\u2500\u2500\u2500\u2500\u2500\u2500\u2500\u2500\u2500\u2500\u2500\u2500\u2500\u2500\u2500\u2500\n                                               \n                                               \n                                               "
      }
     ],
     "prompt_number": 284
    },
    {
     "cell_type": "code",
     "collapsed": false,
     "input": "expand(_)",
     "language": "python",
     "outputs": [
      {
       "output_type": "pyout",
       "png": "[encoded data removed]",
       "prompt_number": 285,
       "text": "\n4 ___    \u239b    ___   ___\u239e           4 ___    \u239b    ___   ___\u239e   4 ___     \u239b    _\n\u2572\u2571 w \u22c5sin\u239d2\u22c5\u2572\u2571 a \u22c5\u2572\u2571 w \u23a0\u22c5\u0393(-1/4)   \u2572\u2571 w \u22c5cos\u239d2\u22c5\u2572\u2571 a \u22c5\u2572\u2571 w \u23a0   \u2572\u2571 w \u22c5sinh\u239d2\u22c5\u2572\u2571 \n\u2500\u2500\u2500\u2500\u2500\u2500\u2500\u2500\u2500\u2500\u2500\u2500\u2500\u2500\u2500\u2500\u2500\u2500\u2500\u2500\u2500\u2500\u2500\u2500\u2500\u2500\u2500\u2500\u2500\u2500\u2500\u2500 + \u2500\u2500\u2500\u2500\u2500\u2500\u2500\u2500\u2500\u2500\u2500\u2500\u2500\u2500\u2500\u2500\u2500\u2500\u2500\u2500\u2500\u2500\u2500\u2500 + \u2500\u2500\u2500\u2500\u2500\u2500\u2500\u2500\u2500\u2500\u2500\u2500\u2500\u2500\u2500\u2500\n           _____________                      _____________               ____\n  4 ___   \u2571   ___   ___              4 ___   \u2571   ___   ___       4 ___   \u2571   _\n8\u22c5\u2572\u2571 a \u22c5\u2572\u2571  \u2572\u2571 a \u22c5\u2572\u2571 w  \u22c5\u0393(3/4)    2\u22c5\u2572\u2571 a \u22c5\u2572\u2571  \u2572\u2571 a \u22c5\u2572\u2571 w      8\u22c5\u2572\u2571 a \u22c5\u2572\u2571  \u2572\u2571 \n\n__   ___\u239e           4 ___     \u239b    ___   ___\u239e\na \u22c5\u2572\u2571 w \u23a0\u22c5\u0393(-1/4)   \u2572\u2571 w \u22c5cosh\u239d2\u22c5\u2572\u2571 a \u22c5\u2572\u2571 w \u23a0\n\u2500\u2500\u2500\u2500\u2500\u2500\u2500\u2500\u2500\u2500\u2500\u2500\u2500\u2500\u2500\u2500\u2500 + \u2500\u2500\u2500\u2500\u2500\u2500\u2500\u2500\u2500\u2500\u2500\u2500\u2500\u2500\u2500\u2500\u2500\u2500\u2500\u2500\u2500\u2500\u2500\u2500\u2500\n_________                       _____________\n__   ___               4 ___   \u2571   ___   ___ \na \u22c5\u2572\u2571 w  \u22c5\u0393(3/4)     2\u22c5\u2572\u2571 a \u22c5\u2572\u2571  \u2572\u2571 a \u22c5\u2572\u2571 w  "
      }
     ],
     "prompt_number": 285
    },
    {
     "cell_type": "code",
     "collapsed": false,
     "input": "combsimp(_)",
     "language": "python",
     "outputs": [
      {
       "output_type": "pyout",
       "png": "[encoded data removed]",
       "prompt_number": 286,
       "text": "\n4 ___ \u239b   \u239b    ___   ___\u239e                \u239b    ___   ___\u239e              \u239b    ___\n\u2572\u2571 w \u22c5\u239dsin\u239d2\u22c5\u2572\u2571 a \u22c5\u2572\u2571 w \u23a0\u22c5\u0393(-1/4) + 4\u22c5cos\u239d2\u22c5\u2572\u2571 a \u22c5\u2572\u2571 w \u23a0\u22c5\u0393(3/4) + sinh\u239d2\u22c5\u2572\u2571 a \n\u2500\u2500\u2500\u2500\u2500\u2500\u2500\u2500\u2500\u2500\u2500\u2500\u2500\u2500\u2500\u2500\u2500\u2500\u2500\u2500\u2500\u2500\u2500\u2500\u2500\u2500\u2500\u2500\u2500\u2500\u2500\u2500\u2500\u2500\u2500\u2500\u2500\u2500\u2500\u2500\u2500\u2500\u2500\u2500\u2500\u2500\u2500\u2500\u2500\u2500\u2500\u2500\u2500\u2500\u2500\u2500\u2500\u2500\u2500\u2500\u2500\u2500\u2500\u2500\u2500\u2500\u2500\u2500\u2500\u2500\u2500\u2500\u2500\u2500\u2500\u2500\u2500\u2500\n                                                          _____________       \n                                                 4 ___   \u2571   ___   ___        \n                                               8\u22c5\u2572\u2571 a \u22c5\u2572\u2571  \u2572\u2571 a \u22c5\u2572\u2571 w  \u22c5\u0393(3/4)\n\n   ___\u239e                 \u239b    ___   ___\u239e       \u239e\n\u22c5\u2572\u2571 w \u23a0\u22c5\u0393(-1/4) + 4\u22c5cosh\u239d2\u22c5\u2572\u2571 a \u22c5\u2572\u2571 w \u23a0\u22c5\u0393(3/4)\u23a0\n\u2500\u2500\u2500\u2500\u2500\u2500\u2500\u2500\u2500\u2500\u2500\u2500\u2500\u2500\u2500\u2500\u2500\u2500\u2500\u2500\u2500\u2500\u2500\u2500\u2500\u2500\u2500\u2500\u2500\u2500\u2500\u2500\u2500\u2500\u2500\u2500\u2500\u2500\u2500\u2500\u2500\u2500\u2500\u2500\u2500\u2500\u2500\n                                               \n                                               \n                                               "
      }
     ],
     "prompt_number": 286
    },
    {
     "cell_type": "markdown",
     "source": "69"
    },
    {
     "cell_type": "code",
     "collapsed": false,
     "input": "1/sqrt(t)*sin(a*sqrt(t))",
     "language": "python",
     "outputs": [
      {
       "output_type": "pyout",
       "png": "[encoded data removed]",
       "prompt_number": 287,
       "text": "\n   \u239b    ___\u239e\nsin\u239da\u22c5\u2572\u2571 t \u23a0\n\u2500\u2500\u2500\u2500\u2500\u2500\u2500\u2500\u2500\u2500\u2500\u2500\n     ___    \n   \u2572\u2571 t     "
      }
     ],
     "prompt_number": 287
    },
    {
     "cell_type": "code",
     "collapsed": false,
     "input": "cosine_transform(_, t, w)",
     "language": "python",
     "outputs": [
      {
       "output_type": "pyout",
       "png": "[encoded data removed]",
       "prompt_number": 288,
       "text": "\n               \u239b   \u239b    ___\u239e      \u239e\n               \u239csin\u239da\u22c5\u2572\u2571 t \u23a0      \u239f\nCosineTransform\u239c\u2500\u2500\u2500\u2500\u2500\u2500\u2500\u2500\u2500\u2500\u2500\u2500, t, w\u239f\n               \u239c     ___          \u239f\n               \u239d   \u2572\u2571 t           \u23a0"
      }
     ],
     "prompt_number": 288
    },
    {
     "cell_type": "markdown",
     "source": "70"
    },
    {
     "cell_type": "code",
     "collapsed": false,
     "input": "exp(-b*t)*sin(a*sqrt(t))",
     "language": "python",
     "outputs": [
      {
       "output_type": "pyout",
       "png": "[encoded data removed]",
       "prompt_number": 289,
       "text": "\n -b\u22c5t    \u239b    ___\u239e\n\u212f    \u22c5sin\u239da\u22c5\u2572\u2571 t \u23a0"
      }
     ],
     "prompt_number": 289
    },
    {
     "cell_type": "code",
     "collapsed": false,
     "input": "#cosine_transform(_, t, w)\n# Python exception",
     "language": "python",
     "outputs": [],
     "prompt_number": 290
    },
    {
     "cell_type": "markdown",
     "source": "71"
    },
    {
     "cell_type": "code",
     "collapsed": false,
     "input": "sin(a*sqrt(t))/t",
     "language": "python",
     "outputs": [
      {
       "output_type": "pyout",
       "png": "[encoded data removed]",
       "prompt_number": 291,
       "text": "\n   \u239b    ___\u239e\nsin\u239da\u22c5\u2572\u2571 t \u23a0\n\u2500\u2500\u2500\u2500\u2500\u2500\u2500\u2500\u2500\u2500\u2500\u2500\n     t      "
      }
     ],
     "prompt_number": 291
    },
    {
     "cell_type": "code",
     "collapsed": false,
     "input": "cosine_transform(_, t, w)",
     "language": "python",
     "outputs": [
      {
       "output_type": "pyout",
       "png": "[encoded data removed]",
       "prompt_number": 292,
       "text": "\n               \u239b   \u239b    ___\u239e      \u239e\n               \u239csin\u239da\u22c5\u2572\u2571 t \u23a0      \u239f\nCosineTransform\u239c\u2500\u2500\u2500\u2500\u2500\u2500\u2500\u2500\u2500\u2500\u2500\u2500, t, w\u239f\n               \u239d     t            \u23a0"
      }
     ],
     "prompt_number": 292
    },
    {
     "cell_type": "markdown",
     "source": "72"
    },
    {
     "cell_type": "code",
     "collapsed": false,
     "input": "1/sqrt(t)*cos(a*sqrt(t))",
     "language": "python",
     "outputs": [
      {
       "output_type": "pyout",
       "png": "[encoded data removed]",
       "prompt_number": 293,
       "text": "\n   \u239b    ___\u239e\ncos\u239da\u22c5\u2572\u2571 t \u23a0\n\u2500\u2500\u2500\u2500\u2500\u2500\u2500\u2500\u2500\u2500\u2500\u2500\n     ___    \n   \u2572\u2571 t     "
      }
     ],
     "prompt_number": 293
    },
    {
     "cell_type": "code",
     "collapsed": false,
     "input": "cosine_transform(_, t, w)",
     "language": "python",
     "outputs": [
      {
       "output_type": "pyout",
       "png": "[encoded data removed]",
       "prompt_number": 294,
       "text": "\n               \u239b   \u239b    ___\u239e      \u239e\n               \u239ccos\u239da\u22c5\u2572\u2571 t \u23a0      \u239f\nCosineTransform\u239c\u2500\u2500\u2500\u2500\u2500\u2500\u2500\u2500\u2500\u2500\u2500\u2500, t, w\u239f\n               \u239c     ___          \u239f\n               \u239d   \u2572\u2571 t           \u23a0"
      }
     ],
     "prompt_number": 294
    },
    {
     "cell_type": "markdown",
     "source": "73"
    },
    {
     "cell_type": "code",
     "collapsed": false,
     "input": "exp(-a*t)/sqrt(t)*cos(b*sqrt(t))",
     "language": "python",
     "outputs": [
      {
       "output_type": "pyout",
       "png": "[encoded data removed]",
       "prompt_number": 295,
       "text": "\n -a\u22c5t    \u239b    ___\u239e\n\u212f    \u22c5cos\u239db\u22c5\u2572\u2571 t \u23a0\n\u2500\u2500\u2500\u2500\u2500\u2500\u2500\u2500\u2500\u2500\u2500\u2500\u2500\u2500\u2500\u2500\u2500\u2500\n        ___       \n      \u2572\u2571 t        "
      }
     ],
     "prompt_number": 295
    },
    {
     "cell_type": "code",
     "collapsed": false,
     "input": "#cosine_transform(_, t, w)\n# Python exception",
     "language": "python",
     "outputs": [],
     "prompt_number": 296
    },
    {
     "cell_type": "markdown",
     "source": "74"
    },
    {
     "cell_type": "code",
     "collapsed": false,
     "input": "exp(-a*sqrt(t))*cos(a*sqrt(t))",
     "language": "python",
     "outputs": [
      {
       "output_type": "pyout",
       "png": "[encoded data removed]",
       "prompt_number": 297,
       "text": "\n      ___             \n -a\u22c5\u2572\u2571 t     \u239b    ___\u239e\n\u212f        \u22c5cos\u239da\u22c5\u2572\u2571 t \u23a0"
      }
     ],
     "prompt_number": 297
    },
    {
     "cell_type": "code",
     "collapsed": false,
     "input": "cosine_transform(_, t, w)",
     "language": "python",
     "outputs": [
      {
       "output_type": "pyout",
       "png": "[encoded data removed]",
       "prompt_number": 298,
       "text": "\n  \u239b      \u239b  2\u239e       \u239b  2\u239e\u239e\n  \u239c      \u239c a \u239f       \u239c a \u239f\u239f\na\u22c5\u239c- sinh\u239c\u2500\u2500\u2500\u239f + cosh\u239c\u2500\u2500\u2500\u239f\u239f\n  \u239d      \u239d2\u22c5w\u23a0       \u239d2\u22c5w\u23a0\u23a0\n\u2500\u2500\u2500\u2500\u2500\u2500\u2500\u2500\u2500\u2500\u2500\u2500\u2500\u2500\u2500\u2500\u2500\u2500\u2500\u2500\u2500\u2500\u2500\u2500\u2500\u2500\u2500\n              3/2          \n           2\u22c5w             "
      }
     ],
     "prompt_number": 298
    },
    {
     "cell_type": "code",
     "collapsed": false,
     "input": "simplify(_)",
     "language": "python",
     "outputs": [
      {
       "output_type": "pyout",
       "png": "[encoded data removed]",
       "prompt_number": 299,
       "text": "\n  \u239b      \u239b  2\u239e       \u239b  2\u239e\u239e\n  \u239c      \u239c a \u239f       \u239c a \u239f\u239f\na\u22c5\u239c- sinh\u239c\u2500\u2500\u2500\u239f + cosh\u239c\u2500\u2500\u2500\u239f\u239f\n  \u239d      \u239d2\u22c5w\u23a0       \u239d2\u22c5w\u23a0\u23a0\n\u2500\u2500\u2500\u2500\u2500\u2500\u2500\u2500\u2500\u2500\u2500\u2500\u2500\u2500\u2500\u2500\u2500\u2500\u2500\u2500\u2500\u2500\u2500\u2500\u2500\u2500\u2500\n              3/2          \n           2\u22c5w             "
      }
     ],
     "prompt_number": 299
    },
    {
     "cell_type": "markdown",
     "source": "75"
    },
    {
     "cell_type": "code",
     "collapsed": false,
     "input": "exp(-a*sqrt(t))/sqrt(t)*(cos(a*sqrt(t))-sin(a*sqrt(t)))",
     "language": "python",
     "outputs": [
      {
       "output_type": "pyout",
       "png": "[encoded data removed]",
       "prompt_number": 300,
       "text": "\n                                      ___\n\u239b     \u239b    ___\u239e      \u239b    ___\u239e\u239e  -a\u22c5\u2572\u2571 t \n\u239d- sin\u239da\u22c5\u2572\u2571 t \u23a0 + cos\u239da\u22c5\u2572\u2571 t \u23a0\u23a0\u22c5\u212f        \n\u2500\u2500\u2500\u2500\u2500\u2500\u2500\u2500\u2500\u2500\u2500\u2500\u2500\u2500\u2500\u2500\u2500\u2500\u2500\u2500\u2500\u2500\u2500\u2500\u2500\u2500\u2500\u2500\u2500\u2500\u2500\u2500\u2500\u2500\u2500\u2500\u2500\u2500\u2500\u2500\u2500\n                    ___                  \n                  \u2572\u2571 t                   "
      }
     ],
     "prompt_number": 300
    },
    {
     "cell_type": "code",
     "collapsed": false,
     "input": "cosine_transform(_, t, w)",
     "language": "python",
     "outputs": [
      {
       "output_type": "pyout",
       "png": "[encoded data removed]",
       "prompt_number": 301,
       "text": "\n      \u239b                            \u239b         \u2502    4 \u239e                         \n  ___ \u239c 3  5/2                 \u250c\u2500  \u239c   1     \u2502   a  \u239f    3  5/2               \n\u2572\u2571 2 \u22c5\u239ca \u22c5w   \u22c5\u0393(-3/4)\u22c5\u0393(7/4)\u22c5 \u251c\u2500  \u239c         \u2502 \u2500\u2500\u2500\u2500\u2500\u239f - a \u22c5w   \u22c5\u0393(-1/4)\u22c5\u0393(5/4)\n      \u239c                       1\u2575 2 \u239c5/4, 7/4 \u2502     2\u239f                         \n      \u239d                            \u239d         \u2502 16\u22c5w \u23a0                         \n\u2500\u2500\u2500\u2500\u2500\u2500\u2500\u2500\u2500\u2500\u2500\u2500\u2500\u2500\u2500\u2500\u2500\u2500\u2500\u2500\u2500\u2500\u2500\u2500\u2500\u2500\u2500\u2500\u2500\u2500\u2500\u2500\u2500\u2500\u2500\u2500\u2500\u2500\u2500\u2500\u2500\u2500\u2500\u2500\u2500\u2500\u2500\u2500\u2500\u2500\u2500\u2500\u2500\u2500\u2500\u2500\u2500\u2500\u2500\u2500\u2500\u2500\u2500\u2500\u2500\u2500\u2500\u2500\u2500\u2500\u2500\u2500\u2500\u2500\u2500\u2500\u2500\u2500\n                                                                              \n                                                                              \n\n      \u239b         \u2502    4 \u239e                        \u239b  2\u239e                         \n  \u250c\u2500  \u239c   1     \u2502   a  \u239f       ___   ___  4     \u239c a \u239f                     ___ \n\u22c5 \u251c\u2500  \u239c         \u2502 \u2500\u2500\u2500\u2500\u2500\u239f - 8\u22c5\u2572\u2571 2 \u22c5\u2572\u2571 \u03c0 \u22c5w \u22c5sinh\u239c\u2500\u2500\u2500\u239f\u22c5\u0393(5/4)\u22c5\u0393(7/4) + 8\u22c5\u2572\u2571 2 \u22c5\n 1\u2575 2 \u239c5/4, 7/4 \u2502     2\u239f                        \u239d2\u22c5w\u23a0                         \n      \u239d         \u2502 16\u22c5w \u23a0                                                      \n\u2500\u2500\u2500\u2500\u2500\u2500\u2500\u2500\u2500\u2500\u2500\u2500\u2500\u2500\u2500\u2500\u2500\u2500\u2500\u2500\u2500\u2500\u2500\u2500\u2500\u2500\u2500\u2500\u2500\u2500\u2500\u2500\u2500\u2500\u2500\u2500\u2500\u2500\u2500\u2500\u2500\u2500\u2500\u2500\u2500\u2500\u2500\u2500\u2500\u2500\u2500\u2500\u2500\u2500\u2500\u2500\u2500\u2500\u2500\u2500\u2500\u2500\u2500\u2500\u2500\u2500\u2500\u2500\u2500\u2500\u2500\u2500\u2500\u2500\u2500\u2500\u2500\u2500\n        ___  9/2                                                              \n   16\u22c5\u2572\u2571 \u03c0 \u22c5w   \u22c5\u0393(5/4)\u22c5\u0393(7/4)                                                \n\n             \u239b  2\u239e              \u239e\n  ___  4     \u239c a \u239f              \u239f\n\u2572\u2571 \u03c0 \u22c5w \u22c5cosh\u239c\u2500\u2500\u2500\u239f\u22c5\u0393(5/4)\u22c5\u0393(7/4)\u239f\n             \u239d2\u22c5w\u23a0              \u239f\n                                \u23a0\n\u2500\u2500\u2500\u2500\u2500\u2500\u2500\u2500\u2500\u2500\u2500\u2500\u2500\u2500\u2500\u2500\u2500\u2500\u2500\u2500\u2500\u2500\u2500\u2500\u2500\u2500\u2500\u2500\u2500\u2500\u2500\u2500\u2500\n                                 \n                                 "
      }
     ],
     "prompt_number": 301
    },
    {
     "cell_type": "code",
     "collapsed": false,
     "input": "simplify(_)",
     "language": "python",
     "outputs": [
      {
       "output_type": "pyout",
       "png": "[encoded data removed]",
       "prompt_number": 302,
       "text": "\n      \u239b  2\u239e       \u239b  2\u239e\n      \u239c a \u239f       \u239c a \u239f\n- sinh\u239c\u2500\u2500\u2500\u239f + cosh\u239c\u2500\u2500\u2500\u239f\n      \u239d2\u22c5w\u23a0       \u239d2\u22c5w\u23a0\n\u2500\u2500\u2500\u2500\u2500\u2500\u2500\u2500\u2500\u2500\u2500\u2500\u2500\u2500\u2500\u2500\u2500\u2500\u2500\u2500\u2500\u2500\u2500\n           ___         \n         \u2572\u2571 w          "
      }
     ],
     "prompt_number": 302
    },
    {
     "cell_type": "code",
     "collapsed": false,
     "input": "#inverse_cosine_transform(_, w, t)\n# RuntimeError: maximum recursion depth exceeded while calling a Python object",
     "language": "python",
     "outputs": [],
     "prompt_number": 303
    }
   ]
  }
 ]
}