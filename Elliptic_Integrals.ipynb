{
 "metadata": {
  "name": "Elliptic_Integrals"
 },
 "nbformat": 3,
 "nbformat_minor": 0,
 "worksheets": [
  {
   "cells": [
    {
     "cell_type": "code",
     "collapsed": false,
     "input": "%load_ext sympyprt",
     "language": "python",
     "metadata": {},
     "outputs": [],
     "prompt_number": 1
    },
    {
     "cell_type": "code",
     "collapsed": false,
     "input": "from sympy import *",
     "language": "python",
     "metadata": {},
     "outputs": [],
     "prompt_number": 2
    },
    {
     "cell_type": "code",
     "collapsed": false,
     "input": "z = Symbol(\"z\")\na = Symbol(\"a\")\nb = Symbol(\"b\")\nc = Symbol(\"c\")\nd = Symbol(\"d\")\ne = Symbol(\"e\")\nf = Symbol(\"f\")",
     "language": "python",
     "metadata": {},
     "outputs": [],
     "prompt_number": 3
    },
    {
     "cell_type": "code",
     "collapsed": false,
     "input": "K = elliptic_k\nE = elliptic_e",
     "language": "python",
     "metadata": {},
     "outputs": [],
     "prompt_number": 4
    },
    {
     "cell_type": "code",
     "collapsed": false,
     "input": "# Warning: most examples take some time to compute!\n# It IS important to say we want use meijerg here!",
     "language": "python",
     "metadata": {},
     "outputs": [],
     "prompt_number": 5
    },
    {
     "cell_type": "code",
     "collapsed": false,
     "input": "# Various first kind integrals",
     "language": "python",
     "metadata": {},
     "outputs": [],
     "prompt_number": 6
    },
    {
     "cell_type": "code",
     "collapsed": false,
     "input": "integrate(K(a*z), z, meijerg=True)",
     "language": "python",
     "metadata": {},
     "outputs": [
      {
       "metadata": {},
       "output_type": "pyout",
       "png": "[encoded data removed]",
       "prompt_number": 7,
       "text": "\n                       \u239b     2\u22c5\u2148\u22c5\u03c0\u239e      \u239b     2\u22c5\u2148\u22c5\u03c0\u239e\n     \u239b     2\u22c5\u2148\u22c5\u03c0\u239e   2\u22c5E\u239da\u22c5z\u22c5\u212f     \u23a0   2\u22c5K\u239da\u22c5z\u22c5\u212f     \u23a0\n2\u22c5z\u22c5K\u239da\u22c5z\u22c5\u212f     \u23a0 + \u2500\u2500\u2500\u2500\u2500\u2500\u2500\u2500\u2500\u2500\u2500\u2500\u2500\u2500\u2500 - \u2500\u2500\u2500\u2500\u2500\u2500\u2500\u2500\u2500\u2500\u2500\u2500\u2500\u2500\u2500\n                           a                 a       "
      }
     ],
     "prompt_number": 7
    },
    {
     "cell_type": "code",
     "collapsed": false,
     "input": "integrate(z**(b-1) * K(a*z), z, meijerg=True)",
     "language": "python",
     "metadata": {},
     "outputs": [
      {
       "metadata": {},
       "output_type": "pyout",
       "png": "[encoded data removed]",
       "prompt_number": 8,
       "text": "\n   b       \u250c\u2500  \u239b1/2, 1/2, b \u2502      2\u22c5\u2148\u22c5\u03c0\u239e\n\u03c0\u22c5z \u22c5\u0393(b)\u22c5 \u251c\u2500  \u239c            \u2502 a\u22c5z\u22c5\u212f     \u239f\n          3\u2575 2 \u239d  1, b + 1  \u2502           \u23a0\n\u2500\u2500\u2500\u2500\u2500\u2500\u2500\u2500\u2500\u2500\u2500\u2500\u2500\u2500\u2500\u2500\u2500\u2500\u2500\u2500\u2500\u2500\u2500\u2500\u2500\u2500\u2500\u2500\u2500\u2500\u2500\u2500\u2500\u2500\u2500\u2500\u2500\u2500\u2500\u2500\u2500\n                2\u22c5\u0393(b + 1)               "
      }
     ],
     "prompt_number": 8
    },
    {
     "cell_type": "code",
     "collapsed": false,
     "input": "integrate(z**(b-1) * K(z), z, meijerg=True)",
     "language": "python",
     "metadata": {},
     "outputs": [
      {
       "metadata": {},
       "output_type": "pyout",
       "png": "[encoded data removed]",
       "prompt_number": 9,
       "text": "\n   b       \u250c\u2500  \u239b1/2, 1/2, b \u2502    2\u22c5\u2148\u22c5\u03c0\u239e\n\u03c0\u22c5z \u22c5\u0393(b)\u22c5 \u251c\u2500  \u239c            \u2502 z\u22c5\u212f     \u239f\n          3\u2575 2 \u239d  1, b + 1  \u2502         \u23a0\n\u2500\u2500\u2500\u2500\u2500\u2500\u2500\u2500\u2500\u2500\u2500\u2500\u2500\u2500\u2500\u2500\u2500\u2500\u2500\u2500\u2500\u2500\u2500\u2500\u2500\u2500\u2500\u2500\u2500\u2500\u2500\u2500\u2500\u2500\u2500\u2500\u2500\u2500\u2500\n               2\u22c5\u0393(b + 1)              "
      }
     ],
     "prompt_number": 9
    },
    {
     "cell_type": "code",
     "collapsed": false,
     "input": "integrate(z * K(a*z), z, meijerg=True)",
     "language": "python",
     "metadata": {},
     "outputs": [
      {
       "metadata": {},
       "output_type": "pyout",
       "png": "[encoded data removed]",
       "prompt_number": 10,
       "text": "\n   2  \u239b     2\u22c5\u2148\u22c5\u03c0\u239e        \u239b     2\u22c5\u2148\u22c5\u03c0\u239e        \u239b     2\u22c5\u2148\u22c5\u03c0\u239e      \u239b     2\u22c5\u2148\u22c5\u03c0\u239e  \n2\u22c5z \u22c5K\u239da\u22c5z\u22c5\u212f     \u23a0   2\u22c5z\u22c5E\u239da\u22c5z\u22c5\u212f     \u23a0   2\u22c5z\u22c5K\u239da\u22c5z\u22c5\u212f     \u23a0   8\u22c5E\u239da\u22c5z\u22c5\u212f     \u23a0  \n\u2500\u2500\u2500\u2500\u2500\u2500\u2500\u2500\u2500\u2500\u2500\u2500\u2500\u2500\u2500\u2500\u2500\u2500 + \u2500\u2500\u2500\u2500\u2500\u2500\u2500\u2500\u2500\u2500\u2500\u2500\u2500\u2500\u2500\u2500\u2500 + \u2500\u2500\u2500\u2500\u2500\u2500\u2500\u2500\u2500\u2500\u2500\u2500\u2500\u2500\u2500\u2500\u2500 + \u2500\u2500\u2500\u2500\u2500\u2500\u2500\u2500\u2500\u2500\u2500\u2500\u2500\u2500\u2500 -\n        3                   9\u22c5a                 9\u22c5a                   2       \n                                                                   9\u22c5a        \n\n    \u239b     2\u22c5\u2148\u22c5\u03c0\u239e\n 8\u22c5K\u239da\u22c5z\u22c5\u212f     \u23a0\n \u2500\u2500\u2500\u2500\u2500\u2500\u2500\u2500\u2500\u2500\u2500\u2500\u2500\u2500\u2500\n          2     \n       9\u22c5a      "
      }
     ],
     "prompt_number": 10
    },
    {
     "cell_type": "code",
     "collapsed": false,
     "input": "integrate(K(a*z) / sqrt(z), z, meijerg=True)",
     "language": "python",
     "metadata": {},
     "outputs": [
      {
       "metadata": {},
       "output_type": "pyout",
       "png": "[encoded data removed]",
       "prompt_number": 11,
       "text": "\n    ___  \u250c\u2500  \u239b1/2, 1/2, 1/2 \u2502      2\u22c5\u2148\u22c5\u03c0\u239e\n\u03c0\u22c5\u2572\u2571 z \u22c5 \u251c\u2500  \u239c              \u2502 a\u22c5z\u22c5\u212f     \u239f\n        3\u2575 2 \u239d    1, 3/2    \u2502           \u23a0"
      }
     ],
     "prompt_number": 11
    },
    {
     "cell_type": "code",
     "collapsed": false,
     "input": "integrate(K(a*z) / z, z, meijerg=True)",
     "language": "python",
     "metadata": {},
     "outputs": [
      {
       "metadata": {},
       "output_type": "pyout",
       "png": "[encoded data removed]",
       "prompt_number": 12,
       "text": "\n       \u250c\u2500  \u239b1, 1, 3/2, 3/2 \u2502      2\u22c5\u2148\u22c5\u03c0\u239e             \n\u03c0\u22c5a\u22c5z\u22c5 \u251c\u2500  \u239c               \u2502 a\u22c5z\u22c5\u212f     \u239f             \n      4\u2575 3 \u239d   2, 2, 2     \u2502           \u23a0   \u03c0\u22c5log(a\u22c5z)\n\u2500\u2500\u2500\u2500\u2500\u2500\u2500\u2500\u2500\u2500\u2500\u2500\u2500\u2500\u2500\u2500\u2500\u2500\u2500\u2500\u2500\u2500\u2500\u2500\u2500\u2500\u2500\u2500\u2500\u2500\u2500\u2500\u2500\u2500\u2500\u2500\u2500\u2500\u2500\u2500 + \u2500\u2500\u2500\u2500\u2500\u2500\u2500\u2500\u2500\u2500\n                   8                           2     "
      }
     ],
     "prompt_number": 12
    },
    {
     "cell_type": "code",
     "collapsed": false,
     "input": "integrate(K(a*z) / z**2, z, meijerg=True)",
     "language": "python",
     "metadata": {},
     "outputs": [
      {
       "metadata": {},
       "output_type": "pyout",
       "png": "[encoded data removed]",
       "prompt_number": 13,
       "text": "\n     2    \u250c\u2500  \u239b1, 1, 5/2, 5/2 \u2502      2\u22c5\u2148\u22c5\u03c0\u239e                     \n9\u22c5\u03c0\u22c5a \u22c5z\u22c5 \u251c\u2500  \u239c               \u2502 a\u22c5z\u22c5\u212f     \u239f                     \n         4\u2575 3 \u239d   2, 3, 3     \u2502           \u23a0   \u03c0\u22c5a\u22c5log(a\u22c5z)    \u03c0 \n\u2500\u2500\u2500\u2500\u2500\u2500\u2500\u2500\u2500\u2500\u2500\u2500\u2500\u2500\u2500\u2500\u2500\u2500\u2500\u2500\u2500\u2500\u2500\u2500\u2500\u2500\u2500\u2500\u2500\u2500\u2500\u2500\u2500\u2500\u2500\u2500\u2500\u2500\u2500\u2500\u2500\u2500\u2500 + \u2500\u2500\u2500\u2500\u2500\u2500\u2500\u2500\u2500\u2500\u2500\u2500 - \u2500\u2500\u2500\n                    128                            8         2\u22c5z"
      }
     ],
     "prompt_number": 13
    },
    {
     "cell_type": "code",
     "collapsed": false,
     "input": "integrate(z**(b-1) * K(a*z**c), z, meijerg=True)",
     "language": "python",
     "metadata": {},
     "outputs": [
      {
       "metadata": {},
       "output_type": "pyout",
       "png": "[encoded data removed]",
       "prompt_number": 14,
       "text": "\n               \u239b          b \u2502            \u239e\n               \u239c1/2, 1/2, \u2500 \u2502            \u239f\n   b  \u239bb\u239e  \u250c\u2500  \u239c          c \u2502    c  2\u22c5\u2148\u22c5\u03c0\u239f\n\u03c0\u22c5z \u22c5\u0393\u239c\u2500\u239f\u22c5 \u251c\u2500  \u239c            \u2502 a\u22c5z \u22c5\u212f     \u239f\n      \u239dc\u23a0 3\u2575 2 \u239c     b      \u2502            \u239f\n               \u239c  1, \u2500 + 1  \u2502            \u239f\n               \u239d     c      \u2502            \u23a0\n\u2500\u2500\u2500\u2500\u2500\u2500\u2500\u2500\u2500\u2500\u2500\u2500\u2500\u2500\u2500\u2500\u2500\u2500\u2500\u2500\u2500\u2500\u2500\u2500\u2500\u2500\u2500\u2500\u2500\u2500\u2500\u2500\u2500\u2500\u2500\u2500\u2500\u2500\u2500\u2500\u2500\u2500\n                    \u239bb    \u239e               \n               2\u22c5c\u22c5\u0393\u239c\u2500 + 1\u239f               \n                    \u239dc    \u23a0               "
      }
     ],
     "prompt_number": 14
    },
    {
     "cell_type": "code",
     "collapsed": false,
     "input": "combsimp(_)",
     "language": "python",
     "metadata": {},
     "outputs": [
      {
       "metadata": {},
       "output_type": "pyout",
       "png": "[encoded data removed]",
       "prompt_number": 15,
       "text": "\n          \u239b          b \u2502            \u239e\n          \u239c1/2, 1/2, \u2500 \u2502            \u239f\n   b  \u250c\u2500  \u239c          c \u2502    c  2\u22c5\u2148\u22c5\u03c0\u239f\n\u03c0\u22c5z \u22c5 \u251c\u2500  \u239c            \u2502 a\u22c5z \u22c5\u212f     \u239f\n     3\u2575 2 \u239c     b      \u2502            \u239f\n          \u239c  1, \u2500 + 1  \u2502            \u239f\n          \u239d     c      \u2502            \u23a0\n\u2500\u2500\u2500\u2500\u2500\u2500\u2500\u2500\u2500\u2500\u2500\u2500\u2500\u2500\u2500\u2500\u2500\u2500\u2500\u2500\u2500\u2500\u2500\u2500\u2500\u2500\u2500\u2500\u2500\u2500\u2500\u2500\u2500\u2500\u2500\u2500\u2500\n                 2\u22c5b                 "
      }
     ],
     "prompt_number": 15
    },
    {
     "cell_type": "code",
     "collapsed": false,
     "input": "integrate(z * K(a*z**2), z, meijerg=True)",
     "language": "python",
     "metadata": {},
     "outputs": [
      {
       "metadata": {},
       "output_type": "pyout",
       "png": "[encoded data removed]",
       "prompt_number": 16,
       "text": "\n                     \u239b   2  2\u22c5\u2148\u22c5\u03c0\u239e    \u239b   2  2\u22c5\u2148\u22c5\u03c0\u239e\n 2  \u239b   2  2\u22c5\u2148\u22c5\u03c0\u239e   E\u239da\u22c5z \u22c5\u212f     \u23a0   K\u239da\u22c5z \u22c5\u212f     \u23a0\nz \u22c5K\u239da\u22c5z \u22c5\u212f     \u23a0 + \u2500\u2500\u2500\u2500\u2500\u2500\u2500\u2500\u2500\u2500\u2500\u2500\u2500\u2500 - \u2500\u2500\u2500\u2500\u2500\u2500\u2500\u2500\u2500\u2500\u2500\u2500\u2500\u2500\n                          a                a       "
      }
     ],
     "prompt_number": 16
    },
    {
     "cell_type": "code",
     "collapsed": false,
     "input": "integrate(z**3 * K(a*z**2), z, meijerg=True)",
     "language": "python",
     "metadata": {},
     "outputs": [
      {
       "metadata": {},
       "output_type": "pyout",
       "png": "[encoded data removed]",
       "prompt_number": 17,
       "text": "\n 4  \u239b   2  2\u22c5\u2148\u22c5\u03c0\u239e    2  \u239b   2  2\u22c5\u2148\u22c5\u03c0\u239e    2  \u239b   2  2\u22c5\u2148\u22c5\u03c0\u239e      \u239b   2  2\u22c5\u2148\u22c5\u03c0\u239e  \nz \u22c5K\u239da\u22c5z \u22c5\u212f     \u23a0   z \u22c5E\u239da\u22c5z \u22c5\u212f     \u23a0   z \u22c5K\u239da\u22c5z \u22c5\u212f     \u23a0   4\u22c5E\u239da\u22c5z \u22c5\u212f     \u23a0  \n\u2500\u2500\u2500\u2500\u2500\u2500\u2500\u2500\u2500\u2500\u2500\u2500\u2500\u2500\u2500\u2500\u2500 + \u2500\u2500\u2500\u2500\u2500\u2500\u2500\u2500\u2500\u2500\u2500\u2500\u2500\u2500\u2500\u2500\u2500 + \u2500\u2500\u2500\u2500\u2500\u2500\u2500\u2500\u2500\u2500\u2500\u2500\u2500\u2500\u2500\u2500\u2500 + \u2500\u2500\u2500\u2500\u2500\u2500\u2500\u2500\u2500\u2500\u2500\u2500\u2500\u2500\u2500\u2500 -\n        3                  9\u22c5a                 9\u22c5a                   2        \n                                                                  9\u22c5a         \n\n    \u239b   2  2\u22c5\u2148\u22c5\u03c0\u239e\n 4\u22c5K\u239da\u22c5z \u22c5\u212f     \u23a0\n \u2500\u2500\u2500\u2500\u2500\u2500\u2500\u2500\u2500\u2500\u2500\u2500\u2500\u2500\u2500\u2500\n          2      \n       9\u22c5a       "
      }
     ],
     "prompt_number": 17
    },
    {
     "cell_type": "code",
     "collapsed": false,
     "input": "integrate(z**5 * K(a*z**2), z, meijerg=True)",
     "language": "python",
     "metadata": {},
     "outputs": [
      {
       "metadata": {},
       "output_type": "pyout",
       "png": "[encoded data removed]",
       "prompt_number": 18,
       "text": "\n 6  \u239b   2  2\u22c5\u2148\u22c5\u03c0\u239e    4  \u239b   2  2\u22c5\u2148\u22c5\u03c0\u239e    4  \u239b   2  2\u22c5\u2148\u22c5\u03c0\u239e       2  \u239b   2  2\u22c5\u2148\u22c5\nz \u22c5K\u239da\u22c5z \u22c5\u212f     \u23a0   z \u22c5E\u239da\u22c5z \u22c5\u212f     \u23a0   z \u22c5K\u239da\u22c5z \u22c5\u212f     \u23a0   16\u22c5z \u22c5E\u239da\u22c5z \u22c5\u212f    \n\u2500\u2500\u2500\u2500\u2500\u2500\u2500\u2500\u2500\u2500\u2500\u2500\u2500\u2500\u2500\u2500\u2500 + \u2500\u2500\u2500\u2500\u2500\u2500\u2500\u2500\u2500\u2500\u2500\u2500\u2500\u2500\u2500\u2500\u2500 + \u2500\u2500\u2500\u2500\u2500\u2500\u2500\u2500\u2500\u2500\u2500\u2500\u2500\u2500\u2500\u2500\u2500 + \u2500\u2500\u2500\u2500\u2500\u2500\u2500\u2500\u2500\u2500\u2500\u2500\u2500\u2500\u2500\u2500\u2500\u2500\n        5                  25\u22c5a                75\u22c5a                     2     \n                                                                   225\u22c5a      \n\n\u03c0\u239e       2  \u239b   2  2\u22c5\u2148\u22c5\u03c0\u239e       \u239b   2  2\u22c5\u2148\u22c5\u03c0\u239e       \u239b   2  2\u22c5\u2148\u22c5\u03c0\u239e\n \u23a0   16\u22c5z \u22c5K\u239da\u22c5z \u22c5\u212f     \u23a0   64\u22c5E\u239da\u22c5z \u22c5\u212f     \u23a0   64\u22c5K\u239da\u22c5z \u22c5\u212f     \u23a0\n\u2500\u2500 + \u2500\u2500\u2500\u2500\u2500\u2500\u2500\u2500\u2500\u2500\u2500\u2500\u2500\u2500\u2500\u2500\u2500\u2500\u2500\u2500 + \u2500\u2500\u2500\u2500\u2500\u2500\u2500\u2500\u2500\u2500\u2500\u2500\u2500\u2500\u2500\u2500\u2500 - \u2500\u2500\u2500\u2500\u2500\u2500\u2500\u2500\u2500\u2500\u2500\u2500\u2500\u2500\u2500\u2500\u2500\n                 2                     3                   3     \n            225\u22c5a                 225\u22c5a               225\u22c5a      "
      }
     ],
     "prompt_number": 18
    },
    {
     "cell_type": "code",
     "collapsed": false,
     "input": "integrate(K(a*z**2), z, meijerg=True)",
     "language": "python",
     "metadata": {},
     "outputs": [
      {
       "metadata": {},
       "output_type": "pyout",
       "png": "[encoded data removed]",
       "prompt_number": 19,
       "text": "\n     \u250c\u2500  \u239b1/2, 1/2, 1/2 \u2502    2  2\u22c5\u2148\u22c5\u03c0\u239e\n\u03c0\u22c5z\u22c5 \u251c\u2500  \u239c              \u2502 a\u22c5z \u22c5\u212f     \u239f\n    3\u2575 2 \u239d    1, 3/2    \u2502            \u23a0\n\u2500\u2500\u2500\u2500\u2500\u2500\u2500\u2500\u2500\u2500\u2500\u2500\u2500\u2500\u2500\u2500\u2500\u2500\u2500\u2500\u2500\u2500\u2500\u2500\u2500\u2500\u2500\u2500\u2500\u2500\u2500\u2500\u2500\u2500\u2500\u2500\u2500\u2500\n                  2                   "
      }
     ],
     "prompt_number": 19
    },
    {
     "cell_type": "code",
     "collapsed": false,
     "input": "integrate(K(a*z**2) / z, z, meijerg=True)",
     "language": "python",
     "metadata": {},
     "outputs": [
      {
       "metadata": {},
       "output_type": "pyout",
       "png": "[encoded data removed]",
       "prompt_number": 20,
       "text": "\n     2  \u250c\u2500  \u239b1, 1, 3/2, 3/2 \u2502    2  2\u22c5\u2148\u22c5\u03c0\u239e              \n\u03c0\u22c5a\u22c5z \u22c5 \u251c\u2500  \u239c               \u2502 a\u22c5z \u22c5\u212f     \u239f        \u239b   2\u239e\n       4\u2575 3 \u239d   2, 2, 2     \u2502            \u23a0   \u03c0\u22c5log\u239da\u22c5z \u23a0\n\u2500\u2500\u2500\u2500\u2500\u2500\u2500\u2500\u2500\u2500\u2500\u2500\u2500\u2500\u2500\u2500\u2500\u2500\u2500\u2500\u2500\u2500\u2500\u2500\u2500\u2500\u2500\u2500\u2500\u2500\u2500\u2500\u2500\u2500\u2500\u2500\u2500\u2500\u2500\u2500\u2500\u2500 + \u2500\u2500\u2500\u2500\u2500\u2500\u2500\u2500\u2500\u2500\u2500\n                    16                            4     "
      }
     ],
     "prompt_number": 20
    },
    {
     "cell_type": "code",
     "collapsed": false,
     "input": "integrate(K(a*z**2) / z**2, z, meijerg=True)",
     "language": "python",
     "metadata": {},
     "outputs": [
      {
       "metadata": {},
       "output_type": "pyout",
       "png": "[encoded data removed]",
       "prompt_number": 21,
       "text": "\n  \u239b   2  2\u22c5\u2148\u22c5\u03c0\u239e\n-E\u239da\u22c5z \u22c5\u212f     \u23a0\n\u2500\u2500\u2500\u2500\u2500\u2500\u2500\u2500\u2500\u2500\u2500\u2500\u2500\u2500\u2500\n       z       "
      }
     ],
     "prompt_number": 21
    },
    {
     "cell_type": "code",
     "collapsed": false,
     "input": "integrate(K(a*z**2) / z**3, z, meijerg=True)",
     "language": "python",
     "metadata": {},
     "outputs": [
      {
       "metadata": {},
       "output_type": "pyout",
       "png": "[encoded data removed]",
       "prompt_number": 22,
       "text": "\n     2  2  \u250c\u2500  \u239b1, 1, 5/2, 5/2 \u2502    2  2\u22c5\u2148\u22c5\u03c0\u239e                       \n9\u22c5\u03c0\u22c5a \u22c5z \u22c5 \u251c\u2500  \u239c               \u2502 a\u22c5z \u22c5\u212f     \u239f          \u239b   2\u239e       \n          4\u2575 3 \u239d   2, 3, 3     \u2502            \u23a0   \u03c0\u22c5a\u22c5log\u239da\u22c5z \u23a0    \u03c0  \n\u2500\u2500\u2500\u2500\u2500\u2500\u2500\u2500\u2500\u2500\u2500\u2500\u2500\u2500\u2500\u2500\u2500\u2500\u2500\u2500\u2500\u2500\u2500\u2500\u2500\u2500\u2500\u2500\u2500\u2500\u2500\u2500\u2500\u2500\u2500\u2500\u2500\u2500\u2500\u2500\u2500\u2500\u2500\u2500\u2500 + \u2500\u2500\u2500\u2500\u2500\u2500\u2500\u2500\u2500\u2500\u2500\u2500\u2500 - \u2500\u2500\u2500\u2500\n                     256                              16           2\n                                                                4\u22c5z "
      }
     ],
     "prompt_number": 22
    },
    {
     "cell_type": "code",
     "collapsed": false,
     "input": "integrate(K(a*z**2) / z**b, z, meijerg=True)",
     "language": "python",
     "metadata": {},
     "outputs": [
      {
       "metadata": {},
       "output_type": "pyout",
       "png": "[encoded data removed]",
       "prompt_number": 23,
       "text": "\n                        \u239b            b   1 \u2502            \u239e\n                        \u239c1/2, 1/2, - \u2500 + \u2500 \u2502            \u239f\n     -b  \u239b  b   1\u239e  \u250c\u2500  \u239c            2   2 \u2502    2  2\u22c5\u2148\u22c5\u03c0\u239f\n\u03c0\u22c5z\u22c5z  \u22c5\u0393\u239c- \u2500 + \u2500\u239f\u22c5 \u251c\u2500  \u239c                  \u2502 a\u22c5z \u22c5\u212f     \u239f\n         \u239d  2   2\u23a0 3\u2575 2 \u239c         b   3    \u2502            \u239f\n                        \u239c    1, - \u2500 + \u2500    \u2502            \u239f\n                        \u239d         2   2    \u2502            \u23a0\n\u2500\u2500\u2500\u2500\u2500\u2500\u2500\u2500\u2500\u2500\u2500\u2500\u2500\u2500\u2500\u2500\u2500\u2500\u2500\u2500\u2500\u2500\u2500\u2500\u2500\u2500\u2500\u2500\u2500\u2500\u2500\u2500\u2500\u2500\u2500\u2500\u2500\u2500\u2500\u2500\u2500\u2500\u2500\u2500\u2500\u2500\u2500\u2500\u2500\u2500\u2500\u2500\u2500\u2500\u2500\u2500\u2500\n                          \u239b  b   3\u239e                      \n                       4\u22c5\u0393\u239c- \u2500 + \u2500\u239f                      \n                          \u239d  2   2\u23a0                      "
      }
     ],
     "prompt_number": 23
    },
    {
     "cell_type": "code",
     "collapsed": false,
     "input": "combsimp(_)",
     "language": "python",
     "metadata": {},
     "outputs": [
      {
       "metadata": {},
       "output_type": "pyout",
       "png": "[encoded data removed]",
       "prompt_number": 24,
       "text": "\n                        \u239b            b   1 \u2502            \u239e\n                        \u239c1/2, 1/2, - \u2500 + \u2500 \u2502            \u239f\n     -b  \u239b  b   1\u239e  \u250c\u2500  \u239c            2   2 \u2502    2  2\u22c5\u2148\u22c5\u03c0\u239f\n\u03c0\u22c5z\u22c5z  \u22c5\u0393\u239c- \u2500 + \u2500\u239f\u22c5 \u251c\u2500  \u239c                  \u2502 a\u22c5z \u22c5\u212f     \u239f\n         \u239d  2   2\u23a0 3\u2575 2 \u239c         b   3    \u2502            \u239f\n                        \u239c    1, - \u2500 + \u2500    \u2502            \u239f\n                        \u239d         2   2    \u2502            \u23a0\n\u2500\u2500\u2500\u2500\u2500\u2500\u2500\u2500\u2500\u2500\u2500\u2500\u2500\u2500\u2500\u2500\u2500\u2500\u2500\u2500\u2500\u2500\u2500\u2500\u2500\u2500\u2500\u2500\u2500\u2500\u2500\u2500\u2500\u2500\u2500\u2500\u2500\u2500\u2500\u2500\u2500\u2500\u2500\u2500\u2500\u2500\u2500\u2500\u2500\u2500\u2500\u2500\u2500\u2500\u2500\u2500\u2500\n                          \u239b  b   3\u239e                      \n                       4\u22c5\u0393\u239c- \u2500 + \u2500\u239f                      \n                          \u239d  2   2\u23a0                      "
      }
     ],
     "prompt_number": 24
    },
    {
     "cell_type": "code",
     "collapsed": false,
     "input": "integrate(K(a*z**4), z, meijerg=True)",
     "language": "python",
     "metadata": {},
     "outputs": [
      {
       "metadata": {},
       "output_type": "pyout",
       "png": "[encoded data removed]",
       "prompt_number": 25,
       "text": "\n              \u2148\u22c5\u03c0                                          \n              \u2500\u2500\u2500                                          \n     3/4       4          \u250c\u2500  \u239b1/4, 1/2, 1/2 \u2502    4  2\u22c5\u2148\u22c5\u03c0\u239e\n-(-1)   \u22c5\u03c0\u22c5z\u22c5\u212f   \u22c5\u0393(1/4)\u22c5 \u251c\u2500  \u239c              \u2502 a\u22c5z \u22c5\u212f     \u239f\n                         3\u2575 2 \u239d    1, 5/4    \u2502            \u23a0\n\u2500\u2500\u2500\u2500\u2500\u2500\u2500\u2500\u2500\u2500\u2500\u2500\u2500\u2500\u2500\u2500\u2500\u2500\u2500\u2500\u2500\u2500\u2500\u2500\u2500\u2500\u2500\u2500\u2500\u2500\u2500\u2500\u2500\u2500\u2500\u2500\u2500\u2500\u2500\u2500\u2500\u2500\u2500\u2500\u2500\u2500\u2500\u2500\u2500\u2500\u2500\u2500\u2500\u2500\u2500\u2500\u2500\u2500\u2500\n                          8\u22c5\u0393(5/4)                         "
      }
     ],
     "prompt_number": 25
    },
    {
     "cell_type": "code",
     "collapsed": false,
     "input": "combsimp(_)",
     "language": "python",
     "metadata": {},
     "outputs": [
      {
       "metadata": {},
       "output_type": "pyout",
       "png": "[encoded data removed]",
       "prompt_number": 26,
       "text": "\n              \u2148\u22c5\u03c0                                          \n              \u2500\u2500\u2500                                          \n     3/4       4          \u250c\u2500  \u239b1/4, 1/2, 1/2 \u2502    4  2\u22c5\u2148\u22c5\u03c0\u239e\n-(-1)   \u22c5\u03c0\u22c5z\u22c5\u212f   \u22c5\u0393(1/4)\u22c5 \u251c\u2500  \u239c              \u2502 a\u22c5z \u22c5\u212f     \u239f\n                         3\u2575 2 \u239d    1, 5/4    \u2502            \u23a0\n\u2500\u2500\u2500\u2500\u2500\u2500\u2500\u2500\u2500\u2500\u2500\u2500\u2500\u2500\u2500\u2500\u2500\u2500\u2500\u2500\u2500\u2500\u2500\u2500\u2500\u2500\u2500\u2500\u2500\u2500\u2500\u2500\u2500\u2500\u2500\u2500\u2500\u2500\u2500\u2500\u2500\u2500\u2500\u2500\u2500\u2500\u2500\u2500\u2500\u2500\u2500\u2500\u2500\u2500\u2500\u2500\u2500\u2500\u2500\n                          8\u22c5\u0393(5/4)                         "
      }
     ],
     "prompt_number": 26
    },
    {
     "cell_type": "code",
     "collapsed": false,
     "input": "integrate(K(a*z**c), z, meijerg=True)",
     "language": "python",
     "metadata": {},
     "outputs": [
      {
       "metadata": {},
       "output_type": "pyout",
       "png": "[encoded data removed]",
       "prompt_number": 27,
       "text": "\n              \u239b          1 \u2502            \u239e\n              \u239c1/2, 1/2, \u2500 \u2502            \u239f\n     \u239b1\u239e  \u250c\u2500  \u239c          c \u2502    c  2\u22c5\u2148\u22c5\u03c0\u239f\n\u03c0\u22c5z\u22c5\u0393\u239c\u2500\u239f\u22c5 \u251c\u2500  \u239c            \u2502 a\u22c5z \u22c5\u212f     \u239f\n     \u239dc\u23a0 3\u2575 2 \u239c         1  \u2502            \u239f\n              \u239c  1, 1 + \u2500  \u2502            \u239f\n              \u239d         c  \u2502            \u23a0\n\u2500\u2500\u2500\u2500\u2500\u2500\u2500\u2500\u2500\u2500\u2500\u2500\u2500\u2500\u2500\u2500\u2500\u2500\u2500\u2500\u2500\u2500\u2500\u2500\u2500\u2500\u2500\u2500\u2500\u2500\u2500\u2500\u2500\u2500\u2500\u2500\u2500\u2500\u2500\u2500\u2500\n                    \u239b    1\u239e              \n               2\u22c5c\u22c5\u0393\u239c1 + \u2500\u239f              \n                    \u239d    c\u23a0              "
      }
     ],
     "prompt_number": 27
    },
    {
     "cell_type": "code",
     "collapsed": false,
     "input": "combsimp(_)",
     "language": "python",
     "metadata": {},
     "outputs": [
      {
       "metadata": {},
       "output_type": "pyout",
       "png": "[encoded data removed]",
       "prompt_number": 28,
       "text": "\n         \u239b          1 \u2502            \u239e\n         \u239c1/2, 1/2, \u2500 \u2502            \u239f\n     \u250c\u2500  \u239c          c \u2502    c  2\u22c5\u2148\u22c5\u03c0\u239f\n\u03c0\u22c5z\u22c5 \u251c\u2500  \u239c            \u2502 a\u22c5z \u22c5\u212f     \u239f\n    3\u2575 2 \u239c         1  \u2502            \u239f\n         \u239c  1, 1 + \u2500  \u2502            \u239f\n         \u239d         c  \u2502            \u23a0\n\u2500\u2500\u2500\u2500\u2500\u2500\u2500\u2500\u2500\u2500\u2500\u2500\u2500\u2500\u2500\u2500\u2500\u2500\u2500\u2500\u2500\u2500\u2500\u2500\u2500\u2500\u2500\u2500\u2500\u2500\u2500\u2500\u2500\u2500\u2500\u2500\n                 2                  "
      }
     ],
     "prompt_number": 28
    },
    {
     "cell_type": "code",
     "collapsed": false,
     "input": "integrate(K(a*z**c) / z**b, z, meijerg=True)",
     "language": "python",
     "metadata": {},
     "outputs": [
      {
       "metadata": {},
       "output_type": "pyout",
       "png": "[encoded data removed]",
       "prompt_number": 29,
       "text": "\n                        \u239b            b   1 \u2502            \u239e\n                        \u239c1/2, 1/2, - \u2500 + \u2500 \u2502            \u239f\n     -b  \u239b  b   1\u239e  \u250c\u2500  \u239c            c   c \u2502    c  2\u22c5\u2148\u22c5\u03c0\u239f\n\u03c0\u22c5z\u22c5z  \u22c5\u0393\u239c- \u2500 + \u2500\u239f\u22c5 \u251c\u2500  \u239c                  \u2502 a\u22c5z \u22c5\u212f     \u239f\n         \u239d  c   c\u23a0 3\u2575 2 \u239c       b       1  \u2502            \u239f\n                        \u239c  1, - \u2500 + 1 + \u2500  \u2502            \u239f\n                        \u239d       c       c  \u2502            \u23a0\n\u2500\u2500\u2500\u2500\u2500\u2500\u2500\u2500\u2500\u2500\u2500\u2500\u2500\u2500\u2500\u2500\u2500\u2500\u2500\u2500\u2500\u2500\u2500\u2500\u2500\u2500\u2500\u2500\u2500\u2500\u2500\u2500\u2500\u2500\u2500\u2500\u2500\u2500\u2500\u2500\u2500\u2500\u2500\u2500\u2500\u2500\u2500\u2500\u2500\u2500\u2500\u2500\u2500\u2500\u2500\u2500\u2500\n                         \u239b  b       1\u239e                   \n                    2\u22c5c\u22c5\u0393\u239c- \u2500 + 1 + \u2500\u239f                   \n                         \u239d  c       c\u23a0                   "
      }
     ],
     "prompt_number": 29
    },
    {
     "cell_type": "code",
     "collapsed": false,
     "input": "integrate(z * K(z**2) / (1-z**2)**(3*S.Half), z, meijerg=True)",
     "language": "python",
     "metadata": {},
     "outputs": [
      {
       "metadata": {},
       "output_type": "pyout",
       "png": "[encoded data removed]",
       "prompt_number": 30,
       "text": "\n\u2320                 \n\u23ae       \u239b 2\u239e      \n\u23ae    z\u22c5K\u239dz \u23a0      \n\u23ae \u2500\u2500\u2500\u2500\u2500\u2500\u2500\u2500\u2500\u2500\u2500\u2500\u2500 dz\n\u23ae           3/2   \n\u23ae \u239b   2    \u239e      \n\u23ae \u239d- z  + 1\u23a0      \n\u2321                 "
      }
     ],
     "prompt_number": 30
    },
    {
     "cell_type": "code",
     "collapsed": false,
     "input": "# Various second kind integrals",
     "language": "python",
     "metadata": {},
     "outputs": [],
     "prompt_number": 31
    },
    {
     "cell_type": "code",
     "collapsed": false,
     "input": "integrate(E(a*z), z, meijerg=True)",
     "language": "python",
     "metadata": {},
     "outputs": [
      {
       "metadata": {},
       "output_type": "pyout",
       "png": "[encoded data removed]",
       "prompt_number": 32,
       "text": "\n     \u239b     2\u22c5\u2148\u22c5\u03c0\u239e        \u239b     2\u22c5\u2148\u22c5\u03c0\u239e      \u239b     2\u22c5\u2148\u22c5\u03c0\u239e      \u239b     2\u22c5\u2148\u22c5\u03c0\u239e\n2\u22c5z\u22c5E\u239da\u22c5z\u22c5\u212f     \u23a0   2\u22c5z\u22c5K\u239da\u22c5z\u22c5\u212f     \u23a0   2\u22c5E\u239da\u22c5z\u22c5\u212f     \u23a0   2\u22c5K\u239da\u22c5z\u22c5\u212f     \u23a0\n\u2500\u2500\u2500\u2500\u2500\u2500\u2500\u2500\u2500\u2500\u2500\u2500\u2500\u2500\u2500\u2500\u2500 + \u2500\u2500\u2500\u2500\u2500\u2500\u2500\u2500\u2500\u2500\u2500\u2500\u2500\u2500\u2500\u2500\u2500 + \u2500\u2500\u2500\u2500\u2500\u2500\u2500\u2500\u2500\u2500\u2500\u2500\u2500\u2500\u2500 - \u2500\u2500\u2500\u2500\u2500\u2500\u2500\u2500\u2500\u2500\u2500\u2500\u2500\u2500\u2500\n        3                   3                 3\u22c5a               3\u22c5a      "
      }
     ],
     "prompt_number": 32
    },
    {
     "cell_type": "code",
     "collapsed": false,
     "input": "integrate(z**(b-1) * E(a*z), z, meijerg=True)",
     "language": "python",
     "metadata": {},
     "outputs": [
      {
       "metadata": {},
       "output_type": "pyout",
       "png": "[encoded data removed]",
       "prompt_number": 33,
       "text": "\n   b       \u250c\u2500  \u239b-1/2, 1/2, b \u2502      2\u22c5\u2148\u22c5\u03c0\u239e\n\u03c0\u22c5z \u22c5\u0393(b)\u22c5 \u251c\u2500  \u239c             \u2502 a\u22c5z\u22c5\u212f     \u239f\n          3\u2575 2 \u239d  1, b + 1   \u2502           \u23a0\n\u2500\u2500\u2500\u2500\u2500\u2500\u2500\u2500\u2500\u2500\u2500\u2500\u2500\u2500\u2500\u2500\u2500\u2500\u2500\u2500\u2500\u2500\u2500\u2500\u2500\u2500\u2500\u2500\u2500\u2500\u2500\u2500\u2500\u2500\u2500\u2500\u2500\u2500\u2500\u2500\u2500\u2500\n                2\u22c5\u0393(b + 1)                "
      }
     ],
     "prompt_number": 33
    },
    {
     "cell_type": "code",
     "collapsed": false,
     "input": "integrate(z**(b-1) * E(z), z, meijerg=True)",
     "language": "python",
     "metadata": {},
     "outputs": [
      {
       "metadata": {},
       "output_type": "pyout",
       "png": "[encoded data removed]",
       "prompt_number": 34,
       "text": "\n   b       \u250c\u2500  \u239b-1/2, 1/2, b \u2502    2\u22c5\u2148\u22c5\u03c0\u239e\n\u03c0\u22c5z \u22c5\u0393(b)\u22c5 \u251c\u2500  \u239c             \u2502 z\u22c5\u212f     \u239f\n          3\u2575 2 \u239d  1, b + 1   \u2502         \u23a0\n\u2500\u2500\u2500\u2500\u2500\u2500\u2500\u2500\u2500\u2500\u2500\u2500\u2500\u2500\u2500\u2500\u2500\u2500\u2500\u2500\u2500\u2500\u2500\u2500\u2500\u2500\u2500\u2500\u2500\u2500\u2500\u2500\u2500\u2500\u2500\u2500\u2500\u2500\u2500\u2500\n               2\u22c5\u0393(b + 1)               "
      }
     ],
     "prompt_number": 34
    },
    {
     "cell_type": "code",
     "collapsed": false,
     "input": "integrate(z * E(a*z), z, meijerg=True)",
     "language": "python",
     "metadata": {},
     "outputs": [
      {
       "metadata": {},
       "output_type": "pyout",
       "png": "[encoded data removed]",
       "prompt_number": 35,
       "text": "\n   2  \u239b     2\u22c5\u2148\u22c5\u03c0\u239e      2  \u239b     2\u22c5\u2148\u22c5\u03c0\u239e        \u239b     2\u22c5\u2148\u22c5\u03c0\u239e        \u239b     2\u22c5\u2148\u22c5\u03c0\n2\u22c5z \u22c5E\u239da\u22c5z\u22c5\u212f     \u23a0   2\u22c5z \u22c5K\u239da\u22c5z\u22c5\u212f     \u23a0   2\u22c5z\u22c5E\u239da\u22c5z\u22c5\u212f     \u23a0   2\u22c5z\u22c5K\u239da\u22c5z\u22c5\u212f     \n\u2500\u2500\u2500\u2500\u2500\u2500\u2500\u2500\u2500\u2500\u2500\u2500\u2500\u2500\u2500\u2500\u2500\u2500 + \u2500\u2500\u2500\u2500\u2500\u2500\u2500\u2500\u2500\u2500\u2500\u2500\u2500\u2500\u2500\u2500\u2500\u2500 + \u2500\u2500\u2500\u2500\u2500\u2500\u2500\u2500\u2500\u2500\u2500\u2500\u2500\u2500\u2500\u2500\u2500 + \u2500\u2500\u2500\u2500\u2500\u2500\u2500\u2500\u2500\u2500\u2500\u2500\u2500\u2500\u2500\u2500\n        5                    15                  45\u22c5a                45\u22c5a     \n                                                                              \n\n\u239e      \u239b     2\u22c5\u2148\u22c5\u03c0\u239e      \u239b     2\u22c5\u2148\u22c5\u03c0\u239e\n\u23a0   8\u22c5E\u239da\u22c5z\u22c5\u212f     \u23a0   8\u22c5K\u239da\u22c5z\u22c5\u212f     \u23a0\n\u2500 + \u2500\u2500\u2500\u2500\u2500\u2500\u2500\u2500\u2500\u2500\u2500\u2500\u2500\u2500\u2500 - \u2500\u2500\u2500\u2500\u2500\u2500\u2500\u2500\u2500\u2500\u2500\u2500\u2500\u2500\u2500\n             2                 2     \n         45\u22c5a              45\u22c5a      "
      }
     ],
     "prompt_number": 35
    },
    {
     "cell_type": "code",
     "collapsed": false,
     "input": "integrate(E(a*z) / sqrt(z), z, meijerg=True)",
     "language": "python",
     "metadata": {},
     "outputs": [
      {
       "metadata": {},
       "output_type": "pyout",
       "png": "[encoded data removed]",
       "prompt_number": 36,
       "text": "\n    ___  \u250c\u2500  \u239b-1/2, 1/2, 1/2 \u2502      2\u22c5\u2148\u22c5\u03c0\u239e\n\u03c0\u22c5\u2572\u2571 z \u22c5 \u251c\u2500  \u239c               \u2502 a\u22c5z\u22c5\u212f     \u239f\n        3\u2575 2 \u239d    1, 3/2     \u2502           \u23a0"
      }
     ],
     "prompt_number": 36
    },
    {
     "cell_type": "code",
     "collapsed": false,
     "input": "integrate(E(a*z) / z, z, meijerg=True)",
     "language": "python",
     "metadata": {},
     "outputs": [
      {
       "metadata": {},
       "output_type": "pyout",
       "png": "[encoded data removed]",
       "prompt_number": 37,
       "text": "\n         \u250c\u2500  \u239b1/2, 1, 1, 3/2 \u2502      2\u22c5\u2148\u22c5\u03c0\u239e             \n  \u03c0\u22c5a\u22c5z\u22c5 \u251c\u2500  \u239c               \u2502 a\u22c5z\u22c5\u212f     \u239f             \n        4\u2575 3 \u239d   2, 2, 2     \u2502           \u23a0   \u03c0\u22c5log(a\u22c5z)\n- \u2500\u2500\u2500\u2500\u2500\u2500\u2500\u2500\u2500\u2500\u2500\u2500\u2500\u2500\u2500\u2500\u2500\u2500\u2500\u2500\u2500\u2500\u2500\u2500\u2500\u2500\u2500\u2500\u2500\u2500\u2500\u2500\u2500\u2500\u2500\u2500\u2500\u2500\u2500\u2500 + \u2500\u2500\u2500\u2500\u2500\u2500\u2500\u2500\u2500\u2500\n                     8                           2     "
      }
     ],
     "prompt_number": 37
    },
    {
     "cell_type": "code",
     "collapsed": false,
     "input": "integrate(E(a*z) / z**2, z, meijerg=True)",
     "language": "python",
     "metadata": {},
     "outputs": [
      {
       "metadata": {},
       "output_type": "pyout",
       "png": "[encoded data removed]",
       "prompt_number": 38,
       "text": "\n       2    \u250c\u2500  \u239b1, 1, 3/2, 5/2 \u2502      2\u22c5\u2148\u22c5\u03c0\u239e                     \n  3\u22c5\u03c0\u22c5a \u22c5z\u22c5 \u251c\u2500  \u239c               \u2502 a\u22c5z\u22c5\u212f     \u239f                     \n           4\u2575 3 \u239d   2, 3, 3     \u2502           \u23a0   \u03c0\u22c5a\u22c5log(a\u22c5z)    \u03c0 \n- \u2500\u2500\u2500\u2500\u2500\u2500\u2500\u2500\u2500\u2500\u2500\u2500\u2500\u2500\u2500\u2500\u2500\u2500\u2500\u2500\u2500\u2500\u2500\u2500\u2500\u2500\u2500\u2500\u2500\u2500\u2500\u2500\u2500\u2500\u2500\u2500\u2500\u2500\u2500\u2500\u2500\u2500\u2500 - \u2500\u2500\u2500\u2500\u2500\u2500\u2500\u2500\u2500\u2500\u2500\u2500 - \u2500\u2500\u2500\n                      128                            8         2\u22c5z"
      }
     ],
     "prompt_number": 38
    },
    {
     "cell_type": "code",
     "collapsed": false,
     "input": "integrate(z**(b-1) * E(a*z**c), z, meijerg=True)",
     "language": "python",
     "metadata": {},
     "outputs": [
      {
       "metadata": {},
       "output_type": "pyout",
       "png": "[encoded data removed]",
       "prompt_number": 39,
       "text": "\n               \u239b           b \u2502            \u239e\n               \u239c-1/2, 1/2, \u2500 \u2502            \u239f\n   b  \u239bb\u239e  \u250c\u2500  \u239c           c \u2502    c  2\u22c5\u2148\u22c5\u03c0\u239f\n\u03c0\u22c5z \u22c5\u0393\u239c\u2500\u239f\u22c5 \u251c\u2500  \u239c             \u2502 a\u22c5z \u22c5\u212f     \u239f\n      \u239dc\u23a0 3\u2575 2 \u239c     b       \u2502            \u239f\n               \u239c  1, \u2500 + 1   \u2502            \u239f\n               \u239d     c       \u2502            \u23a0\n\u2500\u2500\u2500\u2500\u2500\u2500\u2500\u2500\u2500\u2500\u2500\u2500\u2500\u2500\u2500\u2500\u2500\u2500\u2500\u2500\u2500\u2500\u2500\u2500\u2500\u2500\u2500\u2500\u2500\u2500\u2500\u2500\u2500\u2500\u2500\u2500\u2500\u2500\u2500\u2500\u2500\u2500\u2500\n                     \u239bb    \u239e               \n                2\u22c5c\u22c5\u0393\u239c\u2500 + 1\u239f               \n                     \u239dc    \u23a0               "
      }
     ],
     "prompt_number": 39
    },
    {
     "cell_type": "code",
     "collapsed": false,
     "input": "integrate(z * E(a*z**2), z, meijerg=True)",
     "language": "python",
     "metadata": {},
     "outputs": [
      {
       "metadata": {},
       "output_type": "pyout",
       "png": "[encoded data removed]",
       "prompt_number": 40,
       "text": "\n 2  \u239b   2  2\u22c5\u2148\u22c5\u03c0\u239e    2  \u239b   2  2\u22c5\u2148\u22c5\u03c0\u239e    \u239b   2  2\u22c5\u2148\u22c5\u03c0\u239e    \u239b   2  2\u22c5\u2148\u22c5\u03c0\u239e\nz \u22c5E\u239da\u22c5z \u22c5\u212f     \u23a0   z \u22c5K\u239da\u22c5z \u22c5\u212f     \u23a0   E\u239da\u22c5z \u22c5\u212f     \u23a0   K\u239da\u22c5z \u22c5\u212f     \u23a0\n\u2500\u2500\u2500\u2500\u2500\u2500\u2500\u2500\u2500\u2500\u2500\u2500\u2500\u2500\u2500\u2500\u2500 + \u2500\u2500\u2500\u2500\u2500\u2500\u2500\u2500\u2500\u2500\u2500\u2500\u2500\u2500\u2500\u2500\u2500 + \u2500\u2500\u2500\u2500\u2500\u2500\u2500\u2500\u2500\u2500\u2500\u2500\u2500\u2500 - \u2500\u2500\u2500\u2500\u2500\u2500\u2500\u2500\u2500\u2500\u2500\u2500\u2500\u2500\n        3                   3                3\u22c5a              3\u22c5a      "
      }
     ],
     "prompt_number": 40
    },
    {
     "cell_type": "code",
     "collapsed": false,
     "input": "integrate(z**3 * E(a*z**2), z, meijerg=True)",
     "language": "python",
     "metadata": {},
     "outputs": [
      {
       "metadata": {},
       "output_type": "pyout",
       "png": "[encoded data removed]",
       "prompt_number": 41,
       "text": "\n 4  \u239b   2  2\u22c5\u2148\u22c5\u03c0\u239e    4  \u239b   2  2\u22c5\u2148\u22c5\u03c0\u239e    2  \u239b   2  2\u22c5\u2148\u22c5\u03c0\u239e    2  \u239b   2  2\u22c5\u2148\u22c5\u03c0\u239e \nz \u22c5E\u239da\u22c5z \u22c5\u212f     \u23a0   z \u22c5K\u239da\u22c5z \u22c5\u212f     \u23a0   z \u22c5E\u239da\u22c5z \u22c5\u212f     \u23a0   z \u22c5K\u239da\u22c5z \u22c5\u212f     \u23a0 \n\u2500\u2500\u2500\u2500\u2500\u2500\u2500\u2500\u2500\u2500\u2500\u2500\u2500\u2500\u2500\u2500\u2500 + \u2500\u2500\u2500\u2500\u2500\u2500\u2500\u2500\u2500\u2500\u2500\u2500\u2500\u2500\u2500\u2500\u2500 + \u2500\u2500\u2500\u2500\u2500\u2500\u2500\u2500\u2500\u2500\u2500\u2500\u2500\u2500\u2500\u2500\u2500 + \u2500\u2500\u2500\u2500\u2500\u2500\u2500\u2500\u2500\u2500\u2500\u2500\u2500\u2500\u2500\u2500\u2500 \n        5                   15                 45\u22c5a                45\u22c5a       \n                                                                              \n\n     \u239b   2  2\u22c5\u2148\u22c5\u03c0\u239e      \u239b   2  2\u22c5\u2148\u22c5\u03c0\u239e\n  4\u22c5E\u239da\u22c5z \u22c5\u212f     \u23a0   4\u22c5K\u239da\u22c5z \u22c5\u212f     \u23a0\n+ \u2500\u2500\u2500\u2500\u2500\u2500\u2500\u2500\u2500\u2500\u2500\u2500\u2500\u2500\u2500\u2500 - \u2500\u2500\u2500\u2500\u2500\u2500\u2500\u2500\u2500\u2500\u2500\u2500\u2500\u2500\u2500\u2500\n           2                  2      \n       45\u22c5a               45\u22c5a       "
      }
     ],
     "prompt_number": 41
    },
    {
     "cell_type": "code",
     "collapsed": false,
     "input": "integrate(z**5 * E(a*z**2), z, meijerg=True)",
     "language": "python",
     "metadata": {},
     "outputs": [
      {
       "metadata": {},
       "output_type": "pyout",
       "png": "[encoded data removed]",
       "prompt_number": 42,
       "text": "\n 6  \u239b   2  2\u22c5\u2148\u22c5\u03c0\u239e    6  \u239b   2  2\u22c5\u2148\u22c5\u03c0\u239e    4  \u239b   2  2\u22c5\u2148\u22c5\u03c0\u239e    4  \u239b   2  2\u22c5\u2148\u22c5\u03c0\u239e \nz \u22c5E\u239da\u22c5z \u22c5\u212f     \u23a0   z \u22c5K\u239da\u22c5z \u22c5\u212f     \u23a0   z \u22c5E\u239da\u22c5z \u22c5\u212f     \u23a0   z \u22c5K\u239da\u22c5z \u22c5\u212f     \u23a0 \n\u2500\u2500\u2500\u2500\u2500\u2500\u2500\u2500\u2500\u2500\u2500\u2500\u2500\u2500\u2500\u2500\u2500 + \u2500\u2500\u2500\u2500\u2500\u2500\u2500\u2500\u2500\u2500\u2500\u2500\u2500\u2500\u2500\u2500\u2500 + \u2500\u2500\u2500\u2500\u2500\u2500\u2500\u2500\u2500\u2500\u2500\u2500\u2500\u2500\u2500\u2500\u2500 + \u2500\u2500\u2500\u2500\u2500\u2500\u2500\u2500\u2500\u2500\u2500\u2500\u2500\u2500\u2500\u2500\u2500 \n        7                   35                175\u22c5a               525\u22c5a       \n                                                                              \n\n      2  \u239b   2  2\u22c5\u2148\u22c5\u03c0\u239e       2  \u239b   2  2\u22c5\u2148\u22c5\u03c0\u239e       \u239b   2  2\u22c5\u2148\u22c5\u03c0\u239e       \u239b   2 \n  16\u22c5z \u22c5E\u239da\u22c5z \u22c5\u212f     \u23a0   16\u22c5z \u22c5K\u239da\u22c5z \u22c5\u212f     \u23a0   64\u22c5E\u239da\u22c5z \u22c5\u212f     \u23a0   64\u22c5K\u239da\u22c5z \u22c5\n+ \u2500\u2500\u2500\u2500\u2500\u2500\u2500\u2500\u2500\u2500\u2500\u2500\u2500\u2500\u2500\u2500\u2500\u2500\u2500\u2500 + \u2500\u2500\u2500\u2500\u2500\u2500\u2500\u2500\u2500\u2500\u2500\u2500\u2500\u2500\u2500\u2500\u2500\u2500\u2500\u2500 + \u2500\u2500\u2500\u2500\u2500\u2500\u2500\u2500\u2500\u2500\u2500\u2500\u2500\u2500\u2500\u2500\u2500 - \u2500\u2500\u2500\u2500\u2500\u2500\u2500\u2500\u2500\u2500\n              2                      2                     3                  \n        1575\u22c5a                 1575\u22c5a                1575\u22c5a              1575\u22c5\n\n 2\u22c5\u2148\u22c5\u03c0\u239e\n\u212f     \u23a0\n\u2500\u2500\u2500\u2500\u2500\u2500\u2500\n 3     \na      "
      }
     ],
     "prompt_number": 42
    },
    {
     "cell_type": "code",
     "collapsed": false,
     "input": "integrate(E(a*z**2), z, meijerg=True)",
     "language": "python",
     "metadata": {},
     "outputs": [
      {
       "metadata": {},
       "output_type": "pyout",
       "png": "[encoded data removed]",
       "prompt_number": 43,
       "text": "\n     \u250c\u2500  \u239b-1/2, 1/2, 1/2 \u2502    2  2\u22c5\u2148\u22c5\u03c0\u239e\n\u03c0\u22c5z\u22c5 \u251c\u2500  \u239c               \u2502 a\u22c5z \u22c5\u212f     \u239f\n    3\u2575 2 \u239d    1, 3/2     \u2502            \u23a0\n\u2500\u2500\u2500\u2500\u2500\u2500\u2500\u2500\u2500\u2500\u2500\u2500\u2500\u2500\u2500\u2500\u2500\u2500\u2500\u2500\u2500\u2500\u2500\u2500\u2500\u2500\u2500\u2500\u2500\u2500\u2500\u2500\u2500\u2500\u2500\u2500\u2500\u2500\u2500\n                   2                   "
      }
     ],
     "prompt_number": 43
    },
    {
     "cell_type": "code",
     "collapsed": false,
     "input": "integrate(E(a*z**2) / z, z, meijerg=True)",
     "language": "python",
     "metadata": {},
     "outputs": [
      {
       "metadata": {},
       "output_type": "pyout",
       "png": "[encoded data removed]",
       "prompt_number": 44,
       "text": "\n       2  \u250c\u2500  \u239b1/2, 1, 1, 3/2 \u2502    2  2\u22c5\u2148\u22c5\u03c0\u239e              \n  \u03c0\u22c5a\u22c5z \u22c5 \u251c\u2500  \u239c               \u2502 a\u22c5z \u22c5\u212f     \u239f        \u239b   2\u239e\n         4\u2575 3 \u239d   2, 2, 2     \u2502            \u23a0   \u03c0\u22c5log\u239da\u22c5z \u23a0\n- \u2500\u2500\u2500\u2500\u2500\u2500\u2500\u2500\u2500\u2500\u2500\u2500\u2500\u2500\u2500\u2500\u2500\u2500\u2500\u2500\u2500\u2500\u2500\u2500\u2500\u2500\u2500\u2500\u2500\u2500\u2500\u2500\u2500\u2500\u2500\u2500\u2500\u2500\u2500\u2500\u2500\u2500 + \u2500\u2500\u2500\u2500\u2500\u2500\u2500\u2500\u2500\u2500\u2500\n                      16                            4     "
      }
     ],
     "prompt_number": 44
    },
    {
     "cell_type": "code",
     "collapsed": false,
     "input": "integrate(E(a*z**2) / z**2, z, meijerg=True)",
     "language": "python",
     "metadata": {},
     "outputs": [
      {
       "metadata": {},
       "output_type": "pyout",
       "png": "[encoded data removed]",
       "prompt_number": 45,
       "text": "\n                          \u239b   2  2\u22c5\u2148\u22c5\u03c0\u239e    \u239b   2  2\u22c5\u2148\u22c5\u03c0\u239e\n       \u239b   2  2\u22c5\u2148\u22c5\u03c0\u239e   2\u22c5E\u239da\u22c5z \u22c5\u212f     \u23a0   K\u239da\u22c5z \u22c5\u212f     \u23a0\n- a\u22c5z\u22c5K\u239da\u22c5z \u22c5\u212f     \u23a0 - \u2500\u2500\u2500\u2500\u2500\u2500\u2500\u2500\u2500\u2500\u2500\u2500\u2500\u2500\u2500\u2500 + \u2500\u2500\u2500\u2500\u2500\u2500\u2500\u2500\u2500\u2500\u2500\u2500\u2500\u2500\n                              z                 z       "
      }
     ],
     "prompt_number": 45
    },
    {
     "cell_type": "code",
     "collapsed": false,
     "input": "integrate(E(a*z**2) / z**3, z, meijerg=True)",
     "language": "python",
     "metadata": {},
     "outputs": [
      {
       "metadata": {},
       "output_type": "pyout",
       "png": "[encoded data removed]",
       "prompt_number": 46,
       "text": "\n       2  2  \u250c\u2500  \u239b1, 1, 3/2, 5/2 \u2502    2  2\u22c5\u2148\u22c5\u03c0\u239e                       \n  3\u22c5\u03c0\u22c5a \u22c5z \u22c5 \u251c\u2500  \u239c               \u2502 a\u22c5z \u22c5\u212f     \u239f          \u239b   2\u239e       \n            4\u2575 3 \u239d   2, 3, 3     \u2502            \u23a0   \u03c0\u22c5a\u22c5log\u239da\u22c5z \u23a0    \u03c0  \n- \u2500\u2500\u2500\u2500\u2500\u2500\u2500\u2500\u2500\u2500\u2500\u2500\u2500\u2500\u2500\u2500\u2500\u2500\u2500\u2500\u2500\u2500\u2500\u2500\u2500\u2500\u2500\u2500\u2500\u2500\u2500\u2500\u2500\u2500\u2500\u2500\u2500\u2500\u2500\u2500\u2500\u2500\u2500\u2500\u2500 - \u2500\u2500\u2500\u2500\u2500\u2500\u2500\u2500\u2500\u2500\u2500\u2500\u2500 - \u2500\u2500\u2500\u2500\n                       256                              16           2\n                                                                  4\u22c5z "
      }
     ],
     "prompt_number": 46
    },
    {
     "cell_type": "code",
     "collapsed": false,
     "input": "integrate(E(a*z**2) / z**4, z, meijerg=True)",
     "language": "python",
     "metadata": {},
     "outputs": [
      {
       "metadata": {},
       "output_type": "pyout",
       "png": "[encoded data removed]",
       "prompt_number": 47,
       "text": "\n     \u239b   2  2\u22c5\u2148\u22c5\u03c0\u239e      \u239b   2  2\u22c5\u2148\u22c5\u03c0\u239e      \u239b   2  2\u22c5\u2148\u22c5\u03c0\u239e    \u239b   2  2\u22c5\u2148\u22c5\u03c0\u239e\n2\u22c5a\u22c5E\u239da\u22c5z \u22c5\u212f     \u23a0   a\u22c5K\u239da\u22c5z \u22c5\u212f     \u23a0   4\u22c5E\u239da\u22c5z \u22c5\u212f     \u23a0   K\u239da\u22c5z \u22c5\u212f     \u23a0\n\u2500\u2500\u2500\u2500\u2500\u2500\u2500\u2500\u2500\u2500\u2500\u2500\u2500\u2500\u2500\u2500\u2500\u2500 - \u2500\u2500\u2500\u2500\u2500\u2500\u2500\u2500\u2500\u2500\u2500\u2500\u2500\u2500\u2500\u2500 - \u2500\u2500\u2500\u2500\u2500\u2500\u2500\u2500\u2500\u2500\u2500\u2500\u2500\u2500\u2500\u2500 + \u2500\u2500\u2500\u2500\u2500\u2500\u2500\u2500\u2500\u2500\u2500\u2500\u2500\u2500\n       9\u22c5z                 9\u22c5z                   3                 3     \n                                              9\u22c5z               9\u22c5z      "
      }
     ],
     "prompt_number": 47
    },
    {
     "cell_type": "code",
     "collapsed": false,
     "input": "integrate(E(z**2) / (1-z**2), z, meijerg=True)",
     "language": "python",
     "metadata": {},
     "outputs": [
      {
       "metadata": {},
       "output_type": "pyout",
       "png": "[encoded data removed]",
       "prompt_number": 48,
       "text": "\n\u2320            \n\u23ae   \u239b 2\u239e     \n\u23ae  E\u239dz \u23a0     \n\u23ae \u2500\u2500\u2500\u2500\u2500\u2500\u2500\u2500 dz\n\u23ae    2       \n\u23ae - z  + 1   \n\u2321            "
      }
     ],
     "prompt_number": 48
    },
    {
     "cell_type": "code",
     "collapsed": false,
     "input": "integrate(z * E(z**2) / (1-z**2), z, meijerg=True)",
     "language": "python",
     "metadata": {},
     "outputs": [
      {
       "metadata": {},
       "output_type": "pyout",
       "png": "[encoded data removed]",
       "prompt_number": 49,
       "text": "\n\u2320            \n\u23ae    \u239b 2\u239e    \n\u23ae z\u22c5E\u239dz \u23a0    \n\u23ae \u2500\u2500\u2500\u2500\u2500\u2500\u2500\u2500 dz\n\u23ae    2       \n\u23ae - z  + 1   \n\u2321            "
      }
     ],
     "prompt_number": 49
    },
    {
     "cell_type": "code",
     "collapsed": false,
     "input": "integrate(z**3 * E(z**2) / (1-z**2), z, meijerg=True)",
     "language": "python",
     "metadata": {},
     "outputs": [
      {
       "metadata": {},
       "output_type": "pyout",
       "png": "[encoded data removed]",
       "prompt_number": 50,
       "text": "\n\u2320            \n\u23ae  3  \u239b 2\u239e   \n\u23ae z \u22c5E\u239dz \u23a0   \n\u23ae \u2500\u2500\u2500\u2500\u2500\u2500\u2500\u2500 dz\n\u23ae    2       \n\u23ae - z  + 1   \n\u2321            "
      }
     ],
     "prompt_number": 50
    },
    {
     "cell_type": "code",
     "collapsed": false,
     "input": "integrate(E(z**2) / (z**2 * (1-z**2)), z, meijerg=True)",
     "language": "python",
     "metadata": {},
     "outputs": [
      {
       "metadata": {},
       "output_type": "pyout",
       "png": "[encoded data removed]",
       "prompt_number": 51,
       "text": "\n\u2320                 \n\u23ae      \u239b 2\u239e       \n\u23ae     E\u239dz \u23a0       \n\u23ae \u2500\u2500\u2500\u2500\u2500\u2500\u2500\u2500\u2500\u2500\u2500\u2500\u2500 dz\n\u23ae  2 \u239b   2    \u239e   \n\u23ae z \u22c5\u239d- z  + 1\u23a0   \n\u2321                 "
      }
     ],
     "prompt_number": 51
    },
    {
     "cell_type": "code",
     "collapsed": false,
     "input": "integrate(z * E(z**2) / (1-z**2)**(3*S.Half), z, meijerg=True)",
     "language": "python",
     "metadata": {},
     "outputs": [
      {
       "metadata": {},
       "output_type": "pyout",
       "png": "[encoded data removed]",
       "prompt_number": 52,
       "text": "\n\u2320                 \n\u23ae       \u239b 2\u239e      \n\u23ae    z\u22c5E\u239dz \u23a0      \n\u23ae \u2500\u2500\u2500\u2500\u2500\u2500\u2500\u2500\u2500\u2500\u2500\u2500\u2500 dz\n\u23ae           3/2   \n\u23ae \u239b   2    \u239e      \n\u23ae \u239d- z  + 1\u23a0      \n\u2321                 "
      }
     ],
     "prompt_number": 52
    },
    {
     "cell_type": "code",
     "collapsed": false,
     "input": "integrate(z * E(z**2) / (1-z**2)**(5*S.Half), z, meijerg=True)",
     "language": "python",
     "metadata": {},
     "outputs": [
      {
       "metadata": {},
       "output_type": "pyout",
       "png": "[encoded data removed]",
       "prompt_number": 53,
       "text": "\n\u2320                 \n\u23ae       \u239b 2\u239e      \n\u23ae    z\u22c5E\u239dz \u23a0      \n\u23ae \u2500\u2500\u2500\u2500\u2500\u2500\u2500\u2500\u2500\u2500\u2500\u2500\u2500 dz\n\u23ae           5/2   \n\u23ae \u239b   2    \u239e      \n\u23ae \u239d- z  + 1\u23a0      \n\u2321                 "
      }
     ],
     "prompt_number": 53
    },
    {
     "cell_type": "code",
     "collapsed": false,
     "input": "integrate(E(a*z**4), z, meijerg=True)",
     "language": "python",
     "metadata": {},
     "outputs": [
      {
       "metadata": {},
       "output_type": "pyout",
       "png": "[encoded data removed]",
       "prompt_number": 54,
       "text": "\n              \u2148\u22c5\u03c0                                           \n              \u2500\u2500\u2500                                           \n     3/4       4          \u250c\u2500  \u239b-1/2, 1/4, 1/2 \u2502    4  2\u22c5\u2148\u22c5\u03c0\u239e\n-(-1)   \u22c5\u03c0\u22c5z\u22c5\u212f   \u22c5\u0393(1/4)\u22c5 \u251c\u2500  \u239c               \u2502 a\u22c5z \u22c5\u212f     \u239f\n                         3\u2575 2 \u239d    1, 5/4     \u2502            \u23a0\n\u2500\u2500\u2500\u2500\u2500\u2500\u2500\u2500\u2500\u2500\u2500\u2500\u2500\u2500\u2500\u2500\u2500\u2500\u2500\u2500\u2500\u2500\u2500\u2500\u2500\u2500\u2500\u2500\u2500\u2500\u2500\u2500\u2500\u2500\u2500\u2500\u2500\u2500\u2500\u2500\u2500\u2500\u2500\u2500\u2500\u2500\u2500\u2500\u2500\u2500\u2500\u2500\u2500\u2500\u2500\u2500\u2500\u2500\u2500\u2500\n                          8\u22c5\u0393(5/4)                          "
      }
     ],
     "prompt_number": 54
    },
    {
     "cell_type": "code",
     "collapsed": false,
     "input": "combsimp(_)",
     "language": "python",
     "metadata": {},
     "outputs": [
      {
       "metadata": {},
       "output_type": "pyout",
       "png": "[encoded data removed]",
       "prompt_number": 55,
       "text": "\n              \u2148\u22c5\u03c0                                           \n              \u2500\u2500\u2500                                           \n     3/4       4          \u250c\u2500  \u239b-1/2, 1/4, 1/2 \u2502    4  2\u22c5\u2148\u22c5\u03c0\u239e\n-(-1)   \u22c5\u03c0\u22c5z\u22c5\u212f   \u22c5\u0393(1/4)\u22c5 \u251c\u2500  \u239c               \u2502 a\u22c5z \u22c5\u212f     \u239f\n                         3\u2575 2 \u239d    1, 5/4     \u2502            \u23a0\n\u2500\u2500\u2500\u2500\u2500\u2500\u2500\u2500\u2500\u2500\u2500\u2500\u2500\u2500\u2500\u2500\u2500\u2500\u2500\u2500\u2500\u2500\u2500\u2500\u2500\u2500\u2500\u2500\u2500\u2500\u2500\u2500\u2500\u2500\u2500\u2500\u2500\u2500\u2500\u2500\u2500\u2500\u2500\u2500\u2500\u2500\u2500\u2500\u2500\u2500\u2500\u2500\u2500\u2500\u2500\u2500\u2500\u2500\u2500\u2500\n                          8\u22c5\u0393(5/4)                          "
      }
     ],
     "prompt_number": 55
    },
    {
     "cell_type": "code",
     "collapsed": false,
     "input": "integrate(K(a*z**c), z, meijerg=True)",
     "language": "python",
     "metadata": {},
     "outputs": [
      {
       "metadata": {},
       "output_type": "pyout",
       "png": "[encoded data removed]",
       "prompt_number": 56,
       "text": "\n              \u239b          1 \u2502            \u239e\n              \u239c1/2, 1/2, \u2500 \u2502            \u239f\n     \u239b1\u239e  \u250c\u2500  \u239c          c \u2502    c  2\u22c5\u2148\u22c5\u03c0\u239f\n\u03c0\u22c5z\u22c5\u0393\u239c\u2500\u239f\u22c5 \u251c\u2500  \u239c            \u2502 a\u22c5z \u22c5\u212f     \u239f\n     \u239dc\u23a0 3\u2575 2 \u239c         1  \u2502            \u239f\n              \u239c  1, 1 + \u2500  \u2502            \u239f\n              \u239d         c  \u2502            \u23a0\n\u2500\u2500\u2500\u2500\u2500\u2500\u2500\u2500\u2500\u2500\u2500\u2500\u2500\u2500\u2500\u2500\u2500\u2500\u2500\u2500\u2500\u2500\u2500\u2500\u2500\u2500\u2500\u2500\u2500\u2500\u2500\u2500\u2500\u2500\u2500\u2500\u2500\u2500\u2500\u2500\u2500\n                    \u239b    1\u239e              \n               2\u22c5c\u22c5\u0393\u239c1 + \u2500\u239f              \n                    \u239d    c\u23a0              "
      }
     ],
     "prompt_number": 56
    },
    {
     "cell_type": "code",
     "collapsed": false,
     "input": "integrate(K(a*z**c) / z**b, z, meijerg=True)",
     "language": "python",
     "metadata": {},
     "outputs": [
      {
       "metadata": {},
       "output_type": "pyout",
       "png": "[encoded data removed]",
       "prompt_number": 57,
       "text": "\n                        \u239b            b   1 \u2502            \u239e\n                        \u239c1/2, 1/2, - \u2500 + \u2500 \u2502            \u239f\n     -b  \u239b  b   1\u239e  \u250c\u2500  \u239c            c   c \u2502    c  2\u22c5\u2148\u22c5\u03c0\u239f\n\u03c0\u22c5z\u22c5z  \u22c5\u0393\u239c- \u2500 + \u2500\u239f\u22c5 \u251c\u2500  \u239c                  \u2502 a\u22c5z \u22c5\u212f     \u239f\n         \u239d  c   c\u23a0 3\u2575 2 \u239c       b       1  \u2502            \u239f\n                        \u239c  1, - \u2500 + 1 + \u2500  \u2502            \u239f\n                        \u239d       c       c  \u2502            \u23a0\n\u2500\u2500\u2500\u2500\u2500\u2500\u2500\u2500\u2500\u2500\u2500\u2500\u2500\u2500\u2500\u2500\u2500\u2500\u2500\u2500\u2500\u2500\u2500\u2500\u2500\u2500\u2500\u2500\u2500\u2500\u2500\u2500\u2500\u2500\u2500\u2500\u2500\u2500\u2500\u2500\u2500\u2500\u2500\u2500\u2500\u2500\u2500\u2500\u2500\u2500\u2500\u2500\u2500\u2500\u2500\u2500\u2500\n                         \u239b  b       1\u239e                   \n                    2\u22c5c\u22c5\u0393\u239c- \u2500 + 1 + \u2500\u239f                   \n                         \u239d  c       c\u23a0                   "
      }
     ],
     "prompt_number": 57
    },
    {
     "cell_type": "code",
     "collapsed": false,
     "input": "combsimp(_)",
     "language": "python",
     "metadata": {},
     "outputs": [
      {
       "metadata": {},
       "output_type": "pyout",
       "png": "[encoded data removed]",
       "prompt_number": 58,
       "text": "\n              \u239b            b   1 \u2502            \u239e\n              \u239c1/2, 1/2, - \u2500 + \u2500 \u2502            \u239f\n      -b  \u250c\u2500  \u239c            c   c \u2502    c  2\u22c5\u2148\u22c5\u03c0\u239f\n-\u03c0\u22c5z\u22c5z  \u22c5 \u251c\u2500  \u239c                  \u2502 a\u22c5z \u22c5\u212f     \u239f\n         3\u2575 2 \u239c       b       1  \u2502            \u239f\n              \u239c  1, - \u2500 + 1 + \u2500  \u2502            \u239f\n              \u239d       c       c  \u2502            \u23a0\n\u2500\u2500\u2500\u2500\u2500\u2500\u2500\u2500\u2500\u2500\u2500\u2500\u2500\u2500\u2500\u2500\u2500\u2500\u2500\u2500\u2500\u2500\u2500\u2500\u2500\u2500\u2500\u2500\u2500\u2500\u2500\u2500\u2500\u2500\u2500\u2500\u2500\u2500\u2500\u2500\u2500\u2500\u2500\u2500\u2500\u2500\u2500\n                   2\u22c5(b - 1)                   "
      }
     ],
     "prompt_number": 58
    },
    {
     "cell_type": "code",
     "collapsed": false,
     "input": "# All in one forms",
     "language": "python",
     "metadata": {},
     "outputs": [],
     "prompt_number": 59
    },
    {
     "cell_type": "code",
     "collapsed": false,
     "input": "integrate(z**b * K(a*z**c) / z**d, z, meijerg=True)",
     "language": "python",
     "metadata": {},
     "outputs": [
      {
       "metadata": {},
       "output_type": "pyout",
       "png": "[encoded data removed]",
       "prompt_number": 60,
       "text": "\n                             \u239b          b   d   1 \u2502            \u239e\n                             \u239c1/2, 1/2, \u2500 - \u2500 + \u2500 \u2502            \u239f\n     b  -d  \u239bb   d   1\u239e  \u250c\u2500  \u239c          c   c   c \u2502    c  2\u22c5\u2148\u22c5\u03c0\u239f\n\u03c0\u22c5z\u22c5z \u22c5z  \u22c5\u0393\u239c\u2500 - \u2500 + \u2500\u239f\u22c5 \u251c\u2500  \u239c                    \u2502 a\u22c5z \u22c5\u212f     \u239f\n            \u239dc   c   c\u23a0 3\u2575 2 \u239c     b       d   1  \u2502            \u239f\n                             \u239c  1, \u2500 + 1 - \u2500 + \u2500  \u2502            \u239f\n                             \u239d     c       c   c  \u2502            \u23a0\n\u2500\u2500\u2500\u2500\u2500\u2500\u2500\u2500\u2500\u2500\u2500\u2500\u2500\u2500\u2500\u2500\u2500\u2500\u2500\u2500\u2500\u2500\u2500\u2500\u2500\u2500\u2500\u2500\u2500\u2500\u2500\u2500\u2500\u2500\u2500\u2500\u2500\u2500\u2500\u2500\u2500\u2500\u2500\u2500\u2500\u2500\u2500\u2500\u2500\u2500\u2500\u2500\u2500\u2500\u2500\u2500\u2500\u2500\u2500\u2500\u2500\u2500\u2500\u2500\n                           \u239bb       d   1\u239e                      \n                      2\u22c5c\u22c5\u0393\u239c\u2500 + 1 - \u2500 + \u2500\u239f                      \n                           \u239dc       c   c\u23a0                      "
      }
     ],
     "prompt_number": 60
    },
    {
     "cell_type": "code",
     "collapsed": false,
     "input": "combsimp(_)",
     "language": "python",
     "metadata": {},
     "outputs": [
      {
       "metadata": {},
       "output_type": "pyout",
       "png": "[encoded data removed]",
       "prompt_number": 61,
       "text": "\n                \u239b          b   d   1 \u2502            \u239e\n                \u239c1/2, 1/2, \u2500 - \u2500 + \u2500 \u2502            \u239f\n     b  -d  \u250c\u2500  \u239c          c   c   c \u2502    c  2\u22c5\u2148\u22c5\u03c0\u239f\n\u03c0\u22c5z\u22c5z \u22c5z  \u22c5 \u251c\u2500  \u239c                    \u2502 a\u22c5z \u22c5\u212f     \u239f\n           3\u2575 2 \u239c     b       d   1  \u2502            \u239f\n                \u239c  1, \u2500 + 1 - \u2500 + \u2500  \u2502            \u239f\n                \u239d     c       c   c  \u2502            \u23a0\n\u2500\u2500\u2500\u2500\u2500\u2500\u2500\u2500\u2500\u2500\u2500\u2500\u2500\u2500\u2500\u2500\u2500\u2500\u2500\u2500\u2500\u2500\u2500\u2500\u2500\u2500\u2500\u2500\u2500\u2500\u2500\u2500\u2500\u2500\u2500\u2500\u2500\u2500\u2500\u2500\u2500\u2500\u2500\u2500\u2500\u2500\u2500\u2500\u2500\u2500\u2500\n                   2\u22c5(b - d + 1)                   "
      }
     ],
     "prompt_number": 61
    },
    {
     "cell_type": "code",
     "collapsed": false,
     "input": "integrate(z**b * E(a*z**c) / z**d, z, meijerg=True)",
     "language": "python",
     "metadata": {},
     "outputs": [
      {
       "metadata": {},
       "output_type": "pyout",
       "png": "[encoded data removed]",
       "prompt_number": 62,
       "text": "\n                             \u239b           b   d   1 \u2502            \u239e\n                             \u239c-1/2, 1/2, \u2500 - \u2500 + \u2500 \u2502            \u239f\n     b  -d  \u239bb   d   1\u239e  \u250c\u2500  \u239c           c   c   c \u2502    c  2\u22c5\u2148\u22c5\u03c0\u239f\n\u03c0\u22c5z\u22c5z \u22c5z  \u22c5\u0393\u239c\u2500 - \u2500 + \u2500\u239f\u22c5 \u251c\u2500  \u239c                     \u2502 a\u22c5z \u22c5\u212f     \u239f\n            \u239dc   c   c\u23a0 3\u2575 2 \u239c     b       d   1   \u2502            \u239f\n                             \u239c  1, \u2500 + 1 - \u2500 + \u2500   \u2502            \u239f\n                             \u239d     c       c   c   \u2502            \u23a0\n\u2500\u2500\u2500\u2500\u2500\u2500\u2500\u2500\u2500\u2500\u2500\u2500\u2500\u2500\u2500\u2500\u2500\u2500\u2500\u2500\u2500\u2500\u2500\u2500\u2500\u2500\u2500\u2500\u2500\u2500\u2500\u2500\u2500\u2500\u2500\u2500\u2500\u2500\u2500\u2500\u2500\u2500\u2500\u2500\u2500\u2500\u2500\u2500\u2500\u2500\u2500\u2500\u2500\u2500\u2500\u2500\u2500\u2500\u2500\u2500\u2500\u2500\u2500\u2500\u2500\n                            \u239bb       d   1\u239e                      \n                       2\u22c5c\u22c5\u0393\u239c\u2500 + 1 - \u2500 + \u2500\u239f                      \n                            \u239dc       c   c\u23a0                      "
      }
     ],
     "prompt_number": 62
    },
    {
     "cell_type": "code",
     "collapsed": false,
     "input": "combsimp(_)",
     "language": "python",
     "metadata": {},
     "outputs": [
      {
       "metadata": {},
       "output_type": "pyout",
       "png": "[encoded data removed]",
       "prompt_number": 63,
       "text": "\n                \u239b           b   d   1 \u2502            \u239e\n                \u239c-1/2, 1/2, \u2500 - \u2500 + \u2500 \u2502            \u239f\n     b  -d  \u250c\u2500  \u239c           c   c   c \u2502    c  2\u22c5\u2148\u22c5\u03c0\u239f\n\u03c0\u22c5z\u22c5z \u22c5z  \u22c5 \u251c\u2500  \u239c                     \u2502 a\u22c5z \u22c5\u212f     \u239f\n           3\u2575 2 \u239c     b       d   1   \u2502            \u239f\n                \u239c  1, \u2500 + 1 - \u2500 + \u2500   \u2502            \u239f\n                \u239d     c       c   c   \u2502            \u23a0\n\u2500\u2500\u2500\u2500\u2500\u2500\u2500\u2500\u2500\u2500\u2500\u2500\u2500\u2500\u2500\u2500\u2500\u2500\u2500\u2500\u2500\u2500\u2500\u2500\u2500\u2500\u2500\u2500\u2500\u2500\u2500\u2500\u2500\u2500\u2500\u2500\u2500\u2500\u2500\u2500\u2500\u2500\u2500\u2500\u2500\u2500\u2500\u2500\u2500\u2500\u2500\u2500\n                   2\u22c5(b - d + 1)                    "
      }
     ],
     "prompt_number": 63
    },
    {
     "cell_type": "code",
     "collapsed": false,
     "input": "integrate(z**b * K(a*z**c) / (z**d + e*z**f), z, meijerg=True)",
     "language": "python",
     "metadata": {},
     "outputs": [
      {
       "metadata": {},
       "output_type": "pyout",
       "png": "[encoded data removed]",
       "prompt_number": 64,
       "text": "\n\u2320              \n\u23ae  b  \u239b   c\u239e   \n\u23ae z \u22c5K\u239da\u22c5z \u23a0   \n\u23ae \u2500\u2500\u2500\u2500\u2500\u2500\u2500\u2500\u2500\u2500 dz\n\u23ae    f    d    \n\u23ae e\u22c5z  + z     \n\u2321              "
      }
     ],
     "prompt_number": 64
    },
    {
     "cell_type": "code",
     "collapsed": false,
     "input": "integrate(z**b * E(a*z**c) / (z**d + e*z**f), z, meijerg=True)",
     "language": "python",
     "metadata": {},
     "outputs": [
      {
       "metadata": {},
       "output_type": "pyout",
       "png": "[encoded data removed]",
       "prompt_number": 65,
       "text": "\n\u2320              \n\u23ae  b  \u239b   c\u239e   \n\u23ae z \u22c5E\u239da\u22c5z \u23a0   \n\u23ae \u2500\u2500\u2500\u2500\u2500\u2500\u2500\u2500\u2500\u2500 dz\n\u23ae    f    d    \n\u23ae e\u22c5z  + z     \n\u2321              "
      }
     ],
     "prompt_number": 65
    },
    {
     "cell_type": "code",
     "collapsed": false,
     "input": "# Non-linear integrands",
     "language": "python",
     "metadata": {},
     "outputs": [],
     "prompt_number": 66
    },
    {
     "cell_type": "code",
     "collapsed": false,
     "input": "integrate(K(a*z)*K(b*z), z, meijerg=True)",
     "language": "python",
     "metadata": {},
     "outputs": [
      {
       "metadata": {},
       "output_type": "pyout",
       "png": "[encoded data removed]",
       "prompt_number": 67,
       "text": "\n\u2320                 \n\u23ae K(a\u22c5z)\u22c5K(b\u22c5z) dz\n\u2321                 "
      }
     ],
     "prompt_number": 67
    },
    {
     "cell_type": "code",
     "collapsed": false,
     "input": "integrate(K(a*z)*K(a*z), z, meijerg=True)",
     "language": "python",
     "metadata": {},
     "outputs": [
      {
       "metadata": {},
       "output_type": "pyout",
       "png": "[encoded data removed]",
       "prompt_number": 68,
       "text": "\n\u2320           \n\u23ae       2   \n\u23ae K(a\u22c5z)  dz\n\u2321           "
      }
     ],
     "prompt_number": 68
    },
    {
     "cell_type": "code",
     "collapsed": false,
     "input": "integrate(K(a*z)/K(b*z), z, meijerg=True)",
     "language": "python",
     "metadata": {},
     "outputs": [
      {
       "metadata": {},
       "output_type": "pyout",
       "png": "[encoded data removed]",
       "prompt_number": 69,
       "text": "\n\u2320          \n\u23ae K(a\u22c5z)   \n\u23ae \u2500\u2500\u2500\u2500\u2500\u2500 dz\n\u23ae K(b\u22c5z)   \n\u2321          "
      }
     ],
     "prompt_number": 69
    },
    {
     "cell_type": "code",
     "collapsed": false,
     "input": "integrate(E(a*z)*E(b*z), z, meijerg=True)",
     "language": "python",
     "metadata": {},
     "outputs": [
      {
       "metadata": {},
       "output_type": "pyout",
       "png": "[encoded data removed]",
       "prompt_number": 70,
       "text": "\n\u2320                 \n\u23ae E(a\u22c5z)\u22c5E(b\u22c5z) dz\n\u2321                 "
      }
     ],
     "prompt_number": 70
    },
    {
     "cell_type": "code",
     "collapsed": false,
     "input": "integrate(E(a*z)*E(a*z), z, meijerg=True)",
     "language": "python",
     "metadata": {},
     "outputs": [
      {
       "metadata": {},
       "output_type": "pyout",
       "png": "[encoded data removed]",
       "prompt_number": 71,
       "text": "\n\u2320           \n\u23ae       2   \n\u23ae E(a\u22c5z)  dz\n\u2321           "
      }
     ],
     "prompt_number": 71
    },
    {
     "cell_type": "code",
     "collapsed": false,
     "input": "integrate(E(a*z)/E(b*z), z, meijerg=True)",
     "language": "python",
     "metadata": {},
     "outputs": [
      {
       "metadata": {},
       "output_type": "pyout",
       "png": "[encoded data removed]",
       "prompt_number": 72,
       "text": "\n\u2320          \n\u23ae E(a\u22c5z)   \n\u23ae \u2500\u2500\u2500\u2500\u2500\u2500 dz\n\u23ae E(b\u22c5z)   \n\u2321          "
      }
     ],
     "prompt_number": 72
    },
    {
     "cell_type": "code",
     "collapsed": false,
     "input": "integrate(K(a*z)*E(b*z), z, meijerg=True)",
     "language": "python",
     "metadata": {},
     "outputs": [
      {
       "metadata": {},
       "output_type": "pyout",
       "png": "[encoded data removed]",
       "prompt_number": 73,
       "text": "\n\u2320                 \n\u23ae E(b\u22c5z)\u22c5K(a\u22c5z) dz\n\u2321                 "
      }
     ],
     "prompt_number": 73
    },
    {
     "cell_type": "code",
     "collapsed": false,
     "input": "integrate(K(a*z)*E(a*z), z, meijerg=True)",
     "language": "python",
     "metadata": {},
     "outputs": [
      {
       "metadata": {},
       "output_type": "pyout",
       "png": "[encoded data removed]",
       "prompt_number": 74,
       "text": "\n\u2320                 \n\u23ae E(a\u22c5z)\u22c5K(a\u22c5z) dz\n\u2321                 "
      }
     ],
     "prompt_number": 74
    },
    {
     "cell_type": "code",
     "collapsed": false,
     "input": "integrate(1/K(a*z), z, meijerg=True)",
     "language": "python",
     "metadata": {},
     "outputs": [
      {
       "metadata": {},
       "output_type": "pyout",
       "png": "[encoded data removed]",
       "prompt_number": 75,
       "text": "\n\u2320          \n\u23ae   1      \n\u23ae \u2500\u2500\u2500\u2500\u2500\u2500 dz\n\u23ae K(a\u22c5z)   \n\u2321          "
      }
     ],
     "prompt_number": 75
    },
    {
     "cell_type": "code",
     "collapsed": false,
     "input": "integrate(1/E(a*z), z, meijerg=True)",
     "language": "python",
     "metadata": {},
     "outputs": [
      {
       "metadata": {},
       "output_type": "pyout",
       "png": "[encoded data removed]",
       "prompt_number": 76,
       "text": "\n\u2320          \n\u23ae   1      \n\u23ae \u2500\u2500\u2500\u2500\u2500\u2500 dz\n\u23ae E(a\u22c5z)   \n\u2321          "
      }
     ],
     "prompt_number": 76
    }
   ],
   "metadata": {}
  }
 ]
}