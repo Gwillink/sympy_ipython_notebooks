{
 "metadata": {
  "name": "Erf_Integrals"
 },
 "nbformat": 3,
 "nbformat_minor": 0,
 "worksheets": [
  {
   "cells": [
    {
     "cell_type": "code",
     "collapsed": false,
     "input": "from sympy import *",
     "language": "python",
     "metadata": {},
     "outputs": [],
     "prompt_number": 1
    },
    {
     "cell_type": "code",
     "collapsed": false,
     "input": "z = Symbol(\"z\")",
     "language": "python",
     "metadata": {},
     "outputs": [],
     "prompt_number": 2
    },
    {
     "cell_type": "code",
     "collapsed": false,
     "input": "a = Symbol(\"a\", real=True)\nb = Symbol(\"b\", real=True)\nr = Symbol(\"r\")",
     "language": "python",
     "metadata": {},
     "outputs": [],
     "prompt_number": 3
    },
    {
     "cell_type": "code",
     "collapsed": false,
     "input": "n = Symbol(\"n\")",
     "language": "python",
     "metadata": {},
     "outputs": [],
     "prompt_number": 4
    },
    {
     "cell_type": "code",
     "collapsed": false,
     "input": "",
     "language": "python",
     "metadata": {},
     "outputs": [],
     "prompt_number": 4
    },
    {
     "cell_type": "code",
     "collapsed": false,
     "input": "integrate(erf(a+b*z), z)",
     "language": "python",
     "metadata": {},
     "outputs": [
      {
       "output_type": "pyout",
       "prompt_number": 5,
       "text": "a*erf(a + b*z)/b + z*erf(a + b*z) + exp(-a**2)*exp(-b**2*z**2)*exp(-2*a*b*z)/(sqrt(pi)*b)"
      }
     ],
     "prompt_number": 5
    },
    {
     "cell_type": "code",
     "collapsed": false,
     "input": "pprint(_)",
     "language": "python",
     "metadata": {},
     "outputs": [
      {
       "output_type": "stream",
       "stream": "stdout",
       "text": "                                     2    2  2          \n                                   -a   -b \u22c5z   -2\u22c5a\u22c5b\u22c5z\na\u22c5erf(a + b\u22c5z)                    \u212f   \u22c5\u212f      \u22c5\u212f        \n\u2500\u2500\u2500\u2500\u2500\u2500\u2500\u2500\u2500\u2500\u2500\u2500\u2500\u2500 + z\u22c5erf(a + b\u22c5z) + \u2500\u2500\u2500\u2500\u2500\u2500\u2500\u2500\u2500\u2500\u2500\u2500\u2500\u2500\u2500\u2500\u2500\u2500\u2500\u2500\u2500\u2500\n      b                                    ___          \n                                         \u2572\u2571 \u03c0 \u22c5b        \n"
      }
     ],
     "prompt_number": 6
    },
    {
     "cell_type": "code",
     "collapsed": false,
     "input": "simplify(diff(_, z))",
     "language": "python",
     "metadata": {},
     "outputs": [
      {
       "output_type": "pyout",
       "prompt_number": 7,
       "text": "erf(a + b*z)"
      }
     ],
     "prompt_number": 7
    },
    {
     "cell_type": "code",
     "collapsed": false,
     "input": "",
     "language": "python",
     "metadata": {},
     "outputs": [],
     "prompt_number": 7
    },
    {
     "cell_type": "code",
     "collapsed": false,
     "input": "integrate(z*erf(a*z), z)",
     "language": "python",
     "metadata": {},
     "outputs": [
      {
       "output_type": "pyout",
       "prompt_number": 8,
       "text": "z**2*erf(a*z)/2 + z*exp(-a**2*z**2)/(2*sqrt(pi)*a) - erf(a*z)/(4*a**2)"
      }
     ],
     "prompt_number": 8
    },
    {
     "cell_type": "code",
     "collapsed": false,
     "input": "pprint(_)",
     "language": "python",
     "metadata": {},
     "outputs": [
      {
       "output_type": "stream",
       "stream": "stdout",
       "text": "                   2  2           \n 2               -a \u22c5z            \nz \u22c5erf(a\u22c5z)   z\u22c5\u212f         erf(a\u22c5z)\n\u2500\u2500\u2500\u2500\u2500\u2500\u2500\u2500\u2500\u2500\u2500 + \u2500\u2500\u2500\u2500\u2500\u2500\u2500\u2500\u2500 - \u2500\u2500\u2500\u2500\u2500\u2500\u2500\u2500\n     2            ___          2  \n              2\u22c5\u2572\u2571 \u03c0 \u22c5a     4\u22c5a   \n"
      }
     ],
     "prompt_number": 9
    },
    {
     "cell_type": "code",
     "collapsed": false,
     "input": "",
     "language": "python",
     "metadata": {},
     "outputs": [],
     "prompt_number": 9
    },
    {
     "cell_type": "code",
     "collapsed": false,
     "input": "integrate(z**2*erf(a*z), z)",
     "language": "python",
     "metadata": {},
     "outputs": [
      {
       "output_type": "pyout",
       "prompt_number": 10,
       "text": "z**3*erf(a*z)/3 + z**2*exp(-a**2*z**2)/(3*sqrt(pi)*a) + exp(-a**2*z**2)/(3*sqrt(pi)*a**3)"
      }
     ],
     "prompt_number": 10
    },
    {
     "cell_type": "code",
     "collapsed": false,
     "input": "diff(_, z)",
     "language": "python",
     "metadata": {},
     "outputs": [
      {
       "output_type": "pyout",
       "prompt_number": 11,
       "text": "z**2*erf(a*z)"
      }
     ],
     "prompt_number": 11
    },
    {
     "cell_type": "code",
     "collapsed": false,
     "input": "",
     "language": "python",
     "metadata": {},
     "outputs": [],
     "prompt_number": 11
    },
    {
     "cell_type": "code",
     "collapsed": false,
     "input": "#integrate(z**n*erf(a*z), z)\n# With a the results get much more compliacted\nintegrate(z**n*erf(z), z)",
     "language": "python",
     "metadata": {},
     "outputs": [
      {
       "output_type": "pyout",
       "prompt_number": 12,
       "text": "sqrt(pi)*n*z*z**n*erf(z)*gamma(n/2 + 1)/(2*sqrt(pi)*n*gamma(n/2 + 2) + 2*sqrt(pi)*gamma(n/2 + 2)) - n*gamma(n/2 + 1)*lowergamma(n/2 + 1, z**2)/(2*sqrt(pi)*n*gamma(n/2 + 2) + 2*sqrt(pi)*gamma(n/2 + 2)) + 2*sqrt(pi)*z*z**n*erf(z)*gamma(n/2 + 1)/(2*sqrt(pi)*n*gamma(n/2 + 2) + 2*sqrt(pi)*gamma(n/2 + 2)) - 2*gamma(n/2 + 1)*lowergamma(n/2 + 1, z**2)/(2*sqrt(pi)*n*gamma(n/2 + 2) + 2*sqrt(pi)*gamma(n/2 + 2))"
      }
     ],
     "prompt_number": 12
    },
    {
     "cell_type": "code",
     "collapsed": false,
     "input": "simplify(_)",
     "language": "python",
     "metadata": {},
     "outputs": [
      {
       "output_type": "pyout",
       "prompt_number": 13,
       "text": "(sqrt(pi)*z**(n + 1)*erf(z) - lowergamma(n/2 + 1, z**2))/(sqrt(pi)*(n + 1))"
      }
     ],
     "prompt_number": 13
    },
    {
     "cell_type": "code",
     "collapsed": false,
     "input": "pprint(_)",
     "language": "python",
     "metadata": {},
     "outputs": [
      {
       "output_type": "stream",
       "stream": "stdout",
       "text": "  ___  n + 1           \u239bn       2\u239e\n\u2572\u2571 \u03c0 \u22c5z     \u22c5erf(z) - \u03b3\u239c\u2500 + 1, z \u239f\n                       \u239d2        \u23a0\n\u2500\u2500\u2500\u2500\u2500\u2500\u2500\u2500\u2500\u2500\u2500\u2500\u2500\u2500\u2500\u2500\u2500\u2500\u2500\u2500\u2500\u2500\u2500\u2500\u2500\u2500\u2500\u2500\u2500\u2500\u2500\u2500\u2500\u2500\n            ___                   \n          \u2572\u2571 \u03c0 \u22c5(n + 1)           \n"
      }
     ],
     "prompt_number": 14
    },
    {
     "cell_type": "code",
     "collapsed": false,
     "input": "simplify(diff(_, z))",
     "language": "python",
     "metadata": {},
     "outputs": [
      {
       "output_type": "pyout",
       "prompt_number": 15,
       "text": "(-2*z*(z**2)**(n/2)*exp(-z**2) + sqrt(pi)*z**n*(n + 1)*erf(z) + 2*z**(n + 1)*exp(-z**2))/(sqrt(pi)*(n + 1))"
      }
     ],
     "prompt_number": 15
    },
    {
     "cell_type": "code",
     "collapsed": false,
     "input": "powdenest(_, force=True)",
     "language": "python",
     "metadata": {},
     "outputs": [
      {
       "output_type": "pyout",
       "prompt_number": 16,
       "text": "z**n*erf(z)"
      }
     ],
     "prompt_number": 16
    },
    {
     "cell_type": "code",
     "collapsed": false,
     "input": "",
     "language": "python",
     "metadata": {},
     "outputs": [],
     "prompt_number": 16
    },
    {
     "cell_type": "code",
     "collapsed": false,
     "input": "integrate(z**n*erf(z)/z, z)",
     "language": "python",
     "metadata": {},
     "outputs": [
      {
       "output_type": "pyout",
       "prompt_number": 17,
       "text": "z**n*erf(z)*gamma(n/2 + 1/2)/(2*gamma(n/2 + 3/2)) - gamma(n/2 + 1/2)*lowergamma(n/2 + 1/2, z**2)/(2*sqrt(pi)*gamma(n/2 + 3/2)) + z**n*erf(z)*gamma(n/2 + 1/2)/(2*n*gamma(n/2 + 3/2)) - gamma(n/2 + 1/2)*lowergamma(n/2 + 1/2, z**2)/(2*sqrt(pi)*n*gamma(n/2 + 3/2))"
      }
     ],
     "prompt_number": 17
    },
    {
     "cell_type": "code",
     "collapsed": false,
     "input": "simplify(_)",
     "language": "python",
     "metadata": {},
     "outputs": [
      {
       "output_type": "pyout",
       "prompt_number": 18,
       "text": "(n + 1)*(sqrt(pi)*z**n*erf(z) - lowergamma(n/2 + 1/2, z**2))*gamma(n/2 + 1/2)/(2*sqrt(pi)*n*gamma(n/2 + 3/2))"
      }
     ],
     "prompt_number": 18
    },
    {
     "cell_type": "code",
     "collapsed": false,
     "input": "pprint(_)",
     "language": "python",
     "metadata": {},
     "outputs": [
      {
       "output_type": "stream",
       "stream": "stdout",
       "text": "        \u239b  ___  n           \u239bn   1   2\u239e\u239e  \u239bn   1\u239e\n(n + 1)\u22c5\u239c\u2572\u2571 \u03c0 \u22c5z \u22c5erf(z) - \u03b3\u239c\u2500 + \u2500, z \u239f\u239f\u22c5\u0393\u239c\u2500 + \u2500\u239f\n        \u239d                   \u239d2   2    \u23a0\u23a0  \u239d2   2\u23a0\n\u2500\u2500\u2500\u2500\u2500\u2500\u2500\u2500\u2500\u2500\u2500\u2500\u2500\u2500\u2500\u2500\u2500\u2500\u2500\u2500\u2500\u2500\u2500\u2500\u2500\u2500\u2500\u2500\u2500\u2500\u2500\u2500\u2500\u2500\u2500\u2500\u2500\u2500\u2500\u2500\u2500\u2500\u2500\u2500\u2500\u2500\u2500\u2500\u2500\n                    ___    \u239bn   3\u239e               \n                2\u22c5\u2572\u2571 \u03c0 \u22c5n\u22c5\u0393\u239c\u2500 + \u2500\u239f               \n                           \u239d2   2\u23a0               \n"
      }
     ],
     "prompt_number": 19
    },
    {
     "cell_type": "code",
     "collapsed": false,
     "input": "simplify(diff(_, z))",
     "language": "python",
     "metadata": {},
     "outputs": [
      {
       "output_type": "pyout",
       "prompt_number": 20,
       "text": "(sqrt(pi)*n*z**n*exp(z**2)*erf(z) - 2*z**2*(z**2)**(n/2 - 1/2) + 2*z**(n + 1))*exp(-z**2)/(sqrt(pi)*n*z)"
      }
     ],
     "prompt_number": 20
    },
    {
     "cell_type": "code",
     "collapsed": false,
     "input": "powdenest(_, force=True)",
     "language": "python",
     "metadata": {},
     "outputs": [
      {
       "output_type": "pyout",
       "prompt_number": 21,
       "text": "z**(n - 1)*erf(z)"
      }
     ],
     "prompt_number": 21
    },
    {
     "cell_type": "code",
     "collapsed": false,
     "input": "",
     "language": "python",
     "metadata": {},
     "outputs": [],
     "prompt_number": 21
    },
    {
     "cell_type": "code",
     "collapsed": false,
     "input": "# Same as above but this one takes forever\n#integrate(z**(n-1)*erf(z), z)",
     "language": "python",
     "metadata": {},
     "outputs": [],
     "prompt_number": 22
    },
    {
     "cell_type": "code",
     "collapsed": false,
     "input": "",
     "language": "python",
     "metadata": {},
     "outputs": [],
     "prompt_number": 22
    },
    {
     "cell_type": "code",
     "collapsed": false,
     "input": "integrate(erf(a*z)/z, z)",
     "language": "python",
     "metadata": {},
     "outputs": [
      {
       "output_type": "pyout",
       "prompt_number": 23,
       "text": "2*a*z*hyper((1/2, 1/2), (3/2, 3/2), -a**2*z**2)/sqrt(pi)"
      }
     ],
     "prompt_number": 23
    },
    {
     "cell_type": "code",
     "collapsed": false,
     "input": "pprint(_)",
     "language": "python",
     "metadata": {},
     "outputs": [
      {
       "output_type": "stream",
       "stream": "stdout",
       "text": "       \u250c\u2500  \u239b1/2, 1/2 \u2502   2  2\u239e\n2\u22c5a\u22c5z\u22c5 \u251c\u2500  \u239c         \u2502 -a \u22c5z \u239f\n      2\u2575 2 \u239d3/2, 3/2 \u2502       \u23a0\n\u2500\u2500\u2500\u2500\u2500\u2500\u2500\u2500\u2500\u2500\u2500\u2500\u2500\u2500\u2500\u2500\u2500\u2500\u2500\u2500\u2500\u2500\u2500\u2500\u2500\u2500\u2500\u2500\u2500\u2500\n              ___             \n            \u2572\u2571 \u03c0              \n"
      }
     ],
     "prompt_number": 24
    },
    {
     "cell_type": "code",
     "collapsed": false,
     "input": "diff(_, z)",
     "language": "python",
     "metadata": {},
     "outputs": [
      {
       "output_type": "pyout",
       "prompt_number": 25,
       "text": "-4*a**3*z**2*hyper((3/2, 3/2), (5/2, 5/2), -a**2*z**2)/(9*sqrt(pi)) + 2*a*hyper((1/2, 1/2), (3/2, 3/2), -a**2*z**2)/sqrt(pi)"
      }
     ],
     "prompt_number": 25
    },
    {
     "cell_type": "code",
     "collapsed": false,
     "input": "simplify(_)",
     "language": "python",
     "metadata": {},
     "outputs": [
      {
       "output_type": "pyout",
       "prompt_number": 26,
       "text": "2*a*(-2*a**2*z**2*hyper((3/2, 3/2), (5/2, 5/2), -a**2*z**2) + 9*hyper((1/2, 1/2), (3/2, 3/2), -a**2*z**2))/(9*sqrt(pi))"
      }
     ],
     "prompt_number": 26
    },
    {
     "cell_type": "code",
     "collapsed": false,
     "input": "hyperexpand(_)",
     "language": "python",
     "metadata": {},
     "outputs": [
      {
       "output_type": "pyout",
       "prompt_number": 27,
       "text": "2*a*(-2*a**2*z**2*hyper((3/2, 3/2), (5/2, 5/2), -a**2*z**2) + 9*hyper((1/2, 1/2), (3/2, 3/2), -a**2*z**2))/(9*sqrt(pi))"
      }
     ],
     "prompt_number": 27
    },
    {
     "cell_type": "code",
     "collapsed": false,
     "input": "pprint(_)",
     "language": "python",
     "metadata": {},
     "outputs": [
      {
       "output_type": "stream",
       "stream": "stdout",
       "text": "    \u239b     2  2  \u250c\u2500  \u239b3/2, 3/2 \u2502   2  2\u239e      \u250c\u2500  \u239b1/2, 1/2 \u2502   2  2\u239e\u239e\n2\u22c5a\u22c5\u239c- 2\u22c5a \u22c5z \u22c5 \u251c\u2500  \u239c         \u2502 -a \u22c5z \u239f + 9\u22c5 \u251c\u2500  \u239c         \u2502 -a \u22c5z \u239f\u239f\n    \u239d          2\u2575 2 \u239d5/2, 5/2 \u2502       \u23a0     2\u2575 2 \u239d3/2, 3/2 \u2502       \u23a0\u23a0\n\u2500\u2500\u2500\u2500\u2500\u2500\u2500\u2500\u2500\u2500\u2500\u2500\u2500\u2500\u2500\u2500\u2500\u2500\u2500\u2500\u2500\u2500\u2500\u2500\u2500\u2500\u2500\u2500\u2500\u2500\u2500\u2500\u2500\u2500\u2500\u2500\u2500\u2500\u2500\u2500\u2500\u2500\u2500\u2500\u2500\u2500\u2500\u2500\u2500\u2500\u2500\u2500\u2500\u2500\u2500\u2500\u2500\u2500\u2500\u2500\u2500\u2500\u2500\u2500\u2500\u2500\u2500\u2500\u2500\n                                   ___                               \n                               9\u22c5\u2572\u2571 \u03c0                                \n"
      }
     ],
     "prompt_number": 28
    },
    {
     "cell_type": "code",
     "collapsed": false,
     "input": "",
     "language": "python",
     "metadata": {},
     "outputs": [],
     "prompt_number": 28
    },
    {
     "cell_type": "code",
     "collapsed": false,
     "input": "integrate(erf(a*z)/z**2, z)",
     "language": "python",
     "metadata": {},
     "outputs": [
      {
       "output_type": "pyout",
       "prompt_number": 29,
       "text": "-a*expint(1, a**2*z**2)/sqrt(pi) - erf(a*z)/z"
      }
     ],
     "prompt_number": 29
    },
    {
     "cell_type": "code",
     "collapsed": false,
     "input": "pprint(_)",
     "language": "python",
     "metadata": {},
     "outputs": [
      {
       "output_type": "stream",
       "stream": "stdout",
       "text": "      \u239b 2  2\u239e           \n  a\u22c5E\u2081\u239da \u22c5z \u23a0   erf(a\u22c5z)\n- \u2500\u2500\u2500\u2500\u2500\u2500\u2500\u2500\u2500\u2500\u2500 - \u2500\u2500\u2500\u2500\u2500\u2500\u2500\u2500\n       ___         z    \n     \u2572\u2571 \u03c0               \n"
      }
     ],
     "prompt_number": 30
    },
    {
     "cell_type": "code",
     "collapsed": false,
     "input": "",
     "language": "python",
     "metadata": {},
     "outputs": [],
     "prompt_number": 30
    },
    {
     "cell_type": "code",
     "collapsed": false,
     "input": "integrate(erf(a*z)/z**n, z)",
     "language": "python",
     "metadata": {},
     "outputs": [
      {
       "output_type": "pyout",
       "prompt_number": 31,
       "text": "sqrt(pi)*a*n*z*z**(-n)*erf(a*z)*gamma(-n/2 + 1)/(2*sqrt(pi)*a*n*gamma(-n/2 + 2) - 2*sqrt(pi)*a*gamma(-n/2 + 2)) - 2*sqrt(pi)*a*z*z**(-n)*erf(a*z)*gamma(-n/2 + 1)/(2*sqrt(pi)*a*n*gamma(-n/2 + 2) - 2*sqrt(pi)*a*gamma(-n/2 + 2)) - a**n*n*gamma(-n/2 + 1)*lowergamma(-n/2 + 1, a**2*z**2)/(2*sqrt(pi)*a*n*gamma(-n/2 + 2) - 2*sqrt(pi)*a*gamma(-n/2 + 2)) + 2*a**n*gamma(-n/2 + 1)*lowergamma(-n/2 + 1, a**2*z**2)/(2*sqrt(pi)*a*n*gamma(-n/2 + 2) - 2*sqrt(pi)*a*gamma(-n/2 + 2))"
      }
     ],
     "prompt_number": 31
    },
    {
     "cell_type": "code",
     "collapsed": false,
     "input": "simplify(_)",
     "language": "python",
     "metadata": {},
     "outputs": [
      {
       "output_type": "pyout",
       "prompt_number": 32,
       "text": "z**(-n)*(-sqrt(pi)*a*z*erf(a*z) + a**n*z**n*lowergamma(-n/2 + 1, a**2*z**2))/(sqrt(pi)*a*(n - 1))"
      }
     ],
     "prompt_number": 32
    },
    {
     "cell_type": "code",
     "collapsed": false,
     "input": "pprint(_)",
     "language": "python",
     "metadata": {},
     "outputs": [
      {
       "output_type": "stream",
       "stream": "stdout",
       "text": " -n \u239b    ___                 n  n  \u239b  n       2  2\u239e\u239e\nz  \u22c5\u239c- \u2572\u2571 \u03c0 \u22c5a\u22c5z\u22c5erf(a\u22c5z) + a \u22c5z \u22c5\u03b3\u239c- \u2500 + 1, a \u22c5z \u239f\u239f\n    \u239d                              \u239d  2           \u23a0\u23a0\n\u2500\u2500\u2500\u2500\u2500\u2500\u2500\u2500\u2500\u2500\u2500\u2500\u2500\u2500\u2500\u2500\u2500\u2500\u2500\u2500\u2500\u2500\u2500\u2500\u2500\u2500\u2500\u2500\u2500\u2500\u2500\u2500\u2500\u2500\u2500\u2500\u2500\u2500\u2500\u2500\u2500\u2500\u2500\u2500\u2500\u2500\u2500\u2500\u2500\u2500\u2500\u2500\n                    ___                             \n                  \u2572\u2571 \u03c0 \u22c5a\u22c5(n - 1)                   \n"
      }
     ],
     "prompt_number": 33
    },
    {
     "cell_type": "code",
     "collapsed": false,
     "input": "diff(_, z)",
     "language": "python",
     "metadata": {},
     "outputs": [
      {
       "output_type": "pyout",
       "prompt_number": 34,
       "text": "-n*z**(-n)*(-sqrt(pi)*a*z*erf(a*z) + a**n*z**n*lowergamma(-n/2 + 1, a**2*z**2))/(sqrt(pi)*a*z*(n - 1)) + z**(-n)*(2*a**2*a**n*z*z**n*(a**2*z**2)**(-n/2)*exp(-a**2*z**2) - 2*a**2*z*exp(-a**2*z**2) - sqrt(pi)*a*erf(a*z) + a**n*n*z**n*lowergamma(-n/2 + 1, a**2*z**2)/z)/(sqrt(pi)*a*(n - 1))"
      }
     ],
     "prompt_number": 34
    },
    {
     "cell_type": "code",
     "collapsed": false,
     "input": "simplify(simplify(powdenest(simplify(_), force=True)))",
     "language": "python",
     "metadata": {},
     "outputs": [
      {
       "output_type": "pyout",
       "prompt_number": 35,
       "text": "(1/(a*z**2))**n*(a*z)**n*erf(a*z)"
      }
     ],
     "prompt_number": 35
    },
    {
     "cell_type": "code",
     "collapsed": false,
     "input": "",
     "language": "python",
     "metadata": {},
     "outputs": [],
     "prompt_number": 35
    },
    {
     "cell_type": "code",
     "collapsed": false,
     "input": "integrate(cos(b*z)*erf(a*z), z)",
     "language": "python",
     "metadata": {},
     "outputs": [
      {
       "output_type": "pyout",
       "prompt_number": 36,
       "text": "Integral(cos(b*z)*erf(a*z), z)"
      }
     ],
     "prompt_number": 36
    },
    {
     "cell_type": "code",
     "collapsed": false,
     "input": "",
     "language": "python",
     "metadata": {},
     "outputs": [],
     "prompt_number": 36
    },
    {
     "cell_type": "code",
     "collapsed": false,
     "input": "#integrate(erf(a*z**r), z)\nintegrate(erf(z**r), z)",
     "language": "python",
     "metadata": {},
     "outputs": [
      {
       "output_type": "pyout",
       "prompt_number": 37,
       "text": "z*erf(z**r)*gamma(1/2 + 1/(2*r))/(2*gamma(3/2 + 1/(2*r))) - gamma(1/2 + 1/(2*r))*lowergamma(1/2 + 1/(2*r), z**(2*r))/(2*sqrt(pi)*gamma(3/2 + 1/(2*r))) + z*erf(z**r)*gamma(1/2 + 1/(2*r))/(2*r*gamma(3/2 + 1/(2*r))) - gamma(1/2 + 1/(2*r))*lowergamma(1/2 + 1/(2*r), z**(2*r))/(2*sqrt(pi)*r*gamma(3/2 + 1/(2*r)))"
      }
     ],
     "prompt_number": 37
    },
    {
     "cell_type": "code",
     "collapsed": false,
     "input": "simplify(_)",
     "language": "python",
     "metadata": {},
     "outputs": [
      {
       "output_type": "pyout",
       "prompt_number": 38,
       "text": "(r + 1)*(sqrt(pi)*z*erf(z**r) - lowergamma(1/2 + 1/(2*r), z**(2*r)))*gamma(1/2 + 1/(2*r))/(2*sqrt(pi)*r*gamma(3/2 + 1/(2*r)))"
      }
     ],
     "prompt_number": 38
    },
    {
     "cell_type": "code",
     "collapsed": false,
     "input": "pprint(_)",
     "language": "python",
     "metadata": {},
     "outputs": [
      {
       "output_type": "stream",
       "stream": "stdout",
       "text": "        \u239b  ___      \u239b r\u239e    \u239b1    1    2\u22c5r\u239e\u239e  \u239b1    1 \u239e\n(r + 1)\u22c5\u239c\u2572\u2571 \u03c0 \u22c5z\u22c5erf\u239dz \u23a0 - \u03b3\u239c\u2500 + \u2500\u2500\u2500, z   \u239f\u239f\u22c5\u0393\u239c\u2500 + \u2500\u2500\u2500\u239f\n        \u239d                   \u239d2   2\u22c5r      \u23a0\u23a0  \u239d2   2\u22c5r\u23a0\n\u2500\u2500\u2500\u2500\u2500\u2500\u2500\u2500\u2500\u2500\u2500\u2500\u2500\u2500\u2500\u2500\u2500\u2500\u2500\u2500\u2500\u2500\u2500\u2500\u2500\u2500\u2500\u2500\u2500\u2500\u2500\u2500\u2500\u2500\u2500\u2500\u2500\u2500\u2500\u2500\u2500\u2500\u2500\u2500\u2500\u2500\u2500\u2500\u2500\u2500\u2500\u2500\u2500\u2500\u2500\n                      ___    \u239b3    1 \u239e                 \n                  2\u22c5\u2572\u2571 \u03c0 \u22c5r\u22c5\u0393\u239c\u2500 + \u2500\u2500\u2500\u239f                 \n                             \u239d2   2\u22c5r\u23a0                 \n"
      }
     ],
     "prompt_number": 39
    },
    {
     "cell_type": "code",
     "collapsed": false,
     "input": "diff(_, z)",
     "language": "python",
     "metadata": {},
     "outputs": [
      {
       "output_type": "pyout",
       "prompt_number": 40,
       "text": "(r + 1)*(2*r*z**r*exp(-z**(2*r)) - 2*r*z**(2*r)*(z**(2*r))**(-1/2 + 1/(2*r))*exp(-z**(2*r))/z + sqrt(pi)*erf(z**r))*gamma(1/2 + 1/(2*r))/(2*sqrt(pi)*r*gamma(3/2 + 1/(2*r)))"
      }
     ],
     "prompt_number": 40
    },
    {
     "cell_type": "code",
     "collapsed": false,
     "input": "powdenest(simplify(_), force=True)",
     "language": "python",
     "metadata": {},
     "outputs": [
      {
       "output_type": "pyout",
       "prompt_number": 41,
       "text": "(r + 1)*erf(z**r)*gamma(1/2 + 1/(2*r))/(2*r*gamma(3/2 + 1/(2*r)))"
      }
     ],
     "prompt_number": 41
    },
    {
     "cell_type": "code",
     "collapsed": false,
     "input": "simplify(_)",
     "language": "python",
     "metadata": {},
     "outputs": [
      {
       "output_type": "pyout",
       "prompt_number": 42,
       "text": "(r + 1)*erf(z**r)*gamma(1/2 + 1/(2*r))/(2*r*gamma(3/2 + 1/(2*r)))"
      }
     ],
     "prompt_number": 42
    },
    {
     "cell_type": "code",
     "collapsed": false,
     "input": "pprint(_)",
     "language": "python",
     "metadata": {},
     "outputs": [
      {
       "output_type": "stream",
       "stream": "stdout",
       "text": "           \u239b r\u239e  \u239b1    1 \u239e\n(r + 1)\u22c5erf\u239dz \u23a0\u22c5\u0393\u239c\u2500 + \u2500\u2500\u2500\u239f\n                 \u239d2   2\u22c5r\u23a0\n\u2500\u2500\u2500\u2500\u2500\u2500\u2500\u2500\u2500\u2500\u2500\u2500\u2500\u2500\u2500\u2500\u2500\u2500\u2500\u2500\u2500\u2500\u2500\u2500\u2500\u2500\n           \u239b3    1 \u239e      \n      2\u22c5r\u22c5\u0393\u239c\u2500 + \u2500\u2500\u2500\u239f      \n           \u239d2   2\u22c5r\u23a0      \n"
      }
     ],
     "prompt_number": 43
    },
    {
     "cell_type": "code",
     "collapsed": false,
     "input": "expand_func(_)",
     "language": "python",
     "metadata": {},
     "outputs": [
      {
       "output_type": "pyout",
       "prompt_number": 44,
       "text": "(r + 1)*erf(z**r)/(2*r*(1/2 + 1/(2*r)))"
      }
     ],
     "prompt_number": 44
    },
    {
     "cell_type": "code",
     "collapsed": false,
     "input": "simplify(_)",
     "language": "python",
     "metadata": {},
     "outputs": [
      {
       "output_type": "pyout",
       "prompt_number": 45,
       "text": "erf(z**r)"
      }
     ],
     "prompt_number": 45
    },
    {
     "cell_type": "code",
     "collapsed": false,
     "input": "",
     "language": "python",
     "metadata": {},
     "outputs": [],
     "prompt_number": 45
    },
    {
     "cell_type": "code",
     "collapsed": false,
     "input": "#integrate(z**n*erf(z**r), z)\n# Takes forever",
     "language": "python",
     "metadata": {},
     "outputs": [],
     "prompt_number": 46
    },
    {
     "cell_type": "code",
     "collapsed": false,
     "input": "",
     "language": "python",
     "metadata": {},
     "outputs": [],
     "prompt_number": 46
    },
    {
     "cell_type": "code",
     "collapsed": false,
     "input": "#integrate((z**2-b)*erf(a*z)/(z**2+b)**2, z)\n# Takes forever",
     "language": "python",
     "metadata": {},
     "outputs": [],
     "prompt_number": 47
    },
    {
     "cell_type": "code",
     "collapsed": false,
     "input": "",
     "language": "python",
     "metadata": {},
     "outputs": [],
     "prompt_number": 47
    },
    {
     "cell_type": "code",
     "collapsed": false,
     "input": "integrate(exp(b*z)*erf(a*z), z)",
     "language": "python",
     "metadata": {},
     "outputs": [
      {
       "output_type": "pyout",
       "prompt_number": 48,
       "text": "Integral(exp(b*z)*erf(a*z), z)"
      }
     ],
     "prompt_number": 48
    },
    {
     "cell_type": "code",
     "collapsed": false,
     "input": "",
     "language": "python",
     "metadata": {},
     "outputs": [],
     "prompt_number": 48
    },
    {
     "cell_type": "code",
     "collapsed": false,
     "input": "integrate(exp(b*z**2)*erf(a*z), z)",
     "language": "python",
     "metadata": {},
     "outputs": [
      {
       "output_type": "pyout",
       "prompt_number": 49,
       "text": "Integral(exp(b*z**2)*erf(a*z), z)"
      }
     ],
     "prompt_number": 49
    },
    {
     "cell_type": "code",
     "collapsed": false,
     "input": "",
     "language": "python",
     "metadata": {},
     "outputs": [],
     "prompt_number": 49
    },
    {
     "cell_type": "code",
     "collapsed": false,
     "input": "#integrate(z*exp(z**2)*erf(z), z)\n# Takes forever",
     "language": "python",
     "metadata": {},
     "outputs": [],
     "prompt_number": 50
    },
    {
     "cell_type": "code",
     "collapsed": false,
     "input": "",
     "language": "python",
     "metadata": {},
     "outputs": [],
     "prompt_number": 50
    },
    {
     "cell_type": "code",
     "collapsed": false,
     "input": "integrate(erf(a*z)**2, z)",
     "language": "python",
     "metadata": {},
     "outputs": [
      {
       "output_type": "pyout",
       "prompt_number": 51,
       "text": "Integral(erf(a*z)**2, z)"
      }
     ],
     "prompt_number": 51
    },
    {
     "cell_type": "code",
     "collapsed": false,
     "input": "",
     "language": "python",
     "metadata": {},
     "outputs": [],
     "prompt_number": 51
    },
    {
     "cell_type": "code",
     "collapsed": false,
     "input": "integrate(erf(a*z)*erf(b*z), z)",
     "language": "python",
     "metadata": {},
     "outputs": [
      {
       "output_type": "pyout",
       "prompt_number": 52,
       "text": "Integral(erf(a*z)*erf(b*z), z)"
      }
     ],
     "prompt_number": 52
    },
    {
     "cell_type": "code",
     "collapsed": false,
     "input": "",
     "language": "python",
     "metadata": {},
     "outputs": [],
     "prompt_number": 52
    },
    {
     "cell_type": "code",
     "collapsed": false,
     "input": "integrate(z**(n-1) * erf(z), (z, 0, oo))",
     "language": "python",
     "metadata": {},
     "outputs": [
      {
       "output_type": "pyout",
       "prompt_number": 53,
       "text": "Piecewise((-gamma(n/2 + 1/2)/(sqrt(pi)*n), And(-re(n)/2 + 1 > 1, -re(n)/2 + 1/2 < 1)), (Integral(z**(n - 1)*erf(z), (z, 0, oo)), True))"
      }
     ],
     "prompt_number": 53
    },
    {
     "cell_type": "code",
     "collapsed": false,
     "input": "pprint(_)",
     "language": "python",
     "metadata": {},
     "outputs": [
      {
       "output_type": "stream",
       "stream": "stdout",
       "text": "\u23a7      \u239bn   1\u239e                                            \n\u23aa    -\u0393\u239c\u2500 + \u2500\u239f                                            \n\u23aa      \u239d2   2\u23a0             re(n)             re(n)   1    \n\u23aa    \u2500\u2500\u2500\u2500\u2500\u2500\u2500\u2500\u2500       for - \u2500\u2500\u2500\u2500\u2500 + 1 > 1 \u2227 - \u2500\u2500\u2500\u2500\u2500 + \u2500 < 1\n\u23aa       ___                  2                 2     2    \n\u23aa     \u2572\u2571 \u03c0 \u22c5n                                             \n\u23a8                                                         \n\u23aa\u221e                                                        \n\u23aa\u2320                                                        \n\u23aa\u23ae  n - 1                                                 \n\u23aa\u23ae z     \u22c5erf(z) dz                otherwise              \n\u23aa\u2321                                                        \n\u23a90                                                        \n"
      }
     ],
     "prompt_number": 54
    },
    {
     "cell_type": "code",
     "collapsed": false,
     "input": "",
     "language": "python",
     "metadata": {},
     "outputs": [],
     "prompt_number": 54
    },
    {
     "cell_type": "code",
     "collapsed": false,
     "input": "integrate(z**(n-1) * exp(-b*z) * erf(z), (z, 0, oo))",
     "language": "python",
     "metadata": {},
     "outputs": [
      {
       "output_type": "pyout",
       "prompt_number": 55,
       "text": "Piecewise((meijerg(((-n/2 + 1/2,), (-n/2 + 1,)), ((-n/2, 0, 1/2), ()), polar_lift(b)**2/4)/(2*pi), Or(And(-re(n) - 1/2 > -3/2, Abs(periodic_argument(polar_lift(b)**2, oo)) == pi, re(n)/2 + 1 > 0, re(n)/2 + 1/2 > 0), And(Abs(periodic_argument(polar_lift(b)**2, oo)) < pi, re(n)/2 + 1 > 0, re(n)/2 + 1/2 > 0))), (Integral(z**(n - 1)*exp(-b*z)*erf(z), (z, 0, oo)), True))"
      }
     ],
     "prompt_number": 55
    },
    {
     "cell_type": "code",
     "collapsed": false,
     "input": "pprint(_)",
     "language": "python",
     "metadata": {},
     "outputs": [
      {
       "output_type": "stream",
       "stream": "stdout",
       "text": "\u23a7        \u239b   n   1      n     \u2502               \u239e                               \n\u23aa        \u239c - \u2500 + \u2500    - \u2500 + 1 \u2502           2   \u239f                               \n\u23aa\u256d\u2500\u256e3, 1 \u239c   2   2      2     \u2502 polar_lift (b)\u239f                               \n\u23aa\u2502\u2576\u2510     \u239c                    \u2502 \u2500\u2500\u2500\u2500\u2500\u2500\u2500\u2500\u2500\u2500\u2500\u2500\u2500\u2500\u239f                               \n\u23aa\u2570\u2500\u256f2, 3 \u239c-n                  \u2502       4       \u239f                               \n\u23aa        \u239c\u2500\u2500, 0, 1/2          \u2502               \u239f                               \n\u23aa        \u239d2                   \u2502               \u23a0      \u239bre(n)   1       re(n)   \n\u23aa\u2500\u2500\u2500\u2500\u2500\u2500\u2500\u2500\u2500\u2500\u2500\u2500\u2500\u2500\u2500\u2500\u2500\u2500\u2500\u2500\u2500\u2500\u2500\u2500\u2500\u2500\u2500\u2500\u2500\u2500\u2500\u2500\u2500\u2500\u2500\u2500\u2500\u2500\u2500\u2500\u2500\u2500\u2500\u2500\u2500\u2500  for \u239c\u2500\u2500\u2500\u2500\u2500 + \u2500 > 0 \u2227 \u2500\u2500\u2500\u2500\u2500 + \n\u23a8                     2\u22c5\u03c0                            \u239d  2     2         2     \n\u23aa                                                                             \n\u23aa           \u221e                                                                 \n\u23aa           \u2320                                                                 \n\u23aa           \u23ae  n - 1  -b\u22c5z                                                    \n\u23aa           \u23ae z     \u22c5\u212f    \u22c5erf(z) dz                                          \n\u23aa           \u2321                                                                 \n\u23aa           0                                                                 \n\u23a9                                                                             \n\n                                                                              \n                                                                              \n                                                                              \n                                                                              \n                                                                              \n                                                                              \n        \u2502                 \u239b          2      \u239e\u2502    \u239e   \u239b\u2502                 \u239b    \n1 > 0 \u2227 \u2502periodic_argument\u239dpolar_lift (b), \u221e\u23a0\u2502 < \u03c0\u239f \u2228 \u239c\u2502periodic_argument\u239dpola\n                                                  \u23a0   \u239d                       \n                                                                              \n                                                                              \n                                                                              \n                                                                              \n                                                         otherwise            \n                                                                              \n                                                                              \n                                                                              \n\n                                                                          \n                                                                          \n                                                                          \n                                                                          \n                                                                          \n                                                                          \n      2      \u239e\u2502                             re(n)   1       re(n)        \u239e\nr_lift (b), \u221e\u23a0\u2502 = \u03c0 \u2227 -re(n) - 1/2 > -3/2 \u2227 \u2500\u2500\u2500\u2500\u2500 + \u2500 > 0 \u2227 \u2500\u2500\u2500\u2500\u2500 + 1 > 0\u239f\n                                              2     2         2          \u23a0\n                                                                          \n                                                                          \n                                                                          \n                                                                          \n                                                                          \n                                                                          \n                                                                          \n                                                                          \n"
      }
     ],
     "prompt_number": 56
    },
    {
     "cell_type": "code",
     "collapsed": false,
     "input": "# Maybe this applies:\n# http://functions.wolfram.com/07.34.03.0987.01\n# At least for n \\notin Z",
     "language": "python",
     "metadata": {},
     "outputs": [],
     "prompt_number": 57
    }
   ],
   "metadata": {}
  }
 ]
}