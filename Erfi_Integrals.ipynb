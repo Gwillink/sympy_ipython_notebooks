{
 "metadata": {
  "name": "Erfi_Integrals"
 },
 "nbformat": 3,
 "nbformat_minor": 0,
 "worksheets": [
  {
   "cells": [
    {
     "cell_type": "code",
     "collapsed": false,
     "input": "from sympy import *",
     "language": "python",
     "metadata": {},
     "outputs": [],
     "prompt_number": 1
    },
    {
     "cell_type": "code",
     "collapsed": false,
     "input": "z = Symbol(\"z\")",
     "language": "python",
     "metadata": {},
     "outputs": [],
     "prompt_number": 2
    },
    {
     "cell_type": "code",
     "collapsed": false,
     "input": "a = Symbol(\"a\", real=True)\nb = Symbol(\"b\", real=True)\nr = Symbol(\"r\")",
     "language": "python",
     "metadata": {},
     "outputs": [],
     "prompt_number": 3
    },
    {
     "cell_type": "code",
     "collapsed": false,
     "input": "n = Symbol(\"n\")",
     "language": "python",
     "metadata": {},
     "outputs": [],
     "prompt_number": 4
    },
    {
     "cell_type": "code",
     "collapsed": false,
     "input": "",
     "language": "python",
     "metadata": {},
     "outputs": [],
     "prompt_number": 4
    },
    {
     "cell_type": "code",
     "collapsed": false,
     "input": "integrate(erfi(a+b*z), z)",
     "language": "python",
     "metadata": {},
     "outputs": [
      {
       "output_type": "pyout",
       "prompt_number": 5,
       "text": "a*erfi(a + b*z)/b + z*erfi(a + b*z) - exp(a**2)*exp(b**2*z**2)*exp(2*a*b*z)/(sqrt(pi)*b)"
      }
     ],
     "prompt_number": 5
    },
    {
     "cell_type": "code",
     "collapsed": false,
     "input": "pprint(_)",
     "language": "python",
     "metadata": {},
     "outputs": [
      {
       "output_type": "stream",
       "stream": "stdout",
       "text": "                                     \u239b 2\u239e   2  2         \n                                     \u239da \u23a0  b \u22c5z   2\u22c5a\u22c5b\u22c5z\na\u22c5erfi(a + b\u22c5z)                     \u212f    \u22c5\u212f     \u22c5\u212f       \n\u2500\u2500\u2500\u2500\u2500\u2500\u2500\u2500\u2500\u2500\u2500\u2500\u2500\u2500\u2500 + z\u22c5erfi(a + b\u22c5z) - \u2500\u2500\u2500\u2500\u2500\u2500\u2500\u2500\u2500\u2500\u2500\u2500\u2500\u2500\u2500\u2500\u2500\u2500\u2500\u2500\u2500\n       b                                     ___         \n                                           \u2572\u2571 \u03c0 \u22c5b       \n"
      }
     ],
     "prompt_number": 6
    },
    {
     "cell_type": "code",
     "collapsed": false,
     "input": "simplify(diff(_, z))",
     "language": "python",
     "metadata": {},
     "outputs": [
      {
       "output_type": "pyout",
       "prompt_number": 7,
       "text": "erfi(a + b*z)"
      }
     ],
     "prompt_number": 7
    },
    {
     "cell_type": "code",
     "collapsed": false,
     "input": "",
     "language": "python",
     "metadata": {},
     "outputs": [],
     "prompt_number": 7
    },
    {
     "cell_type": "code",
     "collapsed": false,
     "input": "integrate(z*erfi(a*z), z)",
     "language": "python",
     "metadata": {},
     "outputs": [
      {
       "output_type": "pyout",
       "prompt_number": 8,
       "text": "z**2*erfi(a*z)/2 - z*exp(a**2*z**2)/(2*sqrt(pi)*a) + erfi(a*z)/(4*a**2)"
      }
     ],
     "prompt_number": 8
    },
    {
     "cell_type": "code",
     "collapsed": false,
     "input": "pprint(_)",
     "language": "python",
     "metadata": {},
     "outputs": [
      {
       "output_type": "stream",
       "stream": "stdout",
       "text": "                    2  2            \n 2                 a \u22c5z             \nz \u22c5erfi(a\u22c5z)    z\u22c5\u212f        erfi(a\u22c5z)\n\u2500\u2500\u2500\u2500\u2500\u2500\u2500\u2500\u2500\u2500\u2500\u2500 - \u2500\u2500\u2500\u2500\u2500\u2500\u2500\u2500\u2500 + \u2500\u2500\u2500\u2500\u2500\u2500\u2500\u2500\u2500\n     2             ___           2  \n               2\u22c5\u2572\u2571 \u03c0 \u22c5a      4\u22c5a   \n"
      }
     ],
     "prompt_number": 9
    },
    {
     "cell_type": "code",
     "collapsed": false,
     "input": "diff(_, z)",
     "language": "python",
     "metadata": {},
     "outputs": [
      {
       "output_type": "pyout",
       "prompt_number": 10,
       "text": "z*erfi(a*z)"
      }
     ],
     "prompt_number": 10
    },
    {
     "cell_type": "code",
     "collapsed": false,
     "input": "",
     "language": "python",
     "metadata": {},
     "outputs": [],
     "prompt_number": 10
    },
    {
     "cell_type": "code",
     "collapsed": false,
     "input": "integrate(z**2*erfi(a*z), z)",
     "language": "python",
     "metadata": {},
     "outputs": [
      {
       "output_type": "pyout",
       "prompt_number": 11,
       "text": "z**3*erfi(a*z)/3 - z**2*exp(a**2*z**2)/(3*sqrt(pi)*a) + exp(a**2*z**2)/(3*sqrt(pi)*a**3)"
      }
     ],
     "prompt_number": 11
    },
    {
     "cell_type": "code",
     "collapsed": false,
     "input": "diff(_, z)",
     "language": "python",
     "metadata": {},
     "outputs": [
      {
       "output_type": "pyout",
       "prompt_number": 12,
       "text": "z**2*erfi(a*z)"
      }
     ],
     "prompt_number": 12
    },
    {
     "cell_type": "code",
     "collapsed": false,
     "input": "",
     "language": "python",
     "metadata": {},
     "outputs": [],
     "prompt_number": 12
    },
    {
     "cell_type": "code",
     "collapsed": false,
     "input": "#integrate(z**n*erf(a*z), z)\n# With a the results get much more compliacted\nintegrate(z**n*erfi(z), z)",
     "language": "python",
     "metadata": {},
     "outputs": [
      {
       "output_type": "pyout",
       "prompt_number": 13,
       "text": "-I*sqrt(pi)*n*z*z**n*erf(I*z)*gamma(n/2 + 1)/(2*sqrt(pi)*n*gamma(n/2 + 2) + 2*sqrt(pi)*gamma(n/2 + 2)) + n*exp(-I*pi*n/2)*gamma(n/2 + 1)*lowergamma(n/2 + 1, z**2*exp_polar(I*pi))/(2*sqrt(pi)*n*gamma(n/2 + 2) + 2*sqrt(pi)*gamma(n/2 + 2)) - 2*I*sqrt(pi)*z*z**n*erf(I*z)*gamma(n/2 + 1)/(2*sqrt(pi)*n*gamma(n/2 + 2) + 2*sqrt(pi)*gamma(n/2 + 2)) + 2*exp(-I*pi*n/2)*gamma(n/2 + 1)*lowergamma(n/2 + 1, z**2*exp_polar(I*pi))/(2*sqrt(pi)*n*gamma(n/2 + 2) + 2*sqrt(pi)*gamma(n/2 + 2))"
      }
     ],
     "prompt_number": 13
    },
    {
     "cell_type": "code",
     "collapsed": false,
     "input": "simplify(_)",
     "language": "python",
     "metadata": {},
     "outputs": [
      {
       "output_type": "pyout",
       "prompt_number": 14,
       "text": "(-I*sqrt(pi)*z**(n + 1)*exp(I*pi*n/2)*erf(I*z) + lowergamma(n/2 + 1, z**2*exp_polar(I*pi)))*exp(-I*pi*n/2)/(sqrt(pi)*(n + 1))"
      }
     ],
     "prompt_number": 14
    },
    {
     "cell_type": "code",
     "collapsed": false,
     "input": "pprint(_)",
     "language": "python",
     "metadata": {},
     "outputs": [
      {
       "output_type": "stream",
       "stream": "stdout",
       "text": "\u239b                  \u2148\u22c5\u03c0\u22c5n                             \u239e  -\u2148\u22c5\u03c0\u22c5n\n\u239c                  \u2500\u2500\u2500\u2500\u2500                             \u239f  \u2500\u2500\u2500\u2500\u2500\u2500\n\u239c      ___  n + 1    2               \u239bn       2  \u2148\u22c5\u03c0\u239e\u239f    2   \n\u239c- \u2148\u22c5\u2572\u2571 \u03c0 \u22c5z     \u22c5\u212f     \u22c5erf(\u2148\u22c5z) + \u03b3\u239c\u2500 + 1, z \u22c5\u212f   \u239f\u239f\u22c5\u212f      \n\u239d                                    \u239d2             \u23a0\u23a0        \n\u2500\u2500\u2500\u2500\u2500\u2500\u2500\u2500\u2500\u2500\u2500\u2500\u2500\u2500\u2500\u2500\u2500\u2500\u2500\u2500\u2500\u2500\u2500\u2500\u2500\u2500\u2500\u2500\u2500\u2500\u2500\u2500\u2500\u2500\u2500\u2500\u2500\u2500\u2500\u2500\u2500\u2500\u2500\u2500\u2500\u2500\u2500\u2500\u2500\u2500\u2500\u2500\u2500\u2500\u2500\u2500\u2500\u2500\u2500\u2500\u2500\u2500\n                          ___                                 \n                        \u2572\u2571 \u03c0 \u22c5(n + 1)                         \n"
      }
     ],
     "prompt_number": 15
    },
    {
     "cell_type": "code",
     "collapsed": false,
     "input": "simplify(diff(_, z))",
     "language": "python",
     "metadata": {},
     "outputs": [
      {
       "output_type": "pyout",
       "prompt_number": 16,
       "text": "(2*z*(z**2*exp_polar(I*pi))**(n/2)*exp(z**2)*exp_polar(I*pi) - I*sqrt(pi)*z**n*(n + 1)*exp(I*pi*n/2)*erf(I*z) + 2*z**(n + 1)*exp(I*pi*n/2 + z**2))*exp(-I*pi*n/2)/(sqrt(pi)*(n + 1))"
      }
     ],
     "prompt_number": 16
    },
    {
     "cell_type": "code",
     "collapsed": false,
     "input": "powdenest(_, force=True)",
     "language": "python",
     "metadata": {},
     "outputs": [
      {
       "output_type": "pyout",
       "prompt_number": 17,
       "text": "(2*z*z**n*exp(z**2)*exp_polar(I*pi)*exp_polar(I*pi*n/2) - I*sqrt(pi)*z**n*(n + 1)*exp(I*pi*n/2)*erf(I*z) + 2*z**(n + 1)*exp(I*pi*n/2 + z**2))*exp(-I*pi*n/2)/(sqrt(pi)*(n + 1))"
      }
     ],
     "prompt_number": 17
    },
    {
     "cell_type": "code",
     "collapsed": false,
     "input": "unpolarify(_)",
     "language": "python",
     "metadata": {},
     "outputs": [
      {
       "output_type": "pyout",
       "prompt_number": 18,
       "text": "(-2*z*z**n*exp(z**2)*exp(I*pi*n/2) - I*sqrt(pi)*z**n*(n + 1)*exp(I*pi*n/2)*erf(I*z) + 2*z**(n + 1)*exp(I*pi*n/2 + z**2))*exp(-I*pi*n/2)/(sqrt(pi)*(n + 1))"
      }
     ],
     "prompt_number": 18
    },
    {
     "cell_type": "code",
     "collapsed": false,
     "input": "simplify(_)",
     "language": "python",
     "metadata": {},
     "outputs": [
      {
       "output_type": "pyout",
       "prompt_number": 19,
       "text": "-I*z**n*erf(I*z)"
      }
     ],
     "prompt_number": 19
    },
    {
     "cell_type": "code",
     "collapsed": false,
     "input": "_.rewrite(erfi)",
     "language": "python",
     "metadata": {},
     "outputs": [
      {
       "output_type": "pyout",
       "prompt_number": 20,
       "text": "z**n*erfi(z)"
      }
     ],
     "prompt_number": 20
    },
    {
     "cell_type": "code",
     "collapsed": false,
     "input": "",
     "language": "python",
     "metadata": {},
     "outputs": [],
     "prompt_number": 20
    },
    {
     "cell_type": "code",
     "collapsed": false,
     "input": "integrate(z**n*erfi(z)/z, z)",
     "language": "python",
     "metadata": {},
     "outputs": [
      {
       "output_type": "pyout",
       "prompt_number": 21,
       "text": "-I*z**n*erf(I*z)*gamma(n/2 + 1/2)/(2*gamma(n/2 + 3/2)) + I*exp(-I*pi*n/2)*gamma(n/2 + 1/2)*lowergamma(n/2 + 1/2, z**2*exp_polar(I*pi))/(2*sqrt(pi)*gamma(n/2 + 3/2)) - I*z**n*erf(I*z)*gamma(n/2 + 1/2)/(2*n*gamma(n/2 + 3/2)) + I*exp(-I*pi*n/2)*gamma(n/2 + 1/2)*lowergamma(n/2 + 1/2, z**2*exp_polar(I*pi))/(2*sqrt(pi)*n*gamma(n/2 + 3/2))"
      }
     ],
     "prompt_number": 21
    },
    {
     "cell_type": "code",
     "collapsed": false,
     "input": "simplify(_)",
     "language": "python",
     "metadata": {},
     "outputs": [
      {
       "output_type": "pyout",
       "prompt_number": 22,
       "text": "-I*(n + 1)*(sqrt(pi)*z**n*exp(I*pi*n/2)*erf(I*z) - lowergamma(n/2 + 1/2, z**2*exp_polar(I*pi)))*exp(-I*pi*n/2)*gamma(n/2 + 1/2)/(2*sqrt(pi)*n*gamma(n/2 + 3/2))"
      }
     ],
     "prompt_number": 22
    },
    {
     "cell_type": "code",
     "collapsed": false,
     "input": "pprint(_)",
     "language": "python",
     "metadata": {},
     "outputs": [
      {
       "output_type": "stream",
       "stream": "stdout",
       "text": "           \u239b          \u2148\u22c5\u03c0\u22c5n                             \u239e  -\u2148\u22c5\u03c0\u22c5n         \n           \u239c          \u2500\u2500\u2500\u2500\u2500                             \u239f  \u2500\u2500\u2500\u2500\u2500\u2500         \n           \u239c  ___  n    2               \u239bn   1   2  \u2148\u22c5\u03c0\u239e\u239f    2     \u239bn   1\u239e\n-\u2148\u22c5(n + 1)\u22c5\u239c\u2572\u2571 \u03c0 \u22c5z \u22c5\u212f     \u22c5erf(\u2148\u22c5z) - \u03b3\u239c\u2500 + \u2500, z \u22c5\u212f   \u239f\u239f\u22c5\u212f      \u22c5\u0393\u239c\u2500 + \u2500\u239f\n           \u239d                            \u239d2   2         \u23a0\u23a0          \u239d2   2\u23a0\n\u2500\u2500\u2500\u2500\u2500\u2500\u2500\u2500\u2500\u2500\u2500\u2500\u2500\u2500\u2500\u2500\u2500\u2500\u2500\u2500\u2500\u2500\u2500\u2500\u2500\u2500\u2500\u2500\u2500\u2500\u2500\u2500\u2500\u2500\u2500\u2500\u2500\u2500\u2500\u2500\u2500\u2500\u2500\u2500\u2500\u2500\u2500\u2500\u2500\u2500\u2500\u2500\u2500\u2500\u2500\u2500\u2500\u2500\u2500\u2500\u2500\u2500\u2500\u2500\u2500\u2500\u2500\u2500\u2500\u2500\u2500\u2500\u2500\u2500\n                                ___    \u239bn   3\u239e                            \n                            2\u22c5\u2572\u2571 \u03c0 \u22c5n\u22c5\u0393\u239c\u2500 + \u2500\u239f                            \n                                       \u239d2   2\u23a0                            \n"
      }
     ],
     "prompt_number": 23
    },
    {
     "cell_type": "code",
     "collapsed": false,
     "input": "simplify(diff(_, z))",
     "language": "python",
     "metadata": {},
     "outputs": [
      {
       "output_type": "pyout",
       "prompt_number": 24,
       "text": "I*(-sqrt(pi)*n*z**n*exp(I*pi*n/2)*erf(I*z) + 2*z**2*(z**2)**(n/2 - 1/2)*exp(z**2)*exp_polar(I*pi*(n + 1)/2) - 2*I*z**(n + 1)*exp(I*pi*n/2 + z**2))*exp(-I*pi*n/2)/(sqrt(pi)*n*z)"
      }
     ],
     "prompt_number": 24
    },
    {
     "cell_type": "code",
     "collapsed": false,
     "input": "powdenest(_, force=True)",
     "language": "python",
     "metadata": {},
     "outputs": [
      {
       "output_type": "pyout",
       "prompt_number": 25,
       "text": "I*(-sqrt(pi)*n*z**n*exp(I*pi*n/2)*erf(I*z) + 2*z**(n + 1)*exp(z**2)*exp_polar(I*pi*(n + 1)/2) - 2*I*z**(n + 1)*exp(I*pi*n/2 + z**2))*exp(-I*pi*n/2)/(sqrt(pi)*n*z)"
      }
     ],
     "prompt_number": 25
    },
    {
     "cell_type": "code",
     "collapsed": false,
     "input": "unpolarify(_)",
     "language": "python",
     "metadata": {},
     "outputs": [
      {
       "output_type": "pyout",
       "prompt_number": 26,
       "text": "I*(-sqrt(pi)*n*z**n*exp(I*pi*n/2)*erf(I*z) + 2*z**(n + 1)*exp(z**2)*exp(I*pi*(n + 1)/2) - 2*I*z**(n + 1)*exp(I*pi*n/2 + z**2))*exp(-I*pi*n/2)/(sqrt(pi)*n*z)"
      }
     ],
     "prompt_number": 26
    },
    {
     "cell_type": "code",
     "collapsed": false,
     "input": "simplify(_)",
     "language": "python",
     "metadata": {},
     "outputs": [
      {
       "output_type": "pyout",
       "prompt_number": 27,
       "text": "-I*z**(n - 1)*erf(I*z)"
      }
     ],
     "prompt_number": 27
    },
    {
     "cell_type": "code",
     "collapsed": false,
     "input": "_.rewrite(erfi)",
     "language": "python",
     "metadata": {},
     "outputs": [
      {
       "output_type": "pyout",
       "prompt_number": 28,
       "text": "z**(n - 1)*erfi(z)"
      }
     ],
     "prompt_number": 28
    },
    {
     "cell_type": "code",
     "collapsed": false,
     "input": "",
     "language": "python",
     "metadata": {},
     "outputs": [],
     "prompt_number": 28
    },
    {
     "cell_type": "code",
     "collapsed": false,
     "input": "# Same as above but this one takes forever\n#integrate(z**(n-1)*erf(z), z)",
     "language": "python",
     "metadata": {},
     "outputs": [],
     "prompt_number": 29
    },
    {
     "cell_type": "code",
     "collapsed": false,
     "input": "",
     "language": "python",
     "metadata": {},
     "outputs": [],
     "prompt_number": 29
    },
    {
     "cell_type": "code",
     "collapsed": false,
     "input": "integrate(erfi(a*z)/z, z)",
     "language": "python",
     "metadata": {},
     "outputs": [
      {
       "output_type": "pyout",
       "prompt_number": 30,
       "text": "2*a*z*hyper((1/2, 1/2), (3/2, 3/2), a**2*z**2)/sqrt(pi)"
      }
     ],
     "prompt_number": 30
    },
    {
     "cell_type": "code",
     "collapsed": false,
     "input": "pprint(_)",
     "language": "python",
     "metadata": {},
     "outputs": [
      {
       "output_type": "stream",
       "stream": "stdout",
       "text": "       \u250c\u2500  \u239b1/2, 1/2 \u2502  2  2\u239e\n2\u22c5a\u22c5z\u22c5 \u251c\u2500  \u239c         \u2502 a \u22c5z \u239f\n      2\u2575 2 \u239d3/2, 3/2 \u2502      \u23a0\n\u2500\u2500\u2500\u2500\u2500\u2500\u2500\u2500\u2500\u2500\u2500\u2500\u2500\u2500\u2500\u2500\u2500\u2500\u2500\u2500\u2500\u2500\u2500\u2500\u2500\u2500\u2500\u2500\u2500\n              ___            \n            \u2572\u2571 \u03c0             \n"
      }
     ],
     "prompt_number": 31
    },
    {
     "cell_type": "code",
     "collapsed": false,
     "input": "diff(_, z)",
     "language": "python",
     "metadata": {},
     "outputs": [
      {
       "output_type": "pyout",
       "prompt_number": 32,
       "text": "4*a**3*z**2*hyper((3/2, 3/2), (5/2, 5/2), a**2*z**2)/(9*sqrt(pi)) + 2*a*hyper((1/2, 1/2), (3/2, 3/2), a**2*z**2)/sqrt(pi)"
      }
     ],
     "prompt_number": 32
    },
    {
     "cell_type": "code",
     "collapsed": false,
     "input": "simplify(_)",
     "language": "python",
     "metadata": {},
     "outputs": [
      {
       "output_type": "pyout",
       "prompt_number": 33,
       "text": "(4*a**3*z**2*hyper((3/2, 3/2), (5/2, 5/2), a**2*z**2) + 18*a*hyper((1/2, 1/2), (3/2, 3/2), a**2*z**2))/(9*sqrt(pi))"
      }
     ],
     "prompt_number": 33
    },
    {
     "cell_type": "code",
     "collapsed": false,
     "input": "hyperexpand(_)",
     "language": "python",
     "metadata": {},
     "outputs": [
      {
       "output_type": "pyout",
       "prompt_number": 34,
       "text": "(4*a**3*z**2*hyper((3/2, 3/2), (5/2, 5/2), a**2*z**2) + 18*a*hyper((1/2, 1/2), (3/2, 3/2), a**2*z**2))/(9*sqrt(pi))"
      }
     ],
     "prompt_number": 34
    },
    {
     "cell_type": "code",
     "collapsed": false,
     "input": "pprint(_)",
     "language": "python",
     "metadata": {},
     "outputs": [
      {
       "output_type": "stream",
       "stream": "stdout",
       "text": "   3  2  \u250c\u2500  \u239b3/2, 3/2 \u2502  2  2\u239e         \u250c\u2500  \u239b1/2, 1/2 \u2502  2  2\u239e\n4\u22c5a \u22c5z \u22c5 \u251c\u2500  \u239c         \u2502 a \u22c5z \u239f + 18\u22c5a\u22c5 \u251c\u2500  \u239c         \u2502 a \u22c5z \u239f\n        2\u2575 2 \u239d5/2, 5/2 \u2502      \u23a0        2\u2575 2 \u239d3/2, 3/2 \u2502      \u23a0\n\u2500\u2500\u2500\u2500\u2500\u2500\u2500\u2500\u2500\u2500\u2500\u2500\u2500\u2500\u2500\u2500\u2500\u2500\u2500\u2500\u2500\u2500\u2500\u2500\u2500\u2500\u2500\u2500\u2500\u2500\u2500\u2500\u2500\u2500\u2500\u2500\u2500\u2500\u2500\u2500\u2500\u2500\u2500\u2500\u2500\u2500\u2500\u2500\u2500\u2500\u2500\u2500\u2500\u2500\u2500\u2500\u2500\u2500\u2500\u2500\u2500\u2500\n                               ___                            \n                           9\u22c5\u2572\u2571 \u03c0                             \n"
      }
     ],
     "prompt_number": 35
    },
    {
     "cell_type": "code",
     "collapsed": false,
     "input": "",
     "language": "python",
     "metadata": {},
     "outputs": [],
     "prompt_number": 35
    },
    {
     "cell_type": "code",
     "collapsed": false,
     "input": "integrate(erfi(a*z)/z**2, z)",
     "language": "python",
     "metadata": {},
     "outputs": [
      {
       "output_type": "pyout",
       "prompt_number": 36,
       "text": "-a*expint(1, a**2*z**2*exp_polar(I*pi))/sqrt(pi) + I*erf(I*a*z)/z"
      }
     ],
     "prompt_number": 36
    },
    {
     "cell_type": "code",
     "collapsed": false,
     "input": "pprint(_)",
     "language": "python",
     "metadata": {},
     "outputs": [
      {
       "output_type": "stream",
       "stream": "stdout",
       "text": "      \u239b 2  2  \u2148\u22c5\u03c0\u239e               \n  a\u22c5E\u2081\u239da \u22c5z \u22c5\u212f   \u23a0   \u2148\u22c5erf(\u2148\u22c5a\u22c5z)\n- \u2500\u2500\u2500\u2500\u2500\u2500\u2500\u2500\u2500\u2500\u2500\u2500\u2500\u2500\u2500\u2500 + \u2500\u2500\u2500\u2500\u2500\u2500\u2500\u2500\u2500\u2500\u2500\u2500\n         ___              z      \n       \u2572\u2571 \u03c0                      \n"
      }
     ],
     "prompt_number": 37
    },
    {
     "cell_type": "code",
     "collapsed": false,
     "input": "diff(_, z)",
     "language": "python",
     "metadata": {},
     "outputs": [
      {
       "output_type": "pyout",
       "prompt_number": 38,
       "text": "-2*a*exp(a**2*z**2)/(sqrt(pi)*z) - 2*a*exp(a**2*z**2)*exp_polar(I*pi)/(sqrt(pi)*z) - I*erf(I*a*z)/z**2"
      }
     ],
     "prompt_number": 38
    },
    {
     "cell_type": "code",
     "collapsed": false,
     "input": "powdenest(simplify(unpolarify(_)), force=True)",
     "language": "python",
     "metadata": {},
     "outputs": [
      {
       "output_type": "pyout",
       "prompt_number": 39,
       "text": "-I*erf(I*a*z)/z**2"
      }
     ],
     "prompt_number": 39
    },
    {
     "cell_type": "code",
     "collapsed": false,
     "input": "_.rewrite(erfi)",
     "language": "python",
     "metadata": {},
     "outputs": [
      {
       "output_type": "pyout",
       "prompt_number": 40,
       "text": "erfi(a*z)/z**2"
      }
     ],
     "prompt_number": 40
    },
    {
     "cell_type": "code",
     "collapsed": false,
     "input": "",
     "language": "python",
     "metadata": {},
     "outputs": [],
     "prompt_number": 40
    },
    {
     "cell_type": "code",
     "collapsed": false,
     "input": "integrate(erfi(a*z)/z**n, z)",
     "language": "python",
     "metadata": {},
     "outputs": [
      {
       "output_type": "pyout",
       "prompt_number": 41,
       "text": "-I*sqrt(pi)*a*n*z*z**(-n)*erf(I*a*z)*gamma(-n/2 + 1)/(2*sqrt(pi)*a*n*gamma(-n/2 + 2) - 2*sqrt(pi)*a*gamma(-n/2 + 2)) + 2*I*sqrt(pi)*a*z*z**(-n)*erf(I*a*z)*gamma(-n/2 + 1)/(2*sqrt(pi)*a*n*gamma(-n/2 + 2) - 2*sqrt(pi)*a*gamma(-n/2 + 2)) + a**n*n*exp(I*pi*n/2)*gamma(-n/2 + 1)*lowergamma(-n/2 + 1, a**2*z**2*exp_polar(I*pi))/(2*sqrt(pi)*a*n*gamma(-n/2 + 2) - 2*sqrt(pi)*a*gamma(-n/2 + 2)) - 2*a**n*exp(I*pi*n/2)*gamma(-n/2 + 1)*lowergamma(-n/2 + 1, a**2*z**2*exp_polar(I*pi))/(2*sqrt(pi)*a*n*gamma(-n/2 + 2) - 2*sqrt(pi)*a*gamma(-n/2 + 2))"
      }
     ],
     "prompt_number": 41
    },
    {
     "cell_type": "code",
     "collapsed": false,
     "input": "simplify(_)",
     "language": "python",
     "metadata": {},
     "outputs": [
      {
       "output_type": "pyout",
       "prompt_number": 42,
       "text": "z**(-n)*(I*sqrt(pi)*a*z*erf(I*a*z) - a**n*z**n*exp(I*pi*n/2)*lowergamma(-n/2 + 1, a**2*z**2*exp_polar(I*pi)))/(sqrt(pi)*a*(n - 1))"
      }
     ],
     "prompt_number": 42
    },
    {
     "cell_type": "code",
     "collapsed": false,
     "input": "pprint(_)",
     "language": "python",
     "metadata": {},
     "outputs": [
      {
       "output_type": "stream",
       "stream": "stdout",
       "text": "    \u239b                                \u2148\u22c5\u03c0\u22c5n                       \u239e\n    \u239c                                \u2500\u2500\u2500\u2500\u2500                       \u239f\n -n \u239c    ___                   n  n    2    \u239b  n       2  2  \u2148\u22c5\u03c0\u239e\u239f\nz  \u22c5\u239c\u2148\u22c5\u2572\u2571 \u03c0 \u22c5a\u22c5z\u22c5erf(\u2148\u22c5a\u22c5z) - a \u22c5z \u22c5\u212f     \u22c5\u03b3\u239c- \u2500 + 1, a \u22c5z \u22c5\u212f   \u239f\u239f\n    \u239d                                       \u239d  2                \u23a0\u23a0\n\u2500\u2500\u2500\u2500\u2500\u2500\u2500\u2500\u2500\u2500\u2500\u2500\u2500\u2500\u2500\u2500\u2500\u2500\u2500\u2500\u2500\u2500\u2500\u2500\u2500\u2500\u2500\u2500\u2500\u2500\u2500\u2500\u2500\u2500\u2500\u2500\u2500\u2500\u2500\u2500\u2500\u2500\u2500\u2500\u2500\u2500\u2500\u2500\u2500\u2500\u2500\u2500\u2500\u2500\u2500\u2500\u2500\u2500\u2500\u2500\u2500\u2500\u2500\u2500\u2500\u2500\n                           ___                                    \n                         \u2572\u2571 \u03c0 \u22c5a\u22c5(n - 1)                          \n"
      }
     ],
     "prompt_number": 43
    },
    {
     "cell_type": "code",
     "collapsed": false,
     "input": "diff(_, z)",
     "language": "python",
     "metadata": {},
     "outputs": [
      {
       "output_type": "pyout",
       "prompt_number": 44,
       "text": "-n*z**(-n)*(I*sqrt(pi)*a*z*erf(I*a*z) - a**n*z**n*exp(I*pi*n/2)*lowergamma(-n/2 + 1, a**2*z**2*exp_polar(I*pi)))/(sqrt(pi)*a*z*(n - 1)) + z**(-n)*(-2*a**2*a**n*z*z**n*(a**2*z**2*exp_polar(I*pi))**(-n/2)*exp(a**2*z**2)*exp(I*pi*n/2)*exp_polar(I*pi) - 2*a**2*z*exp(a**2*z**2) + I*sqrt(pi)*a*erf(I*a*z) - a**n*n*z**n*exp(I*pi*n/2)*lowergamma(-n/2 + 1, a**2*z**2*exp_polar(I*pi))/z)/(sqrt(pi)*a*(n - 1))"
      }
     ],
     "prompt_number": 44
    },
    {
     "cell_type": "code",
     "collapsed": false,
     "input": "simplify(simplify(powdenest(simplify(unpolarify(_)), force=True)))",
     "language": "python",
     "metadata": {},
     "outputs": [
      {
       "output_type": "pyout",
       "prompt_number": 45,
       "text": "(1/(a*z**2))**n*(a*z)**n*(-2*a*z*exp(a**2*z**2)*exp_polar(I*pi*n/2) + 2*a*z*exp(a**2*z**2 + I*pi*n/2) - I*sqrt(pi)*n*erf(I*a*z)*exp_polar(I*pi*n/2) + I*sqrt(pi)*erf(I*a*z)*exp_polar(I*pi*n/2))*exp_polar(-I*pi*n/2)/(sqrt(pi)*(n - 1))"
      }
     ],
     "prompt_number": 45
    },
    {
     "cell_type": "code",
     "collapsed": false,
     "input": "simplify(simplify(powdenest(simplify(unpolarify(_)), force=True)))",
     "language": "python",
     "metadata": {},
     "outputs": [
      {
       "output_type": "pyout",
       "prompt_number": 46,
       "text": "-I*z**(-n)*erf(I*a*z)"
      }
     ],
     "prompt_number": 46
    },
    {
     "cell_type": "code",
     "collapsed": false,
     "input": "_.rewrite(erfi)",
     "language": "python",
     "metadata": {},
     "outputs": [
      {
       "output_type": "pyout",
       "prompt_number": 47,
       "text": "z**(-n)*erfi(a*z)"
      }
     ],
     "prompt_number": 47
    },
    {
     "cell_type": "code",
     "collapsed": false,
     "input": "",
     "language": "python",
     "metadata": {},
     "outputs": [],
     "prompt_number": 47
    },
    {
     "cell_type": "code",
     "collapsed": false,
     "input": "integrate(cos(b*z)*erf(a*z), z)",
     "language": "python",
     "metadata": {},
     "outputs": [
      {
       "output_type": "pyout",
       "prompt_number": 48,
       "text": "Integral(cos(b*z)*erf(a*z), z)"
      }
     ],
     "prompt_number": 48
    },
    {
     "cell_type": "code",
     "collapsed": false,
     "input": "",
     "language": "python",
     "metadata": {},
     "outputs": [],
     "prompt_number": 48
    },
    {
     "cell_type": "code",
     "collapsed": false,
     "input": "#integrate(erf(a*z**r), z)\nintegrate(erfi(z**r), z)",
     "language": "python",
     "metadata": {},
     "outputs": [
      {
       "output_type": "pyout",
       "prompt_number": 49,
       "text": "-I*z*erf(I*z**r)*gamma(1/2 + 1/(2*r))/(2*gamma(3/2 + 1/(2*r))) + I*exp(-I*pi/(2*r))*gamma(1/2 + 1/(2*r))*lowergamma(1/2 + 1/(2*r), z**(2*r)*exp_polar(I*pi))/(2*sqrt(pi)*gamma(3/2 + 1/(2*r))) - I*z*erf(I*z**r)*gamma(1/2 + 1/(2*r))/(2*r*gamma(3/2 + 1/(2*r))) + I*exp(-I*pi/(2*r))*gamma(1/2 + 1/(2*r))*lowergamma(1/2 + 1/(2*r), z**(2*r)*exp_polar(I*pi))/(2*sqrt(pi)*r*gamma(3/2 + 1/(2*r)))"
      }
     ],
     "prompt_number": 49
    },
    {
     "cell_type": "code",
     "collapsed": false,
     "input": "simplify(_)",
     "language": "python",
     "metadata": {},
     "outputs": [
      {
       "output_type": "pyout",
       "prompt_number": 50,
       "text": "-I*(r + 1)*(sqrt(pi)*z*exp(I*pi/(2*r))*erf(I*z**r) - lowergamma(1/2 + 1/(2*r), z**(2*r)*exp_polar(I*pi)))*exp(-I*pi/(2*r))*gamma(1/2 + 1/(2*r))/(2*sqrt(pi)*r*gamma(3/2 + 1/(2*r)))"
      }
     ],
     "prompt_number": 50
    },
    {
     "cell_type": "code",
     "collapsed": false,
     "input": "pprint(_)",
     "language": "python",
     "metadata": {},
     "outputs": [
      {
       "output_type": "stream",
       "stream": "stdout",
       "text": "           \u239b         \u2148\u22c5\u03c0                                  \u239e  -\u2148\u22c5\u03c0           \n           \u239c         \u2500\u2500\u2500                                  \u239f  \u2500\u2500\u2500\u2500           \n           \u239c  ___    2\u22c5r    \u239b   r\u239e    \u239b1    1    2\u22c5r  \u2148\u22c5\u03c0\u239e\u239f  2\u22c5r   \u239b1    1 \u239e\n-\u2148\u22c5(r + 1)\u22c5\u239c\u2572\u2571 \u03c0 \u22c5z\u22c5\u212f   \u22c5erf\u239d\u2148\u22c5z \u23a0 - \u03b3\u239c\u2500 + \u2500\u2500\u2500, z   \u22c5\u212f   \u239f\u239f\u22c5\u212f    \u22c5\u0393\u239c\u2500 + \u2500\u2500\u2500\u239f\n           \u239d                          \u239d2   2\u22c5r           \u23a0\u23a0        \u239d2   2\u22c5r\u23a0\n\u2500\u2500\u2500\u2500\u2500\u2500\u2500\u2500\u2500\u2500\u2500\u2500\u2500\u2500\u2500\u2500\u2500\u2500\u2500\u2500\u2500\u2500\u2500\u2500\u2500\u2500\u2500\u2500\u2500\u2500\u2500\u2500\u2500\u2500\u2500\u2500\u2500\u2500\u2500\u2500\u2500\u2500\u2500\u2500\u2500\u2500\u2500\u2500\u2500\u2500\u2500\u2500\u2500\u2500\u2500\u2500\u2500\u2500\u2500\u2500\u2500\u2500\u2500\u2500\u2500\u2500\u2500\u2500\u2500\u2500\u2500\u2500\u2500\u2500\u2500\u2500\n                                ___    \u239b3    1 \u239e                            \n                            2\u22c5\u2572\u2571 \u03c0 \u22c5r\u22c5\u0393\u239c\u2500 + \u2500\u2500\u2500\u239f                            \n                                       \u239d2   2\u22c5r\u23a0                            \n"
      }
     ],
     "prompt_number": 51
    },
    {
     "cell_type": "code",
     "collapsed": false,
     "input": "diff(_, z)",
     "language": "python",
     "metadata": {},
     "outputs": [
      {
       "output_type": "pyout",
       "prompt_number": 52,
       "text": "-I*(r + 1)*(2*I*r*z**r*exp(z**(2*r))*exp(I*pi/(2*r)) - 2*r*z**(2*r)*(z**(2*r)*exp_polar(I*pi))**(-1/2 + 1/(2*r))*exp(z**(2*r))*exp_polar(I*pi)/z + sqrt(pi)*exp(I*pi/(2*r))*erf(I*z**r))*exp(-I*pi/(2*r))*gamma(1/2 + 1/(2*r))/(2*sqrt(pi)*r*gamma(3/2 + 1/(2*r)))"
      }
     ],
     "prompt_number": 52
    },
    {
     "cell_type": "code",
     "collapsed": false,
     "input": "powdenest(simplify(unpolarify(_)), force=True)",
     "language": "python",
     "metadata": {},
     "outputs": [
      {
       "output_type": "pyout",
       "prompt_number": 53,
       "text": "-I*(r + 1)*(2*r*z**(r + 1)*exp(z**(2*r))*exp_polar(I*pi*(-1 + 1/r)/2) + 2*I*r*z**(r + 1)*exp(z**(2*r) + I*pi/(2*r)) + sqrt(pi)*z*exp(I*pi/(2*r))*erf(I*z**r))*exp(-I*pi/(2*r))*gamma(1/2 + 1/(2*r))/(2*sqrt(pi)*r*z*gamma(3/2 + 1/(2*r)))"
      }
     ],
     "prompt_number": 53
    },
    {
     "cell_type": "code",
     "collapsed": false,
     "input": "powdenest(simplify(unpolarify(_)), force=True)",
     "language": "python",
     "metadata": {},
     "outputs": [
      {
       "output_type": "pyout",
       "prompt_number": 54,
       "text": "-I*(r + 1)*erf(I*z**r)*gamma(1/2 + 1/(2*r))/(2*r*gamma(3/2 + 1/(2*r)))"
      }
     ],
     "prompt_number": 54
    },
    {
     "cell_type": "code",
     "collapsed": false,
     "input": "simplify(_)",
     "language": "python",
     "metadata": {},
     "outputs": [
      {
       "output_type": "pyout",
       "prompt_number": 55,
       "text": "-I*(r + 1)*erf(I*z**r)*gamma(1/2 + 1/(2*r))/(2*r*gamma(3/2 + 1/(2*r)))"
      }
     ],
     "prompt_number": 55
    },
    {
     "cell_type": "code",
     "collapsed": false,
     "input": "pprint(_)",
     "language": "python",
     "metadata": {},
     "outputs": [
      {
       "output_type": "stream",
       "stream": "stdout",
       "text": "              \u239b   r\u239e  \u239b1    1 \u239e\n-\u2148\u22c5(r + 1)\u22c5erf\u239d\u2148\u22c5z \u23a0\u22c5\u0393\u239c\u2500 + \u2500\u2500\u2500\u239f\n                      \u239d2   2\u22c5r\u23a0\n\u2500\u2500\u2500\u2500\u2500\u2500\u2500\u2500\u2500\u2500\u2500\u2500\u2500\u2500\u2500\u2500\u2500\u2500\u2500\u2500\u2500\u2500\u2500\u2500\u2500\u2500\u2500\u2500\u2500\u2500\u2500\n              \u239b3    1 \u239e        \n         2\u22c5r\u22c5\u0393\u239c\u2500 + \u2500\u2500\u2500\u239f        \n              \u239d2   2\u22c5r\u23a0        \n"
      }
     ],
     "prompt_number": 56
    },
    {
     "cell_type": "code",
     "collapsed": false,
     "input": "expand_func(_)",
     "language": "python",
     "metadata": {},
     "outputs": [
      {
       "output_type": "pyout",
       "prompt_number": 57,
       "text": "-I*(r + 1)*erf(I*z**r)/(2*r*(1/2 + 1/(2*r)))"
      }
     ],
     "prompt_number": 57
    },
    {
     "cell_type": "code",
     "collapsed": false,
     "input": "simplify(_).rewrite(erfi)",
     "language": "python",
     "metadata": {},
     "outputs": [
      {
       "output_type": "pyout",
       "prompt_number": 58,
       "text": "erfi(z**r)"
      }
     ],
     "prompt_number": 58
    },
    {
     "cell_type": "code",
     "collapsed": false,
     "input": "",
     "language": "python",
     "metadata": {},
     "outputs": [],
     "prompt_number": 58
    },
    {
     "cell_type": "code",
     "collapsed": false,
     "input": "#integrate(z**n*erfi(z**r), z)\n# Takes forever",
     "language": "python",
     "metadata": {},
     "outputs": [],
     "prompt_number": 59
    },
    {
     "cell_type": "code",
     "collapsed": false,
     "input": "",
     "language": "python",
     "metadata": {},
     "outputs": [],
     "prompt_number": 59
    },
    {
     "cell_type": "code",
     "collapsed": false,
     "input": "#integrate((z**2-b)*erfi(a*z)/(z**2+b)**2, z)\n# Takes forever",
     "language": "python",
     "metadata": {},
     "outputs": [],
     "prompt_number": 60
    },
    {
     "cell_type": "code",
     "collapsed": false,
     "input": "",
     "language": "python",
     "metadata": {},
     "outputs": [],
     "prompt_number": 60
    },
    {
     "cell_type": "code",
     "collapsed": false,
     "input": "integrate(z * exp(-a**2*z**2) * erfi(a*z), z)",
     "language": "python",
     "metadata": {},
     "outputs": [
      {
       "output_type": "pyout",
       "prompt_number": 61,
       "text": "z/(sqrt(pi)*a) - exp(-a**2*z**2)*erfi(a*z)/(2*a**2)"
      }
     ],
     "prompt_number": 61
    },
    {
     "cell_type": "code",
     "collapsed": false,
     "input": "pprint(_)",
     "language": "python",
     "metadata": {},
     "outputs": [
      {
       "output_type": "stream",
       "stream": "stdout",
       "text": "             2  2          \n           -a \u22c5z           \n   z      \u212f      \u22c5erfi(a\u22c5z)\n\u2500\u2500\u2500\u2500\u2500\u2500\u2500 - \u2500\u2500\u2500\u2500\u2500\u2500\u2500\u2500\u2500\u2500\u2500\u2500\u2500\u2500\u2500\u2500\u2500\n  ___               2      \n\u2572\u2571 \u03c0 \u22c5a          2\u22c5a       \n"
      }
     ],
     "prompt_number": 62
    },
    {
     "cell_type": "code",
     "collapsed": false,
     "input": "diff(_, z)",
     "language": "python",
     "metadata": {},
     "outputs": [
      {
       "output_type": "pyout",
       "prompt_number": 63,
       "text": "z*exp(-a**2*z**2)*erfi(a*z)"
      }
     ],
     "prompt_number": 63
    },
    {
     "cell_type": "code",
     "collapsed": false,
     "input": "",
     "language": "python",
     "metadata": {},
     "outputs": [],
     "prompt_number": 63
    },
    {
     "cell_type": "code",
     "collapsed": false,
     "input": "integrate(exp(b*z)*erfi(a*z), z)",
     "language": "python",
     "metadata": {},
     "outputs": [
      {
       "output_type": "pyout",
       "prompt_number": 64,
       "text": "Integral(exp(b*z)*erfi(a*z), z)"
      }
     ],
     "prompt_number": 64
    },
    {
     "cell_type": "code",
     "collapsed": false,
     "input": "",
     "language": "python",
     "metadata": {},
     "outputs": [],
     "prompt_number": 64
    },
    {
     "cell_type": "code",
     "collapsed": false,
     "input": "integrate(exp(b*z**2)*erfi(a*z), z)",
     "language": "python",
     "metadata": {},
     "outputs": [
      {
       "output_type": "pyout",
       "prompt_number": 65,
       "text": "Integral(exp(b*z**2)*erfi(a*z), z)"
      }
     ],
     "prompt_number": 65
    },
    {
     "cell_type": "code",
     "collapsed": false,
     "input": "",
     "language": "python",
     "metadata": {},
     "outputs": [],
     "prompt_number": 65
    },
    {
     "cell_type": "code",
     "collapsed": false,
     "input": "#integrate(z*exp(z**2)*erfi(z), z)\n# Takes forever",
     "language": "python",
     "metadata": {},
     "outputs": [],
     "prompt_number": 66
    },
    {
     "cell_type": "code",
     "collapsed": false,
     "input": "",
     "language": "python",
     "metadata": {},
     "outputs": [],
     "prompt_number": 66
    },
    {
     "cell_type": "code",
     "collapsed": false,
     "input": "integrate(log(b*z)*erfi(a*z), z)",
     "language": "python",
     "metadata": {},
     "outputs": [
      {
       "output_type": "pyout",
       "prompt_number": 67,
       "text": "Integral(log(b*z)*erfi(a*z), z)"
      }
     ],
     "prompt_number": 67
    },
    {
     "cell_type": "code",
     "collapsed": false,
     "input": "",
     "language": "python",
     "metadata": {},
     "outputs": [],
     "prompt_number": 67
    },
    {
     "cell_type": "code",
     "collapsed": false,
     "input": "integrate(erfi(a*z)**2, z)",
     "language": "python",
     "metadata": {},
     "outputs": [
      {
       "output_type": "pyout",
       "prompt_number": 68,
       "text": "Integral(erfi(a*z)**2, z)"
      }
     ],
     "prompt_number": 68
    },
    {
     "cell_type": "code",
     "collapsed": false,
     "input": "",
     "language": "python",
     "metadata": {},
     "outputs": [],
     "prompt_number": 68
    },
    {
     "cell_type": "code",
     "collapsed": false,
     "input": "integrate(erfi(a*z)*erfi(b*z), z)",
     "language": "python",
     "metadata": {},
     "outputs": [
      {
       "output_type": "pyout",
       "prompt_number": 69,
       "text": "Integral(erfi(a*z)*erfi(b*z), z)"
      }
     ],
     "prompt_number": 69
    }
   ],
   "metadata": {}
  }
 ]
}