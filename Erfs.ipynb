{
 "metadata": {
  "name": "Erfs"
 },
 "nbformat": 3,
 "nbformat_minor": 0,
 "worksheets": [
  {
   "cells": [
    {
     "cell_type": "code",
     "collapsed": false,
     "input": "from sympy import *",
     "language": "python",
     "metadata": {},
     "outputs": [],
     "prompt_number": 1
    },
    {
     "cell_type": "code",
     "collapsed": false,
     "input": "z = Symbol(\"z\")",
     "language": "python",
     "metadata": {},
     "outputs": [],
     "prompt_number": 2
    },
    {
     "cell_type": "code",
     "collapsed": false,
     "input": "# erf",
     "language": "python",
     "metadata": {},
     "outputs": [],
     "prompt_number": 3
    },
    {
     "cell_type": "code",
     "collapsed": false,
     "input": "erf(z)",
     "language": "python",
     "metadata": {},
     "outputs": [
      {
       "output_type": "pyout",
       "prompt_number": 4,
       "text": "erf(z)"
      }
     ],
     "prompt_number": 4
    },
    {
     "cell_type": "code",
     "collapsed": false,
     "input": "# Special values",
     "language": "python",
     "metadata": {},
     "outputs": [],
     "prompt_number": 5
    },
    {
     "cell_type": "code",
     "collapsed": false,
     "input": "erf(0)",
     "language": "python",
     "metadata": {},
     "outputs": [
      {
       "output_type": "pyout",
       "prompt_number": 6,
       "text": "0"
      }
     ],
     "prompt_number": 6
    },
    {
     "cell_type": "code",
     "collapsed": false,
     "input": "erf(oo)",
     "language": "python",
     "metadata": {},
     "outputs": [
      {
       "output_type": "pyout",
       "prompt_number": 7,
       "text": "1"
      }
     ],
     "prompt_number": 7
    },
    {
     "cell_type": "code",
     "collapsed": false,
     "input": "erf(-oo)",
     "language": "python",
     "metadata": {},
     "outputs": [
      {
       "output_type": "pyout",
       "prompt_number": 8,
       "text": "-1"
      }
     ],
     "prompt_number": 8
    },
    {
     "cell_type": "code",
     "collapsed": false,
     "input": "erf(I*oo)",
     "language": "python",
     "metadata": {},
     "outputs": [
      {
       "output_type": "pyout",
       "prompt_number": 9,
       "text": "oo*I"
      }
     ],
     "prompt_number": 9
    },
    {
     "cell_type": "code",
     "collapsed": false,
     "input": "erf(-I*oo)",
     "language": "python",
     "metadata": {},
     "outputs": [
      {
       "output_type": "pyout",
       "prompt_number": 10,
       "text": "-oo*I"
      }
     ],
     "prompt_number": 10
    },
    {
     "cell_type": "code",
     "collapsed": false,
     "input": "erf(-z)",
     "language": "python",
     "metadata": {},
     "outputs": [
      {
       "output_type": "pyout",
       "prompt_number": 11,
       "text": "-erf(z)"
      }
     ],
     "prompt_number": 11
    },
    {
     "cell_type": "code",
     "collapsed": false,
     "input": "erf(I*z)",
     "language": "python",
     "metadata": {},
     "outputs": [
      {
       "output_type": "pyout",
       "prompt_number": 12,
       "text": "erf(I*z)"
      }
     ],
     "prompt_number": 12
    },
    {
     "cell_type": "code",
     "collapsed": false,
     "input": "conjugate(erf(z))",
     "language": "python",
     "metadata": {},
     "outputs": [
      {
       "output_type": "pyout",
       "prompt_number": 13,
       "text": "erf(conjugate(z))"
      }
     ],
     "prompt_number": 13
    },
    {
     "cell_type": "code",
     "collapsed": false,
     "input": "erf(I*z) # could give i * erfi(z)",
     "language": "python",
     "metadata": {},
     "outputs": [
      {
       "output_type": "pyout",
       "prompt_number": 14,
       "text": "erf(I*z)"
      }
     ],
     "prompt_number": 14
    },
    {
     "cell_type": "code",
     "collapsed": false,
     "input": "D = diff(erf(z), z)\npprint(D, use_unicode=True)",
     "language": "python",
     "metadata": {},
     "outputs": [
      {
       "output_type": "stream",
       "stream": "stdout",
       "text": "     2\n   -z \n2\u22c5\u212f   \n\u2500\u2500\u2500\u2500\u2500\u2500\n  ___ \n\u2572\u2571 \u03c0  \n"
      }
     ],
     "prompt_number": 15
    },
    {
     "cell_type": "code",
     "collapsed": false,
     "input": "# Some basic integrals involving linear arguments",
     "language": "python",
     "metadata": {},
     "outputs": [],
     "prompt_number": 16
    },
    {
     "cell_type": "code",
     "collapsed": false,
     "input": "a = Symbol(\"a\")\nb = Symbol(\"b\")",
     "language": "python",
     "metadata": {},
     "outputs": [],
     "prompt_number": 17
    },
    {
     "cell_type": "code",
     "collapsed": false,
     "input": "integrate(erf(a+b*z), z)",
     "language": "python",
     "metadata": {},
     "outputs": [
      {
       "output_type": "pyout",
       "prompt_number": 18,
       "text": "a*erf(a + b*z)/b + z*erf(a + b*z) + exp(-a**2)*exp(-b**2*z**2)*exp(-2*a*b*z)/(sqrt(pi)*b)"
      }
     ],
     "prompt_number": 18
    },
    {
     "cell_type": "code",
     "collapsed": false,
     "input": "pprint(_)",
     "language": "python",
     "metadata": {},
     "outputs": [
      {
       "output_type": "stream",
       "stream": "stdout",
       "text": "                                     2    2  2          \n                                   -a   -b \u22c5z   -2\u22c5a\u22c5b\u22c5z\na\u22c5erf(a + b\u22c5z)                    \u212f   \u22c5\u212f      \u22c5\u212f        \n\u2500\u2500\u2500\u2500\u2500\u2500\u2500\u2500\u2500\u2500\u2500\u2500\u2500\u2500 + z\u22c5erf(a + b\u22c5z) + \u2500\u2500\u2500\u2500\u2500\u2500\u2500\u2500\u2500\u2500\u2500\u2500\u2500\u2500\u2500\u2500\u2500\u2500\u2500\u2500\u2500\u2500\n      b                                    ___          \n                                         \u2572\u2571 \u03c0 \u22c5b        \n"
      }
     ],
     "prompt_number": 19
    },
    {
     "cell_type": "code",
     "collapsed": false,
     "input": "simplify(diff(_, z))",
     "language": "python",
     "metadata": {},
     "outputs": [
      {
       "output_type": "pyout",
       "prompt_number": 20,
       "text": "erf(a + b*z)"
      }
     ],
     "prompt_number": 20
    },
    {
     "cell_type": "code",
     "collapsed": false,
     "input": "integrate(z*erf(a*z), z)",
     "language": "python",
     "metadata": {},
     "outputs": [
      {
       "output_type": "pyout",
       "prompt_number": 21,
       "text": "z**2*erf(a*z)/2 + z*exp(-a**2*z**2)/(2*sqrt(pi)*a) - erf(a*z)/(4*a**2)"
      }
     ],
     "prompt_number": 21
    },
    {
     "cell_type": "code",
     "collapsed": false,
     "input": "pprint(_)",
     "language": "python",
     "metadata": {},
     "outputs": [
      {
       "output_type": "stream",
       "stream": "stdout",
       "text": "                   2  2           \n 2               -a \u22c5z            \nz \u22c5erf(a\u22c5z)   z\u22c5\u212f         erf(a\u22c5z)\n\u2500\u2500\u2500\u2500\u2500\u2500\u2500\u2500\u2500\u2500\u2500 + \u2500\u2500\u2500\u2500\u2500\u2500\u2500\u2500\u2500 - \u2500\u2500\u2500\u2500\u2500\u2500\u2500\u2500\n     2            ___          2  \n              2\u22c5\u2572\u2571 \u03c0 \u22c5a     4\u22c5a   \n"
      }
     ],
     "prompt_number": 22
    },
    {
     "cell_type": "code",
     "collapsed": false,
     "input": "integrate(z**2*erf(a*z), z)",
     "language": "python",
     "metadata": {},
     "outputs": [
      {
       "output_type": "pyout",
       "prompt_number": 23,
       "text": "z**3*erf(a*z)/3 + z**2*exp(-a**2*z**2)/(3*sqrt(pi)*a) + exp(-a**2*z**2)/(3*sqrt(pi)*a**3)"
      }
     ],
     "prompt_number": 23
    },
    {
     "cell_type": "code",
     "collapsed": false,
     "input": "diff(_, z)",
     "language": "python",
     "metadata": {},
     "outputs": [
      {
       "output_type": "pyout",
       "prompt_number": 24,
       "text": "z**2*erf(a*z)"
      }
     ],
     "prompt_number": 24
    },
    {
     "cell_type": "code",
     "collapsed": false,
     "input": "#ii = integrate(z**n*erf(z), z)\n#II = z**(n+1)/(n+1)*(z*(z**2)**((-(n+1)-1)/2)*uppergamma((n+1+1)/2, z**2)+erf(z))",
     "language": "python",
     "metadata": {},
     "outputs": [],
     "prompt_number": 25
    },
    {
     "cell_type": "code",
     "collapsed": false,
     "input": "integrate(erf(a*z)/z, z)",
     "language": "python",
     "metadata": {},
     "outputs": [
      {
       "output_type": "pyout",
       "prompt_number": 26,
       "text": "2*a*z*hyper((1/2, 1/2), (3/2, 3/2), -a**2*z**2)/sqrt(pi)"
      }
     ],
     "prompt_number": 26
    },
    {
     "cell_type": "code",
     "collapsed": false,
     "input": "pprint(_)",
     "language": "python",
     "metadata": {},
     "outputs": [
      {
       "output_type": "stream",
       "stream": "stdout",
       "text": "       \u250c\u2500  \u239b1/2, 1/2 \u2502   2  2\u239e\n2\u22c5a\u22c5z\u22c5 \u251c\u2500  \u239c         \u2502 -a \u22c5z \u239f\n      2\u2575 2 \u239d3/2, 3/2 \u2502       \u23a0\n\u2500\u2500\u2500\u2500\u2500\u2500\u2500\u2500\u2500\u2500\u2500\u2500\u2500\u2500\u2500\u2500\u2500\u2500\u2500\u2500\u2500\u2500\u2500\u2500\u2500\u2500\u2500\u2500\u2500\u2500\n              ___             \n            \u2572\u2571 \u03c0              \n"
      }
     ],
     "prompt_number": 27
    },
    {
     "cell_type": "code",
     "collapsed": false,
     "input": "integrate(erf(a*z)/z**2, z)",
     "language": "python",
     "metadata": {},
     "outputs": [
      {
       "output_type": "pyout",
       "prompt_number": 28,
       "text": "-a**3*z**2*hyper((1, 1, 3/2), (2, 2, 5/2), -a**2*z**2)/(3*sqrt(pi)) + a*log(a**2*z**2)/sqrt(pi)"
      }
     ],
     "prompt_number": 28
    },
    {
     "cell_type": "code",
     "collapsed": false,
     "input": "pprint(_)",
     "language": "python",
     "metadata": {},
     "outputs": [
      {
       "output_type": "stream",
       "stream": "stdout",
       "text": "   3  2  \u250c\u2500  \u239b1, 1, 3/2 \u2502   2  2\u239e               \n  a \u22c5z \u22c5 \u251c\u2500  \u239c          \u2502 -a \u22c5z \u239f        \u239b 2  2\u239e\n        3\u2575 3 \u239d2, 2, 5/2 \u2502       \u23a0   a\u22c5log\u239da \u22c5z \u23a0\n- \u2500\u2500\u2500\u2500\u2500\u2500\u2500\u2500\u2500\u2500\u2500\u2500\u2500\u2500\u2500\u2500\u2500\u2500\u2500\u2500\u2500\u2500\u2500\u2500\u2500\u2500\u2500\u2500\u2500\u2500\u2500 + \u2500\u2500\u2500\u2500\u2500\u2500\u2500\u2500\u2500\u2500\u2500\u2500\n                  ___                    ___    \n              3\u22c5\u2572\u2571 \u03c0                   \u2572\u2571 \u03c0     \n"
      }
     ],
     "prompt_number": 29
    },
    {
     "cell_type": "code",
     "collapsed": false,
     "input": "hyperexpand(_)",
     "language": "python",
     "metadata": {},
     "outputs": [
      {
       "output_type": "pyout",
       "prompt_number": 30,
       "text": "-a**3*z**2*hyper((1, 1, 3/2), (2, 2, 5/2), -a**2*z**2)/(3*sqrt(pi)) + a*log(a**2*z**2)/sqrt(pi)"
      }
     ],
     "prompt_number": 30
    },
    {
     "cell_type": "code",
     "collapsed": false,
     "input": "# does not help",
     "language": "python",
     "metadata": {},
     "outputs": [],
     "prompt_number": 31
    },
    {
     "cell_type": "code",
     "collapsed": false,
     "input": "integrate(cos(b*z)*erf(a*z), z)",
     "language": "python",
     "metadata": {},
     "outputs": [
      {
       "output_type": "pyout",
       "prompt_number": 32,
       "text": "Integral(cos(b*z)*erf(a*z), z)"
      }
     ],
     "prompt_number": 32
    },
    {
     "cell_type": "code",
     "collapsed": false,
     "input": "# Rewrites",
     "language": "python",
     "metadata": {},
     "outputs": [],
     "prompt_number": 33
    },
    {
     "cell_type": "code",
     "collapsed": false,
     "input": "erf(z).rewrite(uppergamma)",
     "language": "python",
     "metadata": {},
     "outputs": [
      {
       "output_type": "pyout",
       "prompt_number": 34,
       "text": "sqrt(z**2)*erf(sqrt(z**2))/z"
      }
     ],
     "prompt_number": 34
    },
    {
     "cell_type": "code",
     "collapsed": false,
     "input": "erf(z).rewrite(expint)",
     "language": "python",
     "metadata": {},
     "outputs": [
      {
       "output_type": "pyout",
       "prompt_number": 35,
       "text": "erf(z)"
      }
     ],
     "prompt_number": 35
    },
    {
     "cell_type": "code",
     "collapsed": false,
     "input": "erf(z).rewrite(erfc)",
     "language": "python",
     "metadata": {},
     "outputs": [
      {
       "output_type": "pyout",
       "prompt_number": 36,
       "text": "-erfc(z) + 1"
      }
     ],
     "prompt_number": 36
    },
    {
     "cell_type": "code",
     "collapsed": false,
     "input": "erf(z).rewrite(erfi)",
     "language": "python",
     "metadata": {},
     "outputs": [
      {
       "output_type": "pyout",
       "prompt_number": 37,
       "text": "-I*erfi(I*z)"
      }
     ],
     "prompt_number": 37
    },
    {
     "cell_type": "code",
     "collapsed": false,
     "input": "erf(z).rewrite(fresnelc) # pointless",
     "language": "python",
     "metadata": {},
     "outputs": [
      {
       "output_type": "pyout",
       "prompt_number": 38,
       "text": "erf(z)"
      }
     ],
     "prompt_number": 38
    },
    {
     "cell_type": "code",
     "collapsed": false,
     "input": "",
     "language": "python",
     "metadata": {},
     "outputs": [],
     "prompt_number": 38
    },
    {
     "cell_type": "code",
     "collapsed": false,
     "input": "# erfc",
     "language": "python",
     "metadata": {},
     "outputs": [],
     "prompt_number": 39
    },
    {
     "cell_type": "code",
     "collapsed": false,
     "input": "erfc(z)",
     "language": "python",
     "metadata": {},
     "outputs": [
      {
       "output_type": "pyout",
       "prompt_number": 40,
       "text": "erfc(z)"
      }
     ],
     "prompt_number": 40
    },
    {
     "cell_type": "code",
     "collapsed": false,
     "input": "erfc(0)",
     "language": "python",
     "metadata": {},
     "outputs": [
      {
       "output_type": "pyout",
       "prompt_number": 41,
       "text": "1"
      }
     ],
     "prompt_number": 41
    },
    {
     "cell_type": "code",
     "collapsed": false,
     "input": "erfc(oo)",
     "language": "python",
     "metadata": {},
     "outputs": [
      {
       "output_type": "pyout",
       "prompt_number": 42,
       "text": "0"
      }
     ],
     "prompt_number": 42
    },
    {
     "cell_type": "code",
     "collapsed": false,
     "input": "erfc(-oo)",
     "language": "python",
     "metadata": {},
     "outputs": [
      {
       "output_type": "pyout",
       "prompt_number": 43,
       "text": "2"
      }
     ],
     "prompt_number": 43
    },
    {
     "cell_type": "code",
     "collapsed": false,
     "input": "erfc(I*oo)",
     "language": "python",
     "metadata": {},
     "outputs": [
      {
       "output_type": "pyout",
       "prompt_number": 44,
       "text": "-oo*I"
      }
     ],
     "prompt_number": 44
    },
    {
     "cell_type": "code",
     "collapsed": false,
     "input": "erfc(-I*oo)",
     "language": "python",
     "metadata": {},
     "outputs": [
      {
       "output_type": "pyout",
       "prompt_number": 45,
       "text": "oo*I"
      }
     ],
     "prompt_number": 45
    },
    {
     "cell_type": "code",
     "collapsed": false,
     "input": "erfc(-z)",
     "language": "python",
     "metadata": {},
     "outputs": [
      {
       "output_type": "pyout",
       "prompt_number": 46,
       "text": "-erfc(z) + 2"
      }
     ],
     "prompt_number": 46
    },
    {
     "cell_type": "code",
     "collapsed": false,
     "input": "conjugate(erfc(z))",
     "language": "python",
     "metadata": {},
     "outputs": [
      {
       "output_type": "pyout",
       "prompt_number": 47,
       "text": "erfc(conjugate(z))"
      }
     ],
     "prompt_number": 47
    },
    {
     "cell_type": "code",
     "collapsed": false,
     "input": "diff(erfc(z), z)",
     "language": "python",
     "metadata": {},
     "outputs": [
      {
       "output_type": "pyout",
       "prompt_number": 48,
       "text": "-2*exp(-z**2)/sqrt(pi)"
      }
     ],
     "prompt_number": 48
    },
    {
     "cell_type": "code",
     "collapsed": false,
     "input": "integrate(erfc(a*z+b), z)",
     "language": "python",
     "metadata": {},
     "outputs": [
      {
       "output_type": "pyout",
       "prompt_number": 49,
       "text": "z*erfc(a*z + b) + b*erfc(a*z + b)/a - exp(-b**2)*exp(-a**2*z**2)*exp(-2*a*b*z)/(sqrt(pi)*a)"
      }
     ],
     "prompt_number": 49
    },
    {
     "cell_type": "code",
     "collapsed": false,
     "input": "simplify(diff(_, z))",
     "language": "python",
     "metadata": {},
     "outputs": [
      {
       "output_type": "pyout",
       "prompt_number": 50,
       "text": "erfc(a*z + b)"
      }
     ],
     "prompt_number": 50
    },
    {
     "cell_type": "code",
     "collapsed": false,
     "input": "simplify(_)",
     "language": "python",
     "metadata": {},
     "outputs": [
      {
       "output_type": "pyout",
       "prompt_number": 51,
       "text": "erfc(a*z + b)"
      }
     ],
     "prompt_number": 51
    },
    {
     "cell_type": "code",
     "collapsed": false,
     "input": "integrate(z*erfc(a*z), z)",
     "language": "python",
     "metadata": {},
     "outputs": [
      {
       "output_type": "pyout",
       "prompt_number": 52,
       "text": "z**2*erfc(a*z)/2 - z*exp(-a**2*z**2)/(2*sqrt(pi)*a) - erfc(a*z)/(4*a**2)"
      }
     ],
     "prompt_number": 52
    },
    {
     "cell_type": "code",
     "collapsed": false,
     "input": "diff(_, z)",
     "language": "python",
     "metadata": {},
     "outputs": [
      {
       "output_type": "pyout",
       "prompt_number": 53,
       "text": "z*erfc(a*z)"
      }
     ],
     "prompt_number": 53
    },
    {
     "cell_type": "code",
     "collapsed": false,
     "input": "integrate(z**2*erfc(a*z), z)",
     "language": "python",
     "metadata": {},
     "outputs": [
      {
       "output_type": "pyout",
       "prompt_number": 54,
       "text": "z**3*erfc(a*z)/3 - z**2*exp(-a**2*z**2)/(3*sqrt(pi)*a) - exp(-a**2*z**2)/(3*sqrt(pi)*a**3)"
      }
     ],
     "prompt_number": 54
    },
    {
     "cell_type": "code",
     "collapsed": false,
     "input": "diff(_, z)",
     "language": "python",
     "metadata": {},
     "outputs": [
      {
       "output_type": "pyout",
       "prompt_number": 55,
       "text": "z**2*erfc(a*z)"
      }
     ],
     "prompt_number": 55
    },
    {
     "cell_type": "code",
     "collapsed": false,
     "input": "integrate(erfc(a*z)/z, z)",
     "language": "python",
     "metadata": {},
     "outputs": [
      {
       "output_type": "pyout",
       "prompt_number": 56,
       "text": "-2*a*z*hyper((1/2, 1/2), (3/2, 3/2), -a**2*z**2)/sqrt(pi) + log(a**2*z**2)/2"
      }
     ],
     "prompt_number": 56
    },
    {
     "cell_type": "code",
     "collapsed": false,
     "input": "pprint(_)",
     "language": "python",
     "metadata": {},
     "outputs": [
      {
       "output_type": "stream",
       "stream": "stdout",
       "text": "         \u250c\u2500  \u239b1/2, 1/2 \u2502   2  2\u239e             \n  2\u22c5a\u22c5z\u22c5 \u251c\u2500  \u239c         \u2502 -a \u22c5z \u239f      \u239b 2  2\u239e\n        2\u2575 2 \u239d3/2, 3/2 \u2502       \u23a0   log\u239da \u22c5z \u23a0\n- \u2500\u2500\u2500\u2500\u2500\u2500\u2500\u2500\u2500\u2500\u2500\u2500\u2500\u2500\u2500\u2500\u2500\u2500\u2500\u2500\u2500\u2500\u2500\u2500\u2500\u2500\u2500\u2500\u2500\u2500 + \u2500\u2500\u2500\u2500\u2500\u2500\u2500\u2500\u2500\u2500\n                ___                    2     \n              \u2572\u2571 \u03c0                           \n"
      }
     ],
     "prompt_number": 57
    },
    {
     "cell_type": "code",
     "collapsed": false,
     "input": "hyperexpand(_)",
     "language": "python",
     "metadata": {},
     "outputs": [
      {
       "output_type": "pyout",
       "prompt_number": 58,
       "text": "-2*a*z*hyper((1/2, 1/2), (3/2, 3/2), -a**2*z**2)/sqrt(pi) + log(a**2*z**2)/2"
      }
     ],
     "prompt_number": 58
    },
    {
     "cell_type": "code",
     "collapsed": false,
     "input": "diff(_, z)",
     "language": "python",
     "metadata": {},
     "outputs": [
      {
       "output_type": "pyout",
       "prompt_number": 59,
       "text": "4*a**3*z**2*hyper((3/2, 3/2), (5/2, 5/2), -a**2*z**2)/(9*sqrt(pi)) - 2*a*hyper((1/2, 1/2), (3/2, 3/2), -a**2*z**2)/sqrt(pi) + 1/z"
      }
     ],
     "prompt_number": 59
    },
    {
     "cell_type": "code",
     "collapsed": false,
     "input": "hyperexpand(_)",
     "language": "python",
     "metadata": {},
     "outputs": [
      {
       "output_type": "pyout",
       "prompt_number": 60,
       "text": "4*a**3*z**2*hyper((3/2, 3/2), (5/2, 5/2), -a**2*z**2)/(9*sqrt(pi)) - 2*a*hyper((1/2, 1/2), (3/2, 3/2), -a**2*z**2)/sqrt(pi) + 1/z"
      }
     ],
     "prompt_number": 60
    },
    {
     "cell_type": "code",
     "collapsed": false,
     "input": "pprint(_)",
     "language": "python",
     "metadata": {},
     "outputs": [
      {
       "output_type": "stream",
       "stream": "stdout",
       "text": "   3  2  \u250c\u2500  \u239b3/2, 3/2 \u2502   2  2\u239e        \u250c\u2500  \u239b1/2, 1/2 \u2502   2  2\u239e    \n4\u22c5a \u22c5z \u22c5 \u251c\u2500  \u239c         \u2502 -a \u22c5z \u239f   2\u22c5a\u22c5 \u251c\u2500  \u239c         \u2502 -a \u22c5z \u239f    \n        2\u2575 2 \u239d5/2, 5/2 \u2502       \u23a0       2\u2575 2 \u239d3/2, 3/2 \u2502       \u23a0   1\n\u2500\u2500\u2500\u2500\u2500\u2500\u2500\u2500\u2500\u2500\u2500\u2500\u2500\u2500\u2500\u2500\u2500\u2500\u2500\u2500\u2500\u2500\u2500\u2500\u2500\u2500\u2500\u2500\u2500\u2500\u2500\u2500 - \u2500\u2500\u2500\u2500\u2500\u2500\u2500\u2500\u2500\u2500\u2500\u2500\u2500\u2500\u2500\u2500\u2500\u2500\u2500\u2500\u2500\u2500\u2500\u2500\u2500\u2500\u2500\u2500 + \u2500\n                ___                             ___               z\n            9\u22c5\u2572\u2571 \u03c0                            \u2572\u2571 \u03c0                 \n"
      }
     ],
     "prompt_number": 61
    },
    {
     "cell_type": "code",
     "collapsed": false,
     "input": "integrate(erfc(a*z)/z**2, z)",
     "language": "python",
     "metadata": {},
     "outputs": [
      {
       "output_type": "pyout",
       "prompt_number": 62,
       "text": "a**3*z**2*hyper((1, 1, 3/2), (2, 2, 5/2), -a**2*z**2)/(3*sqrt(pi)) - a*log(a**2*z**2)/sqrt(pi) - 1/z"
      }
     ],
     "prompt_number": 62
    },
    {
     "cell_type": "code",
     "collapsed": false,
     "input": "pprint(_)",
     "language": "python",
     "metadata": {},
     "outputs": [
      {
       "output_type": "stream",
       "stream": "stdout",
       "text": " 3  2  \u250c\u2500  \u239b1, 1, 3/2 \u2502   2  2\u239e                   \na \u22c5z \u22c5 \u251c\u2500  \u239c          \u2502 -a \u22c5z \u239f        \u239b 2  2\u239e    \n      3\u2575 3 \u239d2, 2, 5/2 \u2502       \u23a0   a\u22c5log\u239da \u22c5z \u23a0   1\n\u2500\u2500\u2500\u2500\u2500\u2500\u2500\u2500\u2500\u2500\u2500\u2500\u2500\u2500\u2500\u2500\u2500\u2500\u2500\u2500\u2500\u2500\u2500\u2500\u2500\u2500\u2500\u2500\u2500\u2500\u2500 - \u2500\u2500\u2500\u2500\u2500\u2500\u2500\u2500\u2500\u2500\u2500\u2500 - \u2500\n                ___                    ___       z\n            3\u22c5\u2572\u2571 \u03c0                   \u2572\u2571 \u03c0         \n"
      }
     ],
     "prompt_number": 63
    },
    {
     "cell_type": "code",
     "collapsed": false,
     "input": "hyperexpand(_)",
     "language": "python",
     "metadata": {},
     "outputs": [
      {
       "output_type": "pyout",
       "prompt_number": 64,
       "text": "a**3*z**2*hyper((1, 1, 3/2), (2, 2, 5/2), -a**2*z**2)/(3*sqrt(pi)) - a*log(a**2*z**2)/sqrt(pi) - 1/z"
      }
     ],
     "prompt_number": 64
    },
    {
     "cell_type": "code",
     "collapsed": false,
     "input": "diff(_, z)",
     "language": "python",
     "metadata": {},
     "outputs": [
      {
       "output_type": "pyout",
       "prompt_number": 65,
       "text": "-a**5*z**3*hyper((2, 2, 5/2), (3, 3, 7/2), -a**2*z**2)/(10*sqrt(pi)) + 2*a**3*z*hyper((1, 1, 3/2), (2, 2, 5/2), -a**2*z**2)/(3*sqrt(pi)) - 2*a/(sqrt(pi)*z) + z**(-2)"
      }
     ],
     "prompt_number": 65
    },
    {
     "cell_type": "code",
     "collapsed": false,
     "input": "simplify(_)",
     "language": "python",
     "metadata": {},
     "outputs": [
      {
       "output_type": "pyout",
       "prompt_number": 66,
       "text": "(-a**5*z**5*hyper((2, 2, 5/2), (3, 3, 7/2), -a**2*z**2)/10 + 2*a**3*z**3*hyper((1, 1, 3/2), (2, 2, 5/2), -a**2*z**2)/3 - 2*a*z + sqrt(pi))/(sqrt(pi)*z**2)"
      }
     ],
     "prompt_number": 66
    },
    {
     "cell_type": "code",
     "collapsed": false,
     "input": "pprint(_)",
     "language": "python",
     "metadata": {},
     "outputs": [
      {
       "output_type": "stream",
       "stream": "stdout",
       "text": "   5  5  \u250c\u2500  \u239b2, 2, 5/2 \u2502   2  2\u239e      3  3  \u250c\u2500  \u239b1, 1, 3/2 \u2502   2  2\u239e         \n  a \u22c5z \u22c5 \u251c\u2500  \u239c          \u2502 -a \u22c5z \u239f   2\u22c5a \u22c5z \u22c5 \u251c\u2500  \u239c          \u2502 -a \u22c5z \u239f         \n        3\u2575 3 \u239d3, 3, 7/2 \u2502       \u23a0           3\u2575 3 \u239d2, 2, 5/2 \u2502       \u23a0         \n- \u2500\u2500\u2500\u2500\u2500\u2500\u2500\u2500\u2500\u2500\u2500\u2500\u2500\u2500\u2500\u2500\u2500\u2500\u2500\u2500\u2500\u2500\u2500\u2500\u2500\u2500\u2500\u2500\u2500\u2500\u2500 + \u2500\u2500\u2500\u2500\u2500\u2500\u2500\u2500\u2500\u2500\u2500\u2500\u2500\u2500\u2500\u2500\u2500\u2500\u2500\u2500\u2500\u2500\u2500\u2500\u2500\u2500\u2500\u2500\u2500\u2500\u2500\u2500\u2500 - 2\u22c5a\u22c5z \n                 10                                 3                         \n\u2500\u2500\u2500\u2500\u2500\u2500\u2500\u2500\u2500\u2500\u2500\u2500\u2500\u2500\u2500\u2500\u2500\u2500\u2500\u2500\u2500\u2500\u2500\u2500\u2500\u2500\u2500\u2500\u2500\u2500\u2500\u2500\u2500\u2500\u2500\u2500\u2500\u2500\u2500\u2500\u2500\u2500\u2500\u2500\u2500\u2500\u2500\u2500\u2500\u2500\u2500\u2500\u2500\u2500\u2500\u2500\u2500\u2500\u2500\u2500\u2500\u2500\u2500\u2500\u2500\u2500\u2500\u2500\u2500\u2500\u2500\u2500\u2500\u2500\u2500\u2500\u2500\u2500\n                                         ___  2                               \n                                       \u2572\u2571 \u03c0 \u22c5z                                \n\n       \n       \n    ___\n+ \u2572\u2571 \u03c0 \n       \n\u2500\u2500\u2500\u2500\u2500\u2500\u2500\n       \n       \n"
      }
     ],
     "prompt_number": 67
    },
    {
     "cell_type": "code",
     "collapsed": false,
     "input": "integrate(erfi(a*z)/z, z)",
     "language": "python",
     "metadata": {},
     "outputs": [
      {
       "output_type": "pyout",
       "prompt_number": 68,
       "text": "2*a*z*hyper((1/2, 1/2), (3/2, 3/2), a**2*z**2)/sqrt(pi)"
      }
     ],
     "prompt_number": 68
    },
    {
     "cell_type": "code",
     "collapsed": false,
     "input": "pprint(_)",
     "language": "python",
     "metadata": {},
     "outputs": [
      {
       "output_type": "stream",
       "stream": "stdout",
       "text": "       \u250c\u2500  \u239b1/2, 1/2 \u2502  2  2\u239e\n2\u22c5a\u22c5z\u22c5 \u251c\u2500  \u239c         \u2502 a \u22c5z \u239f\n      2\u2575 2 \u239d3/2, 3/2 \u2502      \u23a0\n\u2500\u2500\u2500\u2500\u2500\u2500\u2500\u2500\u2500\u2500\u2500\u2500\u2500\u2500\u2500\u2500\u2500\u2500\u2500\u2500\u2500\u2500\u2500\u2500\u2500\u2500\u2500\u2500\u2500\n              ___            \n            \u2572\u2571 \u03c0             \n"
      }
     ],
     "prompt_number": 69
    },
    {
     "cell_type": "code",
     "collapsed": false,
     "input": "",
     "language": "python",
     "metadata": {},
     "outputs": [],
     "prompt_number": 69
    },
    {
     "cell_type": "code",
     "collapsed": false,
     "input": "fourier_transform(erfc(z), z, a)",
     "language": "python",
     "metadata": {},
     "outputs": [
      {
       "output_type": "pyout",
       "prompt_number": 70,
       "text": "I*exp(-pi**2*a**2)/(pi*a)"
      }
     ],
     "prompt_number": 70
    },
    {
     "cell_type": "code",
     "collapsed": false,
     "input": "# No, this is not fourier-transformable!",
     "language": "python",
     "metadata": {},
     "outputs": [],
     "prompt_number": 71
    },
    {
     "cell_type": "code",
     "collapsed": false,
     "input": "# Rewrites",
     "language": "python",
     "metadata": {},
     "outputs": [],
     "prompt_number": 72
    },
    {
     "cell_type": "code",
     "collapsed": false,
     "input": "erfc(z).rewrite(erf)",
     "language": "python",
     "metadata": {},
     "outputs": [
      {
       "output_type": "pyout",
       "prompt_number": 73,
       "text": "-erf(z) + 1"
      }
     ],
     "prompt_number": 73
    },
    {
     "cell_type": "code",
     "collapsed": false,
     "input": "erfc(z).rewrite(erfi)",
     "language": "python",
     "metadata": {},
     "outputs": [
      {
       "output_type": "pyout",
       "prompt_number": 74,
       "text": "I*erfi(I*z) + 1"
      }
     ],
     "prompt_number": 74
    },
    {
     "cell_type": "code",
     "collapsed": false,
     "input": "erfc(z).rewrite(fresnels) # pointless answer",
     "language": "python",
     "metadata": {},
     "outputs": [
      {
       "output_type": "pyout",
       "prompt_number": 75,
       "text": "erfc(z)"
      }
     ],
     "prompt_number": 75
    },
    {
     "cell_type": "code",
     "collapsed": false,
     "input": "",
     "language": "python",
     "metadata": {},
     "outputs": [],
     "prompt_number": 75
    },
    {
     "cell_type": "code",
     "collapsed": false,
     "input": "# erfi",
     "language": "python",
     "metadata": {},
     "outputs": [],
     "prompt_number": 76
    },
    {
     "cell_type": "code",
     "collapsed": false,
     "input": "erfi(z)",
     "language": "python",
     "metadata": {},
     "outputs": [
      {
       "output_type": "pyout",
       "prompt_number": 77,
       "text": "erfi(z)"
      }
     ],
     "prompt_number": 77
    },
    {
     "cell_type": "code",
     "collapsed": false,
     "input": "erfi(0)",
     "language": "python",
     "metadata": {},
     "outputs": [
      {
       "output_type": "pyout",
       "prompt_number": 78,
       "text": "0"
      }
     ],
     "prompt_number": 78
    },
    {
     "cell_type": "code",
     "collapsed": false,
     "input": "erfi(oo)",
     "language": "python",
     "metadata": {},
     "outputs": [
      {
       "output_type": "pyout",
       "prompt_number": 79,
       "text": "oo"
      }
     ],
     "prompt_number": 79
    },
    {
     "cell_type": "code",
     "collapsed": false,
     "input": "erfi(-oo)",
     "language": "python",
     "metadata": {},
     "outputs": [
      {
       "output_type": "pyout",
       "prompt_number": 80,
       "text": "-oo"
      }
     ],
     "prompt_number": 80
    },
    {
     "cell_type": "code",
     "collapsed": false,
     "input": "erfi(I*oo)",
     "language": "python",
     "metadata": {},
     "outputs": [
      {
       "output_type": "pyout",
       "prompt_number": 81,
       "text": "I"
      }
     ],
     "prompt_number": 81
    },
    {
     "cell_type": "code",
     "collapsed": false,
     "input": "erfi(-I*oo)",
     "language": "python",
     "metadata": {},
     "outputs": [
      {
       "output_type": "pyout",
       "prompt_number": 82,
       "text": "-I"
      }
     ],
     "prompt_number": 82
    },
    {
     "cell_type": "code",
     "collapsed": false,
     "input": "erfi(-z)",
     "language": "python",
     "metadata": {},
     "outputs": [
      {
       "output_type": "pyout",
       "prompt_number": 83,
       "text": "-erfi(z)"
      }
     ],
     "prompt_number": 83
    },
    {
     "cell_type": "code",
     "collapsed": false,
     "input": "erfi(I*z) # Can go simpler: I*erf(z)",
     "language": "python",
     "metadata": {},
     "outputs": [
      {
       "output_type": "pyout",
       "prompt_number": 84,
       "text": "erfi(I*z)"
      }
     ],
     "prompt_number": 84
    },
    {
     "cell_type": "code",
     "collapsed": false,
     "input": "erfi(-I*z) # Same here",
     "language": "python",
     "metadata": {},
     "outputs": [
      {
       "output_type": "pyout",
       "prompt_number": 85,
       "text": "-erfi(I*z)"
      }
     ],
     "prompt_number": 85
    },
    {
     "cell_type": "code",
     "collapsed": false,
     "input": "erfi(I*z).rewrite(erf) # does the trick",
     "language": "python",
     "metadata": {},
     "outputs": [
      {
       "output_type": "pyout",
       "prompt_number": 86,
       "text": "I*erf(z)"
      }
     ],
     "prompt_number": 86
    },
    {
     "cell_type": "code",
     "collapsed": false,
     "input": "conjugate(erfi(z))",
     "language": "python",
     "metadata": {},
     "outputs": [
      {
       "output_type": "pyout",
       "prompt_number": 87,
       "text": "erfi(conjugate(z))"
      }
     ],
     "prompt_number": 87
    },
    {
     "cell_type": "code",
     "collapsed": false,
     "input": "diff(erfi(z), z)",
     "language": "python",
     "metadata": {},
     "outputs": [
      {
       "output_type": "pyout",
       "prompt_number": 88,
       "text": "2*exp(z**2)/sqrt(pi)"
      }
     ],
     "prompt_number": 88
    },
    {
     "cell_type": "code",
     "collapsed": false,
     "input": "integrate(erfi(a*z+b), z)",
     "language": "python",
     "metadata": {},
     "outputs": [
      {
       "output_type": "pyout",
       "prompt_number": 89,
       "text": "z*erfi(a*z + b) + b*erfi(a*z + b)/a - exp(b**2)*exp(a**2*z**2)*exp(2*a*b*z)/(sqrt(pi)*a)"
      }
     ],
     "prompt_number": 89
    },
    {
     "cell_type": "code",
     "collapsed": false,
     "input": "simplify(diff(_, z))",
     "language": "python",
     "metadata": {},
     "outputs": [
      {
       "output_type": "pyout",
       "prompt_number": 90,
       "text": "erfi(a*z + b)"
      }
     ],
     "prompt_number": 90
    },
    {
     "cell_type": "code",
     "collapsed": false,
     "input": "integrate(z*erfi(a*z+b), z)",
     "language": "python",
     "metadata": {},
     "outputs": [
      {
       "output_type": "pyout",
       "prompt_number": 91,
       "text": "z**2*erfi(a*z + b)/2 - z*exp(b**2)*exp(a**2*z**2)*exp(2*a*b*z)/(2*sqrt(pi)*a) - b**2*erfi(a*z + b)/(2*a**2) + b*exp(b**2)*exp(a**2*z**2)*exp(2*a*b*z)/(2*sqrt(pi)*a**2) + erfi(a*z + b)/(4*a**2)"
      }
     ],
     "prompt_number": 91
    },
    {
     "cell_type": "code",
     "collapsed": false,
     "input": "simplify(diff(_, z))",
     "language": "python",
     "metadata": {},
     "outputs": [
      {
       "output_type": "pyout",
       "prompt_number": 92,
       "text": "z*erfi(a*z + b)"
      }
     ],
     "prompt_number": 92
    },
    {
     "cell_type": "code",
     "collapsed": false,
     "input": "integrate(z**2*erfi(a*z+b), z)",
     "language": "python",
     "metadata": {},
     "outputs": [
      {
       "output_type": "pyout",
       "prompt_number": 93,
       "text": "z**3*erfi(a*z + b)/3 - z**2*exp(b**2)*exp(a**2*z**2)*exp(2*a*b*z)/(3*sqrt(pi)*a) + b*z*exp(b**2)*exp(a**2*z**2)*exp(2*a*b*z)/(3*sqrt(pi)*a**2) + b**3*erfi(a*z + b)/(3*a**3) - b**2*exp(b**2)*exp(a**2*z**2)*exp(2*a*b*z)/(3*sqrt(pi)*a**3) - b*erfi(a*z + b)/(2*a**3) + exp(b**2)*exp(a**2*z**2)*exp(2*a*b*z)/(3*sqrt(pi)*a**3)"
      }
     ],
     "prompt_number": 93
    },
    {
     "cell_type": "code",
     "collapsed": false,
     "input": "simplify(diff(_, z))",
     "language": "python",
     "metadata": {},
     "outputs": [
      {
       "output_type": "pyout",
       "prompt_number": 94,
       "text": "z**2*erfi(a*z + b)"
      }
     ],
     "prompt_number": 94
    },
    {
     "cell_type": "code",
     "collapsed": false,
     "input": "integrate(erfi(a*z)/z, z)",
     "language": "python",
     "metadata": {},
     "outputs": [
      {
       "output_type": "pyout",
       "prompt_number": 95,
       "text": "2*a*z*hyper((1/2, 1/2), (3/2, 3/2), a**2*z**2)/sqrt(pi)"
      }
     ],
     "prompt_number": 95
    },
    {
     "cell_type": "code",
     "collapsed": false,
     "input": "pprint(_)",
     "language": "python",
     "metadata": {},
     "outputs": [
      {
       "output_type": "stream",
       "stream": "stdout",
       "text": "       \u250c\u2500  \u239b1/2, 1/2 \u2502  2  2\u239e\n2\u22c5a\u22c5z\u22c5 \u251c\u2500  \u239c         \u2502 a \u22c5z \u239f\n      2\u2575 2 \u239d3/2, 3/2 \u2502      \u23a0\n\u2500\u2500\u2500\u2500\u2500\u2500\u2500\u2500\u2500\u2500\u2500\u2500\u2500\u2500\u2500\u2500\u2500\u2500\u2500\u2500\u2500\u2500\u2500\u2500\u2500\u2500\u2500\u2500\u2500\n              ___            \n            \u2572\u2571 \u03c0             \n"
      }
     ],
     "prompt_number": 96
    },
    {
     "cell_type": "code",
     "collapsed": false,
     "input": "integrate(erfi(a*z)/z**2, z)",
     "language": "python",
     "metadata": {},
     "outputs": [
      {
       "output_type": "pyout",
       "prompt_number": 97,
       "text": "a**3*z**2*hyper((1, 1, 3/2), (2, 2, 5/2), a**2*z**2)/(3*sqrt(pi)) + a*log(a**2*z**2)/sqrt(pi)"
      }
     ],
     "prompt_number": 97
    },
    {
     "cell_type": "code",
     "collapsed": false,
     "input": "pprint(_)",
     "language": "python",
     "metadata": {},
     "outputs": [
      {
       "output_type": "stream",
       "stream": "stdout",
       "text": " 3  2  \u250c\u2500  \u239b1, 1, 3/2 \u2502  2  2\u239e               \na \u22c5z \u22c5 \u251c\u2500  \u239c          \u2502 a \u22c5z \u239f        \u239b 2  2\u239e\n      3\u2575 3 \u239d2, 2, 5/2 \u2502      \u23a0   a\u22c5log\u239da \u22c5z \u23a0\n\u2500\u2500\u2500\u2500\u2500\u2500\u2500\u2500\u2500\u2500\u2500\u2500\u2500\u2500\u2500\u2500\u2500\u2500\u2500\u2500\u2500\u2500\u2500\u2500\u2500\u2500\u2500\u2500\u2500\u2500 + \u2500\u2500\u2500\u2500\u2500\u2500\u2500\u2500\u2500\u2500\u2500\u2500\n               ___                    ___    \n           3\u22c5\u2572\u2571 \u03c0                   \u2572\u2571 \u03c0     \n"
      }
     ],
     "prompt_number": 98
    },
    {
     "cell_type": "code",
     "collapsed": false,
     "input": "hyperexpand(_)",
     "language": "python",
     "metadata": {},
     "outputs": [
      {
       "output_type": "pyout",
       "prompt_number": 99,
       "text": "a**3*z**2*hyper((1, 1, 3/2), (2, 2, 5/2), a**2*z**2)/(3*sqrt(pi)) + a*log(a**2*z**2)/sqrt(pi)"
      }
     ],
     "prompt_number": 99
    },
    {
     "cell_type": "code",
     "collapsed": false,
     "input": "# rewrites",
     "language": "python",
     "metadata": {},
     "outputs": [],
     "prompt_number": 100
    },
    {
     "cell_type": "code",
     "collapsed": false,
     "input": "erfi(z).rewrite(erf)",
     "language": "python",
     "metadata": {},
     "outputs": [
      {
       "output_type": "pyout",
       "prompt_number": 101,
       "text": "-I*erf(I*z)"
      }
     ],
     "prompt_number": 101
    },
    {
     "cell_type": "code",
     "collapsed": false,
     "input": "erfi(z).rewrite(erfc)",
     "language": "python",
     "metadata": {},
     "outputs": [
      {
       "output_type": "pyout",
       "prompt_number": 102,
       "text": "I*erfc(I*z) - I"
      }
     ],
     "prompt_number": 102
    },
    {
     "cell_type": "code",
     "collapsed": false,
     "input": "erfi(z).rewrite(fresnels) # pointless",
     "language": "python",
     "metadata": {},
     "outputs": [
      {
       "output_type": "pyout",
       "prompt_number": 103,
       "text": "erfi(z)"
      }
     ],
     "prompt_number": 103
    },
    {
     "cell_type": "code",
     "collapsed": false,
     "input": "",
     "language": "python",
     "metadata": {},
     "outputs": [],
     "prompt_number": 103
    },
    {
     "cell_type": "code",
     "collapsed": false,
     "input": "# Test series expansions",
     "language": "python",
     "metadata": {},
     "outputs": [],
     "prompt_number": 104
    },
    {
     "cell_type": "code",
     "collapsed": false,
     "input": "series(erf(z), z, 0, n=10)",
     "language": "python",
     "metadata": {},
     "outputs": [
      {
       "output_type": "pyout",
       "prompt_number": 105,
       "text": "2*z/sqrt(pi) - 2*z**3/(3*sqrt(pi)) + z**5/(5*sqrt(pi)) - z**7/(21*sqrt(pi)) + z**9/(108*sqrt(pi)) + O(z**10)"
      }
     ],
     "prompt_number": 105
    },
    {
     "cell_type": "code",
     "collapsed": false,
     "input": "pprint(_)",
     "language": "python",
     "metadata": {},
     "outputs": [
      {
       "output_type": "stream",
       "stream": "stdout",
       "text": "             3        5         7           9            \n 2\u22c5z      2\u22c5z        z         z           z        \u239b 10\u239e\n\u2500\u2500\u2500\u2500\u2500 - \u2500\u2500\u2500\u2500\u2500\u2500\u2500 + \u2500\u2500\u2500\u2500\u2500\u2500\u2500 - \u2500\u2500\u2500\u2500\u2500\u2500\u2500\u2500 + \u2500\u2500\u2500\u2500\u2500\u2500\u2500\u2500\u2500 + O\u239dz  \u23a0\n  ___       ___       ___        ___         ___         \n\u2572\u2571 \u03c0    3\u22c5\u2572\u2571 \u03c0    5\u22c5\u2572\u2571 \u03c0    21\u22c5\u2572\u2571 \u03c0    108\u22c5\u2572\u2571 \u03c0          \n"
      }
     ],
     "prompt_number": 106
    },
    {
     "cell_type": "code",
     "collapsed": false,
     "input": "[ 2/sqrt(pi)*(-1)**k*z**(2*k+1) / (factorial(k) * (2*k+1)) for k in xrange(0,5) ]",
     "language": "python",
     "metadata": {},
     "outputs": [
      {
       "output_type": "pyout",
       "prompt_number": 107,
       "text": "[2*z/sqrt(pi),\n -2*z**3/(3*sqrt(pi)),\n z**5/(5*sqrt(pi)),\n -z**7/(21*sqrt(pi)),\n z**9/(108*sqrt(pi))]"
      }
     ],
     "prompt_number": 107
    },
    {
     "cell_type": "code",
     "collapsed": false,
     "input": "[ erf(z).taylor_term(k, z) for k in xrange(10) ]",
     "language": "python",
     "metadata": {},
     "outputs": [
      {
       "output_type": "pyout",
       "prompt_number": 108,
       "text": "[0,\n 2*z/sqrt(pi),\n 0,\n -2*z**3/(3*sqrt(pi)),\n 0,\n z**5/(5*sqrt(pi)),\n 0,\n -z**7/(21*sqrt(pi)),\n 0,\n z**9/(108*sqrt(pi))]"
      }
     ],
     "prompt_number": 108
    },
    {
     "cell_type": "code",
     "collapsed": false,
     "input": "",
     "language": "python",
     "metadata": {},
     "outputs": [],
     "prompt_number": 108
    },
    {
     "cell_type": "code",
     "collapsed": false,
     "input": "series(erfc(z), z, 0, n=10)",
     "language": "python",
     "metadata": {},
     "outputs": [
      {
       "output_type": "pyout",
       "prompt_number": 109,
       "text": "1 - 2*z/sqrt(pi) + 2*z**3/(3*sqrt(pi)) - z**5/(5*sqrt(pi)) + z**7/(21*sqrt(pi)) - z**9/(108*sqrt(pi)) + O(z**10)"
      }
     ],
     "prompt_number": 109
    },
    {
     "cell_type": "code",
     "collapsed": false,
     "input": "pprint(_)",
     "language": "python",
     "metadata": {},
     "outputs": [
      {
       "output_type": "stream",
       "stream": "stdout",
       "text": "                 3        5         7           9            \n     2\u22c5z      2\u22c5z        z         z           z        \u239b 10\u239e\n1 - \u2500\u2500\u2500\u2500\u2500 + \u2500\u2500\u2500\u2500\u2500\u2500\u2500 - \u2500\u2500\u2500\u2500\u2500\u2500\u2500 + \u2500\u2500\u2500\u2500\u2500\u2500\u2500\u2500 - \u2500\u2500\u2500\u2500\u2500\u2500\u2500\u2500\u2500 + O\u239dz  \u23a0\n      ___       ___       ___        ___         ___         \n    \u2572\u2571 \u03c0    3\u22c5\u2572\u2571 \u03c0    5\u22c5\u2572\u2571 \u03c0    21\u22c5\u2572\u2571 \u03c0    108\u22c5\u2572\u2571 \u03c0          \n"
      }
     ],
     "prompt_number": 110
    },
    {
     "cell_type": "code",
     "collapsed": false,
     "input": "[ -2/sqrt(pi)*(-1)**k*z**(2*k+1) / (factorial(k) * (2*k+1)) for k in xrange(0,5) ]",
     "language": "python",
     "metadata": {},
     "outputs": [
      {
       "output_type": "pyout",
       "prompt_number": 111,
       "text": "[-2*z/sqrt(pi),\n 2*z**3/(3*sqrt(pi)),\n -z**5/(5*sqrt(pi)),\n z**7/(21*sqrt(pi)),\n -z**9/(108*sqrt(pi))]"
      }
     ],
     "prompt_number": 111
    },
    {
     "cell_type": "code",
     "collapsed": false,
     "input": "[ erfc(z).taylor_term(k, z) for k in xrange(10) ]",
     "language": "python",
     "metadata": {},
     "outputs": [
      {
       "output_type": "pyout",
       "prompt_number": 112,
       "text": "[1,\n -2*z/sqrt(pi),\n 0,\n 2*z**3/(3*sqrt(pi)),\n 0,\n -z**5/(5*sqrt(pi)),\n 0,\n z**7/(21*sqrt(pi)),\n 0,\n -z**9/(108*sqrt(pi))]"
      }
     ],
     "prompt_number": 112
    },
    {
     "cell_type": "code",
     "collapsed": false,
     "input": "",
     "language": "python",
     "metadata": {},
     "outputs": [],
     "prompt_number": 112
    },
    {
     "cell_type": "code",
     "collapsed": false,
     "input": "series(erfi(z), z, 0, n=10)",
     "language": "python",
     "metadata": {},
     "outputs": [
      {
       "output_type": "pyout",
       "prompt_number": 113,
       "text": "2*z/sqrt(pi) + 2*z**3/(3*sqrt(pi)) + z**5/(5*sqrt(pi)) + z**7/(21*sqrt(pi)) + z**9/(108*sqrt(pi)) + O(z**10)"
      }
     ],
     "prompt_number": 113
    },
    {
     "cell_type": "code",
     "collapsed": false,
     "input": "pprint(_)",
     "language": "python",
     "metadata": {},
     "outputs": [
      {
       "output_type": "stream",
       "stream": "stdout",
       "text": "             3        5         7           9            \n 2\u22c5z      2\u22c5z        z         z           z        \u239b 10\u239e\n\u2500\u2500\u2500\u2500\u2500 + \u2500\u2500\u2500\u2500\u2500\u2500\u2500 + \u2500\u2500\u2500\u2500\u2500\u2500\u2500 + \u2500\u2500\u2500\u2500\u2500\u2500\u2500\u2500 + \u2500\u2500\u2500\u2500\u2500\u2500\u2500\u2500\u2500 + O\u239dz  \u23a0\n  ___       ___       ___        ___         ___         \n\u2572\u2571 \u03c0    3\u22c5\u2572\u2571 \u03c0    5\u22c5\u2572\u2571 \u03c0    21\u22c5\u2572\u2571 \u03c0    108\u22c5\u2572\u2571 \u03c0          \n"
      }
     ],
     "prompt_number": 114
    },
    {
     "cell_type": "code",
     "collapsed": false,
     "input": "[ 2/sqrt(pi)*z**(2*k+1) / (factorial(k) * (2*k+1)) for k in xrange(0,5) ]",
     "language": "python",
     "metadata": {},
     "outputs": [
      {
       "output_type": "pyout",
       "prompt_number": 115,
       "text": "[2*z/sqrt(pi),\n 2*z**3/(3*sqrt(pi)),\n z**5/(5*sqrt(pi)),\n z**7/(21*sqrt(pi)),\n z**9/(108*sqrt(pi))]"
      }
     ],
     "prompt_number": 115
    },
    {
     "cell_type": "code",
     "collapsed": false,
     "input": "[ erfi(z).taylor_term(k, z) for k in xrange(10) ]",
     "language": "python",
     "metadata": {},
     "outputs": [
      {
       "output_type": "pyout",
       "prompt_number": 116,
       "text": "[0,\n 2*z/sqrt(pi),\n 0,\n 2*z**3/(3*sqrt(pi)),\n 0,\n z**5/(5*sqrt(pi)),\n 0,\n z**7/(21*sqrt(pi)),\n 0,\n z**9/(108*sqrt(pi))]"
      }
     ],
     "prompt_number": 116
    },
    {
     "cell_type": "code",
     "collapsed": false,
     "input": "",
     "language": "python",
     "metadata": {},
     "outputs": [],
     "prompt_number": 116
    },
    {
     "cell_type": "code",
     "collapsed": false,
     "input": "# Test some F stuff",
     "language": "python",
     "metadata": {},
     "outputs": [],
     "prompt_number": 117
    },
    {
     "cell_type": "code",
     "collapsed": false,
     "input": "1 - 2*z/sqrt(pi)*hyper([S(1)/2],[S(3)/2],z)",
     "language": "python",
     "metadata": {},
     "outputs": [
      {
       "output_type": "pyout",
       "prompt_number": 118,
       "text": "-2*z*hyper((1/2,), (3/2,), z)/sqrt(pi) + 1"
      }
     ],
     "prompt_number": 118
    },
    {
     "cell_type": "code",
     "collapsed": false,
     "input": "pprint(_)",
     "language": "python",
     "metadata": {},
     "outputs": [
      {
       "output_type": "stream",
       "stream": "stdout",
       "text": "       \u250c\u2500  \u239b1/2 \u2502  \u239e    \n  2\u22c5z\u22c5 \u251c\u2500  \u239c    \u2502 z\u239f    \n      1\u2575 1 \u239d3/2 \u2502  \u23a0    \n- \u2500\u2500\u2500\u2500\u2500\u2500\u2500\u2500\u2500\u2500\u2500\u2500\u2500\u2500\u2500\u2500\u2500\u2500 + 1\n          ___           \n        \u2572\u2571 \u03c0            \n"
      }
     ],
     "prompt_number": 119
    },
    {
     "cell_type": "code",
     "collapsed": false,
     "input": "hyperexpand(_)",
     "language": "python",
     "metadata": {},
     "outputs": [
      {
       "output_type": "pyout",
       "prompt_number": 120,
       "text": "I*sqrt(z)*erf(I*sqrt(z)) + 1"
      }
     ],
     "prompt_number": 120
    },
    {
     "cell_type": "code",
     "collapsed": false,
     "input": "pprint(_)",
     "language": "python",
     "metadata": {},
     "outputs": [
      {
       "output_type": "stream",
       "stream": "stdout",
       "text": "    ___    \u239b    ___\u239e    \n\u2148\u22c5\u2572\u2571 z \u22c5erf\u239d\u2148\u22c5\u2572\u2571 z \u23a0 + 1\n"
      }
     ],
     "prompt_number": 121
    },
    {
     "cell_type": "code",
     "collapsed": false,
     "input": "_.rewrite(erfc)",
     "language": "python",
     "metadata": {},
     "outputs": [
      {
       "output_type": "pyout",
       "prompt_number": 122,
       "text": "I*sqrt(z)*(-erfc(I*sqrt(z)) + 1) + 1"
      }
     ],
     "prompt_number": 122
    },
    {
     "cell_type": "code",
     "collapsed": false,
     "input": "simplify(_)",
     "language": "python",
     "metadata": {},
     "outputs": [
      {
       "output_type": "pyout",
       "prompt_number": 123,
       "text": "-I*sqrt(z)*(erfc(I*sqrt(z)) - 1) + 1"
      }
     ],
     "prompt_number": 123
    },
    {
     "cell_type": "code",
     "collapsed": false,
     "input": "pprint(_)",
     "language": "python",
     "metadata": {},
     "outputs": [
      {
       "output_type": "stream",
       "stream": "stdout",
       "text": "      ___ \u239b    \u239b    ___\u239e    \u239e    \n- \u2148\u22c5\u2572\u2571 z \u22c5\u239derfc\u239d\u2148\u22c5\u2572\u2571 z \u23a0 - 1\u23a0 + 1\n"
      }
     ],
     "prompt_number": 124
    },
    {
     "cell_type": "code",
     "collapsed": false,
     "input": "",
     "language": "python",
     "metadata": {},
     "outputs": [],
     "prompt_number": 124
    },
    {
     "cell_type": "code",
     "collapsed": false,
     "input": "# Integral transforms",
     "language": "python",
     "metadata": {},
     "outputs": [],
     "prompt_number": 125
    },
    {
     "cell_type": "code",
     "collapsed": false,
     "input": "t = Symbol(\"t\")",
     "language": "python",
     "metadata": {},
     "outputs": [],
     "prompt_number": 126
    },
    {
     "cell_type": "code",
     "collapsed": false,
     "input": "laplace_transform(erf(t), t, z, noconds=True)",
     "language": "python",
     "metadata": {},
     "outputs": [
      {
       "output_type": "pyout",
       "prompt_number": 127,
       "text": "(-erf(z/2) + 1)*exp(z**2/4)/z"
      }
     ],
     "prompt_number": 127
    },
    {
     "cell_type": "code",
     "collapsed": false,
     "input": "pprint(_)",
     "language": "python",
     "metadata": {},
     "outputs": [
      {
       "output_type": "stream",
       "stream": "stdout",
       "text": "                 2\n                z \n                \u2500\u2500\n\u239b     \u239bz\u239e    \u239e  4 \n\u239c- erf\u239c\u2500\u239f + 1\u239f\u22c5\u212f  \n\u239d     \u239d2\u23a0    \u23a0    \n\u2500\u2500\u2500\u2500\u2500\u2500\u2500\u2500\u2500\u2500\u2500\u2500\u2500\u2500\u2500\u2500\u2500\u2500\n        z         \n"
      }
     ],
     "prompt_number": 128
    },
    {
     "cell_type": "code",
     "collapsed": false,
     "input": "",
     "language": "python",
     "metadata": {},
     "outputs": [],
     "prompt_number": 128
    },
    {
     "cell_type": "code",
     "collapsed": false,
     "input": "laplace_transform(erfc(t), t, z, noconds=True)",
     "language": "python",
     "metadata": {},
     "outputs": [
      {
       "output_type": "pyout",
       "prompt_number": 129,
       "text": "(exp(z**2/4)*erf(z/2) - exp(z**2/4) + 1)/z"
      }
     ],
     "prompt_number": 129
    },
    {
     "cell_type": "code",
     "collapsed": false,
     "input": "pprint(_)",
     "language": "python",
     "metadata": {},
     "outputs": [
      {
       "output_type": "stream",
       "stream": "stdout",
       "text": "  2            2    \n z            z     \n \u2500\u2500           \u2500\u2500    \n 4     \u239bz\u239e    4     \n\u212f  \u22c5erf\u239c\u2500\u239f - \u212f   + 1\n       \u239d2\u23a0          \n\u2500\u2500\u2500\u2500\u2500\u2500\u2500\u2500\u2500\u2500\u2500\u2500\u2500\u2500\u2500\u2500\u2500\u2500\u2500\u2500\n         z          \n"
      }
     ],
     "prompt_number": 130
    },
    {
     "cell_type": "code",
     "collapsed": false,
     "input": "inverse_laplace_transform(_, z, t)",
     "language": "python",
     "metadata": {},
     "outputs": [
      {
       "output_type": "pyout",
       "prompt_number": 131,
       "text": "Heaviside(t) - InverseLaplaceTransform(exp(z**2/4)/z, z, t, _None) + InverseLaplaceTransform(exp(z**2/4)*erf(z/2)/z, z, t, _None)"
      }
     ],
     "prompt_number": 131
    },
    {
     "cell_type": "code",
     "collapsed": false,
     "input": "laplace_transform(erfc(t).rewrite(erf), t, z, noconds=True)",
     "language": "python",
     "metadata": {},
     "outputs": [
      {
       "output_type": "pyout",
       "prompt_number": 132,
       "text": "((erf(z/2) - 1)*exp(z**2/4) + 1)/z"
      }
     ],
     "prompt_number": 132
    },
    {
     "cell_type": "code",
     "collapsed": false,
     "input": "pprint(_)",
     "language": "python",
     "metadata": {},
     "outputs": [
      {
       "output_type": "stream",
       "stream": "stdout",
       "text": "               2    \n              z     \n              \u2500\u2500    \n\u239b   \u239bz\u239e    \u239e  4     \n\u239cerf\u239c\u2500\u239f - 1\u239f\u22c5\u212f   + 1\n\u239d   \u239d2\u23a0    \u23a0        \n\u2500\u2500\u2500\u2500\u2500\u2500\u2500\u2500\u2500\u2500\u2500\u2500\u2500\u2500\u2500\u2500\u2500\u2500\u2500\u2500\n         z          \n"
      }
     ],
     "prompt_number": 133
    },
    {
     "cell_type": "code",
     "collapsed": false,
     "input": "",
     "language": "python",
     "metadata": {},
     "outputs": [],
     "prompt_number": 133
    },
    {
     "cell_type": "code",
     "collapsed": false,
     "input": "laplace_transform(erfi(t), t, z)",
     "language": "python",
     "metadata": {},
     "outputs": [
      {
       "output_type": "pyout",
       "prompt_number": 134,
       "text": "LaplaceTransform(erfi(t), t, z)"
      }
     ],
     "prompt_number": 134
    },
    {
     "cell_type": "code",
     "collapsed": false,
     "input": "laplace_transform(erfi(t).rewrite(erf), t, z)",
     "language": "python",
     "metadata": {},
     "outputs": [
      {
       "output_type": "pyout",
       "prompt_number": 135,
       "text": "-I*LaplaceTransform(erf(I*t), t, z)"
      }
     ],
     "prompt_number": 135
    },
    {
     "cell_type": "code",
     "collapsed": false,
     "input": "",
     "language": "python",
     "metadata": {},
     "outputs": [],
     "prompt_number": 135
    },
    {
     "cell_type": "code",
     "collapsed": false,
     "input": "# Definitions via integrals",
     "language": "python",
     "metadata": {},
     "outputs": [],
     "prompt_number": 136
    },
    {
     "cell_type": "code",
     "collapsed": false,
     "input": "2/sqrt(pi)*integrate(exp(-t**2), (t, 0, z))",
     "language": "python",
     "metadata": {},
     "outputs": [
      {
       "output_type": "pyout",
       "prompt_number": 137,
       "text": "erf(z)"
      }
     ],
     "prompt_number": 137
    },
    {
     "cell_type": "code",
     "collapsed": false,
     "input": "",
     "language": "python",
     "metadata": {},
     "outputs": [],
     "prompt_number": 137
    },
    {
     "cell_type": "code",
     "collapsed": false,
     "input": "2/sqrt(pi)*integrate(exp(t**2), (t, 0, z))",
     "language": "python",
     "metadata": {},
     "outputs": [
      {
       "output_type": "pyout",
       "prompt_number": 138,
       "text": "-I*erf(I*z)"
      }
     ],
     "prompt_number": 138
    },
    {
     "cell_type": "code",
     "collapsed": false,
     "input": "_.rewrite(erfi)",
     "language": "python",
     "metadata": {},
     "outputs": [
      {
       "output_type": "pyout",
       "prompt_number": 139,
       "text": "erfi(z)"
      }
     ],
     "prompt_number": 139
    },
    {
     "cell_type": "code",
     "collapsed": false,
     "input": "",
     "language": "python",
     "metadata": {},
     "outputs": [],
     "prompt_number": 139
    },
    {
     "cell_type": "code",
     "collapsed": false,
     "input": "2/pi * integrate(exp(-t**2) * sin(2*z*t)/t, (t, 0, oo))",
     "language": "python",
     "metadata": {},
     "outputs": [
      {
       "output_type": "pyout",
       "prompt_number": 140,
       "text": "erf(z)"
      }
     ],
     "prompt_number": 140
    },
    {
     "cell_type": "code",
     "collapsed": false,
     "input": "",
     "language": "python",
     "metadata": {},
     "outputs": [],
     "prompt_number": 140
    },
    {
     "cell_type": "code",
     "collapsed": false,
     "input": "2/sqrt(pi) * exp(z**2) * integrate(exp(-t**2) * sin(2*z*t), (t, 0, oo))",
     "language": "python",
     "metadata": {},
     "outputs": [
      {
       "output_type": "pyout",
       "prompt_number": 141,
       "text": "-I*erf(I*z)"
      }
     ],
     "prompt_number": 141
    },
    {
     "cell_type": "code",
     "collapsed": false,
     "input": "_.rewrite(erfi)",
     "language": "python",
     "metadata": {},
     "outputs": [
      {
       "output_type": "pyout",
       "prompt_number": 142,
       "text": "erfi(z)"
      }
     ],
     "prompt_number": 142
    },
    {
     "cell_type": "code",
     "collapsed": false,
     "input": "erfc",
     "language": "python",
     "metadata": {},
     "outputs": [
      {
       "output_type": "pyout",
       "prompt_number": 143,
       "text": "sympy.functions.special.error_functions.erfc"
      }
     ],
     "prompt_number": 143
    },
    {
     "cell_type": "code",
     "collapsed": false,
     "input": "",
     "language": "python",
     "metadata": {},
     "outputs": [],
     "prompt_number": 143
    },
    {
     "cell_type": "code",
     "collapsed": false,
     "input": "# MeijerG formula expansion",
     "language": "python",
     "metadata": {},
     "outputs": [],
     "prompt_number": 144
    },
    {
     "cell_type": "code",
     "collapsed": false,
     "input": "# erf\n1/sqrt(pi) * meijerg([1], [], [S(1)/2], [0], z**2)",
     "language": "python",
     "metadata": {},
     "outputs": [
      {
       "output_type": "pyout",
       "prompt_number": 145,
       "text": "meijerg(((1,), ()), ((1/2,), (0,)), z**2)/sqrt(pi)"
      }
     ],
     "prompt_number": 145
    },
    {
     "cell_type": "code",
     "collapsed": false,
     "input": "pprint(_)",
     "language": "python",
     "metadata": {},
     "outputs": [
      {
       "output_type": "stream",
       "stream": "stdout",
       "text": "\u256d\u2500\u256e1, 1 \u239b 1     \u2502  2\u239e\n\u2502\u2576\u2510     \u239c       \u2502 z \u239f\n\u2570\u2500\u256f1, 2 \u239d1/2  0 \u2502   \u23a0\n\u2500\u2500\u2500\u2500\u2500\u2500\u2500\u2500\u2500\u2500\u2500\u2500\u2500\u2500\u2500\u2500\u2500\u2500\u2500\u2500\u2500\n          ___        \n        \u2572\u2571 \u03c0         \n"
      }
     ],
     "prompt_number": 146
    },
    {
     "cell_type": "code",
     "collapsed": false,
     "input": "hyperexpand(_)",
     "language": "python",
     "metadata": {},
     "outputs": [
      {
       "output_type": "pyout",
       "prompt_number": 147,
       "text": "erf(z)"
      }
     ],
     "prompt_number": 147
    },
    {
     "cell_type": "code",
     "collapsed": false,
     "input": "# erfc\n1/sqrt(pi) * meijerg([], [1], [0, S(1)/2], [], z**2)",
     "language": "python",
     "metadata": {},
     "outputs": [
      {
       "output_type": "pyout",
       "prompt_number": 148,
       "text": "meijerg(((), (1,)), ((0, 1/2), ()), z**2)/sqrt(pi)"
      }
     ],
     "prompt_number": 148
    },
    {
     "cell_type": "code",
     "collapsed": false,
     "input": "pprint(_)",
     "language": "python",
     "metadata": {},
     "outputs": [
      {
       "output_type": "stream",
       "stream": "stdout",
       "text": "\u256d\u2500\u256e2, 0 \u239b        1 \u2502  2\u239e\n\u2502\u2576\u2510     \u239c          \u2502 z \u239f\n\u2570\u2500\u256f1, 2 \u239d0, 1/2    \u2502   \u23a0\n\u2500\u2500\u2500\u2500\u2500\u2500\u2500\u2500\u2500\u2500\u2500\u2500\u2500\u2500\u2500\u2500\u2500\u2500\u2500\u2500\u2500\u2500\u2500\u2500\n           ___          \n         \u2572\u2571 \u03c0           \n"
      }
     ],
     "prompt_number": 149
    },
    {
     "cell_type": "code",
     "collapsed": false,
     "input": "simplify(hyperexpand(_))",
     "language": "python",
     "metadata": {},
     "outputs": [
      {
       "output_type": "pyout",
       "prompt_number": 150,
       "text": "-erf(z) + 1"
      }
     ],
     "prompt_number": 150
    },
    {
     "cell_type": "code",
     "collapsed": false,
     "input": "_.rewrite(erfc)",
     "language": "python",
     "metadata": {},
     "outputs": [
      {
       "output_type": "pyout",
       "prompt_number": 151,
       "text": "erfc(z)"
      }
     ],
     "prompt_number": 151
    },
    {
     "cell_type": "code",
     "collapsed": false,
     "input": "# erfi\nmeijerg([1], [], [S(1)/2], [0], -z**2)",
     "language": "python",
     "metadata": {},
     "outputs": [
      {
       "output_type": "pyout",
       "prompt_number": 152,
       "text": "meijerg(((1,), ()), ((1/2,), (0,)), -z**2)"
      }
     ],
     "prompt_number": 152
    },
    {
     "cell_type": "code",
     "collapsed": false,
     "input": "pprint(_)",
     "language": "python",
     "metadata": {},
     "outputs": [
      {
       "output_type": "stream",
       "stream": "stdout",
       "text": "\u256d\u2500\u256e1, 1 \u239b 1     \u2502   2\u239e\n\u2502\u2576\u2510     \u239c       \u2502 -z \u239f\n\u2570\u2500\u256f1, 2 \u239d1/2  0 \u2502    \u23a0\n"
      }
     ],
     "prompt_number": 153
    },
    {
     "cell_type": "code",
     "collapsed": false,
     "input": "I/sqrt(pi)*hyperexpand(_)",
     "language": "python",
     "metadata": {},
     "outputs": [
      {
       "output_type": "pyout",
       "prompt_number": 154,
       "text": "I*erf(I*z)"
      }
     ],
     "prompt_number": 154
    },
    {
     "cell_type": "code",
     "collapsed": false,
     "input": "_.rewrite(erfi)",
     "language": "python",
     "metadata": {},
     "outputs": [
      {
       "output_type": "pyout",
       "prompt_number": 155,
       "text": "-erfi(z)"
      }
     ],
     "prompt_number": 155
    },
    {
     "cell_type": "code",
     "collapsed": false,
     "input": "# The rewrite transformation IS correct\n# Hmm, a minus sign wrong somewhere?",
     "language": "python",
     "metadata": {},
     "outputs": [],
     "prompt_number": 156
    },
    {
     "cell_type": "code",
     "collapsed": false,
     "input": "# Another formula for erfi\nz/sqrt(pi) * meijerg([S(1)/2], [], [0], [-S(1)/2], -z**2)",
     "language": "python",
     "metadata": {},
     "outputs": [
      {
       "output_type": "pyout",
       "prompt_number": 157,
       "text": "z*meijerg(((1/2,), ()), ((0,), (-1/2,)), -z**2)/sqrt(pi)"
      }
     ],
     "prompt_number": 157
    },
    {
     "cell_type": "code",
     "collapsed": false,
     "input": "pprint(_)",
     "language": "python",
     "metadata": {},
     "outputs": [
      {
       "output_type": "stream",
       "stream": "stdout",
       "text": "  \u256d\u2500\u256e1, 1 \u239b1/2       \u2502   2\u239e\nz\u22c5\u2502\u2576\u2510     \u239c          \u2502 -z \u239f\n  \u2570\u2500\u256f1, 2 \u239d 0   -1/2 \u2502    \u23a0\n\u2500\u2500\u2500\u2500\u2500\u2500\u2500\u2500\u2500\u2500\u2500\u2500\u2500\u2500\u2500\u2500\u2500\u2500\u2500\u2500\u2500\u2500\u2500\u2500\u2500\u2500\u2500\n             ___           \n           \u2572\u2571 \u03c0            \n"
      }
     ],
     "prompt_number": 158
    },
    {
     "cell_type": "code",
     "collapsed": false,
     "input": "hyperexpand(_)",
     "language": "python",
     "metadata": {},
     "outputs": [
      {
       "output_type": "pyout",
       "prompt_number": 159,
       "text": "-I*erf(I*z)"
      }
     ],
     "prompt_number": 159
    },
    {
     "cell_type": "code",
     "collapsed": false,
     "input": "_.rewrite(erfi)",
     "language": "python",
     "metadata": {},
     "outputs": [
      {
       "output_type": "pyout",
       "prompt_number": 160,
       "text": "erfi(z)"
      }
     ],
     "prompt_number": 160
    }
   ],
   "metadata": {}
  }
 ]
}