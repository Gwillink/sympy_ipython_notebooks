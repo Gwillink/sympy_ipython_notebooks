{
 "metadata": {
  "name": "SP_Gamma_expand"
 },
 "name": "SP_Gamma_expand",
 "nbformat": 3,
 "worksheets": [
  {
   "cells": [
    {
     "cell_type": "code",
     "collapsed": true,
     "input": "%load_ext sympyprt",
     "language": "python",
     "outputs": [],
     "prompt_number": 1
    },
    {
     "cell_type": "code",
     "collapsed": true,
     "input": "from sympy import *",
     "language": "python",
     "outputs": [],
     "prompt_number": 2
    },
    {
     "cell_type": "code",
     "collapsed": true,
     "input": "z = Symbol(\"z\")\nn = Symbol(\"n\", integer=True)\ni = Symbol(\"i\", integer=True, positive=True)",
     "language": "python",
     "outputs": [],
     "prompt_number": 3
    },
    {
     "cell_type": "code",
     "collapsed": false,
     "input": "T = gamma(z)\nexpand_func(T)",
     "language": "python",
     "outputs": [
      {
       "output_type": "pyout",
       "png": "[encoded data removed]",
       "prompt_number": 4,
       "text": "\u0393(z)"
      }
     ],
     "prompt_number": 4
    },
    {
     "cell_type": "code",
     "collapsed": false,
     "input": "T = gamma(1*z)\nexpand_func(T)",
     "language": "python",
     "outputs": [
      {
       "output_type": "pyout",
       "png": "[encoded data removed]",
       "prompt_number": 5,
       "text": "\u0393(z)"
      }
     ],
     "prompt_number": 5
    },
    {
     "cell_type": "code",
     "collapsed": false,
     "input": "T = gamma(2*z)\nexpand_func(T)",
     "language": "python",
     "outputs": [
      {
       "output_type": "pyout",
       "png": "[encoded data removed]",
       "prompt_number": 6,
       "text": "\n                    1             \n                 \u252c\u2500\u2500\u2500\u2500\u2500\u2500\u252c         \n  ___  2\u22c5z - 1/2 \u2502      \u2502  \u239bk    \u239e\n\u2572\u2571 2 \u22c52         \u22c5\u2502      \u2502 \u0393\u239c\u2500 + z\u239f\n                 \u2502      \u2502  \u239d2    \u23a0\n                 \u2502      \u2502         \n                  k = 0           \n\u2500\u2500\u2500\u2500\u2500\u2500\u2500\u2500\u2500\u2500\u2500\u2500\u2500\u2500\u2500\u2500\u2500\u2500\u2500\u2500\u2500\u2500\u2500\u2500\u2500\u2500\u2500\u2500\u2500\u2500\u2500\u2500\u2500\u2500\n                 ___              \n             2\u22c5\u2572\u2571 \u03c0               "
      }
     ],
     "prompt_number": 6
    },
    {
     "cell_type": "code",
     "collapsed": false,
     "input": "_.doit()",
     "language": "python",
     "outputs": [
      {
       "output_type": "pyout",
       "png": "[encoded data removed]",
       "prompt_number": 7,
       "text": "\n  ___  2\u22c5z - 1/2                \n\u2572\u2571 2 \u22c52         \u22c5\u0393(z)\u22c5\u0393(z + 1/2)\n\u2500\u2500\u2500\u2500\u2500\u2500\u2500\u2500\u2500\u2500\u2500\u2500\u2500\u2500\u2500\u2500\u2500\u2500\u2500\u2500\u2500\u2500\u2500\u2500\u2500\u2500\u2500\u2500\u2500\u2500\u2500\u2500\n                ___             \n            2\u22c5\u2572\u2571 \u03c0              "
      }
     ],
     "prompt_number": 7
    },
    {
     "cell_type": "code",
     "collapsed": false,
     "input": "T = gamma(3*z)\nexpand_func(T)",
     "language": "python",
     "outputs": [
      {
       "output_type": "pyout",
       "png": "[encoded data removed]",
       "prompt_number": 8,
       "text": "\n              2             \n           \u252c\u2500\u2500\u2500\u2500\u2500\u2500\u252c         \n 3\u22c5z - 1/2 \u2502      \u2502  \u239bk    \u239e\n3         \u22c5\u2502      \u2502 \u0393\u239c\u2500 + z\u239f\n           \u2502      \u2502  \u239d3    \u23a0\n           \u2502      \u2502         \n            k = 0           \n\u2500\u2500\u2500\u2500\u2500\u2500\u2500\u2500\u2500\u2500\u2500\u2500\u2500\u2500\u2500\u2500\u2500\u2500\u2500\u2500\u2500\u2500\u2500\u2500\u2500\u2500\u2500\u2500\n            2\u22c5\u03c0             "
      }
     ],
     "prompt_number": 8
    },
    {
     "cell_type": "code",
     "collapsed": false,
     "input": "_.doit()",
     "language": "python",
     "outputs": [
      {
       "output_type": "pyout",
       "png": "[encoded data removed]",
       "prompt_number": 9,
       "text": "\n 3\u22c5z - 1/2                           \n3         \u22c5\u0393(z)\u22c5\u0393(z + 1/3)\u22c5\u0393(z + 2/3)\n\u2500\u2500\u2500\u2500\u2500\u2500\u2500\u2500\u2500\u2500\u2500\u2500\u2500\u2500\u2500\u2500\u2500\u2500\u2500\u2500\u2500\u2500\u2500\u2500\u2500\u2500\u2500\u2500\u2500\u2500\u2500\u2500\u2500\u2500\u2500\u2500\u2500\n                 2\u22c5\u03c0                 "
      }
     ],
     "prompt_number": 9
    },
    {
     "cell_type": "code",
     "collapsed": false,
     "input": "T = gamma(-z)\nexpand_func(T)",
     "language": "python",
     "outputs": [
      {
       "output_type": "pyout",
       "png": "[encoded data removed]",
       "prompt_number": 10,
       "text": "\u0393(-z)"
      }
     ],
     "prompt_number": 10
    },
    {
     "cell_type": "code",
     "collapsed": false,
     "input": "T = gamma(-2*z)\nexpand_func(T)",
     "language": "python",
     "outputs": [
      {
       "output_type": "pyout",
       "png": "[encoded data removed]",
       "prompt_number": 11,
       "text": "\n                     1             \n                  \u252c\u2500\u2500\u2500\u2500\u2500\u2500\u252c         \n  ___  -2\u22c5z - 1/2 \u2502      \u2502  \u239bk    \u239e\n\u2572\u2571 2 \u22c52          \u22c5\u2502      \u2502 \u0393\u239c\u2500 - z\u239f\n                  \u2502      \u2502  \u239d2    \u23a0\n                  \u2502      \u2502         \n                   k = 0           \n\u2500\u2500\u2500\u2500\u2500\u2500\u2500\u2500\u2500\u2500\u2500\u2500\u2500\u2500\u2500\u2500\u2500\u2500\u2500\u2500\u2500\u2500\u2500\u2500\u2500\u2500\u2500\u2500\u2500\u2500\u2500\u2500\u2500\u2500\u2500\n                  ___              \n              2\u22c5\u2572\u2571 \u03c0               "
      }
     ],
     "prompt_number": 11
    },
    {
     "cell_type": "code",
     "collapsed": false,
     "input": "_.doit()",
     "language": "python",
     "outputs": [
      {
       "output_type": "pyout",
       "png": "[encoded data removed]",
       "prompt_number": 12,
       "text": "\n  ___  -2\u22c5z - 1/2                  \n\u2572\u2571 2 \u22c52          \u22c5\u0393(-z)\u22c5\u0393(-z + 1/2)\n\u2500\u2500\u2500\u2500\u2500\u2500\u2500\u2500\u2500\u2500\u2500\u2500\u2500\u2500\u2500\u2500\u2500\u2500\u2500\u2500\u2500\u2500\u2500\u2500\u2500\u2500\u2500\u2500\u2500\u2500\u2500\u2500\u2500\u2500\u2500\n                  ___              \n              2\u22c5\u2572\u2571 \u03c0               "
      }
     ],
     "prompt_number": 12
    },
    {
     "cell_type": "code",
     "collapsed": false,
     "input": "T = gamma(-3*z)\nexpand_func(T)",
     "language": "python",
     "outputs": [
      {
       "output_type": "pyout",
       "png": "[encoded data removed]",
       "prompt_number": 13,
       "text": "\n               2             \n            \u252c\u2500\u2500\u2500\u2500\u2500\u2500\u252c         \n -3\u22c5z - 1/2 \u2502      \u2502  \u239bk    \u239e\n3          \u22c5\u2502      \u2502 \u0393\u239c\u2500 - z\u239f\n            \u2502      \u2502  \u239d3    \u23a0\n            \u2502      \u2502         \n             k = 0           \n\u2500\u2500\u2500\u2500\u2500\u2500\u2500\u2500\u2500\u2500\u2500\u2500\u2500\u2500\u2500\u2500\u2500\u2500\u2500\u2500\u2500\u2500\u2500\u2500\u2500\u2500\u2500\u2500\u2500\n             2\u22c5\u03c0             "
      }
     ],
     "prompt_number": 13
    },
    {
     "cell_type": "code",
     "collapsed": false,
     "input": "_.doit()",
     "language": "python",
     "outputs": [
      {
       "output_type": "pyout",
       "png": "[encoded data removed]",
       "prompt_number": 14,
       "text": "\n -3\u22c5z - 1/2                              \n3          \u22c5\u0393(-z)\u22c5\u0393(-z + 1/3)\u22c5\u0393(-z + 2/3)\n\u2500\u2500\u2500\u2500\u2500\u2500\u2500\u2500\u2500\u2500\u2500\u2500\u2500\u2500\u2500\u2500\u2500\u2500\u2500\u2500\u2500\u2500\u2500\u2500\u2500\u2500\u2500\u2500\u2500\u2500\u2500\u2500\u2500\u2500\u2500\u2500\u2500\u2500\u2500\u2500\u2500\n                   2\u22c5\u03c0                   "
      }
     ],
     "prompt_number": 14
    },
    {
     "cell_type": "code",
     "collapsed": false,
     "input": "T = gamma(n*z)\nexpand_func(T)",
     "language": "python",
     "outputs": [
      {
       "output_type": "pyout",
       "png": "[encoded data removed]",
       "prompt_number": 15,
       "text": "\u0393(n\u22c5z)"
      }
     ],
     "prompt_number": 15
    },
    {
     "cell_type": "code",
     "collapsed": false,
     "input": "T = gamma(2*n*z)\nexpand_func(T)",
     "language": "python",
     "outputs": [
      {
       "output_type": "pyout",
       "png": "[encoded data removed]",
       "prompt_number": 16,
       "text": "\n                      1               \n                   \u252c\u2500\u2500\u2500\u2500\u2500\u2500\u252c           \n  ___  2\u22c5n\u22c5z - 1/2 \u2502      \u2502  \u239bk      \u239e\n\u2572\u2571 2 \u22c52           \u22c5\u2502      \u2502 \u0393\u239c\u2500 + n\u22c5z\u239f\n                   \u2502      \u2502  \u239d2      \u23a0\n                   \u2502      \u2502           \n                    k = 0             \n\u2500\u2500\u2500\u2500\u2500\u2500\u2500\u2500\u2500\u2500\u2500\u2500\u2500\u2500\u2500\u2500\u2500\u2500\u2500\u2500\u2500\u2500\u2500\u2500\u2500\u2500\u2500\u2500\u2500\u2500\u2500\u2500\u2500\u2500\u2500\u2500\u2500\u2500\n                   ___                \n               2\u22c5\u2572\u2571 \u03c0                 "
      }
     ],
     "prompt_number": 16
    },
    {
     "cell_type": "code",
     "collapsed": false,
     "input": "_.doit()",
     "language": "python",
     "outputs": [
      {
       "output_type": "pyout",
       "png": "[encoded data removed]",
       "prompt_number": 17,
       "text": "\n  ___  2\u22c5n\u22c5z - 1/2                    \n\u2572\u2571 2 \u22c52           \u22c5\u0393(n\u22c5z)\u22c5\u0393(n\u22c5z + 1/2)\n\u2500\u2500\u2500\u2500\u2500\u2500\u2500\u2500\u2500\u2500\u2500\u2500\u2500\u2500\u2500\u2500\u2500\u2500\u2500\u2500\u2500\u2500\u2500\u2500\u2500\u2500\u2500\u2500\u2500\u2500\u2500\u2500\u2500\u2500\u2500\u2500\u2500\u2500\n                   ___                \n               2\u22c5\u2572\u2571 \u03c0                 "
      }
     ],
     "prompt_number": 17
    },
    {
     "cell_type": "code",
     "collapsed": false,
     "input": "T = gamma(-2*n*z)\nexpand_func(T)",
     "language": "python",
     "outputs": [
      {
       "output_type": "pyout",
       "png": "[encoded data removed]",
       "prompt_number": 18,
       "text": "\n                       1               \n                    \u252c\u2500\u2500\u2500\u2500\u2500\u2500\u252c           \n  ___  -2\u22c5n\u22c5z - 1/2 \u2502      \u2502  \u239bk      \u239e\n\u2572\u2571 2 \u22c52            \u22c5\u2502      \u2502 \u0393\u239c\u2500 - n\u22c5z\u239f\n                    \u2502      \u2502  \u239d2      \u23a0\n                    \u2502      \u2502           \n                     k = 0             \n\u2500\u2500\u2500\u2500\u2500\u2500\u2500\u2500\u2500\u2500\u2500\u2500\u2500\u2500\u2500\u2500\u2500\u2500\u2500\u2500\u2500\u2500\u2500\u2500\u2500\u2500\u2500\u2500\u2500\u2500\u2500\u2500\u2500\u2500\u2500\u2500\u2500\u2500\u2500\n                    ___                \n                2\u22c5\u2572\u2571 \u03c0                 "
      }
     ],
     "prompt_number": 18
    },
    {
     "cell_type": "code",
     "collapsed": false,
     "input": "_.doit()",
     "language": "python",
     "outputs": [
      {
       "output_type": "pyout",
       "png": "[encoded data removed]",
       "prompt_number": 19,
       "text": "\n  ___  -2\u22c5n\u22c5z - 1/2                      \n\u2572\u2571 2 \u22c52            \u22c5\u0393(-n\u22c5z)\u22c5\u0393(-n\u22c5z + 1/2)\n\u2500\u2500\u2500\u2500\u2500\u2500\u2500\u2500\u2500\u2500\u2500\u2500\u2500\u2500\u2500\u2500\u2500\u2500\u2500\u2500\u2500\u2500\u2500\u2500\u2500\u2500\u2500\u2500\u2500\u2500\u2500\u2500\u2500\u2500\u2500\u2500\u2500\u2500\u2500\u2500\u2500\n                     ___                 \n                 2\u22c5\u2572\u2571 \u03c0                  "
      }
     ],
     "prompt_number": 19
    },
    {
     "cell_type": "code",
     "collapsed": false,
     "input": "T = gamma(2*z**2)\nexpand_func(T)",
     "language": "python",
     "outputs": [
      {
       "output_type": "pyout",
       "png": "[encoded data removed]",
       "prompt_number": 20,
       "text": "\n          2   1    1              \n       2\u22c5z  - \u2500 \u252c\u2500\u2500\u2500\u2500\u2500\u2500\u252c          \n  ___         2 \u2502      \u2502  \u239bk    2\u239e\n\u2572\u2571 2 \u22c52        \u22c5\u2502      \u2502 \u0393\u239c\u2500 + z \u239f\n                \u2502      \u2502  \u239d2     \u23a0\n                \u2502      \u2502          \n                 k = 0            \n\u2500\u2500\u2500\u2500\u2500\u2500\u2500\u2500\u2500\u2500\u2500\u2500\u2500\u2500\u2500\u2500\u2500\u2500\u2500\u2500\u2500\u2500\u2500\u2500\u2500\u2500\u2500\u2500\u2500\u2500\u2500\u2500\u2500\u2500\n                 ___              \n             2\u22c5\u2572\u2571 \u03c0               "
      }
     ],
     "prompt_number": 20
    },
    {
     "cell_type": "code",
     "collapsed": false,
     "input": "_.doit()",
     "language": "python",
     "outputs": [
      {
       "output_type": "pyout",
       "png": "[encoded data removed]",
       "prompt_number": 21,
       "text": "\n          2   1                \n       2\u22c5z  - \u2500                \n  ___         2  \u239b 2\u239e  \u239b 2   1\u239e\n\u2572\u2571 2 \u22c52        \u22c5\u0393\u239dz \u23a0\u22c5\u0393\u239cz  + \u2500\u239f\n                       \u239d     2\u23a0\n\u2500\u2500\u2500\u2500\u2500\u2500\u2500\u2500\u2500\u2500\u2500\u2500\u2500\u2500\u2500\u2500\u2500\u2500\u2500\u2500\u2500\u2500\u2500\u2500\u2500\u2500\u2500\u2500\u2500\u2500\u2500\n                ___            \n            2\u22c5\u2572\u2571 \u03c0             "
      }
     ],
     "prompt_number": 21
    },
    {
     "cell_type": "code",
     "collapsed": false,
     "input": "T = gamma(i*z)\nexpand_func(T)",
     "language": "python",
     "outputs": [
      {
       "output_type": "pyout",
       "png": "[encoded data removed]",
       "prompt_number": 22,
       "text": "\n                  i   1  i - 1           \n                - \u2500 + \u2500 \u252c\u2500\u2500\u2500\u2500\u2500\u2500\u252c         \n i\u22c5z - 1/2        2   2 \u2502      \u2502  \u239bk    \u239e\ni         \u22c5(2\u22c5\u03c0)       \u22c5\u2502      \u2502 \u0393\u239c\u2500 + z\u239f\n                        \u2502      \u2502  \u239di    \u23a0\n                        \u2502      \u2502         \n                         k = 0           "
      }
     ],
     "prompt_number": 22
    },
    {
     "cell_type": "code",
     "collapsed": false,
     "input": "_.subs(i,3).doit()",
     "language": "python",
     "outputs": [
      {
       "output_type": "pyout",
       "png": "[encoded data removed]",
       "prompt_number": 23,
       "text": "\n 3\u22c5z - 1/2                           \n3         \u22c5\u0393(z)\u22c5\u0393(z + 1/3)\u22c5\u0393(z + 2/3)\n\u2500\u2500\u2500\u2500\u2500\u2500\u2500\u2500\u2500\u2500\u2500\u2500\u2500\u2500\u2500\u2500\u2500\u2500\u2500\u2500\u2500\u2500\u2500\u2500\u2500\u2500\u2500\u2500\u2500\u2500\u2500\u2500\u2500\u2500\u2500\u2500\u2500\n                 2\u22c5\u03c0                 "
      }
     ],
     "prompt_number": 23
    },
    {
     "cell_type": "code",
     "collapsed": false,
     "input": "T = gamma(2*i*z)\nexpand_func(T)",
     "language": "python",
     "outputs": [
      {
       "output_type": "pyout",
       "png": "[encoded data removed]",
       "prompt_number": 24,
       "text": "\n                               2\u22c5i - 1            \n                               \u252c\u2500\u2500\u2500\u2500\u2500\u2500\u252c           \n     -i + 1/2      2\u22c5i\u22c5z - 1/2 \u2502      \u2502  \u239b k     \u239e\n(2\u22c5\u03c0)        \u22c5(2\u22c5i)           \u22c5\u2502      \u2502 \u0393\u239c\u2500\u2500\u2500 + z\u239f\n                               \u2502      \u2502  \u239d2\u22c5i    \u23a0\n                               \u2502      \u2502           \n                                k = 0             "
      }
     ],
     "prompt_number": 24
    },
    {
     "cell_type": "code",
     "collapsed": false,
     "input": "_.subs(i,2).doit()",
     "language": "python",
     "outputs": [
      {
       "output_type": "pyout",
       "png": "[encoded data removed]",
       "prompt_number": 25,
       "text": "\n  ___  4\u22c5z - 1/2                                      \n\u2572\u2571 2 \u22c54         \u22c5\u0393(z)\u22c5\u0393(z + 1/4)\u22c5\u0393(z + 1/2)\u22c5\u0393(z + 3/4)\n\u2500\u2500\u2500\u2500\u2500\u2500\u2500\u2500\u2500\u2500\u2500\u2500\u2500\u2500\u2500\u2500\u2500\u2500\u2500\u2500\u2500\u2500\u2500\u2500\u2500\u2500\u2500\u2500\u2500\u2500\u2500\u2500\u2500\u2500\u2500\u2500\u2500\u2500\u2500\u2500\u2500\u2500\u2500\u2500\u2500\u2500\u2500\u2500\u2500\u2500\u2500\u2500\u2500\u2500\n                           3/2                        \n                        4\u22c5\u03c0                           "
      }
     ],
     "prompt_number": 25
    },
    {
     "cell_type": "code",
     "collapsed": false,
     "input": "T = gamma(n*z*i)\nexpand_func(T)",
     "language": "python",
     "outputs": [
      {
       "output_type": "pyout",
       "png": "[encoded data removed]",
       "prompt_number": 26,
       "text": "\n                    i   1  i - 1             \n                  - \u2500 + \u2500 \u252c\u2500\u2500\u2500\u2500\u2500\u2500\u252c           \n i\u22c5n\u22c5z - 1/2        2   2 \u2502      \u2502  \u239bk      \u239e\ni           \u22c5(2\u22c5\u03c0)       \u22c5\u2502      \u2502 \u0393\u239c\u2500 + n\u22c5z\u239f\n                          \u2502      \u2502  \u239di      \u23a0\n                          \u2502      \u2502           \n                           k = 0             "
      }
     ],
     "prompt_number": 26
    },
    {
     "cell_type": "code",
     "collapsed": false,
     "input": "T = gamma(n*5*z**2*i)\nexpand_func(T)",
     "language": "python",
     "outputs": [
      {
       "output_type": "pyout",
       "png": "[encoded data removed]",
       "prompt_number": 27,
       "text": "\n       5\u22c5i   1             2   1 5\u22c5i - 1               \n     - \u2500\u2500\u2500 + \u2500      5\u22c5i\u22c5n\u22c5z  - \u2500 \u252c\u2500\u2500\u2500\u2500\u2500\u2500\u252c              \n        2    2                 2 \u2502      \u2502  \u239b k       2\u239e\n(2\u22c5\u03c0)         \u22c5(5\u22c5i)            \u22c5\u2502      \u2502 \u0393\u239c\u2500\u2500\u2500 + n\u22c5z \u239f\n                                 \u2502      \u2502  \u239d5\u22c5i       \u23a0\n                                 \u2502      \u2502              \n                                  k = 0                "
      }
     ],
     "prompt_number": 27
    },
    {
     "cell_type": "code",
     "collapsed": false,
     "input": "T = gamma(-i*z)\nexpand_func(T)",
     "language": "python",
     "outputs": [
      {
       "output_type": "pyout",
       "png": "[encoded data removed]",
       "prompt_number": 28,
       "text": "\n                   i   1  i - 1           \n                 - \u2500 + \u2500 \u252c\u2500\u2500\u2500\u2500\u2500\u2500\u252c         \n -i\u22c5z - 1/2        2   2 \u2502      \u2502  \u239bk    \u239e\ni          \u22c5(2\u22c5\u03c0)       \u22c5\u2502      \u2502 \u0393\u239c\u2500 - z\u239f\n                         \u2502      \u2502  \u239di    \u23a0\n                         \u2502      \u2502         \n                          k = 0           "
      }
     ],
     "prompt_number": 28
    },
    {
     "cell_type": "code",
     "collapsed": false,
     "input": "_.subs(i, 2).doit()",
     "language": "python",
     "outputs": [
      {
       "output_type": "pyout",
       "png": "[encoded data removed]",
       "prompt_number": 29,
       "text": "\n  ___  -2\u22c5z - 1/2                  \n\u2572\u2571 2 \u22c52          \u22c5\u0393(-z)\u22c5\u0393(-z + 1/2)\n\u2500\u2500\u2500\u2500\u2500\u2500\u2500\u2500\u2500\u2500\u2500\u2500\u2500\u2500\u2500\u2500\u2500\u2500\u2500\u2500\u2500\u2500\u2500\u2500\u2500\u2500\u2500\u2500\u2500\u2500\u2500\u2500\u2500\u2500\u2500\n                  ___              \n              2\u22c5\u2572\u2571 \u03c0               "
      }
     ],
     "prompt_number": 29
    },
    {
     "cell_type": "code",
     "collapsed": false,
     "input": "_.evalf(30)",
     "language": "python",
     "outputs": [
      {
       "output_type": "pyout",
       "png": "[encoded data removed]",
       "prompt_number": 30,
       "text": "\n                                    -2.0\u22c5z - 0.5                  \n0.398942280401432677939946059934\u22c52.0            \u22c5\u0393(-z)\u22c5\u0393(-z + 1/2)"
      }
     ],
     "prompt_number": 30
    },
    {
     "cell_type": "code",
     "collapsed": false,
     "input": "T = gamma(-2*z)\nexpand_func(T).doit()",
     "language": "python",
     "outputs": [
      {
       "output_type": "pyout",
       "png": "[encoded data removed]",
       "prompt_number": 31,
       "text": "\n  ___  -2\u22c5z - 1/2                  \n\u2572\u2571 2 \u22c52          \u22c5\u0393(-z)\u22c5\u0393(-z + 1/2)\n\u2500\u2500\u2500\u2500\u2500\u2500\u2500\u2500\u2500\u2500\u2500\u2500\u2500\u2500\u2500\u2500\u2500\u2500\u2500\u2500\u2500\u2500\u2500\u2500\u2500\u2500\u2500\u2500\u2500\u2500\u2500\u2500\u2500\u2500\u2500\n                  ___              \n              2\u22c5\u2572\u2571 \u03c0               "
      }
     ],
     "prompt_number": 31
    },
    {
     "cell_type": "code",
     "collapsed": false,
     "input": "_.evalf(30)",
     "language": "python",
     "outputs": [
      {
       "output_type": "pyout",
       "png": "[encoded data removed]",
       "prompt_number": 32,
       "text": "\n                                    -2.0\u22c5z - 0.5                  \n0.398942280401432677939946059934\u22c52.0            \u22c5\u0393(-z)\u22c5\u0393(-z + 1/2)"
      }
     ],
     "prompt_number": 32
    }
   ]
  }
 ]
}