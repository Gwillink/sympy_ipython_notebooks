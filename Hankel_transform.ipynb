{
 "metadata": {
  "name": "Hankel_transform"
 },
 "name": "Hankel_transform",
 "nbformat": 3,
 "worksheets": [
  {
   "cells": [
    {
     "cell_type": "code",
     "collapsed": true,
     "input": "%load_ext sympyprt",
     "language": "python",
     "outputs": [],
     "prompt_number": 1
    },
    {
     "cell_type": "code",
     "collapsed": false,
     "input": "from sympy import *",
     "language": "python",
     "outputs": [],
     "prompt_number": 2
    },
    {
     "cell_type": "code",
     "collapsed": false,
     "input": "r = Symbol(\"r\")\nk = Symbol(\"k\")\n\nnu = Symbol(\"nu\")",
     "language": "python",
     "outputs": [],
     "prompt_number": 3
    },
    {
     "cell_type": "markdown",
     "source": "Zero-th order"
    },
    {
     "cell_type": "markdown",
     "source": "1"
    },
    {
     "cell_type": "code",
     "collapsed": false,
     "input": "1/r",
     "language": "python",
     "outputs": [
      {
       "output_type": "pyout",
       "png": "[encoded data removed]",
       "prompt_number": 4,
       "text": "\n1\n\u2500\nr"
      }
     ],
     "prompt_number": 4
    },
    {
     "cell_type": "code",
     "collapsed": false,
     "input": "hankel_transform(_, r, k, 0)",
     "language": "python",
     "outputs": [
      {
       "output_type": "pyout",
       "png": "[encoded data removed]",
       "prompt_number": 5,
       "text": "\n1\n\u2500\nk"
      }
     ],
     "prompt_number": 5
    },
    {
     "cell_type": "code",
     "collapsed": false,
     "input": "inverse_hankel_transform(_, k, r, 0)",
     "language": "python",
     "outputs": [
      {
       "output_type": "pyout",
       "png": "[encoded data removed]",
       "prompt_number": 6,
       "text": "\n1\n\u2500\nr"
      }
     ],
     "prompt_number": 6
    },
    {
     "cell_type": "markdown",
     "source": "2"
    },
    {
     "cell_type": "code",
     "collapsed": false,
     "input": "r",
     "language": "python",
     "outputs": [
      {
       "output_type": "pyout",
       "png": "[encoded data removed]",
       "prompt_number": 7,
       "text": "r"
      }
     ],
     "prompt_number": 7
    },
    {
     "cell_type": "code",
     "collapsed": false,
     "input": "HankelTransform(_, r, k, 0)",
     "language": "python",
     "outputs": [
      {
       "output_type": "pyout",
       "png": "[encoded data removed]",
       "prompt_number": 8,
       "text": "HankelTransform(r, r, k, 0)"
      }
     ],
     "prompt_number": 8
    },
    {
     "cell_type": "code",
     "collapsed": false,
     "input": "_.as_integral",
     "language": "python",
     "outputs": [
      {
       "output_type": "pyout",
       "png": "[encoded data removed]",
       "prompt_number": 9,
       "text": "\n\u221e                      \n\u2320                      \n\u23ae  2                   \n\u23ae r \u22c5besselj(0, k\u22c5r) dr\n\u2321                      \n0                      "
      }
     ],
     "prompt_number": 9
    },
    {
     "cell_type": "markdown",
     "source": "3"
    },
    {
     "cell_type": "code",
     "collapsed": false,
     "input": "r**3",
     "language": "python",
     "outputs": [
      {
       "output_type": "pyout",
       "png": "[encoded data removed]",
       "prompt_number": 10,
       "text": "\n 3\nr "
      }
     ],
     "prompt_number": 10
    },
    {
     "cell_type": "code",
     "collapsed": false,
     "input": "#hankel_transform(_, r, k, 0)",
     "language": "python",
     "outputs": [],
     "prompt_number": 11
    },
    {
     "cell_type": "markdown",
     "source": "4"
    },
    {
     "cell_type": "code",
     "collapsed": true,
     "input": "m = Symbol(\"m\")",
     "language": "python",
     "outputs": [],
     "prompt_number": 12
    },
    {
     "cell_type": "code",
     "collapsed": false,
     "input": "r**m",
     "language": "python",
     "outputs": [
      {
       "output_type": "pyout",
       "png": "[encoded data removed]",
       "prompt_number": 13,
       "text": "\n m\nr "
      }
     ],
     "prompt_number": 13
    },
    {
     "cell_type": "code",
     "collapsed": false,
     "input": "#hankel_transform(_, r, k, 0)",
     "language": "python",
     "outputs": [],
     "prompt_number": 14
    },
    {
     "cell_type": "markdown",
     "source": "5"
    },
    {
     "cell_type": "code",
     "collapsed": true,
     "input": "a = Symbol(\"a\")",
     "language": "python",
     "outputs": [],
     "prompt_number": 15
    },
    {
     "cell_type": "code",
     "collapsed": false,
     "input": "1/sqrt(r**2+a**2)",
     "language": "python",
     "outputs": [
      {
       "output_type": "pyout",
       "png": "[encoded data removed]",
       "prompt_number": 16,
       "text": "\n     1      \n\u2500\u2500\u2500\u2500\u2500\u2500\u2500\u2500\u2500\u2500\u2500\u2500\n   _________\n  \u2571  2    2 \n\u2572\u2571  a  + r  "
      }
     ],
     "prompt_number": 16
    },
    {
     "cell_type": "code",
     "collapsed": false,
     "input": "hankel_transform(_, r, k, 0)",
     "language": "python",
     "outputs": [
      {
       "output_type": "pyout",
       "png": "[encoded data removed]",
       "prompt_number": 17,
       "text": "\n-sinh(a\u22c5k) + cosh(a\u22c5k)\n\u2500\u2500\u2500\u2500\u2500\u2500\u2500\u2500\u2500\u2500\u2500\u2500\u2500\u2500\u2500\u2500\u2500\u2500\u2500\u2500\u2500\u2500\n          k           "
      }
     ],
     "prompt_number": 17
    },
    {
     "cell_type": "code",
     "collapsed": false,
     "input": "#inverse_hankel_transform(_, k, r, 0)",
     "language": "python",
     "outputs": [],
     "prompt_number": 18
    },
    {
     "cell_type": "markdown",
     "source": "6"
    },
    {
     "cell_type": "code",
     "collapsed": true,
     "input": "z = Symbol(\"z\")",
     "language": "python",
     "outputs": [],
     "prompt_number": 19
    },
    {
     "cell_type": "code",
     "collapsed": false,
     "input": "1/(r**2+z**2)",
     "language": "python",
     "outputs": [
      {
       "output_type": "pyout",
       "png": "[encoded data removed]",
       "prompt_number": 20,
       "text": "\n   1   \n\u2500\u2500\u2500\u2500\u2500\u2500\u2500\n 2    2\nr  + z "
      }
     ],
     "prompt_number": 20
    },
    {
     "cell_type": "code",
     "collapsed": false,
     "input": "hankel_transform(_, r, k, 0)",
     "language": "python",
     "outputs": [
      {
       "output_type": "pyout",
       "png": "[encoded data removed]",
       "prompt_number": 21,
       "text": "\n        \u239b        \u2502  2  2\u239e\n\u256d\u2500\u256e2, 1 \u239c 0      \u2502 k \u22c5z \u239f\n\u2502\u2576\u2510     \u239c        \u2502 \u2500\u2500\u2500\u2500\u2500\u239f\n\u2570\u2500\u256f1, 3 \u239d0, 0  0 \u2502   4  \u23a0\n\u2500\u2500\u2500\u2500\u2500\u2500\u2500\u2500\u2500\u2500\u2500\u2500\u2500\u2500\u2500\u2500\u2500\u2500\u2500\u2500\u2500\u2500\u2500\u2500\u2500\n            2            "
      }
     ],
     "prompt_number": 21
    },
    {
     "cell_type": "code",
     "collapsed": false,
     "input": "hyperexpand(_)",
     "language": "python",
     "outputs": [
      {
       "output_type": "pyout",
       "png": "[encoded data removed]",
       "prompt_number": 22,
       "text": "\n        \u239b        \u2502  2  2\u239e\n\u256d\u2500\u256e2, 1 \u239c 0      \u2502 k \u22c5z \u239f\n\u2502\u2576\u2510     \u239c        \u2502 \u2500\u2500\u2500\u2500\u2500\u239f\n\u2570\u2500\u256f1, 3 \u239d0, 0  0 \u2502   4  \u23a0\n\u2500\u2500\u2500\u2500\u2500\u2500\u2500\u2500\u2500\u2500\u2500\u2500\u2500\u2500\u2500\u2500\u2500\u2500\u2500\u2500\u2500\u2500\u2500\u2500\u2500\n            2            "
      }
     ],
     "prompt_number": 22
    },
    {
     "cell_type": "code",
     "collapsed": true,
     "input": "# Should be a besselk_0(k*z)",
     "language": "python",
     "outputs": [],
     "prompt_number": 23
    },
    {
     "cell_type": "markdown",
     "source": "7"
    },
    {
     "cell_type": "code",
     "collapsed": true,
     "input": "a = Symbol(\"a\", positive=True)",
     "language": "python",
     "outputs": [],
     "prompt_number": 24
    },
    {
     "cell_type": "code",
     "collapsed": false,
     "input": "exp(I*a*r)/r",
     "language": "python",
     "outputs": [
      {
       "output_type": "pyout",
       "png": "[encoded data removed]",
       "prompt_number": 25,
       "text": "\n \u2148\u22c5a\u22c5r\n\u212f     \n\u2500\u2500\u2500\u2500\u2500\u2500\n  r   "
      }
     ],
     "prompt_number": 25
    },
    {
     "cell_type": "code",
     "collapsed": false,
     "input": "hankel_transform(_, r, k, 0)",
     "language": "python",
     "outputs": [
      {
       "output_type": "pyout",
       "png": "[encoded data removed]",
       "prompt_number": 26,
       "text": "\n\u23a7        \u2148\u22c5\u03c0                        \n\u23aa        \u2500\u2500\u2500                        \n\u23aa         2                         \n\u23aa       \u212f                 2 \u25021 \u2502    \n\u23aa \u2500\u2500\u2500\u2500\u2500\u2500\u2500\u2500\u2500\u2500\u2500\u2500\u2500\u2500\u2500\u2500   for a \u22c5\u2502\u2500\u2500\u2502 > 1\n\u23aa         ________          \u2502 2\u2502    \n\u23aa        \u2571  2               \u2502k \u2502    \n\u23aa       \u2571  a                        \n\u23aa k\u22c5   \u2571   \u2500\u2500 - 1                   \n\u23aa     \u2571     2                       \n\u23a8   \u2572\u2571     k                        \n\u23aa                                   \n\u23aa        1                          \n\u23aa\u2500\u2500\u2500\u2500\u2500\u2500\u2500\u2500\u2500\u2500\u2500\u2500\u2500\u2500\u2500\u2500\u2500\u2500     otherwise   \n\u23aa        __________                 \n\u23aa       \u2571    2                      \n\u23aa      \u2571    a                       \n\u23aak\u22c5   \u2571   - \u2500\u2500 + 1                  \n\u23aa    \u2571       2                      \n\u23aa  \u2572\u2571       k                       \n\u23a9                                   "
      }
     ],
     "prompt_number": 26
    },
    {
     "cell_type": "code",
     "collapsed": true,
     "input": "# Could be correct but should be simplified to nicer form\n# - Put the k into the roots\n# - simplify exp to I",
     "language": "python",
     "outputs": [],
     "prompt_number": 27
    },
    {
     "cell_type": "markdown",
     "source": "8"
    },
    {
     "cell_type": "code",
     "collapsed": true,
     "input": "a = Symbol(\"a\")",
     "language": "python",
     "outputs": [],
     "prompt_number": 28
    },
    {
     "cell_type": "code",
     "collapsed": false,
     "input": "exp(-a**2*r**2/2)",
     "language": "python",
     "outputs": [
      {
       "output_type": "pyout",
       "png": "[encoded data removed]",
       "prompt_number": 29,
       "text": "\n   2  2\n -a \u22c5r \n \u2500\u2500\u2500\u2500\u2500\u2500\n   2   \n\u212f      "
      }
     ],
     "prompt_number": 29
    },
    {
     "cell_type": "code",
     "collapsed": false,
     "input": "hankel_transform(_, r, k, 0)",
     "language": "python",
     "outputs": [
      {
       "output_type": "pyout",
       "png": "[encoded data removed]",
       "prompt_number": 30,
       "text": "\n   2 \n -k  \n \u2500\u2500\u2500\u2500\n    2\n 2\u22c5a \n\u212f    \n\u2500\u2500\u2500\u2500\u2500\n   2 \n  a  "
      }
     ],
     "prompt_number": 30
    },
    {
     "cell_type": "code",
     "collapsed": false,
     "input": "inverse_hankel_transform(_, k, r, 0)",
     "language": "python",
     "outputs": [
      {
       "output_type": "pyout",
       "png": "[encoded data removed]",
       "prompt_number": 31,
       "text": "\n   2  2\n -a \u22c5r \n \u2500\u2500\u2500\u2500\u2500\u2500\n   2   \n\u212f      "
      }
     ],
     "prompt_number": 31
    },
    {
     "cell_type": "markdown",
     "source": "9"
    },
    {
     "cell_type": "code",
     "collapsed": true,
     "input": "f = Function(\"f\")",
     "language": "python",
     "outputs": [],
     "prompt_number": 32
    },
    {
     "cell_type": "code",
     "collapsed": false,
     "input": "-r**2*f(r)",
     "language": "python",
     "outputs": [
      {
       "output_type": "pyout",
       "png": "[encoded data removed]",
       "prompt_number": 33,
       "text": "\n  2     \n-r \u22c5f(r)"
      }
     ],
     "prompt_number": 33
    },
    {
     "cell_type": "code",
     "collapsed": false,
     "input": "#hankel_transform(_, r, k, 0)",
     "language": "python",
     "outputs": [],
     "prompt_number": 34
    },
    {
     "cell_type": "markdown",
     "source": "10"
    },
    {
     "cell_type": "code",
     "collapsed": true,
     "input": "a = Symbol(\"a\")",
     "language": "python",
     "outputs": [],
     "prompt_number": 35
    },
    {
     "cell_type": "code",
     "collapsed": false,
     "input": "sin(2*pi*a*r)/r",
     "language": "python",
     "outputs": [
      {
       "output_type": "pyout",
       "png": "[encoded data removed]",
       "prompt_number": 36,
       "text": "\nsin(2\u22c5\u03c0\u22c5a\u22c5r)\n\u2500\u2500\u2500\u2500\u2500\u2500\u2500\u2500\u2500\u2500\u2500\u2500\n     r      "
      }
     ],
     "prompt_number": 36
    },
    {
     "cell_type": "code",
     "collapsed": false,
     "input": "hankel_transform(_, r, k, 0)",
     "language": "python",
     "outputs": [
      {
       "output_type": "pyout",
       "png": "[encoded data removed]",
       "prompt_number": 37,
       "text": "\n\u23a7                                             \u2502 2\u2502    \n\u23aa                                           2 \u2502a \u2502    \n\u23aa                0                   for 4\u22c5\u03c0 \u22c5\u2502\u2500\u2500\u2502 < 1\n\u23aa                                             \u2502 2\u2502    \n\u23aa                                             \u2502k \u2502    \n\u23aa                                                     \n\u23aa                                          \u2502 2\u2502       \n\u23aa                                          \u2502k \u2502       \n\u23aa                                          \u2502\u2500\u2500\u2502       \n\u23aa                                          \u2502 2\u2502       \n\u23aa                1                         \u2502a \u2502       \n\u23aa    \u2500\u2500\u2500\u2500\u2500\u2500\u2500\u2500\u2500\u2500\u2500\u2500\u2500\u2500\u2500\u2500\u2500\u2500\u2500\u2500\u2500\u2500\u2500\u2500\u2500         for \u2500\u2500\u2500\u2500 < 1   \n\u23aa                _____________                2       \n\u23a8               \u2571         2                4\u22c5\u03c0        \n\u23aa              \u2571         k                            \n\u23aa    2\u22c5\u03c0\u22c5a\u22c5   \u2571   1 - \u2500\u2500\u2500\u2500\u2500\u2500\u2500                         \n\u23aa            \u2571           2  2                         \n\u23aa          \u2572\u2571         4\u22c5\u03c0 \u22c5a                          \n\u23aa                                                     \n\u23aa              \u239b         \u2502    2  2\u239e                   \n\u23aa  ___ \u256d\u2500\u256e1, 1 \u239c1/2  1/2 \u2502 4\u22c5\u03c0 \u22c5a \u239f                   \n\u23aa\u2572\u2571 \u03c0 \u22c5\u2502\u2576\u2510     \u239c         \u2502 \u2500\u2500\u2500\u2500\u2500\u2500\u2500\u239f                   \n\u23aa      \u2570\u2500\u256f2, 2 \u239c1/2   0  \u2502     2  \u239f                   \n\u23aa              \u239d         \u2502    k   \u23a0                   \n\u23aa\u2500\u2500\u2500\u2500\u2500\u2500\u2500\u2500\u2500\u2500\u2500\u2500\u2500\u2500\u2500\u2500\u2500\u2500\u2500\u2500\u2500\u2500\u2500\u2500\u2500\u2500\u2500\u2500\u2500\u2500\u2500\u2500\u2500\u2500      otherwise    \n\u23aa                k                                    \n\u23a9                                                     "
      }
     ],
     "prompt_number": 37
    },
    {
     "cell_type": "markdown",
     "source": "11"
    },
    {
     "cell_type": "code",
     "collapsed": true,
     "input": "a = Symbol(\"a\")",
     "language": "python",
     "outputs": [],
     "prompt_number": 38
    },
    {
     "cell_type": "code",
     "collapsed": false,
     "input": "(a**2+r**2)**(-Rational(3,2))",
     "language": "python",
     "outputs": [
      {
       "output_type": "pyout",
       "png": "[encoded data removed]",
       "prompt_number": 39,
       "text": "\n     1      \n\u2500\u2500\u2500\u2500\u2500\u2500\u2500\u2500\u2500\u2500\u2500\u2500\n         3/2\n\u239b 2    2\u239e   \n\u239da  + r \u23a0   "
      }
     ],
     "prompt_number": 39
    },
    {
     "cell_type": "code",
     "collapsed": false,
     "input": "hankel_transform(_, r, k, 0)",
     "language": "python",
     "outputs": [
      {
       "output_type": "pyout",
       "png": "[encoded data removed]",
       "prompt_number": 40,
       "text": "\n-sinh(a\u22c5k) + cosh(a\u22c5k)\n\u2500\u2500\u2500\u2500\u2500\u2500\u2500\u2500\u2500\u2500\u2500\u2500\u2500\u2500\u2500\u2500\u2500\u2500\u2500\u2500\u2500\u2500\n          a           "
      }
     ],
     "prompt_number": 40
    },
    {
     "cell_type": "code",
     "collapsed": true,
     "input": "# Hmm, be careful with factors of 2*pi",
     "language": "python",
     "outputs": [],
     "prompt_number": 41
    },
    {
     "cell_type": "markdown",
     "source": "12"
    },
    {
     "cell_type": "code",
     "collapsed": true,
     "input": "a = Symbol(\"a\")",
     "language": "python",
     "outputs": [],
     "prompt_number": 42
    },
    {
     "cell_type": "code",
     "collapsed": false,
     "input": "2*a**2/(a**2+r**2)**2",
     "language": "python",
     "outputs": [
      {
       "output_type": "pyout",
       "png": "[encoded data removed]",
       "prompt_number": 43,
       "text": "\n      2   \n   2\u22c5a    \n\u2500\u2500\u2500\u2500\u2500\u2500\u2500\u2500\u2500\u2500\n         2\n\u239b 2    2\u239e \n\u239da  + r \u23a0 "
      }
     ],
     "prompt_number": 43
    },
    {
     "cell_type": "code",
     "collapsed": false,
     "input": "hankel_transform(_, r, k, 0)",
     "language": "python",
     "outputs": [
      {
       "output_type": "pyout",
       "png": "[encoded data removed]",
       "prompt_number": 44,
       "text": "\n        \u239b        \u2502  2  2\u239e\n\u256d\u2500\u256e2, 1 \u239c 0      \u2502 a \u22c5k \u239f\n\u2502\u2576\u2510     \u239c        \u2502 \u2500\u2500\u2500\u2500\u2500\u239f\n\u2570\u2500\u256f1, 3 \u239d1, 0  0 \u2502   4  \u23a0"
      }
     ],
     "prompt_number": 44
    },
    {
     "cell_type": "code",
     "collapsed": true,
     "input": "# Should be a besselk of order 1",
     "language": "python",
     "outputs": [],
     "prompt_number": 45
    },
    {
     "cell_type": "markdown",
     "source": "13"
    },
    {
     "cell_type": "code",
     "collapsed": true,
     "input": "a = Symbol(\"a\")",
     "language": "python",
     "outputs": [],
     "prompt_number": 46
    },
    {
     "cell_type": "code",
     "collapsed": false,
     "input": "4*a**4/(a**2+r**2)**3",
     "language": "python",
     "outputs": [
      {
       "output_type": "pyout",
       "png": "[encoded data removed]",
       "prompt_number": 47,
       "text": "\n      4   \n   4\u22c5a    \n\u2500\u2500\u2500\u2500\u2500\u2500\u2500\u2500\u2500\u2500\n         3\n\u239b 2    2\u239e \n\u239da  + r \u23a0 "
      }
     ],
     "prompt_number": 47
    },
    {
     "cell_type": "code",
     "collapsed": false,
     "input": "hankel_transform(_, r, k, 0)",
     "language": "python",
     "outputs": [
      {
       "output_type": "pyout",
       "png": "[encoded data removed]",
       "prompt_number": 48,
       "text": "\n        \u239b        \u2502  2  2\u239e\n\u256d\u2500\u256e2, 1 \u239c 0      \u2502 a \u22c5k \u239f\n\u2502\u2576\u2510     \u239c        \u2502 \u2500\u2500\u2500\u2500\u2500\u239f\n\u2570\u2500\u256f1, 3 \u239d2, 0  0 \u2502   4  \u23a0"
      }
     ],
     "prompt_number": 48
    },
    {
     "cell_type": "code",
     "collapsed": true,
     "input": "# Should be a besselk of order 2",
     "language": "python",
     "outputs": [],
     "prompt_number": 49
    },
    {
     "cell_type": "markdown",
     "source": "14"
    },
    {
     "cell_type": "code",
     "collapsed": true,
     "input": "a = Symbol(\"a\")",
     "language": "python",
     "outputs": [],
     "prompt_number": 50
    },
    {
     "cell_type": "code",
     "collapsed": false,
     "input": "exp(-a*r)",
     "language": "python",
     "outputs": [
      {
       "output_type": "pyout",
       "png": "[encoded data removed]",
       "prompt_number": 51,
       "text": "\n -a\u22c5r\n\u212f    "
      }
     ],
     "prompt_number": 51
    },
    {
     "cell_type": "code",
     "collapsed": false,
     "input": "hankel_transform(_, r, k, 0)",
     "language": "python",
     "outputs": [
      {
       "output_type": "pyout",
       "png": "[encoded data removed]",
       "prompt_number": 52,
       "text": "\n      a       \n\u2500\u2500\u2500\u2500\u2500\u2500\u2500\u2500\u2500\u2500\u2500\u2500\u2500\u2500\n           3/2\n   \u239b 2    \u239e   \n 3 \u239ca     \u239f   \nk \u22c5\u239c\u2500\u2500 + 1\u239f   \n   \u239c 2    \u239f   \n   \u239dk     \u23a0   "
      }
     ],
     "prompt_number": 52
    },
    {
     "cell_type": "code",
     "collapsed": false,
     "input": "inverse_hankel_transform(_, k, r, 0)",
     "language": "python",
     "outputs": [
      {
       "output_type": "pyout",
       "png": "[encoded data removed]",
       "prompt_number": 53,
       "text": "-sinh(a\u22c5r) + cosh(a\u22c5r)"
      }
     ],
     "prompt_number": 53
    },
    {
     "cell_type": "markdown",
     "source": "15"
    },
    {
     "cell_type": "code",
     "collapsed": true,
     "input": "a = Symbol(\"a\")",
     "language": "python",
     "outputs": [],
     "prompt_number": 54
    },
    {
     "cell_type": "code",
     "collapsed": false,
     "input": "r**2*exp(-pi*r**2)",
     "language": "python",
     "outputs": [
      {
       "output_type": "pyout",
       "png": "[encoded data removed]",
       "prompt_number": 55,
       "text": "\n        2\n 2  -\u03c0\u22c5r \nr \u22c5\u212f     "
      }
     ],
     "prompt_number": 55
    },
    {
     "cell_type": "code",
     "collapsed": false,
     "input": "hankel_transform(_, r, k, 0)",
     "language": "python",
     "outputs": [
      {
       "output_type": "pyout",
       "png": "[encoded data removed]",
       "prompt_number": 56,
       "text": "\n                2\n              -k \n              \u2500\u2500\u2500\n\u239b   2      \u239e  4\u22c5\u03c0\n\u239d- k  + 4\u22c5\u03c0\u23a0\u22c5\u212f   \n\u2500\u2500\u2500\u2500\u2500\u2500\u2500\u2500\u2500\u2500\u2500\u2500\u2500\u2500\u2500\u2500\u2500\n          3      \n       8\u22c5\u03c0       "
      }
     ],
     "prompt_number": 56
    },
    {
     "cell_type": "code",
     "collapsed": false,
     "input": "inverse_hankel_transform(_, k, r, 0)",
     "language": "python",
     "outputs": [
      {
       "output_type": "pyout",
       "png": "[encoded data removed]",
       "prompt_number": 57,
       "text": "\n        2\n 2  -\u03c0\u22c5r \nr \u22c5\u212f     "
      }
     ],
     "prompt_number": 57
    },
    {
     "cell_type": "markdown",
     "source": "Arbitrary order"
    },
    {
     "cell_type": "markdown",
     "source": "1"
    },
    {
     "cell_type": "code",
     "collapsed": true,
     "input": "a = Symbol(\"a\")",
     "language": "python",
     "outputs": [],
     "prompt_number": 58
    },
    {
     "cell_type": "code",
     "collapsed": false,
     "input": "exp(-a**2*r**2/2)",
     "language": "python",
     "outputs": [
      {
       "output_type": "pyout",
       "png": "[encoded data removed]",
       "prompt_number": 59,
       "text": "\n   2  2\n -a \u22c5r \n \u2500\u2500\u2500\u2500\u2500\u2500\n   2   \n\u212f      "
      }
     ],
     "prompt_number": 59
    },
    {
     "cell_type": "code",
     "collapsed": false,
     "input": "hankel_transform(_, r, k, nu)",
     "language": "python",
     "outputs": [
      {
       "output_type": "pyout",
       "png": "[encoded data removed]",
       "prompt_number": 60,
       "text": "\n                                                                              \n                                                                              \n                                                                              \n               \u239b              \u239b        2  \u2148\u22c5\u03c0\u239e               \u239b        2  \u2148\u22c5\u03c0\u239e \n   ___     ___ \u239c   2          \u239c\u03bd   1  k \u22c5\u212f   \u239f      2        \u239c\u03bd   1  k \u22c5\u212f   \u239f \n-\u2572\u2571 2 \u22c5\u2148\u22c5\u2572\u2571 \u03c0 \u22c5\u239c4\u22c5a \u22c5\u03bd\u22c5besseli\u239c\u2500 + \u2500, \u2500\u2500\u2500\u2500\u2500\u2500\u2500\u239f + 4\u22c5a \u22c5besseli\u239c\u2500 + \u2500, \u2500\u2500\u2500\u2500\u2500\u2500\u2500\u239f \n               \u239c              \u239c2   2       2 \u239f               \u239c2   2       2 \u239f \n               \u239d              \u239d         4\u22c5a  \u23a0               \u239d         4\u22c5a  \u23a0 \n\u2500\u2500\u2500\u2500\u2500\u2500\u2500\u2500\u2500\u2500\u2500\u2500\u2500\u2500\u2500\u2500\u2500\u2500\u2500\u2500\u2500\u2500\u2500\u2500\u2500\u2500\u2500\u2500\u2500\u2500\u2500\u2500\u2500\u2500\u2500\u2500\u2500\u2500\u2500\u2500\u2500\u2500\u2500\u2500\u2500\u2500\u2500\u2500\u2500\u2500\u2500\u2500\u2500\u2500\u2500\u2500\u2500\u2500\u2500\u2500\u2500\u2500\u2500\u2500\u2500\u2500\u2500\u2500\u2500\u2500\u2500\u2500\u2500\u2500\u2500\u2500\u2500\u2500\n                                                                            3 \n                                                                         4\u22c5a \u22c5\n\n                                                                        2 \n                                                              \u2148\u22c5\u03c0\u22c5\u03bd    k  \n                                                            - \u2500\u2500\u2500\u2500\u2500 - \u2500\u2500\u2500\u2500\n            \u239b        2  \u2148\u22c5\u03c0\u239e             \u239b        2  \u2148\u22c5\u03c0\u239e\u239e      2        2\n   2        \u239c\u03bd   1  k \u22c5\u212f   \u239f    2        \u239c\u03bd   3  k \u22c5\u212f   \u239f\u239f            4\u22c5a \n- k \u22c5besseli\u239c\u2500 + \u2500, \u2500\u2500\u2500\u2500\u2500\u2500\u2500\u239f - k \u22c5besseli\u239c\u2500 + \u2500, \u2500\u2500\u2500\u2500\u2500\u2500\u2500\u239f\u239f\u22c5\u212f              \n            \u239c2   2       2 \u239f             \u239c2   2       2 \u239f\u239f                \n            \u239d         4\u22c5a  \u23a0             \u239d         4\u22c5a  \u23a0\u23a0                \n\u2500\u2500\u2500\u2500\u2500\u2500\u2500\u2500\u2500\u2500\u2500\u2500\u2500\u2500\u2500\u2500\u2500\u2500\u2500\u2500\u2500\u2500\u2500\u2500\u2500\u2500\u2500\u2500\u2500\u2500\u2500\u2500\u2500\u2500\u2500\u2500\u2500\u2500\u2500\u2500\u2500\u2500\u2500\u2500\u2500\u2500\u2500\u2500\u2500\u2500\u2500\u2500\u2500\u2500\u2500\u2500\u2500\u2500\u2500\u2500\u2500\u2500\u2500\u2500\u2500\u2500\u2500\u2500\u2500\u2500\u2500\u2500\u2500\u2500\n                                                                          \nk                                                                         "
      }
     ],
     "prompt_number": 60
    },
    {
     "cell_type": "code",
     "collapsed": false,
     "input": "#inverse_hankel_transform(_, k, r, nu)",
     "language": "python",
     "outputs": [],
     "prompt_number": 61
    },
    {
     "cell_type": "markdown",
     "source": "2"
    },
    {
     "cell_type": "code",
     "collapsed": true,
     "input": "s = Symbol(\"s\")",
     "language": "python",
     "outputs": [],
     "prompt_number": 62
    },
    {
     "cell_type": "code",
     "collapsed": false,
     "input": "r**s",
     "language": "python",
     "outputs": [
      {
       "output_type": "pyout",
       "png": "[encoded data removed]",
       "prompt_number": 63,
       "text": "\n s\nr "
      }
     ],
     "prompt_number": 63
    },
    {
     "cell_type": "code",
     "collapsed": false,
     "input": "hankel_transform(_, r, k, nu)",
     "language": "python",
     "outputs": [
      {
       "output_type": "pyout",
       "png": "[encoded data removed]",
       "prompt_number": 64,
       "text": "\n s + 1  -s - 2  \u239b\u03bd   s    \u239e\n2     \u22c5k      \u22c5\u0393\u239c\u2500 + \u2500 + 1\u239f\n                \u239d2   2    \u23a0\n\u2500\u2500\u2500\u2500\u2500\u2500\u2500\u2500\u2500\u2500\u2500\u2500\u2500\u2500\u2500\u2500\u2500\u2500\u2500\u2500\u2500\u2500\u2500\u2500\u2500\u2500\u2500\n           \u239b\u03bd   s\u239e         \n          \u0393\u239c\u2500 - \u2500\u239f         \n           \u239d2   2\u23a0         "
      }
     ],
     "prompt_number": 64
    },
    {
     "cell_type": "markdown",
     "source": "3"
    },
    {
     "cell_type": "code",
     "collapsed": true,
     "input": "s = Symbol(\"s\")\nh = Symbol(\"h\")",
     "language": "python",
     "outputs": [],
     "prompt_number": 65
    },
    {
     "cell_type": "markdown",
     "source": "Can not express $r^{\\nu-2s}\\Gamma\\left(s,r^2 h\\right)$"
    },
    {
     "cell_type": "markdown",
     "source": "4"
    },
    {
     "cell_type": "markdown",
     "source": "Can not express $e^{-r^2}r^\\nu U\\left(a,b,r^2\\right)$"
    },
    {
     "cell_type": "markdown",
     "source": "5"
    },
    {
     "cell_type": "code",
     "collapsed": true,
     "input": "a = Symbol(\"a\")",
     "language": "python",
     "outputs": [],
     "prompt_number": 66
    },
    {
     "cell_type": "code",
     "collapsed": false,
     "input": "4*a**4/(a**2+r**2)**3",
     "language": "python",
     "outputs": [
      {
       "output_type": "pyout",
       "png": "[encoded data removed]",
       "prompt_number": 67,
       "text": "\n      4   \n   4\u22c5a    \n\u2500\u2500\u2500\u2500\u2500\u2500\u2500\u2500\u2500\u2500\n         3\n\u239b 2    2\u239e \n\u239da  + r \u23a0 "
      }
     ],
     "prompt_number": 67
    },
    {
     "cell_type": "code",
     "collapsed": false,
     "input": "hankel_transform(_, r, k, nu)",
     "language": "python",
     "outputs": [
      {
       "output_type": "pyout",
       "png": "[encoded data removed]",
       "prompt_number": 68,
       "text": "\n                    \u239b      3        \u2502  2  2\u239e             \u239b           \u239b  2  2  \n 4  4  \u239b\u03bd    \u239e  \u250c\u2500  \u239c               \u2502 a \u22c5k \u239f    -\u03bd  \u03bd  \u03bd \u239c \u03bd  -\u03bd  -\u03bd \u239c a \u22c5k   \na \u22c5k \u22c5\u0393\u239c\u2500 - 2\u239f\u22c5 \u251c\u2500  \u239c\u03bd        \u03bd     \u2502 \u2500\u2500\u2500\u2500\u2500\u239f   2  \u22c5a \u22c5k \u22c5\u239c2 \u22c5a  \u22c5k  \u22c5\u239c\u2500\u2500\u2500\u2500\u2500\u2500\u2500\u2500\n       \u239d2    \u23a0 1\u2575 2 \u239c\u2500 + 3, - \u2500 + 3 \u2502   4  \u239f             \u239c           \u239c 2      \n                    \u239d2        2     \u2502      \u23a0             \u239d           \u239d\u03bd  - 2\u22c5\u03bd\n\u2500\u2500\u2500\u2500\u2500\u2500\u2500\u2500\u2500\u2500\u2500\u2500\u2500\u2500\u2500\u2500\u2500\u2500\u2500\u2500\u2500\u2500\u2500\u2500\u2500\u2500\u2500\u2500\u2500\u2500\u2500\u2500\u2500\u2500\u2500\u2500\u2500\u2500\u2500\u2500\u2500\u2500\u2500\u2500 + \u2500\u2500\u2500\u2500\u2500\u2500\u2500\u2500\u2500\u2500\u2500\u2500\u2500\u2500\u2500\u2500\u2500\u2500\u2500\u2500\u2500\u2500\u2500\u2500\u2500\u2500\u2500\u2500\u2500\u2500\u2500\n                    \u239b\u03bd    \u239e                                                   \n                 8\u22c5\u0393\u239c\u2500 + 3\u239f                                                   \n                    \u239d2    \u23a0                                                   \n\n    \u239e                                                                         \n    \u239f                             \u03bd - 1  -\u03bd + 1  -\u03bd + 1 \u239b    4\u22c5\u03bd      4\u22c5\u03bd - 4 \n + 1\u239f\u22c5besseli(\u03bd, a\u22c5k)\u22c5\u0393(\u03bd + 1) + 2     \u22c5a      \u22c5k      \u22c5\u239c- \u2500\u2500\u2500\u2500\u2500\u2500\u2500\u2500 + \u2500\u2500\u2500\u2500\u2500\u2500\u2500\u2500\n    \u239f                                                   \u239c   2          2      \n    \u23a0                                                   \u239d  \u03bd  - 2\u22c5\u03bd   \u03bd  - 2\u22c5\u03bd\n\u2500\u2500\u2500\u2500\u2500\u2500\u2500\u2500\u2500\u2500\u2500\u2500\u2500\u2500\u2500\u2500\u2500\u2500\u2500\u2500\u2500\u2500\u2500\u2500\u2500\u2500\u2500\u2500\u2500\u2500\u2500\u2500\u2500\u2500\u2500\u2500\u2500\u2500\u2500\u2500\u2500\u2500\u2500\u2500\u2500\u2500\u2500\u2500\u2500\u2500\u2500\u2500\u2500\u2500\u2500\u2500\u2500\u2500\u2500\u2500\u2500\u2500\u2500\u2500\u2500\u2500\u2500\u2500\u2500\u2500\u2500\u2500\u2500\u2500\u2500\u2500\u2500\u2500\n                                             \u0393(\u03bd + 1)                         \n                                                                              \n                                                                              \n\n                              \u239e                    \n\u239e                             \u239f  \u239b  \u03bd    \u239e  \u239b\u03bd    \u239e\n\u239f\u22c5besseli(\u03bd + 1, a\u22c5k)\u22c5\u0393(\u03bd + 1)\u239f\u22c5\u0393\u239c- \u2500 + 2\u239f\u22c5\u0393\u239c\u2500 + 1\u239f\n\u239f                             \u239f  \u239d  2    \u23a0  \u239d2    \u23a0\n\u23a0                             \u23a0                    \n\u2500\u2500\u2500\u2500\u2500\u2500\u2500\u2500\u2500\u2500\u2500\u2500\u2500\u2500\u2500\u2500\u2500\u2500\u2500\u2500\u2500\u2500\u2500\u2500\u2500\u2500\u2500\u2500\u2500\u2500\u2500\u2500\u2500\u2500\u2500\u2500\u2500\u2500\u2500\u2500\u2500\u2500\u2500\u2500\u2500\u2500\u2500\u2500\u2500\u2500\u2500\n                                                   \n                                                   \n                                                   "
      }
     ],
     "prompt_number": 68
    },
    {
     "cell_type": "code",
     "collapsed": false,
     "input": "hyperexpand(_)",
     "language": "python",
     "outputs": [
      {
       "output_type": "pyout",
       "png": "[encoded data removed]",
       "prompt_number": 69,
       "text": "\n                    \u239b      3        \u2502  2  2\u239e             \u239b           \u239b  2  2  \n 4  4  \u239b\u03bd    \u239e  \u250c\u2500  \u239c               \u2502 a \u22c5k \u239f    -\u03bd  \u03bd  \u03bd \u239c \u03bd  -\u03bd  -\u03bd \u239c a \u22c5k   \na \u22c5k \u22c5\u0393\u239c\u2500 - 2\u239f\u22c5 \u251c\u2500  \u239c\u03bd        \u03bd     \u2502 \u2500\u2500\u2500\u2500\u2500\u239f   2  \u22c5a \u22c5k \u22c5\u239c2 \u22c5a  \u22c5k  \u22c5\u239c\u2500\u2500\u2500\u2500\u2500\u2500\u2500\u2500\n       \u239d2    \u23a0 1\u2575 2 \u239c\u2500 + 3, - \u2500 + 3 \u2502   4  \u239f             \u239c           \u239c 2      \n                    \u239d2        2     \u2502      \u23a0             \u239d           \u239d\u03bd  - 2\u22c5\u03bd\n\u2500\u2500\u2500\u2500\u2500\u2500\u2500\u2500\u2500\u2500\u2500\u2500\u2500\u2500\u2500\u2500\u2500\u2500\u2500\u2500\u2500\u2500\u2500\u2500\u2500\u2500\u2500\u2500\u2500\u2500\u2500\u2500\u2500\u2500\u2500\u2500\u2500\u2500\u2500\u2500\u2500\u2500\u2500\u2500 + \u2500\u2500\u2500\u2500\u2500\u2500\u2500\u2500\u2500\u2500\u2500\u2500\u2500\u2500\u2500\u2500\u2500\u2500\u2500\u2500\u2500\u2500\u2500\u2500\u2500\u2500\u2500\u2500\u2500\u2500\u2500\n                    \u239b\u03bd    \u239e                                                   \n                 8\u22c5\u0393\u239c\u2500 + 3\u239f                                                   \n                    \u239d2    \u23a0                                                   \n\n    \u239e                                                                         \n    \u239f                             \u03bd - 1  -\u03bd + 1  -\u03bd + 1 \u239b    4\u22c5\u03bd      4\u22c5\u03bd - 4 \n + 1\u239f\u22c5besseli(\u03bd, a\u22c5k)\u22c5\u0393(\u03bd + 1) + 2     \u22c5a      \u22c5k      \u22c5\u239c- \u2500\u2500\u2500\u2500\u2500\u2500\u2500\u2500 + \u2500\u2500\u2500\u2500\u2500\u2500\u2500\u2500\n    \u239f                                                   \u239c   2          2      \n    \u23a0                                                   \u239d  \u03bd  - 2\u22c5\u03bd   \u03bd  - 2\u22c5\u03bd\n\u2500\u2500\u2500\u2500\u2500\u2500\u2500\u2500\u2500\u2500\u2500\u2500\u2500\u2500\u2500\u2500\u2500\u2500\u2500\u2500\u2500\u2500\u2500\u2500\u2500\u2500\u2500\u2500\u2500\u2500\u2500\u2500\u2500\u2500\u2500\u2500\u2500\u2500\u2500\u2500\u2500\u2500\u2500\u2500\u2500\u2500\u2500\u2500\u2500\u2500\u2500\u2500\u2500\u2500\u2500\u2500\u2500\u2500\u2500\u2500\u2500\u2500\u2500\u2500\u2500\u2500\u2500\u2500\u2500\u2500\u2500\u2500\u2500\u2500\u2500\u2500\u2500\u2500\n                                             \u0393(\u03bd + 1)                         \n                                                                              \n                                                                              \n\n                              \u239e                    \n\u239e                             \u239f  \u239b  \u03bd    \u239e  \u239b\u03bd    \u239e\n\u239f\u22c5besseli(\u03bd + 1, a\u22c5k)\u22c5\u0393(\u03bd + 1)\u239f\u22c5\u0393\u239c- \u2500 + 2\u239f\u22c5\u0393\u239c\u2500 + 1\u239f\n\u239f                             \u239f  \u239d  2    \u23a0  \u239d2    \u23a0\n\u23a0                             \u23a0                    \n\u2500\u2500\u2500\u2500\u2500\u2500\u2500\u2500\u2500\u2500\u2500\u2500\u2500\u2500\u2500\u2500\u2500\u2500\u2500\u2500\u2500\u2500\u2500\u2500\u2500\u2500\u2500\u2500\u2500\u2500\u2500\u2500\u2500\u2500\u2500\u2500\u2500\u2500\u2500\u2500\u2500\u2500\u2500\u2500\u2500\u2500\u2500\u2500\u2500\u2500\u2500\n                                                   \n                                                   \n                                                   "
      }
     ],
     "prompt_number": 69
    },
    {
     "cell_type": "code",
     "collapsed": true,
     "input": "",
     "language": "python",
     "outputs": [],
     "prompt_number": 69
    }
   ]
  }
 ]
}