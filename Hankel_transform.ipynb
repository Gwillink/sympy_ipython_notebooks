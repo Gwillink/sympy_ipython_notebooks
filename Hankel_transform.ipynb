{
 "metadata": {
  "name": "Hankel_transform"
 },
 "name": "Hankel_transform",
 "nbformat": 3,
 "worksheets": [
  {
   "cells": [
    {
     "cell_type": "code",
     "collapsed": true,
     "input": "%load_ext sympyprt",
     "language": "python",
     "outputs": [],
     "prompt_number": 1
    },
    {
     "cell_type": "code",
     "collapsed": false,
     "input": "from sympy import *",
     "language": "python",
     "outputs": [],
     "prompt_number": 2
    },
    {
     "cell_type": "code",
     "collapsed": false,
     "input": "r = Symbol(\"r\")\nk = Symbol(\"k\")\n\nnu = Symbol(\"nu\")",
     "language": "python",
     "outputs": [],
     "prompt_number": 3
    },
    {
     "cell_type": "markdown",
     "source": "Zero-th order"
    },
    {
     "cell_type": "markdown",
     "source": "1"
    },
    {
     "cell_type": "code",
     "collapsed": false,
     "input": "1/r",
     "language": "python",
     "outputs": [
      {
       "output_type": "pyout",
       "png": "[encoded data removed]",
       "prompt_number": 4,
       "text": "\n1\n\u2500\nr"
      }
     ],
     "prompt_number": 4
    },
    {
     "cell_type": "code",
     "collapsed": false,
     "input": "hankel_transform(_, r, k, 0)",
     "language": "python",
     "outputs": [
      {
       "output_type": "pyout",
       "png": "[encoded data removed]",
       "prompt_number": 5,
       "text": "\n1\n\u2500\nk"
      }
     ],
     "prompt_number": 5
    },
    {
     "cell_type": "code",
     "collapsed": false,
     "input": "inverse_hankel_transform(_, k, r, 0)",
     "language": "python",
     "outputs": [
      {
       "output_type": "pyout",
       "png": "[encoded data removed]",
       "prompt_number": 6,
       "text": "\n1\n\u2500\nr"
      }
     ],
     "prompt_number": 6
    },
    {
     "cell_type": "markdown",
     "source": "1b"
    },
    {
     "cell_type": "code",
     "collapsed": true,
     "input": "m = Symbol(\"m\")",
     "language": "python",
     "outputs": [],
     "prompt_number": 172
    },
    {
     "cell_type": "code",
     "collapsed": false,
     "input": "1/r**m",
     "language": "python",
     "outputs": [
      {
       "output_type": "pyout",
       "png": "[encoded data removed]",
       "prompt_number": 173,
       "text": "\n -m\nr  "
      }
     ],
     "prompt_number": 173
    },
    {
     "cell_type": "code",
     "collapsed": false,
     "input": "hankel_transform(_, r, k, 0)",
     "language": "python",
     "outputs": [
      {
       "output_type": "pyout",
       "png": "[encoded data removed]",
       "prompt_number": 174,
       "text": "\n -m + 1  m - 2  \u239b  m    \u239e\n2      \u22c5k     \u22c5\u0393\u239c- \u2500 + 1\u239f\n                \u239d  2    \u23a0\n\u2500\u2500\u2500\u2500\u2500\u2500\u2500\u2500\u2500\u2500\u2500\u2500\u2500\u2500\u2500\u2500\u2500\u2500\u2500\u2500\u2500\u2500\u2500\u2500\u2500\n            \u239bm\u239e          \n           \u0393\u239c\u2500\u239f          \n            \u239d2\u23a0          "
      }
     ],
     "prompt_number": 174
    },
    {
     "cell_type": "code",
     "collapsed": false,
     "input": "inverse_hankel_transform(_, k, r, 0)",
     "language": "python",
     "outputs": [
      {
       "output_type": "pyout",
       "png": "[encoded data removed]",
       "prompt_number": 175,
       "text": "\n -m\nr  "
      }
     ],
     "prompt_number": 175
    },
    {
     "cell_type": "markdown",
     "source": "2"
    },
    {
     "cell_type": "code",
     "collapsed": false,
     "input": "r",
     "language": "python",
     "outputs": [
      {
       "output_type": "pyout",
       "png": "[encoded data removed]",
       "prompt_number": 7,
       "text": "r"
      }
     ],
     "prompt_number": 7
    },
    {
     "cell_type": "code",
     "collapsed": false,
     "input": "HankelTransform(_, r, k, 0)",
     "language": "python",
     "outputs": [
      {
       "output_type": "pyout",
       "png": "[encoded data removed]",
       "prompt_number": 8,
       "text": "HankelTransform(r, r, k, 0)"
      }
     ],
     "prompt_number": 8
    },
    {
     "cell_type": "code",
     "collapsed": false,
     "input": "_.as_integral",
     "language": "python",
     "outputs": [
      {
       "output_type": "pyout",
       "png": "[encoded data removed]",
       "prompt_number": 9,
       "text": "\n\u221e                      \n\u2320                      \n\u23ae  2                   \n\u23ae r \u22c5besselj(0, k\u22c5r) dr\n\u2321                      \n0                      "
      }
     ],
     "prompt_number": 9
    },
    {
     "cell_type": "markdown",
     "source": "3"
    },
    {
     "cell_type": "code",
     "collapsed": false,
     "input": "r**3",
     "language": "python",
     "outputs": [
      {
       "output_type": "pyout",
       "png": "[encoded data removed]",
       "prompt_number": 30,
       "text": "\n 3\nr "
      }
     ],
     "prompt_number": 30
    },
    {
     "cell_type": "code",
     "collapsed": false,
     "input": "#hankel_transform(_, r, k, 0)",
     "language": "python",
     "outputs": [],
     "prompt_number": 32
    },
    {
     "cell_type": "markdown",
     "source": "4"
    },
    {
     "cell_type": "code",
     "collapsed": true,
     "input": "m = Symbol(\"m\")",
     "language": "python",
     "outputs": [],
     "prompt_number": 43
    },
    {
     "cell_type": "code",
     "collapsed": false,
     "input": "r**m",
     "language": "python",
     "outputs": [
      {
       "output_type": "pyout",
       "png": "[encoded data removed]",
       "prompt_number": 50,
       "text": "\n m\nr "
      }
     ],
     "prompt_number": 50
    },
    {
     "cell_type": "code",
     "collapsed": false,
     "input": "h = hankel_transform(_, r, k, 0)\nh",
     "language": "python",
     "outputs": [
      {
       "output_type": "pyout",
       "png": "[encoded data removed]",
       "prompt_number": 51,
       "text": "\n m + 1  -m - 2  \u239bm    \u239e\n2     \u22c5k      \u22c5\u0393\u239c\u2500 + 1\u239f\n                \u239d2    \u23a0\n\u2500\u2500\u2500\u2500\u2500\u2500\u2500\u2500\u2500\u2500\u2500\u2500\u2500\u2500\u2500\u2500\u2500\u2500\u2500\u2500\u2500\u2500\u2500\n          \u239b-m\u239e         \n         \u0393\u239c\u2500\u2500\u239f         \n          \u239d2 \u23a0         "
      }
     ],
     "prompt_number": 51
    },
    {
     "cell_type": "code",
     "collapsed": false,
     "input": "h.subs(m, 3)",
     "language": "python",
     "outputs": [
      {
       "output_type": "pyout",
       "png": "[encoded data removed]",
       "prompt_number": 52,
       "text": "\n9 \n\u2500\u2500\n 5\nk "
      }
     ],
     "prompt_number": 52
    },
    {
     "cell_type": "code",
     "collapsed": false,
     "input": "inverse_hankel_transform(h, k, r, 0)",
     "language": "python",
     "outputs": [
      {
       "output_type": "pyout",
       "png": "[encoded data removed]",
       "prompt_number": 53,
       "text": "\n m\nr "
      }
     ],
     "prompt_number": 53
    },
    {
     "cell_type": "code",
     "collapsed": true,
     "input": "# Only the general case with symbolic 'm' does work!",
     "language": "python",
     "outputs": [],
     "prompt_number": 54
    },
    {
     "cell_type": "markdown",
     "source": "5"
    },
    {
     "cell_type": "code",
     "collapsed": true,
     "input": "a = Symbol(\"a\")",
     "language": "python",
     "outputs": [],
     "prompt_number": 15
    },
    {
     "cell_type": "code",
     "collapsed": false,
     "input": "1/sqrt(r**2+a**2)",
     "language": "python",
     "outputs": [
      {
       "output_type": "pyout",
       "png": "[encoded data removed]",
       "prompt_number": 16,
       "text": "\n     1      \n\u2500\u2500\u2500\u2500\u2500\u2500\u2500\u2500\u2500\u2500\u2500\u2500\n   _________\n  \u2571  2    2 \n\u2572\u2571  a  + r  "
      }
     ],
     "prompt_number": 16
    },
    {
     "cell_type": "code",
     "collapsed": false,
     "input": "hankel_transform(_, r, k, 0)",
     "language": "python",
     "outputs": [
      {
       "output_type": "pyout",
       "png": "[encoded data removed]",
       "prompt_number": 17,
       "text": "\n-sinh(a\u22c5k) + cosh(a\u22c5k)\n\u2500\u2500\u2500\u2500\u2500\u2500\u2500\u2500\u2500\u2500\u2500\u2500\u2500\u2500\u2500\u2500\u2500\u2500\u2500\u2500\u2500\u2500\n          k           "
      }
     ],
     "prompt_number": 17
    },
    {
     "cell_type": "code",
     "collapsed": false,
     "input": "#inverse_hankel_transform(_, k, r, 0)",
     "language": "python",
     "outputs": [],
     "prompt_number": 18
    },
    {
     "cell_type": "markdown",
     "source": "6"
    },
    {
     "cell_type": "code",
     "collapsed": true,
     "input": "a = Symbol(\"a\")",
     "language": "python",
     "outputs": [],
     "prompt_number": 55
    },
    {
     "cell_type": "code",
     "collapsed": false,
     "input": "1/(r**2+a**2)",
     "language": "python",
     "outputs": [
      {
       "output_type": "pyout",
       "png": "[encoded data removed]",
       "prompt_number": 56,
       "text": "\n   1   \n\u2500\u2500\u2500\u2500\u2500\u2500\u2500\n 2    2\na  + r "
      }
     ],
     "prompt_number": 56
    },
    {
     "cell_type": "code",
     "collapsed": false,
     "input": "hankel_transform(_, r, k, 0)",
     "language": "python",
     "outputs": [
      {
       "output_type": "pyout",
       "png": "[encoded data removed]",
       "prompt_number": 57,
       "text": "\n        \u239b        \u2502  2  2\u239e\n\u256d\u2500\u256e2, 1 \u239c 0      \u2502 a \u22c5k \u239f\n\u2502\u2576\u2510     \u239c        \u2502 \u2500\u2500\u2500\u2500\u2500\u239f\n\u2570\u2500\u256f1, 3 \u239d0, 0  0 \u2502   4  \u23a0\n\u2500\u2500\u2500\u2500\u2500\u2500\u2500\u2500\u2500\u2500\u2500\u2500\u2500\u2500\u2500\u2500\u2500\u2500\u2500\u2500\u2500\u2500\u2500\u2500\u2500\n            2            "
      }
     ],
     "prompt_number": 57
    },
    {
     "cell_type": "code",
     "collapsed": false,
     "input": "hyperexpand(_)",
     "language": "python",
     "outputs": [
      {
       "output_type": "pyout",
       "png": "[encoded data removed]",
       "prompt_number": 58,
       "text": "\n        \u239b        \u2502  2  2\u239e\n\u256d\u2500\u256e2, 1 \u239c 0      \u2502 a \u22c5k \u239f\n\u2502\u2576\u2510     \u239c        \u2502 \u2500\u2500\u2500\u2500\u2500\u239f\n\u2570\u2500\u256f1, 3 \u239d0, 0  0 \u2502   4  \u23a0\n\u2500\u2500\u2500\u2500\u2500\u2500\u2500\u2500\u2500\u2500\u2500\u2500\u2500\u2500\u2500\u2500\u2500\u2500\u2500\u2500\u2500\u2500\u2500\u2500\u2500\n            2            "
      }
     ],
     "prompt_number": 58
    },
    {
     "cell_type": "code",
     "collapsed": true,
     "input": "# Should be a besselk_0(k*z)",
     "language": "python",
     "outputs": [],
     "prompt_number": 59
    },
    {
     "cell_type": "code",
     "collapsed": false,
     "input": "inverse_hankel_transform(_, k, r, 0)",
     "language": "python",
     "outputs": [
      {
       "output_type": "pyout",
       "png": "[encoded data removed]",
       "prompt_number": 60,
       "text": "\n   1   \n\u2500\u2500\u2500\u2500\u2500\u2500\u2500\n 2    2\na  + r "
      }
     ],
     "prompt_number": 60
    },
    {
     "cell_type": "markdown",
     "source": "6b"
    },
    {
     "cell_type": "code",
     "collapsed": true,
     "input": "a = Symbol(\"a\")",
     "language": "python",
     "outputs": [],
     "prompt_number": 15
    },
    {
     "cell_type": "code",
     "collapsed": false,
     "input": "1/sqrt(r**4+a**4)",
     "language": "python",
     "outputs": [
      {
       "output_type": "pyout",
       "png": "[encoded data removed]",
       "prompt_number": 16,
       "text": "\n     1      \n\u2500\u2500\u2500\u2500\u2500\u2500\u2500\u2500\u2500\u2500\u2500\u2500\n   _________\n  \u2571  4    4 \n\u2572\u2571  a  + r  "
      }
     ],
     "prompt_number": 16
    },
    {
     "cell_type": "code",
     "collapsed": false,
     "input": "hankel_transform(_, r, k, 0)",
     "language": "python",
     "outputs": [
      {
       "output_type": "pyout",
       "png": "[encoded data removed]",
       "prompt_number": 17,
       "text": "\n        \u239b                  \u2502  4  4\u239e\n\u256d\u2500\u256e3, 1 \u239c   1/2            \u2502 a \u22c5k \u239f\n\u2502\u2576\u2510     \u239c                  \u2502 \u2500\u2500\u2500\u2500\u2500\u239f\n\u2570\u2500\u256f1, 5 \u239d0, 0, 1/2  0, 1/2 \u2502  256 \u23a0\n\u2500\u2500\u2500\u2500\u2500\u2500\u2500\u2500\u2500\u2500\u2500\u2500\u2500\u2500\u2500\u2500\u2500\u2500\u2500\u2500\u2500\u2500\u2500\u2500\u2500\u2500\u2500\u2500\u2500\u2500\u2500\u2500\u2500\u2500\u2500\n                  ___              \n              4\u22c5\u2572\u2571 \u03c0               "
      }
     ],
     "prompt_number": 17
    },
    {
     "cell_type": "code",
     "collapsed": true,
     "input": "# Should be a product of K_0 and J_0",
     "language": "python",
     "outputs": [],
     "prompt_number": 18
    },
    {
     "cell_type": "code",
     "collapsed": false,
     "input": "inverse_hankel_transform(_, k, r, 0)",
     "language": "python",
     "outputs": [
      {
       "output_type": "pyout",
       "png": "[encoded data removed]",
       "prompt_number": 19,
       "text": "\n        1        \n\u2500\u2500\u2500\u2500\u2500\u2500\u2500\u2500\u2500\u2500\u2500\u2500\u2500\u2500\u2500\u2500\u2500\n         ________\n        \u2571  4     \n 2     \u2571  a      \nr \u22c5   \u2571   \u2500\u2500 + 1 \n     \u2571     4     \n   \u2572\u2571     r      "
      }
     ],
     "prompt_number": 19
    },
    {
     "cell_type": "markdown",
     "source": "7"
    },
    {
     "cell_type": "code",
     "collapsed": true,
     "input": "a = Symbol(\"a\", positive=True)",
     "language": "python",
     "outputs": [],
     "prompt_number": 66
    },
    {
     "cell_type": "code",
     "collapsed": false,
     "input": "exp(I*a*r)/r",
     "language": "python",
     "outputs": [
      {
       "output_type": "pyout",
       "png": "[encoded data removed]",
       "prompt_number": 67,
       "text": "\n \u2148\u22c5a\u22c5r\n\u212f     \n\u2500\u2500\u2500\u2500\u2500\u2500\n  r   "
      }
     ],
     "prompt_number": 67
    },
    {
     "cell_type": "code",
     "collapsed": false,
     "input": "h = hankel_transform(_, r, k, 0)\nh",
     "language": "python",
     "outputs": [
      {
       "output_type": "pyout",
       "png": "[encoded data removed]",
       "prompt_number": 68,
       "text": "\n\u23a7        \u2148\u22c5\u03c0                        \n\u23aa        \u2500\u2500\u2500                        \n\u23aa         2                         \n\u23aa       \u212f                 2 \u25021 \u2502    \n\u23aa \u2500\u2500\u2500\u2500\u2500\u2500\u2500\u2500\u2500\u2500\u2500\u2500\u2500\u2500\u2500\u2500   for a \u22c5\u2502\u2500\u2500\u2502 > 1\n\u23aa         ________          \u2502 2\u2502    \n\u23aa        \u2571  2               \u2502k \u2502    \n\u23aa       \u2571  a                        \n\u23aa k\u22c5   \u2571   \u2500\u2500 - 1                   \n\u23aa     \u2571     2                       \n\u23a8   \u2572\u2571     k                        \n\u23aa                                   \n\u23aa        1                          \n\u23aa\u2500\u2500\u2500\u2500\u2500\u2500\u2500\u2500\u2500\u2500\u2500\u2500\u2500\u2500\u2500\u2500\u2500\u2500     otherwise   \n\u23aa        __________                 \n\u23aa       \u2571    2                      \n\u23aa      \u2571    a                       \n\u23aak\u22c5   \u2571   - \u2500\u2500 + 1                  \n\u23aa    \u2571       2                      \n\u23aa  \u2572\u2571       k                       \n\u23a9                                   "
      }
     ],
     "prompt_number": 68
    },
    {
     "cell_type": "code",
     "collapsed": true,
     "input": "# Could be correct but should be simplified to nicer form\n# - Put the k into the roots\n# - simplify exp to I",
     "language": "python",
     "outputs": [],
     "prompt_number": 69
    },
    {
     "cell_type": "code",
     "collapsed": false,
     "input": "h.args[0].args[0]",
     "language": "python",
     "outputs": [
      {
       "output_type": "pyout",
       "png": "[encoded data removed]",
       "prompt_number": 75,
       "text": "\n       \u2148\u22c5\u03c0      \n       \u2500\u2500\u2500      \n        2       \n      \u212f         \n\u2500\u2500\u2500\u2500\u2500\u2500\u2500\u2500\u2500\u2500\u2500\u2500\u2500\u2500\u2500\u2500\n        ________\n       \u2571  2     \n      \u2571  a      \nk\u22c5   \u2571   \u2500\u2500 - 1 \n    \u2571     2     \n  \u2572\u2571     k      "
      }
     ],
     "prompt_number": 75
    },
    {
     "cell_type": "code",
     "collapsed": false,
     "input": "#inverse_hankel_transform(_, k, r, 0)\n# Takes forever",
     "language": "python",
     "outputs": [],
     "prompt_number": 76
    },
    {
     "cell_type": "markdown",
     "source": "8"
    },
    {
     "cell_type": "code",
     "collapsed": true,
     "input": "a = Symbol(\"a\")",
     "language": "python",
     "outputs": [],
     "prompt_number": 77
    },
    {
     "cell_type": "code",
     "collapsed": false,
     "input": "exp(-a**2*r**2/2)",
     "language": "python",
     "outputs": [
      {
       "output_type": "pyout",
       "png": "[encoded data removed]",
       "prompt_number": 78,
       "text": "\n   2  2\n -a \u22c5r \n \u2500\u2500\u2500\u2500\u2500\u2500\n   2   \n\u212f      "
      }
     ],
     "prompt_number": 78
    },
    {
     "cell_type": "code",
     "collapsed": false,
     "input": "hankel_transform(_, r, k, 0)",
     "language": "python",
     "outputs": [
      {
       "output_type": "pyout",
       "png": "[encoded data removed]",
       "prompt_number": 79,
       "text": "\n   2 \n -k  \n \u2500\u2500\u2500\u2500\n    2\n 2\u22c5a \n\u212f    \n\u2500\u2500\u2500\u2500\u2500\n   2 \n  a  "
      }
     ],
     "prompt_number": 79
    },
    {
     "cell_type": "code",
     "collapsed": false,
     "input": "inverse_hankel_transform(_, k, r, 0)",
     "language": "python",
     "outputs": [
      {
       "output_type": "pyout",
       "png": "[encoded data removed]",
       "prompt_number": 80,
       "text": "\n   2  2\n -a \u22c5r \n \u2500\u2500\u2500\u2500\u2500\u2500\n   2   \n\u212f      "
      }
     ],
     "prompt_number": 80
    },
    {
     "cell_type": "markdown",
     "source": "9"
    },
    {
     "cell_type": "code",
     "collapsed": true,
     "input": "f = Function(\"f\")",
     "language": "python",
     "outputs": [],
     "prompt_number": 81
    },
    {
     "cell_type": "code",
     "collapsed": false,
     "input": "-r**2*f(r)",
     "language": "python",
     "outputs": [
      {
       "output_type": "pyout",
       "png": "[encoded data removed]",
       "prompt_number": 82,
       "text": "\n  2     \n-r \u22c5f(r)"
      }
     ],
     "prompt_number": 82
    },
    {
     "cell_type": "code",
     "collapsed": false,
     "input": "#hankel_transform(_, r, k, 0)",
     "language": "python",
     "outputs": [],
     "prompt_number": 83
    },
    {
     "cell_type": "markdown",
     "source": "10"
    },
    {
     "cell_type": "code",
     "collapsed": true,
     "input": "a = Symbol(\"a\")",
     "language": "python",
     "outputs": [],
     "prompt_number": 84
    },
    {
     "cell_type": "code",
     "collapsed": false,
     "input": "sin(2*pi*a*r)/r",
     "language": "python",
     "outputs": [
      {
       "output_type": "pyout",
       "png": "[encoded data removed]",
       "prompt_number": 85,
       "text": "\nsin(2\u22c5\u03c0\u22c5a\u22c5r)\n\u2500\u2500\u2500\u2500\u2500\u2500\u2500\u2500\u2500\u2500\u2500\u2500\n     r      "
      }
     ],
     "prompt_number": 85
    },
    {
     "cell_type": "code",
     "collapsed": false,
     "input": "hankel_transform(_, r, k, 0)",
     "language": "python",
     "outputs": [
      {
       "output_type": "pyout",
       "png": "[encoded data removed]",
       "prompt_number": 86,
       "text": "\n\u23a7                                             \u2502 2\u2502    \n\u23aa                                           2 \u2502a \u2502    \n\u23aa                0                   for 4\u22c5\u03c0 \u22c5\u2502\u2500\u2500\u2502 < 1\n\u23aa                                             \u2502 2\u2502    \n\u23aa                                             \u2502k \u2502    \n\u23aa                                                     \n\u23aa                                          \u2502 2\u2502       \n\u23aa                                          \u2502k \u2502       \n\u23aa                                          \u2502\u2500\u2500\u2502       \n\u23aa                                          \u2502 2\u2502       \n\u23aa                1                         \u2502a \u2502       \n\u23aa    \u2500\u2500\u2500\u2500\u2500\u2500\u2500\u2500\u2500\u2500\u2500\u2500\u2500\u2500\u2500\u2500\u2500\u2500\u2500\u2500\u2500\u2500\u2500\u2500\u2500         for \u2500\u2500\u2500\u2500 < 1   \n\u23aa                _____________                2       \n\u23a8               \u2571         2                4\u22c5\u03c0        \n\u23aa              \u2571         k                            \n\u23aa    2\u22c5\u03c0\u22c5a\u22c5   \u2571   1 - \u2500\u2500\u2500\u2500\u2500\u2500\u2500                         \n\u23aa            \u2571           2  2                         \n\u23aa          \u2572\u2571         4\u22c5\u03c0 \u22c5a                          \n\u23aa                                                     \n\u23aa              \u239b         \u2502    2  2\u239e                   \n\u23aa  ___ \u256d\u2500\u256e1, 1 \u239c1/2  1/2 \u2502 4\u22c5\u03c0 \u22c5a \u239f                   \n\u23aa\u2572\u2571 \u03c0 \u22c5\u2502\u2576\u2510     \u239c         \u2502 \u2500\u2500\u2500\u2500\u2500\u2500\u2500\u239f                   \n\u23aa      \u2570\u2500\u256f2, 2 \u239c1/2   0  \u2502     2  \u239f                   \n\u23aa              \u239d         \u2502    k   \u23a0                   \n\u23aa\u2500\u2500\u2500\u2500\u2500\u2500\u2500\u2500\u2500\u2500\u2500\u2500\u2500\u2500\u2500\u2500\u2500\u2500\u2500\u2500\u2500\u2500\u2500\u2500\u2500\u2500\u2500\u2500\u2500\u2500\u2500\u2500\u2500\u2500      otherwise    \n\u23aa                k                                    \n\u23a9                                                     "
      }
     ],
     "prompt_number": 86
    },
    {
     "cell_type": "markdown",
     "source": "10b"
    },
    {
     "cell_type": "code",
     "collapsed": true,
     "input": "a = Symbol(\"a\")",
     "language": "python",
     "outputs": [],
     "prompt_number": 87
    },
    {
     "cell_type": "code",
     "collapsed": false,
     "input": "cos(2*pi*a*r)/r",
     "language": "python",
     "outputs": [
      {
       "output_type": "pyout",
       "png": "[encoded data removed]",
       "prompt_number": 96,
       "text": "\ncos(2\u22c5\u03c0\u22c5a\u22c5r)\n\u2500\u2500\u2500\u2500\u2500\u2500\u2500\u2500\u2500\u2500\u2500\u2500\n     r      "
      }
     ],
     "prompt_number": 96
    },
    {
     "cell_type": "code",
     "collapsed": false,
     "input": "hankel_transform(_, r, k, 0)",
     "language": "python",
     "outputs": [
      {
       "output_type": "pyout",
       "png": "[encoded data removed]",
       "prompt_number": 97,
       "text": "\n\u23a7                                             \u2502 2\u2502    \n\u23aa                1                          2 \u2502a \u2502    \n\u23aa     \u2500\u2500\u2500\u2500\u2500\u2500\u2500\u2500\u2500\u2500\u2500\u2500\u2500\u2500\u2500\u2500\u2500\u2500\u2500\u2500\u2500\u2500\u2500        for 4\u22c5\u03c0 \u22c5\u2502\u2500\u2500\u2502 < 1\n\u23aa             _______________                 \u2502 2\u2502    \n\u23aa            \u2571      2  2                      \u2502k \u2502    \n\u23aa           \u2571    4\u22c5\u03c0 \u22c5a                               \n\u23aa     k\u22c5   \u2571   - \u2500\u2500\u2500\u2500\u2500\u2500\u2500 + 1                          \n\u23aa         \u2571          2                                \n\u23aa       \u2572\u2571          k                                 \n\u23aa                                                     \n\u23aa                                          \u2502 2\u2502       \n\u23aa                                          \u2502k \u2502       \n\u23aa                                          \u2502\u2500\u2500\u2502       \n\u23a8                                          \u2502 2\u2502       \n\u23aa                                          \u2502a \u2502       \n\u23aa                0                     for \u2500\u2500\u2500\u2500 < 1   \n\u23aa                                             2       \n\u23aa                                          4\u22c5\u03c0        \n\u23aa                                                     \n\u23aa              \u239b         \u2502    2  2\u239e                   \n\u23aa  ___ \u256d\u2500\u256e1, 1 \u239c1/2  1/2 \u2502 4\u22c5\u03c0 \u22c5a \u239f                   \n\u23aa\u2572\u2571 \u03c0 \u22c5\u2502\u2576\u2510     \u239c         \u2502 \u2500\u2500\u2500\u2500\u2500\u2500\u2500\u239f                   \n\u23aa      \u2570\u2500\u256f2, 2 \u239c 0   1/2 \u2502     2  \u239f                   \n\u23aa              \u239d         \u2502    k   \u23a0                   \n\u23aa\u2500\u2500\u2500\u2500\u2500\u2500\u2500\u2500\u2500\u2500\u2500\u2500\u2500\u2500\u2500\u2500\u2500\u2500\u2500\u2500\u2500\u2500\u2500\u2500\u2500\u2500\u2500\u2500\u2500\u2500\u2500\u2500\u2500\u2500      otherwise    \n\u23aa                k                                    \n\u23a9                                                     "
      }
     ],
     "prompt_number": 97
    },
    {
     "cell_type": "markdown",
     "source": "11"
    },
    {
     "cell_type": "code",
     "collapsed": true,
     "input": "a = Symbol(\"a\")",
     "language": "python",
     "outputs": [],
     "prompt_number": 98
    },
    {
     "cell_type": "code",
     "collapsed": false,
     "input": "(a**2+r**2)**(-Rational(3,2))",
     "language": "python",
     "outputs": [
      {
       "output_type": "pyout",
       "png": "[encoded data removed]",
       "prompt_number": 99,
       "text": "\n     1      \n\u2500\u2500\u2500\u2500\u2500\u2500\u2500\u2500\u2500\u2500\u2500\u2500\n         3/2\n\u239b 2    2\u239e   \n\u239da  + r \u23a0   "
      }
     ],
     "prompt_number": 99
    },
    {
     "cell_type": "code",
     "collapsed": false,
     "input": "hankel_transform(_, r, k, 0)",
     "language": "python",
     "outputs": [
      {
       "output_type": "pyout",
       "png": "[encoded data removed]",
       "prompt_number": 100,
       "text": "\n-sinh(a\u22c5k) + cosh(a\u22c5k)\n\u2500\u2500\u2500\u2500\u2500\u2500\u2500\u2500\u2500\u2500\u2500\u2500\u2500\u2500\u2500\u2500\u2500\u2500\u2500\u2500\u2500\u2500\n          a           "
      }
     ],
     "prompt_number": 100
    },
    {
     "cell_type": "code",
     "collapsed": true,
     "input": "# Hmm, be careful with factors of 2*pi",
     "language": "python",
     "outputs": [],
     "prompt_number": 101
    },
    {
     "cell_type": "code",
     "collapsed": false,
     "input": "#inverse_hankel_transform(_, k, r, 0)",
     "language": "python",
     "outputs": [],
     "prompt_number": 103
    },
    {
     "cell_type": "markdown",
     "source": "12"
    },
    {
     "cell_type": "code",
     "collapsed": true,
     "input": "a = Symbol(\"a\")",
     "language": "python",
     "outputs": [],
     "prompt_number": 104
    },
    {
     "cell_type": "code",
     "collapsed": false,
     "input": "2*a**2/(a**2+r**2)**2",
     "language": "python",
     "outputs": [
      {
       "output_type": "pyout",
       "png": "[encoded data removed]",
       "prompt_number": 105,
       "text": "\n      2   \n   2\u22c5a    \n\u2500\u2500\u2500\u2500\u2500\u2500\u2500\u2500\u2500\u2500\n         2\n\u239b 2    2\u239e \n\u239da  + r \u23a0 "
      }
     ],
     "prompt_number": 105
    },
    {
     "cell_type": "code",
     "collapsed": false,
     "input": "hankel_transform(_, r, k, 0)",
     "language": "python",
     "outputs": [
      {
       "output_type": "pyout",
       "png": "[encoded data removed]",
       "prompt_number": 106,
       "text": "\n        \u239b        \u2502  2  2\u239e\n\u256d\u2500\u256e2, 1 \u239c 0      \u2502 a \u22c5k \u239f\n\u2502\u2576\u2510     \u239c        \u2502 \u2500\u2500\u2500\u2500\u2500\u239f\n\u2570\u2500\u256f1, 3 \u239d1, 0  0 \u2502   4  \u23a0"
      }
     ],
     "prompt_number": 106
    },
    {
     "cell_type": "code",
     "collapsed": true,
     "input": "# Should be a besselk of order 1",
     "language": "python",
     "outputs": [],
     "prompt_number": 45
    },
    {
     "cell_type": "code",
     "collapsed": false,
     "input": "inverse_hankel_transform(_, k, r, 0)",
     "language": "python",
     "outputs": [
      {
       "output_type": "pyout",
       "png": "[encoded data removed]",
       "prompt_number": 107,
       "text": "\n     2      \n\u2500\u2500\u2500\u2500\u2500\u2500\u2500\u2500\u2500\u2500\u2500\u2500\n           2\n   \u239b     2\u239e \n 2 \u239c    r \u239f \na \u22c5\u239c1 + \u2500\u2500\u239f \n   \u239c     2\u239f \n   \u239d    a \u23a0 "
      }
     ],
     "prompt_number": 107
    },
    {
     "cell_type": "markdown",
     "source": "13"
    },
    {
     "cell_type": "code",
     "collapsed": true,
     "input": "a = Symbol(\"a\")",
     "language": "python",
     "outputs": [],
     "prompt_number": 113
    },
    {
     "cell_type": "code",
     "collapsed": false,
     "input": "4*a**4/(a**2+r**2)**3",
     "language": "python",
     "outputs": [
      {
       "output_type": "pyout",
       "png": "[encoded data removed]",
       "prompt_number": 114,
       "text": "\n      4   \n   4\u22c5a    \n\u2500\u2500\u2500\u2500\u2500\u2500\u2500\u2500\u2500\u2500\n         3\n\u239b 2    2\u239e \n\u239da  + r \u23a0 "
      }
     ],
     "prompt_number": 114
    },
    {
     "cell_type": "code",
     "collapsed": false,
     "input": "hankel_transform(_, r, k, 0)",
     "language": "python",
     "outputs": [
      {
       "output_type": "pyout",
       "png": "[encoded data removed]",
       "prompt_number": 115,
       "text": "\n        \u239b        \u2502  2  2\u239e\n\u256d\u2500\u256e2, 1 \u239c 0      \u2502 a \u22c5k \u239f\n\u2502\u2576\u2510     \u239c        \u2502 \u2500\u2500\u2500\u2500\u2500\u239f\n\u2570\u2500\u256f1, 3 \u239d2, 0  0 \u2502   4  \u23a0"
      }
     ],
     "prompt_number": 115
    },
    {
     "cell_type": "code",
     "collapsed": true,
     "input": "# Should be a besselk of order 2",
     "language": "python",
     "outputs": [],
     "prompt_number": 116
    },
    {
     "cell_type": "code",
     "collapsed": false,
     "input": "inverse_hankel_transform(_, k, r, 0)",
     "language": "python",
     "outputs": [
      {
       "output_type": "pyout",
       "png": "[encoded data removed]",
       "prompt_number": 117,
       "text": "\n     4      \n\u2500\u2500\u2500\u2500\u2500\u2500\u2500\u2500\u2500\u2500\u2500\u2500\n           3\n   \u239b     2\u239e \n 2 \u239c    r \u239f \na \u22c5\u239c1 + \u2500\u2500\u239f \n   \u239c     2\u239f \n   \u239d    a \u23a0 "
      }
     ],
     "prompt_number": 117
    },
    {
     "cell_type": "markdown",
     "source": "14"
    },
    {
     "cell_type": "code",
     "collapsed": true,
     "input": "a = Symbol(\"a\")",
     "language": "python",
     "outputs": [],
     "prompt_number": 119
    },
    {
     "cell_type": "code",
     "collapsed": false,
     "input": "exp(-a*r)",
     "language": "python",
     "outputs": [
      {
       "output_type": "pyout",
       "png": "[encoded data removed]",
       "prompt_number": 120,
       "text": "\n -a\u22c5r\n\u212f    "
      }
     ],
     "prompt_number": 120
    },
    {
     "cell_type": "code",
     "collapsed": false,
     "input": "hankel_transform(_, r, k, 0)",
     "language": "python",
     "outputs": [
      {
       "output_type": "pyout",
       "png": "[encoded data removed]",
       "prompt_number": 121,
       "text": "\n      a       \n\u2500\u2500\u2500\u2500\u2500\u2500\u2500\u2500\u2500\u2500\u2500\u2500\u2500\u2500\n           3/2\n   \u239b 2    \u239e   \n 3 \u239ca     \u239f   \nk \u22c5\u239c\u2500\u2500 + 1\u239f   \n   \u239c 2    \u239f   \n   \u239dk     \u23a0   "
      }
     ],
     "prompt_number": 121
    },
    {
     "cell_type": "code",
     "collapsed": false,
     "input": "inverse_hankel_transform(_, k, r, 0)",
     "language": "python",
     "outputs": [
      {
       "output_type": "pyout",
       "png": "[encoded data removed]",
       "prompt_number": 122,
       "text": "-sinh(a\u22c5r) + cosh(a\u22c5r)"
      }
     ],
     "prompt_number": 122
    },
    {
     "cell_type": "markdown",
     "source": "15"
    },
    {
     "cell_type": "code",
     "collapsed": true,
     "input": "a = Symbol(\"a\")",
     "language": "python",
     "outputs": [],
     "prompt_number": 123
    },
    {
     "cell_type": "code",
     "collapsed": false,
     "input": "r**2*exp(-pi*r**2)",
     "language": "python",
     "outputs": [
      {
       "output_type": "pyout",
       "png": "[encoded data removed]",
       "prompt_number": 124,
       "text": "\n        2\n 2  -\u03c0\u22c5r \nr \u22c5\u212f     "
      }
     ],
     "prompt_number": 124
    },
    {
     "cell_type": "code",
     "collapsed": false,
     "input": "hankel_transform(_, r, k, 0)",
     "language": "python",
     "outputs": [
      {
       "output_type": "pyout",
       "png": "[encoded data removed]",
       "prompt_number": 125,
       "text": "\n                2\n              -k \n              \u2500\u2500\u2500\n\u239b   2      \u239e  4\u22c5\u03c0\n\u239d- k  + 4\u22c5\u03c0\u23a0\u22c5\u212f   \n\u2500\u2500\u2500\u2500\u2500\u2500\u2500\u2500\u2500\u2500\u2500\u2500\u2500\u2500\u2500\u2500\u2500\n          3      \n       8\u22c5\u03c0       "
      }
     ],
     "prompt_number": 125
    },
    {
     "cell_type": "code",
     "collapsed": false,
     "input": "inverse_hankel_transform(_, k, r, 0)",
     "language": "python",
     "outputs": [
      {
       "output_type": "pyout",
       "png": "[encoded data removed]",
       "prompt_number": 126,
       "text": "\n        2\n 2  -\u03c0\u22c5r \nr \u22c5\u212f     "
      }
     ],
     "prompt_number": 126
    },
    {
     "cell_type": "markdown",
     "source": "Arbitrary order"
    },
    {
     "cell_type": "markdown",
     "source": "1"
    },
    {
     "cell_type": "code",
     "collapsed": true,
     "input": "a = Symbol(\"a\")",
     "language": "python",
     "outputs": [],
     "prompt_number": 58
    },
    {
     "cell_type": "code",
     "collapsed": false,
     "input": "exp(-a**2*r**2/2)",
     "language": "python",
     "outputs": [
      {
       "output_type": "pyout",
       "png": "[encoded data removed]",
       "prompt_number": 59,
       "text": "\n   2  2\n -a \u22c5r \n \u2500\u2500\u2500\u2500\u2500\u2500\n   2   \n\u212f      "
      }
     ],
     "prompt_number": 59
    },
    {
     "cell_type": "code",
     "collapsed": false,
     "input": "hankel_transform(_, r, k, nu)",
     "language": "python",
     "outputs": [
      {
       "output_type": "pyout",
       "png": "[encoded data removed]",
       "prompt_number": 60,
       "text": "\n                                                                              \n                                                                              \n                                                                              \n               \u239b              \u239b        2  \u2148\u22c5\u03c0\u239e               \u239b        2  \u2148\u22c5\u03c0\u239e \n   ___     ___ \u239c   2          \u239c\u03bd   1  k \u22c5\u212f   \u239f      2        \u239c\u03bd   1  k \u22c5\u212f   \u239f \n-\u2572\u2571 2 \u22c5\u2148\u22c5\u2572\u2571 \u03c0 \u22c5\u239c4\u22c5a \u22c5\u03bd\u22c5besseli\u239c\u2500 + \u2500, \u2500\u2500\u2500\u2500\u2500\u2500\u2500\u239f + 4\u22c5a \u22c5besseli\u239c\u2500 + \u2500, \u2500\u2500\u2500\u2500\u2500\u2500\u2500\u239f \n               \u239c              \u239c2   2       2 \u239f               \u239c2   2       2 \u239f \n               \u239d              \u239d         4\u22c5a  \u23a0               \u239d         4\u22c5a  \u23a0 \n\u2500\u2500\u2500\u2500\u2500\u2500\u2500\u2500\u2500\u2500\u2500\u2500\u2500\u2500\u2500\u2500\u2500\u2500\u2500\u2500\u2500\u2500\u2500\u2500\u2500\u2500\u2500\u2500\u2500\u2500\u2500\u2500\u2500\u2500\u2500\u2500\u2500\u2500\u2500\u2500\u2500\u2500\u2500\u2500\u2500\u2500\u2500\u2500\u2500\u2500\u2500\u2500\u2500\u2500\u2500\u2500\u2500\u2500\u2500\u2500\u2500\u2500\u2500\u2500\u2500\u2500\u2500\u2500\u2500\u2500\u2500\u2500\u2500\u2500\u2500\u2500\u2500\u2500\n                                                                            3 \n                                                                         4\u22c5a \u22c5\n\n                                                                        2 \n                                                              \u2148\u22c5\u03c0\u22c5\u03bd    k  \n                                                            - \u2500\u2500\u2500\u2500\u2500 - \u2500\u2500\u2500\u2500\n            \u239b        2  \u2148\u22c5\u03c0\u239e             \u239b        2  \u2148\u22c5\u03c0\u239e\u239e      2        2\n   2        \u239c\u03bd   1  k \u22c5\u212f   \u239f    2        \u239c\u03bd   3  k \u22c5\u212f   \u239f\u239f            4\u22c5a \n- k \u22c5besseli\u239c\u2500 + \u2500, \u2500\u2500\u2500\u2500\u2500\u2500\u2500\u239f - k \u22c5besseli\u239c\u2500 + \u2500, \u2500\u2500\u2500\u2500\u2500\u2500\u2500\u239f\u239f\u22c5\u212f              \n            \u239c2   2       2 \u239f             \u239c2   2       2 \u239f\u239f                \n            \u239d         4\u22c5a  \u23a0             \u239d         4\u22c5a  \u23a0\u23a0                \n\u2500\u2500\u2500\u2500\u2500\u2500\u2500\u2500\u2500\u2500\u2500\u2500\u2500\u2500\u2500\u2500\u2500\u2500\u2500\u2500\u2500\u2500\u2500\u2500\u2500\u2500\u2500\u2500\u2500\u2500\u2500\u2500\u2500\u2500\u2500\u2500\u2500\u2500\u2500\u2500\u2500\u2500\u2500\u2500\u2500\u2500\u2500\u2500\u2500\u2500\u2500\u2500\u2500\u2500\u2500\u2500\u2500\u2500\u2500\u2500\u2500\u2500\u2500\u2500\u2500\u2500\u2500\u2500\u2500\u2500\u2500\u2500\u2500\u2500\n                                                                          \nk                                                                         "
      }
     ],
     "prompt_number": 60
    },
    {
     "cell_type": "code",
     "collapsed": false,
     "input": "#inverse_hankel_transform(_, k, r, nu)",
     "language": "python",
     "outputs": [],
     "prompt_number": 61
    },
    {
     "cell_type": "markdown",
     "source": "2"
    },
    {
     "cell_type": "code",
     "collapsed": true,
     "input": "s = Symbol(\"s\")",
     "language": "python",
     "outputs": [],
     "prompt_number": 62
    },
    {
     "cell_type": "code",
     "collapsed": false,
     "input": "r**s",
     "language": "python",
     "outputs": [
      {
       "output_type": "pyout",
       "png": "[encoded data removed]",
       "prompt_number": 63,
       "text": "\n s\nr "
      }
     ],
     "prompt_number": 63
    },
    {
     "cell_type": "code",
     "collapsed": false,
     "input": "hankel_transform(_, r, k, nu)",
     "language": "python",
     "outputs": [
      {
       "output_type": "pyout",
       "png": "[encoded data removed]",
       "prompt_number": 64,
       "text": "\n s + 1  -s - 2  \u239b\u03bd   s    \u239e\n2     \u22c5k      \u22c5\u0393\u239c\u2500 + \u2500 + 1\u239f\n                \u239d2   2    \u23a0\n\u2500\u2500\u2500\u2500\u2500\u2500\u2500\u2500\u2500\u2500\u2500\u2500\u2500\u2500\u2500\u2500\u2500\u2500\u2500\u2500\u2500\u2500\u2500\u2500\u2500\u2500\u2500\n           \u239b\u03bd   s\u239e         \n          \u0393\u239c\u2500 - \u2500\u239f         \n           \u239d2   2\u23a0         "
      }
     ],
     "prompt_number": 64
    },
    {
     "cell_type": "markdown",
     "source": "3"
    },
    {
     "cell_type": "code",
     "collapsed": true,
     "input": "s = Symbol(\"s\")\nh = Symbol(\"h\")",
     "language": "python",
     "outputs": [],
     "prompt_number": 65
    },
    {
     "cell_type": "markdown",
     "source": "Can not express $r^{\\nu-2s}\\Gamma\\left(s,r^2 h\\right)$"
    },
    {
     "cell_type": "markdown",
     "source": "4"
    },
    {
     "cell_type": "markdown",
     "source": "Can not express $e^{-r^2}r^\\nu U\\left(a,b,r^2\\right)$"
    },
    {
     "cell_type": "markdown",
     "source": "5"
    },
    {
     "cell_type": "code",
     "collapsed": true,
     "input": "a = Symbol(\"a\")",
     "language": "python",
     "outputs": [],
     "prompt_number": 66
    },
    {
     "cell_type": "code",
     "collapsed": false,
     "input": "4*a**4/(a**2+r**2)**3",
     "language": "python",
     "outputs": [
      {
       "output_type": "pyout",
       "png": "[encoded data removed]",
       "prompt_number": 67,
       "text": "\n      4   \n   4\u22c5a    \n\u2500\u2500\u2500\u2500\u2500\u2500\u2500\u2500\u2500\u2500\n         3\n\u239b 2    2\u239e \n\u239da  + r \u23a0 "
      }
     ],
     "prompt_number": 67
    },
    {
     "cell_type": "code",
     "collapsed": false,
     "input": "hankel_transform(_, r, k, nu)",
     "language": "python",
     "outputs": [
      {
       "output_type": "pyout",
       "png": "[encoded data removed]",
       "prompt_number": 68,
       "text": "\n                    \u239b      3        \u2502  2  2\u239e             \u239b           \u239b  2  2  \n 4  4  \u239b\u03bd    \u239e  \u250c\u2500  \u239c               \u2502 a \u22c5k \u239f    -\u03bd  \u03bd  \u03bd \u239c \u03bd  -\u03bd  -\u03bd \u239c a \u22c5k   \na \u22c5k \u22c5\u0393\u239c\u2500 - 2\u239f\u22c5 \u251c\u2500  \u239c\u03bd        \u03bd     \u2502 \u2500\u2500\u2500\u2500\u2500\u239f   2  \u22c5a \u22c5k \u22c5\u239c2 \u22c5a  \u22c5k  \u22c5\u239c\u2500\u2500\u2500\u2500\u2500\u2500\u2500\u2500\n       \u239d2    \u23a0 1\u2575 2 \u239c\u2500 + 3, - \u2500 + 3 \u2502   4  \u239f             \u239c           \u239c 2      \n                    \u239d2        2     \u2502      \u23a0             \u239d           \u239d\u03bd  - 2\u22c5\u03bd\n\u2500\u2500\u2500\u2500\u2500\u2500\u2500\u2500\u2500\u2500\u2500\u2500\u2500\u2500\u2500\u2500\u2500\u2500\u2500\u2500\u2500\u2500\u2500\u2500\u2500\u2500\u2500\u2500\u2500\u2500\u2500\u2500\u2500\u2500\u2500\u2500\u2500\u2500\u2500\u2500\u2500\u2500\u2500\u2500 + \u2500\u2500\u2500\u2500\u2500\u2500\u2500\u2500\u2500\u2500\u2500\u2500\u2500\u2500\u2500\u2500\u2500\u2500\u2500\u2500\u2500\u2500\u2500\u2500\u2500\u2500\u2500\u2500\u2500\u2500\u2500\n                    \u239b\u03bd    \u239e                                                   \n                 8\u22c5\u0393\u239c\u2500 + 3\u239f                                                   \n                    \u239d2    \u23a0                                                   \n\n    \u239e                                                                         \n    \u239f                             \u03bd - 1  -\u03bd + 1  -\u03bd + 1 \u239b    4\u22c5\u03bd      4\u22c5\u03bd - 4 \n + 1\u239f\u22c5besseli(\u03bd, a\u22c5k)\u22c5\u0393(\u03bd + 1) + 2     \u22c5a      \u22c5k      \u22c5\u239c- \u2500\u2500\u2500\u2500\u2500\u2500\u2500\u2500 + \u2500\u2500\u2500\u2500\u2500\u2500\u2500\u2500\n    \u239f                                                   \u239c   2          2      \n    \u23a0                                                   \u239d  \u03bd  - 2\u22c5\u03bd   \u03bd  - 2\u22c5\u03bd\n\u2500\u2500\u2500\u2500\u2500\u2500\u2500\u2500\u2500\u2500\u2500\u2500\u2500\u2500\u2500\u2500\u2500\u2500\u2500\u2500\u2500\u2500\u2500\u2500\u2500\u2500\u2500\u2500\u2500\u2500\u2500\u2500\u2500\u2500\u2500\u2500\u2500\u2500\u2500\u2500\u2500\u2500\u2500\u2500\u2500\u2500\u2500\u2500\u2500\u2500\u2500\u2500\u2500\u2500\u2500\u2500\u2500\u2500\u2500\u2500\u2500\u2500\u2500\u2500\u2500\u2500\u2500\u2500\u2500\u2500\u2500\u2500\u2500\u2500\u2500\u2500\u2500\u2500\n                                             \u0393(\u03bd + 1)                         \n                                                                              \n                                                                              \n\n                              \u239e                    \n\u239e                             \u239f  \u239b  \u03bd    \u239e  \u239b\u03bd    \u239e\n\u239f\u22c5besseli(\u03bd + 1, a\u22c5k)\u22c5\u0393(\u03bd + 1)\u239f\u22c5\u0393\u239c- \u2500 + 2\u239f\u22c5\u0393\u239c\u2500 + 1\u239f\n\u239f                             \u239f  \u239d  2    \u23a0  \u239d2    \u23a0\n\u23a0                             \u23a0                    \n\u2500\u2500\u2500\u2500\u2500\u2500\u2500\u2500\u2500\u2500\u2500\u2500\u2500\u2500\u2500\u2500\u2500\u2500\u2500\u2500\u2500\u2500\u2500\u2500\u2500\u2500\u2500\u2500\u2500\u2500\u2500\u2500\u2500\u2500\u2500\u2500\u2500\u2500\u2500\u2500\u2500\u2500\u2500\u2500\u2500\u2500\u2500\u2500\u2500\u2500\u2500\n                                                   \n                                                   \n                                                   "
      }
     ],
     "prompt_number": 68
    },
    {
     "cell_type": "code",
     "collapsed": false,
     "input": "hyperexpand(_)",
     "language": "python",
     "outputs": [
      {
       "output_type": "pyout",
       "png": "[encoded data removed]",
       "prompt_number": 69,
       "text": "\n                    \u239b      3        \u2502  2  2\u239e             \u239b           \u239b  2  2  \n 4  4  \u239b\u03bd    \u239e  \u250c\u2500  \u239c               \u2502 a \u22c5k \u239f    -\u03bd  \u03bd  \u03bd \u239c \u03bd  -\u03bd  -\u03bd \u239c a \u22c5k   \na \u22c5k \u22c5\u0393\u239c\u2500 - 2\u239f\u22c5 \u251c\u2500  \u239c\u03bd        \u03bd     \u2502 \u2500\u2500\u2500\u2500\u2500\u239f   2  \u22c5a \u22c5k \u22c5\u239c2 \u22c5a  \u22c5k  \u22c5\u239c\u2500\u2500\u2500\u2500\u2500\u2500\u2500\u2500\n       \u239d2    \u23a0 1\u2575 2 \u239c\u2500 + 3, - \u2500 + 3 \u2502   4  \u239f             \u239c           \u239c 2      \n                    \u239d2        2     \u2502      \u23a0             \u239d           \u239d\u03bd  - 2\u22c5\u03bd\n\u2500\u2500\u2500\u2500\u2500\u2500\u2500\u2500\u2500\u2500\u2500\u2500\u2500\u2500\u2500\u2500\u2500\u2500\u2500\u2500\u2500\u2500\u2500\u2500\u2500\u2500\u2500\u2500\u2500\u2500\u2500\u2500\u2500\u2500\u2500\u2500\u2500\u2500\u2500\u2500\u2500\u2500\u2500\u2500 + \u2500\u2500\u2500\u2500\u2500\u2500\u2500\u2500\u2500\u2500\u2500\u2500\u2500\u2500\u2500\u2500\u2500\u2500\u2500\u2500\u2500\u2500\u2500\u2500\u2500\u2500\u2500\u2500\u2500\u2500\u2500\n                    \u239b\u03bd    \u239e                                                   \n                 8\u22c5\u0393\u239c\u2500 + 3\u239f                                                   \n                    \u239d2    \u23a0                                                   \n\n    \u239e                                                                         \n    \u239f                             \u03bd - 1  -\u03bd + 1  -\u03bd + 1 \u239b    4\u22c5\u03bd      4\u22c5\u03bd - 4 \n + 1\u239f\u22c5besseli(\u03bd, a\u22c5k)\u22c5\u0393(\u03bd + 1) + 2     \u22c5a      \u22c5k      \u22c5\u239c- \u2500\u2500\u2500\u2500\u2500\u2500\u2500\u2500 + \u2500\u2500\u2500\u2500\u2500\u2500\u2500\u2500\n    \u239f                                                   \u239c   2          2      \n    \u23a0                                                   \u239d  \u03bd  - 2\u22c5\u03bd   \u03bd  - 2\u22c5\u03bd\n\u2500\u2500\u2500\u2500\u2500\u2500\u2500\u2500\u2500\u2500\u2500\u2500\u2500\u2500\u2500\u2500\u2500\u2500\u2500\u2500\u2500\u2500\u2500\u2500\u2500\u2500\u2500\u2500\u2500\u2500\u2500\u2500\u2500\u2500\u2500\u2500\u2500\u2500\u2500\u2500\u2500\u2500\u2500\u2500\u2500\u2500\u2500\u2500\u2500\u2500\u2500\u2500\u2500\u2500\u2500\u2500\u2500\u2500\u2500\u2500\u2500\u2500\u2500\u2500\u2500\u2500\u2500\u2500\u2500\u2500\u2500\u2500\u2500\u2500\u2500\u2500\u2500\u2500\n                                             \u0393(\u03bd + 1)                         \n                                                                              \n                                                                              \n\n                              \u239e                    \n\u239e                             \u239f  \u239b  \u03bd    \u239e  \u239b\u03bd    \u239e\n\u239f\u22c5besseli(\u03bd + 1, a\u22c5k)\u22c5\u0393(\u03bd + 1)\u239f\u22c5\u0393\u239c- \u2500 + 2\u239f\u22c5\u0393\u239c\u2500 + 1\u239f\n\u239f                             \u239f  \u239d  2    \u23a0  \u239d2    \u23a0\n\u23a0                             \u23a0                    \n\u2500\u2500\u2500\u2500\u2500\u2500\u2500\u2500\u2500\u2500\u2500\u2500\u2500\u2500\u2500\u2500\u2500\u2500\u2500\u2500\u2500\u2500\u2500\u2500\u2500\u2500\u2500\u2500\u2500\u2500\u2500\u2500\u2500\u2500\u2500\u2500\u2500\u2500\u2500\u2500\u2500\u2500\u2500\u2500\u2500\u2500\u2500\u2500\u2500\u2500\u2500\n                                                   \n                                                   \n                                                   "
      }
     ],
     "prompt_number": 69
    },
    {
     "cell_type": "markdown",
     "source": "6"
    },
    {
     "cell_type": "code",
     "collapsed": false,
     "input": "1/r",
     "language": "python",
     "outputs": [
      {
       "output_type": "pyout",
       "png": "[encoded data removed]",
       "prompt_number": 4,
       "text": "\n1\n\u2500\nr"
      }
     ],
     "prompt_number": 4
    },
    {
     "cell_type": "code",
     "collapsed": false,
     "input": "hankel_transform(_, r, k, nu)",
     "language": "python",
     "outputs": [
      {
       "output_type": "pyout",
       "png": "[encoded data removed]",
       "prompt_number": 5,
       "text": "\n1\n\u2500\nk"
      }
     ],
     "prompt_number": 5
    },
    {
     "cell_type": "code",
     "collapsed": false,
     "input": "inverse_hankel_transform(_, k, r, nu)",
     "language": "python",
     "outputs": [
      {
       "output_type": "pyout",
       "png": "[encoded data removed]",
       "prompt_number": 6,
       "text": "\n1\n\u2500\nr"
      }
     ],
     "prompt_number": 6
    },
    {
     "cell_type": "markdown",
     "source": "7"
    },
    {
     "cell_type": "code",
     "collapsed": false,
     "input": "r",
     "language": "python",
     "outputs": [
      {
       "output_type": "pyout",
       "png": "[encoded data removed]",
       "prompt_number": 176,
       "text": "r"
      }
     ],
     "prompt_number": 176
    },
    {
     "cell_type": "code",
     "collapsed": false,
     "input": "#hankel_transform(_, r, k, nu)",
     "language": "python",
     "outputs": [],
     "prompt_number": 177
    },
    {
     "cell_type": "markdown",
     "source": "7b"
    },
    {
     "cell_type": "code",
     "collapsed": true,
     "input": "m = Symbol(\"m\")",
     "language": "python",
     "outputs": [],
     "prompt_number": 180
    },
    {
     "cell_type": "code",
     "collapsed": false,
     "input": "1/r**m",
     "language": "python",
     "outputs": [
      {
       "output_type": "pyout",
       "png": "[encoded data removed]",
       "prompt_number": 181,
       "text": "\n -m\nr  "
      }
     ],
     "prompt_number": 181
    },
    {
     "cell_type": "code",
     "collapsed": false,
     "input": "hankel_transform(_, r, k, nu)",
     "language": "python",
     "outputs": [
      {
       "output_type": "pyout",
       "png": "[encoded data removed]",
       "prompt_number": 182,
       "text": "\n -m + 1  m - 2  \u239b  m   \u03bd    \u239e\n2      \u22c5k     \u22c5\u0393\u239c- \u2500 + \u2500 + 1\u239f\n                \u239d  2   2    \u23a0\n\u2500\u2500\u2500\u2500\u2500\u2500\u2500\u2500\u2500\u2500\u2500\u2500\u2500\u2500\u2500\u2500\u2500\u2500\u2500\u2500\u2500\u2500\u2500\u2500\u2500\u2500\u2500\u2500\u2500\n            \u239bm   \u03bd\u239e          \n           \u0393\u239c\u2500 + \u2500\u239f          \n            \u239d2   2\u23a0          "
      }
     ],
     "prompt_number": 182
    },
    {
     "cell_type": "code",
     "collapsed": false,
     "input": "inverse_hankel_transform(_, k, r, nu)",
     "language": "python",
     "outputs": [
      {
       "output_type": "pyout",
       "png": "[encoded data removed]",
       "prompt_number": 183,
       "text": "\n -m\nr  "
      }
     ],
     "prompt_number": 183
    },
    {
     "cell_type": "markdown",
     "source": "8"
    },
    {
     "cell_type": "code",
     "collapsed": true,
     "input": "a = Symbol(\"a\")",
     "language": "python",
     "outputs": [],
     "prompt_number": 10
    },
    {
     "cell_type": "code",
     "collapsed": false,
     "input": "1/sqrt(r**2+a**2)",
     "language": "python",
     "outputs": [
      {
       "output_type": "pyout",
       "png": "[encoded data removed]",
       "prompt_number": 11,
       "text": "\n     1      \n\u2500\u2500\u2500\u2500\u2500\u2500\u2500\u2500\u2500\u2500\u2500\u2500\n   _________\n  \u2571  2    2 \n\u2572\u2571  a  + r  "
      }
     ],
     "prompt_number": 11
    },
    {
     "cell_type": "code",
     "collapsed": false,
     "input": "hankel_transform(_, r, k, nu)",
     "language": "python",
     "outputs": [
      {
       "output_type": "pyout",
       "png": "[encoded data removed]",
       "prompt_number": 12,
       "text": "\n  \u239b                                                                           \n  \u239c 2  2        \u239b  \u03bd   1  a\u22c5k\u239e        \u239b\u03bd   1  a\u22c5k\u239e             2  2        \u239b  \n\u03c0\u22c5\u239ca \u22c5k \u22c5besseli\u239c- \u2500 - \u2500, \u2500\u2500\u2500\u239f\u22c5besseli\u239c\u2500 - \u2500, \u2500\u2500\u2500\u239f\u22c5\u0393(\u03bd + 1) + a \u22c5k \u22c5besseli\u239c- \n  \u239d             \u239d  2   2   2 \u23a0        \u239d2   2   2 \u23a0                         \u239d  \n\u2500\u2500\u2500\u2500\u2500\u2500\u2500\u2500\u2500\u2500\u2500\u2500\u2500\u2500\u2500\u2500\u2500\u2500\u2500\u2500\u2500\u2500\u2500\u2500\u2500\u2500\u2500\u2500\u2500\u2500\u2500\u2500\u2500\u2500\u2500\u2500\u2500\u2500\u2500\u2500\u2500\u2500\u2500\u2500\u2500\u2500\u2500\u2500\u2500\u2500\u2500\u2500\u2500\u2500\u2500\u2500\u2500\u2500\u2500\u2500\u2500\u2500\u2500\u2500\u2500\u2500\u2500\u2500\u2500\u2500\u2500\u2500\u2500\u2500\u2500\u2500\u2500\u2500\n                                                                              \n                                                                              \n                                                                              \n\n                                                                              \n\u03bd   1  a\u22c5k\u239e        \u239b\u03bd   1  a\u22c5k\u239e               2  2        \u239b\u03bd   1  a\u22c5k\u239e        \n\u2500 + \u2500, \u2500\u2500\u2500\u239f\u22c5besseli\u239c\u2500 + \u2500, \u2500\u2500\u2500\u239f\u22c5\u0393(\u03bd + 1) - 2\u22c5a \u22c5k \u22c5besseli\u239c\u2500 - \u2500, \u2500\u2500\u2500\u239f\u22c5besseli\n2   2   2 \u23a0        \u239d2   2   2 \u23a0                           \u239d2   2   2 \u23a0        \n\u2500\u2500\u2500\u2500\u2500\u2500\u2500\u2500\u2500\u2500\u2500\u2500\u2500\u2500\u2500\u2500\u2500\u2500\u2500\u2500\u2500\u2500\u2500\u2500\u2500\u2500\u2500\u2500\u2500\u2500\u2500\u2500\u2500\u2500\u2500\u2500\u2500\u2500\u2500\u2500\u2500\u2500\u2500\u2500\u2500\u2500\u2500\u2500\u2500\u2500\u2500\u2500\u2500\u2500\u2500\u2500\u2500\u2500\u2500\u2500\u2500\u2500\u2500\u2500\u2500\u2500\u2500\u2500\u2500\u2500\u2500\u2500\u2500\u2500\u2500\u2500\u2500\u2500\n                                                                              \n                                                                              \n                                                                              \n\n                                      2                                      2\n\u239b\u03bd   1  a\u22c5k\u239e                 2         \u239b\u03bd   1  a\u22c5k\u239e                 2         \n\u239c\u2500 + \u2500, \u2500\u2500\u2500\u239f\u22c5\u0393(\u03bd + 1) - a\u22c5k\u22c5\u03bd \u22c5besseli \u239c\u2500 - \u2500, \u2500\u2500\u2500\u239f\u22c5\u0393(\u03bd + 1) + a\u22c5k\u22c5\u03bd \u22c5besseli \n\u239d2   2   2 \u23a0                           \u239d2   2   2 \u23a0                           \n\u2500\u2500\u2500\u2500\u2500\u2500\u2500\u2500\u2500\u2500\u2500\u2500\u2500\u2500\u2500\u2500\u2500\u2500\u2500\u2500\u2500\u2500\u2500\u2500\u2500\u2500\u2500\u2500\u2500\u2500\u2500\u2500\u2500\u2500\u2500\u2500\u2500\u2500\u2500\u2500\u2500\u2500\u2500\u2500\u2500\u2500\u2500\u2500\u2500\u2500\u2500\u2500\u2500\u2500\u2500\u2500\u2500\u2500\u2500\u2500\u2500\u2500\u2500\u2500\u2500\u2500\u2500\u2500\u2500\u2500\u2500\u2500\u2500\u2500\u2500\u2500\u2500\u2500\n                                                                              \n                                                                              \n                                                                              \n\n                                     2                                       2\n\u239b\u03bd   1  a\u22c5k\u239e                          \u239b\u03bd   1  a\u22c5k\u239e                            \n\u239c\u2500 + \u2500, \u2500\u2500\u2500\u239f\u22c5\u0393(\u03bd + 1) + a\u22c5k\u22c5\u03bd\u22c5besseli \u239c\u2500 - \u2500, \u2500\u2500\u2500\u239f\u22c5\u0393(\u03bd + 2) + 2\u22c5a\u22c5k\u22c5\u03bd\u22c5besseli \n\u239d2   2   2 \u23a0                          \u239d2   2   2 \u23a0                            \n\u2500\u2500\u2500\u2500\u2500\u2500\u2500\u2500\u2500\u2500\u2500\u2500\u2500\u2500\u2500\u2500\u2500\u2500\u2500\u2500\u2500\u2500\u2500\u2500\u2500\u2500\u2500\u2500\u2500\u2500\u2500\u2500\u2500\u2500\u2500\u2500\u2500\u2500\u2500\u2500\u2500\u2500\u2500\u2500\u2500\u2500\u2500\u2500\u2500\u2500\u2500\u2500\u2500\u2500\u2500\u2500\u2500\u2500\u2500\u2500\u2500\u2500\u2500\u2500\u2500\u2500\u2500\u2500\u2500\u2500\u2500\u2500\u2500\u2500\u2500\u2500\u2500\u2500\n                                                                              \n                                                                              \n                                                                              \n\n                                     2                                   2    \n\u239b\u03bd   1  a\u22c5k\u239e                          \u239b\u03bd   1  a\u22c5k\u239e                        \u239b\u03bd  \n\u239c\u2500 + \u2500, \u2500\u2500\u2500\u239f\u22c5\u0393(\u03bd + 1) - a\u22c5k\u22c5\u03bd\u22c5besseli \u239c\u2500 + \u2500, \u2500\u2500\u2500\u239f\u22c5\u0393(\u03bd + 2) + a\u22c5k\u22c5besseli \u239c\u2500 -\n\u239d2   2   2 \u23a0                          \u239d2   2   2 \u23a0                        \u239d2  \n\u2500\u2500\u2500\u2500\u2500\u2500\u2500\u2500\u2500\u2500\u2500\u2500\u2500\u2500\u2500\u2500\u2500\u2500\u2500\u2500\u2500\u2500\u2500\u2500\u2500\u2500\u2500\u2500\u2500\u2500\u2500\u2500\u2500\u2500\u2500\u2500\u2500\u2500\u2500\u2500\u2500\u2500\u2500\u2500\u2500\u2500\u2500\u2500\u2500\u2500\u2500\u2500\u2500\u2500\u2500\u2500\u2500\u2500\u2500\u2500\u2500\u2500\u2500\u2500\u2500\u2500\u2500\u2500\u2500\u2500\u2500\u2500\u2500\u2500\u2500\u2500\u2500\u2500\n                                                                              \n                                                                              \n                                                                              \n\n                               2                                   2          \n 1  a\u22c5k\u239e                        \u239b\u03bd   1  a\u22c5k\u239e                        \u239b\u03bd   1  a\u22c5\n \u2500, \u2500\u2500\u2500\u239f\u22c5\u0393(\u03bd + 1) - a\u22c5k\u22c5besseli \u239c\u2500 - \u2500, \u2500\u2500\u2500\u239f\u22c5\u0393(\u03bd + 2) + a\u22c5k\u22c5besseli \u239c\u2500 + \u2500, \u2500\u2500\n 2   2 \u23a0                        \u239d2   2   2 \u23a0                        \u239d2   2   2\n\u2500\u2500\u2500\u2500\u2500\u2500\u2500\u2500\u2500\u2500\u2500\u2500\u2500\u2500\u2500\u2500\u2500\u2500\u2500\u2500\u2500\u2500\u2500\u2500\u2500\u2500\u2500\u2500\u2500\u2500\u2500\u2500\u2500\u2500\u2500\u2500\u2500\u2500\u2500\u2500\u2500\u2500\u2500\u2500\u2500\u2500\u2500\u2500\u2500\u2500\u2500\u2500\u2500\u2500\u2500\u2500\u2500\u2500\u2500\u2500\u2500\u2500\u2500\u2500\u2500\u2500\u2500\u2500\u2500\u2500\u2500\u2500\u2500\u2500\u2500\u2500\u2500\u2500\n                          2    \u239b\u03c0\u22c5\u03bd\u239e                                          \n                     4\u22c5a\u22c5k \u22c5cos\u239c\u2500\u2500\u2500\u239f\u22c5\u0393(\u03bd + 1)                                 \n                               \u239d 2 \u23a0                                          \n\n                         2                                                    \nk\u239e                        \u239b\u03bd   1  a\u22c5k\u239e               3        \u239b\u03bd   1  a\u22c5k\u239e    \n\u2500\u239f\u22c5\u0393(\u03bd + 1) - a\u22c5k\u22c5besseli \u239c\u2500 + \u2500, \u2500\u2500\u2500\u239f\u22c5\u0393(\u03bd + 2) + 2\u22c5\u03bd \u22c5besseli\u239c\u2500 - \u2500, \u2500\u2500\u2500\u239f\u22c5bes\n \u23a0                        \u239d2   2   2 \u23a0                        \u239d2   2   2 \u23a0    \n\u2500\u2500\u2500\u2500\u2500\u2500\u2500\u2500\u2500\u2500\u2500\u2500\u2500\u2500\u2500\u2500\u2500\u2500\u2500\u2500\u2500\u2500\u2500\u2500\u2500\u2500\u2500\u2500\u2500\u2500\u2500\u2500\u2500\u2500\u2500\u2500\u2500\u2500\u2500\u2500\u2500\u2500\u2500\u2500\u2500\u2500\u2500\u2500\u2500\u2500\u2500\u2500\u2500\u2500\u2500\u2500\u2500\u2500\u2500\u2500\u2500\u2500\u2500\u2500\u2500\u2500\u2500\u2500\u2500\u2500\u2500\u2500\u2500\u2500\u2500\u2500\u2500\u2500\n                                                                              \n                                                                              \n                                                                              \n\n                                                                              \n    \u239b\u03bd   1  a\u22c5k\u239e               2        \u239b\u03bd   1  a\u22c5k\u239e        \u239b\u03bd   1  a\u22c5k\u239e      \nseli\u239c\u2500 + \u2500, \u2500\u2500\u2500\u239f\u22c5\u0393(\u03bd + 1) + 2\u22c5\u03bd \u22c5besseli\u239c\u2500 - \u2500, \u2500\u2500\u2500\u239f\u22c5besseli\u239c\u2500 + \u2500, \u2500\u2500\u2500\u239f\u22c5\u0393(\u03bd +\n    \u239d2   2   2 \u23a0                        \u239d2   2   2 \u23a0        \u239d2   2   2 \u23a0      \n\u2500\u2500\u2500\u2500\u2500\u2500\u2500\u2500\u2500\u2500\u2500\u2500\u2500\u2500\u2500\u2500\u2500\u2500\u2500\u2500\u2500\u2500\u2500\u2500\u2500\u2500\u2500\u2500\u2500\u2500\u2500\u2500\u2500\u2500\u2500\u2500\u2500\u2500\u2500\u2500\u2500\u2500\u2500\u2500\u2500\u2500\u2500\u2500\u2500\u2500\u2500\u2500\u2500\u2500\u2500\u2500\u2500\u2500\u2500\u2500\u2500\u2500\u2500\u2500\u2500\u2500\u2500\u2500\u2500\u2500\u2500\u2500\u2500\u2500\u2500\u2500\u2500\u2500\n                                                                              \n                                                                              \n                                                                              \n\n                                                                              \n         2        \u239b\u03bd   1  a\u22c5k\u239e        \u239b\u03bd   1  a\u22c5k\u239e                       \u239b\u03bd   \n 1) - 2\u22c5\u03bd \u22c5besseli\u239c\u2500 - \u2500, \u2500\u2500\u2500\u239f\u22c5besseli\u239c\u2500 + \u2500, \u2500\u2500\u2500\u239f\u22c5\u0393(\u03bd + 2) - 2\u22c5\u03bd\u22c5besseli\u239c\u2500 - \n                  \u239d2   2   2 \u23a0        \u239d2   2   2 \u23a0                       \u239d2   \n\u2500\u2500\u2500\u2500\u2500\u2500\u2500\u2500\u2500\u2500\u2500\u2500\u2500\u2500\u2500\u2500\u2500\u2500\u2500\u2500\u2500\u2500\u2500\u2500\u2500\u2500\u2500\u2500\u2500\u2500\u2500\u2500\u2500\u2500\u2500\u2500\u2500\u2500\u2500\u2500\u2500\u2500\u2500\u2500\u2500\u2500\u2500\u2500\u2500\u2500\u2500\u2500\u2500\u2500\u2500\u2500\u2500\u2500\u2500\u2500\u2500\u2500\u2500\u2500\u2500\u2500\u2500\u2500\u2500\u2500\u2500\u2500\u2500\u2500\u2500\u2500\u2500\u2500\n                                                                              \n                                                                              \n                                                                              \n\n                                                                              \n1  a\u22c5k\u239e        \u239b\u03bd   1  a\u22c5k\u239e                     \u239b\u03bd   1  a\u22c5k\u239e        \u239b\u03bd   1  a\u22c5\n\u2500, \u2500\u2500\u2500\u239f\u22c5besseli\u239c\u2500 + \u2500, \u2500\u2500\u2500\u239f\u22c5\u0393(\u03bd + 1) - 2\u22c5besseli\u239c\u2500 - \u2500, \u2500\u2500\u2500\u239f\u22c5besseli\u239c\u2500 + \u2500, \u2500\u2500\n2   2 \u23a0        \u239d2   2   2 \u23a0                     \u239d2   2   2 \u23a0        \u239d2   2   2\n\u2500\u2500\u2500\u2500\u2500\u2500\u2500\u2500\u2500\u2500\u2500\u2500\u2500\u2500\u2500\u2500\u2500\u2500\u2500\u2500\u2500\u2500\u2500\u2500\u2500\u2500\u2500\u2500\u2500\u2500\u2500\u2500\u2500\u2500\u2500\u2500\u2500\u2500\u2500\u2500\u2500\u2500\u2500\u2500\u2500\u2500\u2500\u2500\u2500\u2500\u2500\u2500\u2500\u2500\u2500\u2500\u2500\u2500\u2500\u2500\u2500\u2500\u2500\u2500\u2500\u2500\u2500\u2500\u2500\u2500\u2500\u2500\u2500\u2500\u2500\u2500\u2500\u2500\n                                                                              \n                                                                              \n                                                                              \n\n                                                                \u239e\nk\u239e                     \u239b\u03bd   1  a\u22c5k\u239e        \u239b\u03bd   1  a\u22c5k\u239e         \u239f\n\u2500\u239f\u22c5\u0393(\u03bd + 1) + 2\u22c5besseli\u239c\u2500 - \u2500, \u2500\u2500\u2500\u239f\u22c5besseli\u239c\u2500 + \u2500, \u2500\u2500\u2500\u239f\u22c5\u0393(\u03bd + 2)\u239f\n \u23a0                     \u239d2   2   2 \u23a0        \u239d2   2   2 \u23a0         \u23a0\n\u2500\u2500\u2500\u2500\u2500\u2500\u2500\u2500\u2500\u2500\u2500\u2500\u2500\u2500\u2500\u2500\u2500\u2500\u2500\u2500\u2500\u2500\u2500\u2500\u2500\u2500\u2500\u2500\u2500\u2500\u2500\u2500\u2500\u2500\u2500\u2500\u2500\u2500\u2500\u2500\u2500\u2500\u2500\u2500\u2500\u2500\u2500\u2500\u2500\u2500\u2500\u2500\u2500\u2500\u2500\u2500\u2500\u2500\u2500\u2500\u2500\u2500\u2500\u2500\u2500\n                                                                 \n                                                                 \n                                                                 "
      }
     ],
     "prompt_number": 12
    },
    {
     "cell_type": "markdown",
     "source": "9"
    },
    {
     "cell_type": "code",
     "collapsed": true,
     "input": "a = Symbol(\"a\")",
     "language": "python",
     "outputs": [],
     "prompt_number": 17
    },
    {
     "cell_type": "code",
     "collapsed": false,
     "input": "1/(r**2+a**2)",
     "language": "python",
     "outputs": [
      {
       "output_type": "pyout",
       "png": "[encoded data removed]",
       "prompt_number": 18,
       "text": "\n   1   \n\u2500\u2500\u2500\u2500\u2500\u2500\u2500\n 2    2\na  + r "
      }
     ],
     "prompt_number": 18
    },
    {
     "cell_type": "code",
     "collapsed": false,
     "input": "hankel_transform(_, r, k, nu)",
     "language": "python",
     "outputs": [
      {
       "output_type": "pyout",
       "png": "[encoded data removed]",
       "prompt_number": 19,
       "text": "\n \u239b                     \u239b      1        \u2502  2  2\u239e                             \u239e\n \u239c     \u239b\u03c0\u22c5\u03bd\u239e  \u239b\u03bd\u239e  \u250c\u2500  \u239c               \u2502 a \u22c5k \u239f                      \u239b\u03bd    \u239e\u239f\n-\u239c- sin\u239c\u2500\u2500\u2500\u239f\u22c5\u0393\u239c\u2500\u239f\u22c5 \u251c\u2500  \u239c\u03bd        \u03bd     \u2502 \u2500\u2500\u2500\u2500\u2500\u239f + \u03c0\u22c5besseli(\u03bd, a\u22c5k)\u22c5\u0393\u239c\u2500 + 1\u239f\u239f\n \u239c     \u239d 2 \u23a0  \u239d2\u23a0 1\u2575 2 \u239c\u2500 + 1, - \u2500 + 1 \u2502   4  \u239f                      \u239d2    \u23a0\u239f\n \u239d                     \u239d2        2     \u2502      \u23a0                             \u23a0\n\u2500\u2500\u2500\u2500\u2500\u2500\u2500\u2500\u2500\u2500\u2500\u2500\u2500\u2500\u2500\u2500\u2500\u2500\u2500\u2500\u2500\u2500\u2500\u2500\u2500\u2500\u2500\u2500\u2500\u2500\u2500\u2500\u2500\u2500\u2500\u2500\u2500\u2500\u2500\u2500\u2500\u2500\u2500\u2500\u2500\u2500\u2500\u2500\u2500\u2500\u2500\u2500\u2500\u2500\u2500\u2500\u2500\u2500\u2500\u2500\u2500\u2500\u2500\u2500\u2500\u2500\u2500\u2500\u2500\u2500\u2500\u2500\u2500\u2500\u2500\u2500\u2500\n                                  \u239b\u03c0\u22c5\u03bd\u239e  \u239b\u03bd    \u239e                             \n                             2\u22c5sin\u239c\u2500\u2500\u2500\u239f\u22c5\u0393\u239c\u2500 + 1\u239f                             \n                                  \u239d 2 \u23a0  \u239d2    \u23a0                             "
      }
     ],
     "prompt_number": 19
    },
    {
     "cell_type": "code",
     "collapsed": false,
     "input": "hyperexpand(_)",
     "language": "python",
     "outputs": [
      {
       "output_type": "pyout",
       "png": "[encoded data removed]",
       "prompt_number": 20,
       "text": "\n \u239b                     \u239b      1        \u2502  2  2\u239e                             \u239e\n \u239c     \u239b\u03c0\u22c5\u03bd\u239e  \u239b\u03bd\u239e  \u250c\u2500  \u239c               \u2502 a \u22c5k \u239f                      \u239b\u03bd    \u239e\u239f\n-\u239c- sin\u239c\u2500\u2500\u2500\u239f\u22c5\u0393\u239c\u2500\u239f\u22c5 \u251c\u2500  \u239c\u03bd        \u03bd     \u2502 \u2500\u2500\u2500\u2500\u2500\u239f + \u03c0\u22c5besseli(\u03bd, a\u22c5k)\u22c5\u0393\u239c\u2500 + 1\u239f\u239f\n \u239c     \u239d 2 \u23a0  \u239d2\u23a0 1\u2575 2 \u239c\u2500 + 1, - \u2500 + 1 \u2502   4  \u239f                      \u239d2    \u23a0\u239f\n \u239d                     \u239d2        2     \u2502      \u23a0                             \u23a0\n\u2500\u2500\u2500\u2500\u2500\u2500\u2500\u2500\u2500\u2500\u2500\u2500\u2500\u2500\u2500\u2500\u2500\u2500\u2500\u2500\u2500\u2500\u2500\u2500\u2500\u2500\u2500\u2500\u2500\u2500\u2500\u2500\u2500\u2500\u2500\u2500\u2500\u2500\u2500\u2500\u2500\u2500\u2500\u2500\u2500\u2500\u2500\u2500\u2500\u2500\u2500\u2500\u2500\u2500\u2500\u2500\u2500\u2500\u2500\u2500\u2500\u2500\u2500\u2500\u2500\u2500\u2500\u2500\u2500\u2500\u2500\u2500\u2500\u2500\u2500\u2500\u2500\n                                  \u239b\u03c0\u22c5\u03bd\u239e  \u239b\u03bd    \u239e                             \n                             2\u22c5sin\u239c\u2500\u2500\u2500\u239f\u22c5\u0393\u239c\u2500 + 1\u239f                             \n                                  \u239d 2 \u23a0  \u239d2    \u23a0                             "
      }
     ],
     "prompt_number": 20
    },
    {
     "cell_type": "markdown",
     "source": "Bessel functions"
    },
    {
     "cell_type": "markdown",
     "source": "1"
    },
    {
     "cell_type": "code",
     "collapsed": true,
     "input": "a = Symbol(\"a\", positive=True)",
     "language": "python",
     "outputs": [],
     "prompt_number": 128
    },
    {
     "cell_type": "code",
     "collapsed": false,
     "input": "besselj(nu-1, a*r)/r",
     "language": "python",
     "outputs": [
      {
       "output_type": "pyout",
       "png": "[encoded data removed]",
       "prompt_number": 129,
       "text": "\nbesselj(\u03bd - 1, a\u22c5r)\n\u2500\u2500\u2500\u2500\u2500\u2500\u2500\u2500\u2500\u2500\u2500\u2500\u2500\u2500\u2500\u2500\u2500\u2500\u2500\n         r         "
      }
     ],
     "prompt_number": 129
    },
    {
     "cell_type": "code",
     "collapsed": false,
     "input": "hankel_transform(_, r, k, 0)",
     "language": "python",
     "outputs": [
      {
       "output_type": "pyout",
       "png": "[encoded data removed]",
       "prompt_number": 130,
       "text": "\n        \u239b 1/2     1/2   \u2502  2\u239e\n\u256d\u2500\u256e1, 1 \u239c               \u2502 a \u239f\n\u2502\u2576\u2510     \u239c\u03bd   1    \u03bd   1 \u2502 \u2500\u2500\u239f\n\u2570\u2500\u256f2, 2 \u239c\u2500 - \u2500  - \u2500 + \u2500 \u2502  2\u239f\n        \u239d2   2    2   2 \u2502 k \u23a0\n\u2500\u2500\u2500\u2500\u2500\u2500\u2500\u2500\u2500\u2500\u2500\u2500\u2500\u2500\u2500\u2500\u2500\u2500\u2500\u2500\u2500\u2500\u2500\u2500\u2500\u2500\u2500\u2500\u2500\n              k              "
      }
     ],
     "prompt_number": 130
    },
    {
     "cell_type": "code",
     "collapsed": false,
     "input": "inverse_hankel_transform(_, k, r, 0)",
     "language": "python",
     "outputs": [
      {
       "output_type": "pyout",
       "png": "[encoded data removed]",
       "prompt_number": 132,
       "text": "\n   -\u2148\u22c5\u03c0\u22c5\u03bd        \u239b            \u2148\u22c5\u03c0\u239e\n   \u2500\u2500\u2500\u2500\u2500\u2500        \u239c            \u2500\u2500\u2500\u239f\n     2           \u239c             2 \u239f\n\u2148\u22c5\u212f      \u22c5besseli\u239d\u03bd - 1, a\u22c5r\u22c5\u212f   \u23a0\n\u2500\u2500\u2500\u2500\u2500\u2500\u2500\u2500\u2500\u2500\u2500\u2500\u2500\u2500\u2500\u2500\u2500\u2500\u2500\u2500\u2500\u2500\u2500\u2500\u2500\u2500\u2500\u2500\u2500\u2500\u2500\u2500\u2500\u2500\n                r                 "
      }
     ],
     "prompt_number": 132
    },
    {
     "cell_type": "markdown",
     "source": "2"
    },
    {
     "cell_type": "code",
     "collapsed": true,
     "input": "a = Symbol(\"a\", positive=True)",
     "language": "python",
     "outputs": [],
     "prompt_number": 133
    },
    {
     "cell_type": "code",
     "collapsed": false,
     "input": "besselj(nu, a*r)/r**2",
     "language": "python",
     "outputs": [
      {
       "output_type": "pyout",
       "png": "[encoded data removed]",
       "prompt_number": 135,
       "text": "\nbesselj(\u03bd, a\u22c5r)\n\u2500\u2500\u2500\u2500\u2500\u2500\u2500\u2500\u2500\u2500\u2500\u2500\u2500\u2500\u2500\n        2      \n       r       "
      }
     ],
     "prompt_number": 135
    },
    {
     "cell_type": "code",
     "collapsed": false,
     "input": "hankel_transform(_, r, k, 0)",
     "language": "python",
     "outputs": [
      {
       "output_type": "pyout",
       "png": "[encoded data removed]",
       "prompt_number": 136,
       "text": "\n        \u239b1  1  \u2502  2\u239e\n\u256d\u2500\u256e1, 1 \u239c      \u2502 a \u239f\n\u2502\u2576\u2510     \u239c\u03bd  -\u03bd \u2502 \u2500\u2500\u239f\n\u2570\u2500\u256f2, 2 \u239c\u2500  \u2500\u2500 \u2502  2\u239f\n        \u239d2  2  \u2502 k \u23a0\n\u2500\u2500\u2500\u2500\u2500\u2500\u2500\u2500\u2500\u2500\u2500\u2500\u2500\u2500\u2500\u2500\u2500\u2500\u2500\u2500\n         2          "
      }
     ],
     "prompt_number": 136
    },
    {
     "cell_type": "code",
     "collapsed": false,
     "input": "hyperexpand(_)",
     "language": "python",
     "outputs": [
      {
       "output_type": "pyout",
       "png": "[encoded data removed]",
       "prompt_number": 137,
       "text": "\n        \u239b1  1  \u2502  2\u239e\n\u256d\u2500\u256e1, 1 \u239c      \u2502 a \u239f\n\u2502\u2576\u2510     \u239c\u03bd  -\u03bd \u2502 \u2500\u2500\u239f\n\u2570\u2500\u256f2, 2 \u239c\u2500  \u2500\u2500 \u2502  2\u239f\n        \u239d2  2  \u2502 k \u23a0\n\u2500\u2500\u2500\u2500\u2500\u2500\u2500\u2500\u2500\u2500\u2500\u2500\u2500\u2500\u2500\u2500\u2500\u2500\u2500\u2500\n         2          "
      }
     ],
     "prompt_number": 137
    },
    {
     "cell_type": "code",
     "collapsed": false,
     "input": "inverse_hankel_transform(_, k, r, 0)",
     "language": "python",
     "outputs": [
      {
       "output_type": "pyout",
       "png": "[encoded data removed]",
       "prompt_number": 138,
       "text": "\n -\u2148\u22c5\u03c0\u22c5\u03bd        \u239b        \u2148\u22c5\u03c0\u239e\n \u2500\u2500\u2500\u2500\u2500\u2500        \u239c        \u2500\u2500\u2500\u239f\n   2           \u239c         2 \u239f\n\u212f      \u22c5besseli\u239d\u03bd, a\u22c5r\u22c5\u212f   \u23a0\n\u2500\u2500\u2500\u2500\u2500\u2500\u2500\u2500\u2500\u2500\u2500\u2500\u2500\u2500\u2500\u2500\u2500\u2500\u2500\u2500\u2500\u2500\u2500\u2500\u2500\u2500\u2500\u2500\n              2             \n             r              "
      }
     ],
     "prompt_number": 138
    },
    {
     "cell_type": "markdown",
     "source": "3"
    },
    {
     "cell_type": "code",
     "collapsed": true,
     "input": "a = Symbol(\"a\", positive=True)",
     "language": "python",
     "outputs": [],
     "prompt_number": 139
    },
    {
     "cell_type": "code",
     "collapsed": false,
     "input": "besselj(nu+1, a*r)/r",
     "language": "python",
     "outputs": [
      {
       "output_type": "pyout",
       "png": "[encoded data removed]",
       "prompt_number": 140,
       "text": "\nbesselj(\u03bd + 1, a\u22c5r)\n\u2500\u2500\u2500\u2500\u2500\u2500\u2500\u2500\u2500\u2500\u2500\u2500\u2500\u2500\u2500\u2500\u2500\u2500\u2500\n         r         "
      }
     ],
     "prompt_number": 140
    },
    {
     "cell_type": "code",
     "collapsed": false,
     "input": "hankel_transform(_, r, k, 0)",
     "language": "python",
     "outputs": [
      {
       "output_type": "pyout",
       "png": "[encoded data removed]",
       "prompt_number": 141,
       "text": "\n        \u239b 1/2     1/2   \u2502  2\u239e\n\u256d\u2500\u256e1, 1 \u239c               \u2502 a \u239f\n\u2502\u2576\u2510     \u239c\u03bd   1    \u03bd   1 \u2502 \u2500\u2500\u239f\n\u2570\u2500\u256f2, 2 \u239c\u2500 + \u2500  - \u2500 - \u2500 \u2502  2\u239f\n        \u239d2   2    2   2 \u2502 k \u23a0\n\u2500\u2500\u2500\u2500\u2500\u2500\u2500\u2500\u2500\u2500\u2500\u2500\u2500\u2500\u2500\u2500\u2500\u2500\u2500\u2500\u2500\u2500\u2500\u2500\u2500\u2500\u2500\u2500\u2500\n              k              "
      }
     ],
     "prompt_number": 141
    },
    {
     "cell_type": "code",
     "collapsed": false,
     "input": "inverse_hankel_transform(_, k, r, 0)",
     "language": "python",
     "outputs": [
      {
       "output_type": "pyout",
       "png": "[encoded data removed]",
       "prompt_number": 142,
       "text": "\n    -\u2148\u22c5\u03c0\u22c5\u03bd        \u239b            \u2148\u22c5\u03c0\u239e\n    \u2500\u2500\u2500\u2500\u2500\u2500        \u239c            \u2500\u2500\u2500\u239f\n      2           \u239c             2 \u239f\n-\u2148\u22c5\u212f      \u22c5besseli\u239d\u03bd + 1, a\u22c5r\u22c5\u212f   \u23a0\n\u2500\u2500\u2500\u2500\u2500\u2500\u2500\u2500\u2500\u2500\u2500\u2500\u2500\u2500\u2500\u2500\u2500\u2500\u2500\u2500\u2500\u2500\u2500\u2500\u2500\u2500\u2500\u2500\u2500\u2500\u2500\u2500\u2500\u2500\u2500\n                 r                 "
      }
     ],
     "prompt_number": 142
    },
    {
     "cell_type": "markdown",
     "source": "Trigonometric functions"
    },
    {
     "cell_type": "code",
     "collapsed": true,
     "input": "a = Symbol(\"a\", positive=True)",
     "language": "python",
     "outputs": [],
     "prompt_number": 144
    },
    {
     "cell_type": "markdown",
     "source": "1"
    },
    {
     "cell_type": "code",
     "collapsed": false,
     "input": "sin(a*r)/r",
     "language": "python",
     "outputs": [
      {
       "output_type": "pyout",
       "png": "[encoded data removed]",
       "prompt_number": 145,
       "text": "\nsin(a\u22c5r)\n\u2500\u2500\u2500\u2500\u2500\u2500\u2500\u2500\n   r    "
      }
     ],
     "prompt_number": 145
    },
    {
     "cell_type": "code",
     "collapsed": false,
     "input": "hankel_transform(_, r, k, 0)",
     "language": "python",
     "outputs": [
      {
       "output_type": "pyout",
       "png": "[encoded data removed]",
       "prompt_number": 146,
       "text": "\n\u23a7                                                      2 \u25021 \u2502    \n\u23aa                       0                         for a \u22c5\u2502\u2500\u2500\u2502 < 1\n\u23aa                                                        \u2502 2\u2502    \n\u23aa                                                        \u2502k \u2502    \n\u23aa                                                                \n\u23aa                                                      \u2502 2\u2502      \n\u23aa                      1                               \u2502k \u2502      \n\u23aa                 \u2500\u2500\u2500\u2500\u2500\u2500\u2500\u2500\u2500\u2500\u2500\u2500                     for \u2500\u2500\u2500\u2500 < 1  \n\u23aa                    _________                           2       \n\u23aa                   \u2571  2    2                           a        \n\u23aa                 \u2572\u2571  a  - k                                     \n\u23aa                                                                \n\u23aa  ___ \u23a7                              2 \u25021 \u2502                     \n\u23aa\u2572\u2571 \u03c0 \u22c5\u23aa           0             for a \u22c5\u2502\u2500\u2500\u2502 < 1                 \n\u23aa      \u23aa                                \u2502 2\u2502                     \n\u23aa      \u23aa                                \u2502k \u2502                     \n\u23aa      \u23aa                                                         \n\u23a8      \u23aa                              \u2502 2\u2502                       \n\u23aa      \u23aa          k                   \u2502k \u2502                       \n\u23aa      \u23aa\u2500\u2500\u2500\u2500\u2500\u2500\u2500\u2500\u2500\u2500\u2500\u2500\u2500\u2500\u2500\u2500\u2500\u2500\u2500\u2500\u2500\u2500    for \u2500\u2500\u2500\u2500 < 1                   \n\u23aa      \u23aa              ________          2                        \n\u23aa      \u23aa             \u2571      2          a                         \n\u23aa      \u23a8  ___       \u2571      k                                     \n\u23aa      \u23aa\u2572\u2571 \u03c0 \u22c5a\u22c5   \u2571   1 - \u2500\u2500                                    \n\u23aa      \u23aa          \u2571         2                                    \n\u23aa      \u23aa        \u2572\u2571         a                                     \n\u23aa      \u23aa                                                         \n\u23aa      \u23aa        \u239b         \u2502  2\u239e                                  \n\u23aa      \u23aa\u256d\u2500\u256e1, 1 \u239c1/2  1/2 \u2502 a \u239f                                  \n\u23aa      \u23aa\u2502\u2576\u2510     \u239c         \u2502 \u2500\u2500\u239f     otherwise                    \n\u23aa      \u23aa\u2570\u2500\u256f2, 2 \u239c1/2   0  \u2502  2\u239f                                  \n\u23aa      \u23aa        \u239d         \u2502 k \u23a0                                  \n\u23aa      \u23a9                                                         \n\u23aa\u2500\u2500\u2500\u2500\u2500\u2500\u2500\u2500\u2500\u2500\u2500\u2500\u2500\u2500\u2500\u2500\u2500\u2500\u2500\u2500\u2500\u2500\u2500\u2500\u2500\u2500\u2500\u2500\u2500\u2500\u2500\u2500\u2500\u2500\u2500\u2500\u2500\u2500\u2500\u2500\u2500\u2500\u2500\u2500\u2500\u2500\u2500     otherwise   \n\u23a9                       k                                        "
      }
     ],
     "prompt_number": 146
    },
    {
     "cell_type": "markdown",
     "source": "2"
    },
    {
     "cell_type": "code",
     "collapsed": false,
     "input": "sin(a*r)/r**2",
     "language": "python",
     "outputs": [
      {
       "output_type": "pyout",
       "png": "[encoded data removed]",
       "prompt_number": 153,
       "text": "\nsin(a\u22c5r)\n\u2500\u2500\u2500\u2500\u2500\u2500\u2500\u2500\n    2   \n   r    "
      }
     ],
     "prompt_number": 153
    },
    {
     "cell_type": "code",
     "collapsed": false,
     "input": "hankel_transform(_, r, k, 0)",
     "language": "python",
     "outputs": [
      {
       "output_type": "pyout",
       "png": "[encoded data removed]",
       "prompt_number": 154,
       "text": "\n\u23a7              \u239ba\u239e                 2 \u25021 \u2502    \n\u23aa          asin\u239c\u2500\u239f            for a \u22c5\u2502\u2500\u2500\u2502 < 1\n\u23aa              \u239dk\u23a0                   \u2502 2\u2502    \n\u23aa                                    \u2502k \u2502    \n\u23aa                                            \n\u23aa                                  \u2502 2\u2502      \n\u23aa             \u03c0                    \u2502k \u2502      \n\u23aa             \u2500                for \u2500\u2500\u2500\u2500 < 1  \n\u23aa             2                      2       \n\u23a8                                   a        \n\u23aa                                            \n\u23aa              \u239b       \u2502  2\u239e                 \n\u23aa  ___ \u256d\u2500\u256e1, 1 \u239c 1   1 \u2502 a \u239f                 \n\u23aa\u2572\u2571 \u03c0 \u22c5\u2502\u2576\u2510     \u239c       \u2502 \u2500\u2500\u239f                 \n\u23aa      \u2570\u2500\u256f2, 2 \u239c1/2  0 \u2502  2\u239f                 \n\u23aa              \u239d       \u2502 k \u23a0                 \n\u23aa\u2500\u2500\u2500\u2500\u2500\u2500\u2500\u2500\u2500\u2500\u2500\u2500\u2500\u2500\u2500\u2500\u2500\u2500\u2500\u2500\u2500\u2500\u2500\u2500\u2500\u2500\u2500     otherwise   \n\u23aa             2                              \n\u23a9                                            "
      }
     ],
     "prompt_number": 154
    },
    {
     "cell_type": "markdown",
     "source": "3"
    },
    {
     "cell_type": "code",
     "collapsed": true,
     "input": "b = Symbol(\"b\")",
     "language": "python",
     "outputs": [],
     "prompt_number": 157
    },
    {
     "cell_type": "code",
     "collapsed": false,
     "input": "sin(a*r)/(b**2+r**2)",
     "language": "python",
     "outputs": [
      {
       "output_type": "pyout",
       "png": "[encoded data removed]",
       "prompt_number": 158,
       "text": "\nsin(a\u22c5r)\n\u2500\u2500\u2500\u2500\u2500\u2500\u2500\u2500\n 2    2 \nb  + r  "
      }
     ],
     "prompt_number": 158
    },
    {
     "cell_type": "code",
     "collapsed": false,
     "input": "#hankel_transform(_, r, k, 0)",
     "language": "python",
     "outputs": [],
     "prompt_number": 160
    },
    {
     "cell_type": "markdown",
     "source": "4"
    },
    {
     "cell_type": "code",
     "collapsed": false,
     "input": "cos(a*r)/r",
     "language": "python",
     "outputs": [
      {
       "output_type": "pyout",
       "png": "[encoded data removed]",
       "prompt_number": 161,
       "text": "\ncos(a\u22c5r)\n\u2500\u2500\u2500\u2500\u2500\u2500\u2500\u2500\n   r    "
      }
     ],
     "prompt_number": 161
    },
    {
     "cell_type": "code",
     "collapsed": false,
     "input": "hankel_transform(_, r, k, 0)",
     "language": "python",
     "outputs": [
      {
       "output_type": "pyout",
       "png": "[encoded data removed]",
       "prompt_number": 162,
       "text": "\n\u23a7             1                      2 \u25021 \u2502    \n\u23aa     \u2500\u2500\u2500\u2500\u2500\u2500\u2500\u2500\u2500\u2500\u2500\u2500\u2500\u2500\u2500\u2500\u2500\u2500        for a \u22c5\u2502\u2500\u2500\u2502 < 1\n\u23aa             __________               \u2502 2\u2502    \n\u23aa            \u2571    2                    \u2502k \u2502    \n\u23aa           \u2571    a                             \n\u23aa     k\u22c5   \u2571   - \u2500\u2500 + 1                        \n\u23aa         \u2571       2                            \n\u23aa       \u2572\u2571       k                             \n\u23aa                                              \n\u23aa                                    \u2502 2\u2502      \n\u23aa                                    \u2502k \u2502      \n\u23a8              0                 for \u2500\u2500\u2500\u2500 < 1  \n\u23aa                                      2       \n\u23aa                                     a        \n\u23aa                                              \n\u23aa              \u239b         \u2502  2\u239e                 \n\u23aa  ___ \u256d\u2500\u256e1, 1 \u239c1/2  1/2 \u2502 a \u239f                 \n\u23aa\u2572\u2571 \u03c0 \u22c5\u2502\u2576\u2510     \u239c         \u2502 \u2500\u2500\u239f                 \n\u23aa      \u2570\u2500\u256f2, 2 \u239c 0   1/2 \u2502  2\u239f                 \n\u23aa              \u239d         \u2502 k \u23a0                 \n\u23aa\u2500\u2500\u2500\u2500\u2500\u2500\u2500\u2500\u2500\u2500\u2500\u2500\u2500\u2500\u2500\u2500\u2500\u2500\u2500\u2500\u2500\u2500\u2500\u2500\u2500\u2500\u2500\u2500\u2500     otherwise   \n\u23aa              k                               \n\u23a9                                              "
      }
     ],
     "prompt_number": 162
    },
    {
     "cell_type": "markdown",
     "source": "5"
    },
    {
     "cell_type": "code",
     "collapsed": false,
     "input": "(1-cos(a*r))/r**2",
     "language": "python",
     "outputs": [
      {
       "output_type": "pyout",
       "png": "[encoded data removed]",
       "prompt_number": 163,
       "text": "\n-cos(a\u22c5r) + 1\n\u2500\u2500\u2500\u2500\u2500\u2500\u2500\u2500\u2500\u2500\u2500\u2500\u2500\n       2     \n      r      "
      }
     ],
     "prompt_number": 163
    },
    {
     "cell_type": "code",
     "collapsed": false,
     "input": "#hankel_transform(_, r, k, 0)",
     "language": "python",
     "outputs": [],
     "prompt_number": 165
    },
    {
     "cell_type": "markdown",
     "source": "6"
    },
    {
     "cell_type": "code",
     "collapsed": false,
     "input": "cos(a*r)/(b**2+r**2)",
     "language": "python",
     "outputs": [
      {
       "output_type": "pyout",
       "png": "[encoded data removed]",
       "prompt_number": 166,
       "text": "\ncos(a\u22c5r)\n\u2500\u2500\u2500\u2500\u2500\u2500\u2500\u2500\n 2    2 \nb  + r  "
      }
     ],
     "prompt_number": 166
    },
    {
     "cell_type": "code",
     "collapsed": false,
     "input": "#hankel_transform(_, r, k, 0)",
     "language": "python",
     "outputs": [],
     "prompt_number": 168
    },
    {
     "cell_type": "markdown",
     "source": "7"
    },
    {
     "cell_type": "code",
     "collapsed": false,
     "input": "cos(a**2*r**2/2)",
     "language": "python",
     "outputs": [
      {
       "output_type": "pyout",
       "png": "[encoded data removed]",
       "prompt_number": 169,
       "text": "\n   \u239b 2  2\u239e\n   \u239ca \u22c5r \u239f\ncos\u239c\u2500\u2500\u2500\u2500\u2500\u239f\n   \u239d  2  \u23a0"
      }
     ],
     "prompt_number": 169
    },
    {
     "cell_type": "code",
     "collapsed": false,
     "input": "#hankel_transform(_, r, k, 0)",
     "language": "python",
     "outputs": [],
     "prompt_number": 171
    },
    {
     "cell_type": "markdown",
     "source": "Exponential functions"
    },
    {
     "cell_type": "markdown",
     "source": "1"
    },
    {
     "cell_type": "code",
     "collapsed": true,
     "input": "a = Symbol(\"a\")\nn = Symbol(\"n\")",
     "language": "python",
     "outputs": [],
     "prompt_number": 184
    },
    {
     "cell_type": "code",
     "collapsed": false,
     "input": "r**(n-Rational(1,2))*exp(-a*r)",
     "language": "python",
     "outputs": [
      {
       "output_type": "pyout",
       "png": "[encoded data removed]",
       "prompt_number": 185,
       "text": "\n n - 1/2  -a\u22c5r\nr       \u22c5\u212f    "
      }
     ],
     "prompt_number": 185
    },
    {
     "cell_type": "code",
     "collapsed": false,
     "input": "hankel_transform(_, r, k, 0)",
     "language": "python",
     "outputs": [
      {
       "output_type": "pyout",
       "png": "[encoded data removed]",
       "prompt_number": 186,
       "text": "\n                          \u239bn   3  n   5 \u2502  2  \u2148\u22c5\u03c0\u239e\n -n - 3/2             \u250c\u2500  \u239c\u2500 + \u2500, \u2500 + \u2500 \u2502 k \u22c5\u212f   \u239f\na        \u22c5\u0393(n + 3/2)\u22c5 \u251c\u2500  \u239c2   4  2   4 \u2502 \u2500\u2500\u2500\u2500\u2500\u2500\u2500\u239f\n                     2\u2575 1 \u239c             \u2502     2  \u239f\n                          \u239d     1       \u2502    a   \u23a0"
      }
     ],
     "prompt_number": 186
    },
    {
     "cell_type": "code",
     "collapsed": false,
     "input": "#inverse_hankel_transform(_, k, r, 0)",
     "language": "python",
     "outputs": [],
     "prompt_number": 188
    },
    {
     "cell_type": "markdown",
     "source": "2"
    },
    {
     "cell_type": "code",
     "collapsed": true,
     "input": "a = Symbol(\"a\")",
     "language": "python",
     "outputs": [],
     "prompt_number": 216
    },
    {
     "cell_type": "code",
     "collapsed": false,
     "input": "(1-exp(-a*r))*r**(-2)",
     "language": "python",
     "outputs": [
      {
       "output_type": "pyout",
       "png": "[encoded data removed]",
       "prompt_number": 217,
       "text": "\n     -a\u22c5r\n1 - \u212f    \n\u2500\u2500\u2500\u2500\u2500\u2500\u2500\u2500\u2500\n     2   \n    r    "
      }
     ],
     "prompt_number": 217
    },
    {
     "cell_type": "code",
     "collapsed": false,
     "input": "h = hankel_transform(_, r, k, nu)\nh",
     "language": "python",
     "outputs": [
      {
       "output_type": "pyout",
       "png": "[encoded data removed]",
       "prompt_number": 218,
       "text": "\n    \u239b                       \u03bd                     \u239e                     -\u03bd\n    \u239c   \u239b      ________    \u239e                      \u239f \u239b      ________    \u239e  \n    \u239c   \u239c     \u2571      2     \u239f                      \u239f \u239c     \u2571      2     \u239f  \n -\u03bd \u239c \u03bd \u239c    \u2571      k      \u239f              \u03bd       \u239f \u239c    \u2571      k      \u239f  \na  \u22c5\u239ca \u22c5\u239c   \u2571   1 + \u2500\u2500  + 1\u239f \u22c5\u0393(\u03bd + 1) - k \u22c5\u03bd\u22c5\u0393(\u03bd)\u239f\u22c5\u239c   \u2571   1 + \u2500\u2500  + 1\u239f  \n    \u239c   \u239c  \u2571         2     \u239f                      \u239f \u239c  \u2571         2     \u239f  \n    \u239d   \u239d\u2572\u2571         a      \u23a0                      \u23a0 \u239d\u2572\u2571         a      \u23a0  \n\u2500\u2500\u2500\u2500\u2500\u2500\u2500\u2500\u2500\u2500\u2500\u2500\u2500\u2500\u2500\u2500\u2500\u2500\u2500\u2500\u2500\u2500\u2500\u2500\u2500\u2500\u2500\u2500\u2500\u2500\u2500\u2500\u2500\u2500\u2500\u2500\u2500\u2500\u2500\u2500\u2500\u2500\u2500\u2500\u2500\u2500\u2500\u2500\u2500\u2500\u2500\u2500\u2500\u2500\u2500\u2500\u2500\u2500\u2500\u2500\u2500\u2500\u2500\u2500\u2500\u2500\u2500\u2500\u2500\u2500\u2500\u2500\u2500\u2500\n                                \u03bd\u22c5\u0393(\u03bd + 1)                                "
      }
     ],
     "prompt_number": 218
    },
    {
     "cell_type": "code",
     "collapsed": false,
     "input": "h.subs(nu, 0)",
     "language": "python",
     "outputs": [
      {
       "output_type": "pyout",
       "png": "[encoded data removed]",
       "prompt_number": 219,
       "text": "nan"
      }
     ],
     "prompt_number": 219
    },
    {
     "cell_type": "code",
     "collapsed": true,
     "input": "# Too bad, the solution for nu = 0 is very simple: asinh( a / k )",
     "language": "python",
     "outputs": [],
     "prompt_number": 220
    },
    {
     "cell_type": "code",
     "collapsed": false,
     "input": "#inverse_hankel_transform(h, k, r, nu)",
     "language": "python",
     "outputs": [],
     "prompt_number": 221
    },
    {
     "cell_type": "markdown",
     "source": "Bessel functions"
    },
    {
     "cell_type": "markdown",
     "source": "1"
    },
    {
     "cell_type": "code",
     "collapsed": true,
     "input": "a = Symbol(\"a\", positive=True)",
     "language": "python",
     "outputs": [],
     "prompt_number": 6
    },
    {
     "cell_type": "code",
     "collapsed": false,
     "input": "(1-besselj(0, a*r))/r**2",
     "language": "python",
     "outputs": [
      {
       "output_type": "pyout",
       "png": "[encoded data removed]",
       "prompt_number": 232,
       "text": "\n-besselj(0, a\u22c5r) + 1\n\u2500\u2500\u2500\u2500\u2500\u2500\u2500\u2500\u2500\u2500\u2500\u2500\u2500\u2500\u2500\u2500\u2500\u2500\u2500\u2500\n          2         \n         r          "
      }
     ],
     "prompt_number": 232
    },
    {
     "cell_type": "code",
     "collapsed": false,
     "input": "hankel_transform(_, r, k, nu)",
     "language": "python",
     "outputs": [
      {
       "output_type": "pyout",
       "png": "[encoded data removed]",
       "prompt_number": 233,
       "text": "\n \u239b          \u239b1  1  \u2502  2\u239e    \u239e\n \u239c  \u256d\u2500\u256e1, 1 \u239c      \u2502 k \u239f    \u239f\n-\u239c\u03bd\u22c5\u2502\u2576\u2510     \u239c\u03bd  -\u03bd \u2502 \u2500\u2500\u239f - 2\u239f\n \u239c  \u2570\u2500\u256f2, 2 \u239c\u2500  \u2500\u2500 \u2502  2\u239f    \u239f\n \u239d          \u239d2  2  \u2502 a \u23a0    \u23a0\n\u2500\u2500\u2500\u2500\u2500\u2500\u2500\u2500\u2500\u2500\u2500\u2500\u2500\u2500\u2500\u2500\u2500\u2500\u2500\u2500\u2500\u2500\u2500\u2500\u2500\u2500\u2500\u2500\u2500\n             2\u22c5\u03bd             "
      }
     ],
     "prompt_number": 233
    },
    {
     "cell_type": "code",
     "collapsed": false,
     "input": "#inverse_hankel_transform(_, k, r, nu)",
     "language": "python",
     "outputs": [],
     "prompt_number": 4
    },
    {
     "cell_type": "code",
     "collapsed": false,
     "input": "f = besselj(1, a*r)/r\nf",
     "language": "python",
     "outputs": [
      {
       "output_type": "pyout",
       "png": "[encoded data removed]",
       "prompt_number": 11,
       "text": "\nbesselj(1, a\u22c5r)\n\u2500\u2500\u2500\u2500\u2500\u2500\u2500\u2500\u2500\u2500\u2500\u2500\u2500\u2500\u2500\n       r       "
      }
     ],
     "prompt_number": 11
    },
    {
     "cell_type": "code",
     "collapsed": false,
     "input": "hankel_transform(f, r, k, 0)",
     "language": "python",
     "outputs": [
      {
       "output_type": "pyout",
       "png": "[encoded data removed]",
       "prompt_number": 12,
       "text": "\n\u23a7                                                 2 \u25021 \u2502    \n\u23aa                    0                       for a \u22c5\u2502\u2500\u2500\u2502 < 1\n\u23aa                                                   \u2502 2\u2502    \n\u23aa                                                   \u2502k \u2502    \n\u23aa                                                           \n\u23aa                                                 \u2502 2\u2502      \n\u23aa                    1                            \u2502k \u2502      \n\u23aa                    \u2500                        for \u2500\u2500\u2500\u2500 < 1  \n\u23aa                    a                              2       \n\u23aa                                                  a        \n\u23aa                                                           \n\u23aa\u23a7                               2 \u25021 \u2502                     \n\u23aa\u23aa           0              for a \u22c5\u2502\u2500\u2500\u2502 < 1                 \n\u23aa\u23aa                                 \u2502 2\u2502                     \n\u23aa\u23aa                                 \u2502k \u2502                     \n\u23a8\u23aa                                                          \n\u23aa\u23aa                               \u2502 2\u2502                       \n\u23aa\u23aa           k                   \u2502k \u2502                       \n\u23aa\u23aa           \u2500               for \u2500\u2500\u2500\u2500 < 1                   \n\u23aa\u23a8           a                     2                        \n\u23aa\u23aa                                a                         \n\u23aa\u23aa                                                          \n\u23aa\u23aa        \u239b          \u2502  2\u239e                                  \n\u23aa\u23aa\u256d\u2500\u256e1, 1 \u239c1/2  1/2  \u2502 a \u239f                                  \n\u23aa\u23aa\u2502\u2576\u2510     \u239c          \u2502 \u2500\u2500\u239f     otherwise                    \n\u23aa\u23aa\u2570\u2500\u256f2, 2 \u239c1/2  -1/2 \u2502  2\u239f                                  \n\u23aa\u23aa        \u239d          \u2502 k \u23a0                                  \n\u23aa\u23a9                                                          \n\u23aa\u2500\u2500\u2500\u2500\u2500\u2500\u2500\u2500\u2500\u2500\u2500\u2500\u2500\u2500\u2500\u2500\u2500\u2500\u2500\u2500\u2500\u2500\u2500\u2500\u2500\u2500\u2500\u2500\u2500\u2500\u2500\u2500\u2500\u2500\u2500\u2500\u2500\u2500\u2500\u2500\u2500\u2500     otherwise   \n\u23aa                    k                                      \n\u23a9                                                           "
      }
     ],
     "prompt_number": 12
    },
    {
     "cell_type": "code",
     "collapsed": false,
     "input": "hankel_transform(f, r, k, nu)",
     "language": "python",
     "outputs": [
      {
       "output_type": "pyout",
       "png": "[encoded data removed]",
       "prompt_number": 13,
       "text": "\n        \u239b0  1  \u2502  2\u239e\n\u256d\u2500\u256e1, 1 \u239c      \u2502 k \u239f\n\u2502\u2576\u2510     \u239c\u03bd  -\u03bd \u2502 \u2500\u2500\u239f\n\u2570\u2500\u256f2, 2 \u239c\u2500  \u2500\u2500 \u2502  2\u239f\n        \u239d2  2  \u2502 a \u23a0\n\u2500\u2500\u2500\u2500\u2500\u2500\u2500\u2500\u2500\u2500\u2500\u2500\u2500\u2500\u2500\u2500\u2500\u2500\u2500\u2500\n         a          "
      }
     ],
     "prompt_number": 13
    },
    {
     "cell_type": "code",
     "collapsed": false,
     "input": "inverse_hankel_transform(_, k, r, nu)",
     "language": "python",
     "outputs": [
      {
       "output_type": "pyout",
       "png": "[encoded data removed]",
       "prompt_number": 14,
       "text": "\nbesselj(1, a\u22c5r)\n\u2500\u2500\u2500\u2500\u2500\u2500\u2500\u2500\u2500\u2500\u2500\u2500\u2500\u2500\u2500\n       r       "
      }
     ],
     "prompt_number": 14
    },
    {
     "cell_type": "code",
     "collapsed": true,
     "input": "",
     "language": "python",
     "outputs": []
    }
   ]
  }
 ]
}