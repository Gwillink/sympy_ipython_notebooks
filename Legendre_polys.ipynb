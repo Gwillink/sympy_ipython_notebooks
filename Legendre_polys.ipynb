{
 "metadata": {
  "name": "Legendre_polys"
 },
 "name": "Legendre_polys",
 "nbformat": 3,
 "worksheets": [
  {
   "cells": [
    {
     "cell_type": "code",
     "collapsed": true,
     "input": "%load_ext sympyprt",
     "language": "python",
     "outputs": [],
     "prompt_number": 1
    },
    {
     "cell_type": "code",
     "collapsed": true,
     "input": "from sympy import *",
     "language": "python",
     "outputs": [],
     "prompt_number": 2
    },
    {
     "cell_type": "code",
     "collapsed": true,
     "input": "x = Symbol(\"x\")",
     "language": "python",
     "outputs": [],
     "prompt_number": 3
    },
    {
     "cell_type": "code",
     "collapsed": true,
     "input": "n = Symbol(\"n\", integer=True)\nk = Symbol(\"k\", integer=True)\nl = Symbol(\"l\", integer=True)\nm = Symbol(\"m\", integer=True)",
     "language": "python",
     "outputs": [],
     "prompt_number": 4
    },
    {
     "cell_type": "code",
     "collapsed": false,
     "input": "kern = (-1)**k*binomial(n, k)**2*((1+x)/2)**(n-k)*((1-x)/2)**k\nkern",
     "language": "python",
     "outputs": [
      {
       "output_type": "pyout",
       "png": "[encoded data removed]",
       "prompt_number": 5,
       "text": "\n               k        -k + n    2\n    k \u239b  x   1\u239e  \u239bx   1\u239e       \u239bn\u239e \n(-1) \u22c5\u239c- \u2500 + \u2500\u239f \u22c5\u239c\u2500 + \u2500\u239f      \u22c5\u239c \u239f \n      \u239d  2   2\u23a0  \u239d2   2\u23a0       \u239dk\u23a0 "
      }
     ],
     "prompt_number": 5
    },
    {
     "cell_type": "code",
     "collapsed": false,
     "input": "Pn = Sum(kern, (k, 0, n))\nPn",
     "language": "python",
     "outputs": [
      {
       "output_type": "pyout",
       "png": "[encoded data removed]",
       "prompt_number": 6,
       "text": "\n  n                                      \n ____                                    \n \u2572                                       \n  \u2572                  k        -k + n    2\n   \u2572      k \u239b  x   1\u239e  \u239bx   1\u239e       \u239bn\u239e \n   \u2571  (-1) \u22c5\u239c- \u2500 + \u2500\u239f \u22c5\u239c\u2500 + \u2500\u239f      \u22c5\u239c \u239f \n  \u2571         \u239d  2   2\u23a0  \u239d2   2\u23a0       \u239dk\u23a0 \n \u2571                                       \n \u203e\u203e\u203e\u203e                                    \nk = 0                                    "
      }
     ],
     "prompt_number": 6
    },
    {
     "cell_type": "code",
     "collapsed": false,
     "input": "[ expand(Pn.subs(n,i).doit()) for i in range(5) ]",
     "language": "python",
     "outputs": [
      {
       "output_type": "pyout",
       "prompt_number": 7,
       "text": "\n\u23a1         2         3            4       2    \u23a4\n\u23a2      3\u22c5x    1  5\u22c5x    3\u22c5x  35\u22c5x    15\u22c5x    3\u23a5\n\u23a21, x, \u2500\u2500\u2500\u2500 - \u2500, \u2500\u2500\u2500\u2500 - \u2500\u2500\u2500, \u2500\u2500\u2500\u2500\u2500 - \u2500\u2500\u2500\u2500\u2500 + \u2500\u23a5\n\u23a3       2     2   2      2     8       4     8\u23a6"
      }
     ],
     "prompt_number": 7
    },
    {
     "cell_type": "code",
     "collapsed": false,
     "input": "legendre(n,x)",
     "language": "python",
     "outputs": [
      {
       "output_type": "pyout",
       "png": "[encoded data removed]",
       "prompt_number": 5,
       "text": "legendre(n, x)"
      }
     ],
     "prompt_number": 5
    },
    {
     "cell_type": "code",
     "collapsed": false,
     "input": "expand_func(_)",
     "language": "python",
     "outputs": [
      {
       "output_type": "pyout",
       "png": "[encoded data removed]",
       "prompt_number": 6,
       "text": "legendre(n, x)"
      }
     ],
     "prompt_number": 6
    },
    {
     "cell_type": "code",
     "collapsed": false,
     "input": "legendre(n, -x)",
     "language": "python",
     "outputs": [
      {
       "output_type": "pyout",
       "png": "[encoded data removed]",
       "prompt_number": 7,
       "text": "legendre(n, -x)"
      }
     ],
     "prompt_number": 7
    },
    {
     "cell_type": "code",
     "collapsed": false,
     "input": "expand_func(_)",
     "language": "python",
     "outputs": [
      {
       "output_type": "pyout",
       "png": "[encoded data removed]",
       "prompt_number": 9,
       "text": "\n    n               \n(-1) \u22c5legendre(n, x)"
      }
     ],
     "prompt_number": 9
    },
    {
     "cell_type": "code",
     "collapsed": false,
     "input": "legendre(-n, x)",
     "language": "python",
     "outputs": [
      {
       "output_type": "pyout",
       "png": "[encoded data removed]",
       "prompt_number": 10,
       "text": "legendre(-n, x)"
      }
     ],
     "prompt_number": 10
    },
    {
     "cell_type": "code",
     "collapsed": false,
     "input": "expand_func(_)",
     "language": "python",
     "outputs": [
      {
       "output_type": "pyout",
       "png": "[encoded data removed]",
       "prompt_number": 11,
       "text": "legendre(n - 1, x)"
      }
     ],
     "prompt_number": 11
    },
    {
     "cell_type": "code",
     "collapsed": false,
     "input": "legendre(n, 0)",
     "language": "python",
     "outputs": [
      {
       "output_type": "pyout",
       "png": "[encoded data removed]",
       "prompt_number": 12,
       "text": "legendre(n, 0)"
      }
     ],
     "prompt_number": 12
    },
    {
     "cell_type": "code",
     "collapsed": false,
     "input": "expand_func(_)",
     "language": "python",
     "outputs": [
      {
       "output_type": "pyout",
       "png": "[encoded data removed]",
       "prompt_number": 15,
       "text": "\n         ___     \n     2\u22c5\u2572\u2571 \u03c0      \n\u2500\u2500\u2500\u2500\u2500\u2500\u2500\u2500\u2500\u2500\u2500\u2500\u2500\u2500\u2500\u2500\u2500\n   \u239bn\u239e  \u239b  n   1\u239e\nn\u22c5\u0393\u239c\u2500\u239f\u22c5\u0393\u239c- \u2500 + \u2500\u239f\n   \u239d2\u23a0  \u239d  2   2\u23a0"
      }
     ],
     "prompt_number": 15
    },
    {
     "cell_type": "code",
     "collapsed": false,
     "input": "legendre(n, 1)",
     "language": "python",
     "outputs": [
      {
       "output_type": "pyout",
       "png": "[encoded data removed]",
       "prompt_number": 16,
       "text": "legendre(n, 1)"
      }
     ],
     "prompt_number": 16
    },
    {
     "cell_type": "code",
     "collapsed": false,
     "input": "expand_func(_)",
     "language": "python",
     "outputs": [
      {
       "output_type": "pyout",
       "png": "[encoded data removed]",
       "prompt_number": 17,
       "text": "1"
      }
     ],
     "prompt_number": 17
    },
    {
     "cell_type": "code",
     "collapsed": false,
     "input": "legendre(n, -1)",
     "language": "python",
     "outputs": [
      {
       "output_type": "pyout",
       "png": "[encoded data removed]",
       "prompt_number": 18,
       "text": "legendre(n, -1)"
      }
     ],
     "prompt_number": 18
    },
    {
     "cell_type": "code",
     "collapsed": false,
     "input": "expand_func(_, deep=True)",
     "language": "python",
     "outputs": [
      {
       "output_type": "pyout",
       "png": "[encoded data removed]",
       "prompt_number": 20,
       "text": "\n    n\n(-1) "
      }
     ],
     "prompt_number": 20
    },
    {
     "cell_type": "code",
     "collapsed": false,
     "input": "diff(legendre(n,x), x)",
     "language": "python",
     "outputs": [
      {
       "output_type": "pyout",
       "png": "[encoded data removed]",
       "prompt_number": 21,
       "text": "\nn\u22c5(x\u22c5legendre(n, x) - legendre(n - 1, x))\n\u2500\u2500\u2500\u2500\u2500\u2500\u2500\u2500\u2500\u2500\u2500\u2500\u2500\u2500\u2500\u2500\u2500\u2500\u2500\u2500\u2500\u2500\u2500\u2500\u2500\u2500\u2500\u2500\u2500\u2500\u2500\u2500\u2500\u2500\u2500\u2500\u2500\u2500\u2500\u2500\u2500\n                   2                     \n                  x  - 1                 "
      }
     ],
     "prompt_number": 21
    },
    {
     "cell_type": "code",
     "collapsed": false,
     "input": "expand_func(_)",
     "language": "python",
     "outputs": [
      {
       "output_type": "pyout",
       "png": "[encoded data removed]",
       "prompt_number": 23,
       "text": "\nn\u22c5(x\u22c5legendre(n, x) - legendre(n - 1, x))\n\u2500\u2500\u2500\u2500\u2500\u2500\u2500\u2500\u2500\u2500\u2500\u2500\u2500\u2500\u2500\u2500\u2500\u2500\u2500\u2500\u2500\u2500\u2500\u2500\u2500\u2500\u2500\u2500\u2500\u2500\u2500\u2500\u2500\u2500\u2500\u2500\u2500\u2500\u2500\u2500\u2500\n                   2                     \n                  x  - 1                 "
      }
     ],
     "prompt_number": 23
    },
    {
     "cell_type": "code",
     "collapsed": false,
     "input": "diff(legendre(n,x), n)",
     "language": "python",
     "outputs": [
      {
       "output_type": "pyout",
       "png": "[encoded data removed]",
       "prompt_number": 32,
       "text": "\nd                 \n\u2500\u2500(legendre(n, x))\ndn                "
      }
     ],
     "prompt_number": 32
    },
    {
     "cell_type": "code",
     "collapsed": false,
     "input": "LP = legendre(n,x).rewrite(\"polynomial\")\nLP",
     "language": "python",
     "outputs": [
      {
       "output_type": "pyout",
       "png": "[encoded data removed]",
       "prompt_number": 31,
       "text": "\n  n                                      \n ____                                    \n \u2572                                       \n  \u2572                  k        -k + n    2\n   \u2572      k \u239b  x   1\u239e  \u239bx   1\u239e       \u239bn\u239e \n   \u2571  (-1) \u22c5\u239c- \u2500 + \u2500\u239f \u22c5\u239c\u2500 + \u2500\u239f      \u22c5\u239c \u239f \n  \u2571         \u239d  2   2\u23a0  \u239d2   2\u23a0       \u239dk\u23a0 \n \u2571                                       \n \u203e\u203e\u203e\u203e                                    \nk = 0                                    "
      }
     ],
     "prompt_number": 31
    },
    {
     "cell_type": "code",
     "collapsed": false,
     "input": "[ legendre(i, x) for i in range(5) ]",
     "language": "python",
     "outputs": [
      {
       "output_type": "pyout",
       "prompt_number": 37,
       "text": "\n[legendre(0, x), legendre(1, x), legendre(2, x), legendre(3, x), legendre(4, x\n)]"
      }
     ],
     "prompt_number": 37
    },
    {
     "cell_type": "code",
     "collapsed": false,
     "input": "[ expand(Pn.subs(n,N).doit()) - legendre(N,x) for N in range(10) ]",
     "language": "python",
     "outputs": [
      {
       "output_type": "pyout",
       "prompt_number": 38,
       "text": "\n\u23a1                                            2                          3     \n\u23a2                                         3\u22c5x                     1  5\u22c5x    3\u22c5\n\u23a2-legendre(0, x) + 1, x - legendre(1, x), \u2500\u2500\u2500\u2500 - legendre(2, x) - \u2500, \u2500\u2500\u2500\u2500 - \u2500\u2500\n\u23a3                                          2                      2   2      2\n\n                        4       2                           5       3         \nx                   35\u22c5x    15\u22c5x                     3  63\u22c5x    35\u22c5x    15\u22c5x  \n\u2500 - legendre(3, x), \u2500\u2500\u2500\u2500\u2500 - \u2500\u2500\u2500\u2500\u2500 - legendre(4, x) + \u2500, \u2500\u2500\u2500\u2500\u2500 - \u2500\u2500\u2500\u2500\u2500 + \u2500\u2500\u2500\u2500 -\n                      8       4                      8    8       4      8    \n\n                      6        4        2                             7       \n                 231\u22c5x    315\u22c5x    105\u22c5x                     5   429\u22c5x    693\u22c5\n legendre(5, x), \u2500\u2500\u2500\u2500\u2500\u2500 - \u2500\u2500\u2500\u2500\u2500\u2500 + \u2500\u2500\u2500\u2500\u2500\u2500 - legendre(6, x) - \u2500\u2500, \u2500\u2500\u2500\u2500\u2500\u2500 - \u2500\u2500\u2500\u2500\n                   16       16       16                      16    16       16\n\n 5        3                                8         6         4        2     \nx    315\u22c5x    35\u22c5x                   6435\u22c5x    3003\u22c5x    3465\u22c5x    315\u22c5x      \n\u2500\u2500 + \u2500\u2500\u2500\u2500\u2500\u2500 - \u2500\u2500\u2500\u2500 - legendre(7, x), \u2500\u2500\u2500\u2500\u2500\u2500\u2500 - \u2500\u2500\u2500\u2500\u2500\u2500\u2500 + \u2500\u2500\u2500\u2500\u2500\u2500\u2500 - \u2500\u2500\u2500\u2500\u2500\u2500 - le\n       16      16                      128        32        64       32       \n\n                           9         7         5         3                    \n                35  12155\u22c5x    6435\u22c5x    9009\u22c5x    1155\u22c5x    315\u22c5x            \ngendre(8, x) + \u2500\u2500\u2500, \u2500\u2500\u2500\u2500\u2500\u2500\u2500\u2500 - \u2500\u2500\u2500\u2500\u2500\u2500\u2500 + \u2500\u2500\u2500\u2500\u2500\u2500\u2500 - \u2500\u2500\u2500\u2500\u2500\u2500\u2500 + \u2500\u2500\u2500\u2500\u2500 - legendre(\n               128    128         32        64        32      128             \n\n     \u23a4\n     \u23a5\n9, x)\u23a5\n     \u23a6"
      }
     ],
     "prompt_number": 38
    },
    {
     "cell_type": "code",
     "collapsed": false,
     "input": "legendre(n,x).rewrite(\"polynomial\")",
     "language": "python",
     "outputs": [
      {
       "output_type": "pyout",
       "png": "[encoded data removed]",
       "prompt_number": 39,
       "text": "\n  n                                      \n ____                                    \n \u2572                                       \n  \u2572                  k        -k + n    2\n   \u2572      k \u239b  x   1\u239e  \u239bx   1\u239e       \u239bn\u239e \n   \u2571  (-1) \u22c5\u239c- \u2500 + \u2500\u239f \u22c5\u239c\u2500 + \u2500\u239f      \u22c5\u239c \u239f \n  \u2571         \u239d  2   2\u23a0  \u239d2   2\u23a0       \u239dk\u23a0 \n \u2571                                       \n \u203e\u203e\u203e\u203e                                    \nk = 0                                    "
      }
     ],
     "prompt_number": 39
    },
    {
     "cell_type": "code",
     "collapsed": false,
     "input": "kern0 = factorial(2*n-2*k)/(2**n*factorial(n-k)*factorial(k)*factorial(n-2*k))*(-1)**k*x**(n-2*k)\nkern0",
     "language": "python",
     "outputs": [
      {
       "output_type": "pyout",
       "png": "[encoded data removed]",
       "prompt_number": 40,
       "text": "\n    k  -n  -2\u22c5k + n              \n(-1) \u22c52  \u22c5x        \u22c5(-2\u22c5k + 2\u22c5n)!\n\u2500\u2500\u2500\u2500\u2500\u2500\u2500\u2500\u2500\u2500\u2500\u2500\u2500\u2500\u2500\u2500\u2500\u2500\u2500\u2500\u2500\u2500\u2500\u2500\u2500\u2500\u2500\u2500\u2500\u2500\u2500\u2500\u2500\n     k!\u22c5(-2\u22c5k + n)!\u22c5(-k + n)!    "
      }
     ],
     "prompt_number": 40
    },
    {
     "cell_type": "code",
     "collapsed": false,
     "input": "Pn0 = Sum(kern0, (k,0,floor(n/2)))\nPn0",
     "language": "python",
     "outputs": [
      {
       "output_type": "pyout",
       "png": "[encoded data removed]",
       "prompt_number": 41,
       "text": "\n \u23a2n\u23a5                                   \n \u23a2\u2500\u23a5                                   \n \u23a32\u23a6                                   \n ____                                  \n \u2572                                     \n  \u2572       k  -n  -2\u22c5k + n              \n   \u2572  (-1) \u22c52  \u22c5x        \u22c5(-2\u22c5k + 2\u22c5n)!\n   \u2571  \u2500\u2500\u2500\u2500\u2500\u2500\u2500\u2500\u2500\u2500\u2500\u2500\u2500\u2500\u2500\u2500\u2500\u2500\u2500\u2500\u2500\u2500\u2500\u2500\u2500\u2500\u2500\u2500\u2500\u2500\u2500\u2500\u2500\n  \u2571        k!\u22c5(-2\u22c5k + n)!\u22c5(-k + n)!    \n \u2571                                     \n \u203e\u203e\u203e\u203e                                  \nk = 0                                  "
      }
     ],
     "prompt_number": 41
    },
    {
     "cell_type": "code",
     "collapsed": false,
     "input": "[ expand(Pn0.subs(n,N).doit()) - legendre(N,x) for N in range(10) ]",
     "language": "python",
     "outputs": [
      {
       "output_type": "pyout",
       "prompt_number": 42,
       "text": "\n\u23a1                                            2                          3     \n\u23a2                                         3\u22c5x                     1  5\u22c5x    3\u22c5\n\u23a2-legendre(0, x) + 1, x - legendre(1, x), \u2500\u2500\u2500\u2500 - legendre(2, x) - \u2500, \u2500\u2500\u2500\u2500 - \u2500\u2500\n\u23a3                                          2                      2   2      2\n\n                        4       2                           5       3         \nx                   35\u22c5x    15\u22c5x                     3  63\u22c5x    35\u22c5x    15\u22c5x  \n\u2500 - legendre(3, x), \u2500\u2500\u2500\u2500\u2500 - \u2500\u2500\u2500\u2500\u2500 - legendre(4, x) + \u2500, \u2500\u2500\u2500\u2500\u2500 - \u2500\u2500\u2500\u2500\u2500 + \u2500\u2500\u2500\u2500 -\n                      8       4                      8    8       4      8    \n\n                      6        4        2                             7       \n                 231\u22c5x    315\u22c5x    105\u22c5x                     5   429\u22c5x    693\u22c5\n legendre(5, x), \u2500\u2500\u2500\u2500\u2500\u2500 - \u2500\u2500\u2500\u2500\u2500\u2500 + \u2500\u2500\u2500\u2500\u2500\u2500 - legendre(6, x) - \u2500\u2500, \u2500\u2500\u2500\u2500\u2500\u2500 - \u2500\u2500\u2500\u2500\n                   16       16       16                      16    16       16\n\n 5        3                                8         6         4        2     \nx    315\u22c5x    35\u22c5x                   6435\u22c5x    3003\u22c5x    3465\u22c5x    315\u22c5x      \n\u2500\u2500 + \u2500\u2500\u2500\u2500\u2500\u2500 - \u2500\u2500\u2500\u2500 - legendre(7, x), \u2500\u2500\u2500\u2500\u2500\u2500\u2500 - \u2500\u2500\u2500\u2500\u2500\u2500\u2500 + \u2500\u2500\u2500\u2500\u2500\u2500\u2500 - \u2500\u2500\u2500\u2500\u2500\u2500 - le\n       16      16                      128        32        64       32       \n\n                           9         7         5         3                    \n                35  12155\u22c5x    6435\u22c5x    9009\u22c5x    1155\u22c5x    315\u22c5x            \ngendre(8, x) + \u2500\u2500\u2500, \u2500\u2500\u2500\u2500\u2500\u2500\u2500\u2500 - \u2500\u2500\u2500\u2500\u2500\u2500\u2500 + \u2500\u2500\u2500\u2500\u2500\u2500\u2500 - \u2500\u2500\u2500\u2500\u2500\u2500\u2500 + \u2500\u2500\u2500\u2500\u2500 - legendre(\n               128    128         32        64        32      128             \n\n     \u23a4\n     \u23a5\n9, x)\u23a5\n     \u23a6"
      }
     ],
     "prompt_number": 42
    },
    {
     "cell_type": "code",
     "collapsed": true,
     "input": "from numpy import linspace\nfrom matplotlib.pyplot import *",
     "language": "python",
     "outputs": [],
     "prompt_number": 43
    },
    {
     "cell_type": "code",
     "collapsed": true,
     "input": "U = linspace(-1,1,500)",
     "language": "python",
     "outputs": [],
     "prompt_number": 47
    },
    {
     "cell_type": "code",
     "collapsed": true,
     "input": "F = lambda k: lambda u: legendre(k,u).evalf()\npolyvals = [ map(p, U) for p in map(F, xrange(10)) ]",
     "language": "python",
     "outputs": [],
     "prompt_number": 48
    },
    {
     "cell_type": "code",
     "collapsed": false,
     "input": "figure(figsize=(8,8))\nfor V in polyvals:\n    plot(U, V)",
     "language": "python",
     "outputs": [
      {
       "output_type": "display_data",
       "png": "[encoded data removed]"
      }
     ],
     "prompt_number": 49
    },
    {
     "cell_type": "markdown",
     "source": "Associated Legendre Polynomials"
    },
    {
     "cell_type": "code",
     "collapsed": false,
     "input": "kern2 = factorial(2*l-2*k)/(2**l*factorial(l-k)*factorial(k)*factorial(l-2*k-m))*(-1)**k*x**(l-m-2*k)\nkern2",
     "language": "python",
     "outputs": [
      {
       "output_type": "pyout",
       "png": "[encoded data removed]",
       "prompt_number": 50,
       "text": "\n    k  -l  -2\u22c5k + l - m              \n(-1) \u22c52  \u22c5x            \u22c5(-2\u22c5k + 2\u22c5l)!\n\u2500\u2500\u2500\u2500\u2500\u2500\u2500\u2500\u2500\u2500\u2500\u2500\u2500\u2500\u2500\u2500\u2500\u2500\u2500\u2500\u2500\u2500\u2500\u2500\u2500\u2500\u2500\u2500\u2500\u2500\u2500\u2500\u2500\u2500\u2500\u2500\u2500\n     k!\u22c5(-k + l)!\u22c5(-2\u22c5k + l - m)!    "
      }
     ],
     "prompt_number": 50
    },
    {
     "cell_type": "code",
     "collapsed": false,
     "input": "pref = (1-x**2)**(m/2)\npref",
     "language": "python",
     "outputs": [
      {
       "output_type": "pyout",
       "png": "[encoded data removed]",
       "prompt_number": 51,
       "text": "\n          m\n          \u2500\n          2\n\u239b   2    \u239e \n\u239d- x  + 1\u23a0 "
      }
     ],
     "prompt_number": 51
    },
    {
     "cell_type": "code",
     "collapsed": false,
     "input": "lim = floor((l-m)/2)\nlim",
     "language": "python",
     "outputs": [
      {
       "output_type": "pyout",
       "png": "[encoded data removed]",
       "prompt_number": 52,
       "text": "\n\u23a2l   m\u23a5\n\u23a2\u2500 - \u2500\u23a5\n\u23a32   2\u23a6"
      }
     ],
     "prompt_number": 52
    },
    {
     "cell_type": "code",
     "collapsed": false,
     "input": "Plm = pref * Sum(kern2, (k, 0, lim))\nPlm",
     "language": "python",
     "outputs": [
      {
       "output_type": "pyout",
       "png": "[encoded data removed]",
       "prompt_number": 53,
       "text": "\n            \u23a2l   m\u23a5                                      \n            \u23a2\u2500 - \u2500\u23a5                                      \n            \u23a32   2\u23a6                                      \n          m   ____                                       \n          \u2500   \u2572                                          \n          2    \u2572        k  -l  -2\u22c5k + l - m              \n\u239b   2    \u239e      \u2572   (-1) \u22c52  \u22c5x            \u22c5(-2\u22c5k + 2\u22c5l)!\n\u239d- x  + 1\u23a0 \u22c5    \u2571   \u2500\u2500\u2500\u2500\u2500\u2500\u2500\u2500\u2500\u2500\u2500\u2500\u2500\u2500\u2500\u2500\u2500\u2500\u2500\u2500\u2500\u2500\u2500\u2500\u2500\u2500\u2500\u2500\u2500\u2500\u2500\u2500\u2500\u2500\u2500\u2500\u2500\n               \u2571         k!\u22c5(-k + l)!\u22c5(-2\u22c5k + l - m)!    \n              \u2571                                          \n              \u203e\u203e\u203e\u203e                                       \n             k = 0                                       "
      }
     ],
     "prompt_number": 53
    },
    {
     "cell_type": "code",
     "collapsed": true,
     "input": "L = 4\nM = 4",
     "language": "python",
     "outputs": [],
     "prompt_number": 54
    },
    {
     "cell_type": "code",
     "collapsed": false,
     "input": "expand(Plm.subs(l,L).subs(m,M).doit())",
     "language": "python",
     "outputs": [
      {
       "output_type": "pyout",
       "png": "[encoded data removed]",
       "prompt_number": 55,
       "text": "\n     4        2      \n105\u22c5x  - 210\u22c5x  + 105"
      }
     ],
     "prompt_number": 55
    },
    {
     "cell_type": "code",
     "collapsed": false,
     "input": "Pml2 = (-1)**M*(1-x**2)**(Rational(M,2))*diff(Pn.subs(n,L).doit(), x, M)\nexpand(Pml2)",
     "language": "python",
     "outputs": [
      {
       "output_type": "pyout",
       "png": "[encoded data removed]",
       "prompt_number": 56,
       "text": "\n     4        2      \n105\u22c5x  - 210\u22c5x  + 105"
      }
     ],
     "prompt_number": 56
    },
    {
     "cell_type": "code",
     "collapsed": false,
     "input": "expand(assoc_legendre(L, M, x))",
     "language": "python",
     "outputs": [
      {
       "output_type": "pyout",
       "png": "[encoded data removed]",
       "prompt_number": 57,
       "text": "\n     4        2      \n105\u22c5x  - 210\u22c5x  + 105"
      }
     ],
     "prompt_number": 57
    },
    {
     "cell_type": "code",
     "collapsed": false,
     "input": "assoc_legendre(m,n,x)",
     "language": "python",
     "outputs": [
      {
       "output_type": "pyout",
       "png": "[encoded data removed]",
       "prompt_number": 24,
       "text": "assoc_legendre(m, n, x)"
      }
     ],
     "prompt_number": 24
    },
    {
     "cell_type": "code",
     "collapsed": false,
     "input": "expand_func(_)",
     "language": "python",
     "outputs": [
      {
       "output_type": "pyout",
       "png": "[encoded data removed]",
       "prompt_number": 25,
       "text": "assoc_legendre(m, n, x)"
      }
     ],
     "prompt_number": 25
    },
    {
     "cell_type": "code",
     "collapsed": false,
     "input": "assoc_legendre(m,n,-x)",
     "language": "python",
     "outputs": [
      {
       "output_type": "pyout",
       "png": "[encoded data removed]",
       "prompt_number": 26,
       "text": "assoc_legendre(m, n, -x)"
      }
     ],
     "prompt_number": 26
    },
    {
     "cell_type": "code",
     "collapsed": false,
     "input": "expand_func(_)",
     "language": "python",
     "outputs": [
      {
       "output_type": "pyout",
       "png": "[encoded data removed]",
       "prompt_number": 28,
       "text": "assoc_legendre(m, n, -x)"
      }
     ],
     "prompt_number": 28
    },
    {
     "cell_type": "code",
     "collapsed": false,
     "input": "assoc_legendre(m,-n,x)",
     "language": "python",
     "outputs": [
      {
       "output_type": "pyout",
       "png": "[encoded data removed]",
       "prompt_number": 34,
       "text": "assoc_legendre(m, -n, x)"
      }
     ],
     "prompt_number": 34
    },
    {
     "cell_type": "code",
     "collapsed": false,
     "input": "expand_func(_)",
     "language": "python",
     "outputs": [
      {
       "output_type": "pyout",
       "png": "[encoded data removed]",
       "prompt_number": 35,
       "text": "\n    n                                 \n(-1) \u22c5assoc_legendre(m, n, x)\u22c5(m - n)!\n\u2500\u2500\u2500\u2500\u2500\u2500\u2500\u2500\u2500\u2500\u2500\u2500\u2500\u2500\u2500\u2500\u2500\u2500\u2500\u2500\u2500\u2500\u2500\u2500\u2500\u2500\u2500\u2500\u2500\u2500\u2500\u2500\u2500\u2500\u2500\u2500\u2500\u2500\n               (m + n)!               "
      }
     ],
     "prompt_number": 35
    },
    {
     "cell_type": "code",
     "collapsed": false,
     "input": "assoc_legendre(-m,n,x)",
     "language": "python",
     "outputs": [
      {
       "output_type": "pyout",
       "png": "[encoded data removed]",
       "prompt_number": 38,
       "text": "assoc_legendre(-m, n, x)"
      }
     ],
     "prompt_number": 38
    },
    {
     "cell_type": "code",
     "collapsed": false,
     "input": "expand_func(_)",
     "language": "python",
     "outputs": [
      {
       "output_type": "pyout",
       "png": "[encoded data removed]",
       "prompt_number": 39,
       "text": "assoc_legendre(-m, n, x)"
      }
     ],
     "prompt_number": 39
    },
    {
     "cell_type": "code",
     "collapsed": false,
     "input": "assoc_legendre(n,m,0)",
     "language": "python",
     "outputs": [
      {
       "output_type": "pyout",
       "png": "[encoded data removed]",
       "prompt_number": 40,
       "text": "assoc_legendre(n, m, 0)"
      }
     ],
     "prompt_number": 40
    },
    {
     "cell_type": "code",
     "collapsed": false,
     "input": "expand_func(_)",
     "language": "python",
     "outputs": [
      {
       "output_type": "pyout",
       "png": "[encoded data removed]",
       "prompt_number": 44,
       "text": "\n               m   ___             \n              2 \u22c5\u2572\u2571 \u03c0              \n\u2500\u2500\u2500\u2500\u2500\u2500\u2500\u2500\u2500\u2500\u2500\u2500\u2500\u2500\u2500\u2500\u2500\u2500\u2500\u2500\u2500\u2500\u2500\u2500\u2500\u2500\u2500\u2500\u2500\u2500\u2500\u2500\u2500\u2500\u2500\n\u239b  m   n\u239e  \u239b  m   n\u239e  \u239b  m   n   1\u239e\n\u239c- \u2500 + \u2500\u239f\u22c5\u0393\u239c- \u2500 + \u2500\u239f\u22c5\u0393\u239c- \u2500 - \u2500 + \u2500\u239f\n\u239d  2   2\u23a0  \u239d  2   2\u23a0  \u239d  2   2   2\u23a0"
      }
     ],
     "prompt_number": 44
    },
    {
     "cell_type": "code",
     "collapsed": false,
     "input": "for i in xrange(5):\n    for j in xrange(-i, i+1):\n        Poly = expand(assoc_legendre(i,j,x))\n        print((i, j, Poly))",
     "language": "python",
     "outputs": [
      {
       "output_type": "stream",
       "stream": "stdout",
       "text": "(0, 0, legendre(0, x))\n(1, -1, sqrt(-x**2 + 1)/2)\n(1, 0, legendre(1, x))\n(1, 1, -sqrt(-x**2 + 1))\n(2, -2, -x**2/8 + 1/8)\n(2, -1, x*sqrt(-x**2 + 1)/2)\n(2, 0, legendre(2, x))\n(2, 1, -3*x*sqrt(-x**2 + 1))\n(2, 2, -3*x**2 + 3)\n(3, -3, -x**2*sqrt(-x**2 + 1)/48 + sqrt(-x**2 + 1)/48)\n(3, -2, -x**3/8 + x/8)\n(3, -1, 5*x**2*sqrt(-x**2 + 1)/8 - sqrt(-x**2 + 1)/8)\n(3, 0, legendre(3, x))\n(3, 1, -15*x**2*sqrt(-x**2 + 1)/2 + 3*sqrt(-x**2 + 1)/2)\n(3, 2, -15*x**3 + 15*x)\n(3, 3, 15*x**2*sqrt(-x**2 + 1) - 15*sqrt(-x**2 + 1))\n(4, -4, x**4/384 - x**2/192 + 1/384)\n(4, -3, -x**3*sqrt(-x**2 + 1)/48 + x*sqrt(-x**2 + 1)/48)\n(4, -2, -7*x**4/48 + x**2/6 - 1/48)\n(4, -1, 7*x**3*sqrt(-x**2 + 1)/8 - 3*x*sqrt(-x**2 + 1)/8)\n(4, 0, legendre(4, x))\n(4, 1, -35*x**3*sqrt(-x**2 + 1)/2 + 15*x*sqrt(-x**2 + 1)/2)\n(4, 2, -105*x**4/2 + 60*x**2 - 15/2)"
      },
      {
       "output_type": "stream",
       "stream": "stdout",
       "text": "\n(4, 3, 105*x**3*sqrt(-x**2 + 1) - 105*x*sqrt(-x**2 + 1))\n(4, 4, 105*x**4 - 210*x**2 + 105)"
      }
     ],
     "prompt_number": 63
    },
    {
     "cell_type": "code",
     "collapsed": false,
     "input": "diff(assoc_legendre(n,m,x),x)",
     "language": "python",
     "outputs": [
      {
       "output_type": "pyout",
       "png": "[encoded data removed]",
       "prompt_number": 45,
       "text": "\nn\u22c5x\u22c5assoc_legendre(n, m, x) - (m + n)\u22c5assoc_legendre(n - 1, m, x)\n\u2500\u2500\u2500\u2500\u2500\u2500\u2500\u2500\u2500\u2500\u2500\u2500\u2500\u2500\u2500\u2500\u2500\u2500\u2500\u2500\u2500\u2500\u2500\u2500\u2500\u2500\u2500\u2500\u2500\u2500\u2500\u2500\u2500\u2500\u2500\u2500\u2500\u2500\u2500\u2500\u2500\u2500\u2500\u2500\u2500\u2500\u2500\u2500\u2500\u2500\u2500\u2500\u2500\u2500\u2500\u2500\u2500\u2500\u2500\u2500\u2500\u2500\u2500\u2500\u2500\n                               2                                 \n                              x  - 1                             "
      }
     ],
     "prompt_number": 45
    },
    {
     "cell_type": "code",
     "collapsed": false,
     "input": "expand_func(_)",
     "language": "python",
     "outputs": [
      {
       "output_type": "pyout",
       "png": "[encoded data removed]",
       "prompt_number": 47,
       "text": "\nn\u22c5x\u22c5assoc_legendre(n, m, x) - (m + n)\u22c5assoc_legendre(n - 1, m, x)\n\u2500\u2500\u2500\u2500\u2500\u2500\u2500\u2500\u2500\u2500\u2500\u2500\u2500\u2500\u2500\u2500\u2500\u2500\u2500\u2500\u2500\u2500\u2500\u2500\u2500\u2500\u2500\u2500\u2500\u2500\u2500\u2500\u2500\u2500\u2500\u2500\u2500\u2500\u2500\u2500\u2500\u2500\u2500\u2500\u2500\u2500\u2500\u2500\u2500\u2500\u2500\u2500\u2500\u2500\u2500\u2500\u2500\u2500\u2500\u2500\u2500\u2500\u2500\u2500\u2500\n                               2                                 \n                              x  - 1                             "
      }
     ],
     "prompt_number": 47
    },
    {
     "cell_type": "code",
     "collapsed": false,
     "input": "diff(assoc_legendre(n,m,x),m)",
     "language": "python",
     "outputs": [
      {
       "output_type": "pyout",
       "png": "[encoded data removed]",
       "prompt_number": 48,
       "text": "\nd                          \n\u2500\u2500(assoc_legendre(n, m, x))\ndm                         "
      }
     ],
     "prompt_number": 48
    },
    {
     "cell_type": "code",
     "collapsed": false,
     "input": "diff(assoc_legendre(n,m,x),n)",
     "language": "python",
     "outputs": [
      {
       "output_type": "pyout",
       "png": "[encoded data removed]",
       "prompt_number": 49,
       "text": "\nd                          \n\u2500\u2500(assoc_legendre(n, m, x))\ndn                         "
      }
     ],
     "prompt_number": 49
    },
    {
     "cell_type": "code",
     "collapsed": false,
     "input": "expand_func(_)",
     "language": "python",
     "outputs": [
      {
       "output_type": "pyout",
       "png": "[encoded data removed]",
       "prompt_number": 51,
       "text": "\nd                          \n\u2500\u2500(assoc_legendre(n, m, x))\ndn                         "
      }
     ],
     "prompt_number": 51
    },
    {
     "cell_type": "code",
     "collapsed": false,
     "input": "assoc_legendre(n,m,x).rewrite(\"polynomial\")",
     "language": "python",
     "outputs": [
      {
       "output_type": "pyout",
       "png": "[encoded data removed]",
       "prompt_number": 52,
       "text": "\n            \u23a2  m   n\u23a5                                      \n            \u23a2- \u2500 + \u2500\u23a5                                      \n            \u23a3  2   2\u23a6                                      \n          m    ____                                        \n          \u2500    \u2572                                           \n          2     \u2572         k  -n  -2\u22c5k - m + n              \n\u239b   2    \u239e       \u2572    (-1) \u22c52  \u22c5x            \u22c5(-2\u22c5k + 2\u22c5n)!\n\u239d- x  + 1\u23a0 \u22c5     \u2571    \u2500\u2500\u2500\u2500\u2500\u2500\u2500\u2500\u2500\u2500\u2500\u2500\u2500\u2500\u2500\u2500\u2500\u2500\u2500\u2500\u2500\u2500\u2500\u2500\u2500\u2500\u2500\u2500\u2500\u2500\u2500\u2500\u2500\u2500\u2500\u2500\u2500\n                \u2571          k!\u22c5(-k + n)!\u22c5(-2\u22c5k - m + n)!    \n               \u2571                                           \n               \u203e\u203e\u203e\u203e                                        \n              k = 0                                        "
      }
     ],
     "prompt_number": 52
    },
    {
     "cell_type": "code",
     "collapsed": false,
     "input": "expand_func(_)",
     "language": "python",
     "outputs": [
      {
       "output_type": "pyout",
       "png": "[encoded data removed]",
       "prompt_number": 54,
       "text": "\n            \u23a2  m   n\u23a5                                      \n            \u23a2- \u2500 + \u2500\u23a5                                      \n            \u23a3  2   2\u23a6                                      \n          m    ____                                        \n          \u2500    \u2572                                           \n          2     \u2572         k  -n  -2\u22c5k - m + n              \n\u239b   2    \u239e       \u2572    (-1) \u22c52  \u22c5x            \u22c5(-2\u22c5k + 2\u22c5n)!\n\u239d- x  + 1\u23a0 \u22c5     \u2571    \u2500\u2500\u2500\u2500\u2500\u2500\u2500\u2500\u2500\u2500\u2500\u2500\u2500\u2500\u2500\u2500\u2500\u2500\u2500\u2500\u2500\u2500\u2500\u2500\u2500\u2500\u2500\u2500\u2500\u2500\u2500\u2500\u2500\u2500\u2500\u2500\u2500\n                \u2571          k!\u22c5(-k + n)!\u22c5(-2\u22c5k - m + n)!    \n               \u2571                                           \n               \u203e\u203e\u203e\u203e                                        \n              k = 0                                        "
      }
     ],
     "prompt_number": 54
    },
    {
     "cell_type": "code",
     "collapsed": false,
     "input": "for i in range(5):\n    for j in range(-i, i+1):\n        Pml2 = (-S.One)**(Abs(j))*(S.One-x**2)**(Rational(Abs(j),2))*diff(legendre(i,x), x, Abs(j))\n        if j < 0:\n            Pml2 = (-S.One)**Abs(j)*factorial(i-Abs(j))/factorial(Abs(j)+i) * Pml2\n            \n        A = expand(Pml2.doit())\n        B = assoc_legendre(i, j, x)\n        print((i, j, simplify(A - B)))",
     "language": "python",
     "outputs": [
      {
       "output_type": "stream",
       "stream": "stdout",
       "text": "(0, 0, 0)\n(1, -1, sqrt(-x**2 + 1)*(-x**2 + x*legendre(1, x) - legendre(0, x) + 1)/(2*(x**2 - 1)))\n(1, 0, 0)\n(1, 1, sqrt(-x**2 + 1)*(x**2 - x*legendre(1, x) + legendre(0, x) - 1)/(x**2 - 1))"
      },
      {
       "output_type": "stream",
       "stream": "stdout",
       "text": "\n(2, -2, (3*x**4 - 2*x**2*legendre(2, x) - 6*x**2 + 2*x*legendre(1, x) - 2*legendre(0, x) + 2*legendre(2, x) + 3)/(24*(x**2 - 1)))"
      },
      {
       "output_type": "stream",
       "stream": "stdout",
       "text": "\n(2, -1, sqrt(-x**2 + 1)*(-3*x**3 + 2*x*legendre(2, x) + 3*x - 2*legendre(1, x))/(6*(x**2 - 1)))\n(2, 0, 0)\n(2, 1, sqrt(-x**2 + 1)*(3*x**3 - 2*x*legendre(2, x) - 3*x + 2*legendre(1, x))/(x**2 - 1))"
      },
      {
       "output_type": "stream",
       "stream": "stdout",
       "text": "\n(2, 2, (3*x**4 - 2*x**2*legendre(2, x) - 6*x**2 + 2*x*legendre(1, x) - 2*legendre(0, x) + 2*legendre(2, x) + 3)/(x**2 - 1))\n(3, -3, sqrt(-x**2 + 1)*(5*x**6 - 15*x**4 - 2*x**3*legendre(3, x) + 3*x**2*legendre(2, x) + 15*x**2 + 3*x*legendre(3, x) + 2*legendre(0, x) - 6*legendre(2, x) - 5)/(240*(x**4 - 2*x**2 + 1)))"
      },
      {
       "output_type": "stream",
       "stream": "stdout",
       "text": "\n(3, -2, (5*x**5 - 10*x**3 - 2*x**2*legendre(3, x) + 3*x*legendre(2, x) + 5*x - 2*legendre(1, x) + legendre(3, x))/(40*(x**2 - 1)))"
      },
      {
       "output_type": "stream",
       "stream": "stdout",
       "text": "\n(3, -1, sqrt(-x**2 + 1)*(-5*x**4 + 6*x**2 + 2*x*legendre(3, x) - 2*legendre(2, x) - 1)/(8*(x**2 - 1)))\n(3, 0, 0)\n(3, 1, 3*sqrt(-x**2 + 1)*(5*x**4 - 6*x**2 - 2*x*legendre(3, x) + 2*legendre(2, x) + 1)/(2*(x**2 - 1)))"
      },
      {
       "output_type": "stream",
       "stream": "stdout",
       "text": "\n(3, 2, 3*(5*x**5 - 10*x**3 - 2*x**2*legendre(3, x) + 3*x*legendre(2, x) + 5*x - 2*legendre(1, x) + legendre(3, x))/(x**2 - 1))"
      },
      {
       "output_type": "stream",
       "stream": "stdout",
       "text": "\n(3, 3, 3*sqrt(-x**2 + 1)*(-5*x**6 + 15*x**4 + 2*x**3*legendre(3, x) - 3*x**2*legendre(2, x) - 15*x**2 - 3*x*legendre(3, x) - 2*legendre(0, x) + 6*legendre(2, x) + 5)/(x**4 - 2*x**2 + 1))"
      },
      {
       "output_type": "stream",
       "stream": "stdout",
       "text": "\n(4, -4, (-35*x**8 + 140*x**6 + 8*x**4*legendre(4, x) - 210*x**4 - 16*x**3*legendre(3, x) + 12*x**2*legendre(2, x) - 16*x**2*legendre(4, x) + 140*x**2 + 16*x*legendre(1, x) + 28*x*legendre(3, x) + 8*legendre(0, x) - 48*legendre(2, x) + 8*legendre(4, x) - 35)/(13440*(x**4 - 2*x**2 + 1)))"
      },
      {
       "output_type": "stream",
       "stream": "stdout",
       "text": "\n(4, -3, sqrt(-x**2 + 1)*(35*x**7 - 105*x**5 - 8*x**3*legendre(4, x) + 105*x**3 + 16*x**2*legendre(3, x) - 12*x*legendre(2, x) + 8*x*legendre(4, x) - 35*x + 8*legendre(1, x) - 12*legendre(3, x))/(1680*(x**4 - 2*x**2 + 1)))"
      },
      {
       "output_type": "stream",
       "stream": "stdout",
       "text": "\n(4, -2, (105*x**6 - 225*x**4 - 24*x**2*legendre(4, x) + 135*x**2 + 40*x*legendre(3, x) - 24*legendre(2, x) + 8*legendre(4, x) - 15)/(720*(x**2 - 1)))"
      },
      {
       "output_type": "stream",
       "stream": "stdout",
       "text": "\n(4, -1, sqrt(-x**2 + 1)*(-35*x**5 + 50*x**3 + 8*x*legendre(4, x) - 15*x - 8*legendre(3, x))/(40*(x**2 - 1)))\n(4, 0, 0)\n(4, 1, sqrt(-x**2 + 1)*(35*x**5 - 50*x**3 - 8*x*legendre(4, x) + 15*x + 8*legendre(3, x))/(2*(x**2 - 1)))"
      },
      {
       "output_type": "stream",
       "stream": "stdout",
       "text": "\n(4, 2, (105*x**6 - 225*x**4 - 24*x**2*legendre(4, x) + 135*x**2 + 40*x*legendre(3, x) - 24*legendre(2, x) + 8*legendre(4, x) - 15)/(2*(x**2 - 1)))"
      },
      {
       "output_type": "stream",
       "stream": "stdout",
       "text": "\n(4, 3, 3*sqrt(-x**2 + 1)*(-35*x**7 + 105*x**5 + 8*x**3*legendre(4, x) - 105*x**3 - 16*x**2*legendre(3, x) + 12*x*legendre(2, x) - 8*x*legendre(4, x) + 35*x - 8*legendre(1, x) + 12*legendre(3, x))/(x**4 - 2*x**2 + 1))"
      },
      {
       "output_type": "stream",
       "stream": "stdout",
       "text": "\n(4, 4, 3*(-35*x**8 + 140*x**6 + 8*x**4*legendre(4, x) - 210*x**4 - 16*x**3*legendre(3, x) + 12*x**2*legendre(2, x) - 16*x**2*legendre(4, x) + 140*x**2 + 16*x*legendre(1, x) + 28*x*legendre(3, x) + 8*legendre(0, x) - 48*legendre(2, x) + 8*legendre(4, x) - 35)/(x**4 - 2*x**2 + 1))"
      },
      {
       "output_type": "stream",
       "stream": "stdout",
       "text": ""
      }
     ],
     "prompt_number": 68
    },
    {
     "cell_type": "code",
     "collapsed": false,
     "input": "P11 = assoc_legendre(1,1,x)\nP11",
     "language": "python",
     "outputs": [
      {
       "output_type": "pyout",
       "png": "[encoded data removed]",
       "prompt_number": 69,
       "text": "\n    __________\n   \u2571    2     \n-\u2572\u2571  - x  + 1 "
      }
     ],
     "prompt_number": 69
    },
    {
     "cell_type": "code",
     "collapsed": false,
     "input": "assoc_legendre(1,-1,x)",
     "language": "python",
     "outputs": [
      {
       "output_type": "pyout",
       "png": "[encoded data removed]",
       "prompt_number": 70,
       "text": "\n   __________\n  \u2571    2     \n\u2572\u2571  - x  + 1 \n\u2500\u2500\u2500\u2500\u2500\u2500\u2500\u2500\u2500\u2500\u2500\u2500\u2500\n      2      "
      }
     ],
     "prompt_number": 70
    },
    {
     "cell_type": "code",
     "collapsed": false,
     "input": "-P11/2",
     "language": "python",
     "outputs": [
      {
       "output_type": "pyout",
       "png": "[encoded data removed]",
       "prompt_number": 71,
       "text": "\n   __________\n  \u2571    2     \n\u2572\u2571  - x  + 1 \n\u2500\u2500\u2500\u2500\u2500\u2500\u2500\u2500\u2500\u2500\u2500\u2500\u2500\n      2      "
      }
     ],
     "prompt_number": 71
    },
    {
     "cell_type": "code",
     "collapsed": false,
     "input": "simplify(assoc_legendre(n, l, x) + assoc_legendre(n, -l, x))",
     "language": "python",
     "outputs": [
      {
       "output_type": "pyout",
       "png": "[encoded data removed]",
       "prompt_number": 72,
       "text": "\n\u239b    l                     \u239e                        \n\u239d(-1) \u22c5(-l + n)! + (l + n)!\u23a0\u22c5assoc_legendre(n, l, x)\n\u2500\u2500\u2500\u2500\u2500\u2500\u2500\u2500\u2500\u2500\u2500\u2500\u2500\u2500\u2500\u2500\u2500\u2500\u2500\u2500\u2500\u2500\u2500\u2500\u2500\u2500\u2500\u2500\u2500\u2500\u2500\u2500\u2500\u2500\u2500\u2500\u2500\u2500\u2500\u2500\u2500\u2500\u2500\u2500\u2500\u2500\u2500\u2500\u2500\u2500\u2500\u2500\n                      (l + n)!                      "
      }
     ],
     "prompt_number": 72
    },
    {
     "cell_type": "code",
     "collapsed": false,
     "input": "dl = diff(legendre(n,x),x)\ndl",
     "language": "python",
     "outputs": [
      {
       "output_type": "pyout",
       "png": "[encoded data removed]",
       "prompt_number": 73,
       "text": "\nn\u22c5(x\u22c5legendre(n, x) - legendre(n - 1, x))\n\u2500\u2500\u2500\u2500\u2500\u2500\u2500\u2500\u2500\u2500\u2500\u2500\u2500\u2500\u2500\u2500\u2500\u2500\u2500\u2500\u2500\u2500\u2500\u2500\u2500\u2500\u2500\u2500\u2500\u2500\u2500\u2500\u2500\u2500\u2500\u2500\u2500\u2500\u2500\u2500\u2500\n                   2                     \n                  x  - 1                 "
      }
     ],
     "prompt_number": 73
    },
    {
     "cell_type": "code",
     "collapsed": false,
     "input": "# Takes long time but works\n#integrate(dl, x)",
     "language": "python",
     "outputs": [],
     "prompt_number": 74
    },
    {
     "cell_type": "code",
     "collapsed": true,
     "input": "dlm = diff(legendre(m,x),x)\ndln = diff(legendre(n,x),x)",
     "language": "python",
     "outputs": [],
     "prompt_number": 75
    },
    {
     "cell_type": "code",
     "collapsed": true,
     "input": "# Takes an even longer time\n#integrate(dlm*dln, (x, -1,1))",
     "language": "python",
     "outputs": [],
     "prompt_number": 76
    },
    {
     "cell_type": "code",
     "collapsed": false,
     "input": "assoc_legendre(S(3)/4, S(1)/4, x)",
     "language": "python",
     "outputs": [
      {
       "output_type": "pyout",
       "png": "[encoded data removed]",
       "prompt_number": 77,
       "text": "assoc_legendre(3/4, 1/4, x)"
      }
     ],
     "prompt_number": 77
    },
    {
     "cell_type": "code",
     "collapsed": false,
     "input": "expand_func(_)",
     "language": "python",
     "outputs": [
      {
       "output_type": "pyout",
       "png": "[encoded data removed]",
       "prompt_number": 78,
       "text": "assoc_legendre(3/4, 1/4, x)"
      }
     ],
     "prompt_number": 78
    },
    {
     "cell_type": "code",
     "collapsed": false,
     "input": "legendre(10, x)",
     "language": "python",
     "outputs": [
      {
       "output_type": "pyout",
       "png": "[encoded data removed]",
       "prompt_number": 79,
       "text": "legendre(10, x)"
      }
     ],
     "prompt_number": 79
    },
    {
     "cell_type": "code",
     "collapsed": false,
     "input": "expand_func(_)",
     "language": "python",
     "outputs": [
      {
       "output_type": "pyout",
       "png": "[encoded data removed]",
       "prompt_number": 80,
       "text": "\n       10           8          6          4         2      \n46189\u22c5x     109395\u22c5x    45045\u22c5x    15015\u22c5x    3465\u22c5x     63\n\u2500\u2500\u2500\u2500\u2500\u2500\u2500\u2500\u2500 - \u2500\u2500\u2500\u2500\u2500\u2500\u2500\u2500\u2500 + \u2500\u2500\u2500\u2500\u2500\u2500\u2500\u2500 - \u2500\u2500\u2500\u2500\u2500\u2500\u2500\u2500 + \u2500\u2500\u2500\u2500\u2500\u2500\u2500 - \u2500\u2500\u2500\n   256         256        128        128        256     256"
      }
     ],
     "prompt_number": 80
    },
    {
     "cell_type": "code",
     "collapsed": false,
     "input": "factor(_)",
     "language": "python",
     "outputs": [
      {
       "output_type": "pyout",
       "png": "[encoded data removed]",
       "prompt_number": 81,
       "text": "\n       10           8          6          4         2     \n46189\u22c5x   - 109395\u22c5x  + 90090\u22c5x  - 30030\u22c5x  + 3465\u22c5x  - 63\n\u2500\u2500\u2500\u2500\u2500\u2500\u2500\u2500\u2500\u2500\u2500\u2500\u2500\u2500\u2500\u2500\u2500\u2500\u2500\u2500\u2500\u2500\u2500\u2500\u2500\u2500\u2500\u2500\u2500\u2500\u2500\u2500\u2500\u2500\u2500\u2500\u2500\u2500\u2500\u2500\u2500\u2500\u2500\u2500\u2500\u2500\u2500\u2500\u2500\u2500\u2500\u2500\u2500\u2500\u2500\u2500\u2500\u2500\n                           256                            "
      }
     ],
     "prompt_number": 81
    },
    {
     "cell_type": "code",
     "collapsed": false,
     "input": "assoc_legendre(10, 2, x)",
     "language": "python",
     "outputs": [
      {
       "output_type": "pyout",
       "png": "[encoded data removed]",
       "prompt_number": 82,
       "text": "\n           \u239b         8           6           4          2       \u239e\n\u239b   2    \u239e \u239c2078505\u22c5x    765765\u22c5x    675675\u22c5x    45045\u22c5x    3465\u239f\n\u239d- x  + 1\u23a0\u22c5\u239c\u2500\u2500\u2500\u2500\u2500\u2500\u2500\u2500\u2500\u2500 - \u2500\u2500\u2500\u2500\u2500\u2500\u2500\u2500\u2500 + \u2500\u2500\u2500\u2500\u2500\u2500\u2500\u2500\u2500 - \u2500\u2500\u2500\u2500\u2500\u2500\u2500\u2500 + \u2500\u2500\u2500\u2500\u239f\n           \u239d   128           32          64         32      128 \u23a0"
      }
     ],
     "prompt_number": 82
    },
    {
     "cell_type": "code",
     "collapsed": false,
     "input": "factor(_)",
     "language": "python",
     "outputs": [
      {
       "output_type": "pyout",
       "png": "[encoded data removed]",
       "prompt_number": 83,
       "text": "\n                     \u239b      8         6         4        2    \u239e\n-495\u22c5(x - 1)\u22c5(x + 1)\u22c5\u239d4199\u22c5x  - 6188\u22c5x  + 2730\u22c5x  - 364\u22c5x  + 7\u23a0\n\u2500\u2500\u2500\u2500\u2500\u2500\u2500\u2500\u2500\u2500\u2500\u2500\u2500\u2500\u2500\u2500\u2500\u2500\u2500\u2500\u2500\u2500\u2500\u2500\u2500\u2500\u2500\u2500\u2500\u2500\u2500\u2500\u2500\u2500\u2500\u2500\u2500\u2500\u2500\u2500\u2500\u2500\u2500\u2500\u2500\u2500\u2500\u2500\u2500\u2500\u2500\u2500\u2500\u2500\u2500\u2500\u2500\u2500\u2500\u2500\u2500\u2500\u2500\n                              128                              "
      }
     ],
     "prompt_number": 83
    },
    {
     "cell_type": "code",
     "collapsed": false,
     "input": "assoc_legendre(Rational(3,2), Rational(1,2), x)",
     "language": "python",
     "outputs": [
      {
       "output_type": "pyout",
       "png": "[encoded data removed]",
       "prompt_number": 84,
       "text": "assoc_legendre(3/2, 1/2, x)"
      }
     ],
     "prompt_number": 84
    },
    {
     "cell_type": "code",
     "collapsed": false,
     "input": "legendre(S(3)/2, 1.5).evalf()",
     "language": "python",
     "outputs": [
      {
       "output_type": "pyout",
       "png": "[encoded data removed]",
       "prompt_number": 85,
       "text": "2.03434274858116"
      }
     ],
     "prompt_number": 85
    },
    {
     "cell_type": "code",
     "collapsed": false,
     "input": "legendre(S(3)/2+I, 1.5-I).evalf()",
     "language": "python",
     "outputs": [
      {
       "output_type": "pyout",
       "png": "[encoded data removed]",
       "prompt_number": 86,
       "text": "5.20465949508608 + 0.299479454976305\u22c5\u2148"
      }
     ],
     "prompt_number": 86
    },
    {
     "cell_type": "code",
     "collapsed": false,
     "input": "legendre(S(3)/2, 2).evalf(50)",
     "language": "python",
     "outputs": [
      {
       "output_type": "pyout",
       "png": "[encoded data removed]",
       "prompt_number": 87,
       "text": "3.2439396660408049154502287929704557672075154110177"
      }
     ],
     "prompt_number": 87
    },
    {
     "cell_type": "markdown",
     "source": "Different branch cuts!"
    },
    {
     "cell_type": "code",
     "collapsed": false,
     "input": "assoc_legendre(2, 1, x) #type=1",
     "language": "python",
     "outputs": [
      {
       "output_type": "pyout",
       "png": "[encoded data removed]",
       "prompt_number": 88,
       "text": "\n        __________\n       \u2571    2     \n-3\u22c5x\u22c5\u2572\u2571  - x  + 1 "
      }
     ],
     "prompt_number": 88
    },
    {
     "cell_type": "code",
     "collapsed": false,
     "input": "assoc_legendre(2, 1, x) #type=2\n# -3*sqrt(1-z)*z*sqrt(1+z)",
     "language": "python",
     "outputs": [
      {
       "output_type": "pyout",
       "png": "[encoded data removed]",
       "prompt_number": 89,
       "text": "\n        __________\n       \u2571    2     \n-3\u22c5x\u22c5\u2572\u2571  - x  + 1 "
      }
     ],
     "prompt_number": 89
    },
    {
     "cell_type": "code",
     "collapsed": false,
     "input": "assoc_legendre(2, 1, x) #type=3\n# -3(1-z)*z*sqrt(1+z) / sqrt(z-1)",
     "language": "python",
     "outputs": [
      {
       "output_type": "pyout",
       "png": "[encoded data removed]",
       "prompt_number": 90,
       "text": "\n        __________\n       \u2571    2     \n-3\u22c5x\u22c5\u2572\u2571  - x  + 1 "
      }
     ],
     "prompt_number": 90
    },
    {
     "cell_type": "code",
     "collapsed": false,
     "input": "s = series(sin(x), x, n=5)",
     "language": "python",
     "outputs": [],
     "prompt_number": 91
    },
    {
     "cell_type": "code",
     "collapsed": true,
     "input": "s = sin(x) + O(x**5)",
     "language": "python",
     "outputs": [],
     "prompt_number": 92
    },
    {
     "cell_type": "code",
     "collapsed": false,
     "input": "s",
     "language": "python",
     "outputs": [
      {
       "output_type": "pyout",
       "png": "[encoded data removed]",
       "prompt_number": 93,
       "text": "\n          \u239b 5\u239e\nsin(x) + O\u239dx \u23a0"
      }
     ],
     "prompt_number": 93
    },
    {
     "cell_type": "code",
     "collapsed": false,
     "input": "legendre(2, s)",
     "language": "python",
     "outputs": [
      {
       "output_type": "pyout",
       "png": "[encoded data removed]",
       "prompt_number": 94,
       "text": "\n        \u239b             \u239b 5\u239e\u239e\nlegendre\u239d2, sin(x) + O\u239dx \u23a0\u23a0"
      }
     ],
     "prompt_number": 94
    },
    {
     "cell_type": "code",
     "collapsed": false,
     "input": "expand_func(_)",
     "language": "python",
     "outputs": [
      {
       "output_type": "pyout",
       "png": "[encoded data removed]",
       "prompt_number": 95,
       "text": "\n                  2    \n  \u239b          \u239b 5\u239e\u239e     \n3\u22c5\u239dsin(x) + O\u239dx \u23a0\u23a0    1\n\u2500\u2500\u2500\u2500\u2500\u2500\u2500\u2500\u2500\u2500\u2500\u2500\u2500\u2500\u2500\u2500\u2500\u2500\u2500 - \u2500\n         2            2"
      }
     ],
     "prompt_number": 95
    },
    {
     "cell_type": "code",
     "collapsed": false,
     "input": "expand(_)",
     "language": "python",
     "outputs": [
      {
       "output_type": "pyout",
       "png": "[encoded data removed]",
       "prompt_number": 96,
       "text": "\n           2           \n  1   3\u22c5sin (x)    \u239b 6\u239e\n- \u2500 + \u2500\u2500\u2500\u2500\u2500\u2500\u2500\u2500\u2500 + O\u239dx \u23a0\n  2       2            "
      }
     ],
     "prompt_number": 96
    },
    {
     "cell_type": "code",
     "collapsed": false,
     "input": "assoc_legendre(S(3)/2, S(1)/2, s)",
     "language": "python",
     "outputs": [
      {
       "output_type": "pyout",
       "png": "[encoded data removed]",
       "prompt_number": 97,
       "text": "\n              \u239b                    \u239b 5\u239e\u239e\nassoc_legendre\u239d3/2, 1/2, sin(x) + O\u239dx \u23a0\u23a0"
      }
     ],
     "prompt_number": 97
    },
    {
     "cell_type": "code",
     "collapsed": false,
     "input": "expand_func(_)",
     "language": "python",
     "outputs": [
      {
       "output_type": "pyout",
       "png": "[encoded data removed]",
       "prompt_number": 98,
       "text": "\n              \u239b                    \u239b 5\u239e\u239e\nassoc_legendre\u239d3/2, 1/2, sin(x) + O\u239dx \u23a0\u23a0"
      }
     ],
     "prompt_number": 98
    },
    {
     "cell_type": "code",
     "collapsed": false,
     "input": "1+x**2+O(x**3)",
     "language": "python",
     "outputs": [
      {
       "output_type": "pyout",
       "png": "[encoded data removed]",
       "prompt_number": 99,
       "text": "\n     2    \u239b 3\u239e\n1 + x  + O\u239dx \u23a0"
      }
     ],
     "prompt_number": 99
    },
    {
     "cell_type": "code",
     "collapsed": false,
     "input": "_**2",
     "language": "python",
     "outputs": [
      {
       "output_type": "pyout",
       "png": "[encoded data removed]",
       "prompt_number": 100,
       "text": "\n                2\n\u239b     2    \u239b 3\u239e\u239e \n\u239d1 + x  + O\u239dx \u23a0\u23a0 "
      }
     ],
     "prompt_number": 100
    },
    {
     "cell_type": "code",
     "collapsed": false,
     "input": "expand(_)",
     "language": "python",
     "outputs": [
      {
       "output_type": "pyout",
       "png": "[encoded data removed]",
       "prompt_number": 101,
       "text": "\n       2    \u239b 3\u239e\n1 + 2\u22c5x  + O\u239dx \u23a0"
      }
     ],
     "prompt_number": 101
    },
    {
     "cell_type": "code",
     "collapsed": false,
     "input": "# Takes long time\n#integrate(legendre(n, x)*sin(pi*x), (x, -1, 1))",
     "language": "python",
     "outputs": [],
     "prompt_number": 102
    },
    {
     "cell_type": "code",
     "collapsed": true,
     "input": "",
     "language": "python",
     "outputs": []
    }
   ]
  }
 ]
}