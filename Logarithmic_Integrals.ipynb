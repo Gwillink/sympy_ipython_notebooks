{
 "metadata": {
  "name": "Logarithmic_Integrals"
 },
 "nbformat": 3,
 "nbformat_minor": 0,
 "worksheets": [
  {
   "cells": [
    {
     "cell_type": "code",
     "collapsed": false,
     "input": "from sympy import *",
     "language": "python",
     "metadata": {},
     "outputs": [],
     "prompt_number": 1
    },
    {
     "cell_type": "code",
     "collapsed": false,
     "input": "x = Symbol(\"x\")",
     "language": "python",
     "metadata": {},
     "outputs": [],
     "prompt_number": 2
    },
    {
     "cell_type": "code",
     "collapsed": false,
     "input": "# Examples taken from:\n# \"INTEGRATION IN FINITE TERMS WITH SPECIAL FUNCTIONS: THE LOGARITHMIC INTEGRAL\"\n# written by G. W. CHERRY\n# published in SIAM J. COMPUT. Vol. 15, No. 1, February 1986",
     "language": "python",
     "metadata": {},
     "outputs": [],
     "prompt_number": 3
    },
    {
     "cell_type": "code",
     "collapsed": false,
     "input": "# Page 1",
     "language": "python",
     "metadata": {},
     "outputs": [],
     "prompt_number": 4
    },
    {
     "cell_type": "code",
     "collapsed": false,
     "input": "# Example 1.1\ni = x/log(x)**2\ni",
     "language": "python",
     "metadata": {},
     "outputs": [
      {
       "output_type": "pyout",
       "prompt_number": 5,
       "text": "x/log(x)**2"
      }
     ],
     "prompt_number": 5
    },
    {
     "cell_type": "code",
     "collapsed": false,
     "input": "I = integrate(i, x)\nI",
     "language": "python",
     "metadata": {},
     "outputs": [
      {
       "output_type": "pyout",
       "prompt_number": 6,
       "text": "-x**2/log(x) + Integral((2*x**3 + 2*x*log(x) + x)/log(x)**2, x)"
      }
     ],
     "prompt_number": 6
    },
    {
     "cell_type": "code",
     "collapsed": false,
     "input": "Ic = 2*li(x**2) - x**2/log(x)\nIc",
     "language": "python",
     "metadata": {},
     "outputs": [
      {
       "output_type": "pyout",
       "prompt_number": 7,
       "text": "-x**2/log(x) + 2*li(x**2)"
      }
     ],
     "prompt_number": 7
    },
    {
     "cell_type": "code",
     "collapsed": false,
     "input": "diff(Ic, x)",
     "language": "python",
     "metadata": {},
     "outputs": [
      {
       "output_type": "pyout",
       "prompt_number": 8,
       "text": "4*x/log(x**2) - 2*x/log(x) + x/log(x)**2"
      }
     ],
     "prompt_number": 8
    },
    {
     "cell_type": "code",
     "collapsed": false,
     "input": "# Page 16",
     "language": "python",
     "metadata": {},
     "outputs": [],
     "prompt_number": 9
    },
    {
     "cell_type": "code",
     "collapsed": false,
     "input": "# Example 5.1\ni = x**3 / log(x**2-1)\ni",
     "language": "python",
     "metadata": {},
     "outputs": [
      {
       "output_type": "pyout",
       "prompt_number": 10,
       "text": "x**3/log(x**2 - 1)"
      }
     ],
     "prompt_number": 10
    },
    {
     "cell_type": "code",
     "collapsed": false,
     "input": "I = integrate(i, x)\nI",
     "language": "python",
     "metadata": {},
     "outputs": [
      {
       "output_type": "pyout",
       "prompt_number": 11,
       "text": "Integral(x**3/log(x**2 - 1), x)"
      }
     ],
     "prompt_number": 11
    },
    {
     "cell_type": "code",
     "collapsed": false,
     "input": "Ic = li(x**4-2*x**2+1)/2 + li(x**2-1)/2\nIc",
     "language": "python",
     "metadata": {},
     "outputs": [
      {
       "output_type": "pyout",
       "prompt_number": 12,
       "text": "li(x**2 - 1)/2 + li(x**4 - 2*x**2 + 1)/2"
      }
     ],
     "prompt_number": 12
    },
    {
     "cell_type": "code",
     "collapsed": false,
     "input": "diff(_, x)",
     "language": "python",
     "metadata": {},
     "outputs": [
      {
       "output_type": "pyout",
       "prompt_number": 13,
       "text": "x/log(x**2 - 1) + (4*x**3 - 4*x)/(2*log(x**4 - 2*x**2 + 1))"
      }
     ],
     "prompt_number": 13
    },
    {
     "cell_type": "code",
     "collapsed": false,
     "input": "# Example 5.2\ni = x**2 / log(x**2-1)\ni",
     "language": "python",
     "metadata": {},
     "outputs": [
      {
       "output_type": "pyout",
       "prompt_number": 14,
       "text": "x**2/log(x**2 - 1)"
      }
     ],
     "prompt_number": 14
    },
    {
     "cell_type": "code",
     "collapsed": false,
     "input": "I = integrate(i, x)\nI",
     "language": "python",
     "metadata": {},
     "outputs": [
      {
       "output_type": "pyout",
       "prompt_number": 15,
       "text": "Integral(x**2/log(x**2 - 1), x)"
      }
     ],
     "prompt_number": 15
    },
    {
     "cell_type": "code",
     "collapsed": false,
     "input": "# No closed form",
     "language": "python",
     "metadata": {},
     "outputs": [],
     "prompt_number": 16
    },
    {
     "cell_type": "code",
     "collapsed": false,
     "input": "# Page 17",
     "language": "python",
     "metadata": {},
     "outputs": [],
     "prompt_number": 17
    },
    {
     "cell_type": "code",
     "collapsed": false,
     "input": "# Example 5.3\ni = (2*x+3)/(3*log(x)+2*x) * exp(log(x)/2+x) + 1/(x+1)*(exp(log(x)/2+x))**2\ni",
     "language": "python",
     "metadata": {},
     "outputs": [
      {
       "output_type": "pyout",
       "prompt_number": 18,
       "text": "sqrt(x)*(2*x + 3)*exp(x)/(2*x + 3*log(x)) + x*exp(2*x)/(x + 1)"
      }
     ],
     "prompt_number": 18
    },
    {
     "cell_type": "code",
     "collapsed": false,
     "input": "I = integrate(i, x)\nI",
     "language": "python",
     "metadata": {},
     "outputs": [
      {
       "output_type": "pyout",
       "prompt_number": 19,
       "text": "Integral(sqrt(x)*(2*x + 3)*exp(x)/(2*x + 3*log(x)) + x*exp(2*x)/(x + 1), x)"
      }
     ],
     "prompt_number": 19
    },
    {
     "cell_type": "code",
     "collapsed": false,
     "input": "# Example 5.3a\ni = (2*x+3)/(3*log(x)+2*x) * exp(log(x)/2+x)\ni",
     "language": "python",
     "metadata": {},
     "outputs": [
      {
       "output_type": "pyout",
       "prompt_number": 20,
       "text": "sqrt(x)*(2*x + 3)*exp(x)/(2*x + 3*log(x))"
      }
     ],
     "prompt_number": 20
    },
    {
     "cell_type": "code",
     "collapsed": false,
     "input": "I = integrate(i, x)\nI",
     "language": "python",
     "metadata": {},
     "outputs": [
      {
       "output_type": "pyout",
       "prompt_number": 21,
       "text": "Integral(sqrt(x)*(2*x + 3)*exp(x)/(2*x + 3*log(x)), x)"
      }
     ],
     "prompt_number": 21
    },
    {
     "cell_type": "code",
     "collapsed": false,
     "input": "Ic = li(x*exp(log(x)/2+x))\nIc",
     "language": "python",
     "metadata": {},
     "outputs": [
      {
       "output_type": "pyout",
       "prompt_number": 22,
       "text": "li(x**(3/2)*exp(x))"
      }
     ],
     "prompt_number": 22
    },
    {
     "cell_type": "code",
     "collapsed": false,
     "input": "simplify(diff(Ic, x))",
     "language": "python",
     "metadata": {},
     "outputs": [
      {
       "output_type": "pyout",
       "prompt_number": 23,
       "text": "sqrt(x)*(x + 3/2)*exp(x)/log(x**(3/2)*exp(x))"
      }
     ],
     "prompt_number": 23
    },
    {
     "cell_type": "code",
     "collapsed": false,
     "input": "# Example 5.3b",
     "language": "python",
     "metadata": {},
     "outputs": [],
     "prompt_number": 24
    },
    {
     "cell_type": "code",
     "collapsed": false,
     "input": "i = 1/(x+1)*(exp(log(x)/2+x))**2\ni",
     "language": "python",
     "metadata": {},
     "outputs": [
      {
       "output_type": "pyout",
       "prompt_number": 25,
       "text": "x*exp(2*x)/(x + 1)"
      }
     ],
     "prompt_number": 25
    },
    {
     "cell_type": "code",
     "collapsed": false,
     "input": "I = integrate(i, x)\nI",
     "language": "python",
     "metadata": {},
     "outputs": [
      {
       "output_type": "pyout",
       "prompt_number": 26,
       "text": "Integral(x*exp(2*x)/(x + 1), x)"
      }
     ],
     "prompt_number": 26
    },
    {
     "cell_type": "code",
     "collapsed": false,
     "input": "i = x/(x+1)*exp(2*x)\ni",
     "language": "python",
     "metadata": {},
     "outputs": [
      {
       "output_type": "pyout",
       "prompt_number": 27,
       "text": "x*exp(2*x)/(x + 1)"
      }
     ],
     "prompt_number": 27
    },
    {
     "cell_type": "code",
     "collapsed": false,
     "input": "I = integrate(i, x)\nI",
     "language": "python",
     "metadata": {},
     "outputs": [
      {
       "output_type": "pyout",
       "prompt_number": 28,
       "text": "Integral(x*exp(2*x)/(x + 1), x)"
      }
     ],
     "prompt_number": 28
    },
    {
     "cell_type": "code",
     "collapsed": false,
     "input": "Ic = exp(2*x)/2 - exp(-2)*li(exp(2*x+2))\nIc",
     "language": "python",
     "metadata": {},
     "outputs": [
      {
       "output_type": "pyout",
       "prompt_number": 29,
       "text": "exp(2*x)/2 - exp(-2)*li(exp(2*x + 2))"
      }
     ],
     "prompt_number": 29
    },
    {
     "cell_type": "code",
     "collapsed": false,
     "input": "diff(Ic, x)",
     "language": "python",
     "metadata": {},
     "outputs": [
      {
       "output_type": "pyout",
       "prompt_number": 30,
       "text": "exp(2*x) - 2*exp(-2)*exp(2*x + 2)/log(exp(2*x + 2))"
      }
     ],
     "prompt_number": 30
    },
    {
     "cell_type": "code",
     "collapsed": false,
     "input": "# Page 18",
     "language": "python",
     "metadata": {},
     "outputs": [],
     "prompt_number": 31
    },
    {
     "cell_type": "code",
     "collapsed": false,
     "input": "# Example 5.4\ni = ((2*x**3-x**2-6*x)/(x**2+3*x+2) + (2*x-3)/(log(x)+1)) * exp(x*log(x)+x)\ni",
     "language": "python",
     "metadata": {},
     "outputs": [
      {
       "output_type": "pyout",
       "prompt_number": 32,
       "text": "((2*x - 3)/(log(x) + 1) + (2*x**3 - x**2 - 6*x)/(x**2 + 3*x + 2))*exp(x*log(x) + x)"
      }
     ],
     "prompt_number": 32
    },
    {
     "cell_type": "code",
     "collapsed": false,
     "input": "# Takes forever\n#I = integrate(i, x)",
     "language": "python",
     "metadata": {},
     "outputs": [],
     "prompt_number": 33
    },
    {
     "cell_type": "code",
     "collapsed": false,
     "input": "Ic = -3/exp(1)*li(exp(x*log(x)+x+log(x)+1)) + 2/exp(2)*li(exp(x*log(x)+x+2*log(x)+2))\nIc",
     "language": "python",
     "metadata": {},
     "outputs": [
      {
       "output_type": "pyout",
       "prompt_number": 34,
       "text": "-3*exp(-1)*li(x*exp(x*log(x) + x + 1)) + 2*exp(-2)*li(x**2*exp(x*log(x) + x + 2))"
      }
     ],
     "prompt_number": 34
    },
    {
     "cell_type": "code",
     "collapsed": false,
     "input": "diff(Ic, x)",
     "language": "python",
     "metadata": {},
     "outputs": [
      {
       "output_type": "pyout",
       "prompt_number": 35,
       "text": "-3*(x*(log(x) + 2)*exp(x*log(x) + x + 1) + exp(x*log(x) + x + 1))*exp(-1)/log(x*exp(x*log(x) + x + 1)) + 2*(x**2*(log(x) + 2)*exp(x*log(x) + x + 2) + 2*x*exp(x*log(x) + x + 2))*exp(-2)/log(x**2*exp(x*log(x) + x + 2))"
      }
     ],
     "prompt_number": 35
    },
    {
     "cell_type": "code",
     "collapsed": false,
     "input": "# Page 19",
     "language": "python",
     "metadata": {},
     "outputs": [],
     "prompt_number": 36
    },
    {
     "cell_type": "code",
     "collapsed": false,
     "input": "# Example 6\ni = cos(x)**2 / x**3\ni",
     "language": "python",
     "metadata": {},
     "outputs": [
      {
       "output_type": "pyout",
       "prompt_number": 37,
       "text": "cos(x)**2/x**3"
      }
     ],
     "prompt_number": 37
    },
    {
     "cell_type": "code",
     "collapsed": false,
     "input": "I = integrate(i, x)\nI",
     "language": "python",
     "metadata": {},
     "outputs": [
      {
       "output_type": "pyout",
       "prompt_number": 38,
       "text": "Integral(cos(x)**2/x**3, x)"
      }
     ],
     "prompt_number": 38
    },
    {
     "cell_type": "code",
     "collapsed": false,
     "input": "Ic = -Ci(2*x) + sin(2*x)/(2*x) - cos(2*x)/(4*x**2) - 1/(4*x**2)\nIc",
     "language": "python",
     "metadata": {},
     "outputs": [
      {
       "output_type": "pyout",
       "prompt_number": 39,
       "text": "-Ci(2*x) + sin(2*x)/(2*x) - cos(2*x)/(4*x**2) - 1/(4*x**2)"
      }
     ],
     "prompt_number": 39
    },
    {
     "cell_type": "code",
     "collapsed": false,
     "input": "diff(Ic, x)",
     "language": "python",
     "metadata": {},
     "outputs": [
      {
       "output_type": "pyout",
       "prompt_number": 40,
       "text": "cos(2*x)/(2*x**3) + 1/(2*x**3)"
      }
     ],
     "prompt_number": 40
    },
    {
     "cell_type": "code",
     "collapsed": false,
     "input": "# Appendix",
     "language": "python",
     "metadata": {},
     "outputs": [],
     "prompt_number": 41
    },
    {
     "cell_type": "code",
     "collapsed": false,
     "input": "# Example d1 (same as 1.1)\ni = x/log(x)**2\ni",
     "language": "python",
     "metadata": {},
     "outputs": [
      {
       "output_type": "pyout",
       "prompt_number": 42,
       "text": "x/log(x)**2"
      }
     ],
     "prompt_number": 42
    },
    {
     "cell_type": "code",
     "collapsed": false,
     "input": "I = integrate(i, x)\nI",
     "language": "python",
     "metadata": {},
     "outputs": [
      {
       "output_type": "pyout",
       "prompt_number": 43,
       "text": "-x**2/log(x) + Integral((2*x**3 + 2*x*log(x) + x)/log(x)**2, x)"
      }
     ],
     "prompt_number": 43
    },
    {
     "cell_type": "code",
     "collapsed": false,
     "input": "# Example d2\ni = 1/(log(x)+3)\ni",
     "language": "python",
     "metadata": {},
     "outputs": [
      {
       "output_type": "pyout",
       "prompt_number": 44,
       "text": "1/(log(x) + 3)"
      }
     ],
     "prompt_number": 44
    },
    {
     "cell_type": "code",
     "collapsed": false,
     "input": "I = integrate(i, x)\nI",
     "language": "python",
     "metadata": {},
     "outputs": [
      {
       "output_type": "pyout",
       "prompt_number": 45,
       "text": "Integral(1/(log(x) + 3), x)"
      }
     ],
     "prompt_number": 45
    },
    {
     "cell_type": "code",
     "collapsed": false,
     "input": "Ic = exp(-3)*li(exp(3)*x)",
     "language": "python",
     "metadata": {},
     "outputs": [],
     "prompt_number": 46
    },
    {
     "cell_type": "code",
     "collapsed": false,
     "input": "diff(Ic, x)",
     "language": "python",
     "metadata": {},
     "outputs": [
      {
       "output_type": "pyout",
       "prompt_number": 47,
       "text": "1/log(x*exp(3))"
      }
     ],
     "prompt_number": 47
    },
    {
     "cell_type": "code",
     "collapsed": false,
     "input": "# Example d3\ni = x**2 / log(x+1)\ni",
     "language": "python",
     "metadata": {},
     "outputs": [
      {
       "output_type": "pyout",
       "prompt_number": 48,
       "text": "x**2/log(x + 1)"
      }
     ],
     "prompt_number": 48
    },
    {
     "cell_type": "code",
     "collapsed": false,
     "input": "I = integrate(i, x)\nI",
     "language": "python",
     "metadata": {},
     "outputs": [
      {
       "output_type": "pyout",
       "prompt_number": 49,
       "text": "Integral(x**2/log(x + 1), x)"
      }
     ],
     "prompt_number": 49
    },
    {
     "cell_type": "code",
     "collapsed": false,
     "input": "Ic = li(x**3+3*x**2+3*x+1) - 2*li(x**2+2*x+1) + li(x+1)\nIc",
     "language": "python",
     "metadata": {},
     "outputs": [
      {
       "output_type": "pyout",
       "prompt_number": 50,
       "text": "li(x + 1) - 2*li(x**2 + 2*x + 1) + li(x**3 + 3*x**2 + 3*x + 1)"
      }
     ],
     "prompt_number": 50
    },
    {
     "cell_type": "code",
     "collapsed": false,
     "input": "diff(Ic, x)",
     "language": "python",
     "metadata": {},
     "outputs": [
      {
       "output_type": "pyout",
       "prompt_number": 51,
       "text": "-2*(2*x + 2)/log(x**2 + 2*x + 1) + (3*x**2 + 6*x + 3)/log(x**3 + 3*x**2 + 3*x + 1) + 1/log(x + 1)"
      }
     ],
     "prompt_number": 51
    },
    {
     "cell_type": "code",
     "collapsed": false,
     "input": "# Example d4\ni = (log(x)**2+3)/(log(x)**2+3*log(x)+2)\ni",
     "language": "python",
     "metadata": {},
     "outputs": [
      {
       "output_type": "pyout",
       "prompt_number": 52,
       "text": "(log(x)**2 + 3)/(log(x)**2 + 3*log(x) + 2)"
      }
     ],
     "prompt_number": 52
    },
    {
     "cell_type": "code",
     "collapsed": false,
     "input": "I = integrate(i, x)\nI",
     "language": "python",
     "metadata": {},
     "outputs": [
      {
       "output_type": "pyout",
       "prompt_number": 53,
       "text": "Integral((log(x)**2 + 3)/(log(x)**2 + 3*log(x) + 2), x)"
      }
     ],
     "prompt_number": 53
    },
    {
     "cell_type": "code",
     "collapsed": false,
     "input": "Ic = -7*exp(-2)*li(exp(2)*x)+4*exp(-1)*li(exp(1)*x)+x",
     "language": "python",
     "metadata": {},
     "outputs": [],
     "prompt_number": 54
    },
    {
     "cell_type": "code",
     "collapsed": false,
     "input": "diff(Ic, x)",
     "language": "python",
     "metadata": {},
     "outputs": [
      {
       "output_type": "pyout",
       "prompt_number": 55,
       "text": "1 - 7/log(x*exp(2)) + 4/log(E*x)"
      }
     ],
     "prompt_number": 55
    },
    {
     "cell_type": "code",
     "collapsed": false,
     "input": "# Example d5, d6, d7\nI = li(x*exp(x)/log(x))\nI",
     "language": "python",
     "metadata": {},
     "outputs": [
      {
       "output_type": "pyout",
       "prompt_number": 56,
       "text": "li(x*exp(x)/log(x))"
      }
     ],
     "prompt_number": 56
    },
    {
     "cell_type": "code",
     "collapsed": false,
     "input": "i = diff(I, x)\ni",
     "language": "python",
     "metadata": {},
     "outputs": [
      {
       "output_type": "pyout",
       "prompt_number": 57,
       "text": "(x*exp(x)/log(x) + exp(x)/log(x) - exp(x)/log(x)**2)/log(x*exp(x)/log(x))"
      }
     ],
     "prompt_number": 57
    },
    {
     "cell_type": "code",
     "collapsed": false,
     "input": "I = integrate(i, x)\nI",
     "language": "python",
     "metadata": {},
     "outputs": [
      {
       "output_type": "pyout",
       "prompt_number": 58,
       "text": "Integral((x*exp(x)*log(x) + exp(x)*log(x) - exp(x))/(log(x)**2*log(x*exp(x)/log(x))), x)"
      }
     ],
     "prompt_number": 58
    },
    {
     "cell_type": "code",
     "collapsed": false,
     "input": "# Example d8\ni = exp(x)/(x+1)**2\ni",
     "language": "python",
     "metadata": {},
     "outputs": [
      {
       "output_type": "pyout",
       "prompt_number": 59,
       "text": "exp(x)/(x + 1)**2"
      }
     ],
     "prompt_number": 59
    },
    {
     "cell_type": "code",
     "collapsed": false,
     "input": "I = integrate(i, x)\nI",
     "language": "python",
     "metadata": {},
     "outputs": [
      {
       "output_type": "pyout",
       "prompt_number": 60,
       "text": "Integral(exp(x)/(x**2 + 2*x + 1), x)"
      }
     ],
     "prompt_number": 60
    },
    {
     "cell_type": "code",
     "collapsed": false,
     "input": "Ic = exp(-1)*Ei(x+1) - exp(x)/(x+1)",
     "language": "python",
     "metadata": {},
     "outputs": [],
     "prompt_number": 61
    },
    {
     "cell_type": "code",
     "collapsed": false,
     "input": "diff(Ic, x)",
     "language": "python",
     "metadata": {},
     "outputs": [
      {
       "output_type": "pyout",
       "prompt_number": 62,
       "text": "-exp(x)/(x + 1) + exp(-1)*exp(x + 1)/(x + 1) + exp(x)/(x + 1)**2"
      }
     ],
     "prompt_number": 62
    },
    {
     "cell_type": "code",
     "collapsed": false,
     "input": "# Example d9\ni = sin(x)/x\ni",
     "language": "python",
     "metadata": {},
     "outputs": [
      {
       "output_type": "pyout",
       "prompt_number": 63,
       "text": "sin(x)/x"
      }
     ],
     "prompt_number": 63
    },
    {
     "cell_type": "code",
     "collapsed": false,
     "input": "I = integrate(i, x)\nI",
     "language": "python",
     "metadata": {},
     "outputs": [
      {
       "output_type": "pyout",
       "prompt_number": 64,
       "text": "Si(x)"
      }
     ],
     "prompt_number": 64
    },
    {
     "cell_type": "code",
     "collapsed": false,
     "input": "# Example d10 (same as 6)",
     "language": "python",
     "metadata": {},
     "outputs": [],
     "prompt_number": 65
    },
    {
     "cell_type": "code",
     "collapsed": false,
     "input": "i = cos(x)**2/x**3",
     "language": "python",
     "metadata": {},
     "outputs": [],
     "prompt_number": 66
    },
    {
     "cell_type": "code",
     "collapsed": false,
     "input": "I = integrate(i, x)\nI",
     "language": "python",
     "metadata": {},
     "outputs": [
      {
       "output_type": "pyout",
       "prompt_number": 67,
       "text": "Integral(cos(x)**2/x**3, x)"
      }
     ],
     "prompt_number": 67
    },
    {
     "cell_type": "code",
     "collapsed": false,
     "input": "# Example d11\ni = (x**2+3)*exp(x)/(x**2+3*x+2)\ni",
     "language": "python",
     "metadata": {},
     "outputs": [
      {
       "output_type": "pyout",
       "prompt_number": 68,
       "text": "(x**2 + 3)*exp(x)/(x**2 + 3*x + 2)"
      }
     ],
     "prompt_number": 68
    },
    {
     "cell_type": "code",
     "collapsed": false,
     "input": "I = integrate(i, x)\nI",
     "language": "python",
     "metadata": {},
     "outputs": [
      {
       "output_type": "pyout",
       "prompt_number": 69,
       "text": "Integral((x**2*exp(x) + 3*exp(x))/(x**2 + 3*x + 2), x)"
      }
     ],
     "prompt_number": 69
    },
    {
     "cell_type": "code",
     "collapsed": false,
     "input": "Ic = -7*exp(-2)*Ei(x+2) + 4*exp(-1)*Ei(x+1) + exp(x)",
     "language": "python",
     "metadata": {},
     "outputs": [],
     "prompt_number": 70
    },
    {
     "cell_type": "code",
     "collapsed": false,
     "input": "diff(Ic, x)",
     "language": "python",
     "metadata": {},
     "outputs": [
      {
       "output_type": "pyout",
       "prompt_number": 71,
       "text": "exp(x) - 7*exp(-2)*exp(x + 2)/(x + 2) + 4*exp(-1)*exp(x + 1)/(x + 1)"
      }
     ],
     "prompt_number": 71
    },
    {
     "cell_type": "code",
     "collapsed": false,
     "input": "# Example d12\ni = (x**2+1)*exp(x)/(x**2+x+1)\ni",
     "language": "python",
     "metadata": {},
     "outputs": [
      {
       "output_type": "pyout",
       "prompt_number": 72,
       "text": "(x**2 + 1)*exp(x)/(x**2 + x + 1)"
      }
     ],
     "prompt_number": 72
    },
    {
     "cell_type": "code",
     "collapsed": false,
     "input": "I = integrate(i, x)\nI",
     "language": "python",
     "metadata": {},
     "outputs": [
      {
       "output_type": "pyout",
       "prompt_number": 73,
       "text": "Integral((x**2*exp(x) + exp(x))/(x**2 + x + 1), x)"
      }
     ],
     "prompt_number": 73
    },
    {
     "cell_type": "code",
     "collapsed": false,
     "input": "",
     "language": "python",
     "metadata": {},
     "outputs": [],
     "prompt_number": 73
    }
   ],
   "metadata": {}
  }
 ]
}