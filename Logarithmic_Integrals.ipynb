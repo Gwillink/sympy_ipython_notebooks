{
 "metadata": {
  "name": "Logarithmic_Integrals"
 },
 "nbformat": 3,
 "nbformat_minor": 0,
 "worksheets": [
  {
   "cells": [
    {
     "cell_type": "code",
     "collapsed": false,
     "input": "from sympy import *",
     "language": "python",
     "metadata": {},
     "outputs": [],
     "prompt_number": 1
    },
    {
     "cell_type": "code",
     "collapsed": false,
     "input": "x = Symbol(\"x\")",
     "language": "python",
     "metadata": {},
     "outputs": [],
     "prompt_number": 2
    },
    {
     "cell_type": "code",
     "collapsed": false,
     "input": "# Examples taken from:\n# \"INTEGRATION IN FINITE TERMS WITH SPECIAL FUNCTIONS: THE LOGARITHMIC INTEGRAL\"\n# written by G. W. CHERRY\n# published in SIAM J. COMPUT. Vol. 15, No. 1, February 1986",
     "language": "python",
     "metadata": {},
     "outputs": [],
     "prompt_number": 3
    },
    {
     "cell_type": "code",
     "collapsed": false,
     "input": "# Page 1",
     "language": "python",
     "metadata": {},
     "outputs": [],
     "prompt_number": 4
    },
    {
     "cell_type": "code",
     "collapsed": false,
     "input": "integrate(x/log(x)**2, x)",
     "language": "python",
     "metadata": {},
     "outputs": [
      {
       "output_type": "pyout",
       "prompt_number": 5,
       "text": "-x**2/log(x) + Integral((2*x**3 + 2*x*log(x) + x)/log(x)**2, x)"
      }
     ],
     "prompt_number": 5
    },
    {
     "cell_type": "code",
     "collapsed": false,
     "input": "pprint(_)",
     "language": "python",
     "metadata": {},
     "outputs": [
      {
       "output_type": "stream",
       "stream": "stdout",
       "text": "           \u2320                         \n     2     \u23ae    3                    \n    x      \u23ae 2\u22c5x  + 2\u22c5x\u22c5log(x) + x   \n- \u2500\u2500\u2500\u2500\u2500\u2500 + \u23ae \u2500\u2500\u2500\u2500\u2500\u2500\u2500\u2500\u2500\u2500\u2500\u2500\u2500\u2500\u2500\u2500\u2500\u2500\u2500\u2500\u2500 dx\n  log(x)   \u23ae           2             \n           \u23ae        log (x)          \n           \u2321                         \n"
      }
     ],
     "prompt_number": 6
    },
    {
     "cell_type": "code",
     "collapsed": false,
     "input": "# Page 16",
     "language": "python",
     "metadata": {},
     "outputs": [],
     "prompt_number": 7
    },
    {
     "cell_type": "code",
     "collapsed": false,
     "input": "integrate(x**3 / log(x**2-1), x)",
     "language": "python",
     "metadata": {},
     "outputs": [
      {
       "output_type": "pyout",
       "prompt_number": 8,
       "text": "Integral(x**3/log(x**2 - 1), x)"
      }
     ],
     "prompt_number": 8
    },
    {
     "cell_type": "code",
     "collapsed": false,
     "input": "pprint(_)",
     "language": "python",
     "metadata": {},
     "outputs": [
      {
       "output_type": "stream",
       "stream": "stdout",
       "text": "\u2320               \n\u23ae       3       \n\u23ae      x        \n\u23ae \u2500\u2500\u2500\u2500\u2500\u2500\u2500\u2500\u2500\u2500\u2500 dx\n\u23ae    \u239b 2    \u239e   \n\u23ae log\u239dx  - 1\u23a0   \n\u2321               \n"
      }
     ],
     "prompt_number": 9
    },
    {
     "cell_type": "code",
     "collapsed": false,
     "input": "integrate(x**2 / log(x**2-1), x)",
     "language": "python",
     "metadata": {},
     "outputs": [
      {
       "output_type": "pyout",
       "prompt_number": 10,
       "text": "Integral(x**2/log(x**2 - 1), x)"
      }
     ],
     "prompt_number": 10
    },
    {
     "cell_type": "code",
     "collapsed": false,
     "input": "pprint(_)",
     "language": "python",
     "metadata": {},
     "outputs": [
      {
       "output_type": "stream",
       "stream": "stdout",
       "text": "\u2320               \n\u23ae       2       \n\u23ae      x        \n\u23ae \u2500\u2500\u2500\u2500\u2500\u2500\u2500\u2500\u2500\u2500\u2500 dx\n\u23ae    \u239b 2    \u239e   \n\u23ae log\u239dx  - 1\u23a0   \n\u2321               \n"
      }
     ],
     "prompt_number": 11
    },
    {
     "cell_type": "code",
     "collapsed": false,
     "input": "# Page 17",
     "language": "python",
     "metadata": {},
     "outputs": [],
     "prompt_number": 12
    },
    {
     "cell_type": "code",
     "collapsed": false,
     "input": "integrate((2*x+3)/(3*log(x)+2*x) * exp(log(x)/2+x) + 1/(x+1)*(exp(log(x)/2+x))**2, x)",
     "language": "python",
     "metadata": {},
     "outputs": [
      {
       "output_type": "pyout",
       "prompt_number": 13,
       "text": "Integral(sqrt(x)*(2*x + 3)*exp(x)/(2*x + 3*log(x)) + x*exp(2*x)/(x + 1), x)"
      }
     ],
     "prompt_number": 13
    },
    {
     "cell_type": "code",
     "collapsed": false,
     "input": "pprint(_)",
     "language": "python",
     "metadata": {},
     "outputs": [
      {
       "output_type": "stream",
       "stream": "stdout",
       "text": "\u2320                                 \n\u23ae \u239b  ___            x      2\u22c5x\u239e   \n\u23ae \u239c\u2572\u2571 x \u22c5(2\u22c5x + 3)\u22c5\u212f    x\u22c5\u212f   \u239f   \n\u23ae \u239c\u2500\u2500\u2500\u2500\u2500\u2500\u2500\u2500\u2500\u2500\u2500\u2500\u2500\u2500\u2500\u2500\u2500\u2500 + \u2500\u2500\u2500\u2500\u2500\u2500\u239f dx\n\u23ae \u239d  2\u22c5x + 3\u22c5log(x)     x + 1 \u23a0   \n\u2321                                 \n"
      }
     ],
     "prompt_number": 14
    },
    {
     "cell_type": "code",
     "collapsed": false,
     "input": "integrate((2*x+3)/(3*log(x)+2*x) * exp(log(x)/2+x), x)",
     "language": "python",
     "metadata": {},
     "outputs": [
      {
       "output_type": "pyout",
       "prompt_number": 15,
       "text": "Integral(sqrt(x)*(2*x + 3)*exp(x)/(2*x + 3*log(x)), x)"
      }
     ],
     "prompt_number": 15
    },
    {
     "cell_type": "code",
     "collapsed": false,
     "input": "pprint(_)",
     "language": "python",
     "metadata": {},
     "outputs": [
      {
       "output_type": "stream",
       "stream": "stdout",
       "text": "\u2320                      \n\u23ae   ___            x   \n\u23ae \u2572\u2571 x \u22c5(2\u22c5x + 3)\u22c5\u212f    \n\u23ae \u2500\u2500\u2500\u2500\u2500\u2500\u2500\u2500\u2500\u2500\u2500\u2500\u2500\u2500\u2500\u2500\u2500\u2500 dx\n\u23ae   2\u22c5x + 3\u22c5log(x)     \n\u2321                      \n"
      }
     ],
     "prompt_number": 16
    },
    {
     "cell_type": "code",
     "collapsed": false,
     "input": "integrate(1/(x+1)*exp(2*x), x)",
     "language": "python",
     "metadata": {},
     "outputs": [
      {
       "output_type": "pyout",
       "prompt_number": 17,
       "text": "Integral(exp(2*x)/(x + 1), x)"
      }
     ],
     "prompt_number": 17
    },
    {
     "cell_type": "code",
     "collapsed": false,
     "input": "pprint(_)",
     "language": "python",
     "metadata": {},
     "outputs": [
      {
       "output_type": "stream",
       "stream": "stdout",
       "text": "\u2320         \n\u23ae   2\u22c5x   \n\u23ae  \u212f      \n\u23ae \u2500\u2500\u2500\u2500\u2500 dx\n\u23ae x + 1   \n\u2321         \n"
      }
     ],
     "prompt_number": 18
    },
    {
     "cell_type": "code",
     "collapsed": false,
     "input": "# Page 18",
     "language": "python",
     "metadata": {},
     "outputs": [],
     "prompt_number": 19
    },
    {
     "cell_type": "code",
     "collapsed": false,
     "input": "# Takes forever\n#integrate(((2*x**3-x**2-6*x)/(x**2+3*x+2) + (2*x-3)/(log(x)+1)) * exp(x*log(x)+x), x)",
     "language": "python",
     "metadata": {},
     "outputs": [],
     "prompt_number": 20
    },
    {
     "cell_type": "code",
     "collapsed": false,
     "input": "# Page 19",
     "language": "python",
     "metadata": {},
     "outputs": [],
     "prompt_number": 21
    },
    {
     "cell_type": "code",
     "collapsed": false,
     "input": "integrate(cos(x)**2 / x**3, x)",
     "language": "python",
     "metadata": {},
     "outputs": [
      {
       "output_type": "pyout",
       "prompt_number": 22,
       "text": "Integral(cos(x)**2/x**3, x)"
      }
     ],
     "prompt_number": 22
    },
    {
     "cell_type": "code",
     "collapsed": false,
     "input": "pprint(_)",
     "language": "python",
     "metadata": {},
     "outputs": [
      {
       "output_type": "stream",
       "stream": "stdout",
       "text": "\u2320           \n\u23ae    2      \n\u23ae cos (x)   \n\u23ae \u2500\u2500\u2500\u2500\u2500\u2500\u2500 dx\n\u23ae     3     \n\u23ae    x      \n\u2321           \n"
      }
     ],
     "prompt_number": 23
    },
    {
     "cell_type": "code",
     "collapsed": false,
     "input": "# Appendix",
     "language": "python",
     "metadata": {},
     "outputs": [],
     "prompt_number": 24
    },
    {
     "cell_type": "code",
     "collapsed": false,
     "input": "#integrate(x/log(x)**2, x)",
     "language": "python",
     "metadata": {},
     "outputs": [],
     "prompt_number": 25
    },
    {
     "cell_type": "code",
     "collapsed": false,
     "input": "",
     "language": "python",
     "metadata": {},
     "outputs": [],
     "prompt_number": 25
    },
    {
     "cell_type": "code",
     "collapsed": false,
     "input": "integrate(1/(log(x)+3), x)",
     "language": "python",
     "metadata": {},
     "outputs": [
      {
       "output_type": "pyout",
       "prompt_number": 26,
       "text": "Integral(1/(log(x) + 3), x)"
      }
     ],
     "prompt_number": 26
    },
    {
     "cell_type": "code",
     "collapsed": false,
     "input": "pprint(_)",
     "language": "python",
     "metadata": {},
     "outputs": [
      {
       "output_type": "stream",
       "stream": "stdout",
       "text": "\u2320              \n\u23ae     1        \n\u23ae \u2500\u2500\u2500\u2500\u2500\u2500\u2500\u2500\u2500\u2500 dx\n\u23ae log(x) + 3   \n\u2321              \n"
      }
     ],
     "prompt_number": 27
    },
    {
     "cell_type": "code",
     "collapsed": false,
     "input": "",
     "language": "python",
     "metadata": {},
     "outputs": [],
     "prompt_number": 27
    },
    {
     "cell_type": "code",
     "collapsed": false,
     "input": "integrate(x**2 / log(x+1), x)",
     "language": "python",
     "metadata": {},
     "outputs": [
      {
       "output_type": "pyout",
       "prompt_number": 28,
       "text": "Integral(x**2/log(x + 1), x)"
      }
     ],
     "prompt_number": 28
    },
    {
     "cell_type": "code",
     "collapsed": false,
     "input": "pprint(_)",
     "language": "python",
     "metadata": {},
     "outputs": [
      {
       "output_type": "stream",
       "stream": "stdout",
       "text": "\u2320              \n\u23ae      2       \n\u23ae     x        \n\u23ae \u2500\u2500\u2500\u2500\u2500\u2500\u2500\u2500\u2500\u2500 dx\n\u23ae log(x + 1)   \n\u2321              \n"
      }
     ],
     "prompt_number": 29
    },
    {
     "cell_type": "code",
     "collapsed": false,
     "input": "",
     "language": "python",
     "metadata": {},
     "outputs": [],
     "prompt_number": 29
    },
    {
     "cell_type": "code",
     "collapsed": false,
     "input": "integrate((log(x)**2+3)/(log(x)**2+3*log(x)+2), x)",
     "language": "python",
     "metadata": {},
     "outputs": [
      {
       "output_type": "pyout",
       "prompt_number": 30,
       "text": "Integral((log(x)**2 + 3)/(log(x)**2 + 3*log(x) + 2), x)"
      }
     ],
     "prompt_number": 30
    },
    {
     "cell_type": "code",
     "collapsed": false,
     "input": "pprint(_)",
     "language": "python",
     "metadata": {},
     "outputs": [
      {
       "output_type": "stream",
       "stream": "stdout",
       "text": "\u2320                          \n\u23ae         2                \n\u23ae      log (x) + 3         \n\u23ae \u2500\u2500\u2500\u2500\u2500\u2500\u2500\u2500\u2500\u2500\u2500\u2500\u2500\u2500\u2500\u2500\u2500\u2500\u2500\u2500\u2500\u2500 dx\n\u23ae    2                     \n\u23ae log (x) + 3\u22c5log(x) + 2   \n\u2321                          \n"
      }
     ],
     "prompt_number": 31
    },
    {
     "cell_type": "code",
     "collapsed": false,
     "input": "",
     "language": "python",
     "metadata": {},
     "outputs": [],
     "prompt_number": 31
    },
    {
     "cell_type": "code",
     "collapsed": false,
     "input": "li(x*exp(x)/log(x))",
     "language": "python",
     "metadata": {},
     "outputs": [
      {
       "output_type": "pyout",
       "prompt_number": 32,
       "text": "li(x*exp(x)/log(x))"
      }
     ],
     "prompt_number": 32
    },
    {
     "cell_type": "code",
     "collapsed": false,
     "input": "diff(_, x)",
     "language": "python",
     "metadata": {},
     "outputs": [
      {
       "output_type": "pyout",
       "prompt_number": 33,
       "text": "(x*exp(x)/log(x) + exp(x)/log(x) - exp(x)/log(x)**2)/log(x*exp(x)/log(x))"
      }
     ],
     "prompt_number": 33
    },
    {
     "cell_type": "code",
     "collapsed": false,
     "input": "pprint(_)",
     "language": "python",
     "metadata": {},
     "outputs": [
      {
       "output_type": "stream",
       "stream": "stdout",
       "text": "    x       x         x  \n x\u22c5\u212f       \u212f         \u212f   \n\u2500\u2500\u2500\u2500\u2500\u2500 + \u2500\u2500\u2500\u2500\u2500\u2500 - \u2500\u2500\u2500\u2500\u2500\u2500\u2500\nlog(x)   log(x)      2   \n                  log (x)\n\u2500\u2500\u2500\u2500\u2500\u2500\u2500\u2500\u2500\u2500\u2500\u2500\u2500\u2500\u2500\u2500\u2500\u2500\u2500\u2500\u2500\u2500\u2500\u2500\u2500\n          \u239b    x \u239e       \n          \u239c x\u22c5\u212f  \u239f       \n       log\u239c\u2500\u2500\u2500\u2500\u2500\u2500\u239f       \n          \u239dlog(x)\u23a0       \n"
      }
     ],
     "prompt_number": 34
    },
    {
     "cell_type": "code",
     "collapsed": false,
     "input": "integrate(_, x)",
     "language": "python",
     "metadata": {},
     "outputs": [
      {
       "output_type": "pyout",
       "prompt_number": 35,
       "text": "Integral((x*exp(x)*log(x) + exp(x)*log(x) - exp(x))/(log(x)**2*log(x*exp(x)/log(x))), x)"
      }
     ],
     "prompt_number": 35
    },
    {
     "cell_type": "code",
     "collapsed": false,
     "input": "pprint(_)",
     "language": "python",
     "metadata": {},
     "outputs": [
      {
       "output_type": "stream",
       "stream": "stdout",
       "text": "\u2320                                \n\u23ae    x           x           x   \n\u23ae x\u22c5\u212f \u22c5log(x) + \u212f \u22c5log(x) - \u212f    \n\u23ae \u2500\u2500\u2500\u2500\u2500\u2500\u2500\u2500\u2500\u2500\u2500\u2500\u2500\u2500\u2500\u2500\u2500\u2500\u2500\u2500\u2500\u2500\u2500\u2500\u2500\u2500\u2500\u2500 dx\n\u23ae                \u239b    x \u239e        \n\u23ae        2       \u239c x\u22c5\u212f  \u239f        \n\u23ae     log (x)\u22c5log\u239c\u2500\u2500\u2500\u2500\u2500\u2500\u239f        \n\u23ae                \u239dlog(x)\u23a0        \n\u2321                                \n"
      }
     ],
     "prompt_number": 36
    },
    {
     "cell_type": "code",
     "collapsed": false,
     "input": "",
     "language": "python",
     "metadata": {},
     "outputs": [],
     "prompt_number": 36
    },
    {
     "cell_type": "code",
     "collapsed": false,
     "input": "integrate(exp(x)/(x+1)**2, x)",
     "language": "python",
     "metadata": {},
     "outputs": [
      {
       "output_type": "pyout",
       "prompt_number": 37,
       "text": "Integral(exp(x)/(x**2 + 2*x + 1), x)"
      }
     ],
     "prompt_number": 37
    },
    {
     "cell_type": "code",
     "collapsed": false,
     "input": "pprint(_)",
     "language": "python",
     "metadata": {},
     "outputs": [
      {
       "output_type": "stream",
       "stream": "stdout",
       "text": "\u2320                \n\u23ae       x        \n\u23ae      \u212f         \n\u23ae \u2500\u2500\u2500\u2500\u2500\u2500\u2500\u2500\u2500\u2500\u2500\u2500 dx\n\u23ae  2             \n\u23ae x  + 2\u22c5x + 1   \n\u2321                \n"
      }
     ],
     "prompt_number": 38
    },
    {
     "cell_type": "code",
     "collapsed": false,
     "input": "",
     "language": "python",
     "metadata": {},
     "outputs": [],
     "prompt_number": 38
    },
    {
     "cell_type": "code",
     "collapsed": false,
     "input": "integrate(sin(x)/x, x)",
     "language": "python",
     "metadata": {},
     "outputs": [
      {
       "output_type": "pyout",
       "prompt_number": 39,
       "text": "Si(x)"
      }
     ],
     "prompt_number": 39
    },
    {
     "cell_type": "code",
     "collapsed": false,
     "input": "_.rewrite(Ei)",
     "language": "python",
     "metadata": {},
     "outputs": [
      {
       "output_type": "pyout",
       "prompt_number": 40,
       "text": "-I*(-Ei(x*exp_polar(-I*pi/2))/2 + Ei(x*exp_polar(I*pi/2))/2 - I*pi) + pi/2"
      }
     ],
     "prompt_number": 40
    },
    {
     "cell_type": "code",
     "collapsed": false,
     "input": "pprint(_)",
     "language": "python",
     "metadata": {},
     "outputs": [
      {
       "output_type": "stream",
       "stream": "stdout",
       "text": "    \u239b    \u239b   -\u2148\u22c5\u03c0\u239e     \u239b   \u2148\u22c5\u03c0\u239e      \u239e    \n    \u239c    \u239c   \u2500\u2500\u2500\u2500\u239f     \u239c   \u2500\u2500\u2500\u239f      \u239f    \n    \u239c    \u239c    2  \u239f     \u239c    2 \u239f      \u239f    \n    \u239c  Ei\u239dx\u22c5\u212f    \u23a0   Ei\u239dx\u22c5\u212f   \u23a0      \u239f   \u03c0\n- \u2148\u22c5\u239c- \u2500\u2500\u2500\u2500\u2500\u2500\u2500\u2500\u2500\u2500\u2500 + \u2500\u2500\u2500\u2500\u2500\u2500\u2500\u2500\u2500\u2500 - \u2148\u22c5\u03c0\u239f + \u2500\n    \u239d       2            2           \u23a0   2\n"
      }
     ],
     "prompt_number": 41
    },
    {
     "cell_type": "code",
     "collapsed": false,
     "input": "# Well ... :-/",
     "language": "python",
     "metadata": {},
     "outputs": [],
     "prompt_number": 42
    },
    {
     "cell_type": "code",
     "collapsed": false,
     "input": "",
     "language": "python",
     "metadata": {},
     "outputs": [],
     "prompt_number": 42
    },
    {
     "cell_type": "code",
     "collapsed": false,
     "input": "#integrate(cos(x)**2/x**3, x)",
     "language": "python",
     "metadata": {},
     "outputs": [],
     "prompt_number": 43
    },
    {
     "cell_type": "code",
     "collapsed": false,
     "input": "",
     "language": "python",
     "metadata": {},
     "outputs": [],
     "prompt_number": 43
    },
    {
     "cell_type": "code",
     "collapsed": false,
     "input": "integrate((x**2+3)*exp(x)/(x**2+3*x+2), x)",
     "language": "python",
     "metadata": {},
     "outputs": [
      {
       "output_type": "pyout",
       "prompt_number": 44,
       "text": "Integral((x**2*exp(x) + 3*exp(x))/(x**2 + 3*x + 2), x)"
      }
     ],
     "prompt_number": 44
    },
    {
     "cell_type": "code",
     "collapsed": false,
     "input": "pprint(_)",
     "language": "python",
     "metadata": {},
     "outputs": [
      {
       "output_type": "stream",
       "stream": "stdout",
       "text": "\u2320                \n\u23ae  2  x      x   \n\u23ae x \u22c5\u212f  + 3\u22c5\u212f    \n\u23ae \u2500\u2500\u2500\u2500\u2500\u2500\u2500\u2500\u2500\u2500\u2500\u2500 dx\n\u23ae  2             \n\u23ae x  + 3\u22c5x + 2   \n\u2321                \n"
      }
     ],
     "prompt_number": 45
    },
    {
     "cell_type": "code",
     "collapsed": false,
     "input": "",
     "language": "python",
     "metadata": {},
     "outputs": [],
     "prompt_number": 45
    },
    {
     "cell_type": "code",
     "collapsed": false,
     "input": "integrate((x**2+1)*exp(x)/(x**2+x+1), x)",
     "language": "python",
     "metadata": {},
     "outputs": [
      {
       "output_type": "pyout",
       "prompt_number": 46,
       "text": "Integral((x**2*exp(x) + exp(x))/(x**2 + x + 1), x)"
      }
     ],
     "prompt_number": 46
    },
    {
     "cell_type": "code",
     "collapsed": false,
     "input": "pprint(_)",
     "language": "python",
     "metadata": {},
     "outputs": [
      {
       "output_type": "stream",
       "stream": "stdout",
       "text": "\u2320              \n\u23ae  2  x    x   \n\u23ae x \u22c5\u212f  + \u212f    \n\u23ae \u2500\u2500\u2500\u2500\u2500\u2500\u2500\u2500\u2500\u2500 dx\n\u23ae  2           \n\u23ae x  + x + 1   \n\u2321              \n"
      }
     ],
     "prompt_number": 47
    },
    {
     "cell_type": "code",
     "collapsed": false,
     "input": "",
     "language": "python",
     "metadata": {},
     "outputs": [],
     "prompt_number": 47
    }
   ],
   "metadata": {}
  }
 ]
}