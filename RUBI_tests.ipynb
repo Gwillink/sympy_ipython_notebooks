{
 "metadata": {
  "name": "RUBI_tests"
 },
 "name": "RUBI_tests",
 "nbformat": 3,
 "worksheets": [
  {
   "cells": [
    {
     "cell_type": "code",
     "collapsed": true,
     "input": "%load_ext sympyprt",
     "language": "python",
     "outputs": [],
     "prompt_number": 1
    },
    {
     "cell_type": "code",
     "collapsed": true,
     "input": "from sympy import *",
     "language": "python",
     "outputs": [],
     "prompt_number": 2
    },
    {
     "cell_type": "code",
     "collapsed": true,
     "input": "x = Symbol(\"x\")",
     "language": "python",
     "outputs": [],
     "prompt_number": 3
    },
    {
     "cell_type": "code",
     "collapsed": true,
     "input": "a = Symbol(\"a\")\nb = Symbol(\"b\")\nc = Symbol(\"c\")",
     "language": "python",
     "outputs": [],
     "prompt_number": 4
    },
    {
     "cell_type": "code",
     "collapsed": true,
     "input": "m = Symbol(\"m\", integer=True)\nn = Symbol(\"n\", integer=True)\np = Symbol(\"p\", integer=True)",
     "language": "python",
     "outputs": [],
     "prompt_number": 5
    },
    {
     "cell_type": "markdown",
     "source": "All examples taken from Rule-based Mathematics, Indefinite Integration Reduction Rules\nSee, http://www.apmaths.uwo.ca/~arich/\nThe individual integral were part of Rubi 1 as published in \"AlgebraicFunctionHighlights.pdf\""
    },
    {
     "cell_type": "markdown",
     "source": "Integral #1"
    },
    {
     "cell_type": "code",
     "collapsed": false,
     "input": "i = x**(n-1)*(a+b*x**n)**p\ni",
     "language": "python",
     "outputs": [
      {
       "output_type": "pyout",
       "png": "[encoded data removed]",
       "prompt_number": 6,
       "text": "\n                 p\n n - 1 \u239b       n\u239e \nx     \u22c5\u239da + b\u22c5x \u23a0 "
      }
     ],
     "prompt_number": 6
    },
    {
     "cell_type": "code",
     "collapsed": false,
     "input": "#integrate(i, x)\n# Takes forever",
     "language": "python",
     "outputs": [],
     "prompt_number": 7
    },
    {
     "cell_type": "code",
     "collapsed": false,
     "input": "integrate(i, x, meijerg=True)",
     "language": "python",
     "outputs": [
      {
       "output_type": "pyout",
       "png": "[encoded data removed]",
       "prompt_number": 8,
       "text": "\n                     p + 1\n           \u239b       n\u239e     \n  p + 1  n \u239c    b\u22c5x \u239f     \n-a     \u22c5x \u22c5\u239c1 + \u2500\u2500\u2500\u2500\u239f     \n           \u239d     a  \u23a0     \n\u2500\u2500\u2500\u2500\u2500\u2500\u2500\u2500\u2500\u2500\u2500\u2500\u2500\u2500\u2500\u2500\u2500\u2500\u2500\u2500\u2500\u2500\u2500\u2500\u2500\u2500\n     \u239b       n      n\u239e    \n   n\u22c5\u239d- b\u22c5p\u22c5x  - b\u22c5x \u23a0    "
      }
     ],
     "prompt_number": 8
    },
    {
     "cell_type": "markdown",
     "source": "Integral #2"
    },
    {
     "cell_type": "code",
     "collapsed": false,
     "input": "i = x**2 * (a+b*x**3)**20\ni",
     "language": "python",
     "outputs": [
      {
       "output_type": "pyout",
       "png": "[encoded data removed]",
       "prompt_number": 9,
       "text": "\n             20\n 2 \u239b       3\u239e  \nx \u22c5\u239da + b\u22c5x \u23a0  "
      }
     ],
     "prompt_number": 9
    },
    {
     "cell_type": "code",
     "collapsed": false,
     "input": "integrate(i, x)\n# Needlessly expanded",
     "language": "python",
     "outputs": [
      {
       "output_type": "pyout",
       "png": "[encoded data removed]",
       "prompt_number": 10,
       "text": "\n 20  3       19    6        18  2  9                                          \na  \u22c5x    10\u22c5a  \u22c5b\u22c5x    190\u22c5a  \u22c5b \u22c5x        17  3  12        16  4  15   2584\u22c5a\n\u2500\u2500\u2500\u2500\u2500\u2500 + \u2500\u2500\u2500\u2500\u2500\u2500\u2500\u2500\u2500\u2500\u2500 + \u2500\u2500\u2500\u2500\u2500\u2500\u2500\u2500\u2500\u2500\u2500\u2500\u2500 + 95\u22c5a  \u22c5b \u22c5x   + 323\u22c5a  \u22c5b \u22c5x   + \u2500\u2500\u2500\u2500\u2500\u2500\n  3           3              9                                                \n\n15  5  18          14  6  21                            12  8  27          11 \n  \u22c5b \u22c5x     12920\u22c5a  \u22c5b \u22c5x           13  7  24   41990\u22c5a  \u22c5b \u22c5x     16796\u22c5a  \u22c5\n\u2500\u2500\u2500\u2500\u2500\u2500\u2500\u2500\u2500 + \u2500\u2500\u2500\u2500\u2500\u2500\u2500\u2500\u2500\u2500\u2500\u2500\u2500\u2500\u2500\u2500 + 3230\u22c5a  \u22c5b \u22c5x   + \u2500\u2500\u2500\u2500\u2500\u2500\u2500\u2500\u2500\u2500\u2500\u2500\u2500\u2500\u2500\u2500 + \u2500\u2500\u2500\u2500\u2500\u2500\u2500\u2500\u2500\u2500\n 3                 7                                    9                  3  \n\n 9  30          10  10  33          9  11  36                            7  13\nb \u22c5x     16796\u22c5a  \u22c5b  \u22c5x     41990\u22c5a \u22c5b  \u22c5x           8  12  39   12920\u22c5a \u22c5b  \n\u2500\u2500\u2500\u2500\u2500\u2500 + \u2500\u2500\u2500\u2500\u2500\u2500\u2500\u2500\u2500\u2500\u2500\u2500\u2500\u2500\u2500\u2500\u2500 + \u2500\u2500\u2500\u2500\u2500\u2500\u2500\u2500\u2500\u2500\u2500\u2500\u2500\u2500\u2500\u2500 + 3230\u22c5a \u22c5b  \u22c5x   + \u2500\u2500\u2500\u2500\u2500\u2500\u2500\u2500\u2500\u2500\u2500\u2500\n                 3                  9                                    7    \n\n  42         6  14  45                                         3  17  54      \n\u22c5x     2584\u22c5a \u22c5b  \u22c5x          5  15  48       4  16  51   190\u22c5a \u22c5b  \u22c5x     10\u22c5\n\u2500\u2500\u2500\u2500 + \u2500\u2500\u2500\u2500\u2500\u2500\u2500\u2500\u2500\u2500\u2500\u2500\u2500\u2500\u2500 + 323\u22c5a \u22c5b  \u22c5x   + 95\u22c5a \u22c5b  \u22c5x   + \u2500\u2500\u2500\u2500\u2500\u2500\u2500\u2500\u2500\u2500\u2500\u2500\u2500\u2500 + \u2500\u2500\u2500\n              3                                                 9             \n\n 2  18  57      19  60    20  63\na \u22c5b  \u22c5x     a\u22c5b  \u22c5x     b  \u22c5x  \n\u2500\u2500\u2500\u2500\u2500\u2500\u2500\u2500\u2500\u2500 + \u2500\u2500\u2500\u2500\u2500\u2500\u2500\u2500\u2500 + \u2500\u2500\u2500\u2500\u2500\u2500\u2500\n   3             3          63  "
      }
     ],
     "prompt_number": 10
    },
    {
     "cell_type": "code",
     "collapsed": false,
     "input": "#integrate(i, x, meijerg=True)\n# takes forever",
     "language": "python",
     "outputs": [],
     "prompt_number": 11
    },
    {
     "cell_type": "markdown",
     "source": "Integral #3"
    },
    {
     "cell_type": "code",
     "collapsed": false,
     "input": "i = (a*x**2 + b*x**27)**12\ni",
     "language": "python",
     "outputs": [
      {
       "output_type": "pyout",
       "png": "[encoded data removed]",
       "prompt_number": 12,
       "text": "\n              12\n\u239b   2      27\u239e  \n\u239da\u22c5x  + b\u22c5x  \u23a0  "
      }
     ],
     "prompt_number": 12
    },
    {
     "cell_type": "code",
     "collapsed": false,
     "input": "integrate(i, x)\n# Needlessly expanded",
     "language": "python",
     "outputs": [
      {
       "output_type": "pyout",
       "png": "[encoded data removed]",
       "prompt_number": 13,
       "text": "\n 12  25      11    50       10  2  75       9  3  100       8  4  125        7\na  \u22c5x     6\u22c5a  \u22c5b\u22c5x     22\u22c5a  \u22c5b \u22c5x     11\u22c5a \u22c5b \u22c5x      99\u22c5a \u22c5b \u22c5x      132\u22c5a \n\u2500\u2500\u2500\u2500\u2500\u2500\u2500 + \u2500\u2500\u2500\u2500\u2500\u2500\u2500\u2500\u2500\u2500\u2500 + \u2500\u2500\u2500\u2500\u2500\u2500\u2500\u2500\u2500\u2500\u2500\u2500\u2500 + \u2500\u2500\u2500\u2500\u2500\u2500\u2500\u2500\u2500\u2500\u2500\u2500\u2500 + \u2500\u2500\u2500\u2500\u2500\u2500\u2500\u2500\u2500\u2500\u2500\u2500\u2500 + \u2500\u2500\u2500\u2500\u2500\u2500\n   25          25             25              5               25              \n\n  5  150        6  6  175       5  7  200       4  8  225       3  9  250     \n\u22c5b \u22c5x      132\u22c5a \u22c5b \u22c5x      99\u22c5a \u22c5b \u22c5x      11\u22c5a \u22c5b \u22c5x      22\u22c5a \u22c5b \u22c5x      6\u22c5\n\u2500\u2500\u2500\u2500\u2500\u2500\u2500\u2500 + \u2500\u2500\u2500\u2500\u2500\u2500\u2500\u2500\u2500\u2500\u2500\u2500\u2500\u2500 + \u2500\u2500\u2500\u2500\u2500\u2500\u2500\u2500\u2500\u2500\u2500\u2500\u2500 + \u2500\u2500\u2500\u2500\u2500\u2500\u2500\u2500\u2500\u2500\u2500\u2500\u2500 + \u2500\u2500\u2500\u2500\u2500\u2500\u2500\u2500\u2500\u2500\u2500\u2500\u2500 + \u2500\u2500\n25               25               25              5               25          \n\n 2  10  275      11  300    12  325\na \u22c5b  \u22c5x      a\u22c5b  \u22c5x      b  \u22c5x   \n\u2500\u2500\u2500\u2500\u2500\u2500\u2500\u2500\u2500\u2500\u2500 + \u2500\u2500\u2500\u2500\u2500\u2500\u2500\u2500\u2500\u2500 + \u2500\u2500\u2500\u2500\u2500\u2500\u2500\u2500\n    25            25         325   "
      }
     ],
     "prompt_number": 13
    },
    {
     "cell_type": "code",
     "collapsed": false,
     "input": "#integrate(i, x, meijerg=True)",
     "language": "python",
     "outputs": [],
     "prompt_number": 14
    },
    {
     "cell_type": "markdown",
     "source": "Integral #4"
    },
    {
     "cell_type": "code",
     "collapsed": false,
     "input": "i = (2+3*x)**2 * (1+(2+3*x)**3)**5\ni",
     "language": "python",
     "outputs": [
      {
       "output_type": "pyout",
       "png": "[encoded data removed]",
       "prompt_number": 15,
       "text": "\n                           5\n         2 \u239b         3    \u239e \n(3\u22c5x + 2) \u22c5\u239d(3\u22c5x + 2)  + 1\u23a0 "
      }
     ],
     "prompt_number": 15
    },
    {
     "cell_type": "code",
     "collapsed": false,
     "input": "integrate(i, x)\n# Needlessly expanded",
     "language": "python",
     "outputs": [
      {
       "output_type": "pyout",
       "png": "[encoded data removed]",
       "prompt_number": 16,
       "text": "\n          18                                                                  \n14348907\u22c5x               17              16               15               14 \n\u2500\u2500\u2500\u2500\u2500\u2500\u2500\u2500\u2500\u2500\u2500\u2500 + 86093442\u22c5x   + 487862838\u22c5x   + 1736217747\u22c5x   + 4352501790\u22c5x   \n     2                                                                        \n\n                                12                                            \n              13   23815465533\u22c5x                  11                10        \n+ 8169311052\u22c5x   + \u2500\u2500\u2500\u2500\u2500\u2500\u2500\u2500\u2500\u2500\u2500\u2500\u2500\u2500\u2500 + 13794082596\u22c5x   + 12884255604\u22c5x   + 97838\n                          2                                                   \n\n                                                       6                      \n       9               8               7   2492477973\u22c5x               5       \n28810\u22c5x  + 6059135988\u22c5x  + 3055431456\u22c5x  + \u2500\u2500\u2500\u2500\u2500\u2500\u2500\u2500\u2500\u2500\u2500\u2500\u2500 + 405902826\u22c5x  + 1033\n                                                 2                            \n\n                                              \n       4             3            2           \n35750\u22c5x  + 19860147\u22c5x  + 2716254\u22c5x  + 236196\u22c5x\n                                              "
      }
     ],
     "prompt_number": 16
    },
    {
     "cell_type": "code",
     "collapsed": false,
     "input": "integrate(i, x, meijerg=True)",
     "language": "python",
     "outputs": [
      {
       "output_type": "pyout",
       "png": "[encoded data removed]",
       "prompt_number": 17,
       "text": "\n\u2320                                \n\u23ae                            5   \n\u23ae          2 \u239b         3    \u239e    \n\u23ae (3\u22c5x + 2) \u22c5\u239d(3\u22c5x + 2)  + 1\u23a0  dx\n\u2321                                "
      }
     ],
     "prompt_number": 17
    },
    {
     "cell_type": "markdown",
     "source": "Integral #5"
    },
    {
     "cell_type": "code",
     "collapsed": false,
     "input": "i = x**(n-2) / (a+b*x)**n\ni",
     "language": "python",
     "outputs": [
      {
       "output_type": "pyout",
       "png": "[encoded data removed]",
       "prompt_number": 18,
       "text": "\n n - 2          -n\nx     \u22c5(a + b\u22c5x)  "
      }
     ],
     "prompt_number": 18
    },
    {
     "cell_type": "code",
     "collapsed": false,
     "input": "#integrate(i, x)\n# takes forever",
     "language": "python",
     "outputs": [],
     "prompt_number": 19
    },
    {
     "cell_type": "code",
     "collapsed": false,
     "input": "integrate(i, x, meijerg=True)",
     "language": "python",
     "outputs": [
      {
       "output_type": "pyout",
       "png": "[encoded data removed]",
       "prompt_number": 20,
       "text": "\n                            -n + 1         \n -n  n - 1  -n + 1 \u239b a     \u239e               \na  \u22c5a     \u22c5b      \u22c5\u239c\u2500\u2500\u2500 + 1\u239f      \u22c5\u0393(n - 1)\n                   \u239db\u22c5x    \u23a0               \n\u2500\u2500\u2500\u2500\u2500\u2500\u2500\u2500\u2500\u2500\u2500\u2500\u2500\u2500\u2500\u2500\u2500\u2500\u2500\u2500\u2500\u2500\u2500\u2500\u2500\u2500\u2500\u2500\u2500\u2500\u2500\u2500\u2500\u2500\u2500\u2500\u2500\u2500\u2500\u2500\u2500\u2500\u2500\n                    \u0393(n)                   "
      }
     ],
     "prompt_number": 20
    },
    {
     "cell_type": "markdown",
     "source": "Integral #6"
    },
    {
     "cell_type": "code",
     "collapsed": false,
     "input": "i = x**18 / (a+b*x)**20\ni",
     "language": "python",
     "outputs": [
      {
       "output_type": "pyout",
       "png": "[encoded data removed]",
       "prompt_number": 21,
       "text": "\n     18    \n    x      \n\u2500\u2500\u2500\u2500\u2500\u2500\u2500\u2500\u2500\u2500\u2500\n         20\n(a + b\u22c5x)  "
      }
     ],
     "prompt_number": 21
    },
    {
     "cell_type": "code",
     "collapsed": false,
     "input": "integrate(i, x)\n# Needlessly expanded",
     "language": "python",
     "outputs": [
      {
       "output_type": "pyout",
       "png": "[encoded data removed]",
       "prompt_number": 22,
       "text": "\n                             \u239b 18       17            16  2  2        15  3  3\n                            -\u239da   + 19\u22c5a  \u22c5b\u22c5x + 171\u22c5a  \u22c5b \u22c5x  + 969\u22c5a  \u22c5b \u22c5x \n\u2500\u2500\u2500\u2500\u2500\u2500\u2500\u2500\u2500\u2500\u2500\u2500\u2500\u2500\u2500\u2500\u2500\u2500\u2500\u2500\u2500\u2500\u2500\u2500\u2500\u2500\u2500\u2500\u2500\u2500\u2500\u2500\u2500\u2500\u2500\u2500\u2500\u2500\u2500\u2500\u2500\u2500\u2500\u2500\u2500\u2500\u2500\u2500\u2500\u2500\u2500\u2500\u2500\u2500\u2500\u2500\u2500\u2500\u2500\u2500\u2500\u2500\u2500\u2500\u2500\u2500\u2500\u2500\u2500\u2500\u2500\u2500\u2500\u2500\u2500\u2500\u2500\u2500\n    19  19        18  20           17  21  2          16  22  3          15  2\n19\u22c5a  \u22c5b   + 361\u22c5a  \u22c5b  \u22c5x + 3249\u22c5a  \u22c5b  \u22c5x  + 18411\u22c5a  \u22c5b  \u22c5x  + 73644\u22c5a  \u22c5b \n\n         14  4  4          13  5  5          12  6  6          11  7  7       \n + 3876\u22c5a  \u22c5b \u22c5x  + 11628\u22c5a  \u22c5b \u22c5x  + 27132\u22c5a  \u22c5b \u22c5x  + 50388\u22c5a  \u22c5b \u22c5x  + 7558\n\u2500\u2500\u2500\u2500\u2500\u2500\u2500\u2500\u2500\u2500\u2500\u2500\u2500\u2500\u2500\u2500\u2500\u2500\u2500\u2500\u2500\u2500\u2500\u2500\u2500\u2500\u2500\u2500\u2500\u2500\u2500\u2500\u2500\u2500\u2500\u2500\u2500\u2500\u2500\u2500\u2500\u2500\u2500\u2500\u2500\u2500\u2500\u2500\u2500\u2500\u2500\u2500\u2500\u2500\u2500\u2500\u2500\u2500\u2500\u2500\u2500\u2500\u2500\u2500\u2500\u2500\u2500\u2500\u2500\u2500\u2500\u2500\u2500\u2500\u2500\u2500\u2500\u2500\n3  4           14  24  5           13  25  6           12  26  7            11\n \u22c5x  + 220932\u22c5a  \u22c5b  \u22c5x  + 515508\u22c5a  \u22c5b  \u22c5x  + 957372\u22c5a  \u22c5b  \u22c5x  + 1436058\u22c5a  \n\n   10  8  8          9  9  9          8  10  10          7  11  11          6 \n2\u22c5a  \u22c5b \u22c5x  + 92378\u22c5a \u22c5b \u22c5x  + 92378\u22c5a \u22c5b  \u22c5x   + 75582\u22c5a \u22c5b  \u22c5x   + 50388\u22c5a \u22c5\n\u2500\u2500\u2500\u2500\u2500\u2500\u2500\u2500\u2500\u2500\u2500\u2500\u2500\u2500\u2500\u2500\u2500\u2500\u2500\u2500\u2500\u2500\u2500\u2500\u2500\u2500\u2500\u2500\u2500\u2500\u2500\u2500\u2500\u2500\u2500\u2500\u2500\u2500\u2500\u2500\u2500\u2500\u2500\u2500\u2500\u2500\u2500\u2500\u2500\u2500\u2500\u2500\u2500\u2500\u2500\u2500\u2500\u2500\u2500\u2500\u2500\u2500\u2500\u2500\u2500\u2500\u2500\u2500\u2500\u2500\u2500\u2500\u2500\u2500\u2500\u2500\u2500\u2500\n  27  8            10  28  9            9  29  10            8  30  11        \n\u22c5b  \u22c5x  + 1755182\u22c5a  \u22c5b  \u22c5x  + 1755182\u22c5a \u22c5b  \u22c5x   + 1436058\u22c5a \u22c5b  \u22c5x   + 95737\n\n 12  12          5  13  13          4  14  14         3  15  15        2  16  \nb  \u22c5x   + 27132\u22c5a \u22c5b  \u22c5x   + 11628\u22c5a \u22c5b  \u22c5x   + 3876\u22c5a \u22c5b  \u22c5x   + 969\u22c5a \u22c5b  \u22c5x\n\u2500\u2500\u2500\u2500\u2500\u2500\u2500\u2500\u2500\u2500\u2500\u2500\u2500\u2500\u2500\u2500\u2500\u2500\u2500\u2500\u2500\u2500\u2500\u2500\u2500\u2500\u2500\u2500\u2500\u2500\u2500\u2500\u2500\u2500\u2500\u2500\u2500\u2500\u2500\u2500\u2500\u2500\u2500\u2500\u2500\u2500\u2500\u2500\u2500\u2500\u2500\u2500\u2500\u2500\u2500\u2500\u2500\u2500\u2500\u2500\u2500\u2500\u2500\u2500\u2500\u2500\u2500\u2500\u2500\u2500\u2500\u2500\u2500\u2500\u2500\u2500\u2500\u2500\n   7  31  12           6  32  13           5  33  14          4  34  15       \n2\u22c5a \u22c5b  \u22c5x   + 515508\u22c5a \u22c5b  \u22c5x   + 220932\u22c5a \u22c5b  \u22c5x   + 73644\u22c5a \u22c5b  \u22c5x   + 1841\n\n16          17  17       18  18\u239e                           \n   + 171\u22c5a\u22c5b  \u22c5x   + 19\u22c5b  \u22c5x  \u23a0                           \n\u2500\u2500\u2500\u2500\u2500\u2500\u2500\u2500\u2500\u2500\u2500\u2500\u2500\u2500\u2500\u2500\u2500\u2500\u2500\u2500\u2500\u2500\u2500\u2500\u2500\u2500\u2500\u2500\u2500\u2500\u2500\u2500\u2500\u2500\u2500\u2500\u2500\u2500\u2500\u2500\u2500\u2500\u2500\u2500\u2500\u2500\u2500\u2500\u2500\u2500\u2500\u2500\u2500\u2500\u2500\u2500\u2500\u2500\u2500\n   3  35  16         2  36  17          37  18       38  19\n1\u22c5a \u22c5b  \u22c5x   + 3249\u22c5a \u22c5b  \u22c5x   + 361\u22c5a\u22c5b  \u22c5x   + 19\u22c5b  \u22c5x  "
      }
     ],
     "prompt_number": 22
    },
    {
     "cell_type": "code",
     "collapsed": false,
     "input": "integrate(i, x, meijerg=True)",
     "language": "python",
     "outputs": [
      {
       "output_type": "pyout",
       "png": "[encoded data removed]",
       "prompt_number": 23,
       "text": "\n         1          \n\u2500\u2500\u2500\u2500\u2500\u2500\u2500\u2500\u2500\u2500\u2500\u2500\u2500\u2500\u2500\u2500\u2500\u2500\u2500\u2500\n                  19\n      19 \u239b a     \u239e  \n19\u22c5a\u22c5b  \u22c5\u239c\u2500\u2500\u2500 + 1\u239f  \n         \u239db\u22c5x    \u23a0  "
      }
     ],
     "prompt_number": 23
    },
    {
     "cell_type": "markdown",
     "source": "Integral #7"
    },
    {
     "cell_type": "code",
     "collapsed": false,
     "input": "i = x**(n-3) / (a+b*x)**n\ni",
     "language": "python",
     "outputs": [
      {
       "output_type": "pyout",
       "png": "[encoded data removed]",
       "prompt_number": 24,
       "text": "\n n - 3          -n\nx     \u22c5(a + b\u22c5x)  "
      }
     ],
     "prompt_number": 24
    },
    {
     "cell_type": "code",
     "collapsed": false,
     "input": "#integrate(i, x)",
     "language": "python",
     "outputs": [],
     "prompt_number": 25
    },
    {
     "cell_type": "code",
     "collapsed": false,
     "input": "integrate(i, x, meijerg=True)",
     "language": "python",
     "outputs": [
      {
       "output_type": "pyout",
       "png": "[encoded data removed]",
       "prompt_number": 26,
       "text": "\n                              -n + 2                                      -n +\n     n - 2  -n + 2   \u239b a     \u239e                     n - 2  -n + 2 \u239b a     \u239e    \n  a\u22c5a     \u22c5b      \u22c5n\u22c5\u239c\u2500\u2500\u2500 + 1\u239f      \u22c5\u0393(n - 2)   a\u22c5a     \u22c5b      \u22c5\u239c\u2500\u2500\u2500 + 1\u239f    \n                     \u239db\u22c5x    \u23a0                                   \u239db\u22c5x    \u23a0    \n- \u2500\u2500\u2500\u2500\u2500\u2500\u2500\u2500\u2500\u2500\u2500\u2500\u2500\u2500\u2500\u2500\u2500\u2500\u2500\u2500\u2500\u2500\u2500\u2500\u2500\u2500\u2500\u2500\u2500\u2500\u2500\u2500\u2500\u2500\u2500\u2500\u2500\u2500\u2500\u2500\u2500\u2500\u2500 + \u2500\u2500\u2500\u2500\u2500\u2500\u2500\u2500\u2500\u2500\u2500\u2500\u2500\u2500\u2500\u2500\u2500\u2500\u2500\u2500\u2500\u2500\u2500\u2500\u2500\u2500\u2500\u2500\u2500\u2500\n              \u239b     n               \u239e                      \u239b     n            \n              \u239c  a\u22c5a \u22c5\u0393(n)    n     \u239f                      \u239c  a\u22c5a \u22c5\u0393(n)    n  \n          b\u22c5x\u22c5\u239c- \u2500\u2500\u2500\u2500\u2500\u2500\u2500\u2500\u2500 - a \u22c5\u0393(n)\u239f                  b\u22c5x\u22c5\u239c- \u2500\u2500\u2500\u2500\u2500\u2500\u2500\u2500\u2500 - a \u22c5\u0393\n              \u239d     b\u22c5x             \u23a0                      \u239d     b\u22c5x          \n\n 2                                    -n + 2         \n               n - 2  -n + 2 \u239b a     \u239e               \n  \u22c5\u0393(n - 2)   a     \u22c5b      \u22c5\u239c\u2500\u2500\u2500 + 1\u239f      \u22c5\u0393(n - 2)\n                             \u239db\u22c5x    \u23a0               \n\u2500\u2500\u2500\u2500\u2500\u2500\u2500\u2500\u2500\u2500\u2500 - \u2500\u2500\u2500\u2500\u2500\u2500\u2500\u2500\u2500\u2500\u2500\u2500\u2500\u2500\u2500\u2500\u2500\u2500\u2500\u2500\u2500\u2500\u2500\u2500\u2500\u2500\u2500\u2500\u2500\u2500\u2500\u2500\u2500\u2500\u2500\u2500\u2500\u2500\u2500\n   \u239e                        n                        \n   \u239f                     a\u22c5a \u22c5\u0393(n)    n              \n(n)\u239f                   - \u2500\u2500\u2500\u2500\u2500\u2500\u2500\u2500\u2500 - a \u22c5\u0393(n)         \n   \u23a0                        b\u22c5x                      "
      }
     ],
     "prompt_number": 26
    },
    {
     "cell_type": "code",
     "collapsed": false,
     "input": "simplify(_)",
     "language": "python",
     "outputs": [
      {
       "output_type": "pyout",
       "png": "[encoded data removed]",
       "prompt_number": 27,
       "text": "\n                       -n                \n -n           \u239b a     \u239e                  \nb  \u22c5(a + b\u22c5x)\u22c5\u239c\u2500\u2500\u2500 + 1\u239f  \u22c5(a\u22c5n - a + b\u22c5x)\n              \u239db\u22c5x    \u23a0                  \n\u2500\u2500\u2500\u2500\u2500\u2500\u2500\u2500\u2500\u2500\u2500\u2500\u2500\u2500\u2500\u2500\u2500\u2500\u2500\u2500\u2500\u2500\u2500\u2500\u2500\u2500\u2500\u2500\u2500\u2500\u2500\u2500\u2500\u2500\u2500\u2500\u2500\u2500\u2500\u2500\u2500\n           2  2                          \n          a \u22c5x \u22c5(n - 2)\u22c5(n - 1)          "
      }
     ],
     "prompt_number": 27
    },
    {
     "cell_type": "markdown",
     "source": "Integral #8"
    },
    {
     "cell_type": "code",
     "collapsed": false,
     "input": "i = x**17 / (a+b*x)**20\ni",
     "language": "python",
     "outputs": [
      {
       "output_type": "pyout",
       "png": "[encoded data removed]",
       "prompt_number": 28,
       "text": "\n     17    \n    x      \n\u2500\u2500\u2500\u2500\u2500\u2500\u2500\u2500\u2500\u2500\u2500\n         20\n(a + b\u22c5x)  "
      }
     ],
     "prompt_number": 28
    },
    {
     "cell_type": "code",
     "collapsed": false,
     "input": "#integrate(i, x)",
     "language": "python",
     "outputs": [],
     "prompt_number": 29
    },
    {
     "cell_type": "code",
     "collapsed": false,
     "input": "integrate(i, x, meijerg=True)",
     "language": "python",
     "outputs": [
      {
       "output_type": "pyout",
       "png": "[encoded data removed]",
       "prompt_number": 30,
       "text": "\n                          a                                                   \n- \u2500\u2500\u2500\u2500\u2500\u2500\u2500\u2500\u2500\u2500\u2500\u2500\u2500\u2500\u2500\u2500\u2500\u2500\u2500\u2500\u2500\u2500\u2500\u2500\u2500\u2500\u2500\u2500\u2500\u2500\u2500\u2500\u2500\u2500\u2500\u2500\u2500\u2500\u2500\u2500\u2500\u2500\u2500\u2500\u2500\u2500\u2500\u2500\u2500\u2500 - \u2500\u2500\u2500\u2500\u2500\u2500\u2500\u2500\u2500\u2500\u2500\u2500\u2500\u2500\u2500\u2500\u2500\u2500\u2500\u2500\u2500\u2500\u2500\n         \u239b                  18                     \u239e       \u239b                  \n         \u239c   3  17 \u239b a     \u239e                       \u239f       \u239c   3  17 \u239b a     \u239e\n         \u239c  a \u22c5b  \u22c5\u239c\u2500\u2500\u2500 + 1\u239f                     18\u239f       \u239c  a \u22c5b  \u22c5\u239c\u2500\u2500\u2500 + 1\u239f\n         \u239c         \u239db\u22c5x    \u23a0      2  18 \u239b a     \u239e  \u239f       \u239c         \u239db\u22c5x    \u23a0\n  18\u22c5b\u22c5x\u22c5\u239c- \u2500\u2500\u2500\u2500\u2500\u2500\u2500\u2500\u2500\u2500\u2500\u2500\u2500\u2500\u2500\u2500\u2500\u2500 - a \u22c5b  \u22c5\u239c\u2500\u2500\u2500 + 1\u239f  \u239f   342\u22c5\u239c- \u2500\u2500\u2500\u2500\u2500\u2500\u2500\u2500\u2500\u2500\u2500\u2500\u2500\u2500\u2500\u2500\n         \u239d          x                   \u239db\u22c5x    \u23a0  \u23a0       \u239d          x       \n\n1                       \n\u2500\u2500\u2500\u2500\u2500\u2500\u2500\u2500\u2500\u2500\u2500\u2500\u2500\u2500\u2500\u2500\u2500\u2500\u2500\u2500\u2500\u2500\u2500\u2500\n18                     \u239e\n                       \u239f\n                     18\u239f\n      2  18 \u239b a     \u239e  \u239f\n\u2500\u2500 - a \u22c5b  \u22c5\u239c\u2500\u2500\u2500 + 1\u239f  \u239f\n            \u239db\u22c5x    \u23a0  \u23a0"
      }
     ],
     "prompt_number": 30
    },
    {
     "cell_type": "markdown",
     "source": "Integral #9"
    },
    {
     "cell_type": "code",
     "collapsed": false,
     "input": "i = 1/(a+b*x**2)\ni",
     "language": "python",
     "outputs": [
      {
       "output_type": "pyout",
       "png": "[encoded data removed]",
       "prompt_number": 31,
       "text": "\n   1    \n\u2500\u2500\u2500\u2500\u2500\u2500\u2500\u2500\n       2\na + b\u22c5x "
      }
     ],
     "prompt_number": 31
    },
    {
     "cell_type": "code",
     "collapsed": false,
     "input": "integrate(i, x)",
     "language": "python",
     "outputs": [
      {
       "output_type": "pyout",
       "png": "[encoded data removed]",
       "prompt_number": 32,
       "text": "\n      _____    \u239b        _____    \u239e       _____    \u239b      _____    \u239e\n     \u2571  -1     \u239c       \u2571  -1     \u239f      \u2571  -1     \u239c     \u2571  -1     \u239f\n    \u2571  \u2500\u2500\u2500 \u22c5log\u239c- a\u22c5  \u2571  \u2500\u2500\u2500  + x\u239f     \u2571  \u2500\u2500\u2500 \u22c5log\u239ca\u22c5  \u2571  \u2500\u2500\u2500  + x\u239f\n  \u2572\u2571   a\u22c5b     \u239d    \u2572\u2571   a\u22c5b     \u23a0   \u2572\u2571   a\u22c5b     \u239d  \u2572\u2571   a\u22c5b     \u23a0\n- \u2500\u2500\u2500\u2500\u2500\u2500\u2500\u2500\u2500\u2500\u2500\u2500\u2500\u2500\u2500\u2500\u2500\u2500\u2500\u2500\u2500\u2500\u2500\u2500\u2500\u2500\u2500\u2500\u2500\u2500\u2500\u2500 + \u2500\u2500\u2500\u2500\u2500\u2500\u2500\u2500\u2500\u2500\u2500\u2500\u2500\u2500\u2500\u2500\u2500\u2500\u2500\u2500\u2500\u2500\u2500\u2500\u2500\u2500\u2500\u2500\u2500\u2500\n                 2                                 2               "
      }
     ],
     "prompt_number": 32
    },
    {
     "cell_type": "code",
     "collapsed": false,
     "input": "integrate(i, x, meijerg=True)",
     "language": "python",
     "outputs": [
      {
       "output_type": "pyout",
       "png": "[encoded data removed]",
       "prompt_number": 33,
       "text": "\n    \u239b  ___  \u239e\n    \u239c\u2572\u2571 b \u22c5x\u239f\natan\u239c\u2500\u2500\u2500\u2500\u2500\u2500\u2500\u239f\n    \u239c   ___ \u239f\n    \u239d \u2572\u2571 a  \u23a0\n\u2500\u2500\u2500\u2500\u2500\u2500\u2500\u2500\u2500\u2500\u2500\u2500\u2500\n   ___   ___ \n \u2572\u2571 a \u22c5\u2572\u2571 b  "
      }
     ],
     "prompt_number": 33
    },
    {
     "cell_type": "markdown",
     "source": "Integral #10"
    },
    {
     "cell_type": "code",
     "collapsed": false,
     "input": "i = 1/(a-b*x**2)\ni",
     "language": "python",
     "outputs": [
      {
       "output_type": "pyout",
       "png": "[encoded data removed]",
       "prompt_number": 34,
       "text": "\n   1    \n\u2500\u2500\u2500\u2500\u2500\u2500\u2500\u2500\n       2\na - b\u22c5x "
      }
     ],
     "prompt_number": 34
    },
    {
     "cell_type": "code",
     "collapsed": false,
     "input": "integrate(i, x)",
     "language": "python",
     "outputs": [
      {
       "output_type": "pyout",
       "png": "[encoded data removed]",
       "prompt_number": 35,
       "text": "\n      _____    \u239b        _____    \u239e       _____    \u239b      _____    \u239e\n     \u2571  1      \u239c       \u2571  1      \u239f      \u2571  1      \u239c     \u2571  1      \u239f\n    \u2571  \u2500\u2500\u2500 \u22c5log\u239c- a\u22c5  \u2571  \u2500\u2500\u2500  + x\u239f     \u2571  \u2500\u2500\u2500 \u22c5log\u239ca\u22c5  \u2571  \u2500\u2500\u2500  + x\u239f\n  \u2572\u2571   a\u22c5b     \u239d    \u2572\u2571   a\u22c5b     \u23a0   \u2572\u2571   a\u22c5b     \u239d  \u2572\u2571   a\u22c5b     \u23a0\n- \u2500\u2500\u2500\u2500\u2500\u2500\u2500\u2500\u2500\u2500\u2500\u2500\u2500\u2500\u2500\u2500\u2500\u2500\u2500\u2500\u2500\u2500\u2500\u2500\u2500\u2500\u2500\u2500\u2500\u2500\u2500\u2500 + \u2500\u2500\u2500\u2500\u2500\u2500\u2500\u2500\u2500\u2500\u2500\u2500\u2500\u2500\u2500\u2500\u2500\u2500\u2500\u2500\u2500\u2500\u2500\u2500\u2500\u2500\u2500\u2500\u2500\u2500\n                 2                                 2               "
      }
     ],
     "prompt_number": 35
    },
    {
     "cell_type": "code",
     "collapsed": false,
     "input": "integrate(i, x, meijerg=True)",
     "language": "python",
     "outputs": [
      {
       "output_type": "pyout",
       "png": "[encoded data removed]",
       "prompt_number": 36,
       "text": "\n\u23a7     \u239b  ___  \u239e                \n\u23aa     \u239c\u2572\u2571 b \u22c5x\u239f                \n\u23aaacoth\u239c\u2500\u2500\u2500\u2500\u2500\u2500\u2500\u239f                \n\u23aa     \u239c   ___ \u239f      \u2502   2\u2502    \n\u23aa     \u239d \u2572\u2571 a  \u23a0      \u2502b\u22c5x \u2502    \n\u23aa\u2500\u2500\u2500\u2500\u2500\u2500\u2500\u2500\u2500\u2500\u2500\u2500\u2500\u2500  for \u2502\u2500\u2500\u2500\u2500\u2502 > 1\n\u23aa   ___   ___        \u2502 a  \u2502    \n\u23aa \u2572\u2571 a \u22c5\u2572\u2571 b                   \n\u23a8                              \n\u23aa     \u239b  ___  \u239e                \n\u23aa     \u239c\u2572\u2571 b \u22c5x\u239f                \n\u23aaatanh\u239c\u2500\u2500\u2500\u2500\u2500\u2500\u2500\u239f                \n\u23aa     \u239c   ___ \u239f                \n\u23aa     \u239d \u2572\u2571 a  \u23a0                \n\u23aa\u2500\u2500\u2500\u2500\u2500\u2500\u2500\u2500\u2500\u2500\u2500\u2500\u2500\u2500    otherwise   \n\u23aa   ___   ___                  \n\u23a9 \u2572\u2571 a \u22c5\u2572\u2571 b                   "
      }
     ],
     "prompt_number": 36
    },
    {
     "cell_type": "markdown",
     "source": "Integral #11"
    },
    {
     "cell_type": "code",
     "collapsed": false,
     "input": "i = 1/(4+x**2)\ni",
     "language": "python",
     "outputs": [
      {
       "output_type": "pyout",
       "png": "[encoded data removed]",
       "prompt_number": 37,
       "text": "\n  1   \n\u2500\u2500\u2500\u2500\u2500\u2500\n 2    \nx  + 4"
      }
     ],
     "prompt_number": 37
    },
    {
     "cell_type": "code",
     "collapsed": false,
     "input": "integrate(i, x)",
     "language": "python",
     "outputs": [
      {
       "output_type": "pyout",
       "png": "[encoded data removed]",
       "prompt_number": 38,
       "text": "\n    \u239bx\u239e\natan\u239c\u2500\u239f\n    \u239d2\u23a0\n\u2500\u2500\u2500\u2500\u2500\u2500\u2500\n   2   "
      }
     ],
     "prompt_number": 38
    },
    {
     "cell_type": "code",
     "collapsed": false,
     "input": "integrate(i, x, meijerg=True)",
     "language": "python",
     "outputs": [
      {
       "output_type": "pyout",
       "png": "[encoded data removed]",
       "prompt_number": 39,
       "text": "\n    \u239bx\u239e\natan\u239c\u2500\u239f\n    \u239d2\u23a0\n\u2500\u2500\u2500\u2500\u2500\u2500\u2500\n   2   "
      }
     ],
     "prompt_number": 39
    },
    {
     "cell_type": "markdown",
     "source": "Integral #12"
    },
    {
     "cell_type": "code",
     "collapsed": false,
     "input": "i = 1/(4-x**2)\ni",
     "language": "python",
     "outputs": [
      {
       "output_type": "pyout",
       "png": "[encoded data removed]",
       "prompt_number": 40,
       "text": "\n   1    \n\u2500\u2500\u2500\u2500\u2500\u2500\u2500\u2500\n   2    \n- x  + 4"
      }
     ],
     "prompt_number": 40
    },
    {
     "cell_type": "code",
     "collapsed": false,
     "input": "integrate(i, x)",
     "language": "python",
     "outputs": [
      {
       "output_type": "pyout",
       "png": "[encoded data removed]",
       "prompt_number": 41,
       "text": "\n  log(x - 2)   log(x + 2)\n- \u2500\u2500\u2500\u2500\u2500\u2500\u2500\u2500\u2500\u2500 + \u2500\u2500\u2500\u2500\u2500\u2500\u2500\u2500\u2500\u2500\n      4            4     "
      }
     ],
     "prompt_number": 41
    },
    {
     "cell_type": "code",
     "collapsed": false,
     "input": "integrate(i, x, meijerg=True)",
     "language": "python",
     "outputs": [
      {
       "output_type": "pyout",
       "png": "[encoded data removed]",
       "prompt_number": 42,
       "text": "\n\u23a7     \u239bx\u239e              \n\u23aaacoth\u239c\u2500\u239f      \u2502 2\u2502    \n\u23aa     \u239d2\u23a0      \u2502x \u2502    \n\u23aa\u2500\u2500\u2500\u2500\u2500\u2500\u2500\u2500  for \u2500\u2500\u2500\u2500 > 1\n\u23aa   2           4      \n\u23a8                      \n\u23aa     \u239bx\u239e              \n\u23aaatanh\u239c\u2500\u239f              \n\u23aa     \u239d2\u23a0              \n\u23aa\u2500\u2500\u2500\u2500\u2500\u2500\u2500\u2500   otherwise  \n\u23a9   2                  "
      }
     ],
     "prompt_number": 42
    },
    {
     "cell_type": "markdown",
     "source": "Integral #13"
    },
    {
     "cell_type": "code",
     "collapsed": false,
     "input": "i = 1/(3+5*x+4*x**2)\ni",
     "language": "python",
     "outputs": [
      {
       "output_type": "pyout",
       "png": "[encoded data removed]",
       "prompt_number": 43,
       "text": "\n      1       \n\u2500\u2500\u2500\u2500\u2500\u2500\u2500\u2500\u2500\u2500\u2500\u2500\u2500\u2500\n   2          \n4\u22c5x  + 5\u22c5x + 3"
      }
     ],
     "prompt_number": 43
    },
    {
     "cell_type": "code",
     "collapsed": false,
     "input": "integrate(i, x)",
     "language": "python",
     "outputs": [
      {
       "output_type": "pyout",
       "png": "[encoded data removed]",
       "prompt_number": 44,
       "text": "\n             \u239b    ____         ____\u239e\n    ____     \u239c8\u22c5\u2572\u2571 23 \u22c5x   5\u22c5\u2572\u2571 23 \u239f\n2\u22c5\u2572\u2571 23 \u22c5atan\u239c\u2500\u2500\u2500\u2500\u2500\u2500\u2500\u2500\u2500\u2500 + \u2500\u2500\u2500\u2500\u2500\u2500\u2500\u2500\u239f\n             \u239d    23          23   \u23a0\n\u2500\u2500\u2500\u2500\u2500\u2500\u2500\u2500\u2500\u2500\u2500\u2500\u2500\u2500\u2500\u2500\u2500\u2500\u2500\u2500\u2500\u2500\u2500\u2500\u2500\u2500\u2500\u2500\u2500\u2500\u2500\u2500\u2500\u2500\u2500\u2500\n                 23                 "
      }
     ],
     "prompt_number": 44
    },
    {
     "cell_type": "code",
     "collapsed": false,
     "input": "integrate(i, x, meijerg=True)",
     "language": "python",
     "outputs": [
      {
       "output_type": "pyout",
       "png": "[encoded data removed]",
       "prompt_number": 45,
       "text": "\n\u2320                  \n\u23ae       1          \n\u23ae \u2500\u2500\u2500\u2500\u2500\u2500\u2500\u2500\u2500\u2500\u2500\u2500\u2500\u2500 dx\n\u23ae    2             \n\u23ae 4\u22c5x  + 5\u22c5x + 3   \n\u2321                  "
      }
     ],
     "prompt_number": 45
    },
    {
     "cell_type": "markdown",
     "source": "Integral #14"
    },
    {
     "cell_type": "code",
     "collapsed": false,
     "input": "i = 1/(3+5*x-4*x**2)\ni",
     "language": "python",
     "outputs": [
      {
       "output_type": "pyout",
       "png": "[encoded data removed]",
       "prompt_number": 46,
       "text": "\n       1        \n\u2500\u2500\u2500\u2500\u2500\u2500\u2500\u2500\u2500\u2500\u2500\u2500\u2500\u2500\u2500\u2500\n     2          \n- 4\u22c5x  + 5\u22c5x + 3"
      }
     ],
     "prompt_number": 46
    },
    {
     "cell_type": "code",
     "collapsed": false,
     "input": "integrate(i, x)",
     "language": "python",
     "outputs": [
      {
       "output_type": "pyout",
       "png": "[encoded data removed]",
       "prompt_number": 47,
       "text": "\n          \u239b          ____\u239e             \u239b      ____    \u239e\n  ____    \u239c    5   \u2572\u2571 73 \u239f     ____    \u239c    \u2572\u2571 73    5\u239f\n\u2572\u2571 73 \u22c5log\u239cx - \u2500 + \u2500\u2500\u2500\u2500\u2500\u2500\u239f   \u2572\u2571 73 \u22c5log\u239cx - \u2500\u2500\u2500\u2500\u2500\u2500 - \u2500\u239f\n          \u239d    8     8   \u23a0             \u239d      8      8\u23a0\n\u2500\u2500\u2500\u2500\u2500\u2500\u2500\u2500\u2500\u2500\u2500\u2500\u2500\u2500\u2500\u2500\u2500\u2500\u2500\u2500\u2500\u2500\u2500\u2500\u2500\u2500 - \u2500\u2500\u2500\u2500\u2500\u2500\u2500\u2500\u2500\u2500\u2500\u2500\u2500\u2500\u2500\u2500\u2500\u2500\u2500\u2500\u2500\u2500\u2500\u2500\u2500\u2500\n            73                           73            "
      }
     ],
     "prompt_number": 47
    },
    {
     "cell_type": "code",
     "collapsed": false,
     "input": "integrate(i, x, meijerg=True)",
     "language": "python",
     "outputs": [
      {
       "output_type": "pyout",
       "png": "[encoded data removed]",
       "prompt_number": 48,
       "text": "\n\u2320                    \n\u23ae        1           \n\u23ae \u2500\u2500\u2500\u2500\u2500\u2500\u2500\u2500\u2500\u2500\u2500\u2500\u2500\u2500\u2500\u2500 dx\n\u23ae      2             \n\u23ae - 4\u22c5x  + 5\u22c5x + 3   \n\u2321                    "
      }
     ],
     "prompt_number": 48
    },
    {
     "cell_type": "markdown",
     "source": "Integral #15"
    },
    {
     "cell_type": "code",
     "collapsed": false,
     "input": "i = x**3 / (1+x**6)\ni",
     "language": "python",
     "outputs": [
      {
       "output_type": "pyout",
       "png": "[encoded data removed]",
       "prompt_number": 49,
       "text": "\n   3  \n  x   \n\u2500\u2500\u2500\u2500\u2500\u2500\n 6    \nx  + 1"
      }
     ],
     "prompt_number": 49
    },
    {
     "cell_type": "code",
     "collapsed": false,
     "input": "integrate(i, x)",
     "language": "python",
     "outputs": [
      {
       "output_type": "pyout",
       "png": "[encoded data removed]",
       "prompt_number": 50,
       "text": "\n                                             \u239b    ___  2     ___\u239e\n                                     ___     \u239c2\u22c5\u2572\u2571 3 \u22c5x    \u2572\u2571 3 \u239f\n     \u239b 2    \u239e      \u239b 4    2    \u239e   \u2572\u2571 3 \u22c5atan\u239c\u2500\u2500\u2500\u2500\u2500\u2500\u2500\u2500\u2500\u2500 - \u2500\u2500\u2500\u2500\u2500\u239f\n  log\u239dx  + 1\u23a0   log\u239dx  - x  + 1\u23a0             \u239d    3          3  \u23a0\n- \u2500\u2500\u2500\u2500\u2500\u2500\u2500\u2500\u2500\u2500\u2500 + \u2500\u2500\u2500\u2500\u2500\u2500\u2500\u2500\u2500\u2500\u2500\u2500\u2500\u2500\u2500\u2500 + \u2500\u2500\u2500\u2500\u2500\u2500\u2500\u2500\u2500\u2500\u2500\u2500\u2500\u2500\u2500\u2500\u2500\u2500\u2500\u2500\u2500\u2500\u2500\u2500\u2500\u2500\u2500\u2500\u2500\u2500\n       6               12                        6               "
      }
     ],
     "prompt_number": 50
    },
    {
     "cell_type": "code",
     "collapsed": false,
     "input": "integrate(i, x, meijerg=True)",
     "language": "python",
     "outputs": [
      {
       "output_type": "pyout",
       "png": "[encoded data removed]",
       "prompt_number": 51,
       "text": "\n                        -2\u22c5\u2148\u22c5\u03c0    \u239b    -2\u22c5\u2148\u22c5\u03c0    \u239e           -10\u22c5\u2148\u22c5\u03c0    \u239b    2\n                        \u2500\u2500\u2500\u2500\u2500\u2500    \u239c    \u2500\u2500\u2500\u2500\u2500\u2500    \u239f           \u2500\u2500\u2500\u2500\u2500\u2500\u2500    \u239c    \u2500\n     \u239b 2    \u239e             3       \u239c 2    3       \u239f              3       \u239c 2   \n  log\u239dx  + 1\u23a0\u22c5\u0393(2/3)   \u212f      \u22c5log\u239dx \u22c5\u212f       + 1\u23a0\u22c5\u0393(2/3)   \u212f       \u22c5log\u239dx \u22c5\u212f \n- \u2500\u2500\u2500\u2500\u2500\u2500\u2500\u2500\u2500\u2500\u2500\u2500\u2500\u2500\u2500\u2500\u2500\u2500 - \u2500\u2500\u2500\u2500\u2500\u2500\u2500\u2500\u2500\u2500\u2500\u2500\u2500\u2500\u2500\u2500\u2500\u2500\u2500\u2500\u2500\u2500\u2500\u2500\u2500\u2500\u2500\u2500\u2500\u2500\u2500\u2500\u2500\u2500 - \u2500\u2500\u2500\u2500\u2500\u2500\u2500\u2500\u2500\u2500\u2500\u2500\u2500\u2500\u2500\u2500\u2500\u2500\n       9\u22c5\u0393(5/3)                     9\u22c5\u0393(5/3)                             9\u22c5\u0393(5\n\n\u22c5\u2148\u22c5\u03c0    \u239e       \n\u2500\u2500\u2500\u2500    \u239f       \n 3      \u239f       \n     + 1\u23a0\u22c5\u0393(2/3)\n\u2500\u2500\u2500\u2500\u2500\u2500\u2500\u2500\u2500\u2500\u2500\u2500\u2500\u2500\u2500\u2500\n/3)             "
      }
     ],
     "prompt_number": 51
    },
    {
     "cell_type": "markdown",
     "source": "Integral #16"
    },
    {
     "cell_type": "code",
     "collapsed": false,
     "input": "i = 1 / (1+x**2+x**4)\ni",
     "language": "python",
     "outputs": [
      {
       "output_type": "pyout",
       "png": "[encoded data removed]",
       "prompt_number": 52,
       "text": "\n     1     \n\u2500\u2500\u2500\u2500\u2500\u2500\u2500\u2500\u2500\u2500\u2500\n 4    2    \nx  + x  + 1"
      }
     ],
     "prompt_number": 52
    },
    {
     "cell_type": "code",
     "collapsed": false,
     "input": "integrate(i, x)",
     "language": "python",
     "outputs": [
      {
       "output_type": "pyout",
       "png": "[encoded data removed]",
       "prompt_number": 53,
       "text": "\n                                                \u239b    ___       ___\u239e           \n                                        ___     \u239c2\u22c5\u2572\u2571 3 \u22c5x   \u2572\u2571 3 \u239f     ___   \n     \u239b 2        \u239e      \u239b 2        \u239e   \u2572\u2571 3 \u22c5atan\u239c\u2500\u2500\u2500\u2500\u2500\u2500\u2500\u2500\u2500 - \u2500\u2500\u2500\u2500\u2500\u239f   \u2572\u2571 3 \u22c5at\n  log\u239dx  - x + 1\u23a0   log\u239dx  + x + 1\u23a0             \u239d    3         3  \u23a0           \n- \u2500\u2500\u2500\u2500\u2500\u2500\u2500\u2500\u2500\u2500\u2500\u2500\u2500\u2500\u2500 + \u2500\u2500\u2500\u2500\u2500\u2500\u2500\u2500\u2500\u2500\u2500\u2500\u2500\u2500\u2500 + \u2500\u2500\u2500\u2500\u2500\u2500\u2500\u2500\u2500\u2500\u2500\u2500\u2500\u2500\u2500\u2500\u2500\u2500\u2500\u2500\u2500\u2500\u2500\u2500\u2500\u2500\u2500\u2500\u2500 + \u2500\u2500\u2500\u2500\u2500\u2500\u2500\u2500\n         4                 4                        6                         \n\n  \u239b    ___       ___\u239e\n  \u239c2\u22c5\u2572\u2571 3 \u22c5x   \u2572\u2571 3 \u239f\nan\u239c\u2500\u2500\u2500\u2500\u2500\u2500\u2500\u2500\u2500 + \u2500\u2500\u2500\u2500\u2500\u239f\n  \u239d    3         3  \u23a0\n\u2500\u2500\u2500\u2500\u2500\u2500\u2500\u2500\u2500\u2500\u2500\u2500\u2500\u2500\u2500\u2500\u2500\u2500\u2500\u2500\u2500\n      6              "
      }
     ],
     "prompt_number": 53
    },
    {
     "cell_type": "code",
     "collapsed": false,
     "input": "integrate(i, x, meijerg=True)",
     "language": "python",
     "outputs": [
      {
       "output_type": "pyout",
       "png": "[encoded data removed]",
       "prompt_number": 54,
       "text": "\n\u2320               \n\u23ae      1        \n\u23ae \u2500\u2500\u2500\u2500\u2500\u2500\u2500\u2500\u2500\u2500\u2500 dx\n\u23ae  4    2       \n\u23ae x  + x  + 1   \n\u2321               "
      }
     ],
     "prompt_number": 54
    },
    {
     "cell_type": "markdown",
     "source": "Integral #17"
    },
    {
     "cell_type": "code",
     "collapsed": false,
     "input": "i = 1 / (x+x**7+x**13)\ni",
     "language": "python",
     "outputs": [
      {
       "output_type": "pyout",
       "png": "[encoded data removed]",
       "prompt_number": 55,
       "text": "\n     1      \n\u2500\u2500\u2500\u2500\u2500\u2500\u2500\u2500\u2500\u2500\u2500\u2500\n 13    7    \nx   + x  + x"
      }
     ],
     "prompt_number": 55
    },
    {
     "cell_type": "code",
     "collapsed": false,
     "input": "integrate(i, x)",
     "language": "python",
     "outputs": [
      {
       "output_type": "pyout",
       "png": "[encoded data removed]",
       "prompt_number": 56,
       "text": "\n                                       \u239b    ___  6     ___\u239e\n                               ___     \u239c2\u22c5\u2572\u2571 3 \u22c5x    \u2572\u2571 3 \u239f\n            \u239b 12    6    \u239e   \u2572\u2571 3 \u22c5atan\u239c\u2500\u2500\u2500\u2500\u2500\u2500\u2500\u2500\u2500\u2500 + \u2500\u2500\u2500\u2500\u2500\u239f\n         log\u239dx   + x  + 1\u23a0             \u239d    3          3  \u23a0\nlog(x) - \u2500\u2500\u2500\u2500\u2500\u2500\u2500\u2500\u2500\u2500\u2500\u2500\u2500\u2500\u2500\u2500\u2500 - \u2500\u2500\u2500\u2500\u2500\u2500\u2500\u2500\u2500\u2500\u2500\u2500\u2500\u2500\u2500\u2500\u2500\u2500\u2500\u2500\u2500\u2500\u2500\u2500\u2500\u2500\u2500\u2500\u2500\u2500\n                 12                        18              "
      }
     ],
     "prompt_number": 56
    },
    {
     "cell_type": "code",
     "collapsed": false,
     "input": "integrate(i, x, meijerg=True)",
     "language": "python",
     "outputs": [
      {
       "output_type": "pyout",
       "png": "[encoded data removed]",
       "prompt_number": 57,
       "text": "\n\u2320                \n\u23ae      1         \n\u23ae \u2500\u2500\u2500\u2500\u2500\u2500\u2500\u2500\u2500\u2500\u2500\u2500 dx\n\u23ae  13    7       \n\u23ae x   + x  + x   \n\u2321                "
      }
     ],
     "prompt_number": 57
    },
    {
     "cell_type": "markdown",
     "source": "Integral #18"
    },
    {
     "cell_type": "code",
     "collapsed": false,
     "input": "i = (x**n)**(-1/n)\ni",
     "language": "python",
     "outputs": [
      {
       "output_type": "pyout",
       "png": "[encoded data removed]",
       "prompt_number": 58,
       "text": "\n    -1\n    \u2500\u2500\n    n \n\u239b n\u239e  \n\u239dx \u23a0  "
      }
     ],
     "prompt_number": 58
    },
    {
     "cell_type": "code",
     "collapsed": false,
     "input": "integrate(i, x)",
     "language": "python",
     "outputs": [
      {
       "output_type": "pyout",
       "png": "[encoded data removed]",
       "prompt_number": 59,
       "text": "\n\u2320          \n\u23ae     -1   \n\u23ae     \u2500\u2500   \n\u23ae     n    \n\u23ae \u239b n\u239e     \n\u23ae \u239dx \u23a0   dx\n\u2321          "
      }
     ],
     "prompt_number": 59
    },
    {
     "cell_type": "code",
     "collapsed": false,
     "input": "integrate(i, x, meijerg=True)",
     "language": "python",
     "outputs": [
      {
       "output_type": "pyout",
       "png": "[encoded data removed]",
       "prompt_number": 60,
       "text": "\n\u2320          \n\u23ae     -1   \n\u23ae     \u2500\u2500   \n\u23ae     n    \n\u23ae \u239b n\u239e     \n\u23ae \u239dx \u23a0   dx\n\u2321          "
      }
     ],
     "prompt_number": 60
    },
    {
     "cell_type": "markdown",
     "source": "Integral #19"
    },
    {
     "cell_type": "code",
     "collapsed": false,
     "input": "i = (x**3)**(-Rational(1,3))\ni",
     "language": "python",
     "outputs": [
      {
       "output_type": "pyout",
       "png": "[encoded data removed]",
       "prompt_number": 61,
       "text": "\n   1   \n\u2500\u2500\u2500\u2500\u2500\u2500\u2500\n   ____\n3 \u2571  3 \n\u2572\u2571  x  "
      }
     ],
     "prompt_number": 61
    },
    {
     "cell_type": "code",
     "collapsed": false,
     "input": "#integrate(i, x)\n# raises _CoeffExpValueError: expr not of form a*x**b: oo",
     "language": "python",
     "outputs": [],
     "prompt_number": 62
    },
    {
     "cell_type": "code",
     "collapsed": false,
     "input": "#integrate(i, x, meijerg=True)\n# same here",
     "language": "python",
     "outputs": [],
     "prompt_number": 63
    },
    {
     "cell_type": "code",
     "collapsed": true,
     "input": "# Maxima returns log(x) because it simplifies i to 1/x!",
     "language": "python",
     "outputs": [],
     "prompt_number": 64
    },
    {
     "cell_type": "markdown",
     "source": "Integral #20"
    },
    {
     "cell_type": "code",
     "collapsed": false,
     "input": "i = (a+b*sqrt(x))**n / sqrt(x)\ni",
     "language": "python",
     "outputs": [
      {
       "output_type": "pyout",
       "png": "[encoded data removed]",
       "prompt_number": 65,
       "text": "\n             n\n\u239b        ___\u239e \n\u239da + b\u22c5\u2572\u2571 x \u23a0 \n\u2500\u2500\u2500\u2500\u2500\u2500\u2500\u2500\u2500\u2500\u2500\u2500\u2500\u2500\n      ___     \n    \u2572\u2571 x      "
      }
     ],
     "prompt_number": 65
    },
    {
     "cell_type": "code",
     "collapsed": false,
     "input": "integrate(i, x)\n# Takes long",
     "language": "python",
     "outputs": [
      {
       "output_type": "pyout",
       "png": "[encoded data removed]",
       "prompt_number": 66,
       "text": "\n                             n + 1\n                \u239b        ___\u239e     \n    n + 1   ___ \u239c    b\u22c5\u2572\u2571 x \u239f     \n-2\u22c5a     \u22c5\u2572\u2571 x \u22c5\u239c1 + \u2500\u2500\u2500\u2500\u2500\u2500\u2500\u239f     \n                \u239d       a   \u23a0     \n\u2500\u2500\u2500\u2500\u2500\u2500\u2500\u2500\u2500\u2500\u2500\u2500\u2500\u2500\u2500\u2500\u2500\u2500\u2500\u2500\u2500\u2500\u2500\u2500\u2500\u2500\u2500\u2500\u2500\u2500\u2500\u2500\u2500\u2500\n              ___       ___       \n      - b\u22c5n\u22c5\u2572\u2571 x  - b\u22c5\u2572\u2571 x        "
      }
     ],
     "prompt_number": 66
    },
    {
     "cell_type": "code",
     "collapsed": false,
     "input": "integrate(i, x, meijerg=True)\n# Much faster",
     "language": "python",
     "outputs": [
      {
       "output_type": "pyout",
       "png": "[encoded data removed]",
       "prompt_number": 67,
       "text": "\n                             n + 1\n                \u239b        ___\u239e     \n    n + 1   ___ \u239c    b\u22c5\u2572\u2571 x \u239f     \n-2\u22c5a     \u22c5\u2572\u2571 x \u22c5\u239c1 + \u2500\u2500\u2500\u2500\u2500\u2500\u2500\u239f     \n                \u239d       a   \u23a0     \n\u2500\u2500\u2500\u2500\u2500\u2500\u2500\u2500\u2500\u2500\u2500\u2500\u2500\u2500\u2500\u2500\u2500\u2500\u2500\u2500\u2500\u2500\u2500\u2500\u2500\u2500\u2500\u2500\u2500\u2500\u2500\u2500\u2500\u2500\n              ___       ___       \n      - b\u22c5n\u22c5\u2572\u2571 x  - b\u22c5\u2572\u2571 x        "
      }
     ],
     "prompt_number": 67
    },
    {
     "cell_type": "markdown",
     "source": "Integral #21"
    },
    {
     "cell_type": "code",
     "collapsed": false,
     "input": "i = (a+b*sqrt(x))**20 / sqrt(x)\ni",
     "language": "python",
     "outputs": [
      {
       "output_type": "pyout",
       "png": "[encoded data removed]",
       "prompt_number": 68,
       "text": "\n             20\n\u239b        ___\u239e  \n\u239da + b\u22c5\u2572\u2571 x \u23a0  \n\u2500\u2500\u2500\u2500\u2500\u2500\u2500\u2500\u2500\u2500\u2500\u2500\u2500\u2500\u2500\n       ___     \n     \u2572\u2571 x      "
      }
     ],
     "prompt_number": 68
    },
    {
     "cell_type": "code",
     "collapsed": false,
     "input": "integrate(i, x)",
     "language": "python",
     "outputs": [
      {
       "output_type": "pyout",
       "png": "[encoded data removed]",
       "prompt_number": 69,
       "text": "\n                                18  2  3/2                                    \n   20   ___       19       380\u22c5a  \u22c5b \u22c5x           17  3  2         16  4  5/2 \n2\u22c5a  \u22c5\u2572\u2571 x  + 20\u22c5a  \u22c5b\u22c5x + \u2500\u2500\u2500\u2500\u2500\u2500\u2500\u2500\u2500\u2500\u2500\u2500\u2500\u2500\u2500 + 570\u22c5a  \u22c5b \u22c5x  + 1938\u22c5a  \u22c5b \u22c5x    \n                                  3                                           \n\n                          14  6  7/2                            12  8  9/2    \n        15  5  3   77520\u22c5a  \u22c5b \u22c5x             13  7  4   83980\u22c5a  \u22c5b \u22c5x       \n+ 5168\u22c5a  \u22c5b \u22c5x  + \u2500\u2500\u2500\u2500\u2500\u2500\u2500\u2500\u2500\u2500\u2500\u2500\u2500\u2500\u2500\u2500\u2500 + 19380\u22c5a  \u22c5b \u22c5x  + \u2500\u2500\u2500\u2500\u2500\u2500\u2500\u2500\u2500\u2500\u2500\u2500\u2500\u2500\u2500\u2500\u2500 + 3\n                           7                                     3            \n\n                                              9  11  6                        \n      11  9  5          10  10  11/2   83980\u22c5a \u22c5b  \u22c5x           8  12  13/2   \n3592\u22c5a  \u22c5b \u22c5x  + 33592\u22c5a  \u22c5b  \u22c5x     + \u2500\u2500\u2500\u2500\u2500\u2500\u2500\u2500\u2500\u2500\u2500\u2500\u2500\u2500\u2500 + 19380\u22c5a \u22c5b  \u22c5x     + \n                                              3                               \n\n       7  13  7                                                               \n77520\u22c5a \u22c5b  \u22c5x          6  14  15/2         5  15  8        4  16  17/2   380\u22c5\n\u2500\u2500\u2500\u2500\u2500\u2500\u2500\u2500\u2500\u2500\u2500\u2500\u2500\u2500\u2500 + 5168\u22c5a \u22c5b  \u22c5x     + 1938\u22c5a \u22c5b  \u22c5x  + 570\u22c5a \u22c5b  \u22c5x     + \u2500\u2500\u2500\u2500\n       7                                                                      \n\n 3  17  9                                      20  21/2\na \u22c5b  \u22c5x        2  18  19/2        19  10   2\u22c5b  \u22c5x    \n\u2500\u2500\u2500\u2500\u2500\u2500\u2500\u2500\u2500 + 20\u22c5a \u22c5b  \u22c5x     + 2\u22c5a\u22c5b  \u22c5x   + \u2500\u2500\u2500\u2500\u2500\u2500\u2500\u2500\u2500\u2500\u2500\n  3                                              21    "
      }
     ],
     "prompt_number": 69
    },
    {
     "cell_type": "code",
     "collapsed": false,
     "input": "#integrate(i, x, meijerg=True)\n# takes forever",
     "language": "python",
     "outputs": [],
     "prompt_number": 70
    },
    {
     "cell_type": "markdown",
     "source": "Integral #22"
    },
    {
     "cell_type": "code",
     "collapsed": false,
     "input": "i = sqrt((a+b*x**n)/x**2)\ni",
     "language": "python",
     "outputs": [
      {
       "output_type": "pyout",
       "png": "[encoded data removed]",
       "prompt_number": 71,
       "text": "\n      __________\n     \u2571        n \n    \u2571  a + b\u22c5x  \n   \u2571   \u2500\u2500\u2500\u2500\u2500\u2500\u2500\u2500 \n  \u2571        2    \n\u2572\u2571        x     "
      }
     ],
     "prompt_number": 71
    },
    {
     "cell_type": "code",
     "collapsed": false,
     "input": "#integrate(i, x)\n# Takes forever",
     "language": "python",
     "outputs": [],
     "prompt_number": 72
    },
    {
     "cell_type": "code",
     "collapsed": false,
     "input": "integrate(i, x, meijerg=True)",
     "language": "python",
     "outputs": [
      {
       "output_type": "pyout",
       "png": "[encoded data removed]",
       "prompt_number": 73,
       "text": "\n\u2320                    \n\u23ae       __________   \n\u23ae      \u2571        n    \n\u23ae     \u2571  a + b\u22c5x     \n\u23ae    \u2571   \u2500\u2500\u2500\u2500\u2500\u2500\u2500\u2500  dx\n\u23ae   \u2571        2       \n\u23ae \u2572\u2571        x        \n\u2321                    "
      }
     ],
     "prompt_number": 73
    },
    {
     "cell_type": "markdown",
     "source": "Integral #23"
    },
    {
     "cell_type": "code",
     "collapsed": false,
     "input": "i = sqrt((a+b*x**4)/x**2)\ni",
     "language": "python",
     "outputs": [
      {
       "output_type": "pyout",
       "png": "[encoded data removed]",
       "prompt_number": 74,
       "text": "\n      __________\n     \u2571        4 \n    \u2571  a + b\u22c5x  \n   \u2571   \u2500\u2500\u2500\u2500\u2500\u2500\u2500\u2500 \n  \u2571        2    \n\u2572\u2571        x     "
      }
     ],
     "prompt_number": 74
    },
    {
     "cell_type": "code",
     "collapsed": false,
     "input": "#integrate(i, x)\n# Takes forever",
     "language": "python",
     "outputs": [],
     "prompt_number": 75
    },
    {
     "cell_type": "code",
     "collapsed": false,
     "input": "integrate(i, x, meijerg=True)",
     "language": "python",
     "outputs": [
      {
       "output_type": "pyout",
       "png": "[encoded data removed]",
       "prompt_number": 76,
       "text": "\n\u2320                    \n\u23ae       __________   \n\u23ae      \u2571        4    \n\u23ae     \u2571  a + b\u22c5x     \n\u23ae    \u2571   \u2500\u2500\u2500\u2500\u2500\u2500\u2500\u2500  dx\n\u23ae   \u2571        2       \n\u23ae \u2572\u2571        x        \n\u2321                    "
      }
     ],
     "prompt_number": 76
    },
    {
     "cell_type": "markdown",
     "source": "Integral #24"
    },
    {
     "cell_type": "code",
     "collapsed": false,
     "input": "i = sqrt((a+b*x**5)/x**2)\ni",
     "language": "python",
     "outputs": [
      {
       "output_type": "pyout",
       "png": "[encoded data removed]",
       "prompt_number": 77,
       "text": "\n      __________\n     \u2571        5 \n    \u2571  a + b\u22c5x  \n   \u2571   \u2500\u2500\u2500\u2500\u2500\u2500\u2500\u2500 \n  \u2571        2    \n\u2572\u2571        x     "
      }
     ],
     "prompt_number": 77
    },
    {
     "cell_type": "code",
     "collapsed": false,
     "input": "#integrate(i, x)\n# Takes forever",
     "language": "python",
     "outputs": [],
     "prompt_number": 78
    },
    {
     "cell_type": "code",
     "collapsed": false,
     "input": "integrate(i, x, meijerg=True)",
     "language": "python",
     "outputs": [
      {
       "output_type": "pyout",
       "png": "[encoded data removed]",
       "prompt_number": 79,
       "text": "\n\u2320                    \n\u23ae       __________   \n\u23ae      \u2571        5    \n\u23ae     \u2571  a + b\u22c5x     \n\u23ae    \u2571   \u2500\u2500\u2500\u2500\u2500\u2500\u2500\u2500  dx\n\u23ae   \u2571        2       \n\u23ae \u2572\u2571        x        \n\u2321                    "
      }
     ],
     "prompt_number": 79
    },
    {
     "cell_type": "markdown",
     "source": "Integral #25"
    },
    {
     "cell_type": "code",
     "collapsed": false,
     "input": "i = 1/sqrt((a+b*x**n)/x**(n-2))\ni",
     "language": "python",
     "outputs": [
      {
       "output_type": "pyout",
       "png": "[encoded data removed]",
       "prompt_number": 80,
       "text": "\n           1           \n\u2500\u2500\u2500\u2500\u2500\u2500\u2500\u2500\u2500\u2500\u2500\u2500\u2500\u2500\u2500\u2500\u2500\u2500\u2500\u2500\u2500\u2500\u2500\n   ____________________\n  \u2571  -n + 2 \u239b       n\u239e \n\u2572\u2571  x      \u22c5\u239da + b\u22c5x \u23a0 "
      }
     ],
     "prompt_number": 80
    },
    {
     "cell_type": "code",
     "collapsed": false,
     "input": "#integrate(i, x)\n# Takes forever",
     "language": "python",
     "outputs": [],
     "prompt_number": 81
    },
    {
     "cell_type": "code",
     "collapsed": false,
     "input": "integrate(i, x, meijerg=True)",
     "language": "python",
     "outputs": [
      {
       "output_type": "pyout",
       "png": "[encoded data removed]",
       "prompt_number": 82,
       "text": "\n\u2320                           \n\u23ae            1              \n\u23ae \u2500\u2500\u2500\u2500\u2500\u2500\u2500\u2500\u2500\u2500\u2500\u2500\u2500\u2500\u2500\u2500\u2500\u2500\u2500\u2500\u2500\u2500\u2500 dx\n\u23ae    ____________________   \n\u23ae   \u2571  -n + 2 \u239b       n\u239e    \n\u23ae \u2572\u2571  x      \u22c5\u239da + b\u22c5x \u23a0    \n\u2321                           "
      }
     ],
     "prompt_number": 82
    },
    {
     "cell_type": "markdown",
     "source": "Integral #26"
    },
    {
     "cell_type": "code",
     "collapsed": false,
     "input": "i = 1/sqrt((a+b*x**5)/x**3)\ni",
     "language": "python",
     "outputs": [
      {
       "output_type": "pyout",
       "png": "[encoded data removed]",
       "prompt_number": 83,
       "text": "\n       1        \n\u2500\u2500\u2500\u2500\u2500\u2500\u2500\u2500\u2500\u2500\u2500\u2500\u2500\u2500\u2500\u2500\n      __________\n     \u2571        5 \n    \u2571  a + b\u22c5x  \n   \u2571   \u2500\u2500\u2500\u2500\u2500\u2500\u2500\u2500 \n  \u2571        3    \n\u2572\u2571        x     "
      }
     ],
     "prompt_number": 83
    },
    {
     "cell_type": "code",
     "collapsed": false,
     "input": "#integrate(i, x)\n# Takes forever",
     "language": "python",
     "outputs": [],
     "prompt_number": 84
    },
    {
     "cell_type": "code",
     "collapsed": false,
     "input": "integrate(i, x, meijerg=True)",
     "language": "python",
     "outputs": [
      {
       "output_type": "pyout",
       "png": "[encoded data removed]",
       "prompt_number": 85,
       "text": "\n\u2320                    \n\u23ae        1           \n\u23ae \u2500\u2500\u2500\u2500\u2500\u2500\u2500\u2500\u2500\u2500\u2500\u2500\u2500\u2500\u2500\u2500 dx\n\u23ae       __________   \n\u23ae      \u2571        5    \n\u23ae     \u2571  a + b\u22c5x     \n\u23ae    \u2571   \u2500\u2500\u2500\u2500\u2500\u2500\u2500\u2500    \n\u23ae   \u2571        3       \n\u23ae \u2572\u2571        x        \n\u2321                    "
      }
     ],
     "prompt_number": 85
    },
    {
     "cell_type": "markdown",
     "source": "Integral #27"
    },
    {
     "cell_type": "code",
     "collapsed": false,
     "input": "i = 1/(sqrt(1+x)*sqrt(-1+x))\ni",
     "language": "python",
     "outputs": [
      {
       "output_type": "pyout",
       "png": "[encoded data removed]",
       "prompt_number": 86,
       "text": "\n         1         \n\u2500\u2500\u2500\u2500\u2500\u2500\u2500\u2500\u2500\u2500\u2500\u2500\u2500\u2500\u2500\u2500\u2500\u2500\u2500\n  _______   _______\n\u2572\u2571 x - 1 \u22c5\u2572\u2571 x + 1 "
      }
     ],
     "prompt_number": 86
    },
    {
     "cell_type": "code",
     "collapsed": false,
     "input": "integrate(i, x)\n# perfect result: acosh(x) !",
     "language": "python",
     "outputs": [
      {
       "output_type": "pyout",
       "png": "[encoded data removed]",
       "prompt_number": 87,
       "text": "\n       \u239b  ___   _______\u239e\n       \u239c\u2572\u2571 2 \u22c5\u2572\u2571 x - 1 \u239f\n2\u22c5asinh\u239c\u2500\u2500\u2500\u2500\u2500\u2500\u2500\u2500\u2500\u2500\u2500\u2500\u2500\u2500\u2500\u239f\n       \u239d       2       \u23a0"
      }
     ],
     "prompt_number": 87
    },
    {
     "cell_type": "code",
     "collapsed": false,
     "input": "integrate(i, x, meijerg=True)",
     "language": "python",
     "outputs": [
      {
       "output_type": "pyout",
       "png": "[encoded data removed]",
       "prompt_number": 88,
       "text": "\n       \u239b  ___   _______\u239e\n       \u239c\u2572\u2571 2 \u22c5\u2572\u2571 x - 1 \u239f\n2\u22c5asinh\u239c\u2500\u2500\u2500\u2500\u2500\u2500\u2500\u2500\u2500\u2500\u2500\u2500\u2500\u2500\u2500\u239f\n       \u239d       2       \u23a0"
      }
     ],
     "prompt_number": 88
    },
    {
     "cell_type": "markdown",
     "source": "Integral #28"
    },
    {
     "cell_type": "code",
     "collapsed": false,
     "input": "i = 1/(sqrt(a+x)*sqrt(b+x))\ni",
     "language": "python",
     "outputs": [
      {
       "output_type": "pyout",
       "png": "[encoded data removed]",
       "prompt_number": 89,
       "text": "\n         1         \n\u2500\u2500\u2500\u2500\u2500\u2500\u2500\u2500\u2500\u2500\u2500\u2500\u2500\u2500\u2500\u2500\u2500\u2500\u2500\n  _______   _______\n\u2572\u2571 a + x \u22c5\u2572\u2571 b + x "
      }
     ],
     "prompt_number": 89
    },
    {
     "cell_type": "code",
     "collapsed": false,
     "input": "integrate(i, x)",
     "language": "python",
     "outputs": [
      {
       "output_type": "pyout",
       "png": "[encoded data removed]",
       "prompt_number": 90,
       "text": "\n       \u239b        _______      \u239e\n       \u239c      \u2572\u2571 b + x       \u239f\n2\u22c5asinh\u239c\u2500\u2500\u2500\u2500\u2500\u2500\u2500\u2500\u2500\u2500\u2500\u2500\u2500\u2500\u2500\u2500\u2500\u2500\u2500\u2500\u2500\u239f\n       \u239c  ___________________\u239f\n       \u239d\u2572\u2571 polar_lift(a - b) \u23a0"
      }
     ],
     "prompt_number": 90
    },
    {
     "cell_type": "code",
     "collapsed": false,
     "input": "integrate(i, x, meijerg=True)",
     "language": "python",
     "outputs": [
      {
       "output_type": "pyout",
       "png": "[encoded data removed]",
       "prompt_number": 91,
       "text": "\n       \u239b        _______      \u239e\n       \u239c      \u2572\u2571 b + x       \u239f\n2\u22c5asinh\u239c\u2500\u2500\u2500\u2500\u2500\u2500\u2500\u2500\u2500\u2500\u2500\u2500\u2500\u2500\u2500\u2500\u2500\u2500\u2500\u2500\u2500\u239f\n       \u239c  ___________________\u239f\n       \u239d\u2572\u2571 polar_lift(a - b) \u23a0"
      }
     ],
     "prompt_number": 91
    },
    {
     "cell_type": "markdown",
     "source": "Integral #29"
    },
    {
     "cell_type": "code",
     "collapsed": false,
     "input": "i = 1/(sqrt(a-x)*sqrt(b+x)) \ni",
     "language": "python",
     "outputs": [
      {
       "output_type": "pyout",
       "png": "[encoded data removed]",
       "prompt_number": 92,
       "text": "\n         1         \n\u2500\u2500\u2500\u2500\u2500\u2500\u2500\u2500\u2500\u2500\u2500\u2500\u2500\u2500\u2500\u2500\u2500\u2500\u2500\n  _______   _______\n\u2572\u2571 a - x \u22c5\u2572\u2571 b + x "
      }
     ],
     "prompt_number": 92
    },
    {
     "cell_type": "code",
     "collapsed": false,
     "input": "integrate(i, x)",
     "language": "python",
     "outputs": [
      {
       "output_type": "pyout",
       "png": "[encoded data removed]",
       "prompt_number": 93,
       "text": "\n          \u239b        ________     \u239e\n          \u239c      \u2572\u2571 -a + x      \u239f\n-2\u22c5\u2148\u22c5asinh\u239c\u2500\u2500\u2500\u2500\u2500\u2500\u2500\u2500\u2500\u2500\u2500\u2500\u2500\u2500\u2500\u2500\u2500\u2500\u2500\u2500\u2500\u239f\n          \u239c  ___________________\u239f\n          \u239d\u2572\u2571 polar_lift(a + b) \u23a0"
      }
     ],
     "prompt_number": 93
    },
    {
     "cell_type": "code",
     "collapsed": false,
     "input": "integrate(i, x, meijerg=True)",
     "language": "python",
     "outputs": [
      {
       "output_type": "pyout",
       "png": "[encoded data removed]",
       "prompt_number": 94,
       "text": "\n          \u239b        ________     \u239e\n          \u239c      \u2572\u2571 -a + x      \u239f\n-2\u22c5\u2148\u22c5asinh\u239c\u2500\u2500\u2500\u2500\u2500\u2500\u2500\u2500\u2500\u2500\u2500\u2500\u2500\u2500\u2500\u2500\u2500\u2500\u2500\u2500\u2500\u239f\n          \u239c  ___________________\u239f\n          \u239d\u2572\u2571 polar_lift(a + b) \u23a0"
      }
     ],
     "prompt_number": 94
    },
    {
     "cell_type": "markdown",
     "source": "Integral #30"
    },
    {
     "cell_type": "code",
     "collapsed": false,
     "input": "i = 1/sqrt((a+x)*(b+x))\ni",
     "language": "python",
     "outputs": [
      {
       "output_type": "pyout",
       "png": "[encoded data removed]",
       "prompt_number": 95,
       "text": "\n         1         \n\u2500\u2500\u2500\u2500\u2500\u2500\u2500\u2500\u2500\u2500\u2500\u2500\u2500\u2500\u2500\u2500\u2500\u2500\u2500\n  _________________\n\u2572\u2571 (a + x)\u22c5(b + x) "
      }
     ],
     "prompt_number": 95
    },
    {
     "cell_type": "code",
     "collapsed": false,
     "input": "#integrate(i, x)\n# Takes forever",
     "language": "python",
     "outputs": [],
     "prompt_number": 96
    },
    {
     "cell_type": "code",
     "collapsed": false,
     "input": "integrate(i, x, meijerg=True)",
     "language": "python",
     "outputs": [
      {
       "output_type": "pyout",
       "png": "[encoded data removed]",
       "prompt_number": 97,
       "text": "\n\u2320                       \n\u23ae          1            \n\u23ae \u2500\u2500\u2500\u2500\u2500\u2500\u2500\u2500\u2500\u2500\u2500\u2500\u2500\u2500\u2500\u2500\u2500\u2500\u2500 dx\n\u23ae   _________________   \n\u23ae \u2572\u2571 (a + x)\u22c5(b + x)    \n\u2321                       "
      }
     ],
     "prompt_number": 97
    },
    {
     "cell_type": "markdown",
     "source": "Integral #31"
    },
    {
     "cell_type": "code",
     "collapsed": false,
     "input": "i = 1/sqrt((a-x)*(b+x))\ni",
     "language": "python",
     "outputs": [
      {
       "output_type": "pyout",
       "png": "[encoded data removed]",
       "prompt_number": 98,
       "text": "\n         1         \n\u2500\u2500\u2500\u2500\u2500\u2500\u2500\u2500\u2500\u2500\u2500\u2500\u2500\u2500\u2500\u2500\u2500\u2500\u2500\n  _________________\n\u2572\u2571 (a - x)\u22c5(b + x) "
      }
     ],
     "prompt_number": 98
    },
    {
     "cell_type": "code",
     "collapsed": false,
     "input": "#integrate(i, x)\n# Tales forever",
     "language": "python",
     "outputs": [],
     "prompt_number": 99
    },
    {
     "cell_type": "code",
     "collapsed": false,
     "input": "integrate(i, x, meijerg=True)",
     "language": "python",
     "outputs": [
      {
       "output_type": "pyout",
       "png": "[encoded data removed]",
       "prompt_number": 100,
       "text": "\n\u2320                       \n\u23ae          1            \n\u23ae \u2500\u2500\u2500\u2500\u2500\u2500\u2500\u2500\u2500\u2500\u2500\u2500\u2500\u2500\u2500\u2500\u2500\u2500\u2500 dx\n\u23ae   _________________   \n\u23ae \u2572\u2571 (a - x)\u22c5(b + x)    \n\u2321                       "
      }
     ],
     "prompt_number": 100
    },
    {
     "cell_type": "markdown",
     "source": "Integral #32"
    },
    {
     "cell_type": "code",
     "collapsed": false,
     "input": "i = (sqrt(1-x)+sqrt(1+x))**2/x\ni",
     "language": "python",
     "outputs": [
      {
       "output_type": "pyout",
       "png": "[encoded data removed]",
       "prompt_number": 101,
       "text": "\n                        2\n\u239b  ________     _______\u239e \n\u239d\u2572\u2571 -x + 1  + \u2572\u2571 x + 1 \u23a0 \n\u2500\u2500\u2500\u2500\u2500\u2500\u2500\u2500\u2500\u2500\u2500\u2500\u2500\u2500\u2500\u2500\u2500\u2500\u2500\u2500\u2500\u2500\u2500\u2500\u2500\n            x            "
      }
     ],
     "prompt_number": 101
    },
    {
     "cell_type": "code",
     "collapsed": false,
     "input": "#integrate(i, x)\n# Raises NotImplementedError: Gammas partially over the strip.",
     "language": "python",
     "outputs": [],
     "prompt_number": 102
    },
    {
     "cell_type": "code",
     "collapsed": false,
     "input": "#integrate(i, x, meijerg=True)\n# Same here",
     "language": "python",
     "outputs": [],
     "prompt_number": 103
    },
    {
     "cell_type": "markdown",
     "source": "Integral #33"
    },
    {
     "cell_type": "code",
     "collapsed": false,
     "input": "i = 1/(x*sqrt(1+x**n))\ni",
     "language": "python",
     "outputs": [
      {
       "output_type": "pyout",
       "png": "[encoded data removed]",
       "prompt_number": 104,
       "text": "\n      1      \n\u2500\u2500\u2500\u2500\u2500\u2500\u2500\u2500\u2500\u2500\u2500\u2500\u2500\n     ________\n    \u2571  n     \nx\u22c5\u2572\u2571  x  + 1 "
      }
     ],
     "prompt_number": 104
    },
    {
     "cell_type": "code",
     "collapsed": false,
     "input": "integrate(i, x)",
     "language": "python",
     "outputs": [
      {
       "output_type": "pyout",
       "png": "[encoded data removed]",
       "prompt_number": 105,
       "text": "\n        \u239b -n\u239e\n        \u239c \u2500\u2500\u239f\n        \u239c 2 \u239f\n-2\u22c5asinh\u239dx  \u23a0\n\u2500\u2500\u2500\u2500\u2500\u2500\u2500\u2500\u2500\u2500\u2500\u2500\u2500\n      n      "
      }
     ],
     "prompt_number": 105
    },
    {
     "cell_type": "code",
     "collapsed": false,
     "input": "integrate(i, x, meijerg=True)",
     "language": "python",
     "outputs": [
      {
       "output_type": "pyout",
       "png": "[encoded data removed]",
       "prompt_number": 106,
       "text": "\n        \u239b -n\u239e\n        \u239c \u2500\u2500\u239f\n        \u239c 2 \u239f\n-2\u22c5asinh\u239dx  \u23a0\n\u2500\u2500\u2500\u2500\u2500\u2500\u2500\u2500\u2500\u2500\u2500\u2500\u2500\n      n      "
      }
     ],
     "prompt_number": 106
    },
    {
     "cell_type": "markdown",
     "source": "Integral #34"
    },
    {
     "cell_type": "code",
     "collapsed": false,
     "input": "i = 1/(x*sqrt(1+1/x**n))\ni",
     "language": "python",
     "outputs": [
      {
       "output_type": "pyout",
       "png": "[encoded data removed]",
       "prompt_number": 107,
       "text": "\n      1       \n\u2500\u2500\u2500\u2500\u2500\u2500\u2500\u2500\u2500\u2500\u2500\u2500\u2500\u2500\n     _________\n    \u2571      -n \nx\u22c5\u2572\u2571  1 + x   "
      }
     ],
     "prompt_number": 107
    },
    {
     "cell_type": "code",
     "collapsed": false,
     "input": "integrate(i, x)",
     "language": "python",
     "outputs": [
      {
       "output_type": "pyout",
       "png": "[encoded data removed]",
       "prompt_number": 108,
       "text": "\n       \u239b n\u239e\n       \u239c \u2500\u239f\n       \u239c 2\u239f\n2\u22c5asinh\u239dx \u23a0\n\u2500\u2500\u2500\u2500\u2500\u2500\u2500\u2500\u2500\u2500\u2500\n     n     "
      }
     ],
     "prompt_number": 108
    },
    {
     "cell_type": "code",
     "collapsed": false,
     "input": "integrate(i, x, meijerg=True)",
     "language": "python",
     "outputs": [
      {
       "output_type": "pyout",
       "png": "[encoded data removed]",
       "prompt_number": 109,
       "text": "\n       \u239b n\u239e\n       \u239c \u2500\u239f\n       \u239c 2\u239f\n2\u22c5asinh\u239dx \u23a0\n\u2500\u2500\u2500\u2500\u2500\u2500\u2500\u2500\u2500\u2500\u2500\n     n     "
      }
     ],
     "prompt_number": 109
    },
    {
     "cell_type": "markdown",
     "source": "Integral #35"
    },
    {
     "cell_type": "code",
     "collapsed": false,
     "input": "i = 1/(x*sqrt(1+x**(-5)))\ni",
     "language": "python",
     "outputs": [
      {
       "output_type": "pyout",
       "png": "[encoded data removed]",
       "prompt_number": 110,
       "text": "\n       1       \n\u2500\u2500\u2500\u2500\u2500\u2500\u2500\u2500\u2500\u2500\u2500\u2500\u2500\u2500\u2500\n       ________\n      \u2571     1  \nx\u22c5   \u2571  1 + \u2500\u2500 \n    \u2571        5 \n  \u2572\u2571        x  "
      }
     ],
     "prompt_number": 110
    },
    {
     "cell_type": "code",
     "collapsed": false,
     "input": "integrate(i, x)",
     "language": "python",
     "outputs": [
      {
       "output_type": "pyout",
       "png": "[encoded data removed]",
       "prompt_number": 111,
       "text": "\n       \u239b 5/2\u239e\n2\u22c5asinh\u239dx   \u23a0\n\u2500\u2500\u2500\u2500\u2500\u2500\u2500\u2500\u2500\u2500\u2500\u2500\u2500\n      5      "
      }
     ],
     "prompt_number": 111
    },
    {
     "cell_type": "code",
     "collapsed": false,
     "input": "integrate(i, x, meijerg=True)",
     "language": "python",
     "outputs": [
      {
       "output_type": "pyout",
       "png": "[encoded data removed]",
       "prompt_number": 112,
       "text": "\n       \u239b 5/2\u239e\n2\u22c5asinh\u239dx   \u23a0\n\u2500\u2500\u2500\u2500\u2500\u2500\u2500\u2500\u2500\u2500\u2500\u2500\u2500\n      5      "
      }
     ],
     "prompt_number": 112
    },
    {
     "cell_type": "markdown",
     "source": "Integral #36"
    },
    {
     "cell_type": "code",
     "collapsed": false,
     "input": "i = x/(x+sqrt(x**6))\ni",
     "language": "python",
     "outputs": [
      {
       "output_type": "pyout",
       "png": "[encoded data removed]",
       "prompt_number": 113,
       "text": "\n     x     \n\u2500\u2500\u2500\u2500\u2500\u2500\u2500\u2500\u2500\u2500\u2500\n       ____\n      \u2571  6 \nx + \u2572\u2571  x  "
      }
     ],
     "prompt_number": 113
    },
    {
     "cell_type": "code",
     "collapsed": false,
     "input": "integrate(i, x)",
     "language": "python",
     "outputs": [
      {
       "output_type": "pyout",
       "png": "[encoded data removed]",
       "prompt_number": 114,
       "text": "\n\u2320               \n\u23ae      x        \n\u23ae \u2500\u2500\u2500\u2500\u2500\u2500\u2500\u2500\u2500\u2500\u2500 dx\n\u23ae        ____   \n\u23ae       \u2571  6    \n\u23ae x + \u2572\u2571  x     \n\u2321               "
      }
     ],
     "prompt_number": 114
    },
    {
     "cell_type": "code",
     "collapsed": false,
     "input": "integrate(i, x, meijerg=True)",
     "language": "python",
     "outputs": [
      {
       "output_type": "pyout",
       "png": "[encoded data removed]",
       "prompt_number": 115,
       "text": "\n\u2320               \n\u23ae      x        \n\u23ae \u2500\u2500\u2500\u2500\u2500\u2500\u2500\u2500\u2500\u2500\u2500 dx\n\u23ae        ____   \n\u23ae       \u2571  6    \n\u23ae x + \u2572\u2571  x     \n\u2321               "
      }
     ],
     "prompt_number": 115
    },
    {
     "cell_type": "markdown",
     "source": "Integral #37"
    },
    {
     "cell_type": "code",
     "collapsed": false,
     "input": "i = sqrt(1-x**2) / (1+x)\ni",
     "language": "python",
     "outputs": [
      {
       "output_type": "pyout",
       "png": "[encoded data removed]",
       "prompt_number": 116,
       "text": "\n   __________\n  \u2571    2     \n\u2572\u2571  - x  + 1 \n\u2500\u2500\u2500\u2500\u2500\u2500\u2500\u2500\u2500\u2500\u2500\u2500\u2500\n    x + 1    "
      }
     ],
     "prompt_number": 116
    },
    {
     "cell_type": "code",
     "collapsed": false,
     "input": "integrate(i, x)",
     "language": "python",
     "outputs": [
      {
       "output_type": "pyout",
       "png": "[encoded data removed]",
       "prompt_number": 117,
       "text": "\n\u2320                 \n\u23ae    __________   \n\u23ae   \u2571    2        \n\u23ae \u2572\u2571  - x  + 1    \n\u23ae \u2500\u2500\u2500\u2500\u2500\u2500\u2500\u2500\u2500\u2500\u2500\u2500\u2500 dx\n\u23ae     x + 1       \n\u2321                 "
      }
     ],
     "prompt_number": 117
    },
    {
     "cell_type": "code",
     "collapsed": false,
     "input": "integrate(i, x, meijerg=True)",
     "language": "python",
     "outputs": [
      {
       "output_type": "pyout",
       "png": "[encoded data removed]",
       "prompt_number": 118,
       "text": "\n\u2320                 \n\u23ae    __________   \n\u23ae   \u2571    2        \n\u23ae \u2572\u2571  - x  + 1    \n\u23ae \u2500\u2500\u2500\u2500\u2500\u2500\u2500\u2500\u2500\u2500\u2500\u2500\u2500 dx\n\u23ae     x + 1       \n\u2321                 "
      }
     ],
     "prompt_number": 118
    },
    {
     "cell_type": "markdown",
     "source": "Integral #38"
    },
    {
     "cell_type": "code",
     "collapsed": false,
     "input": "i = 1/(x*(a+b*x)**Rational(1,3))\ni",
     "language": "python",
     "outputs": [
      {
       "output_type": "pyout",
       "png": "[encoded data removed]",
       "prompt_number": 119,
       "text": "\n      1      \n\u2500\u2500\u2500\u2500\u2500\u2500\u2500\u2500\u2500\u2500\u2500\u2500\u2500\n  3 _________\nx\u22c5\u2572\u2571 a + b\u22c5x "
      }
     ],
     "prompt_number": 119
    },
    {
     "cell_type": "code",
     "collapsed": false,
     "input": "integrate(i, x)\n# Yes, this can be expressed in elementary functions only!",
     "language": "python",
     "outputs": [
      {
       "output_type": "pyout",
       "png": "[encoded data removed]",
       "prompt_number": 120,
       "text": "\n             \u239b         \u2502    \u2148\u22c5\u03c0\u239e\n         \u250c\u2500  \u239c1/3, 1/3 \u2502 a\u22c5\u212f   \u239f\n-\u0393(1/3)\u22c5 \u251c\u2500  \u239c         \u2502 \u2500\u2500\u2500\u2500\u2500\u2500\u239f\n        2\u2575 1 \u239d  4/3    \u2502  b\u22c5x  \u23a0\n\u2500\u2500\u2500\u2500\u2500\u2500\u2500\u2500\u2500\u2500\u2500\u2500\u2500\u2500\u2500\u2500\u2500\u2500\u2500\u2500\u2500\u2500\u2500\u2500\u2500\u2500\u2500\u2500\u2500\u2500\u2500\u2500\n       3 ___ 3 ___              \n       \u2572\u2571 b \u22c5\u2572\u2571 x \u22c5\u0393(4/3)       "
      }
     ],
     "prompt_number": 120
    },
    {
     "cell_type": "code",
     "collapsed": false,
     "input": "integrate(i, x, meijerg=True)",
     "language": "python",
     "outputs": [
      {
       "output_type": "pyout",
       "png": "[encoded data removed]",
       "prompt_number": 121,
       "text": "\n             \u239b         \u2502    \u2148\u22c5\u03c0\u239e\n         \u250c\u2500  \u239c1/3, 1/3 \u2502 a\u22c5\u212f   \u239f\n-\u0393(1/3)\u22c5 \u251c\u2500  \u239c         \u2502 \u2500\u2500\u2500\u2500\u2500\u2500\u239f\n        2\u2575 1 \u239d  4/3    \u2502  b\u22c5x  \u23a0\n\u2500\u2500\u2500\u2500\u2500\u2500\u2500\u2500\u2500\u2500\u2500\u2500\u2500\u2500\u2500\u2500\u2500\u2500\u2500\u2500\u2500\u2500\u2500\u2500\u2500\u2500\u2500\u2500\u2500\u2500\u2500\u2500\n       3 ___ 3 ___              \n       \u2572\u2571 b \u22c5\u2572\u2571 x \u22c5\u0393(4/3)       "
      }
     ],
     "prompt_number": 121
    },
    {
     "cell_type": "markdown",
     "source": "Integral #39"
    },
    {
     "cell_type": "code",
     "collapsed": false,
     "input": "i = x/(1-x**3)**Rational(2,3)\ni",
     "language": "python",
     "outputs": [
      {
       "output_type": "pyout",
       "png": "[encoded data removed]",
       "prompt_number": 122,
       "text": "\n      x      \n\u2500\u2500\u2500\u2500\u2500\u2500\u2500\u2500\u2500\u2500\u2500\u2500\u2500\n          2/3\n\u239b   3    \u239e   \n\u239d- x  + 1\u23a0   "
      }
     ],
     "prompt_number": 122
    },
    {
     "cell_type": "code",
     "collapsed": false,
     "input": "integrate(i, x)\n# Yes, this can be expressed in elementary functions only!",
     "language": "python",
     "outputs": [
      {
       "output_type": "pyout",
       "png": "[encoded data removed]",
       "prompt_number": 123,
       "text": "\n 2         \u250c\u2500  \u239b2/3, 2/3 \u2502  3  2\u22c5\u2148\u22c5\u03c0\u239e\nx \u22c5\u0393(2/3)\u22c5 \u251c\u2500  \u239c         \u2502 x \u22c5\u212f     \u239f\n          2\u2575 1 \u239d  5/3    \u2502          \u23a0\n\u2500\u2500\u2500\u2500\u2500\u2500\u2500\u2500\u2500\u2500\u2500\u2500\u2500\u2500\u2500\u2500\u2500\u2500\u2500\u2500\u2500\u2500\u2500\u2500\u2500\u2500\u2500\u2500\u2500\u2500\u2500\u2500\u2500\u2500\u2500\u2500\u2500\n               3\u22c5\u0393(5/3)              "
      }
     ],
     "prompt_number": 123
    },
    {
     "cell_type": "code",
     "collapsed": false,
     "input": "integrate(i, x, meijerg=True)",
     "language": "python",
     "outputs": [
      {
       "output_type": "pyout",
       "png": "[encoded data removed]",
       "prompt_number": 124,
       "text": "\n 2         \u250c\u2500  \u239b2/3, 2/3 \u2502  3  2\u22c5\u2148\u22c5\u03c0\u239e\nx \u22c5\u0393(2/3)\u22c5 \u251c\u2500  \u239c         \u2502 x \u22c5\u212f     \u239f\n          2\u2575 1 \u239d  5/3    \u2502          \u23a0\n\u2500\u2500\u2500\u2500\u2500\u2500\u2500\u2500\u2500\u2500\u2500\u2500\u2500\u2500\u2500\u2500\u2500\u2500\u2500\u2500\u2500\u2500\u2500\u2500\u2500\u2500\u2500\u2500\u2500\u2500\u2500\u2500\u2500\u2500\u2500\u2500\u2500\n               3\u22c5\u0393(5/3)              "
      }
     ],
     "prompt_number": 124
    },
    {
     "cell_type": "markdown",
     "source": "Integral #40"
    },
    {
     "cell_type": "code",
     "collapsed": false,
     "input": "i = x**Rational(3,2) / sqrt(1+x**5)\ni",
     "language": "python",
     "outputs": [
      {
       "output_type": "pyout",
       "png": "[encoded data removed]",
       "prompt_number": 125,
       "text": "\n     3/2   \n    x      \n\u2500\u2500\u2500\u2500\u2500\u2500\u2500\u2500\u2500\u2500\u2500\n   ________\n  \u2571  5     \n\u2572\u2571  x  + 1 "
      }
     ],
     "prompt_number": 125
    },
    {
     "cell_type": "code",
     "collapsed": false,
     "input": "integrate(i, x)\n# Great! Wolfram integrals cant do this :-)",
     "language": "python",
     "outputs": [
      {
       "output_type": "pyout",
       "png": "[encoded data removed]",
       "prompt_number": 126,
       "text": "\n       \u239b 5/2\u239e\n2\u22c5asinh\u239dx   \u23a0\n\u2500\u2500\u2500\u2500\u2500\u2500\u2500\u2500\u2500\u2500\u2500\u2500\u2500\n      5      "
      }
     ],
     "prompt_number": 126
    },
    {
     "cell_type": "code",
     "collapsed": false,
     "input": "integrate(i, x, meijerg=True)",
     "language": "python",
     "outputs": [
      {
       "output_type": "pyout",
       "png": "[encoded data removed]",
       "prompt_number": 127,
       "text": "\n       \u239b 5/2\u239e\n2\u22c5asinh\u239dx   \u23a0\n\u2500\u2500\u2500\u2500\u2500\u2500\u2500\u2500\u2500\u2500\u2500\u2500\u2500\n      5      "
      }
     ],
     "prompt_number": 127
    },
    {
     "cell_type": "markdown",
     "source": "Integral #41"
    },
    {
     "cell_type": "code",
     "collapsed": false,
     "input": "i = sqrt(a+b/x)\ni",
     "language": "python",
     "outputs": [
      {
       "output_type": "pyout",
       "png": "[encoded data removed]",
       "prompt_number": 128,
       "text": "\n    _______\n   \u2571     b \n  \u2571  a + \u2500 \n\u2572\u2571       x "
      }
     ],
     "prompt_number": 128
    },
    {
     "cell_type": "code",
     "collapsed": false,
     "input": "integrate(i, x)",
     "language": "python",
     "outputs": [
      {
       "output_type": "pyout",
       "png": "[encoded data removed]",
       "prompt_number": 129,
       "text": "\n                                             \u239b  ___   ___\u239e\n                                             \u239c\u2572\u2571 a \u22c5\u2572\u2571 x \u239f\n                                      b\u22c5asinh\u239c\u2500\u2500\u2500\u2500\u2500\u2500\u2500\u2500\u2500\u2500\u2500\u239f\n          3/2            ___   ___           \u239c     ___   \u239f\n       a\u22c5x             \u2572\u2571 b \u22c5\u2572\u2571 x            \u239d   \u2572\u2571 b    \u23a0\n\u2500\u2500\u2500\u2500\u2500\u2500\u2500\u2500\u2500\u2500\u2500\u2500\u2500\u2500\u2500\u2500\u2500\u2500\u2500 + \u2500\u2500\u2500\u2500\u2500\u2500\u2500\u2500\u2500\u2500\u2500\u2500\u2500 + \u2500\u2500\u2500\u2500\u2500\u2500\u2500\u2500\u2500\u2500\u2500\u2500\u2500\u2500\u2500\u2500\u2500\u2500\u2500\u2500\n          _________       _________            ___        \n  ___    \u2571 a\u22c5x           \u2571 a\u22c5x               \u2572\u2571 a         \n\u2572\u2571 b \u22c5  \u2571  \u2500\u2500\u2500 + 1      \u2571  \u2500\u2500\u2500 + 1                        \n      \u2572\u2571    b         \u2572\u2571    b                             "
      }
     ],
     "prompt_number": 129
    },
    {
     "cell_type": "code",
     "collapsed": false,
     "input": "integrate(i, x, meijerg=True)",
     "language": "python",
     "outputs": [
      {
       "output_type": "pyout",
       "png": "[encoded data removed]",
       "prompt_number": 130,
       "text": "\n                                             \u239b  ___   ___\u239e\n                                             \u239c\u2572\u2571 a \u22c5\u2572\u2571 x \u239f\n                                      b\u22c5asinh\u239c\u2500\u2500\u2500\u2500\u2500\u2500\u2500\u2500\u2500\u2500\u2500\u239f\n          3/2            ___   ___           \u239c     ___   \u239f\n       a\u22c5x             \u2572\u2571 b \u22c5\u2572\u2571 x            \u239d   \u2572\u2571 b    \u23a0\n\u2500\u2500\u2500\u2500\u2500\u2500\u2500\u2500\u2500\u2500\u2500\u2500\u2500\u2500\u2500\u2500\u2500\u2500\u2500 + \u2500\u2500\u2500\u2500\u2500\u2500\u2500\u2500\u2500\u2500\u2500\u2500\u2500 + \u2500\u2500\u2500\u2500\u2500\u2500\u2500\u2500\u2500\u2500\u2500\u2500\u2500\u2500\u2500\u2500\u2500\u2500\u2500\u2500\n          _________       _________            ___        \n  ___    \u2571 a\u22c5x           \u2571 a\u22c5x               \u2572\u2571 a         \n\u2572\u2571 b \u22c5  \u2571  \u2500\u2500\u2500 + 1      \u2571  \u2500\u2500\u2500 + 1                        \n      \u2572\u2571    b         \u2572\u2571    b                             "
      }
     ],
     "prompt_number": 130
    },
    {
     "cell_type": "markdown",
     "source": "Integral #42"
    },
    {
     "cell_type": "code",
     "collapsed": false,
     "input": "i = sqrt(-a+b/x)\ni",
     "language": "python",
     "outputs": [
      {
       "output_type": "pyout",
       "png": "[encoded data removed]",
       "prompt_number": 131,
       "text": "\n    ________\n   \u2571      b \n  \u2571  -a + \u2500 \n\u2572\u2571        x "
      }
     ],
     "prompt_number": 131
    },
    {
     "cell_type": "code",
     "collapsed": false,
     "input": "integrate(i, x)",
     "language": "python",
     "outputs": [
      {
       "output_type": "pyout",
       "png": "[encoded data removed]",
       "prompt_number": 132,
       "text": "\n\u23a7                                                \u239b  ___   ___\u239e                \n\u23aa                                                \u239c\u2572\u2571 a \u22c5\u2572\u2571 x \u239f                \n\u23aa                                       \u2148\u22c5b\u22c5acosh\u239c\u2500\u2500\u2500\u2500\u2500\u2500\u2500\u2500\u2500\u2500\u2500\u239f                \n\u23aa            3/2            ___   ___            \u239c     ___   \u239f                \n\u23aa       \u2148\u22c5a\u22c5x           \u2148\u22c5\u2572\u2571 b \u22c5\u2572\u2571 x             \u239d   \u2572\u2571 b    \u23a0        \u2502a\u22c5x\u2502   \n\u23aa \u2500\u2500\u2500\u2500\u2500\u2500\u2500\u2500\u2500\u2500\u2500\u2500\u2500\u2500\u2500\u2500\u2500\u2500\u2500 - \u2500\u2500\u2500\u2500\u2500\u2500\u2500\u2500\u2500\u2500\u2500\u2500\u2500 - \u2500\u2500\u2500\u2500\u2500\u2500\u2500\u2500\u2500\u2500\u2500\u2500\u2500\u2500\u2500\u2500\u2500\u2500\u2500\u2500\u2500\u2500    for \u2502\u2500\u2500\u2500\u2502 > \n\u23aa           _________       _________             ___                 \u2502 b \u2502   \n\u23aa   ___    \u2571 a\u22c5x           \u2571 a\u22c5x                \u2572\u2571 a                          \n\u23aa \u2572\u2571 b \u22c5  \u2571  \u2500\u2500\u2500 - 1      \u2571  \u2500\u2500\u2500 - 1                                          \n\u23aa       \u2572\u2571    b         \u2572\u2571    b                                               \n\u23a8                                                                             \n\u23aa                                                  \u239b  ___   ___\u239e              \n\u23aa                                                  \u239c\u2572\u2571 a \u22c5\u2572\u2571 x \u239f              \n\u23aa                                            b\u22c5asin\u239c\u2500\u2500\u2500\u2500\u2500\u2500\u2500\u2500\u2500\u2500\u2500\u239f              \n\u23aa             3/2              ___   ___           \u239c     ___   \u239f              \n\u23aa          a\u22c5x               \u2572\u2571 b \u22c5\u2572\u2571 x            \u239d   \u2572\u2571 b    \u23a0              \n\u23aa- \u2500\u2500\u2500\u2500\u2500\u2500\u2500\u2500\u2500\u2500\u2500\u2500\u2500\u2500\u2500\u2500\u2500\u2500\u2500\u2500\u2500 + \u2500\u2500\u2500\u2500\u2500\u2500\u2500\u2500\u2500\u2500\u2500\u2500\u2500\u2500\u2500 + \u2500\u2500\u2500\u2500\u2500\u2500\u2500\u2500\u2500\u2500\u2500\u2500\u2500\u2500\u2500\u2500\u2500\u2500\u2500    otherwise \n\u23aa            ___________       ___________            ___                     \n\u23aa    ___    \u2571   a\u22c5x           \u2571   a\u22c5x               \u2572\u2571 a                      \n\u23aa  \u2572\u2571 b \u22c5  \u2571  - \u2500\u2500\u2500 + 1      \u2571  - \u2500\u2500\u2500 + 1                                     \n\u23a9        \u2572\u2571      b         \u2572\u2571      b                                          \n\n \n \n \n \n \n1\n \n \n \n \n \n \n \n \n \n \n \n \n \n \n "
      }
     ],
     "prompt_number": 132
    },
    {
     "cell_type": "code",
     "collapsed": false,
     "input": "integrate(i, x, meijerg=True)",
     "language": "python",
     "outputs": [
      {
       "output_type": "pyout",
       "png": "[encoded data removed]",
       "prompt_number": 133,
       "text": "\n\u23a7                                                \u239b  ___   ___\u239e                \n\u23aa                                                \u239c\u2572\u2571 a \u22c5\u2572\u2571 x \u239f                \n\u23aa                                       \u2148\u22c5b\u22c5acosh\u239c\u2500\u2500\u2500\u2500\u2500\u2500\u2500\u2500\u2500\u2500\u2500\u239f                \n\u23aa            3/2            ___   ___            \u239c     ___   \u239f                \n\u23aa       \u2148\u22c5a\u22c5x           \u2148\u22c5\u2572\u2571 b \u22c5\u2572\u2571 x             \u239d   \u2572\u2571 b    \u23a0        \u2502a\u22c5x\u2502   \n\u23aa \u2500\u2500\u2500\u2500\u2500\u2500\u2500\u2500\u2500\u2500\u2500\u2500\u2500\u2500\u2500\u2500\u2500\u2500\u2500 - \u2500\u2500\u2500\u2500\u2500\u2500\u2500\u2500\u2500\u2500\u2500\u2500\u2500 - \u2500\u2500\u2500\u2500\u2500\u2500\u2500\u2500\u2500\u2500\u2500\u2500\u2500\u2500\u2500\u2500\u2500\u2500\u2500\u2500\u2500\u2500    for \u2502\u2500\u2500\u2500\u2502 > \n\u23aa           _________       _________             ___                 \u2502 b \u2502   \n\u23aa   ___    \u2571 a\u22c5x           \u2571 a\u22c5x                \u2572\u2571 a                          \n\u23aa \u2572\u2571 b \u22c5  \u2571  \u2500\u2500\u2500 - 1      \u2571  \u2500\u2500\u2500 - 1                                          \n\u23aa       \u2572\u2571    b         \u2572\u2571    b                                               \n\u23a8                                                                             \n\u23aa                                                  \u239b  ___   ___\u239e              \n\u23aa                                                  \u239c\u2572\u2571 a \u22c5\u2572\u2571 x \u239f              \n\u23aa                                            b\u22c5asin\u239c\u2500\u2500\u2500\u2500\u2500\u2500\u2500\u2500\u2500\u2500\u2500\u239f              \n\u23aa             3/2              ___   ___           \u239c     ___   \u239f              \n\u23aa          a\u22c5x               \u2572\u2571 b \u22c5\u2572\u2571 x            \u239d   \u2572\u2571 b    \u23a0              \n\u23aa- \u2500\u2500\u2500\u2500\u2500\u2500\u2500\u2500\u2500\u2500\u2500\u2500\u2500\u2500\u2500\u2500\u2500\u2500\u2500\u2500\u2500 + \u2500\u2500\u2500\u2500\u2500\u2500\u2500\u2500\u2500\u2500\u2500\u2500\u2500\u2500\u2500 + \u2500\u2500\u2500\u2500\u2500\u2500\u2500\u2500\u2500\u2500\u2500\u2500\u2500\u2500\u2500\u2500\u2500\u2500\u2500    otherwise \n\u23aa            ___________       ___________            ___                     \n\u23aa    ___    \u2571   a\u22c5x           \u2571   a\u22c5x               \u2572\u2571 a                      \n\u23aa  \u2572\u2571 b \u22c5  \u2571  - \u2500\u2500\u2500 + 1      \u2571  - \u2500\u2500\u2500 + 1                                     \n\u23a9        \u2572\u2571      b         \u2572\u2571      b                                          \n\n \n \n \n \n \n1\n \n \n \n \n \n \n \n \n \n \n \n \n \n \n "
      }
     ],
     "prompt_number": 133
    },
    {
     "cell_type": "markdown",
     "source": "Integral #43"
    },
    {
     "cell_type": "code",
     "collapsed": false,
     "input": "i = 1/(x+sqrt(-2+3*x-x**2))\ni",
     "language": "python",
     "outputs": [
      {
       "output_type": "pyout",
       "png": "[encoded data removed]",
       "prompt_number": 134,
       "text": "\n           1           \n\u2500\u2500\u2500\u2500\u2500\u2500\u2500\u2500\u2500\u2500\u2500\u2500\u2500\u2500\u2500\u2500\u2500\u2500\u2500\u2500\u2500\u2500\u2500\n       ________________\n      \u2571    2           \nx + \u2572\u2571  - x  + 3\u22c5x - 2 "
      }
     ],
     "prompt_number": 134
    },
    {
     "cell_type": "code",
     "collapsed": false,
     "input": "integrate(i, x)",
     "language": "python",
     "outputs": [
      {
       "output_type": "pyout",
       "png": "[encoded data removed]",
       "prompt_number": 135,
       "text": "\n\u2320                           \n\u23ae            1              \n\u23ae \u2500\u2500\u2500\u2500\u2500\u2500\u2500\u2500\u2500\u2500\u2500\u2500\u2500\u2500\u2500\u2500\u2500\u2500\u2500\u2500\u2500\u2500\u2500 dx\n\u23ae        ________________   \n\u23ae       \u2571    2              \n\u23ae x + \u2572\u2571  - x  + 3\u22c5x - 2    \n\u2321                           "
      }
     ],
     "prompt_number": 135
    },
    {
     "cell_type": "code",
     "collapsed": false,
     "input": "integrate(i, x, meijerg=True)",
     "language": "python",
     "outputs": [
      {
       "output_type": "pyout",
       "png": "[encoded data removed]",
       "prompt_number": 136,
       "text": "\n\u2320                           \n\u23ae            1              \n\u23ae \u2500\u2500\u2500\u2500\u2500\u2500\u2500\u2500\u2500\u2500\u2500\u2500\u2500\u2500\u2500\u2500\u2500\u2500\u2500\u2500\u2500\u2500\u2500 dx\n\u23ae        ________________   \n\u23ae       \u2571    2              \n\u23ae x + \u2572\u2571  - x  + 3\u22c5x - 2    \n\u2321                           "
      }
     ],
     "prompt_number": 136
    }
   ]
  }
 ]
}