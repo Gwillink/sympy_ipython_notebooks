{
 "metadata": {
  "name": "Ylm"
 },
 "name": "Ylm",
 "nbformat": 3,
 "worksheets": [
  {
   "cells": [
    {
     "cell_type": "code",
     "collapsed": true,
     "input": "%load_ext sympyprt",
     "language": "python",
     "outputs": [],
     "prompt_number": 1
    },
    {
     "cell_type": "code",
     "collapsed": true,
     "input": "from sympy import *",
     "language": "python",
     "outputs": [],
     "prompt_number": 2
    },
    {
     "cell_type": "code",
     "collapsed": true,
     "input": "theta = Symbol(\"theta\")\nphi = Symbol(\"phi\")",
     "language": "python",
     "outputs": [],
     "prompt_number": 3
    },
    {
     "cell_type": "code",
     "collapsed": false,
     "input": "for i in range(0, 5):\n    for j in range(-i, i+1):\n        print((i, j, simplify(Ylm(i, j, theta, phi))))",
     "language": "python",
     "outputs": [
      {
       "output_type": "stream",
       "stream": "stdout",
       "text": "(0, 0, legendre(0, cos(theta))/(2*sqrt(pi)))\n(1, -1, sqrt(6)*exp(-I*phi)*sin(theta)/(4*sqrt(pi)))\n(1, 0, sqrt(3)*legendre(1, cos(theta))/(2*sqrt(pi)))"
      },
      {
       "output_type": "stream",
       "stream": "stdout",
       "text": "\n(1, 1, -sqrt(6)*exp(I*phi)*sin(theta)/(4*sqrt(pi)))\n(2, -2, sqrt(30)*exp(-2*I*phi)*sin(theta)**2/(8*sqrt(pi)))"
      },
      {
       "output_type": "stream",
       "stream": "stdout",
       "text": "\n(2, -1, sqrt(30)*exp(-I*phi)*sin(theta)*cos(theta)/(4*sqrt(pi)))\n(2, 0, sqrt(5)*legendre(2, cos(theta))/(2*sqrt(pi)))\n(2, 1, -sqrt(30)*exp(I*phi)*sin(theta)*cos(theta)/(4*sqrt(pi)))"
      },
      {
       "output_type": "stream",
       "stream": "stdout",
       "text": "\n(2, 2, sqrt(30)*exp(2*I*phi)*sin(theta)**2/(8*sqrt(pi)))\n(3, -3, sqrt(35)*exp(-3*I*phi)*sin(theta)**3/(8*sqrt(pi)))"
      },
      {
       "output_type": "stream",
       "stream": "stdout",
       "text": "\n(3, -2, sqrt(210)*exp(-2*I*phi)*sin(theta)**2*cos(theta)/(8*sqrt(pi)))\n(3, -1, sqrt(21)*(-5*sin(theta)**2 + 4)*exp(-I*phi)*sin(theta)/(8*sqrt(pi)))"
      },
      {
       "output_type": "stream",
       "stream": "stdout",
       "text": "\n(3, 0, sqrt(7)*legendre(3, cos(theta))/(2*sqrt(pi)))\n(3, 1, sqrt(21)*(5*sin(theta)**2 - 4)*exp(I*phi)*sin(theta)/(8*sqrt(pi)))"
      },
      {
       "output_type": "stream",
       "stream": "stdout",
       "text": "\n(3, 2, sqrt(210)*exp(2*I*phi)*sin(theta)**2*cos(theta)/(8*sqrt(pi)))\n(3, 3, -sqrt(35)*exp(3*I*phi)*sin(theta)**3/(8*sqrt(pi)))\n(4, -4, 3*sqrt(70)*exp(-4*I*phi)*sin(theta)**4/(32*sqrt(pi)))"
      },
      {
       "output_type": "stream",
       "stream": "stdout",
       "text": "\n(4, -3, 3*sqrt(35)*exp(-3*I*phi)*sin(theta)**3*cos(theta)/(8*sqrt(pi)))\n(4, -2, 3*sqrt(10)*(-7*sin(theta)**2 + 6)*exp(-2*I*phi)*sin(theta)**2/(16*sqrt(pi)))"
      },
      {
       "output_type": "stream",
       "stream": "stdout",
       "text": "\n(4, -1, 3*sqrt(5)*(-7*sin(theta)**2 + 4)*exp(-I*phi)*sin(theta)*cos(theta)/(8*sqrt(pi)))"
      },
      {
       "output_type": "stream",
       "stream": "stdout",
       "text": "\n(4, 0, 3*legendre(4, cos(theta))/(2*sqrt(pi)))\n(4, 1, 3*sqrt(5)*(7*sin(theta)**2 - 4)*exp(I*phi)*sin(theta)*cos(theta)/(8*sqrt(pi)))"
      },
      {
       "output_type": "stream",
       "stream": "stdout",
       "text": "\n(4, 2, 3*sqrt(10)*(-7*sin(theta)**2 + 6)*exp(2*I*phi)*sin(theta)**2/(16*sqrt(pi)))"
      },
      {
       "output_type": "stream",
       "stream": "stdout",
       "text": "\n(4, 3, -3*sqrt(35)*exp(3*I*phi)*sin(theta)**3*cos(theta)/(8*sqrt(pi)))\n(4, 4, 3*sqrt(70)*exp(4*I*phi)*sin(theta)**4/(32*sqrt(pi)))"
      },
      {
       "output_type": "stream",
       "stream": "stdout",
       "text": ""
      }
     ],
     "prompt_number": 4
    },
    {
     "cell_type": "code",
     "collapsed": true,
     "input": "l = Symbol(\"l\", integer=True)\nm = Symbol(\"m\", integer=True)",
     "language": "python",
     "outputs": [],
     "prompt_number": 5
    },
    {
     "cell_type": "code",
     "collapsed": false,
     "input": "Ylm(l, m, theta, phi)",
     "language": "python",
     "outputs": [
      {
       "output_type": "pyout",
       "png": "[encoded data removed]",
       "prompt_number": 6,
       "text": "\n    ____________________                                    \n   \u2571 (2\u22c5l + 1)\u22c5(l - m)!   \u2148\u22c5m\u22c5\u03c6                             \n  \u2571  \u2500\u2500\u2500\u2500\u2500\u2500\u2500\u2500\u2500\u2500\u2500\u2500\u2500\u2500\u2500\u2500\u2500\u2500 \u22c5\u212f     \u22c5assoc_legendre(l, m, cos(\u03b8))\n\u2572\u2571        (l + m)!                                          \n\u2500\u2500\u2500\u2500\u2500\u2500\u2500\u2500\u2500\u2500\u2500\u2500\u2500\u2500\u2500\u2500\u2500\u2500\u2500\u2500\u2500\u2500\u2500\u2500\u2500\u2500\u2500\u2500\u2500\u2500\u2500\u2500\u2500\u2500\u2500\u2500\u2500\u2500\u2500\u2500\u2500\u2500\u2500\u2500\u2500\u2500\u2500\u2500\u2500\u2500\u2500\u2500\u2500\u2500\u2500\u2500\u2500\u2500\u2500\u2500\n                              ___                           \n                          2\u22c5\u2572\u2571 \u03c0                            "
      }
     ],
     "prompt_number": 6
    },
    {
     "cell_type": "code",
     "collapsed": false,
     "input": "expand_func(_)",
     "language": "python",
     "outputs": [
      {
       "output_type": "pyout",
       "png": "[encoded data removed]",
       "prompt_number": 7,
       "text": "\n    ____________________                                    \n   \u2571 (2\u22c5l + 1)\u22c5(l - m)!   \u2148\u22c5m\u22c5\u03c6                             \n  \u2571  \u2500\u2500\u2500\u2500\u2500\u2500\u2500\u2500\u2500\u2500\u2500\u2500\u2500\u2500\u2500\u2500\u2500\u2500 \u22c5\u212f     \u22c5assoc_legendre(l, m, cos(\u03b8))\n\u2572\u2571        (l + m)!                                          \n\u2500\u2500\u2500\u2500\u2500\u2500\u2500\u2500\u2500\u2500\u2500\u2500\u2500\u2500\u2500\u2500\u2500\u2500\u2500\u2500\u2500\u2500\u2500\u2500\u2500\u2500\u2500\u2500\u2500\u2500\u2500\u2500\u2500\u2500\u2500\u2500\u2500\u2500\u2500\u2500\u2500\u2500\u2500\u2500\u2500\u2500\u2500\u2500\u2500\u2500\u2500\u2500\u2500\u2500\u2500\u2500\u2500\u2500\u2500\u2500\n                              ___                           \n                          2\u22c5\u2572\u2571 \u03c0                            "
      }
     ],
     "prompt_number": 7
    },
    {
     "cell_type": "code",
     "collapsed": false,
     "input": "Ylm(-l, m, theta, phi)",
     "language": "python",
     "outputs": [
      {
       "output_type": "pyout",
       "png": "[encoded data removed]",
       "prompt_number": 8,
       "text": "\n    ______________________                                     \n   \u2571 (-2\u22c5l + 1)\u22c5(-l - m)!   \u2148\u22c5m\u22c5\u03c6                              \n  \u2571  \u2500\u2500\u2500\u2500\u2500\u2500\u2500\u2500\u2500\u2500\u2500\u2500\u2500\u2500\u2500\u2500\u2500\u2500\u2500\u2500 \u22c5\u212f     \u22c5assoc_legendre(-l, m, cos(\u03b8))\n\u2572\u2571        (-l + m)!                                            \n\u2500\u2500\u2500\u2500\u2500\u2500\u2500\u2500\u2500\u2500\u2500\u2500\u2500\u2500\u2500\u2500\u2500\u2500\u2500\u2500\u2500\u2500\u2500\u2500\u2500\u2500\u2500\u2500\u2500\u2500\u2500\u2500\u2500\u2500\u2500\u2500\u2500\u2500\u2500\u2500\u2500\u2500\u2500\u2500\u2500\u2500\u2500\u2500\u2500\u2500\u2500\u2500\u2500\u2500\u2500\u2500\u2500\u2500\u2500\u2500\u2500\u2500\u2500\n                                ___                            \n                            2\u22c5\u2572\u2571 \u03c0                             "
      }
     ],
     "prompt_number": 8
    },
    {
     "cell_type": "code",
     "collapsed": false,
     "input": "expand_func(_, deep=True)",
     "language": "python",
     "outputs": [
      {
       "output_type": "pyout",
       "png": "[encoded data removed]",
       "prompt_number": 9,
       "text": "\n    ______________________                                     \n   \u2571 (-2\u22c5l + 1)\u22c5(-l - m)!   \u2148\u22c5m\u22c5\u03c6                              \n  \u2571  \u2500\u2500\u2500\u2500\u2500\u2500\u2500\u2500\u2500\u2500\u2500\u2500\u2500\u2500\u2500\u2500\u2500\u2500\u2500\u2500 \u22c5\u212f     \u22c5assoc_legendre(-l, m, cos(\u03b8))\n\u2572\u2571        (-l + m)!                                            \n\u2500\u2500\u2500\u2500\u2500\u2500\u2500\u2500\u2500\u2500\u2500\u2500\u2500\u2500\u2500\u2500\u2500\u2500\u2500\u2500\u2500\u2500\u2500\u2500\u2500\u2500\u2500\u2500\u2500\u2500\u2500\u2500\u2500\u2500\u2500\u2500\u2500\u2500\u2500\u2500\u2500\u2500\u2500\u2500\u2500\u2500\u2500\u2500\u2500\u2500\u2500\u2500\u2500\u2500\u2500\u2500\u2500\u2500\u2500\u2500\u2500\u2500\u2500\n                                ___                            \n                            2\u22c5\u2572\u2571 \u03c0                             "
      }
     ],
     "prompt_number": 9
    },
    {
     "cell_type": "code",
     "collapsed": false,
     "input": "Ylm(l, -m, theta, phi)",
     "language": "python",
     "outputs": [
      {
       "output_type": "pyout",
       "png": "[encoded data removed]",
       "prompt_number": 10,
       "text": "\n          ____________________                                              \n    m    \u2571 (2\u22c5l + 1)\u22c5(l + m)!   -\u2148\u22c5m\u22c5\u03c6                                      \n(-1) \u22c5  \u2571  \u2500\u2500\u2500\u2500\u2500\u2500\u2500\u2500\u2500\u2500\u2500\u2500\u2500\u2500\u2500\u2500\u2500\u2500 \u22c5\u212f      \u22c5assoc_legendre(l, m, cos(\u03b8))\u22c5(l - m)!\n      \u2572\u2571        (l - m)!                                                    \n\u2500\u2500\u2500\u2500\u2500\u2500\u2500\u2500\u2500\u2500\u2500\u2500\u2500\u2500\u2500\u2500\u2500\u2500\u2500\u2500\u2500\u2500\u2500\u2500\u2500\u2500\u2500\u2500\u2500\u2500\u2500\u2500\u2500\u2500\u2500\u2500\u2500\u2500\u2500\u2500\u2500\u2500\u2500\u2500\u2500\u2500\u2500\u2500\u2500\u2500\u2500\u2500\u2500\u2500\u2500\u2500\u2500\u2500\u2500\u2500\u2500\u2500\u2500\u2500\u2500\u2500\u2500\u2500\u2500\u2500\u2500\u2500\u2500\u2500\u2500\u2500\n                                  ___                                       \n                              2\u22c5\u2572\u2571 \u03c0 \u22c5(l + m)!                              "
      }
     ],
     "prompt_number": 10
    },
    {
     "cell_type": "code",
     "collapsed": false,
     "input": "expand_func(_, deep=True)",
     "language": "python",
     "outputs": [
      {
       "output_type": "pyout",
       "png": "[encoded data removed]",
       "prompt_number": 11,
       "text": "\n          ____________________                                              \n    m    \u2571 (2\u22c5l + 1)\u22c5(l + m)!   -\u2148\u22c5m\u22c5\u03c6                                      \n(-1) \u22c5  \u2571  \u2500\u2500\u2500\u2500\u2500\u2500\u2500\u2500\u2500\u2500\u2500\u2500\u2500\u2500\u2500\u2500\u2500\u2500 \u22c5\u212f      \u22c5assoc_legendre(l, m, cos(\u03b8))\u22c5(l - m)!\n      \u2572\u2571        (l - m)!                                                    \n\u2500\u2500\u2500\u2500\u2500\u2500\u2500\u2500\u2500\u2500\u2500\u2500\u2500\u2500\u2500\u2500\u2500\u2500\u2500\u2500\u2500\u2500\u2500\u2500\u2500\u2500\u2500\u2500\u2500\u2500\u2500\u2500\u2500\u2500\u2500\u2500\u2500\u2500\u2500\u2500\u2500\u2500\u2500\u2500\u2500\u2500\u2500\u2500\u2500\u2500\u2500\u2500\u2500\u2500\u2500\u2500\u2500\u2500\u2500\u2500\u2500\u2500\u2500\u2500\u2500\u2500\u2500\u2500\u2500\u2500\u2500\u2500\u2500\u2500\u2500\u2500\n                                  ___                                       \n                              2\u22c5\u2572\u2571 \u03c0 \u22c5(l + m)!                              "
      }
     ],
     "prompt_number": 11
    },
    {
     "cell_type": "code",
     "collapsed": false,
     "input": "Ylm(-l, -m, theta, phi)",
     "language": "python",
     "outputs": [
      {
       "output_type": "pyout",
       "png": "[encoded data removed]",
       "prompt_number": 12,
       "text": "\n          ______________________                                              \n    m    \u2571 (-2\u22c5l + 1)\u22c5(-l + m)!   -\u2148\u22c5m\u22c5\u03c6                                      \n(-1) \u22c5  \u2571  \u2500\u2500\u2500\u2500\u2500\u2500\u2500\u2500\u2500\u2500\u2500\u2500\u2500\u2500\u2500\u2500\u2500\u2500\u2500\u2500 \u22c5\u212f      \u22c5assoc_legendre(-l, m, cos(\u03b8))\u22c5(-l - m\n      \u2572\u2571        (-l - m)!                                                     \n\u2500\u2500\u2500\u2500\u2500\u2500\u2500\u2500\u2500\u2500\u2500\u2500\u2500\u2500\u2500\u2500\u2500\u2500\u2500\u2500\u2500\u2500\u2500\u2500\u2500\u2500\u2500\u2500\u2500\u2500\u2500\u2500\u2500\u2500\u2500\u2500\u2500\u2500\u2500\u2500\u2500\u2500\u2500\u2500\u2500\u2500\u2500\u2500\u2500\u2500\u2500\u2500\u2500\u2500\u2500\u2500\u2500\u2500\u2500\u2500\u2500\u2500\u2500\u2500\u2500\u2500\u2500\u2500\u2500\u2500\u2500\u2500\u2500\u2500\u2500\u2500\u2500\u2500\n                                   ___                                        \n                               2\u22c5\u2572\u2571 \u03c0 \u22c5(-l + m)!                              \n\n  \n  \n)!\n  \n\u2500\u2500\n  \n  "
      }
     ],
     "prompt_number": 12
    },
    {
     "cell_type": "code",
     "collapsed": false,
     "input": "expand_func(_, deep=True)",
     "language": "python",
     "outputs": [
      {
       "output_type": "pyout",
       "png": "[encoded data removed]",
       "prompt_number": 13,
       "text": "\n          ______________________                                              \n    m    \u2571 (-2\u22c5l + 1)\u22c5(-l + m)!   -\u2148\u22c5m\u22c5\u03c6                                      \n(-1) \u22c5  \u2571  \u2500\u2500\u2500\u2500\u2500\u2500\u2500\u2500\u2500\u2500\u2500\u2500\u2500\u2500\u2500\u2500\u2500\u2500\u2500\u2500 \u22c5\u212f      \u22c5assoc_legendre(-l, m, cos(\u03b8))\u22c5(-l - m\n      \u2572\u2571        (-l - m)!                                                     \n\u2500\u2500\u2500\u2500\u2500\u2500\u2500\u2500\u2500\u2500\u2500\u2500\u2500\u2500\u2500\u2500\u2500\u2500\u2500\u2500\u2500\u2500\u2500\u2500\u2500\u2500\u2500\u2500\u2500\u2500\u2500\u2500\u2500\u2500\u2500\u2500\u2500\u2500\u2500\u2500\u2500\u2500\u2500\u2500\u2500\u2500\u2500\u2500\u2500\u2500\u2500\u2500\u2500\u2500\u2500\u2500\u2500\u2500\u2500\u2500\u2500\u2500\u2500\u2500\u2500\u2500\u2500\u2500\u2500\u2500\u2500\u2500\u2500\u2500\u2500\u2500\u2500\u2500\n                                   ___                                        \n                               2\u22c5\u2572\u2571 \u03c0 \u22c5(-l + m)!                              \n\n  \n  \n)!\n  \n\u2500\u2500\n  \n  "
      }
     ],
     "prompt_number": 13
    },
    {
     "cell_type": "code",
     "collapsed": true,
     "input": "Y = Ylm(l, m, theta, phi)",
     "language": "python",
     "outputs": [],
     "prompt_number": 14
    },
    {
     "cell_type": "code",
     "collapsed": true,
     "input": "from random import random",
     "language": "python",
     "outputs": [],
     "prompt_number": 15
    },
    {
     "cell_type": "code",
     "collapsed": false,
     "input": "rat = pi*random()\nrap = 2*pi*random()\n(rat, rap)",
     "language": "python",
     "outputs": [
      {
       "output_type": "pyout",
       "prompt_number": 16,
       "text": "(0.582321280766733\u22c5\u03c0, 0.258332267787315\u22c5\u03c0)"
      }
     ],
     "prompt_number": 16
    },
    {
     "cell_type": "code",
     "collapsed": false,
     "input": "for i in range(0, 5):\n    for j in range(-i, i+1):\n        y = Y.subs(l, i).subs(m, j)\n        Z = simplify(trigsimp(y - Ylm(i, j, theta, phi)))\n        print((i, j, Z.subs(theta, rat).subs(phi,rap)))",
     "language": "python",
     "outputs": [
      {
       "output_type": "stream",
       "stream": "stdout",
       "text": "(0, 0, 0)\n(1, -1, 0)"
      },
      {
       "output_type": "stream",
       "stream": "stdout",
       "text": "\n(1, 0, 0)\n(1, 1, 0)"
      },
      {
       "output_type": "stream",
       "stream": "stdout",
       "text": "\n(2, -2, 0)\n(2, -1, 0)"
      },
      {
       "output_type": "stream",
       "stream": "stdout",
       "text": "\n(2, 0, 0)\n(2, 1, 0)"
      },
      {
       "output_type": "stream",
       "stream": "stdout",
       "text": "\n(2, 2, 0)\n(3, -3, 0)"
      },
      {
       "output_type": "stream",
       "stream": "stdout",
       "text": "\n(3, -2, 0)\n(3, -1, 0)"
      },
      {
       "output_type": "stream",
       "stream": "stdout",
       "text": "\n(3, 0, 0)\n(3, 1, 0)"
      },
      {
       "output_type": "stream",
       "stream": "stdout",
       "text": "\n(3, 2, 0)\n(3, 3, 0)"
      },
      {
       "output_type": "stream",
       "stream": "stdout",
       "text": "\n(4, -4, 0)\n(4, -3, 0)"
      },
      {
       "output_type": "stream",
       "stream": "stdout",
       "text": "\n(4, -2, 0)"
      },
      {
       "output_type": "stream",
       "stream": "stdout",
       "text": "\n(4, -1, 0)"
      },
      {
       "output_type": "stream",
       "stream": "stdout",
       "text": "\n(4, 0, 0)\n(4, 1, 0)"
      },
      {
       "output_type": "stream",
       "stream": "stdout",
       "text": "\n(4, 2, 0)"
      },
      {
       "output_type": "stream",
       "stream": "stdout",
       "text": "\n(4, 3, 0)"
      },
      {
       "output_type": "stream",
       "stream": "stdout",
       "text": "\n(4, 4, 0)"
      }
     ],
     "prompt_number": 17
    },
    {
     "cell_type": "code",
     "collapsed": false,
     "input": "Ylm(3, 1, theta, phi)",
     "language": "python",
     "outputs": [
      {
       "output_type": "pyout",
       "png": "[encoded data removed]",
       "prompt_number": 18,
       "text": "\n        \u239b      2       \u239e            \n   ____ \u239c15\u22c5cos (\u03b8)   3\u239f  \u2148\u22c5\u03c6       \n-\u2572\u2571 21 \u22c5\u239c\u2500\u2500\u2500\u2500\u2500\u2500\u2500\u2500\u2500\u2500 - \u2500\u239f\u22c5\u212f   \u22c5sin(\u03b8)\n        \u239d    2        2\u23a0            \n\u2500\u2500\u2500\u2500\u2500\u2500\u2500\u2500\u2500\u2500\u2500\u2500\u2500\u2500\u2500\u2500\u2500\u2500\u2500\u2500\u2500\u2500\u2500\u2500\u2500\u2500\u2500\u2500\u2500\u2500\u2500\u2500\u2500\u2500\u2500\u2500\n                   ___              \n              12\u22c5\u2572\u2571 \u03c0               "
      }
     ],
     "prompt_number": 18
    },
    {
     "cell_type": "code",
     "collapsed": false,
     "input": "simplify(_)",
     "language": "python",
     "outputs": [
      {
       "output_type": "pyout",
       "png": "[encoded data removed]",
       "prompt_number": 19,
       "text": "\n  ____ \u239b     2       \u239e  \u2148\u22c5\u03c6       \n\u2572\u2571 21 \u22c5\u239d5\u22c5sin (\u03b8) - 4\u23a0\u22c5\u212f   \u22c5sin(\u03b8)\n\u2500\u2500\u2500\u2500\u2500\u2500\u2500\u2500\u2500\u2500\u2500\u2500\u2500\u2500\u2500\u2500\u2500\u2500\u2500\u2500\u2500\u2500\u2500\u2500\u2500\u2500\u2500\u2500\u2500\u2500\u2500\u2500\u2500\u2500\n                 ___              \n             8\u22c5\u2572\u2571 \u03c0               "
      }
     ],
     "prompt_number": 19
    },
    {
     "cell_type": "code",
     "collapsed": false,
     "input": "Ylm(3, (1.5+I)/3.0, pi/6.0, 1.0).evalf()",
     "language": "python",
     "outputs": [
      {
       "output_type": "pyout",
       "png": "[encoded data removed]",
       "prompt_number": 24,
       "text": "\n                                                             0.5              \n0.469318037163628\u22c5(0.0779763116886809 - 0.0389578067739132\u22c5\u2148)   \u22c5(3.0441149281\n\n                          0.5                                                 \n2474 - 1.17504594726731\u22c5\u2148)   \u22c5assoc_legendre(3, 0.5 + 0.333333333333333\u22c5\u2148, cos\n\n                                                                              \n(0.166666666666667\u22c5\u03c0)) + 0.256389612231091\u22c5\u2148\u22c5(0.0779763116886809 - 0.038957806\n\n          0.5                                        0.5                      \n7739132\u22c5\u2148)   \u22c5(3.04411492812474 - 1.17504594726731\u22c5\u2148)   \u22c5assoc_legendre(3, 0.5\n\n                                                 \n + 0.333333333333333\u22c5\u2148, cos(0.166666666666667\u22c5\u03c0))"
      }
     ],
     "prompt_number": 24
    },
    {
     "cell_type": "code",
     "collapsed": false,
     "input": "Ylm(S(3)/2, S(1)/2, theta, phi)",
     "language": "python",
     "outputs": [
      {
       "output_type": "pyout",
       "png": "[encoded data removed]",
       "prompt_number": 25,
       "text": "\n       \u2148\u22c5\u03c6                                 \n       \u2500\u2500\u2500                                 \n  ___   2                                  \n\u2572\u2571 2 \u22c5\u212f   \u22c5assoc_legendre(3/2, 1/2, cos(\u03b8))\n\u2500\u2500\u2500\u2500\u2500\u2500\u2500\u2500\u2500\u2500\u2500\u2500\u2500\u2500\u2500\u2500\u2500\u2500\u2500\u2500\u2500\u2500\u2500\u2500\u2500\u2500\u2500\u2500\u2500\u2500\u2500\u2500\u2500\u2500\u2500\u2500\u2500\u2500\u2500\u2500\u2500\u2500\u2500\n                      ___                  \n                  2\u22c5\u2572\u2571 \u03c0                   "
      }
     ],
     "prompt_number": 25
    },
    {
     "cell_type": "code",
     "collapsed": false,
     "input": "expand_func(_, deep=True)",
     "language": "python",
     "outputs": [
      {
       "output_type": "pyout",
       "png": "[encoded data removed]",
       "prompt_number": 26,
       "text": "\n       \u2148\u22c5\u03c6                                 \n       \u2500\u2500\u2500                                 \n  ___   2                                  \n\u2572\u2571 2 \u22c5\u212f   \u22c5assoc_legendre(3/2, 1/2, cos(\u03b8))\n\u2500\u2500\u2500\u2500\u2500\u2500\u2500\u2500\u2500\u2500\u2500\u2500\u2500\u2500\u2500\u2500\u2500\u2500\u2500\u2500\u2500\u2500\u2500\u2500\u2500\u2500\u2500\u2500\u2500\u2500\u2500\u2500\u2500\u2500\u2500\u2500\u2500\u2500\u2500\u2500\u2500\u2500\u2500\n                      ___                  \n                  2\u22c5\u2572\u2571 \u03c0                   "
      }
     ],
     "prompt_number": 26
    },
    {
     "cell_type": "code",
     "collapsed": false,
     "input": "simplify(_)",
     "language": "python",
     "outputs": [
      {
       "output_type": "pyout",
       "png": "[encoded data removed]",
       "prompt_number": 27,
       "text": "\n       \u2148\u22c5\u03c6                                 \n       \u2500\u2500\u2500                                 \n  ___   2                                  \n\u2572\u2571 2 \u22c5\u212f   \u22c5assoc_legendre(3/2, 1/2, cos(\u03b8))\n\u2500\u2500\u2500\u2500\u2500\u2500\u2500\u2500\u2500\u2500\u2500\u2500\u2500\u2500\u2500\u2500\u2500\u2500\u2500\u2500\u2500\u2500\u2500\u2500\u2500\u2500\u2500\u2500\u2500\u2500\u2500\u2500\u2500\u2500\u2500\u2500\u2500\u2500\u2500\u2500\u2500\u2500\u2500\n                      ___                  \n                  2\u22c5\u2572\u2571 \u03c0                   "
      }
     ],
     "prompt_number": 27
    },
    {
     "cell_type": "code",
     "collapsed": true,
     "input": "",
     "language": "python",
     "outputs": []
    }
   ]
  }
 ]
}